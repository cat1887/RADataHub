{
 "cells": [
  {
   "cell_type": "code",
   "execution_count": 3,
   "metadata": {},
   "outputs": [],
   "source": [
    "import pandas as pd, altair as alt, country_converter as coco, json"
   ]
  },
  {
   "cell_type": "code",
   "execution_count": 4,
   "metadata": {},
   "outputs": [],
   "source": [
    "# import data from eurostat and unpackage from gzip compression\n",
    "df = pd.read_csv('raw_data/ttr00003_page_linear.csv.gz', compression='gzip')"
   ]
  },
  {
   "cell_type": "code",
   "execution_count": 5,
   "metadata": {},
   "outputs": [
    {
     "name": "stderr",
     "output_type": "stream",
     "text": [
      "EL not found in ISO2\n",
      "EL not found in ISO2\n",
      "EL not found in ISO2\n",
      "EL not found in ISO2\n",
      "EL not found in ISO2\n",
      "EL not found in ISO2\n",
      "EL not found in ISO2\n",
      "EL not found in ISO2\n",
      "EL not found in ISO2\n",
      "EL not found in ISO2\n",
      "EL not found in ISO2\n",
      "EL not found in ISO2\n"
     ]
    }
   ],
   "source": [
    "# Convert country codes to country names\n",
    "df['country'] = coco.convert(names=df['geo'], to='name_short', not_found=None)"
   ]
  },
  {
   "cell_type": "code",
   "execution_count": 6,
   "metadata": {},
   "outputs": [],
   "source": [
    "# Drop `EL`\n",
    "df = df[df['country'].notna()]\n",
    "\n",
    "df.nunique()"
   ]
  },
  {
   "cell_type": "code",
   "execution_count": 7,
   "metadata": {},
   "outputs": [],
   "source": [
    "# Drop unnecessary columns\n",
    "df.drop(columns=['DATAFLOW', 'LAST UPDATE', 'freq', 'unit', 'tra_infr', 'n_tracks', 'OBS_FLAG'], inplace=True)"
   ]
  },
  {
   "cell_type": "code",
   "execution_count": 8,
   "metadata": {},
   "outputs": [
    {
     "name": "stderr",
     "output_type": "stream",
     "text": [
      "/var/folders/6p/njxvnljx3b36_1d566nq5mjh0000gn/T/ipykernel_28906/3521809868.py:2: FutureWarning: The default value of numeric_only in DataFrameGroupBy.mean is deprecated. In a future version, numeric_only will default to False. Either specify numeric_only or select only columns which should be valid for the function.\n",
      "  df_subset = df.groupby('country').mean().reset_index().sort_values('OBS_VALUE', ascending=False)\n"
     ]
    },
    {
     "data": {
      "text/html": [
       "<div>\n",
       "<style scoped>\n",
       "    .dataframe tbody tr th:only-of-type {\n",
       "        vertical-align: middle;\n",
       "    }\n",
       "\n",
       "    .dataframe tbody tr th {\n",
       "        vertical-align: top;\n",
       "    }\n",
       "\n",
       "    .dataframe thead th {\n",
       "        text-align: right;\n",
       "    }\n",
       "</style>\n",
       "<table border=\"1\" class=\"dataframe\">\n",
       "  <thead>\n",
       "    <tr style=\"text-align: right;\">\n",
       "      <th></th>\n",
       "      <th>country</th>\n",
       "      <th>TIME_PERIOD</th>\n",
       "      <th>OBS_VALUE</th>\n",
       "    </tr>\n",
       "  </thead>\n",
       "  <tbody>\n",
       "    <tr>\n",
       "      <th>13</th>\n",
       "      <td>Germany</td>\n",
       "      <td>2015.500000</td>\n",
       "      <td>38447.000000</td>\n",
       "    </tr>\n",
       "    <tr>\n",
       "      <th>11</th>\n",
       "      <td>France</td>\n",
       "      <td>2015.500000</td>\n",
       "      <td>28801.030583</td>\n",
       "    </tr>\n",
       "    <tr>\n",
       "      <th>36</th>\n",
       "      <td>Ukraine</td>\n",
       "      <td>2016.000000</td>\n",
       "      <td>20578.000000</td>\n",
       "    </tr>\n",
       "    <tr>\n",
       "      <th>26</th>\n",
       "      <td>Poland</td>\n",
       "      <td>2015.500000</td>\n",
       "      <td>19492.916667</td>\n",
       "    </tr>\n",
       "    <tr>\n",
       "      <th>16</th>\n",
       "      <td>Italy</td>\n",
       "      <td>2015.500000</td>\n",
       "      <td>16759.916667</td>\n",
       "    </tr>\n",
       "    <tr>\n",
       "      <th>37</th>\n",
       "      <td>United Kingdom</td>\n",
       "      <td>2015.909091</td>\n",
       "      <td>16238.000000</td>\n",
       "    </tr>\n",
       "    <tr>\n",
       "      <th>32</th>\n",
       "      <td>Spain</td>\n",
       "      <td>2015.500000</td>\n",
       "      <td>15303.236667</td>\n",
       "    </tr>\n",
       "    <tr>\n",
       "      <th>33</th>\n",
       "      <td>Sweden</td>\n",
       "      <td>2015.500000</td>\n",
       "      <td>10969.166667</td>\n",
       "    </tr>\n",
       "    <tr>\n",
       "      <th>28</th>\n",
       "      <td>Romania</td>\n",
       "      <td>2015.500000</td>\n",
       "      <td>10771.583333</td>\n",
       "    </tr>\n",
       "    <tr>\n",
       "      <th>35</th>\n",
       "      <td>Türkiye</td>\n",
       "      <td>2014.500000</td>\n",
       "      <td>9984.500000</td>\n",
       "    </tr>\n",
       "  </tbody>\n",
       "</table>\n",
       "</div>"
      ],
      "text/plain": [
       "           country  TIME_PERIOD     OBS_VALUE\n",
       "13         Germany  2015.500000  38447.000000\n",
       "11          France  2015.500000  28801.030583\n",
       "36         Ukraine  2016.000000  20578.000000\n",
       "26          Poland  2015.500000  19492.916667\n",
       "16           Italy  2015.500000  16759.916667\n",
       "37  United Kingdom  2015.909091  16238.000000\n",
       "32           Spain  2015.500000  15303.236667\n",
       "33          Sweden  2015.500000  10969.166667\n",
       "28         Romania  2015.500000  10771.583333\n",
       "35         Türkiye  2014.500000   9984.500000"
      ]
     },
     "execution_count": 8,
     "metadata": {},
     "output_type": "execute_result"
    }
   ],
   "source": [
    "# group by country and rank countries by highest average `OBS_VALUE`\n",
    "df_subset = df.groupby('country').mean().reset_index().sort_values('OBS_VALUE', ascending=False)\n",
    "df_subset.head(10)"
   ]
  },
  {
   "cell_type": "code",
   "execution_count": 9,
   "metadata": {},
   "outputs": [],
   "source": [
    "# keep only Germany, France, Ukraine, Poland, Italy, UK, Spain\n",
    "countries = ['Germany', 'France', 'Ukraine', 'Poland', 'Italy', 'United Kingdom', 'Spain']\n",
    "df = df[df['country'].isin(countries)]"
   ]
  },
  {
   "cell_type": "code",
   "execution_count": 10,
   "metadata": {},
   "outputs": [
    {
     "name": "stdout",
     "output_type": "stream",
     "text": [
      "<class 'pandas.core.frame.DataFrame'>\n",
      "Int64Index: 80 entries, 81 to 421\n",
      "Data columns (total 4 columns):\n",
      " #   Column       Non-Null Count  Dtype  \n",
      "---  ------       --------------  -----  \n",
      " 0   geo          80 non-null     object \n",
      " 1   TIME_PERIOD  80 non-null     int64  \n",
      " 2   OBS_VALUE    80 non-null     float64\n",
      " 3   country      80 non-null     object \n",
      "dtypes: float64(1), int64(1), object(2)\n",
      "memory usage: 3.1+ KB\n"
     ]
    }
   ],
   "source": [
    "df.info()"
   ]
  },
  {
   "cell_type": "code",
   "execution_count": 11,
   "metadata": {},
   "outputs": [],
   "source": [
    "df = df.drop(columns=['geo'])\n",
    "\n",
    "df.columns = ['date', 'value', 'country']\n",
    "# convert date to datetime for year\n",
    "df['date'] = pd.to_datetime(df['date'], format='%Y')\n",
    "\n",
    "# reorder columns to `country`, `date`, `value`\n",
    "df = df[['country', 'date', 'value']]"
   ]
  },
  {
   "cell_type": "markdown",
   "metadata": {},
   "source": [
    "---"
   ]
  },
  {
   "cell_type": "markdown",
   "metadata": {},
   "source": [
    "Read in historical railroad length dataset from excel file."
   ]
  },
  {
   "cell_type": "code",
   "execution_count": 12,
   "metadata": {},
   "outputs": [],
   "source": [
    "df_pre2013 = pd.read_excel('raw_data/hbu_railroadlines.xls', sheet_name='sheet1', skiprows=4)"
   ]
  },
  {
   "cell_type": "code",
   "execution_count": 13,
   "metadata": {},
   "outputs": [],
   "source": [
    "# keep only subset countries\n",
    "df_pre2013 = df_pre2013[df_pre2013['country'].isin(countries)].reset_index(drop=True)\n",
    "\n",
    "# drop column\n",
    "df_pre2013 = df_pre2013.drop(columns=['objectid'])\n",
    "\n",
    "# rename columns\n",
    "df_pre2013.columns = ['country', 'date', 'value']\n",
    "\n",
    "# convert date to datetime for year\n",
    "df_pre2013['date'] = pd.to_datetime(df_pre2013['date'], format='%Y')"
   ]
  },
  {
   "cell_type": "code",
   "execution_count": 14,
   "metadata": {},
   "outputs": [],
   "source": [
    "df_pre2010 = df_pre2013[df_pre2013['date'] < '2010-01-01']"
   ]
  },
  {
   "cell_type": "code",
   "execution_count": 15,
   "metadata": {},
   "outputs": [
    {
     "name": "stdout",
     "output_type": "stream",
     "text": [
      "            country       date    value\n",
      "170  United Kingdom 1995-01-01  16914.0\n",
      "176  United Kingdom 2000-01-01  16878.0\n",
      "182  United Kingdom 2005-01-01  16959.0\n",
      "            country       date    value\n",
      "411  United Kingdom 2010-01-01  15884.0\n",
      "412  United Kingdom 2012-01-01  16195.0\n",
      "413  United Kingdom 2013-01-01  16195.0\n"
     ]
    }
   ],
   "source": [
    "print(df_pre2013[df_pre2013['country'] == 'United Kingdom'].tail(3))\n",
    "\n",
    "print(df[df['country'] == 'United Kingdom'].head(3))"
   ]
  },
  {
   "cell_type": "markdown",
   "metadata": {},
   "source": [
    "After 1945, Germany data is split between West Germany and East Germany. \n",
    "\n",
    "Let's combine them together."
   ]
  },
  {
   "cell_type": "code",
   "execution_count": 16,
   "metadata": {},
   "outputs": [],
   "source": [
    "df_deu = pd.read_excel('raw_data/hbu_railroadlines.xls', sheet_name='sheet1', skiprows=4)\n",
    "# Filter to only West & East Germany\n",
    "deu = df_deu[(df_deu['country'] == 'West Germany') | (df_deu['country'] == 'East Germany')]"
   ]
  },
  {
   "cell_type": "code",
   "execution_count": 17,
   "metadata": {},
   "outputs": [
    {
     "name": "stderr",
     "output_type": "stream",
     "text": [
      "/var/folders/6p/njxvnljx3b36_1d566nq5mjh0000gn/T/ipykernel_28906/2712265605.py:1: SettingWithCopyWarning: \n",
      "A value is trying to be set on a copy of a slice from a DataFrame.\n",
      "Try using .loc[row_indexer,col_indexer] = value instead\n",
      "\n",
      "See the caveats in the documentation: https://pandas.pydata.org/pandas-docs/stable/user_guide/indexing.html#returning-a-view-versus-a-copy\n",
      "  deu['Country'] = 'Germany'\n"
     ]
    }
   ],
   "source": [
    "deu['Country'] = 'Germany'"
   ]
  },
  {
   "cell_type": "code",
   "execution_count": 18,
   "metadata": {},
   "outputs": [
    {
     "name": "stderr",
     "output_type": "stream",
     "text": [
      "/var/folders/6p/njxvnljx3b36_1d566nq5mjh0000gn/T/ipykernel_28906/3901018654.py:2: FutureWarning: The default value of numeric_only in DataFrameGroupBy.sum is deprecated. In a future version, numeric_only will default to False. Either specify numeric_only or select only columns which should be valid for the function.\n",
      "  deu = deu.groupby(['Country', 'year']).sum().reset_index()\n"
     ]
    }
   ],
   "source": [
    "# group by year and sum\n",
    "deu = deu.groupby(['Country', 'year']).sum().reset_index()\n",
    "deu.drop(columns=['objectid'], inplace=True)"
   ]
  },
  {
   "cell_type": "code",
   "execution_count": 19,
   "metadata": {},
   "outputs": [],
   "source": [
    "deu.columns = ['country', 'date', 'value']\n",
    "# convert date to datetime for year\n",
    "deu['date'] = pd.to_datetime(deu['date'], format='%Y')"
   ]
  },
  {
   "cell_type": "markdown",
   "metadata": {},
   "source": [
    "---"
   ]
  },
  {
   "cell_type": "markdown",
   "metadata": {},
   "source": [
    "Combine"
   ]
  },
  {
   "cell_type": "code",
   "execution_count": 20,
   "metadata": {},
   "outputs": [],
   "source": [
    "# combine dataframes\n",
    "df_main = pd.concat([df_pre2010, df], ignore_index=True)\n",
    "\n",
    "# add in East + West Germany \n",
    "df_main = pd.concat([df_main, deu], ignore_index=True)"
   ]
  },
  {
   "cell_type": "code",
   "execution_count": 21,
   "metadata": {},
   "outputs": [],
   "source": [
    "# add China\n",
    "df_chn = pd.read_csv('raw_data/china.csv')\n",
    "df_chn['country'] = 'China'\n",
    "# reorder columns to `country`, `date`, `value`\n",
    "df_chn = df_chn[['country', 'date', 'value']]\n",
    "# convert date to datetime for year\n",
    "df_chn['date'] = pd.to_datetime(df_chn['date'], format='%Y')\n",
    "\n",
    "# combine dataframes\n",
    "df_main = pd.concat([df_main, df_chn], ignore_index=True)\n",
    "\n",
    "# convert datetime to string for yyyy-mm-dd\n",
    "df_main['date'] = df_main['date'].dt.strftime('%Y-%m-%d')"
   ]
  },
  {
   "cell_type": "code",
   "execution_count": 22,
   "metadata": {},
   "outputs": [
    {
     "data": {
      "text/html": [
       "<div>\n",
       "<style scoped>\n",
       "    .dataframe tbody tr th:only-of-type {\n",
       "        vertical-align: middle;\n",
       "    }\n",
       "\n",
       "    .dataframe tbody tr th {\n",
       "        vertical-align: top;\n",
       "    }\n",
       "\n",
       "    .dataframe thead th {\n",
       "        text-align: right;\n",
       "    }\n",
       "</style>\n",
       "<table border=\"1\" class=\"dataframe\">\n",
       "  <thead>\n",
       "    <tr style=\"text-align: right;\">\n",
       "      <th></th>\n",
       "      <th>country</th>\n",
       "      <th>date</th>\n",
       "      <th>value</th>\n",
       "    </tr>\n",
       "  </thead>\n",
       "  <tbody>\n",
       "    <tr>\n",
       "      <th>0</th>\n",
       "      <td>United Kingdom</td>\n",
       "      <td>1825-01-01</td>\n",
       "      <td>43.0</td>\n",
       "    </tr>\n",
       "    <tr>\n",
       "      <th>1</th>\n",
       "      <td>France</td>\n",
       "      <td>1830-01-01</td>\n",
       "      <td>31.0</td>\n",
       "    </tr>\n",
       "    <tr>\n",
       "      <th>2</th>\n",
       "      <td>United Kingdom</td>\n",
       "      <td>1830-01-01</td>\n",
       "      <td>157.0</td>\n",
       "    </tr>\n",
       "    <tr>\n",
       "      <th>3</th>\n",
       "      <td>France</td>\n",
       "      <td>1835-01-01</td>\n",
       "      <td>141.0</td>\n",
       "    </tr>\n",
       "    <tr>\n",
       "      <th>4</th>\n",
       "      <td>Germany</td>\n",
       "      <td>1835-01-01</td>\n",
       "      <td>6.0</td>\n",
       "    </tr>\n",
       "    <tr>\n",
       "      <th>...</th>\n",
       "      <td>...</td>\n",
       "      <td>...</td>\n",
       "      <td>...</td>\n",
       "    </tr>\n",
       "    <tr>\n",
       "      <th>315</th>\n",
       "      <td>China</td>\n",
       "      <td>2018-01-01</td>\n",
       "      <td>131651.0</td>\n",
       "    </tr>\n",
       "    <tr>\n",
       "      <th>316</th>\n",
       "      <td>China</td>\n",
       "      <td>2019-01-01</td>\n",
       "      <td>139926.0</td>\n",
       "    </tr>\n",
       "    <tr>\n",
       "      <th>317</th>\n",
       "      <td>China</td>\n",
       "      <td>2020-01-01</td>\n",
       "      <td>146330.0</td>\n",
       "    </tr>\n",
       "    <tr>\n",
       "      <th>318</th>\n",
       "      <td>China</td>\n",
       "      <td>2021-01-01</td>\n",
       "      <td>150739.0</td>\n",
       "    </tr>\n",
       "    <tr>\n",
       "      <th>319</th>\n",
       "      <td>China</td>\n",
       "      <td>2022-01-01</td>\n",
       "      <td>154907.0</td>\n",
       "    </tr>\n",
       "  </tbody>\n",
       "</table>\n",
       "<p>320 rows × 3 columns</p>\n",
       "</div>"
      ],
      "text/plain": [
       "            country        date     value\n",
       "0    United Kingdom  1825-01-01      43.0\n",
       "1            France  1830-01-01      31.0\n",
       "2    United Kingdom  1830-01-01     157.0\n",
       "3            France  1835-01-01     141.0\n",
       "4           Germany  1835-01-01       6.0\n",
       "..              ...         ...       ...\n",
       "315           China  2018-01-01  131651.0\n",
       "316           China  2019-01-01  139926.0\n",
       "317           China  2020-01-01  146330.0\n",
       "318           China  2021-01-01  150739.0\n",
       "319           China  2022-01-01  154907.0\n",
       "\n",
       "[320 rows x 3 columns]"
      ]
     },
     "execution_count": 22,
     "metadata": {},
     "output_type": "execute_result"
    }
   ],
   "source": [
    "df_main"
   ]
  },
  {
   "cell_type": "code",
   "execution_count": 23,
   "metadata": {},
   "outputs": [],
   "source": [
    "# explore Ukraine\n",
    "df_main[df_main['country'] == 'Ukraine']\n",
    "\n",
    "# has -999 value, this is likely in place of a missing value\n",
    "# let's remove any rows with this value\n",
    "df_main = df_main[df_main['value'] != -999]"
   ]
  },
  {
   "cell_type": "markdown",
   "metadata": {},
   "source": [
    "---"
   ]
  },
  {
   "cell_type": "markdown",
   "metadata": {},
   "source": [
    "Build chart"
   ]
  },
  {
   "cell_type": "markdown",
   "metadata": {},
   "source": [
    "Template Design"
   ]
  },
  {
   "cell_type": "code",
   "execution_count": 24,
   "metadata": {},
   "outputs": [
    {
     "ename": "SyntaxError",
     "evalue": "invalid syntax (4126045055.py, line 2)",
     "output_type": "error",
     "traceback": [
      "\u001b[0;36m  Cell \u001b[0;32mIn[24], line 2\u001b[0;36m\u001b[0m\n\u001b[0;31m    .configure_axisX(\u001b[0m\n\u001b[0m    ^\u001b[0m\n\u001b[0;31mSyntaxError\u001b[0m\u001b[0;31m:\u001b[0m invalid syntax\n"
     ]
    }
   ],
   "source": [
    "# convert from vega-lite spec to altair spec\n",
    ".configure_axisX(\n",
    "    domainColor='#b4c8d8',\n",
    "    domainOpacity=0.5,\n",
    "    grid=False,\n",
    "    labelAngle=0,\n",
    "    labelColor='#b4c8d8',\n",
    "    labelOpacity=0.7,\n",
    "    tickColor='#b4c8d8',\n",
    "    tickCount=10,\n",
    "    tickOpacity=0.5,\n",
    "    title='',\n",
    "    titleAlign='center',\n",
    "    titleAnchor='middle',\n",
    "    titleColor='#b4c8d8',\n",
    "    titleFontSize=12,\n",
    "    titleOpacity=0.8,\n",
    "    titleX=207,\n",
    "    titleY=-15\n",
    ").configure_axisY(\n",
    "    domainColor='#b4c8d8',\n",
    "    domainOpacity=0.5,\n",
    "    gridColor='#b4c8d8',\n",
    "    gridDash=[1, 5],\n",
    "    gridOpacity=0.5,\n",
    "    labelColor='#b4c8d8',\n",
    "    labelOpacity=0.7,\n",
    "    labelPadding=5,\n",
    "    tickColor='#b4c8d8',\n",
    "    tickCount=8,\n",
    "    tickOpacity=0.5,\n",
    "    ticks=False,\n",
    "    title='Ages 16 and over, % | Source: FRED through ECO API',\n",
    "    titleAlign='left',\n",
    "    titleAngle=0,\n",
    "    titleBaseline='bottom',\n",
    "    titleColor='#b4c8d8',\n",
    "    titleFontSize=12,\n",
    "    titleOpacity=0.8,\n",
    "    titleX=0,\n",
    "    titleY=-7\n",
    ")"
   ]
  },
  {
   "cell_type": "code",
   "execution_count": 25,
   "metadata": {},
   "outputs": [
    {
     "data": {
      "text/html": [
       "<div>\n",
       "<style scoped>\n",
       "    .dataframe tbody tr th:only-of-type {\n",
       "        vertical-align: middle;\n",
       "    }\n",
       "\n",
       "    .dataframe tbody tr th {\n",
       "        vertical-align: top;\n",
       "    }\n",
       "\n",
       "    .dataframe thead th {\n",
       "        text-align: right;\n",
       "    }\n",
       "</style>\n",
       "<table border=\"1\" class=\"dataframe\">\n",
       "  <thead>\n",
       "    <tr style=\"text-align: right;\">\n",
       "      <th></th>\n",
       "      <th>country</th>\n",
       "      <th>date</th>\n",
       "      <th>value</th>\n",
       "    </tr>\n",
       "  </thead>\n",
       "  <tbody>\n",
       "    <tr>\n",
       "      <th>0</th>\n",
       "      <td>France</td>\n",
       "      <td>2021-01-01</td>\n",
       "      <td>27057.00</td>\n",
       "    </tr>\n",
       "    <tr>\n",
       "      <th>1</th>\n",
       "      <td>Germany</td>\n",
       "      <td>2021-01-01</td>\n",
       "      <td>39799.00</td>\n",
       "    </tr>\n",
       "    <tr>\n",
       "      <th>2</th>\n",
       "      <td>Italy</td>\n",
       "      <td>2021-01-01</td>\n",
       "      <td>16832.00</td>\n",
       "    </tr>\n",
       "    <tr>\n",
       "      <th>3</th>\n",
       "      <td>Poland</td>\n",
       "      <td>2021-01-01</td>\n",
       "      <td>19287.00</td>\n",
       "    </tr>\n",
       "    <tr>\n",
       "      <th>4</th>\n",
       "      <td>Spain</td>\n",
       "      <td>2021-01-01</td>\n",
       "      <td>16280.46</td>\n",
       "    </tr>\n",
       "    <tr>\n",
       "      <th>5</th>\n",
       "      <td>United Kingdom</td>\n",
       "      <td>2021-01-01</td>\n",
       "      <td>16316.00</td>\n",
       "    </tr>\n",
       "  </tbody>\n",
       "</table>\n",
       "</div>"
      ],
      "text/plain": [
       "          country        date     value\n",
       "0          France  2021-01-01  27057.00\n",
       "1         Germany  2021-01-01  39799.00\n",
       "2           Italy  2021-01-01  16832.00\n",
       "3          Poland  2021-01-01  19287.00\n",
       "4           Spain  2021-01-01  16280.46\n",
       "5  United Kingdom  2021-01-01  16316.00"
      ]
     },
     "execution_count": 25,
     "metadata": {},
     "output_type": "execute_result"
    }
   ],
   "source": [
    "# remove Ukraine\n",
    "df_main = df_main[df_main['country'] != 'Ukraine']\n",
    "# remove post 2021\n",
    "df_main = df_main[df_main['date'] <= '2021-01-01']\n",
    "# sort by date then by country\n",
    "df_main = df_main.sort_values(['date', 'country'], ascending=[True, True]).reset_index(drop=True)\n",
    "\n",
    "# remove China\n",
    "df_main = df_main[df_main['country'] != 'China']\n",
    "df_recent = df_main.groupby('country').tail(1).reset_index(drop=True)\n",
    "df_recent"
   ]
  },
  {
   "cell_type": "code",
   "execution_count": 38,
   "metadata": {},
   "outputs": [
    {
     "data": {
      "text/html": [
       "\n",
       "<style>\n",
       "  #altair-viz-63a93faf28754680be68ba3b835bffb7.vega-embed {\n",
       "    width: 100%;\n",
       "    display: flex;\n",
       "  }\n",
       "\n",
       "  #altair-viz-63a93faf28754680be68ba3b835bffb7.vega-embed details,\n",
       "  #altair-viz-63a93faf28754680be68ba3b835bffb7.vega-embed details summary {\n",
       "    position: relative;\n",
       "  }\n",
       "</style>\n",
       "<div id=\"altair-viz-63a93faf28754680be68ba3b835bffb7\"></div>\n",
       "<script type=\"text/javascript\">\n",
       "  var VEGA_DEBUG = (typeof VEGA_DEBUG == \"undefined\") ? {} : VEGA_DEBUG;\n",
       "  (function(spec, embedOpt){\n",
       "    let outputDiv = document.currentScript.previousElementSibling;\n",
       "    if (outputDiv.id !== \"altair-viz-63a93faf28754680be68ba3b835bffb7\") {\n",
       "      outputDiv = document.getElementById(\"altair-viz-63a93faf28754680be68ba3b835bffb7\");\n",
       "    }\n",
       "    const paths = {\n",
       "      \"vega\": \"https://cdn.jsdelivr.net/npm/vega@5?noext\",\n",
       "      \"vega-lib\": \"https://cdn.jsdelivr.net/npm/vega-lib?noext\",\n",
       "      \"vega-lite\": \"https://cdn.jsdelivr.net/npm/vega-lite@5.8.0?noext\",\n",
       "      \"vega-embed\": \"https://cdn.jsdelivr.net/npm/vega-embed@6?noext\",\n",
       "    };\n",
       "\n",
       "    function maybeLoadScript(lib, version) {\n",
       "      var key = `${lib.replace(\"-\", \"\")}_version`;\n",
       "      return (VEGA_DEBUG[key] == version) ?\n",
       "        Promise.resolve(paths[lib]) :\n",
       "        new Promise(function(resolve, reject) {\n",
       "          var s = document.createElement('script');\n",
       "          document.getElementsByTagName(\"head\")[0].appendChild(s);\n",
       "          s.async = true;\n",
       "          s.onload = () => {\n",
       "            VEGA_DEBUG[key] = version;\n",
       "            return resolve(paths[lib]);\n",
       "          };\n",
       "          s.onerror = () => reject(`Error loading script: ${paths[lib]}`);\n",
       "          s.src = paths[lib];\n",
       "        });\n",
       "    }\n",
       "\n",
       "    function showError(err) {\n",
       "      outputDiv.innerHTML = `<div class=\"error\" style=\"color:red;\">${err}</div>`;\n",
       "      throw err;\n",
       "    }\n",
       "\n",
       "    function displayChart(vegaEmbed) {\n",
       "      vegaEmbed(outputDiv, spec, embedOpt)\n",
       "        .catch(err => showError(`Javascript Error: ${err.message}<br>This usually means there's a typo in your chart specification. See the javascript console for the full traceback.`));\n",
       "    }\n",
       "\n",
       "    if(typeof define === \"function\" && define.amd) {\n",
       "      requirejs.config({paths});\n",
       "      require([\"vega-embed\"], displayChart, err => showError(`Error loading script: ${err.message}`));\n",
       "    } else {\n",
       "      maybeLoadScript(\"vega\", \"5\")\n",
       "        .then(() => maybeLoadScript(\"vega-lite\", \"5.8.0\"))\n",
       "        .then(() => maybeLoadScript(\"vega-embed\", \"6\"))\n",
       "        .catch(showError)\n",
       "        .then(() => displayChart(vegaEmbed));\n",
       "    }\n",
       "  })({\"config\": {\"view\": {\"continuousWidth\": 300, \"continuousHeight\": 300, \"stroke\": null}, \"font\": \"Circular Std\", \"title\": {\"anchor\": \"start\", \"baseline\": \"top\", \"color\": \"#122b39\", \"dx\": 33, \"fontSize\": 14, \"subtitleColor\": \"#000000\", \"subtitleFontSize\": 12}}, \"data\": {\"name\": \"data-292bc72e6d349caa2e23714e909c3e24\"}, \"mark\": {\"type\": \"line\", \"interpolate\": \"monotone\", \"point\": \"transparent\"}, \"encoding\": {\"color\": {\"field\": \"country\", \"legend\": {\"labelColor\": \"#122b39\", \"labelFontSize\": 11, \"orient\": \"top-left\", \"symbolSize\": 50, \"title\": null, \"titleColor\": \"#122b39\"}, \"type\": \"nominal\"}, \"x\": {\"axis\": {\"domainColor\": \"#122b39\", \"domainOpacity\": 0.5, \"grid\": false, \"labelAngle\": 0, \"labelColor\": \"#122b39\", \"tickColor\": \"#122b39\", \"tickCount\": 10, \"tickOpacity\": 0.5, \"title\": null}, \"field\": \"date\", \"type\": \"temporal\"}, \"y\": {\"axis\": {\"domainColor\": \"#122b39\", \"gridColor\": \"#122b39\", \"gridDash\": [1, 5], \"gridOpacity\": 0.5, \"labelColor\": \"#122b39\", \"labelPadding\": 5, \"tickColor\": \"#122b39\", \"tickCount\": 8, \"tickOpacity\": 0.5, \"ticks\": false, \"title\": \"Total active railway track, km | Source: Eurostat & B.Mitchell (2007)\", \"titleAlign\": \"left\", \"titleAngle\": 0, \"titleBaseline\": \"bottom\", \"titleColor\": \"#122b39\", \"titleFontSize\": 12, \"titleOpacity\": 0.9, \"titleX\": 0, \"titleY\": -7}, \"field\": \"value\", \"type\": \"quantitative\"}}, \"height\": 300, \"title\": \"Railway Across Europe\", \"transform\": [{\"calculate\": \"year(datum.date)\", \"as\": \"year\"}, {\"filter\": \"(datum.country !== 'China')\"}], \"width\": 400, \"$schema\": \"https://vega.github.io/schema/vega-lite/v5.8.0.json\", \"datasets\": {\"data-292bc72e6d349caa2e23714e909c3e24\": [{\"country\": \"United Kingdom\", \"date\": \"1825-01-01\", \"value\": 43.0}, {\"country\": \"France\", \"date\": \"1830-01-01\", \"value\": 31.0}, {\"country\": \"United Kingdom\", \"date\": \"1830-01-01\", \"value\": 157.0}, {\"country\": \"France\", \"date\": \"1835-01-01\", \"value\": 141.0}, {\"country\": \"Germany\", \"date\": \"1835-01-01\", \"value\": 6.0}, {\"country\": \"United Kingdom\", \"date\": \"1835-01-01\", \"value\": 544.0}, {\"country\": \"France\", \"date\": \"1840-01-01\", \"value\": 410.0}, {\"country\": \"Germany\", \"date\": \"1840-01-01\", \"value\": 469.0}, {\"country\": \"Italy\", \"date\": \"1840-01-01\", \"value\": 20.0}, {\"country\": \"United Kingdom\", \"date\": \"1840-01-01\", \"value\": 2390.0}, {\"country\": \"France\", \"date\": \"1845-01-01\", \"value\": 875.0}, {\"country\": \"Germany\", \"date\": \"1845-01-01\", \"value\": 2143.0}, {\"country\": \"Italy\", \"date\": \"1845-01-01\", \"value\": 152.0}, {\"country\": \"United Kingdom\", \"date\": \"1845-01-01\", \"value\": 3931.0}, {\"country\": \"France\", \"date\": \"1850-01-01\", \"value\": 2915.0}, {\"country\": \"Germany\", \"date\": \"1850-01-01\", \"value\": 5856.0}, {\"country\": \"Italy\", \"date\": \"1850-01-01\", \"value\": 620.0}, {\"country\": \"Spain\", \"date\": \"1850-01-01\", \"value\": 28.0}, {\"country\": \"United Kingdom\", \"date\": \"1850-01-01\", \"value\": 9797.0}, {\"country\": \"France\", \"date\": \"1855-01-01\", \"value\": 5037.0}, {\"country\": \"Germany\", \"date\": \"1855-01-01\", \"value\": 7826.0}, {\"country\": \"Italy\", \"date\": \"1855-01-01\", \"value\": 1207.0}, {\"country\": \"Spain\", \"date\": \"1855-01-01\", \"value\": 440.0}, {\"country\": \"United Kingdom\", \"date\": \"1855-01-01\", \"value\": 11744.0}, {\"country\": \"France\", \"date\": \"1860-01-01\", \"value\": 9167.0}, {\"country\": \"Germany\", \"date\": \"1860-01-01\", \"value\": 11089.0}, {\"country\": \"Italy\", \"date\": \"1860-01-01\", \"value\": 2404.0}, {\"country\": \"Spain\", \"date\": \"1860-01-01\", \"value\": 1885.0}, {\"country\": \"United Kingdom\", \"date\": \"1860-01-01\", \"value\": 14603.0}, {\"country\": \"France\", \"date\": \"1865-01-01\", \"value\": 13227.0}, {\"country\": \"Germany\", \"date\": \"1865-01-01\", \"value\": 13900.0}, {\"country\": \"Italy\", \"date\": \"1865-01-01\", \"value\": 4591.0}, {\"country\": \"Spain\", \"date\": \"1865-01-01\", \"value\": 4832.0}, {\"country\": \"United Kingdom\", \"date\": \"1865-01-01\", \"value\": 18439.0}, {\"country\": \"France\", \"date\": \"1870-01-01\", \"value\": 15544.0}, {\"country\": \"Germany\", \"date\": \"1870-01-01\", \"value\": 18876.0}, {\"country\": \"Italy\", \"date\": \"1870-01-01\", \"value\": 6429.0}, {\"country\": \"Spain\", \"date\": \"1870-01-01\", \"value\": 5454.0}, {\"country\": \"United Kingdom\", \"date\": \"1870-01-01\", \"value\": 21558.0}, {\"country\": \"France\", \"date\": \"1875-01-01\", \"value\": 19357.0}, {\"country\": \"Germany\", \"date\": \"1875-01-01\", \"value\": 27970.0}, {\"country\": \"Italy\", \"date\": \"1875-01-01\", \"value\": 8018.0}, {\"country\": \"Spain\", \"date\": \"1875-01-01\", \"value\": 6094.0}, {\"country\": \"United Kingdom\", \"date\": \"1875-01-01\", \"value\": 23865.0}, {\"country\": \"France\", \"date\": \"1880-01-01\", \"value\": 23089.0}, {\"country\": \"Germany\", \"date\": \"1880-01-01\", \"value\": 33838.0}, {\"country\": \"Italy\", \"date\": \"1880-01-01\", \"value\": 9290.0}, {\"country\": \"Spain\", \"date\": \"1880-01-01\", \"value\": 7491.0}, {\"country\": \"United Kingdom\", \"date\": \"1880-01-01\", \"value\": 25060.0}, {\"country\": \"France\", \"date\": \"1885-01-01\", \"value\": 29839.0}, {\"country\": \"Germany\", \"date\": \"1885-01-01\", \"value\": 37571.0}, {\"country\": \"Italy\", \"date\": \"1885-01-01\", \"value\": 11003.0}, {\"country\": \"Spain\", \"date\": \"1885-01-01\", \"value\": 9007.0}, {\"country\": \"United Kingdom\", \"date\": \"1885-01-01\", \"value\": 26720.0}, {\"country\": \"France\", \"date\": \"1890-01-01\", \"value\": 33280.0}, {\"country\": \"Germany\", \"date\": \"1890-01-01\", \"value\": 42869.0}, {\"country\": \"Italy\", \"date\": \"1890-01-01\", \"value\": 13629.0}, {\"country\": \"Spain\", \"date\": \"1890-01-01\", \"value\": 10163.0}, {\"country\": \"United Kingdom\", \"date\": \"1890-01-01\", \"value\": 27827.0}, {\"country\": \"France\", \"date\": \"1895-01-01\", \"value\": 36240.0}, {\"country\": \"Germany\", \"date\": \"1895-01-01\", \"value\": 46500.0}, {\"country\": \"Italy\", \"date\": \"1895-01-01\", \"value\": 15970.0}, {\"country\": \"Spain\", \"date\": \"1895-01-01\", \"value\": 12612.0}, {\"country\": \"United Kingdom\", \"date\": \"1895-01-01\", \"value\": 28986.0}, {\"country\": \"France\", \"date\": \"1900-01-01\", \"value\": 38109.0}, {\"country\": \"Germany\", \"date\": \"1900-01-01\", \"value\": 51678.0}, {\"country\": \"Italy\", \"date\": \"1900-01-01\", \"value\": 16429.0}, {\"country\": \"Spain\", \"date\": \"1900-01-01\", \"value\": 13205.0}, {\"country\": \"United Kingdom\", \"date\": \"1900-01-01\", \"value\": 30079.0}, {\"country\": \"France\", \"date\": \"1905-01-01\", \"value\": 39607.0}, {\"country\": \"Germany\", \"date\": \"1905-01-01\", \"value\": 56739.0}, {\"country\": \"Italy\", \"date\": \"1905-01-01\", \"value\": 17078.0}, {\"country\": \"Spain\", \"date\": \"1905-01-01\", \"value\": 14037.0}, {\"country\": \"United Kingdom\", \"date\": \"1905-01-01\", \"value\": 31456.0}, {\"country\": \"France\", \"date\": \"1910-01-01\", \"value\": 40484.0}, {\"country\": \"Germany\", \"date\": \"1910-01-01\", \"value\": 61209.0}, {\"country\": \"Italy\", \"date\": \"1910-01-01\", \"value\": 18090.0}, {\"country\": \"Spain\", \"date\": \"1910-01-01\", \"value\": 14694.0}, {\"country\": \"United Kingdom\", \"date\": \"1910-01-01\", \"value\": 32184.0}, {\"country\": \"France\", \"date\": \"1915-01-01\", \"value\": 36400.0}, {\"country\": \"Germany\", \"date\": \"1915-01-01\", \"value\": 62091.0}, {\"country\": \"Italy\", \"date\": \"1915-01-01\", \"value\": 19652.0}, {\"country\": \"Spain\", \"date\": \"1915-01-01\", \"value\": 15671.0}, {\"country\": \"United Kingdom\", \"date\": \"1915-01-01\", \"value\": 32703.0}, {\"country\": \"France\", \"date\": \"1920-01-01\", \"value\": 38200.0}, {\"country\": \"Germany\", \"date\": \"1920-01-01\", \"value\": 57545.0}, {\"country\": \"Italy\", \"date\": \"1920-01-01\", \"value\": 20385.0}, {\"country\": \"Poland\", \"date\": \"1920-01-01\", \"value\": 13763.0}, {\"country\": \"Spain\", \"date\": \"1920-01-01\", \"value\": 16089.0}, {\"country\": \"United Kingdom\", \"date\": \"1920-01-01\", \"value\": 32707.0}, {\"country\": \"France\", \"date\": \"1925-01-01\", \"value\": 42100.0}, {\"country\": \"Germany\", \"date\": \"1925-01-01\", \"value\": 57716.0}, {\"country\": \"Italy\", \"date\": \"1925-01-01\", \"value\": 21106.0}, {\"country\": \"Poland\", \"date\": \"1925-01-01\", \"value\": 19281.0}, {\"country\": \"Spain\", \"date\": \"1925-01-01\", \"value\": 16540.0}, {\"country\": \"United Kingdom\", \"date\": \"1925-01-01\", \"value\": 32849.0}, {\"country\": \"France\", \"date\": \"1930-01-01\", \"value\": 42400.0}, {\"country\": \"Germany\", \"date\": \"1930-01-01\", \"value\": 58176.0}, {\"country\": \"Italy\", \"date\": \"1930-01-01\", \"value\": 22119.0}, {\"country\": \"Poland\", \"date\": \"1930-01-01\", \"value\": 19600.0}, {\"country\": \"Spain\", \"date\": \"1930-01-01\", \"value\": 17278.0}, {\"country\": \"United Kingdom\", \"date\": \"1930-01-01\", \"value\": 32632.0}, {\"country\": \"France\", \"date\": \"1935-01-01\", \"value\": 42600.0}, {\"country\": \"Germany\", \"date\": \"1935-01-01\", \"value\": 58841.0}, {\"country\": \"Italy\", \"date\": \"1935-01-01\", \"value\": 23046.0}, {\"country\": \"Poland\", \"date\": \"1935-01-01\", \"value\": 20085.0}, {\"country\": \"Spain\", \"date\": \"1935-01-01\", \"value\": 17437.0}, {\"country\": \"United Kingdom\", \"date\": \"1935-01-01\", \"value\": 32450.0}, {\"country\": \"France\", \"date\": \"1940-01-01\", \"value\": 40600.0}, {\"country\": \"Germany\", \"date\": \"1940-01-01\", \"value\": 58841.0}, {\"country\": \"Italy\", \"date\": \"1940-01-01\", \"value\": 22992.0}, {\"country\": \"Poland\", \"date\": \"1940-01-01\", \"value\": 21800.0}, {\"country\": \"Spain\", \"date\": \"1940-01-01\", \"value\": 17446.0}, {\"country\": \"United Kingdom\", \"date\": \"1940-01-01\", \"value\": 32094.0}, {\"country\": \"France\", \"date\": \"1945-01-01\", \"value\": 40500.0}, {\"country\": \"Germany\", \"date\": \"1945-01-01\", \"value\": 58841.0}, {\"country\": \"Italy\", \"date\": \"1945-01-01\", \"value\": 18655.0}, {\"country\": \"Poland\", \"date\": \"1945-01-01\", \"value\": 23218.0}, {\"country\": \"Spain\", \"date\": \"1945-01-01\", \"value\": 17930.0}, {\"country\": \"United Kingdom\", \"date\": \"1945-01-01\", \"value\": 31984.0}, {\"country\": \"France\", \"date\": \"1950-01-01\", \"value\": 41300.0}, {\"country\": \"Germany\", \"date\": \"1950-01-01\", \"value\": 49819.0}, {\"country\": \"Italy\", \"date\": \"1950-01-01\", \"value\": 21550.0}, {\"country\": \"Poland\", \"date\": \"1950-01-01\", \"value\": 26312.0}, {\"country\": \"Spain\", \"date\": \"1950-01-01\", \"value\": 18071.0}, {\"country\": \"United Kingdom\", \"date\": \"1950-01-01\", \"value\": 31336.0}, {\"country\": \"France\", \"date\": \"1955-01-01\", \"value\": 39800.0}, {\"country\": \"Germany\", \"date\": \"1955-01-01\", \"value\": 53143.0}, {\"country\": \"Italy\", \"date\": \"1955-01-01\", \"value\": 21923.0}, {\"country\": \"Poland\", \"date\": \"1955-01-01\", \"value\": 26985.0}, {\"country\": \"Spain\", \"date\": \"1955-01-01\", \"value\": 18040.0}, {\"country\": \"United Kingdom\", \"date\": \"1955-01-01\", \"value\": 30676.0}, {\"country\": \"France\", \"date\": \"1960-01-01\", \"value\": 39000.0}, {\"country\": \"Germany\", \"date\": \"1960-01-01\", \"value\": 52193.0}, {\"country\": \"Italy\", \"date\": \"1960-01-01\", \"value\": 21277.0}, {\"country\": \"Poland\", \"date\": \"1960-01-01\", \"value\": 26904.0}, {\"country\": \"Spain\", \"date\": \"1960-01-01\", \"value\": 18033.0}, {\"country\": \"United Kingdom\", \"date\": \"1960-01-01\", \"value\": 29562.0}, {\"country\": \"France\", \"date\": \"1965-01-01\", \"value\": 37890.0}, {\"country\": \"Germany\", \"date\": \"1965-01-01\", \"value\": 51159.0}, {\"country\": \"Italy\", \"date\": \"1965-01-01\", \"value\": 20812.0}, {\"country\": \"Poland\", \"date\": \"1965-01-01\", \"value\": 26862.0}, {\"country\": \"Spain\", \"date\": \"1965-01-01\", \"value\": 17561.0}, {\"country\": \"United Kingdom\", \"date\": \"1965-01-01\", \"value\": 24011.0}, {\"country\": \"France\", \"date\": \"1970-01-01\", \"value\": 36532.0}, {\"country\": \"Germany\", \"date\": \"1970-01-01\", \"value\": 47668.0}, {\"country\": \"Italy\", \"date\": \"1970-01-01\", \"value\": 20212.0}, {\"country\": \"Poland\", \"date\": \"1970-01-01\", \"value\": 26678.0}, {\"country\": \"Spain\", \"date\": \"1970-01-01\", \"value\": 16507.0}, {\"country\": \"United Kingdom\", \"date\": \"1970-01-01\", \"value\": 18969.0}, {\"country\": \"France\", \"date\": \"1975-01-01\", \"value\": 34787.0}, {\"country\": \"Germany\", \"date\": \"1975-01-01\", \"value\": 46190.0}, {\"country\": \"Italy\", \"date\": \"1975-01-01\", \"value\": 20176.0}, {\"country\": \"Poland\", \"date\": \"1975-01-01\", \"value\": 26702.0}, {\"country\": \"Spain\", \"date\": \"1975-01-01\", \"value\": 15839.0}, {\"country\": \"United Kingdom\", \"date\": \"1975-01-01\", \"value\": 18118.0}, {\"country\": \"France\", \"date\": \"1980-01-01\", \"value\": 34362.0}, {\"country\": \"Germany\", \"date\": \"1980-01-01\", \"value\": 45745.0}, {\"country\": \"Italy\", \"date\": \"1980-01-01\", \"value\": 19814.0}, {\"country\": \"Poland\", \"date\": \"1980-01-01\", \"value\": 27185.0}, {\"country\": \"Spain\", \"date\": \"1980-01-01\", \"value\": 15743.0}, {\"country\": \"United Kingdom\", \"date\": \"1980-01-01\", \"value\": 17645.0}, {\"country\": \"France\", \"date\": \"1985-01-01\", \"value\": 34676.0}, {\"country\": \"Germany\", \"date\": \"1985-01-01\", \"value\": 44632.0}, {\"country\": \"Italy\", \"date\": \"1985-01-01\", \"value\": 19726.0}, {\"country\": \"Poland\", \"date\": \"1985-01-01\", \"value\": 27095.0}, {\"country\": \"Spain\", \"date\": \"1985-01-01\", \"value\": 13466.0}, {\"country\": \"United Kingdom\", \"date\": \"1985-01-01\", \"value\": 16752.0}, {\"country\": \"France\", \"date\": \"1990-01-01\", \"value\": 34322.0}, {\"country\": \"Germany\", \"date\": \"1990-01-01\", \"value\": 44632.0}, {\"country\": \"Italy\", \"date\": \"1990-01-01\", \"value\": 19588.0}, {\"country\": \"Poland\", \"date\": \"1990-01-01\", \"value\": 26228.0}, {\"country\": \"Spain\", \"date\": \"1990-01-01\", \"value\": 12560.0}, {\"country\": \"United Kingdom\", \"date\": \"1990-01-01\", \"value\": 16584.0}, {\"country\": \"France\", \"date\": \"1995-01-01\", \"value\": 34322.0}, {\"country\": \"Germany\", \"date\": \"1995-01-01\", \"value\": 45468.0}, {\"country\": \"Italy\", \"date\": \"1995-01-01\", \"value\": 20011.0}, {\"country\": \"Poland\", \"date\": \"1995-01-01\", \"value\": 25528.0}, {\"country\": \"Spain\", \"date\": \"1995-01-01\", \"value\": 15430.0}, {\"country\": \"United Kingdom\", \"date\": \"1995-01-01\", \"value\": 16914.0}, {\"country\": \"France\", \"date\": \"2000-01-01\", \"value\": 31939.0}, {\"country\": \"Germany\", \"date\": \"2000-01-01\", \"value\": 40826.0}, {\"country\": \"Italy\", \"date\": \"2000-01-01\", \"value\": 19394.0}, {\"country\": \"Poland\", \"date\": \"2000-01-01\", \"value\": 23420.0}, {\"country\": \"Spain\", \"date\": \"2000-01-01\", \"value\": 13950.0}, {\"country\": \"United Kingdom\", \"date\": \"2000-01-01\", \"value\": 16878.0}, {\"country\": \"France\", \"date\": \"2005-01-01\", \"value\": 31144.6666666667}, {\"country\": \"Germany\", \"date\": \"2005-01-01\", \"value\": 34218.2}, {\"country\": \"Italy\", \"date\": \"2005-01-01\", \"value\": 19470.3333333333}, {\"country\": \"Poland\", \"date\": \"2005-01-01\", \"value\": 22250.6666666667}, {\"country\": \"Spain\", \"date\": \"2005-01-01\", \"value\": 14932.0}, {\"country\": \"United Kingdom\", \"date\": \"2005-01-01\", \"value\": 16959.0}, {\"country\": \"France\", \"date\": \"2010-01-01\", \"value\": 30335.0}, {\"country\": \"Germany\", \"date\": \"2010-01-01\", \"value\": 37877.0}, {\"country\": \"Italy\", \"date\": \"2010-01-01\", \"value\": 16704.0}, {\"country\": \"Poland\", \"date\": \"2010-01-01\", \"value\": 20228.0}, {\"country\": \"Spain\", \"date\": \"2010-01-01\", \"value\": 13853.0}, {\"country\": \"United Kingdom\", \"date\": \"2010-01-01\", \"value\": 15884.0}, {\"country\": \"France\", \"date\": \"2011-01-01\", \"value\": 30404.0}, {\"country\": \"Germany\", \"date\": \"2011-01-01\", \"value\": 37846.0}, {\"country\": \"Italy\", \"date\": \"2011-01-01\", \"value\": 16726.0}, {\"country\": \"Poland\", \"date\": \"2011-01-01\", \"value\": 20228.0}, {\"country\": \"Spain\", \"date\": \"2011-01-01\", \"value\": 13945.0}, {\"country\": \"France\", \"date\": \"2012-01-01\", \"value\": 30581.0}, {\"country\": \"Germany\", \"date\": \"2012-01-01\", \"value\": 37941.0}, {\"country\": \"Italy\", \"date\": \"2012-01-01\", \"value\": 16742.0}, {\"country\": \"Poland\", \"date\": \"2012-01-01\", \"value\": 20094.0}, {\"country\": \"Spain\", \"date\": \"2012-01-01\", \"value\": 13976.0}, {\"country\": \"United Kingdom\", \"date\": \"2012-01-01\", \"value\": 16195.0}, {\"country\": \"France\", \"date\": \"2013-01-01\", \"value\": 30318.0}, {\"country\": \"Germany\", \"date\": \"2013-01-01\", \"value\": 37860.0}, {\"country\": \"Italy\", \"date\": \"2013-01-01\", \"value\": 16752.0}, {\"country\": \"Poland\", \"date\": \"2013-01-01\", \"value\": 19328.0}, {\"country\": \"Spain\", \"date\": \"2013-01-01\", \"value\": 15312.0}, {\"country\": \"United Kingdom\", \"date\": \"2013-01-01\", \"value\": 16195.0}, {\"country\": \"France\", \"date\": \"2014-01-01\", \"value\": 29335.0}, {\"country\": \"Germany\", \"date\": \"2014-01-01\", \"value\": 37775.0}, {\"country\": \"Italy\", \"date\": \"2014-01-01\", \"value\": 16722.0}, {\"country\": \"Poland\", \"date\": \"2014-01-01\", \"value\": 19240.0}, {\"country\": \"Spain\", \"date\": \"2014-01-01\", \"value\": 15182.0}, {\"country\": \"United Kingdom\", \"date\": \"2014-01-01\", \"value\": 16202.0}, {\"country\": \"France\", \"date\": \"2015-01-01\", \"value\": 28808.0}, {\"country\": \"Germany\", \"date\": \"2015-01-01\", \"value\": 38466.0}, {\"country\": \"Italy\", \"date\": \"2015-01-01\", \"value\": 16724.0}, {\"country\": \"Poland\", \"date\": \"2015-01-01\", \"value\": 19231.0}, {\"country\": \"Spain\", \"date\": \"2015-01-01\", \"value\": 15384.0}, {\"country\": \"United Kingdom\", \"date\": \"2015-01-01\", \"value\": 16241.0}, {\"country\": \"France\", \"date\": \"2016-01-01\", \"value\": 28364.0}, {\"country\": \"Germany\", \"date\": \"2016-01-01\", \"value\": 38623.0}, {\"country\": \"Italy\", \"date\": \"2016-01-01\", \"value\": 16788.0}, {\"country\": \"Poland\", \"date\": \"2016-01-01\", \"value\": 19132.0}, {\"country\": \"Spain\", \"date\": \"2016-01-01\", \"value\": 16167.0}, {\"country\": \"United Kingdom\", \"date\": \"2016-01-01\", \"value\": 16253.0}, {\"country\": \"France\", \"date\": \"2017-01-01\", \"value\": 28120.367}, {\"country\": \"Germany\", \"date\": \"2017-01-01\", \"value\": 38594.0}, {\"country\": \"Italy\", \"date\": \"2017-01-01\", \"value\": 16787.0}, {\"country\": \"Poland\", \"date\": \"2017-01-01\", \"value\": 19209.0}, {\"country\": \"Spain\", \"date\": \"2017-01-01\", \"value\": 15949.0}, {\"country\": \"United Kingdom\", \"date\": \"2017-01-01\", \"value\": 16320.0}, {\"country\": \"France\", \"date\": \"2018-01-01\", \"value\": 27594.0}, {\"country\": \"Germany\", \"date\": \"2018-01-01\", \"value\": 38416.0}, {\"country\": \"Italy\", \"date\": \"2018-01-01\", \"value\": 16781.0}, {\"country\": \"Poland\", \"date\": \"2018-01-01\", \"value\": 19196.0}, {\"country\": \"Spain\", \"date\": \"2018-01-01\", \"value\": 15449.0}, {\"country\": \"United Kingdom\", \"date\": \"2018-01-01\", \"value\": 16289.0}, {\"country\": \"France\", \"date\": \"2019-01-01\", \"value\": 27483.0}, {\"country\": \"Germany\", \"date\": \"2019-01-01\", \"value\": 38394.0}, {\"country\": \"Italy\", \"date\": \"2019-01-01\", \"value\": 16779.0}, {\"country\": \"Poland\", \"date\": \"2019-01-01\", \"value\": 19359.0}, {\"country\": \"Spain\", \"date\": \"2019-01-01\", \"value\": 16006.02}, {\"country\": \"United Kingdom\", \"date\": \"2019-01-01\", \"value\": 16346.0}, {\"country\": \"France\", \"date\": \"2020-01-01\", \"value\": 27213.0}, {\"country\": \"Germany\", \"date\": \"2020-01-01\", \"value\": 39773.0}, {\"country\": \"Italy\", \"date\": \"2020-01-01\", \"value\": 16782.0}, {\"country\": \"Poland\", \"date\": \"2020-01-01\", \"value\": 19383.0}, {\"country\": \"Spain\", \"date\": \"2020-01-01\", \"value\": 16135.36}, {\"country\": \"United Kingdom\", \"date\": \"2020-01-01\", \"value\": 16377.0}, {\"country\": \"France\", \"date\": \"2021-01-01\", \"value\": 27057.0}, {\"country\": \"Germany\", \"date\": \"2021-01-01\", \"value\": 39799.0}, {\"country\": \"Italy\", \"date\": \"2021-01-01\", \"value\": 16832.0}, {\"country\": \"Poland\", \"date\": \"2021-01-01\", \"value\": 19287.0}, {\"country\": \"Spain\", \"date\": \"2021-01-01\", \"value\": 16280.46}, {\"country\": \"United Kingdom\", \"date\": \"2021-01-01\", \"value\": 16316.0}]}}, {\"mode\": \"vega-lite\"});\n",
       "</script>"
      ],
      "text/plain": [
       "alt.Chart(...)"
      ]
     },
     "metadata": {},
     "output_type": "display_data"
    }
   ],
   "source": [
    "# add a transform filter for values after 1970\n",
    "\n",
    "chart = alt.Chart(df_main).mark_line(interpolate='monotone', point='transparent').encode(\n",
    "    x=alt.X(\n",
    "        'date:T',\n",
    "        axis=alt.Axis(\n",
    "            labelColor='#122b39',\n",
    "            tickColor='#122b39',\n",
    "            domainColor='#122b39',\n",
    "            domainOpacity=0.5,\n",
    "            grid=False,\n",
    "            labelAngle=0,\n",
    "            tickCount=10,\n",
    "            tickOpacity=0.5,\n",
    "            title=None\n",
    "        )\n",
    "    ),\n",
    "    y=alt.Y(\n",
    "        'value:Q',\n",
    "        axis=alt.Axis(\n",
    "            # add label expression to append 'km' to values\n",
    "            # vega-lite equivalent is \"labelExpr\":\"format(datum.value, '.0s')+'km'\"\n",
    "            # labelExpr=\"datum.value + 'km'\",\n",
    "            labelColor='#122b39',\n",
    "            tickColor='#122b39',\n",
    "            domainColor='#122b39',\n",
    "            gridColor='#122b39',\n",
    "            gridDash=[1, 5],\n",
    "            gridOpacity=0.5,\n",
    "            labelPadding=5,\n",
    "            tickCount=8,\n",
    "            tickOpacity=0.5,\n",
    "            ticks=False,\n",
    "            title='Total active railway track, km | Source: Eurostat & B.Mitchell (2007)',\n",
    "            titleAlign='left',\n",
    "            titleAngle=0,\n",
    "            titleBaseline='bottom',\n",
    "            titleColor='#122b39',\n",
    "            titleFontSize=12,\n",
    "            titleOpacity=0.9,\n",
    "            titleX=0,\n",
    "            titleY=-7\n",
    "        )\n",
    "    ),\n",
    "    color=alt.Color('country:N', legend=alt.Legend(orient='top-left', labelFontSize=11, labelColor='#122b39', titleColor='#122b39', title=None, symbolSize=50)),\n",
    ").transform_calculate(\n",
    "    year='year(datum.date)'\n",
    ").transform_filter(\n",
    "    alt.datum.country != 'China' \n",
    ").properties(\n",
    "    width=400,\n",
    "    height=300,\n",
    "    title= 'Railway Across Europe'\n",
    ")\n",
    "\n",
    "# .transform_filter(\n",
    "#     alt.datum.year >= '1950'\n",
    "# )\n",
    "\n",
    "\n",
    "### Let's add Country name as text to the end of line (most recent data point)\n",
    "# create a dataframe with the most recent value for each country\n",
    "df_recent = df_main.groupby('country').tail(1).reset_index(drop=True)\n",
    "\n",
    "# # add a text mark to the chart\n",
    "# for i in range(len(df_recent)):\n",
    "#     chart += alt.Chart(df_recent).mark_text(\n",
    "#         baseline='middle',\n",
    "#         dx=25,\n",
    "#         dy=-4,\n",
    "#         fontSize=12,\n",
    "#         fontWeight=500,\n",
    "#         color='#b4c8d8',\n",
    "#     ).encode(\n",
    "#         x=alt.X('date:T'),\n",
    "#         y=alt.Y('value:Q'),\n",
    "#         text='country:N',\n",
    "#         color=alt.value('#b4c8d8'),\n",
    "#     ).transform_filter(\n",
    "#         alt.datum.country == df_recent['country'][i]\n",
    "#     )\n",
    "\n",
    "# base = alt.Chart(df_recent).encode(\n",
    "    \n",
    "# )\n",
    "# # add a text mark to the chart\n",
    "# uk = alt.Chart(df_recent[df_recent['country']=='United Kingdom']).mark_text(baseline='middle',dx=45,dy=-4,fontSize=12,fontWeight=500,color='#b4c8d8',\n",
    "# ).encode(\n",
    "#     x=alt.X('date:T'),\n",
    "#     y=alt.Y('value:Q'),\n",
    "#     text='country:N',\n",
    "# )\n",
    "\n",
    "# # add a text mark to the chart\n",
    "# esp = alt.Chart(df_recent[df_recent['country']=='Spain']).mark_text(baseline='middle',dx=20,dy=10,fontSize=12,fontWeight=500,color='#b4c8d8',\n",
    "# ).encode(\n",
    "#     x=alt.X('date:T'),\n",
    "#     y=alt.Y('value:Q'),\n",
    "#     text='country:N',\n",
    "# )\n",
    "\n",
    "# pol = alt.Chart(df_recent[df_recent['country']=='Poland']).mark_text(baseline='middle',dx=20,dy=-4,fontSize=12,fontWeight=500,color='#b4c8d8',\n",
    "# ).encode(\n",
    "#     x=alt.X('date:T'),\n",
    "#     y=alt.Y('value:Q'),\n",
    "#     text='country:N',\n",
    "# )\n",
    "# ita = alt.Chart(df_recent[df_recent['country']=='Italy']).mark_text(baseline='middle',dx=20,dy=10,fontSize=12,fontWeight=500,color='#b4c8d8',\n",
    "# ).encode(\n",
    "#     x=alt.X('date:T'),\n",
    "#     y=alt.Y('value:Q'),\n",
    "#     text='country:N',\n",
    "# )\n",
    "\n",
    "# chart = chart + uk + esp + pol + ita\n",
    "\n",
    "chart = chart.configure(\n",
    "    font='Circular Std'\n",
    ").configure_title(\n",
    "    baseline='top',\n",
    "    anchor='start',\n",
    "    dx=33,\n",
    "    fontSize=14,\n",
    "    subtitleFontSize=12,\n",
    "    color='#122b39',\n",
    "    subtitleColor='#000000'\n",
    ").configure_view(\n",
    "    stroke=None\n",
    ")\n",
    "\n",
    "chart.display()"
   ]
  },
  {
   "cell_type": "markdown",
   "metadata": {},
   "source": []
  },
  {
   "cell_type": "code",
   "execution_count": 39,
   "metadata": {},
   "outputs": [],
   "source": [
    "# Convert chart to dictionary\n",
    "chart_dict = chart.to_dict()\n",
    "\n",
    "# Modify width and height directly (Altair will set continuousWidth and height by default)\n",
    "chart_dict['width'] = 400\n",
    "chart_dict['height'] = 300\n",
    "\n",
    "# Convert the dictionary back to JSON\n",
    "vega_spec = json.dumps(chart_dict, indent=2)\n",
    "\n",
    "# Write the JSON to a file\n",
    "with open('DH_RailwayLength_Light.json', 'w') as f:\n",
    "    f.write(vega_spec)"
   ]
  },
  {
   "cell_type": "code",
   "execution_count": 40,
   "metadata": {},
   "outputs": [],
   "source": [
    "import vl_convert as vlc\n",
    "# # save the Altair chart as png in high resolution\n",
    "# chart.save('DH_RailwayLength.png')\n",
    "\n",
    "# Create PNG image data and then write to a file\n",
    "png_data = vlc.vegalite_to_png(vl_spec=vega_spec, scale=1.5)\n",
    "with open(\"DH_RailwayLength_Light.png\", \"wb\") as f:\n",
    "    f.write(png_data)"
   ]
  },
  {
   "cell_type": "code",
   "execution_count": null,
   "metadata": {},
   "outputs": [],
   "source": []
  },
  {
   "cell_type": "markdown",
   "metadata": {},
   "source": [
    "---"
   ]
  },
  {
   "cell_type": "markdown",
   "metadata": {},
   "source": [
    "No title, light version"
   ]
  },
  {
   "cell_type": "code",
   "execution_count": null,
   "metadata": {},
   "outputs": [],
   "source": []
  },
  {
   "cell_type": "code",
   "execution_count": 27,
   "metadata": {},
   "outputs": [
    {
     "data": {
      "text/html": [
       "\n",
       "<style>\n",
       "  #altair-viz-1c1ebb25d74346cab4949f614145f0bf.vega-embed {\n",
       "    width: 100%;\n",
       "    display: flex;\n",
       "  }\n",
       "\n",
       "  #altair-viz-1c1ebb25d74346cab4949f614145f0bf.vega-embed details,\n",
       "  #altair-viz-1c1ebb25d74346cab4949f614145f0bf.vega-embed details summary {\n",
       "    position: relative;\n",
       "  }\n",
       "</style>\n",
       "<div id=\"altair-viz-1c1ebb25d74346cab4949f614145f0bf\"></div>\n",
       "<script type=\"text/javascript\">\n",
       "  var VEGA_DEBUG = (typeof VEGA_DEBUG == \"undefined\") ? {} : VEGA_DEBUG;\n",
       "  (function(spec, embedOpt){\n",
       "    let outputDiv = document.currentScript.previousElementSibling;\n",
       "    if (outputDiv.id !== \"altair-viz-1c1ebb25d74346cab4949f614145f0bf\") {\n",
       "      outputDiv = document.getElementById(\"altair-viz-1c1ebb25d74346cab4949f614145f0bf\");\n",
       "    }\n",
       "    const paths = {\n",
       "      \"vega\": \"https://cdn.jsdelivr.net/npm/vega@5?noext\",\n",
       "      \"vega-lib\": \"https://cdn.jsdelivr.net/npm/vega-lib?noext\",\n",
       "      \"vega-lite\": \"https://cdn.jsdelivr.net/npm/vega-lite@5.8.0?noext\",\n",
       "      \"vega-embed\": \"https://cdn.jsdelivr.net/npm/vega-embed@6?noext\",\n",
       "    };\n",
       "\n",
       "    function maybeLoadScript(lib, version) {\n",
       "      var key = `${lib.replace(\"-\", \"\")}_version`;\n",
       "      return (VEGA_DEBUG[key] == version) ?\n",
       "        Promise.resolve(paths[lib]) :\n",
       "        new Promise(function(resolve, reject) {\n",
       "          var s = document.createElement('script');\n",
       "          document.getElementsByTagName(\"head\")[0].appendChild(s);\n",
       "          s.async = true;\n",
       "          s.onload = () => {\n",
       "            VEGA_DEBUG[key] = version;\n",
       "            return resolve(paths[lib]);\n",
       "          };\n",
       "          s.onerror = () => reject(`Error loading script: ${paths[lib]}`);\n",
       "          s.src = paths[lib];\n",
       "        });\n",
       "    }\n",
       "\n",
       "    function showError(err) {\n",
       "      outputDiv.innerHTML = `<div class=\"error\" style=\"color:red;\">${err}</div>`;\n",
       "      throw err;\n",
       "    }\n",
       "\n",
       "    function displayChart(vegaEmbed) {\n",
       "      vegaEmbed(outputDiv, spec, embedOpt)\n",
       "        .catch(err => showError(`Javascript Error: ${err.message}<br>This usually means there's a typo in your chart specification. See the javascript console for the full traceback.`));\n",
       "    }\n",
       "\n",
       "    if(typeof define === \"function\" && define.amd) {\n",
       "      requirejs.config({paths});\n",
       "      require([\"vega-embed\"], displayChart, err => showError(`Error loading script: ${err.message}`));\n",
       "    } else {\n",
       "      maybeLoadScript(\"vega\", \"5\")\n",
       "        .then(() => maybeLoadScript(\"vega-lite\", \"5.8.0\"))\n",
       "        .then(() => maybeLoadScript(\"vega-embed\", \"6\"))\n",
       "        .catch(showError)\n",
       "        .then(() => displayChart(vegaEmbed));\n",
       "    }\n",
       "  })({\"config\": {\"view\": {\"continuousWidth\": 300, \"continuousHeight\": 300, \"stroke\": null}, \"font\": \"Circular Std\"}, \"data\": {\"name\": \"data-292bc72e6d349caa2e23714e909c3e24\"}, \"mark\": {\"type\": \"line\", \"interpolate\": \"monotone\", \"point\": \"transparent\"}, \"encoding\": {\"color\": {\"field\": \"country\", \"legend\": {\"labelColor\": \"#122b39\", \"labelFontSize\": 11, \"orient\": \"top-left\", \"symbolSize\": 50, \"title\": null, \"titleColor\": \"#122b39\"}, \"type\": \"nominal\"}, \"x\": {\"axis\": {\"domainColor\": \"#122b39\", \"domainOpacity\": 0.5, \"grid\": false, \"labelAngle\": 0, \"labelColor\": \"#122b39\", \"tickColor\": \"#122b39\", \"tickCount\": 10, \"tickOpacity\": 0.5, \"title\": null}, \"field\": \"date\", \"type\": \"temporal\"}, \"y\": {\"axis\": {\"domainColor\": \"#122b39\", \"gridColor\": \"#122b39\", \"gridDash\": [1, 5], \"gridOpacity\": 0.5, \"labelColor\": \"#122b39\", \"labelPadding\": 5, \"tickColor\": \"#122b39\", \"tickCount\": 8, \"tickOpacity\": 0.5, \"ticks\": false, \"title\": null}, \"field\": \"value\", \"type\": \"quantitative\"}}, \"height\": 300, \"transform\": [{\"calculate\": \"year(datum.date)\", \"as\": \"year\"}, {\"filter\": \"(datum.country !== 'China')\"}], \"width\": 400, \"$schema\": \"https://vega.github.io/schema/vega-lite/v5.8.0.json\", \"datasets\": {\"data-292bc72e6d349caa2e23714e909c3e24\": [{\"country\": \"United Kingdom\", \"date\": \"1825-01-01\", \"value\": 43.0}, {\"country\": \"France\", \"date\": \"1830-01-01\", \"value\": 31.0}, {\"country\": \"United Kingdom\", \"date\": \"1830-01-01\", \"value\": 157.0}, {\"country\": \"France\", \"date\": \"1835-01-01\", \"value\": 141.0}, {\"country\": \"Germany\", \"date\": \"1835-01-01\", \"value\": 6.0}, {\"country\": \"United Kingdom\", \"date\": \"1835-01-01\", \"value\": 544.0}, {\"country\": \"France\", \"date\": \"1840-01-01\", \"value\": 410.0}, {\"country\": \"Germany\", \"date\": \"1840-01-01\", \"value\": 469.0}, {\"country\": \"Italy\", \"date\": \"1840-01-01\", \"value\": 20.0}, {\"country\": \"United Kingdom\", \"date\": \"1840-01-01\", \"value\": 2390.0}, {\"country\": \"France\", \"date\": \"1845-01-01\", \"value\": 875.0}, {\"country\": \"Germany\", \"date\": \"1845-01-01\", \"value\": 2143.0}, {\"country\": \"Italy\", \"date\": \"1845-01-01\", \"value\": 152.0}, {\"country\": \"United Kingdom\", \"date\": \"1845-01-01\", \"value\": 3931.0}, {\"country\": \"France\", \"date\": \"1850-01-01\", \"value\": 2915.0}, {\"country\": \"Germany\", \"date\": \"1850-01-01\", \"value\": 5856.0}, {\"country\": \"Italy\", \"date\": \"1850-01-01\", \"value\": 620.0}, {\"country\": \"Spain\", \"date\": \"1850-01-01\", \"value\": 28.0}, {\"country\": \"United Kingdom\", \"date\": \"1850-01-01\", \"value\": 9797.0}, {\"country\": \"France\", \"date\": \"1855-01-01\", \"value\": 5037.0}, {\"country\": \"Germany\", \"date\": \"1855-01-01\", \"value\": 7826.0}, {\"country\": \"Italy\", \"date\": \"1855-01-01\", \"value\": 1207.0}, {\"country\": \"Spain\", \"date\": \"1855-01-01\", \"value\": 440.0}, {\"country\": \"United Kingdom\", \"date\": \"1855-01-01\", \"value\": 11744.0}, {\"country\": \"France\", \"date\": \"1860-01-01\", \"value\": 9167.0}, {\"country\": \"Germany\", \"date\": \"1860-01-01\", \"value\": 11089.0}, {\"country\": \"Italy\", \"date\": \"1860-01-01\", \"value\": 2404.0}, {\"country\": \"Spain\", \"date\": \"1860-01-01\", \"value\": 1885.0}, {\"country\": \"United Kingdom\", \"date\": \"1860-01-01\", \"value\": 14603.0}, {\"country\": \"France\", \"date\": \"1865-01-01\", \"value\": 13227.0}, {\"country\": \"Germany\", \"date\": \"1865-01-01\", \"value\": 13900.0}, {\"country\": \"Italy\", \"date\": \"1865-01-01\", \"value\": 4591.0}, {\"country\": \"Spain\", \"date\": \"1865-01-01\", \"value\": 4832.0}, {\"country\": \"United Kingdom\", \"date\": \"1865-01-01\", \"value\": 18439.0}, {\"country\": \"France\", \"date\": \"1870-01-01\", \"value\": 15544.0}, {\"country\": \"Germany\", \"date\": \"1870-01-01\", \"value\": 18876.0}, {\"country\": \"Italy\", \"date\": \"1870-01-01\", \"value\": 6429.0}, {\"country\": \"Spain\", \"date\": \"1870-01-01\", \"value\": 5454.0}, {\"country\": \"United Kingdom\", \"date\": \"1870-01-01\", \"value\": 21558.0}, {\"country\": \"France\", \"date\": \"1875-01-01\", \"value\": 19357.0}, {\"country\": \"Germany\", \"date\": \"1875-01-01\", \"value\": 27970.0}, {\"country\": \"Italy\", \"date\": \"1875-01-01\", \"value\": 8018.0}, {\"country\": \"Spain\", \"date\": \"1875-01-01\", \"value\": 6094.0}, {\"country\": \"United Kingdom\", \"date\": \"1875-01-01\", \"value\": 23865.0}, {\"country\": \"France\", \"date\": \"1880-01-01\", \"value\": 23089.0}, {\"country\": \"Germany\", \"date\": \"1880-01-01\", \"value\": 33838.0}, {\"country\": \"Italy\", \"date\": \"1880-01-01\", \"value\": 9290.0}, {\"country\": \"Spain\", \"date\": \"1880-01-01\", \"value\": 7491.0}, {\"country\": \"United Kingdom\", \"date\": \"1880-01-01\", \"value\": 25060.0}, {\"country\": \"France\", \"date\": \"1885-01-01\", \"value\": 29839.0}, {\"country\": \"Germany\", \"date\": \"1885-01-01\", \"value\": 37571.0}, {\"country\": \"Italy\", \"date\": \"1885-01-01\", \"value\": 11003.0}, {\"country\": \"Spain\", \"date\": \"1885-01-01\", \"value\": 9007.0}, {\"country\": \"United Kingdom\", \"date\": \"1885-01-01\", \"value\": 26720.0}, {\"country\": \"France\", \"date\": \"1890-01-01\", \"value\": 33280.0}, {\"country\": \"Germany\", \"date\": \"1890-01-01\", \"value\": 42869.0}, {\"country\": \"Italy\", \"date\": \"1890-01-01\", \"value\": 13629.0}, {\"country\": \"Spain\", \"date\": \"1890-01-01\", \"value\": 10163.0}, {\"country\": \"United Kingdom\", \"date\": \"1890-01-01\", \"value\": 27827.0}, {\"country\": \"France\", \"date\": \"1895-01-01\", \"value\": 36240.0}, {\"country\": \"Germany\", \"date\": \"1895-01-01\", \"value\": 46500.0}, {\"country\": \"Italy\", \"date\": \"1895-01-01\", \"value\": 15970.0}, {\"country\": \"Spain\", \"date\": \"1895-01-01\", \"value\": 12612.0}, {\"country\": \"United Kingdom\", \"date\": \"1895-01-01\", \"value\": 28986.0}, {\"country\": \"France\", \"date\": \"1900-01-01\", \"value\": 38109.0}, {\"country\": \"Germany\", \"date\": \"1900-01-01\", \"value\": 51678.0}, {\"country\": \"Italy\", \"date\": \"1900-01-01\", \"value\": 16429.0}, {\"country\": \"Spain\", \"date\": \"1900-01-01\", \"value\": 13205.0}, {\"country\": \"United Kingdom\", \"date\": \"1900-01-01\", \"value\": 30079.0}, {\"country\": \"France\", \"date\": \"1905-01-01\", \"value\": 39607.0}, {\"country\": \"Germany\", \"date\": \"1905-01-01\", \"value\": 56739.0}, {\"country\": \"Italy\", \"date\": \"1905-01-01\", \"value\": 17078.0}, {\"country\": \"Spain\", \"date\": \"1905-01-01\", \"value\": 14037.0}, {\"country\": \"United Kingdom\", \"date\": \"1905-01-01\", \"value\": 31456.0}, {\"country\": \"France\", \"date\": \"1910-01-01\", \"value\": 40484.0}, {\"country\": \"Germany\", \"date\": \"1910-01-01\", \"value\": 61209.0}, {\"country\": \"Italy\", \"date\": \"1910-01-01\", \"value\": 18090.0}, {\"country\": \"Spain\", \"date\": \"1910-01-01\", \"value\": 14694.0}, {\"country\": \"United Kingdom\", \"date\": \"1910-01-01\", \"value\": 32184.0}, {\"country\": \"France\", \"date\": \"1915-01-01\", \"value\": 36400.0}, {\"country\": \"Germany\", \"date\": \"1915-01-01\", \"value\": 62091.0}, {\"country\": \"Italy\", \"date\": \"1915-01-01\", \"value\": 19652.0}, {\"country\": \"Spain\", \"date\": \"1915-01-01\", \"value\": 15671.0}, {\"country\": \"United Kingdom\", \"date\": \"1915-01-01\", \"value\": 32703.0}, {\"country\": \"France\", \"date\": \"1920-01-01\", \"value\": 38200.0}, {\"country\": \"Germany\", \"date\": \"1920-01-01\", \"value\": 57545.0}, {\"country\": \"Italy\", \"date\": \"1920-01-01\", \"value\": 20385.0}, {\"country\": \"Poland\", \"date\": \"1920-01-01\", \"value\": 13763.0}, {\"country\": \"Spain\", \"date\": \"1920-01-01\", \"value\": 16089.0}, {\"country\": \"United Kingdom\", \"date\": \"1920-01-01\", \"value\": 32707.0}, {\"country\": \"France\", \"date\": \"1925-01-01\", \"value\": 42100.0}, {\"country\": \"Germany\", \"date\": \"1925-01-01\", \"value\": 57716.0}, {\"country\": \"Italy\", \"date\": \"1925-01-01\", \"value\": 21106.0}, {\"country\": \"Poland\", \"date\": \"1925-01-01\", \"value\": 19281.0}, {\"country\": \"Spain\", \"date\": \"1925-01-01\", \"value\": 16540.0}, {\"country\": \"United Kingdom\", \"date\": \"1925-01-01\", \"value\": 32849.0}, {\"country\": \"France\", \"date\": \"1930-01-01\", \"value\": 42400.0}, {\"country\": \"Germany\", \"date\": \"1930-01-01\", \"value\": 58176.0}, {\"country\": \"Italy\", \"date\": \"1930-01-01\", \"value\": 22119.0}, {\"country\": \"Poland\", \"date\": \"1930-01-01\", \"value\": 19600.0}, {\"country\": \"Spain\", \"date\": \"1930-01-01\", \"value\": 17278.0}, {\"country\": \"United Kingdom\", \"date\": \"1930-01-01\", \"value\": 32632.0}, {\"country\": \"France\", \"date\": \"1935-01-01\", \"value\": 42600.0}, {\"country\": \"Germany\", \"date\": \"1935-01-01\", \"value\": 58841.0}, {\"country\": \"Italy\", \"date\": \"1935-01-01\", \"value\": 23046.0}, {\"country\": \"Poland\", \"date\": \"1935-01-01\", \"value\": 20085.0}, {\"country\": \"Spain\", \"date\": \"1935-01-01\", \"value\": 17437.0}, {\"country\": \"United Kingdom\", \"date\": \"1935-01-01\", \"value\": 32450.0}, {\"country\": \"France\", \"date\": \"1940-01-01\", \"value\": 40600.0}, {\"country\": \"Germany\", \"date\": \"1940-01-01\", \"value\": 58841.0}, {\"country\": \"Italy\", \"date\": \"1940-01-01\", \"value\": 22992.0}, {\"country\": \"Poland\", \"date\": \"1940-01-01\", \"value\": 21800.0}, {\"country\": \"Spain\", \"date\": \"1940-01-01\", \"value\": 17446.0}, {\"country\": \"United Kingdom\", \"date\": \"1940-01-01\", \"value\": 32094.0}, {\"country\": \"France\", \"date\": \"1945-01-01\", \"value\": 40500.0}, {\"country\": \"Germany\", \"date\": \"1945-01-01\", \"value\": 58841.0}, {\"country\": \"Italy\", \"date\": \"1945-01-01\", \"value\": 18655.0}, {\"country\": \"Poland\", \"date\": \"1945-01-01\", \"value\": 23218.0}, {\"country\": \"Spain\", \"date\": \"1945-01-01\", \"value\": 17930.0}, {\"country\": \"United Kingdom\", \"date\": \"1945-01-01\", \"value\": 31984.0}, {\"country\": \"France\", \"date\": \"1950-01-01\", \"value\": 41300.0}, {\"country\": \"Germany\", \"date\": \"1950-01-01\", \"value\": 49819.0}, {\"country\": \"Italy\", \"date\": \"1950-01-01\", \"value\": 21550.0}, {\"country\": \"Poland\", \"date\": \"1950-01-01\", \"value\": 26312.0}, {\"country\": \"Spain\", \"date\": \"1950-01-01\", \"value\": 18071.0}, {\"country\": \"United Kingdom\", \"date\": \"1950-01-01\", \"value\": 31336.0}, {\"country\": \"France\", \"date\": \"1955-01-01\", \"value\": 39800.0}, {\"country\": \"Germany\", \"date\": \"1955-01-01\", \"value\": 53143.0}, {\"country\": \"Italy\", \"date\": \"1955-01-01\", \"value\": 21923.0}, {\"country\": \"Poland\", \"date\": \"1955-01-01\", \"value\": 26985.0}, {\"country\": \"Spain\", \"date\": \"1955-01-01\", \"value\": 18040.0}, {\"country\": \"United Kingdom\", \"date\": \"1955-01-01\", \"value\": 30676.0}, {\"country\": \"France\", \"date\": \"1960-01-01\", \"value\": 39000.0}, {\"country\": \"Germany\", \"date\": \"1960-01-01\", \"value\": 52193.0}, {\"country\": \"Italy\", \"date\": \"1960-01-01\", \"value\": 21277.0}, {\"country\": \"Poland\", \"date\": \"1960-01-01\", \"value\": 26904.0}, {\"country\": \"Spain\", \"date\": \"1960-01-01\", \"value\": 18033.0}, {\"country\": \"United Kingdom\", \"date\": \"1960-01-01\", \"value\": 29562.0}, {\"country\": \"France\", \"date\": \"1965-01-01\", \"value\": 37890.0}, {\"country\": \"Germany\", \"date\": \"1965-01-01\", \"value\": 51159.0}, {\"country\": \"Italy\", \"date\": \"1965-01-01\", \"value\": 20812.0}, {\"country\": \"Poland\", \"date\": \"1965-01-01\", \"value\": 26862.0}, {\"country\": \"Spain\", \"date\": \"1965-01-01\", \"value\": 17561.0}, {\"country\": \"United Kingdom\", \"date\": \"1965-01-01\", \"value\": 24011.0}, {\"country\": \"France\", \"date\": \"1970-01-01\", \"value\": 36532.0}, {\"country\": \"Germany\", \"date\": \"1970-01-01\", \"value\": 47668.0}, {\"country\": \"Italy\", \"date\": \"1970-01-01\", \"value\": 20212.0}, {\"country\": \"Poland\", \"date\": \"1970-01-01\", \"value\": 26678.0}, {\"country\": \"Spain\", \"date\": \"1970-01-01\", \"value\": 16507.0}, {\"country\": \"United Kingdom\", \"date\": \"1970-01-01\", \"value\": 18969.0}, {\"country\": \"France\", \"date\": \"1975-01-01\", \"value\": 34787.0}, {\"country\": \"Germany\", \"date\": \"1975-01-01\", \"value\": 46190.0}, {\"country\": \"Italy\", \"date\": \"1975-01-01\", \"value\": 20176.0}, {\"country\": \"Poland\", \"date\": \"1975-01-01\", \"value\": 26702.0}, {\"country\": \"Spain\", \"date\": \"1975-01-01\", \"value\": 15839.0}, {\"country\": \"United Kingdom\", \"date\": \"1975-01-01\", \"value\": 18118.0}, {\"country\": \"France\", \"date\": \"1980-01-01\", \"value\": 34362.0}, {\"country\": \"Germany\", \"date\": \"1980-01-01\", \"value\": 45745.0}, {\"country\": \"Italy\", \"date\": \"1980-01-01\", \"value\": 19814.0}, {\"country\": \"Poland\", \"date\": \"1980-01-01\", \"value\": 27185.0}, {\"country\": \"Spain\", \"date\": \"1980-01-01\", \"value\": 15743.0}, {\"country\": \"United Kingdom\", \"date\": \"1980-01-01\", \"value\": 17645.0}, {\"country\": \"France\", \"date\": \"1985-01-01\", \"value\": 34676.0}, {\"country\": \"Germany\", \"date\": \"1985-01-01\", \"value\": 44632.0}, {\"country\": \"Italy\", \"date\": \"1985-01-01\", \"value\": 19726.0}, {\"country\": \"Poland\", \"date\": \"1985-01-01\", \"value\": 27095.0}, {\"country\": \"Spain\", \"date\": \"1985-01-01\", \"value\": 13466.0}, {\"country\": \"United Kingdom\", \"date\": \"1985-01-01\", \"value\": 16752.0}, {\"country\": \"France\", \"date\": \"1990-01-01\", \"value\": 34322.0}, {\"country\": \"Germany\", \"date\": \"1990-01-01\", \"value\": 44632.0}, {\"country\": \"Italy\", \"date\": \"1990-01-01\", \"value\": 19588.0}, {\"country\": \"Poland\", \"date\": \"1990-01-01\", \"value\": 26228.0}, {\"country\": \"Spain\", \"date\": \"1990-01-01\", \"value\": 12560.0}, {\"country\": \"United Kingdom\", \"date\": \"1990-01-01\", \"value\": 16584.0}, {\"country\": \"France\", \"date\": \"1995-01-01\", \"value\": 34322.0}, {\"country\": \"Germany\", \"date\": \"1995-01-01\", \"value\": 45468.0}, {\"country\": \"Italy\", \"date\": \"1995-01-01\", \"value\": 20011.0}, {\"country\": \"Poland\", \"date\": \"1995-01-01\", \"value\": 25528.0}, {\"country\": \"Spain\", \"date\": \"1995-01-01\", \"value\": 15430.0}, {\"country\": \"United Kingdom\", \"date\": \"1995-01-01\", \"value\": 16914.0}, {\"country\": \"France\", \"date\": \"2000-01-01\", \"value\": 31939.0}, {\"country\": \"Germany\", \"date\": \"2000-01-01\", \"value\": 40826.0}, {\"country\": \"Italy\", \"date\": \"2000-01-01\", \"value\": 19394.0}, {\"country\": \"Poland\", \"date\": \"2000-01-01\", \"value\": 23420.0}, {\"country\": \"Spain\", \"date\": \"2000-01-01\", \"value\": 13950.0}, {\"country\": \"United Kingdom\", \"date\": \"2000-01-01\", \"value\": 16878.0}, {\"country\": \"France\", \"date\": \"2005-01-01\", \"value\": 31144.6666666667}, {\"country\": \"Germany\", \"date\": \"2005-01-01\", \"value\": 34218.2}, {\"country\": \"Italy\", \"date\": \"2005-01-01\", \"value\": 19470.3333333333}, {\"country\": \"Poland\", \"date\": \"2005-01-01\", \"value\": 22250.6666666667}, {\"country\": \"Spain\", \"date\": \"2005-01-01\", \"value\": 14932.0}, {\"country\": \"United Kingdom\", \"date\": \"2005-01-01\", \"value\": 16959.0}, {\"country\": \"France\", \"date\": \"2010-01-01\", \"value\": 30335.0}, {\"country\": \"Germany\", \"date\": \"2010-01-01\", \"value\": 37877.0}, {\"country\": \"Italy\", \"date\": \"2010-01-01\", \"value\": 16704.0}, {\"country\": \"Poland\", \"date\": \"2010-01-01\", \"value\": 20228.0}, {\"country\": \"Spain\", \"date\": \"2010-01-01\", \"value\": 13853.0}, {\"country\": \"United Kingdom\", \"date\": \"2010-01-01\", \"value\": 15884.0}, {\"country\": \"France\", \"date\": \"2011-01-01\", \"value\": 30404.0}, {\"country\": \"Germany\", \"date\": \"2011-01-01\", \"value\": 37846.0}, {\"country\": \"Italy\", \"date\": \"2011-01-01\", \"value\": 16726.0}, {\"country\": \"Poland\", \"date\": \"2011-01-01\", \"value\": 20228.0}, {\"country\": \"Spain\", \"date\": \"2011-01-01\", \"value\": 13945.0}, {\"country\": \"France\", \"date\": \"2012-01-01\", \"value\": 30581.0}, {\"country\": \"Germany\", \"date\": \"2012-01-01\", \"value\": 37941.0}, {\"country\": \"Italy\", \"date\": \"2012-01-01\", \"value\": 16742.0}, {\"country\": \"Poland\", \"date\": \"2012-01-01\", \"value\": 20094.0}, {\"country\": \"Spain\", \"date\": \"2012-01-01\", \"value\": 13976.0}, {\"country\": \"United Kingdom\", \"date\": \"2012-01-01\", \"value\": 16195.0}, {\"country\": \"France\", \"date\": \"2013-01-01\", \"value\": 30318.0}, {\"country\": \"Germany\", \"date\": \"2013-01-01\", \"value\": 37860.0}, {\"country\": \"Italy\", \"date\": \"2013-01-01\", \"value\": 16752.0}, {\"country\": \"Poland\", \"date\": \"2013-01-01\", \"value\": 19328.0}, {\"country\": \"Spain\", \"date\": \"2013-01-01\", \"value\": 15312.0}, {\"country\": \"United Kingdom\", \"date\": \"2013-01-01\", \"value\": 16195.0}, {\"country\": \"France\", \"date\": \"2014-01-01\", \"value\": 29335.0}, {\"country\": \"Germany\", \"date\": \"2014-01-01\", \"value\": 37775.0}, {\"country\": \"Italy\", \"date\": \"2014-01-01\", \"value\": 16722.0}, {\"country\": \"Poland\", \"date\": \"2014-01-01\", \"value\": 19240.0}, {\"country\": \"Spain\", \"date\": \"2014-01-01\", \"value\": 15182.0}, {\"country\": \"United Kingdom\", \"date\": \"2014-01-01\", \"value\": 16202.0}, {\"country\": \"France\", \"date\": \"2015-01-01\", \"value\": 28808.0}, {\"country\": \"Germany\", \"date\": \"2015-01-01\", \"value\": 38466.0}, {\"country\": \"Italy\", \"date\": \"2015-01-01\", \"value\": 16724.0}, {\"country\": \"Poland\", \"date\": \"2015-01-01\", \"value\": 19231.0}, {\"country\": \"Spain\", \"date\": \"2015-01-01\", \"value\": 15384.0}, {\"country\": \"United Kingdom\", \"date\": \"2015-01-01\", \"value\": 16241.0}, {\"country\": \"France\", \"date\": \"2016-01-01\", \"value\": 28364.0}, {\"country\": \"Germany\", \"date\": \"2016-01-01\", \"value\": 38623.0}, {\"country\": \"Italy\", \"date\": \"2016-01-01\", \"value\": 16788.0}, {\"country\": \"Poland\", \"date\": \"2016-01-01\", \"value\": 19132.0}, {\"country\": \"Spain\", \"date\": \"2016-01-01\", \"value\": 16167.0}, {\"country\": \"United Kingdom\", \"date\": \"2016-01-01\", \"value\": 16253.0}, {\"country\": \"France\", \"date\": \"2017-01-01\", \"value\": 28120.367}, {\"country\": \"Germany\", \"date\": \"2017-01-01\", \"value\": 38594.0}, {\"country\": \"Italy\", \"date\": \"2017-01-01\", \"value\": 16787.0}, {\"country\": \"Poland\", \"date\": \"2017-01-01\", \"value\": 19209.0}, {\"country\": \"Spain\", \"date\": \"2017-01-01\", \"value\": 15949.0}, {\"country\": \"United Kingdom\", \"date\": \"2017-01-01\", \"value\": 16320.0}, {\"country\": \"France\", \"date\": \"2018-01-01\", \"value\": 27594.0}, {\"country\": \"Germany\", \"date\": \"2018-01-01\", \"value\": 38416.0}, {\"country\": \"Italy\", \"date\": \"2018-01-01\", \"value\": 16781.0}, {\"country\": \"Poland\", \"date\": \"2018-01-01\", \"value\": 19196.0}, {\"country\": \"Spain\", \"date\": \"2018-01-01\", \"value\": 15449.0}, {\"country\": \"United Kingdom\", \"date\": \"2018-01-01\", \"value\": 16289.0}, {\"country\": \"France\", \"date\": \"2019-01-01\", \"value\": 27483.0}, {\"country\": \"Germany\", \"date\": \"2019-01-01\", \"value\": 38394.0}, {\"country\": \"Italy\", \"date\": \"2019-01-01\", \"value\": 16779.0}, {\"country\": \"Poland\", \"date\": \"2019-01-01\", \"value\": 19359.0}, {\"country\": \"Spain\", \"date\": \"2019-01-01\", \"value\": 16006.02}, {\"country\": \"United Kingdom\", \"date\": \"2019-01-01\", \"value\": 16346.0}, {\"country\": \"France\", \"date\": \"2020-01-01\", \"value\": 27213.0}, {\"country\": \"Germany\", \"date\": \"2020-01-01\", \"value\": 39773.0}, {\"country\": \"Italy\", \"date\": \"2020-01-01\", \"value\": 16782.0}, {\"country\": \"Poland\", \"date\": \"2020-01-01\", \"value\": 19383.0}, {\"country\": \"Spain\", \"date\": \"2020-01-01\", \"value\": 16135.36}, {\"country\": \"United Kingdom\", \"date\": \"2020-01-01\", \"value\": 16377.0}, {\"country\": \"France\", \"date\": \"2021-01-01\", \"value\": 27057.0}, {\"country\": \"Germany\", \"date\": \"2021-01-01\", \"value\": 39799.0}, {\"country\": \"Italy\", \"date\": \"2021-01-01\", \"value\": 16832.0}, {\"country\": \"Poland\", \"date\": \"2021-01-01\", \"value\": 19287.0}, {\"country\": \"Spain\", \"date\": \"2021-01-01\", \"value\": 16280.46}, {\"country\": \"United Kingdom\", \"date\": \"2021-01-01\", \"value\": 16316.0}]}}, {\"mode\": \"vega-lite\"});\n",
       "</script>"
      ],
      "text/plain": [
       "alt.Chart(...)"
      ]
     },
     "metadata": {},
     "output_type": "display_data"
    }
   ],
   "source": [
    "# add a transform filter for values after 1970\n",
    "\n",
    "chart = alt.Chart(df_main).mark_line(interpolate='monotone', point='transparent').encode(\n",
    "    x=alt.X(\n",
    "        'date:T',\n",
    "        axis=alt.Axis(\n",
    "            labelColor='#122b39',\n",
    "            tickColor='#122b39',\n",
    "            domainColor='#122b39',\n",
    "            domainOpacity=0.5,\n",
    "            grid=False,\n",
    "            labelAngle=0,\n",
    "            tickCount=10,\n",
    "            tickOpacity=0.5,\n",
    "            title=None\n",
    "        )\n",
    "    ),\n",
    "    y=alt.Y(\n",
    "        'value:Q',\n",
    "        axis=alt.Axis(\n",
    "            # add label expression to append 'km' to values\n",
    "            # vega-lite equivalent is \"labelExpr\":\"format(datum.value, '.0s')+'km'\"\n",
    "            # labelExpr=\"datum.value + 'km'\",\n",
    "            labelColor='#122b39',\n",
    "            tickColor='#122b39',\n",
    "            domainColor='#122b39',\n",
    "            gridColor='#122b39',\n",
    "            gridDash=[1, 5],\n",
    "            gridOpacity=0.5,\n",
    "            labelPadding=5,\n",
    "            tickCount=8,\n",
    "            tickOpacity=0.5,\n",
    "            ticks=False,\n",
    "            title=None\n",
    "        )\n",
    "    ),\n",
    "    color=alt.Color('country:N', legend=alt.Legend(orient='top-left', labelFontSize=11, labelColor='#122b39', titleColor='#122b39', title=None, symbolSize=50)),\n",
    ").transform_calculate(\n",
    "    year='year(datum.date)'\n",
    ").transform_filter(\n",
    "    alt.datum.country != 'China' \n",
    ").properties(\n",
    "    width=400,\n",
    "    height=300\n",
    ")\n",
    "\n",
    "### Let's add Country name as text to the end of line (most recent data point)\n",
    "# create a dataframe with the most recent value for each country\n",
    "df_recent = df_main.groupby('country').tail(1).reset_index(drop=True)\n",
    "\n",
    "chart = chart.configure(\n",
    "    font='Circular Std'\n",
    ").configure_view(\n",
    "    stroke=None\n",
    ")\n",
    "\n",
    "chart.display()"
   ]
  },
  {
   "cell_type": "code",
   "execution_count": 28,
   "metadata": {},
   "outputs": [],
   "source": [
    "# Convert chart to dictionary\n",
    "chart_dict = chart.to_dict()\n",
    "\n",
    "# Modify width and height directly (Altair will set continuousWidth and height by default)\n",
    "chart_dict['width'] = 400\n",
    "chart_dict['height'] = 300\n",
    "\n",
    "# Convert the dictionary back to JSON\n",
    "vega_spec = json.dumps(chart_dict, indent=2)\n",
    "\n",
    "# Write the JSON to a file\n",
    "with open('RailwayLength_Light_NoTitle.json', 'w') as f:\n",
    "    f.write(vega_spec)"
   ]
  },
  {
   "cell_type": "code",
   "execution_count": 29,
   "metadata": {},
   "outputs": [],
   "source": [
    "import vl_convert as vlc\n",
    "# # save the Altair chart as png in high resolution\n",
    "# chart.save('DH_RailwayLength.png')\n",
    "\n",
    "# Create PNG image data and then write to a file\n",
    "png_data = vlc.vegalite_to_png(vl_spec=vega_spec, scale=1.5)\n",
    "with open(\"RailwayLength_Light_NoTitle.png\", \"wb\") as f:\n",
    "    f.write(png_data)"
   ]
  },
  {
   "cell_type": "code",
   "execution_count": null,
   "metadata": {},
   "outputs": [],
   "source": []
  }
 ],
 "metadata": {
  "kernelspec": {
   "display_name": "datasci",
   "language": "python",
   "name": "python3"
  },
  "language_info": {
   "codemirror_mode": {
    "name": "ipython",
    "version": 3
   },
   "file_extension": ".py",
   "mimetype": "text/x-python",
   "name": "python",
   "nbconvert_exporter": "python",
   "pygments_lexer": "ipython3",
   "version": "3.9.15"
  },
  "orig_nbformat": 4
 },
 "nbformat": 4,
 "nbformat_minor": 2
}

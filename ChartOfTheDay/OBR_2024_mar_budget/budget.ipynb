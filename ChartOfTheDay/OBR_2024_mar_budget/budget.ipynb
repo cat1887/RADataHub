{
 "cells": [
  {
   "cell_type": "code",
   "execution_count": 6,
   "metadata": {},
   "outputs": [
    {
     "data": {
      "text/plain": [
       "ThemeRegistry.enable('dark')"
      ]
     },
     "execution_count": 6,
     "metadata": {},
     "output_type": "execute_result"
    }
   ],
   "source": [
    "import pandas as pd\n",
    "import numpy as np\n",
    "import altair as alt \n",
    "import eco_style\n",
    "\n",
    "alt.themes.enable('dark')"
   ]
  },
  {
   "cell_type": "code",
   "execution_count": 47,
   "metadata": {},
   "outputs": [],
   "source": [
    "df = pd.read_csv(\"data.csv\")\n",
    "df.value = df.value/100\n",
    "df.label = df.label.fillna(\"\")"
   ]
  },
  {
   "cell_type": "code",
   "execution_count": 50,
   "metadata": {},
   "outputs": [
    {
     "name": "stderr",
     "output_type": "stream",
     "text": [
      "/Users/finn/anaconda3/lib/python3.11/site-packages/altair/utils/core.py:395: FutureWarning: the convert_dtype parameter is deprecated and will be removed in a future version.  Do ``ser.astype(object).apply()`` instead if you want ``convert_dtype=False``.\n",
      "  col = df[col_name].apply(to_list_if_array, convert_dtype=False)\n",
      "/Users/finn/anaconda3/lib/python3.11/site-packages/altair/utils/core.py:395: FutureWarning: the convert_dtype parameter is deprecated and will be removed in a future version.  Do ``ser.astype(object).apply()`` instead if you want ``convert_dtype=False``.\n",
      "  col = df[col_name].apply(to_list_if_array, convert_dtype=False)\n",
      "/Users/finn/anaconda3/lib/python3.11/site-packages/altair/utils/core.py:395: FutureWarning: the convert_dtype parameter is deprecated and will be removed in a future version.  Do ``ser.astype(object).apply()`` instead if you want ``convert_dtype=False``.\n",
      "  col = df[col_name].apply(to_list_if_array, convert_dtype=False)\n",
      "/Users/finn/anaconda3/lib/python3.11/site-packages/altair/utils/core.py:395: FutureWarning: the convert_dtype parameter is deprecated and will be removed in a future version.  Do ``ser.astype(object).apply()`` instead if you want ``convert_dtype=False``.\n",
      "  col = df[col_name].apply(to_list_if_array, convert_dtype=False)\n",
      "/Users/finn/anaconda3/lib/python3.11/site-packages/altair/utils/core.py:395: FutureWarning: the convert_dtype parameter is deprecated and will be removed in a future version.  Do ``ser.astype(object).apply()`` instead if you want ``convert_dtype=False``.\n",
      "  col = df[col_name].apply(to_list_if_array, convert_dtype=False)\n",
      "/Users/finn/anaconda3/lib/python3.11/site-packages/altair/utils/core.py:395: FutureWarning: the convert_dtype parameter is deprecated and will be removed in a future version.  Do ``ser.astype(object).apply()`` instead if you want ``convert_dtype=False``.\n",
      "  col = df[col_name].apply(to_list_if_array, convert_dtype=False)\n"
     ]
    },
    {
     "data": {
      "text/html": [
       "\n",
       "<style>\n",
       "  #altair-viz-b78a286696d9438d8e4f8e57b276e633.vega-embed {\n",
       "    width: 100%;\n",
       "    display: flex;\n",
       "  }\n",
       "\n",
       "  #altair-viz-b78a286696d9438d8e4f8e57b276e633.vega-embed details,\n",
       "  #altair-viz-b78a286696d9438d8e4f8e57b276e633.vega-embed details summary {\n",
       "    position: relative;\n",
       "  }\n",
       "</style>\n",
       "<div id=\"altair-viz-b78a286696d9438d8e4f8e57b276e633\"></div>\n",
       "<script type=\"text/javascript\">\n",
       "  var VEGA_DEBUG = (typeof VEGA_DEBUG == \"undefined\") ? {} : VEGA_DEBUG;\n",
       "  (function(spec, embedOpt){\n",
       "    let outputDiv = document.currentScript.previousElementSibling;\n",
       "    if (outputDiv.id !== \"altair-viz-b78a286696d9438d8e4f8e57b276e633\") {\n",
       "      outputDiv = document.getElementById(\"altair-viz-b78a286696d9438d8e4f8e57b276e633\");\n",
       "    }\n",
       "    const paths = {\n",
       "      \"vega\": \"https://cdn.jsdelivr.net/npm/vega@5?noext\",\n",
       "      \"vega-lib\": \"https://cdn.jsdelivr.net/npm/vega-lib?noext\",\n",
       "      \"vega-lite\": \"https://cdn.jsdelivr.net/npm/vega-lite@5.8.0?noext\",\n",
       "      \"vega-embed\": \"https://cdn.jsdelivr.net/npm/vega-embed@6?noext\",\n",
       "    };\n",
       "\n",
       "    function maybeLoadScript(lib, version) {\n",
       "      var key = `${lib.replace(\"-\", \"\")}_version`;\n",
       "      return (VEGA_DEBUG[key] == version) ?\n",
       "        Promise.resolve(paths[lib]) :\n",
       "        new Promise(function(resolve, reject) {\n",
       "          var s = document.createElement('script');\n",
       "          document.getElementsByTagName(\"head\")[0].appendChild(s);\n",
       "          s.async = true;\n",
       "          s.onload = () => {\n",
       "            VEGA_DEBUG[key] = version;\n",
       "            return resolve(paths[lib]);\n",
       "          };\n",
       "          s.onerror = () => reject(`Error loading script: ${paths[lib]}`);\n",
       "          s.src = paths[lib];\n",
       "        });\n",
       "    }\n",
       "\n",
       "    function showError(err) {\n",
       "      outputDiv.innerHTML = `<div class=\"error\" style=\"color:red;\">${err}</div>`;\n",
       "      throw err;\n",
       "    }\n",
       "\n",
       "    function displayChart(vegaEmbed) {\n",
       "      vegaEmbed(outputDiv, spec, embedOpt)\n",
       "        .catch(err => showError(`Javascript Error: ${err.message}<br>This usually means there's a typo in your chart specification. See the javascript console for the full traceback.`));\n",
       "    }\n",
       "\n",
       "    if(typeof define === \"function\" && define.amd) {\n",
       "      requirejs.config({paths});\n",
       "      require([\"vega-embed\"], displayChart, err => showError(`Error loading script: ${err.message}`));\n",
       "    } else {\n",
       "      maybeLoadScript(\"vega\", \"5\")\n",
       "        .then(() => maybeLoadScript(\"vega-lite\", \"5.8.0\"))\n",
       "        .then(() => maybeLoadScript(\"vega-embed\", \"6\"))\n",
       "        .catch(showError)\n",
       "        .then(() => displayChart(vegaEmbed));\n",
       "    }\n",
       "  })({\"config\": {\"background\": \"#122B39\", \"font\": \"Circular Std\", \"title\": {\"color\": \"#b4c8d8\", \"fontSize\": 14, \"fontWeight\": 400}, \"mark\": {\"line\": {\"interpolate\": \"monotone\"}}, \"view\": {\"stroke\": \"transparent\", \"width\": 400, \"height\": 300}, \"range\": {\"category\": [\"#36B7B4\", \"#E6224B\", \"#F4C245\", \"#0063AF\", \"#00A767\", \"#179FDB\", \"#EB5C2E\"], \"diverging\": [\"#E6224B\", \"#E54753\", \"#C9C9C9\", \"#179FDB\", \"#122B39\"], \"heatmap\": [\"#C9C9C9\", \"#179FDB\", \"#0063AF\", \"#122B39\"], \"ordinal\": [\"#00A767\", \"#36B7B4\", \"#179FDB\", \"#0063AF\", \"#243B5A\"]}, \"axisX\": {\"domainColor\": \"#b4c8d8\", \"domainOpacity\": 0.5, \"grid\": false, \"labelAngle\": 0, \"labelColor\": \"#b4c8d8\", \"labelOpacity\": 0.7, \"orient\": \"bottom\", \"tickColor\": \"#b4c8d8\", \"tickCount\": 10, \"tickOpacity\": 0.5, \"title\": \"\", \"titleAlign\": \"center\", \"titleAnchor\": \"middle\", \"titleColor\": \"#b4c8d8\", \"titleFontSize\": 12, \"titleOpacity\": 0.8, \"titleX\": 207, \"titleY\": -15}, \"axisY\": {\"domainColor\": \"#b4c8d8\", \"domainOpacity\": 0.5, \"format\": \".0f\", \"gridColor\": \"#b4c8d8\", \"gridDash\": [1, 5], \"gridOpacity\": 0.5, \"labelColor\": \"#b4c8d8\", \"labelOpacity\": 0.7, \"labelPadding\": 5, \"tickColor\": \"#b4c8d8\", \"tickCount\": 8, \"tickOpacity\": 0.5, \"ticks\": false, \"title\": \"FAO price index\", \"titleAlign\": \"left\", \"titleAngle\": 0, \"titleBaseline\": \"bottom\", \"titleColor\": \"#b4c8d8\", \"titleFontSize\": 12, \"titleOpacity\": 0.8, \"titleX\": 0, \"titleY\": -7}}, \"layer\": [{\"mark\": {\"type\": \"line\"}, \"encoding\": {\"color\": {\"field\": \"series\", \"legend\": null, \"type\": \"nominal\"}, \"x\": {\"field\": \"date\", \"type\": \"temporal\"}, \"y\": {\"axis\": {\"format\": \"%\"}, \"field\": \"value\", \"scale\": {\"domain\": [0.2, 0.4]}, \"type\": \"quantitative\"}}}, {\"mark\": {\"type\": \"text\", \"align\": \"left\", \"dx\": 5, \"dy\": {\"expr\": \"datum.series == 'Post-budget Forecast' ? 5 : -5\"}}, \"encoding\": {\"color\": {\"field\": \"series\", \"legend\": null, \"type\": \"nominal\"}, \"text\": {\"field\": \"label\", \"type\": \"nominal\"}, \"x\": {\"field\": \"date\", \"type\": \"temporal\"}, \"y\": {\"axis\": {\"format\": \"%\"}, \"field\": \"value\", \"scale\": {\"domain\": [0.2, 0.4]}, \"type\": \"quantitative\"}}}], \"data\": {\"name\": \"data-1b411537a238e4defc205f8c6f60ff6d\"}, \"height\": 200, \"title\": {\"text\": \"Spring Budget: A Modest Tax Adjustment \", \"anchor\": \"start\", \"color\": \"whitesmoke\", \"subtitle\": [\"National Accounts Taxes a Percentage of GDP\", \"Source: OBR\", \"\"], \"subtitleColor\": \"#b4c8d8\"}, \"width\": 300, \"$schema\": \"https://vega.github.io/schema/vega-lite/v5.8.0.json\", \"datasets\": {\"data-1b411537a238e4defc205f8c6f60ff6d\": [{\"date\": \"2010-04-01\", \"series\": \"past\", \"value\": 0.33220319410000004, \"label\": \"\"}, {\"date\": \"2011-04-01\", \"series\": \"past\", \"value\": 0.3344509229, \"label\": \"\"}, {\"date\": \"2012-04-01\", \"series\": \"past\", \"value\": 0.3279100513, \"label\": \"\"}, {\"date\": \"2013-04-01\", \"series\": \"past\", \"value\": 0.3268830664, \"label\": \"\"}, {\"date\": \"2014-04-01\", \"series\": \"past\", \"value\": 0.32616118980000003, \"label\": \"\"}, {\"date\": \"2015-04-01\", \"series\": \"past\", \"value\": 0.3280120077, \"label\": \"\"}, {\"date\": \"2016-04-01\", \"series\": \"past\", \"value\": 0.33595566159999996, \"label\": \"\"}, {\"date\": \"2017-04-01\", \"series\": \"past\", \"value\": 0.3337470602, \"label\": \"\"}, {\"date\": \"2018-04-01\", \"series\": \"past\", \"value\": 0.338248047, \"label\": \"\"}, {\"date\": \"2019-04-01\", \"series\": \"past\", \"value\": 0.331314332, \"label\": \"\"}, {\"date\": \"2020-04-01\", \"series\": \"past\", \"value\": 0.34067452439999996, \"label\": \"\"}, {\"date\": \"2021-04-01\", \"series\": \"past\", \"value\": 0.3520364788, \"label\": \"\"}, {\"date\": \"2022-04-01\", \"series\": \"past\", \"value\": 0.3626701735, \"label\": \"\"}, {\"date\": \"2022-04-01\", \"series\": \"Pre-budget Forecast\", \"value\": 0.363, \"label\": \"\"}, {\"date\": \"2023-04-01\", \"series\": \"Pre-budget Forecast\", \"value\": 0.36090059529999996, \"label\": \"\"}, {\"date\": \"2024-04-01\", \"series\": \"Pre-budget Forecast\", \"value\": 0.3698717276, \"label\": \"\"}, {\"date\": \"2025-04-01\", \"series\": \"Pre-budget Forecast\", \"value\": 0.3708231205, \"label\": \"\"}, {\"date\": \"2026-04-01\", \"series\": \"Pre-budget Forecast\", \"value\": 0.37127681539999996, \"label\": \"\"}, {\"date\": \"2027-04-01\", \"series\": \"Pre-budget Forecast\", \"value\": 0.3722344727, \"label\": \"\"}, {\"date\": \"2028-04-01\", \"series\": \"Pre-budget Forecast\", \"value\": 0.3733857085, \"label\": \"Pre-budget Forecast\"}, {\"date\": \"2022-04-01\", \"series\": \"Post-budget Forecast\", \"value\": 0.363, \"label\": \"\"}, {\"date\": \"2023-04-01\", \"series\": \"Post-budget Forecast\", \"value\": 0.361, \"label\": \"\"}, {\"date\": \"2024-04-01\", \"series\": \"Post-budget Forecast\", \"value\": 0.365, \"label\": \"\"}, {\"date\": \"2025-04-01\", \"series\": \"Post-budget Forecast\", \"value\": 0.36700000000000005, \"label\": \"\"}, {\"date\": \"2026-04-01\", \"series\": \"Post-budget Forecast\", \"value\": 0.369, \"label\": \"\"}, {\"date\": \"2027-04-01\", \"series\": \"Post-budget Forecast\", \"value\": 0.37, \"label\": \"\"}, {\"date\": \"2028-04-01\", \"series\": \"Post-budget Forecast\", \"value\": 0.371, \"label\": \"Post-budget Forecast\"}]}}, {\"mode\": \"vega-lite\"});\n",
       "</script>"
      ],
      "text/plain": [
       "alt.LayerChart(...)"
      ]
     },
     "execution_count": 50,
     "metadata": {},
     "output_type": "execute_result"
    }
   ],
   "source": [
    "base = alt.Chart(df).encode(\n",
    "    x=alt.X('date:T'),\n",
    "    y=alt.Y('value:Q', \n",
    "            scale=alt.Scale(domain=[0.2,0.40]),\n",
    "            axis=alt.Axis(format='%')),\n",
    "    color=alt.Color('series:N', legend=None),\n",
    ")\n",
    "\n",
    "lines = base.mark_line()\n",
    "\n",
    "labels = base.mark_text(align='left',\n",
    "                        dy=alt.expr(\"datum.series == 'Post-budget Forecast' ? 5 : -5\"),\n",
    "                         dx=5,).encode(\n",
    "    text='label:N'\n",
    ")\n",
    "\n",
    "chart = lines + labels\n",
    "\n",
    "chart = chart.properties(\n",
    "    title=alt.TitleParams(\n",
    "        \"Spring Budget: A Modest Tax Adjustment \",\n",
    "        subtitle=[\"National Accounts Taxes a Percentage of GDP\", \"Source: OBR\", \"\"],\n",
    "        anchor='start',\n",
    "        color=\"whitesmoke\",\n",
    "        subtitleColor=\"#b4c8d8\"\n",
    "    ),\n",
    "    width=300,\n",
    "    height=200\n",
    ")\n",
    "\n",
    "chart.save(\"chart.png\", scale_factor=4.0)\n",
    "\n",
    "chart.save(\"chart.json\")\n",
    "\n",
    "\n",
    "chart"
   ]
  },
  {
   "cell_type": "code",
   "execution_count": null,
   "metadata": {},
   "outputs": [],
   "source": []
  }
 ],
 "metadata": {
  "kernelspec": {
   "display_name": "base",
   "language": "python",
   "name": "python3"
  },
  "language_info": {
   "codemirror_mode": {
    "name": "ipython",
    "version": 3
   },
   "file_extension": ".py",
   "mimetype": "text/x-python",
   "name": "python",
   "nbconvert_exporter": "python",
   "pygments_lexer": "ipython3",
   "version": "3.11.4"
  }
 },
 "nbformat": 4,
 "nbformat_minor": 2
}

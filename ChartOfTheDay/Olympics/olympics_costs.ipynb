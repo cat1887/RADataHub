{
 "cells": [
  {
   "cell_type": "code",
   "execution_count": 30,
   "metadata": {},
   "outputs": [],
   "source": [
    "import selenium as se\n",
    "from selenium import webdriver\n",
    "\n",
    "from bs4 import BeautifulSoup\n",
    "\n",
    "import pandas as pd"
   ]
  },
  {
   "cell_type": "markdown",
   "metadata": {},
   "source": [
    "**Target:** Scrape data tables on webpage\n"
   ]
  },
  {
   "cell_type": "code",
   "execution_count": 31,
   "metadata": {},
   "outputs": [
    {
     "ename": "NoSuchWindowException",
     "evalue": "Message: no such window: target window already closed\nfrom unknown error: web view not found\n  (Session info: chrome=126.0.6478.182)\nStacktrace:\n0   chromedriver                        0x0000000103112a0c chromedriver + 4385292\n1   chromedriver                        0x000000010310b318 chromedriver + 4354840\n2   chromedriver                        0x0000000102d28b0c chromedriver + 281356\n3   chromedriver                        0x0000000102d03af0 chromedriver + 129776\n4   chromedriver                        0x0000000102d90314 chromedriver + 705300\n5   chromedriver                        0x0000000102da3438 chromedriver + 783416\n6   chromedriver                        0x0000000102d5feec chromedriver + 507628\n7   chromedriver                        0x0000000102d608c4 chromedriver + 510148\n8   chromedriver                        0x00000001030da3c8 chromedriver + 4154312\n9   chromedriver                        0x00000001030dee2c chromedriver + 4173356\n10  chromedriver                        0x00000001030bff84 chromedriver + 4046724\n11  chromedriver                        0x00000001030df718 chromedriver + 4175640\n12  chromedriver                        0x00000001030b2f44 chromedriver + 3993412\n13  chromedriver                        0x00000001030fd1a8 chromedriver + 4297128\n14  chromedriver                        0x00000001030fd324 chromedriver + 4297508\n15  chromedriver                        0x000000010310af10 chromedriver + 4353808\n16  libsystem_pthread.dylib             0x000000018cd23034 _pthread_start + 136\n17  libsystem_pthread.dylib             0x000000018cd1de3c thread_start + 8\n",
     "output_type": "error",
     "traceback": [
      "\u001b[0;31m---------------------------------------------------------------------------\u001b[0m",
      "\u001b[0;31mNoSuchWindowException\u001b[0m                     Traceback (most recent call last)",
      "Input \u001b[0;32mIn [31]\u001b[0m, in \u001b[0;36m<cell line: 7>\u001b[0;34m()\u001b[0m\n\u001b[1;32m      3\u001b[0m driver \u001b[38;5;241m=\u001b[39m webdriver\u001b[38;5;241m.\u001b[39mChrome()\n\u001b[1;32m      5\u001b[0m driver\u001b[38;5;241m.\u001b[39mget(target_url)\n\u001b[0;32m----> 7\u001b[0m html \u001b[38;5;241m=\u001b[39m \u001b[43mdriver\u001b[49m\u001b[38;5;241;43m.\u001b[39;49m\u001b[43mpage_source\u001b[49m\n\u001b[1;32m      9\u001b[0m soup \u001b[38;5;241m=\u001b[39m BeautifulSoup(html, \u001b[38;5;124m'\u001b[39m\u001b[38;5;124mhtml.parser\u001b[39m\u001b[38;5;124m'\u001b[39m)\n\u001b[1;32m     11\u001b[0m \u001b[38;5;66;03m# Save soup to file\u001b[39;00m\n",
      "File \u001b[0;32m~/opt/anaconda3/lib/python3.9/site-packages/selenium/webdriver/remote/webdriver.py:448\u001b[0m, in \u001b[0;36mWebDriver.page_source\u001b[0;34m(self)\u001b[0m\n\u001b[1;32m    439\u001b[0m \u001b[38;5;129m@property\u001b[39m\n\u001b[1;32m    440\u001b[0m \u001b[38;5;28;01mdef\u001b[39;00m \u001b[38;5;21mpage_source\u001b[39m(\u001b[38;5;28mself\u001b[39m) \u001b[38;5;241m-\u001b[39m\u001b[38;5;241m>\u001b[39m \u001b[38;5;28mstr\u001b[39m:\n\u001b[1;32m    441\u001b[0m     \u001b[38;5;124;03m\"\"\"Gets the source of the current page.\u001b[39;00m\n\u001b[1;32m    442\u001b[0m \n\u001b[1;32m    443\u001b[0m \u001b[38;5;124;03m    :Usage:\u001b[39;00m\n\u001b[0;32m   (...)\u001b[0m\n\u001b[1;32m    446\u001b[0m \u001b[38;5;124;03m            driver.page_source\u001b[39;00m\n\u001b[1;32m    447\u001b[0m \u001b[38;5;124;03m    \"\"\"\u001b[39;00m\n\u001b[0;32m--> 448\u001b[0m     \u001b[38;5;28;01mreturn\u001b[39;00m \u001b[38;5;28;43mself\u001b[39;49m\u001b[38;5;241;43m.\u001b[39;49m\u001b[43mexecute\u001b[49m\u001b[43m(\u001b[49m\u001b[43mCommand\u001b[49m\u001b[38;5;241;43m.\u001b[39;49m\u001b[43mGET_PAGE_SOURCE\u001b[49m\u001b[43m)\u001b[49m[\u001b[38;5;124m\"\u001b[39m\u001b[38;5;124mvalue\u001b[39m\u001b[38;5;124m\"\u001b[39m]\n",
      "File \u001b[0;32m~/opt/anaconda3/lib/python3.9/site-packages/selenium/webdriver/remote/webdriver.py:347\u001b[0m, in \u001b[0;36mWebDriver.execute\u001b[0;34m(self, driver_command, params)\u001b[0m\n\u001b[1;32m    345\u001b[0m response \u001b[38;5;241m=\u001b[39m \u001b[38;5;28mself\u001b[39m\u001b[38;5;241m.\u001b[39mcommand_executor\u001b[38;5;241m.\u001b[39mexecute(driver_command, params)\n\u001b[1;32m    346\u001b[0m \u001b[38;5;28;01mif\u001b[39;00m response:\n\u001b[0;32m--> 347\u001b[0m     \u001b[38;5;28;43mself\u001b[39;49m\u001b[38;5;241;43m.\u001b[39;49m\u001b[43merror_handler\u001b[49m\u001b[38;5;241;43m.\u001b[39;49m\u001b[43mcheck_response\u001b[49m\u001b[43m(\u001b[49m\u001b[43mresponse\u001b[49m\u001b[43m)\u001b[49m\n\u001b[1;32m    348\u001b[0m     response[\u001b[38;5;124m\"\u001b[39m\u001b[38;5;124mvalue\u001b[39m\u001b[38;5;124m\"\u001b[39m] \u001b[38;5;241m=\u001b[39m \u001b[38;5;28mself\u001b[39m\u001b[38;5;241m.\u001b[39m_unwrap_value(response\u001b[38;5;241m.\u001b[39mget(\u001b[38;5;124m\"\u001b[39m\u001b[38;5;124mvalue\u001b[39m\u001b[38;5;124m\"\u001b[39m, \u001b[38;5;28;01mNone\u001b[39;00m))\n\u001b[1;32m    349\u001b[0m     \u001b[38;5;28;01mreturn\u001b[39;00m response\n",
      "File \u001b[0;32m~/opt/anaconda3/lib/python3.9/site-packages/selenium/webdriver/remote/errorhandler.py:229\u001b[0m, in \u001b[0;36mErrorHandler.check_response\u001b[0;34m(self, response)\u001b[0m\n\u001b[1;32m    227\u001b[0m         alert_text \u001b[38;5;241m=\u001b[39m value[\u001b[38;5;124m\"\u001b[39m\u001b[38;5;124malert\u001b[39m\u001b[38;5;124m\"\u001b[39m]\u001b[38;5;241m.\u001b[39mget(\u001b[38;5;124m\"\u001b[39m\u001b[38;5;124mtext\u001b[39m\u001b[38;5;124m\"\u001b[39m)\n\u001b[1;32m    228\u001b[0m     \u001b[38;5;28;01mraise\u001b[39;00m exception_class(message, screen, stacktrace, alert_text)  \u001b[38;5;66;03m# type: ignore[call-arg]  # mypy is not smart enough here\u001b[39;00m\n\u001b[0;32m--> 229\u001b[0m \u001b[38;5;28;01mraise\u001b[39;00m exception_class(message, screen, stacktrace)\n",
      "\u001b[0;31mNoSuchWindowException\u001b[0m: Message: no such window: target window already closed\nfrom unknown error: web view not found\n  (Session info: chrome=126.0.6478.182)\nStacktrace:\n0   chromedriver                        0x0000000103112a0c chromedriver + 4385292\n1   chromedriver                        0x000000010310b318 chromedriver + 4354840\n2   chromedriver                        0x0000000102d28b0c chromedriver + 281356\n3   chromedriver                        0x0000000102d03af0 chromedriver + 129776\n4   chromedriver                        0x0000000102d90314 chromedriver + 705300\n5   chromedriver                        0x0000000102da3438 chromedriver + 783416\n6   chromedriver                        0x0000000102d5feec chromedriver + 507628\n7   chromedriver                        0x0000000102d608c4 chromedriver + 510148\n8   chromedriver                        0x00000001030da3c8 chromedriver + 4154312\n9   chromedriver                        0x00000001030dee2c chromedriver + 4173356\n10  chromedriver                        0x00000001030bff84 chromedriver + 4046724\n11  chromedriver                        0x00000001030df718 chromedriver + 4175640\n12  chromedriver                        0x00000001030b2f44 chromedriver + 3993412\n13  chromedriver                        0x00000001030fd1a8 chromedriver + 4297128\n14  chromedriver                        0x00000001030fd324 chromedriver + 4297508\n15  chromedriver                        0x000000010310af10 chromedriver + 4353808\n16  libsystem_pthread.dylib             0x000000018cd23034 _pthread_start + 136\n17  libsystem_pthread.dylib             0x000000018cd1de3c thread_start + 8\n"
     ]
    }
   ],
   "source": [
    "target_url = 'https://www.cfr.org/backgrounder/economics-hosting-olympic-games'\n",
    "\n",
    "driver = webdriver.Chrome()\n",
    "\n",
    "driver.get(target_url)\n",
    "\n",
    "html = driver.page_source\n",
    "\n",
    "soup = BeautifulSoup(html, 'html.parser')\n",
    "\n",
    "# Save soup to file\n",
    "with open('soup.html', 'w') as f:\n",
    "    f.write(soup.prettify())\n",
    "\n",
    "driver.quit()"
   ]
  },
  {
   "cell_type": "markdown",
   "metadata": {},
   "source": [
    "1. Scrape table `The Olympics Have Never Come In Under Budget`\n",
    "\n",
    "- The data table doesn't appear to be within the saved page HTML.\n",
    "- Why? The table is loaded in as an iframe, so we won't be able to see it in the HTML using normal `driver.page_source` methods.\n",
    "- The outer HTML element for the iframe is:\n",
    "```html\n",
    "<iframe title=\"The Olympics Have Never Come in Under Budget\" aria-label=\"Table\" id=\"datawrapper-chart-cUV3B\" src=\"https://datawrapper.dwcdn.net/cUV3B/5/\" scrolling=\"no\" frameborder=\"0\" style=\"width: 0px; border: none; min-width: 100% !important; height: 800px;\" height=\"751\" data-external=\"1\">\n",
    "    ...\n",
    "\n",
    "</iframe>\n",
    "```"
   ]
  },
  {
   "cell_type": "markdown",
   "metadata": {},
   "source": [
    "- By default the selenium.webdriver object is set to the default page which it has parsed. To get the iframe data you will have to switch to the given iframe. Source: [Stackoverflow](https://stackoverflow.com/questions/49825722/scraping-iframe-using-selenium)"
   ]
  },
  {
   "cell_type": "code",
   "execution_count": null,
   "metadata": {},
   "outputs": [],
   "source": [
    "target_url = 'https://www.cfr.org/backgrounder/economics-hosting-olympic-games'\n",
    "\n",
    "# Open the Chrome browser\n",
    "driver = webdriver.Chrome()\n",
    "\n",
    "# Open the target URL\n",
    "driver.get(target_url)\n",
    "\n",
    "# Find the <iframe> tag with the attribute id=\"datawrapper-chart-cUV3B\"\n",
    "frame = driver.find_element(\"xpath\", \"//iframe[@id='datawrapper-chart-cUV3B']\")\n",
    "\n",
    "# switch the webdriver object to the iframe.\n",
    "driver.switch_to.frame(frame)\n",
    "\n",
    "# Get the page html\n",
    "html = driver.page_source\n",
    "# Parse the html using BeautifulSoup\n",
    "soup = BeautifulSoup(html, 'html.parser')\n",
    "\n",
    "# Save soup to file, so we can search through to check if we have the correct data\n",
    "with open('soup_iframe.html', 'w') as f:\n",
    "    f.write(soup.prettify())\n",
    "\n",
    "# Close the driver\n",
    "driver.quit()"
   ]
  },
  {
   "cell_type": "markdown",
   "metadata": {},
   "source": [
    "Searching the saved HTML for some table contents shows we are now successfully retrieving the table data. \n",
    "\n",
    "- Next, need to find the Table using BeautifulSoup and build a DataFrame from its contents."
   ]
  },
  {
   "cell_type": "code",
   "execution_count": null,
   "metadata": {},
   "outputs": [
    {
     "data": {
      "text/plain": [
       "<table cellspacing=\"0\" class=\"medium datawrapper-cUV3B-1k2zto9 svelte-1smti70 compact resortable\"><caption class=\"sr-only\">Table with 5 columns and 19 rows.</caption><thead><tr class=\"datawrapper-cUV3B-1wbuely svelte-1smti70\"><th class=\"first type-date align-left resortable cell svelte-1fhgpfc\" colspan=\"1\" data-column=\"Year\" data-row=\"-1\" scope=\"col\" style=\"width: 3%;min-width: 10px;border-bottom:1px solid #4B535D;color: #04284A;font-size: 100%;\"><button class=\"sort svelte-1smti70\"><span class=\"content dw-bold\">Year</span></button></th><th class=\"type-text align-left resortable cell svelte-1fhgpfc\" colspan=\"1\" data-column=\"City\" data-row=\"-1\" scope=\"col\" style=\"width: 21%;min-width: 27px;border-bottom:1px solid #4B535D;color: #04284A;font-size: 100%;\"><button class=\"sort svelte-1smti70\"><span class=\"content dw-bold\">City</span></button></th><th class=\"type-text align-left resortable cell svelte-1fhgpfc\" colspan=\"1\" data-column=\"Season\" data-row=\"-1\" scope=\"col\" style=\"width: 3%;min-width: 10px;border-bottom:1px solid #4B535D;color: #04284A;font-size: 100%;\"><button class=\"sort svelte-1smti70\"><span class=\"content dw-bold\">Season</span></button></th><th class=\"type-bar align-left resortable cell svelte-1fhgpfc\" colspan=\"1\" data-column=\"Cost (2022$)\" data-row=\"-1\" scope=\"col\" style=\"width: 66%;min-width: 70px;border-bottom:1px solid #4B535D;color: #04284A;font-size: 100%;\"><button class=\"sort svelte-1smti70\"><span class=\"content dw-bold\">Cost</span></button></th><th class=\"last type-number align-right resortable cell svelte-1fhgpfc\" colspan=\"1\" data-column=\"Real cost overruns (%)\" data-row=\"-1\" scope=\"col\" style=\"border-bottom:1px solid #4B535D;color: #04284A;font-size: 100%;\"><button class=\"sort svelte-1smti70\"><span class=\"content dw-bold\">Overrun</span></button></th></tr></thead><tbody><tr class=\"datawrapper-cUV3B-1c5djey svelte-1smti70\"><th class=\"first type-date dw-bold align-left align-vertical-middle td cell svelte-1ws307v\" colspan=\"1\" scope=\"row\" style=\"font-size: 90%; width: 3%; min-width: 10px;\">1988</th><td class=\"type-text dw-bold align-left align-vertical-middle td cell svelte-1ws307v\" colspan=\"1\" style=\"font-size: 100%; width: 21%; min-width: 27px;\">Calgary</td><td class=\"type-text align-left align-vertical-middle td cell svelte-1ws307v\" colspan=\"1\" style=\"color: rgb(158, 163, 165); font-size: 90%; width: 3%; min-width: 10px;\">Winter</td><td class=\"type-bar align-left align-vertical-middle td cell svelte-1ws307v\" colspan=\"1\" style=\"font-size: 100%; width: 66%; min-width: 70px;\"><div class=\"sr-only\">$1.2B</div><div aria-hidden=\"true\" class=\"bar-chart datawrapper-cUV3B-1udwhp8 svelte-enpqx1 no-background normal\" title=\"$1.2B\"><div class=\"baseline svelte-enpqx1\" style=\"display: none\"></div><div class=\"bar svelte-enpqx1\" style=\"background: #2e75b8;margin-left: 0%;width: 4.1522491349480966%\"><div class=\"bar-label invisible svelte-enpqx1\">$1.2B</div><div class=\"bar-label svelte-enpqx1\" style=\"left: 4.1522491349480966%;width: 95.8477508650519%;text-align: left;padding-left: 3px;overflow: hidden;white-space: nowrap;;text-overflow: ellipsis;\">$1.2B</div></div></div></td><td class=\"last type-number align-right align-vertical-middle td cell svelte-1ws307v\" colspan=\"1\" style=\"font-size: 100%;\">65%</td></tr><tr class=\"datawrapper-cUV3B-1c5djey svelte-1smti70\"><th class=\"first type-date dw-bold align-left align-vertical-middle td cell svelte-1ws307v\" colspan=\"1\" scope=\"row\" style=\"font-size: 90%; width: 3%; min-width: 10px;\">1992</th><td class=\"type-text dw-bold align-left align-vertical-middle td cell svelte-1ws307v\" colspan=\"1\" style=\"font-size: 100%; width: 21%; min-width: 27px;\">Albertville</td><td class=\"type-text align-left align-vertical-middle td cell svelte-1ws307v\" colspan=\"1\" style=\"color: rgb(158, 163, 165); font-size: 90%; width: 3%; min-width: 10px;\">Winter</td><td class=\"type-bar align-left align-vertical-middle td cell svelte-1ws307v\" colspan=\"1\" style=\"font-size: 100%; width: 66%; min-width: 70px;\"><div class=\"sr-only\">$2.1B</div><div aria-hidden=\"true\" class=\"bar-chart datawrapper-cUV3B-1udwhp8 svelte-enpqx1 no-background normal\" title=\"$2.1B\"><div class=\"baseline svelte-enpqx1\" style=\"display: none\"></div><div class=\"bar svelte-enpqx1\" style=\"background: #2e75b8;margin-left: 0%;width: 7.26643598615917%\"><div class=\"bar-label invisible svelte-enpqx1\">$2.1B</div><div class=\"bar-label svelte-enpqx1\" style=\"left: 7.26643598615917%;width: 92.73356401384083%;text-align: left;padding-left: 3px;overflow: hidden;white-space: nowrap;;text-overflow: ellipsis;\">$2.1B</div></div></div></td><td class=\"last type-number align-right align-vertical-middle td cell svelte-1ws307v\" colspan=\"1\" style=\"font-size: 100%;\">137%</td></tr><tr class=\"datawrapper-cUV3B-1c5djey svelte-1smti70\"><th class=\"first type-date dw-bold align-left align-vertical-middle td cell svelte-1ws307v\" colspan=\"1\" scope=\"row\" style=\"font-size: 90%; width: 3%; min-width: 10px;\">1992</th><td class=\"type-text dw-bold align-left align-vertical-middle td cell svelte-1ws307v\" colspan=\"1\" style=\"font-size: 100%; width: 21%; min-width: 27px;\">Barcelona</td><td class=\"type-text align-left align-vertical-middle td cell svelte-1ws307v\" colspan=\"1\" style=\"color: rgb(158, 163, 165); font-size: 90%; width: 3%; min-width: 10px;\">Summer</td><td class=\"type-bar align-left align-vertical-middle td cell svelte-1ws307v\" colspan=\"1\" style=\"font-size: 100%; width: 66%; min-width: 70px;\"><div class=\"sr-only\">$11.6B</div><div aria-hidden=\"true\" class=\"bar-chart datawrapper-cUV3B-1udwhp8 svelte-enpqx1 no-background normal\" title=\"$11.6B\"><div class=\"baseline svelte-enpqx1\" style=\"display: none\"></div><div class=\"bar svelte-enpqx1\" style=\"background: #2e75b8;margin-left: 0%;width: 40.13840830449827%\"><div class=\"bar-label invisible svelte-enpqx1\">$11.6B</div><div class=\"bar-label svelte-enpqx1\" style=\"color: #ffffff;left: 0%;width: 40.13840830449827%;text-align: right;padding: 0 3px;overflow: hidden;white-space: nowrap;;text-overflow: ellipsis;\">$11.6B</div></div></div></td><td class=\"last type-number align-right align-vertical-middle td cell svelte-1ws307v\" colspan=\"1\" style=\"font-size: 100%;\">266%</td></tr><tr class=\"datawrapper-cUV3B-1c5djey svelte-1smti70\"><th class=\"first type-date dw-bold align-left align-vertical-middle td cell svelte-1ws307v\" colspan=\"1\" scope=\"row\" style=\"font-size: 90%; width: 3%; min-width: 10px;\">1994</th><td class=\"type-text dw-bold align-left align-vertical-middle td cell svelte-1ws307v\" colspan=\"1\" style=\"font-size: 100%; width: 21%; min-width: 27px;\">Lillehammer</td><td class=\"type-text align-left align-vertical-middle td cell svelte-1ws307v\" colspan=\"1\" style=\"color: rgb(158, 163, 165); font-size: 90%; width: 3%; min-width: 10px;\">Winter</td><td class=\"type-bar align-left align-vertical-middle td cell svelte-1ws307v\" colspan=\"1\" style=\"font-size: 100%; width: 66%; min-width: 70px;\"><div class=\"sr-only\">$3.4B</div><div aria-hidden=\"true\" class=\"bar-chart datawrapper-cUV3B-1udwhp8 svelte-enpqx1 no-background normal\" title=\"$3.4B\"><div class=\"baseline svelte-enpqx1\" style=\"display: none\"></div><div class=\"bar svelte-enpqx1\" style=\"background: #2e75b8;margin-left: 0%;width: 11.764705882352942%\"><div class=\"bar-label invisible svelte-enpqx1\">$3.4B</div><div class=\"bar-label svelte-enpqx1\" style=\"left: 11.764705882352942%;width: 88.23529411764706%;text-align: left;padding-left: 3px;overflow: hidden;white-space: nowrap;;text-overflow: ellipsis;\">$3.4B</div></div></div></td><td class=\"last type-number align-right align-vertical-middle td cell svelte-1ws307v\" colspan=\"1\" style=\"font-size: 100%;\">277%</td></tr><tr class=\"datawrapper-cUV3B-1c5djey svelte-1smti70\"><th class=\"first type-date dw-bold align-left align-vertical-middle td cell svelte-1ws307v\" colspan=\"1\" scope=\"row\" style=\"font-size: 90%; width: 3%; min-width: 10px;\">1996</th><td class=\"type-text dw-bold align-left align-vertical-middle td cell svelte-1ws307v\" colspan=\"1\" style=\"font-size: 100%; width: 21%; min-width: 27px;\">Atlanta</td><td class=\"type-text align-left align-vertical-middle td cell svelte-1ws307v\" colspan=\"1\" style=\"color: rgb(158, 163, 165); font-size: 90%; width: 3%; min-width: 10px;\">Summer</td><td class=\"type-bar align-left align-vertical-middle td cell svelte-1ws307v\" colspan=\"1\" style=\"font-size: 100%; width: 66%; min-width: 70px;\"><div class=\"sr-only\">$4.7B</div><div aria-hidden=\"true\" class=\"bar-chart datawrapper-cUV3B-1udwhp8 svelte-enpqx1 no-background normal\" title=\"$4.7B\"><div class=\"baseline svelte-enpqx1\" style=\"display: none\"></div><div class=\"bar svelte-enpqx1\" style=\"background: #2e75b8;margin-left: 0%;width: 16.262975778546714%\"><div class=\"bar-label invisible svelte-enpqx1\">$4.7B</div><div class=\"bar-label svelte-enpqx1\" style=\"left: 16.262975778546714%;width: 83.73702422145328%;text-align: left;padding-left: 3px;overflow: hidden;white-space: nowrap;;text-overflow: ellipsis;\">$4.7B</div></div></div></td><td class=\"last type-number align-right align-vertical-middle td cell svelte-1ws307v\" colspan=\"1\" style=\"font-size: 100%;\">151%</td></tr><tr class=\"datawrapper-cUV3B-1c5djey svelte-1smti70\"><th class=\"first type-date dw-bold align-left align-vertical-middle td cell svelte-1ws307v\" colspan=\"1\" scope=\"row\" style=\"font-size: 90%; width: 3%; min-width: 10px;\">1998</th><td class=\"type-text dw-bold align-left align-vertical-middle td cell svelte-1ws307v\" colspan=\"1\" style=\"font-size: 100%; width: 21%; min-width: 27px;\">Nagano</td><td class=\"type-text align-left align-vertical-middle td cell svelte-1ws307v\" colspan=\"1\" style=\"color: rgb(158, 163, 165); font-size: 90%; width: 3%; min-width: 10px;\">Winter</td><td class=\"type-bar align-left align-vertical-middle td cell svelte-1ws307v\" colspan=\"1\" style=\"font-size: 100%; width: 66%; min-width: 70px;\"><div class=\"sr-only\">$2.2B</div><div aria-hidden=\"true\" class=\"bar-chart datawrapper-cUV3B-1udwhp8 svelte-enpqx1 no-background normal\" title=\"$2.2B\"><div class=\"baseline svelte-enpqx1\" style=\"display: none\"></div><div class=\"bar svelte-enpqx1\" style=\"background: #2e75b8;margin-left: 0%;width: 7.612456747404845%\"><div class=\"bar-label invisible svelte-enpqx1\">$2.2B</div><div class=\"bar-label svelte-enpqx1\" style=\"left: 7.612456747404845%;width: 92.38754325259515%;text-align: left;padding-left: 3px;overflow: hidden;white-space: nowrap;;text-overflow: ellipsis;\">$2.2B</div></div></div></td><td class=\"last type-number align-right align-vertical-middle td cell svelte-1ws307v\" colspan=\"1\" style=\"font-size: 100%;\">56%</td></tr><tr class=\"datawrapper-cUV3B-1c5djey svelte-1smti70\"><th class=\"first type-date dw-bold align-left align-vertical-middle td cell svelte-1ws307v\" colspan=\"1\" scope=\"row\" style=\"font-size: 90%; width: 3%; min-width: 10px;\">2000</th><td class=\"type-text dw-bold align-left align-vertical-middle td cell svelte-1ws307v\" colspan=\"1\" style=\"font-size: 100%; width: 21%; min-width: 27px;\">Sydney</td><td class=\"type-text align-left align-vertical-middle td cell svelte-1ws307v\" colspan=\"1\" style=\"color: rgb(158, 163, 165); font-size: 90%; width: 3%; min-width: 10px;\">Summer</td><td class=\"type-bar align-left align-vertical-middle td cell svelte-1ws307v\" colspan=\"1\" style=\"font-size: 100%; width: 66%; min-width: 70px;\"><div class=\"sr-only\">$5.2B</div><div aria-hidden=\"true\" class=\"bar-chart datawrapper-cUV3B-1udwhp8 svelte-enpqx1 no-background normal\" title=\"$5.2B\"><div class=\"baseline svelte-enpqx1\" style=\"display: none\"></div><div class=\"bar svelte-enpqx1\" style=\"background: #2e75b8;margin-left: 0%;width: 17.993079584775085%\"><div class=\"bar-label invisible svelte-enpqx1\">$5.2B</div><div class=\"bar-label svelte-enpqx1\" style=\"left: 17.993079584775085%;width: 82.00692041522491%;text-align: left;padding-left: 3px;overflow: hidden;white-space: nowrap;;text-overflow: ellipsis;\">$5.2B</div></div></div></td><td class=\"last type-number align-right align-vertical-middle td cell svelte-1ws307v\" colspan=\"1\" style=\"font-size: 100%;\">90%</td></tr><tr class=\"datawrapper-cUV3B-1c5djey svelte-1smti70\"><th class=\"first type-date dw-bold align-left align-vertical-middle td cell svelte-1ws307v\" colspan=\"1\" scope=\"row\" style=\"font-size: 90%; width: 3%; min-width: 10px;\">2002</th><td class=\"type-text dw-bold align-left align-vertical-middle td cell svelte-1ws307v\" colspan=\"1\" style=\"font-size: 100%; width: 21%; min-width: 27px;\">Salt Lake City</td><td class=\"type-text align-left align-vertical-middle td cell svelte-1ws307v\" colspan=\"1\" style=\"color: rgb(158, 163, 165); font-size: 90%; width: 3%; min-width: 10px;\">Winter</td><td class=\"type-bar align-left align-vertical-middle td cell svelte-1ws307v\" colspan=\"1\" style=\"font-size: 100%; width: 66%; min-width: 70px;\"><div class=\"sr-only\">$2.7B</div><div aria-hidden=\"true\" class=\"bar-chart datawrapper-cUV3B-1udwhp8 svelte-enpqx1 no-background normal\" title=\"$2.7B\"><div class=\"baseline svelte-enpqx1\" style=\"display: none\"></div><div class=\"bar svelte-enpqx1\" style=\"background: #2e75b8;margin-left: 0%;width: 9.342560553633218%\"><div class=\"bar-label invisible svelte-enpqx1\">$2.7B</div><div class=\"bar-label svelte-enpqx1\" style=\"left: 9.342560553633218%;width: 90.65743944636678%;text-align: left;padding-left: 3px;overflow: hidden;white-space: nowrap;;text-overflow: ellipsis;\">$2.7B</div></div></div></td><td class=\"last type-number align-right align-vertical-middle td cell svelte-1ws307v\" colspan=\"1\" style=\"font-size: 100%;\">24%</td></tr><tr class=\"datawrapper-cUV3B-1c5djey svelte-1smti70\"><th class=\"first type-date dw-bold align-left align-vertical-middle td cell svelte-1ws307v\" colspan=\"1\" scope=\"row\" style=\"font-size: 90%; width: 3%; min-width: 10px;\">2004</th><td class=\"type-text dw-bold align-left align-vertical-middle td cell svelte-1ws307v\" colspan=\"1\" style=\"font-size: 100%; width: 21%; min-width: 27px;\">Athens</td><td class=\"type-text align-left align-vertical-middle td cell svelte-1ws307v\" colspan=\"1\" style=\"color: rgb(158, 163, 165); font-size: 90%; width: 3%; min-width: 10px;\">Summer</td><td class=\"type-bar align-left align-vertical-middle td cell svelte-1ws307v\" colspan=\"1\" style=\"font-size: 100%; width: 66%; min-width: 70px;\"><div class=\"sr-only\">$3.1B</div><div aria-hidden=\"true\" class=\"bar-chart datawrapper-cUV3B-1udwhp8 svelte-enpqx1 no-background normal\" title=\"$3.1B\"><div class=\"baseline svelte-enpqx1\" style=\"display: none\"></div><div class=\"bar svelte-enpqx1\" style=\"background: #2e75b8;margin-left: 0%;width: 10.726643598615917%\"><div class=\"bar-label invisible svelte-enpqx1\">$3.1B</div><div class=\"bar-label svelte-enpqx1\" style=\"left: 10.726643598615917%;width: 89.27335640138408%;text-align: left;padding-left: 3px;overflow: hidden;white-space: nowrap;;text-overflow: ellipsis;\">$3.1B</div></div></div></td><td class=\"last type-number align-right align-vertical-middle td cell svelte-1ws307v\" colspan=\"1\" style=\"font-size: 100%;\">49%</td></tr><tr class=\"datawrapper-cUV3B-1c5djey svelte-1smti70\"><th class=\"first type-date dw-bold align-left align-vertical-middle td cell svelte-1ws307v\" colspan=\"1\" scope=\"row\" style=\"font-size: 90%; width: 3%; min-width: 10px;\">2006</th><td class=\"type-text dw-bold align-left align-vertical-middle td cell svelte-1ws307v\" colspan=\"1\" style=\"font-size: 100%; width: 21%; min-width: 27px;\">Turin</td><td class=\"type-text align-left align-vertical-middle td cell svelte-1ws307v\" colspan=\"1\" style=\"color: rgb(158, 163, 165); font-size: 90%; width: 3%; min-width: 10px;\">Winter</td><td class=\"type-bar align-left align-vertical-middle td cell svelte-1ws307v\" colspan=\"1\" style=\"font-size: 100%; width: 66%; min-width: 70px;\"><div class=\"sr-only\">$4.7B</div><div aria-hidden=\"true\" class=\"bar-chart datawrapper-cUV3B-1udwhp8 svelte-enpqx1 no-background normal\" title=\"$4.7B\"><div class=\"baseline svelte-enpqx1\" style=\"display: none\"></div><div class=\"bar svelte-enpqx1\" style=\"background: #2e75b8;margin-left: 0%;width: 16.262975778546714%\"><div class=\"bar-label invisible svelte-enpqx1\">$4.7B</div><div class=\"bar-label svelte-enpqx1\" style=\"left: 16.262975778546714%;width: 83.73702422145328%;text-align: left;padding-left: 3px;overflow: hidden;white-space: nowrap;;text-overflow: ellipsis;\">$4.7B</div></div></div></td><td class=\"last type-number align-right align-vertical-middle td cell svelte-1ws307v\" colspan=\"1\" style=\"font-size: 100%;\">80%</td></tr><tr class=\"datawrapper-cUV3B-1c5djey svelte-1smti70\"><th class=\"first type-date dw-bold align-left align-vertical-middle td cell svelte-1ws307v\" colspan=\"1\" scope=\"row\" style=\"font-size: 90%; width: 3%; min-width: 10px;\">2008</th><td class=\"type-text dw-bold align-left align-vertical-middle td cell svelte-1ws307v\" colspan=\"1\" style=\"font-size: 100%; width: 21%; min-width: 27px;\">Beijing</td><td class=\"type-text align-left align-vertical-middle td cell svelte-1ws307v\" colspan=\"1\" style=\"color: rgb(158, 163, 165); font-size: 90%; width: 3%; min-width: 10px;\">Summer</td><td class=\"type-bar align-left align-vertical-middle td cell svelte-1ws307v\" colspan=\"1\" style=\"font-size: 100%; width: 66%; min-width: 70px;\"><div class=\"sr-only\">$8.3B</div><div aria-hidden=\"true\" class=\"bar-chart datawrapper-cUV3B-1udwhp8 svelte-enpqx1 no-background normal\" title=\"$8.3B\"><div class=\"baseline svelte-enpqx1\" style=\"display: none\"></div><div class=\"bar svelte-enpqx1\" style=\"background: #2e75b8;margin-left: 0%;width: 28.719723183391007%\"><div class=\"bar-label invisible svelte-enpqx1\">$8.3B</div><div class=\"bar-label svelte-enpqx1\" style=\"color: #ffffff;left: 0%;width: 28.719723183391007%;text-align: right;padding: 0 3px;overflow: hidden;white-space: nowrap;;text-overflow: ellipsis;\">$8.3B</div></div></div></td><td class=\"last type-number align-right align-vertical-middle td cell svelte-1ws307v\" colspan=\"1\" style=\"font-size: 100%;\">2%</td></tr><tr class=\"datawrapper-cUV3B-1c5djey svelte-1smti70\"><th class=\"first type-date dw-bold align-left align-vertical-middle td cell svelte-1ws307v\" colspan=\"1\" scope=\"row\" style=\"font-size: 90%; width: 3%; min-width: 10px;\">2010</th><td class=\"type-text dw-bold align-left align-vertical-middle td cell svelte-1ws307v\" colspan=\"1\" style=\"font-size: 100%; width: 21%; min-width: 27px;\">Vancouver</td><td class=\"type-text align-left align-vertical-middle td cell svelte-1ws307v\" colspan=\"1\" style=\"color: rgb(158, 163, 165); font-size: 90%; width: 3%; min-width: 10px;\">Winter</td><td class=\"type-bar align-left align-vertical-middle td cell svelte-1ws307v\" colspan=\"1\" style=\"font-size: 100%; width: 66%; min-width: 70px;\"><div class=\"sr-only\">$3.2B</div><div aria-hidden=\"true\" class=\"bar-chart datawrapper-cUV3B-1udwhp8 svelte-enpqx1 no-background normal\" title=\"$3.2B\"><div class=\"baseline svelte-enpqx1\" style=\"display: none\"></div><div class=\"bar svelte-enpqx1\" style=\"background: #2e75b8;margin-left: 0%;width: 11.07266435986159%\"><div class=\"bar-label invisible svelte-enpqx1\">$3.2B</div><div class=\"bar-label svelte-enpqx1\" style=\"left: 11.07266435986159%;width: 88.92733564013841%;text-align: left;padding-left: 3px;overflow: hidden;white-space: nowrap;;text-overflow: ellipsis;\">$3.2B</div></div></div></td><td class=\"last type-number align-right align-vertical-middle td cell svelte-1ws307v\" colspan=\"1\" style=\"font-size: 100%;\">13%</td></tr><tr class=\"datawrapper-cUV3B-1c5djey svelte-1smti70\"><th class=\"first type-date dw-bold align-left align-vertical-middle td cell svelte-1ws307v\" colspan=\"1\" scope=\"row\" style=\"font-size: 90%; width: 3%; min-width: 10px;\">2012</th><td class=\"type-text dw-bold align-left align-vertical-middle td cell svelte-1ws307v\" colspan=\"1\" style=\"font-size: 100%; width: 21%; min-width: 27px;\">London</td><td class=\"type-text align-left align-vertical-middle td cell svelte-1ws307v\" colspan=\"1\" style=\"color: rgb(158, 163, 165); font-size: 90%; width: 3%; min-width: 10px;\">Summer</td><td class=\"type-bar align-left align-vertical-middle td cell svelte-1ws307v\" colspan=\"1\" style=\"font-size: 100%; width: 66%; min-width: 70px;\"><div class=\"sr-only\">$16.8B</div><div aria-hidden=\"true\" class=\"bar-chart datawrapper-cUV3B-1udwhp8 svelte-enpqx1 no-background normal\" title=\"$16.8B\"><div class=\"baseline svelte-enpqx1\" style=\"display: none\"></div><div class=\"bar svelte-enpqx1\" style=\"background: #2e75b8;margin-left: 0%;width: 58.13148788927336%\"><div class=\"bar-label invisible svelte-enpqx1\">$16.8B</div><div class=\"bar-label svelte-enpqx1\" style=\"color: #ffffff;left: 0%;width: 58.13148788927336%;text-align: right;padding: 0 3px;overflow: hidden;white-space: nowrap;;text-overflow: ellipsis;\">$16.8B</div></div></div></td><td class=\"last type-number align-right align-vertical-middle td cell svelte-1ws307v\" colspan=\"1\" style=\"font-size: 100%;\">76%</td></tr><tr class=\"datawrapper-cUV3B-1c5djey svelte-1smti70\"><th class=\"first type-date dw-bold align-left align-vertical-middle td cell svelte-1ws307v\" colspan=\"1\" scope=\"row\" style=\"font-size: 90%; width: 3%; min-width: 10px;\">2014</th><td class=\"type-text dw-bold align-left align-vertical-middle td cell svelte-1ws307v\" colspan=\"1\" style=\"font-size: 100%; width: 21%; min-width: 27px;\">Sochi</td><td class=\"type-text align-left align-vertical-middle td cell svelte-1ws307v\" colspan=\"1\" style=\"color: rgb(158, 163, 165); font-size: 90%; width: 3%; min-width: 10px;\">Winter</td><td class=\"type-bar align-left align-vertical-middle td cell svelte-1ws307v\" colspan=\"1\" style=\"font-size: 100%; width: 66%; min-width: 70px;\"><div class=\"sr-only\">$28.9B</div><div aria-hidden=\"true\" class=\"bar-chart datawrapper-cUV3B-1udwhp8 svelte-enpqx1 no-background normal\" title=\"$28.9B\"><div class=\"baseline svelte-enpqx1\" style=\"display: none\"></div><div class=\"bar svelte-enpqx1\" style=\"background: #2e75b8;margin-left: 0%;width: 100%\"><div class=\"bar-label invisible svelte-enpqx1\">$28.9B</div><div class=\"bar-label svelte-enpqx1\" style=\"color: #ffffff;left: 0%;width: 100%;text-align: right;padding: 0 3px;overflow: hidden;white-space: nowrap;;text-overflow: ellipsis;\">$28.9B</div></div></div></td><td class=\"last type-number align-right align-vertical-middle td cell svelte-1ws307v\" colspan=\"1\" style=\"font-size: 100%;\">289%</td></tr><tr class=\"datawrapper-cUV3B-1c5djey svelte-1smti70\"><th class=\"first type-date dw-bold align-left align-vertical-middle td cell svelte-1ws307v\" colspan=\"1\" scope=\"row\" style=\"font-size: 90%; width: 3%; min-width: 10px;\">2016</th><td class=\"type-text dw-bold align-left align-vertical-middle td cell svelte-1ws307v\" colspan=\"1\" style=\"font-size: 100%; width: 21%; min-width: 27px;\">Rio de Janeiro</td><td class=\"type-text align-left align-vertical-middle td cell svelte-1ws307v\" colspan=\"1\" style=\"color: rgb(158, 163, 165); font-size: 90%; width: 3%; min-width: 10px;\">Summer</td><td class=\"type-bar align-left align-vertical-middle td cell svelte-1ws307v\" colspan=\"1\" style=\"font-size: 100%; width: 66%; min-width: 70px;\"><div class=\"sr-only\">$23.6B</div><div aria-hidden=\"true\" class=\"bar-chart datawrapper-cUV3B-1udwhp8 svelte-enpqx1 no-background normal\" title=\"$23.6B\"><div class=\"baseline svelte-enpqx1\" style=\"display: none\"></div><div class=\"bar svelte-enpqx1\" style=\"background: #2e75b8;margin-left: 0%;width: 81.66089965397924%\"><div class=\"bar-label invisible svelte-enpqx1\">$23.6B</div><div class=\"bar-label svelte-enpqx1\" style=\"color: #ffffff;left: 0%;width: 81.66089965397924%;text-align: right;padding: 0 3px;overflow: hidden;white-space: nowrap;;text-overflow: ellipsis;\">$23.6B</div></div></div></td><td class=\"last type-number align-right align-vertical-middle td cell svelte-1ws307v\" colspan=\"1\" style=\"font-size: 100%;\">352%</td></tr><tr class=\"datawrapper-cUV3B-1c5djey svelte-1smti70\"><th class=\"first type-date dw-bold align-left align-vertical-middle td cell svelte-1ws307v\" colspan=\"1\" scope=\"row\" style=\"font-size: 90%; width: 3%; min-width: 10px;\">2018</th><td class=\"type-text dw-bold align-left align-vertical-middle td cell svelte-1ws307v\" colspan=\"1\" style=\"font-size: 100%; width: 21%; min-width: 27px;\">Pyeongchang</td><td class=\"type-text align-left align-vertical-middle td cell svelte-1ws307v\" colspan=\"1\" style=\"color: rgb(158, 163, 165); font-size: 90%; width: 3%; min-width: 10px;\">Winter</td><td class=\"type-bar align-left align-vertical-middle td cell svelte-1ws307v\" colspan=\"1\" style=\"font-size: 100%; width: 66%; min-width: 70px;\"><div class=\"sr-only\">$3.4B</div><div aria-hidden=\"true\" class=\"bar-chart datawrapper-cUV3B-1udwhp8 svelte-enpqx1 no-background normal\" title=\"$3.4B\"><div class=\"baseline svelte-enpqx1\" style=\"display: none\"></div><div class=\"bar svelte-enpqx1\" style=\"background: #2e75b8;margin-left: 0%;width: 11.764705882352942%\"><div class=\"bar-label invisible svelte-enpqx1\">$3.4B</div><div class=\"bar-label svelte-enpqx1\" style=\"left: 11.764705882352942%;width: 88.23529411764706%;text-align: left;padding-left: 3px;overflow: hidden;white-space: nowrap;;text-overflow: ellipsis;\">$3.4B</div></div></div></td><td class=\"last type-number align-right align-vertical-middle td cell svelte-1ws307v\" colspan=\"1\" style=\"font-size: 100%;\">2%</td></tr><tr class=\"datawrapper-cUV3B-1c5djey svelte-1smti70\"><th class=\"first type-date dw-bold align-left align-vertical-middle td cell svelte-1ws307v\" colspan=\"1\" scope=\"row\" style=\"font-size: 90%; width: 3%; min-width: 10px;\">2020</th><td class=\"type-text dw-bold align-left align-vertical-middle td cell svelte-1ws307v\" colspan=\"1\" style=\"font-size: 100%; width: 21%; min-width: 27px;\">Tokyo</td><td class=\"type-text align-left align-vertical-middle td cell svelte-1ws307v\" colspan=\"1\" style=\"color: rgb(158, 163, 165); font-size: 90%; width: 3%; min-width: 10px;\">Summer</td><td class=\"type-bar align-left align-vertical-middle td cell svelte-1ws307v\" colspan=\"1\" style=\"font-size: 100%; width: 66%; min-width: 70px;\"><div class=\"sr-only\">$13.7B</div><div aria-hidden=\"true\" class=\"bar-chart datawrapper-cUV3B-1udwhp8 svelte-enpqx1 no-background normal\" title=\"$13.7B\"><div class=\"baseline svelte-enpqx1\" style=\"display: none\"></div><div class=\"bar svelte-enpqx1\" style=\"background: #2e75b8;margin-left: 0%;width: 47.40484429065744%\"><div class=\"bar-label invisible svelte-enpqx1\">$13.7B</div><div class=\"bar-label svelte-enpqx1\" style=\"color: #ffffff;left: 0%;width: 47.40484429065744%;text-align: right;padding: 0 3px;overflow: hidden;white-space: nowrap;;text-overflow: ellipsis;\">$13.7B</div></div></div></td><td class=\"last type-number align-right align-vertical-middle td cell svelte-1ws307v\" colspan=\"1\" style=\"font-size: 100%;\">128%</td></tr><tr class=\"datawrapper-cUV3B-1c5djey svelte-1smti70\"><th class=\"first type-date dw-bold align-left align-vertical-middle td cell svelte-1ws307v\" colspan=\"1\" scope=\"row\" style=\"font-size: 90%; width: 3%; min-width: 10px;\">2022</th><td class=\"type-text dw-bold align-left align-vertical-middle td cell svelte-1ws307v\" colspan=\"1\" style=\"font-size: 100%; width: 21%; min-width: 27px;\">Beijing</td><td class=\"type-text align-left align-vertical-middle td cell svelte-1ws307v\" colspan=\"1\" style=\"color: rgb(158, 163, 165); font-size: 90%; width: 3%; min-width: 10px;\">Winter</td><td class=\"type-bar align-left align-vertical-middle td cell svelte-1ws307v\" colspan=\"1\" style=\"font-size: 100%; width: 66%; min-width: 70px;\"><div class=\"sr-only\">$8.7B</div><div aria-hidden=\"true\" class=\"bar-chart datawrapper-cUV3B-1udwhp8 svelte-enpqx1 no-background normal\" title=\"$8.7B\"><div class=\"baseline svelte-enpqx1\" style=\"display: none\"></div><div class=\"bar svelte-enpqx1\" style=\"background: #2e75b8;margin-left: 0%;width: 30.103806228373703%\"><div class=\"bar-label invisible svelte-enpqx1\">$8.7B</div><div class=\"bar-label svelte-enpqx1\" style=\"color: #ffffff;left: 0%;width: 30.103806228373703%;text-align: right;padding: 0 3px;overflow: hidden;white-space: nowrap;;text-overflow: ellipsis;\">$8.7B</div></div></div></td><td class=\"last type-number align-right align-vertical-middle td cell svelte-1ws307v\" colspan=\"1\" style=\"font-size: 100%;\">149%</td></tr><tr class=\"datawrapper-cUV3B-1c5djey svelte-1smti70\"><th class=\"first type-date dw-bold align-left align-vertical-middle td cell svelte-1ws307v\" colspan=\"1\" scope=\"row\" style=\"font-size: 90%; width: 3%; min-width: 10px;\">2024</th><td class=\"type-text dw-bold align-left align-vertical-middle td cell svelte-1ws307v\" colspan=\"1\" style=\"font-size: 100%; width: 21%; min-width: 27px;\">Paris</td><td class=\"type-text align-left align-vertical-middle td cell svelte-1ws307v\" colspan=\"1\" style=\"color: rgb(158, 163, 165); font-size: 90%; width: 3%; min-width: 10px;\">Summer</td><td class=\"type-bar align-left align-vertical-middle td cell svelte-1ws307v\" colspan=\"1\" style=\"font-size: 100%; width: 66%; min-width: 70px;\"><div class=\"sr-only\">$8.7B</div><div aria-hidden=\"true\" class=\"bar-chart datawrapper-cUV3B-1udwhp8 svelte-enpqx1 no-background normal\" title=\"$8.7B\"><div class=\"baseline svelte-enpqx1\" style=\"display: none\"></div><div class=\"bar svelte-enpqx1\" style=\"background: #2e75b8;margin-left: 0%;width: 30.103806228373703%\"><div class=\"bar-label invisible svelte-enpqx1\">$8.7B</div><div class=\"bar-label svelte-enpqx1\" style=\"color: #ffffff;left: 0%;width: 30.103806228373703%;text-align: right;padding: 0 3px;overflow: hidden;white-space: nowrap;;text-overflow: ellipsis;\">$8.7B</div></div></div></td><td class=\"last type-number align-right align-vertical-middle td cell svelte-1ws307v\" colspan=\"1\" style=\"font-size: 100%;\">115%</td></tr></tbody></table>"
      ]
     },
     "execution_count": 5,
     "metadata": {},
     "output_type": "execute_result"
    }
   ],
   "source": [
    "# Get table in soup\n",
    "table = soup.find('table')\n",
    "table"
   ]
  },
  {
   "cell_type": "code",
   "execution_count": null,
   "metadata": {},
   "outputs": [
    {
     "data": {
      "text/plain": [
       "[<tr class=\"datawrapper-cUV3B-1wbuely svelte-1smti70\"><th class=\"first type-date align-left resortable cell svelte-1fhgpfc\" colspan=\"1\" data-column=\"Year\" data-row=\"-1\" scope=\"col\" style=\"width: 3%;min-width: 10px;border-bottom:1px solid #4B535D;color: #04284A;font-size: 100%;\"><button class=\"sort svelte-1smti70\"><span class=\"content dw-bold\">Year</span></button></th><th class=\"type-text align-left resortable cell svelte-1fhgpfc\" colspan=\"1\" data-column=\"City\" data-row=\"-1\" scope=\"col\" style=\"width: 21%;min-width: 27px;border-bottom:1px solid #4B535D;color: #04284A;font-size: 100%;\"><button class=\"sort svelte-1smti70\"><span class=\"content dw-bold\">City</span></button></th><th class=\"type-text align-left resortable cell svelte-1fhgpfc\" colspan=\"1\" data-column=\"Season\" data-row=\"-1\" scope=\"col\" style=\"width: 3%;min-width: 10px;border-bottom:1px solid #4B535D;color: #04284A;font-size: 100%;\"><button class=\"sort svelte-1smti70\"><span class=\"content dw-bold\">Season</span></button></th><th class=\"type-bar align-left resortable cell svelte-1fhgpfc\" colspan=\"1\" data-column=\"Cost (2022$)\" data-row=\"-1\" scope=\"col\" style=\"width: 66%;min-width: 70px;border-bottom:1px solid #4B535D;color: #04284A;font-size: 100%;\"><button class=\"sort svelte-1smti70\"><span class=\"content dw-bold\">Cost</span></button></th><th class=\"last type-number align-right resortable cell svelte-1fhgpfc\" colspan=\"1\" data-column=\"Real cost overruns (%)\" data-row=\"-1\" scope=\"col\" style=\"border-bottom:1px solid #4B535D;color: #04284A;font-size: 100%;\"><button class=\"sort svelte-1smti70\"><span class=\"content dw-bold\">Overrun</span></button></th></tr>,\n",
       " <tr class=\"datawrapper-cUV3B-1c5djey svelte-1smti70\"><th class=\"first type-date dw-bold align-left align-vertical-middle td cell svelte-1ws307v\" colspan=\"1\" scope=\"row\" style=\"font-size: 90%; width: 3%; min-width: 10px;\">1988</th><td class=\"type-text dw-bold align-left align-vertical-middle td cell svelte-1ws307v\" colspan=\"1\" style=\"font-size: 100%; width: 21%; min-width: 27px;\">Calgary</td><td class=\"type-text align-left align-vertical-middle td cell svelte-1ws307v\" colspan=\"1\" style=\"color: rgb(158, 163, 165); font-size: 90%; width: 3%; min-width: 10px;\">Winter</td><td class=\"type-bar align-left align-vertical-middle td cell svelte-1ws307v\" colspan=\"1\" style=\"font-size: 100%; width: 66%; min-width: 70px;\"><div class=\"sr-only\">$1.2B</div><div aria-hidden=\"true\" class=\"bar-chart datawrapper-cUV3B-1udwhp8 svelte-enpqx1 no-background normal\" title=\"$1.2B\"><div class=\"baseline svelte-enpqx1\" style=\"display: none\"></div><div class=\"bar svelte-enpqx1\" style=\"background: #2e75b8;margin-left: 0%;width: 4.1522491349480966%\"><div class=\"bar-label invisible svelte-enpqx1\">$1.2B</div><div class=\"bar-label svelte-enpqx1\" style=\"left: 4.1522491349480966%;width: 95.8477508650519%;text-align: left;padding-left: 3px;overflow: hidden;white-space: nowrap;;text-overflow: ellipsis;\">$1.2B</div></div></div></td><td class=\"last type-number align-right align-vertical-middle td cell svelte-1ws307v\" colspan=\"1\" style=\"font-size: 100%;\">65%</td></tr>,\n",
       " <tr class=\"datawrapper-cUV3B-1c5djey svelte-1smti70\"><th class=\"first type-date dw-bold align-left align-vertical-middle td cell svelte-1ws307v\" colspan=\"1\" scope=\"row\" style=\"font-size: 90%; width: 3%; min-width: 10px;\">1992</th><td class=\"type-text dw-bold align-left align-vertical-middle td cell svelte-1ws307v\" colspan=\"1\" style=\"font-size: 100%; width: 21%; min-width: 27px;\">Albertville</td><td class=\"type-text align-left align-vertical-middle td cell svelte-1ws307v\" colspan=\"1\" style=\"color: rgb(158, 163, 165); font-size: 90%; width: 3%; min-width: 10px;\">Winter</td><td class=\"type-bar align-left align-vertical-middle td cell svelte-1ws307v\" colspan=\"1\" style=\"font-size: 100%; width: 66%; min-width: 70px;\"><div class=\"sr-only\">$2.1B</div><div aria-hidden=\"true\" class=\"bar-chart datawrapper-cUV3B-1udwhp8 svelte-enpqx1 no-background normal\" title=\"$2.1B\"><div class=\"baseline svelte-enpqx1\" style=\"display: none\"></div><div class=\"bar svelte-enpqx1\" style=\"background: #2e75b8;margin-left: 0%;width: 7.26643598615917%\"><div class=\"bar-label invisible svelte-enpqx1\">$2.1B</div><div class=\"bar-label svelte-enpqx1\" style=\"left: 7.26643598615917%;width: 92.73356401384083%;text-align: left;padding-left: 3px;overflow: hidden;white-space: nowrap;;text-overflow: ellipsis;\">$2.1B</div></div></div></td><td class=\"last type-number align-right align-vertical-middle td cell svelte-1ws307v\" colspan=\"1\" style=\"font-size: 100%;\">137%</td></tr>,\n",
       " <tr class=\"datawrapper-cUV3B-1c5djey svelte-1smti70\"><th class=\"first type-date dw-bold align-left align-vertical-middle td cell svelte-1ws307v\" colspan=\"1\" scope=\"row\" style=\"font-size: 90%; width: 3%; min-width: 10px;\">1992</th><td class=\"type-text dw-bold align-left align-vertical-middle td cell svelte-1ws307v\" colspan=\"1\" style=\"font-size: 100%; width: 21%; min-width: 27px;\">Barcelona</td><td class=\"type-text align-left align-vertical-middle td cell svelte-1ws307v\" colspan=\"1\" style=\"color: rgb(158, 163, 165); font-size: 90%; width: 3%; min-width: 10px;\">Summer</td><td class=\"type-bar align-left align-vertical-middle td cell svelte-1ws307v\" colspan=\"1\" style=\"font-size: 100%; width: 66%; min-width: 70px;\"><div class=\"sr-only\">$11.6B</div><div aria-hidden=\"true\" class=\"bar-chart datawrapper-cUV3B-1udwhp8 svelte-enpqx1 no-background normal\" title=\"$11.6B\"><div class=\"baseline svelte-enpqx1\" style=\"display: none\"></div><div class=\"bar svelte-enpqx1\" style=\"background: #2e75b8;margin-left: 0%;width: 40.13840830449827%\"><div class=\"bar-label invisible svelte-enpqx1\">$11.6B</div><div class=\"bar-label svelte-enpqx1\" style=\"color: #ffffff;left: 0%;width: 40.13840830449827%;text-align: right;padding: 0 3px;overflow: hidden;white-space: nowrap;;text-overflow: ellipsis;\">$11.6B</div></div></div></td><td class=\"last type-number align-right align-vertical-middle td cell svelte-1ws307v\" colspan=\"1\" style=\"font-size: 100%;\">266%</td></tr>,\n",
       " <tr class=\"datawrapper-cUV3B-1c5djey svelte-1smti70\"><th class=\"first type-date dw-bold align-left align-vertical-middle td cell svelte-1ws307v\" colspan=\"1\" scope=\"row\" style=\"font-size: 90%; width: 3%; min-width: 10px;\">1994</th><td class=\"type-text dw-bold align-left align-vertical-middle td cell svelte-1ws307v\" colspan=\"1\" style=\"font-size: 100%; width: 21%; min-width: 27px;\">Lillehammer</td><td class=\"type-text align-left align-vertical-middle td cell svelte-1ws307v\" colspan=\"1\" style=\"color: rgb(158, 163, 165); font-size: 90%; width: 3%; min-width: 10px;\">Winter</td><td class=\"type-bar align-left align-vertical-middle td cell svelte-1ws307v\" colspan=\"1\" style=\"font-size: 100%; width: 66%; min-width: 70px;\"><div class=\"sr-only\">$3.4B</div><div aria-hidden=\"true\" class=\"bar-chart datawrapper-cUV3B-1udwhp8 svelte-enpqx1 no-background normal\" title=\"$3.4B\"><div class=\"baseline svelte-enpqx1\" style=\"display: none\"></div><div class=\"bar svelte-enpqx1\" style=\"background: #2e75b8;margin-left: 0%;width: 11.764705882352942%\"><div class=\"bar-label invisible svelte-enpqx1\">$3.4B</div><div class=\"bar-label svelte-enpqx1\" style=\"left: 11.764705882352942%;width: 88.23529411764706%;text-align: left;padding-left: 3px;overflow: hidden;white-space: nowrap;;text-overflow: ellipsis;\">$3.4B</div></div></div></td><td class=\"last type-number align-right align-vertical-middle td cell svelte-1ws307v\" colspan=\"1\" style=\"font-size: 100%;\">277%</td></tr>,\n",
       " <tr class=\"datawrapper-cUV3B-1c5djey svelte-1smti70\"><th class=\"first type-date dw-bold align-left align-vertical-middle td cell svelte-1ws307v\" colspan=\"1\" scope=\"row\" style=\"font-size: 90%; width: 3%; min-width: 10px;\">1996</th><td class=\"type-text dw-bold align-left align-vertical-middle td cell svelte-1ws307v\" colspan=\"1\" style=\"font-size: 100%; width: 21%; min-width: 27px;\">Atlanta</td><td class=\"type-text align-left align-vertical-middle td cell svelte-1ws307v\" colspan=\"1\" style=\"color: rgb(158, 163, 165); font-size: 90%; width: 3%; min-width: 10px;\">Summer</td><td class=\"type-bar align-left align-vertical-middle td cell svelte-1ws307v\" colspan=\"1\" style=\"font-size: 100%; width: 66%; min-width: 70px;\"><div class=\"sr-only\">$4.7B</div><div aria-hidden=\"true\" class=\"bar-chart datawrapper-cUV3B-1udwhp8 svelte-enpqx1 no-background normal\" title=\"$4.7B\"><div class=\"baseline svelte-enpqx1\" style=\"display: none\"></div><div class=\"bar svelte-enpqx1\" style=\"background: #2e75b8;margin-left: 0%;width: 16.262975778546714%\"><div class=\"bar-label invisible svelte-enpqx1\">$4.7B</div><div class=\"bar-label svelte-enpqx1\" style=\"left: 16.262975778546714%;width: 83.73702422145328%;text-align: left;padding-left: 3px;overflow: hidden;white-space: nowrap;;text-overflow: ellipsis;\">$4.7B</div></div></div></td><td class=\"last type-number align-right align-vertical-middle td cell svelte-1ws307v\" colspan=\"1\" style=\"font-size: 100%;\">151%</td></tr>,\n",
       " <tr class=\"datawrapper-cUV3B-1c5djey svelte-1smti70\"><th class=\"first type-date dw-bold align-left align-vertical-middle td cell svelte-1ws307v\" colspan=\"1\" scope=\"row\" style=\"font-size: 90%; width: 3%; min-width: 10px;\">1998</th><td class=\"type-text dw-bold align-left align-vertical-middle td cell svelte-1ws307v\" colspan=\"1\" style=\"font-size: 100%; width: 21%; min-width: 27px;\">Nagano</td><td class=\"type-text align-left align-vertical-middle td cell svelte-1ws307v\" colspan=\"1\" style=\"color: rgb(158, 163, 165); font-size: 90%; width: 3%; min-width: 10px;\">Winter</td><td class=\"type-bar align-left align-vertical-middle td cell svelte-1ws307v\" colspan=\"1\" style=\"font-size: 100%; width: 66%; min-width: 70px;\"><div class=\"sr-only\">$2.2B</div><div aria-hidden=\"true\" class=\"bar-chart datawrapper-cUV3B-1udwhp8 svelte-enpqx1 no-background normal\" title=\"$2.2B\"><div class=\"baseline svelte-enpqx1\" style=\"display: none\"></div><div class=\"bar svelte-enpqx1\" style=\"background: #2e75b8;margin-left: 0%;width: 7.612456747404845%\"><div class=\"bar-label invisible svelte-enpqx1\">$2.2B</div><div class=\"bar-label svelte-enpqx1\" style=\"left: 7.612456747404845%;width: 92.38754325259515%;text-align: left;padding-left: 3px;overflow: hidden;white-space: nowrap;;text-overflow: ellipsis;\">$2.2B</div></div></div></td><td class=\"last type-number align-right align-vertical-middle td cell svelte-1ws307v\" colspan=\"1\" style=\"font-size: 100%;\">56%</td></tr>,\n",
       " <tr class=\"datawrapper-cUV3B-1c5djey svelte-1smti70\"><th class=\"first type-date dw-bold align-left align-vertical-middle td cell svelte-1ws307v\" colspan=\"1\" scope=\"row\" style=\"font-size: 90%; width: 3%; min-width: 10px;\">2000</th><td class=\"type-text dw-bold align-left align-vertical-middle td cell svelte-1ws307v\" colspan=\"1\" style=\"font-size: 100%; width: 21%; min-width: 27px;\">Sydney</td><td class=\"type-text align-left align-vertical-middle td cell svelte-1ws307v\" colspan=\"1\" style=\"color: rgb(158, 163, 165); font-size: 90%; width: 3%; min-width: 10px;\">Summer</td><td class=\"type-bar align-left align-vertical-middle td cell svelte-1ws307v\" colspan=\"1\" style=\"font-size: 100%; width: 66%; min-width: 70px;\"><div class=\"sr-only\">$5.2B</div><div aria-hidden=\"true\" class=\"bar-chart datawrapper-cUV3B-1udwhp8 svelte-enpqx1 no-background normal\" title=\"$5.2B\"><div class=\"baseline svelte-enpqx1\" style=\"display: none\"></div><div class=\"bar svelte-enpqx1\" style=\"background: #2e75b8;margin-left: 0%;width: 17.993079584775085%\"><div class=\"bar-label invisible svelte-enpqx1\">$5.2B</div><div class=\"bar-label svelte-enpqx1\" style=\"left: 17.993079584775085%;width: 82.00692041522491%;text-align: left;padding-left: 3px;overflow: hidden;white-space: nowrap;;text-overflow: ellipsis;\">$5.2B</div></div></div></td><td class=\"last type-number align-right align-vertical-middle td cell svelte-1ws307v\" colspan=\"1\" style=\"font-size: 100%;\">90%</td></tr>,\n",
       " <tr class=\"datawrapper-cUV3B-1c5djey svelte-1smti70\"><th class=\"first type-date dw-bold align-left align-vertical-middle td cell svelte-1ws307v\" colspan=\"1\" scope=\"row\" style=\"font-size: 90%; width: 3%; min-width: 10px;\">2002</th><td class=\"type-text dw-bold align-left align-vertical-middle td cell svelte-1ws307v\" colspan=\"1\" style=\"font-size: 100%; width: 21%; min-width: 27px;\">Salt Lake City</td><td class=\"type-text align-left align-vertical-middle td cell svelte-1ws307v\" colspan=\"1\" style=\"color: rgb(158, 163, 165); font-size: 90%; width: 3%; min-width: 10px;\">Winter</td><td class=\"type-bar align-left align-vertical-middle td cell svelte-1ws307v\" colspan=\"1\" style=\"font-size: 100%; width: 66%; min-width: 70px;\"><div class=\"sr-only\">$2.7B</div><div aria-hidden=\"true\" class=\"bar-chart datawrapper-cUV3B-1udwhp8 svelte-enpqx1 no-background normal\" title=\"$2.7B\"><div class=\"baseline svelte-enpqx1\" style=\"display: none\"></div><div class=\"bar svelte-enpqx1\" style=\"background: #2e75b8;margin-left: 0%;width: 9.342560553633218%\"><div class=\"bar-label invisible svelte-enpqx1\">$2.7B</div><div class=\"bar-label svelte-enpqx1\" style=\"left: 9.342560553633218%;width: 90.65743944636678%;text-align: left;padding-left: 3px;overflow: hidden;white-space: nowrap;;text-overflow: ellipsis;\">$2.7B</div></div></div></td><td class=\"last type-number align-right align-vertical-middle td cell svelte-1ws307v\" colspan=\"1\" style=\"font-size: 100%;\">24%</td></tr>,\n",
       " <tr class=\"datawrapper-cUV3B-1c5djey svelte-1smti70\"><th class=\"first type-date dw-bold align-left align-vertical-middle td cell svelte-1ws307v\" colspan=\"1\" scope=\"row\" style=\"font-size: 90%; width: 3%; min-width: 10px;\">2004</th><td class=\"type-text dw-bold align-left align-vertical-middle td cell svelte-1ws307v\" colspan=\"1\" style=\"font-size: 100%; width: 21%; min-width: 27px;\">Athens</td><td class=\"type-text align-left align-vertical-middle td cell svelte-1ws307v\" colspan=\"1\" style=\"color: rgb(158, 163, 165); font-size: 90%; width: 3%; min-width: 10px;\">Summer</td><td class=\"type-bar align-left align-vertical-middle td cell svelte-1ws307v\" colspan=\"1\" style=\"font-size: 100%; width: 66%; min-width: 70px;\"><div class=\"sr-only\">$3.1B</div><div aria-hidden=\"true\" class=\"bar-chart datawrapper-cUV3B-1udwhp8 svelte-enpqx1 no-background normal\" title=\"$3.1B\"><div class=\"baseline svelte-enpqx1\" style=\"display: none\"></div><div class=\"bar svelte-enpqx1\" style=\"background: #2e75b8;margin-left: 0%;width: 10.726643598615917%\"><div class=\"bar-label invisible svelte-enpqx1\">$3.1B</div><div class=\"bar-label svelte-enpqx1\" style=\"left: 10.726643598615917%;width: 89.27335640138408%;text-align: left;padding-left: 3px;overflow: hidden;white-space: nowrap;;text-overflow: ellipsis;\">$3.1B</div></div></div></td><td class=\"last type-number align-right align-vertical-middle td cell svelte-1ws307v\" colspan=\"1\" style=\"font-size: 100%;\">49%</td></tr>,\n",
       " <tr class=\"datawrapper-cUV3B-1c5djey svelte-1smti70\"><th class=\"first type-date dw-bold align-left align-vertical-middle td cell svelte-1ws307v\" colspan=\"1\" scope=\"row\" style=\"font-size: 90%; width: 3%; min-width: 10px;\">2006</th><td class=\"type-text dw-bold align-left align-vertical-middle td cell svelte-1ws307v\" colspan=\"1\" style=\"font-size: 100%; width: 21%; min-width: 27px;\">Turin</td><td class=\"type-text align-left align-vertical-middle td cell svelte-1ws307v\" colspan=\"1\" style=\"color: rgb(158, 163, 165); font-size: 90%; width: 3%; min-width: 10px;\">Winter</td><td class=\"type-bar align-left align-vertical-middle td cell svelte-1ws307v\" colspan=\"1\" style=\"font-size: 100%; width: 66%; min-width: 70px;\"><div class=\"sr-only\">$4.7B</div><div aria-hidden=\"true\" class=\"bar-chart datawrapper-cUV3B-1udwhp8 svelte-enpqx1 no-background normal\" title=\"$4.7B\"><div class=\"baseline svelte-enpqx1\" style=\"display: none\"></div><div class=\"bar svelte-enpqx1\" style=\"background: #2e75b8;margin-left: 0%;width: 16.262975778546714%\"><div class=\"bar-label invisible svelte-enpqx1\">$4.7B</div><div class=\"bar-label svelte-enpqx1\" style=\"left: 16.262975778546714%;width: 83.73702422145328%;text-align: left;padding-left: 3px;overflow: hidden;white-space: nowrap;;text-overflow: ellipsis;\">$4.7B</div></div></div></td><td class=\"last type-number align-right align-vertical-middle td cell svelte-1ws307v\" colspan=\"1\" style=\"font-size: 100%;\">80%</td></tr>,\n",
       " <tr class=\"datawrapper-cUV3B-1c5djey svelte-1smti70\"><th class=\"first type-date dw-bold align-left align-vertical-middle td cell svelte-1ws307v\" colspan=\"1\" scope=\"row\" style=\"font-size: 90%; width: 3%; min-width: 10px;\">2008</th><td class=\"type-text dw-bold align-left align-vertical-middle td cell svelte-1ws307v\" colspan=\"1\" style=\"font-size: 100%; width: 21%; min-width: 27px;\">Beijing</td><td class=\"type-text align-left align-vertical-middle td cell svelte-1ws307v\" colspan=\"1\" style=\"color: rgb(158, 163, 165); font-size: 90%; width: 3%; min-width: 10px;\">Summer</td><td class=\"type-bar align-left align-vertical-middle td cell svelte-1ws307v\" colspan=\"1\" style=\"font-size: 100%; width: 66%; min-width: 70px;\"><div class=\"sr-only\">$8.3B</div><div aria-hidden=\"true\" class=\"bar-chart datawrapper-cUV3B-1udwhp8 svelte-enpqx1 no-background normal\" title=\"$8.3B\"><div class=\"baseline svelte-enpqx1\" style=\"display: none\"></div><div class=\"bar svelte-enpqx1\" style=\"background: #2e75b8;margin-left: 0%;width: 28.719723183391007%\"><div class=\"bar-label invisible svelte-enpqx1\">$8.3B</div><div class=\"bar-label svelte-enpqx1\" style=\"color: #ffffff;left: 0%;width: 28.719723183391007%;text-align: right;padding: 0 3px;overflow: hidden;white-space: nowrap;;text-overflow: ellipsis;\">$8.3B</div></div></div></td><td class=\"last type-number align-right align-vertical-middle td cell svelte-1ws307v\" colspan=\"1\" style=\"font-size: 100%;\">2%</td></tr>,\n",
       " <tr class=\"datawrapper-cUV3B-1c5djey svelte-1smti70\"><th class=\"first type-date dw-bold align-left align-vertical-middle td cell svelte-1ws307v\" colspan=\"1\" scope=\"row\" style=\"font-size: 90%; width: 3%; min-width: 10px;\">2010</th><td class=\"type-text dw-bold align-left align-vertical-middle td cell svelte-1ws307v\" colspan=\"1\" style=\"font-size: 100%; width: 21%; min-width: 27px;\">Vancouver</td><td class=\"type-text align-left align-vertical-middle td cell svelte-1ws307v\" colspan=\"1\" style=\"color: rgb(158, 163, 165); font-size: 90%; width: 3%; min-width: 10px;\">Winter</td><td class=\"type-bar align-left align-vertical-middle td cell svelte-1ws307v\" colspan=\"1\" style=\"font-size: 100%; width: 66%; min-width: 70px;\"><div class=\"sr-only\">$3.2B</div><div aria-hidden=\"true\" class=\"bar-chart datawrapper-cUV3B-1udwhp8 svelte-enpqx1 no-background normal\" title=\"$3.2B\"><div class=\"baseline svelte-enpqx1\" style=\"display: none\"></div><div class=\"bar svelte-enpqx1\" style=\"background: #2e75b8;margin-left: 0%;width: 11.07266435986159%\"><div class=\"bar-label invisible svelte-enpqx1\">$3.2B</div><div class=\"bar-label svelte-enpqx1\" style=\"left: 11.07266435986159%;width: 88.92733564013841%;text-align: left;padding-left: 3px;overflow: hidden;white-space: nowrap;;text-overflow: ellipsis;\">$3.2B</div></div></div></td><td class=\"last type-number align-right align-vertical-middle td cell svelte-1ws307v\" colspan=\"1\" style=\"font-size: 100%;\">13%</td></tr>,\n",
       " <tr class=\"datawrapper-cUV3B-1c5djey svelte-1smti70\"><th class=\"first type-date dw-bold align-left align-vertical-middle td cell svelte-1ws307v\" colspan=\"1\" scope=\"row\" style=\"font-size: 90%; width: 3%; min-width: 10px;\">2012</th><td class=\"type-text dw-bold align-left align-vertical-middle td cell svelte-1ws307v\" colspan=\"1\" style=\"font-size: 100%; width: 21%; min-width: 27px;\">London</td><td class=\"type-text align-left align-vertical-middle td cell svelte-1ws307v\" colspan=\"1\" style=\"color: rgb(158, 163, 165); font-size: 90%; width: 3%; min-width: 10px;\">Summer</td><td class=\"type-bar align-left align-vertical-middle td cell svelte-1ws307v\" colspan=\"1\" style=\"font-size: 100%; width: 66%; min-width: 70px;\"><div class=\"sr-only\">$16.8B</div><div aria-hidden=\"true\" class=\"bar-chart datawrapper-cUV3B-1udwhp8 svelte-enpqx1 no-background normal\" title=\"$16.8B\"><div class=\"baseline svelte-enpqx1\" style=\"display: none\"></div><div class=\"bar svelte-enpqx1\" style=\"background: #2e75b8;margin-left: 0%;width: 58.13148788927336%\"><div class=\"bar-label invisible svelte-enpqx1\">$16.8B</div><div class=\"bar-label svelte-enpqx1\" style=\"color: #ffffff;left: 0%;width: 58.13148788927336%;text-align: right;padding: 0 3px;overflow: hidden;white-space: nowrap;;text-overflow: ellipsis;\">$16.8B</div></div></div></td><td class=\"last type-number align-right align-vertical-middle td cell svelte-1ws307v\" colspan=\"1\" style=\"font-size: 100%;\">76%</td></tr>,\n",
       " <tr class=\"datawrapper-cUV3B-1c5djey svelte-1smti70\"><th class=\"first type-date dw-bold align-left align-vertical-middle td cell svelte-1ws307v\" colspan=\"1\" scope=\"row\" style=\"font-size: 90%; width: 3%; min-width: 10px;\">2014</th><td class=\"type-text dw-bold align-left align-vertical-middle td cell svelte-1ws307v\" colspan=\"1\" style=\"font-size: 100%; width: 21%; min-width: 27px;\">Sochi</td><td class=\"type-text align-left align-vertical-middle td cell svelte-1ws307v\" colspan=\"1\" style=\"color: rgb(158, 163, 165); font-size: 90%; width: 3%; min-width: 10px;\">Winter</td><td class=\"type-bar align-left align-vertical-middle td cell svelte-1ws307v\" colspan=\"1\" style=\"font-size: 100%; width: 66%; min-width: 70px;\"><div class=\"sr-only\">$28.9B</div><div aria-hidden=\"true\" class=\"bar-chart datawrapper-cUV3B-1udwhp8 svelte-enpqx1 no-background normal\" title=\"$28.9B\"><div class=\"baseline svelte-enpqx1\" style=\"display: none\"></div><div class=\"bar svelte-enpqx1\" style=\"background: #2e75b8;margin-left: 0%;width: 100%\"><div class=\"bar-label invisible svelte-enpqx1\">$28.9B</div><div class=\"bar-label svelte-enpqx1\" style=\"color: #ffffff;left: 0%;width: 100%;text-align: right;padding: 0 3px;overflow: hidden;white-space: nowrap;;text-overflow: ellipsis;\">$28.9B</div></div></div></td><td class=\"last type-number align-right align-vertical-middle td cell svelte-1ws307v\" colspan=\"1\" style=\"font-size: 100%;\">289%</td></tr>,\n",
       " <tr class=\"datawrapper-cUV3B-1c5djey svelte-1smti70\"><th class=\"first type-date dw-bold align-left align-vertical-middle td cell svelte-1ws307v\" colspan=\"1\" scope=\"row\" style=\"font-size: 90%; width: 3%; min-width: 10px;\">2016</th><td class=\"type-text dw-bold align-left align-vertical-middle td cell svelte-1ws307v\" colspan=\"1\" style=\"font-size: 100%; width: 21%; min-width: 27px;\">Rio de Janeiro</td><td class=\"type-text align-left align-vertical-middle td cell svelte-1ws307v\" colspan=\"1\" style=\"color: rgb(158, 163, 165); font-size: 90%; width: 3%; min-width: 10px;\">Summer</td><td class=\"type-bar align-left align-vertical-middle td cell svelte-1ws307v\" colspan=\"1\" style=\"font-size: 100%; width: 66%; min-width: 70px;\"><div class=\"sr-only\">$23.6B</div><div aria-hidden=\"true\" class=\"bar-chart datawrapper-cUV3B-1udwhp8 svelte-enpqx1 no-background normal\" title=\"$23.6B\"><div class=\"baseline svelte-enpqx1\" style=\"display: none\"></div><div class=\"bar svelte-enpqx1\" style=\"background: #2e75b8;margin-left: 0%;width: 81.66089965397924%\"><div class=\"bar-label invisible svelte-enpqx1\">$23.6B</div><div class=\"bar-label svelte-enpqx1\" style=\"color: #ffffff;left: 0%;width: 81.66089965397924%;text-align: right;padding: 0 3px;overflow: hidden;white-space: nowrap;;text-overflow: ellipsis;\">$23.6B</div></div></div></td><td class=\"last type-number align-right align-vertical-middle td cell svelte-1ws307v\" colspan=\"1\" style=\"font-size: 100%;\">352%</td></tr>,\n",
       " <tr class=\"datawrapper-cUV3B-1c5djey svelte-1smti70\"><th class=\"first type-date dw-bold align-left align-vertical-middle td cell svelte-1ws307v\" colspan=\"1\" scope=\"row\" style=\"font-size: 90%; width: 3%; min-width: 10px;\">2018</th><td class=\"type-text dw-bold align-left align-vertical-middle td cell svelte-1ws307v\" colspan=\"1\" style=\"font-size: 100%; width: 21%; min-width: 27px;\">Pyeongchang</td><td class=\"type-text align-left align-vertical-middle td cell svelte-1ws307v\" colspan=\"1\" style=\"color: rgb(158, 163, 165); font-size: 90%; width: 3%; min-width: 10px;\">Winter</td><td class=\"type-bar align-left align-vertical-middle td cell svelte-1ws307v\" colspan=\"1\" style=\"font-size: 100%; width: 66%; min-width: 70px;\"><div class=\"sr-only\">$3.4B</div><div aria-hidden=\"true\" class=\"bar-chart datawrapper-cUV3B-1udwhp8 svelte-enpqx1 no-background normal\" title=\"$3.4B\"><div class=\"baseline svelte-enpqx1\" style=\"display: none\"></div><div class=\"bar svelte-enpqx1\" style=\"background: #2e75b8;margin-left: 0%;width: 11.764705882352942%\"><div class=\"bar-label invisible svelte-enpqx1\">$3.4B</div><div class=\"bar-label svelte-enpqx1\" style=\"left: 11.764705882352942%;width: 88.23529411764706%;text-align: left;padding-left: 3px;overflow: hidden;white-space: nowrap;;text-overflow: ellipsis;\">$3.4B</div></div></div></td><td class=\"last type-number align-right align-vertical-middle td cell svelte-1ws307v\" colspan=\"1\" style=\"font-size: 100%;\">2%</td></tr>,\n",
       " <tr class=\"datawrapper-cUV3B-1c5djey svelte-1smti70\"><th class=\"first type-date dw-bold align-left align-vertical-middle td cell svelte-1ws307v\" colspan=\"1\" scope=\"row\" style=\"font-size: 90%; width: 3%; min-width: 10px;\">2020</th><td class=\"type-text dw-bold align-left align-vertical-middle td cell svelte-1ws307v\" colspan=\"1\" style=\"font-size: 100%; width: 21%; min-width: 27px;\">Tokyo</td><td class=\"type-text align-left align-vertical-middle td cell svelte-1ws307v\" colspan=\"1\" style=\"color: rgb(158, 163, 165); font-size: 90%; width: 3%; min-width: 10px;\">Summer</td><td class=\"type-bar align-left align-vertical-middle td cell svelte-1ws307v\" colspan=\"1\" style=\"font-size: 100%; width: 66%; min-width: 70px;\"><div class=\"sr-only\">$13.7B</div><div aria-hidden=\"true\" class=\"bar-chart datawrapper-cUV3B-1udwhp8 svelte-enpqx1 no-background normal\" title=\"$13.7B\"><div class=\"baseline svelte-enpqx1\" style=\"display: none\"></div><div class=\"bar svelte-enpqx1\" style=\"background: #2e75b8;margin-left: 0%;width: 47.40484429065744%\"><div class=\"bar-label invisible svelte-enpqx1\">$13.7B</div><div class=\"bar-label svelte-enpqx1\" style=\"color: #ffffff;left: 0%;width: 47.40484429065744%;text-align: right;padding: 0 3px;overflow: hidden;white-space: nowrap;;text-overflow: ellipsis;\">$13.7B</div></div></div></td><td class=\"last type-number align-right align-vertical-middle td cell svelte-1ws307v\" colspan=\"1\" style=\"font-size: 100%;\">128%</td></tr>,\n",
       " <tr class=\"datawrapper-cUV3B-1c5djey svelte-1smti70\"><th class=\"first type-date dw-bold align-left align-vertical-middle td cell svelte-1ws307v\" colspan=\"1\" scope=\"row\" style=\"font-size: 90%; width: 3%; min-width: 10px;\">2022</th><td class=\"type-text dw-bold align-left align-vertical-middle td cell svelte-1ws307v\" colspan=\"1\" style=\"font-size: 100%; width: 21%; min-width: 27px;\">Beijing</td><td class=\"type-text align-left align-vertical-middle td cell svelte-1ws307v\" colspan=\"1\" style=\"color: rgb(158, 163, 165); font-size: 90%; width: 3%; min-width: 10px;\">Winter</td><td class=\"type-bar align-left align-vertical-middle td cell svelte-1ws307v\" colspan=\"1\" style=\"font-size: 100%; width: 66%; min-width: 70px;\"><div class=\"sr-only\">$8.7B</div><div aria-hidden=\"true\" class=\"bar-chart datawrapper-cUV3B-1udwhp8 svelte-enpqx1 no-background normal\" title=\"$8.7B\"><div class=\"baseline svelte-enpqx1\" style=\"display: none\"></div><div class=\"bar svelte-enpqx1\" style=\"background: #2e75b8;margin-left: 0%;width: 30.103806228373703%\"><div class=\"bar-label invisible svelte-enpqx1\">$8.7B</div><div class=\"bar-label svelte-enpqx1\" style=\"color: #ffffff;left: 0%;width: 30.103806228373703%;text-align: right;padding: 0 3px;overflow: hidden;white-space: nowrap;;text-overflow: ellipsis;\">$8.7B</div></div></div></td><td class=\"last type-number align-right align-vertical-middle td cell svelte-1ws307v\" colspan=\"1\" style=\"font-size: 100%;\">149%</td></tr>,\n",
       " <tr class=\"datawrapper-cUV3B-1c5djey svelte-1smti70\"><th class=\"first type-date dw-bold align-left align-vertical-middle td cell svelte-1ws307v\" colspan=\"1\" scope=\"row\" style=\"font-size: 90%; width: 3%; min-width: 10px;\">2024</th><td class=\"type-text dw-bold align-left align-vertical-middle td cell svelte-1ws307v\" colspan=\"1\" style=\"font-size: 100%; width: 21%; min-width: 27px;\">Paris</td><td class=\"type-text align-left align-vertical-middle td cell svelte-1ws307v\" colspan=\"1\" style=\"color: rgb(158, 163, 165); font-size: 90%; width: 3%; min-width: 10px;\">Summer</td><td class=\"type-bar align-left align-vertical-middle td cell svelte-1ws307v\" colspan=\"1\" style=\"font-size: 100%; width: 66%; min-width: 70px;\"><div class=\"sr-only\">$8.7B</div><div aria-hidden=\"true\" class=\"bar-chart datawrapper-cUV3B-1udwhp8 svelte-enpqx1 no-background normal\" title=\"$8.7B\"><div class=\"baseline svelte-enpqx1\" style=\"display: none\"></div><div class=\"bar svelte-enpqx1\" style=\"background: #2e75b8;margin-left: 0%;width: 30.103806228373703%\"><div class=\"bar-label invisible svelte-enpqx1\">$8.7B</div><div class=\"bar-label svelte-enpqx1\" style=\"color: #ffffff;left: 0%;width: 30.103806228373703%;text-align: right;padding: 0 3px;overflow: hidden;white-space: nowrap;;text-overflow: ellipsis;\">$8.7B</div></div></div></td><td class=\"last type-number align-right align-vertical-middle td cell svelte-1ws307v\" colspan=\"1\" style=\"font-size: 100%;\">115%</td></tr>]"
      ]
     },
     "execution_count": 6,
     "metadata": {},
     "output_type": "execute_result"
    }
   ],
   "source": [
    "# In the table, get the table rows\n",
    "rows = table.find_all('tr')\n",
    "rows"
   ]
  },
  {
   "cell_type": "markdown",
   "metadata": {},
   "source": [
    "The first row looks like it contains the column headers, so we can extract these separately."
   ]
  },
  {
   "cell_type": "code",
   "execution_count": null,
   "metadata": {},
   "outputs": [
    {
     "name": "stdout",
     "output_type": "stream",
     "text": [
      "['Year', 'City', 'Season', 'Cost', 'Overrun']\n"
     ]
    }
   ],
   "source": [
    "# Get table headers\n",
    "headers = [header.get_text(strip=True) for header in rows[0].find_all('th')]\n",
    "print(headers)"
   ]
  },
  {
   "cell_type": "markdown",
   "metadata": {},
   "source": [
    "**Note:**\n",
    "\n",
    "```python\n",
    "    headers = [header.get_text() for header in rows[0].find_all('th')]\n",
    "```\n",
    "Is equivalent to:\n",
    "\n",
    "```python\n",
    "    headers = []\n",
    "    for header in rows[0].find_all('th'):\n",
    "        headers.append(header.get_text())\n",
    "```"
   ]
  },
  {
   "cell_type": "markdown",
   "metadata": {},
   "source": [
    "<br>\n",
    "<br>\n",
    "\n",
    "Next, we'll try and get the table data (from row 1 onwards):\n",
    "- In each row (i.e. element starting with the `tr` tag), there is 5 child elements, one for each column.\n",
    "- The first child element is a `th` tag and it looks like this contains the `Year` value.\n",
    "- The next four elements are `td` tags, and they contain values for `City`, `Season`, `Cost`, and `Overrun`."
   ]
  },
  {
   "cell_type": "code",
   "execution_count": null,
   "metadata": {},
   "outputs": [
    {
     "data": {
      "text/plain": [
       "'1988'"
      ]
     },
     "execution_count": 8,
     "metadata": {},
     "output_type": "execute_result"
    }
   ],
   "source": [
    "# Test get the value from the first row and first column (should be the Year value).\n",
    "    # Note: since there is only one `th` tag in each row, we can use the `find` method instead of `find_all`\n",
    "rows[1].find('th').get_text(strip=True)"
   ]
  },
  {
   "cell_type": "code",
   "execution_count": null,
   "metadata": {},
   "outputs": [
    {
     "data": {
      "text/plain": [
       "[<td class=\"type-text dw-bold align-left align-vertical-middle td cell svelte-1ws307v\" colspan=\"1\" style=\"font-size: 100%; width: 21%; min-width: 27px;\">Calgary</td>,\n",
       " <td class=\"type-text align-left align-vertical-middle td cell svelte-1ws307v\" colspan=\"1\" style=\"color: rgb(158, 163, 165); font-size: 90%; width: 3%; min-width: 10px;\">Winter</td>,\n",
       " <td class=\"type-bar align-left align-vertical-middle td cell svelte-1ws307v\" colspan=\"1\" style=\"font-size: 100%; width: 66%; min-width: 70px;\"><div class=\"sr-only\">$1.2B</div><div aria-hidden=\"true\" class=\"bar-chart datawrapper-cUV3B-1udwhp8 svelte-enpqx1 no-background normal\" title=\"$1.2B\"><div class=\"baseline svelte-enpqx1\" style=\"display: none\"></div><div class=\"bar svelte-enpqx1\" style=\"background: #2e75b8;margin-left: 0%;width: 4.1522491349480966%\"><div class=\"bar-label invisible svelte-enpqx1\">$1.2B</div><div class=\"bar-label svelte-enpqx1\" style=\"left: 4.1522491349480966%;width: 95.8477508650519%;text-align: left;padding-left: 3px;overflow: hidden;white-space: nowrap;;text-overflow: ellipsis;\">$1.2B</div></div></div></td>,\n",
       " <td class=\"last type-number align-right align-vertical-middle td cell svelte-1ws307v\" colspan=\"1\" style=\"font-size: 100%;\">65%</td>]"
      ]
     },
     "execution_count": 9,
     "metadata": {},
     "output_type": "execute_result"
    }
   ],
   "source": [
    "# Test getting the values for the remaining columns in the first row\n",
    "rows[1].find_all('td')"
   ]
  },
  {
   "cell_type": "code",
   "execution_count": null,
   "metadata": {},
   "outputs": [
    {
     "data": {
      "text/plain": [
       "['Calgary', 'Winter', '$1.2B$1.2B$1.2B', '65%']"
      ]
     },
     "execution_count": 10,
     "metadata": {},
     "output_type": "execute_result"
    }
   ],
   "source": [
    "# Test extracting text from each item in list of td tags\n",
    "[td.text for td in rows[1].find_all('td')]"
   ]
  },
  {
   "cell_type": "markdown",
   "metadata": {},
   "source": [
    "The values in the `Cost` column are repeated, so there might be more child elements for this column, which is causing the repeated text. \n",
    "- let's use a normal list iteration to account for this."
   ]
  },
  {
   "cell_type": "code",
   "execution_count": null,
   "metadata": {},
   "outputs": [
    {
     "data": {
      "text/plain": [
       "['Calgary', 'Winter', '$1.2B$1.2B$1.2B', '65%']"
      ]
     },
     "execution_count": 11,
     "metadata": {},
     "output_type": "execute_result"
    }
   ],
   "source": [
    "data = []\n",
    "for td in rows[1].find_all('td'):\n",
    "    data.append(td.text)\n",
    "\n",
    "data"
   ]
  },
  {
   "cell_type": "markdown",
   "metadata": {},
   "source": [
    "Let's look at the html code for the element in the row containing the `Cost` values. \n",
    "\n",
    "```html\n",
    "<td colspan=\"1\" class=\"type-bar align-left align-vertical-middle td cell svelte-1ws307v\" style=\"font-size: 100%; width: 66%; min-width: 70px;\">\n",
    "    <div class=\"sr-only\">$1.2B</div>\n",
    "    <div title=\"$1.2B\" class=\"bar-chart datawrapper-cUV3B-1udwhp8 svelte-enpqx1 no-background normal\" aria-hidden=\"true\">\n",
    "        <div class=\"baseline svelte-enpqx1\" style=\"display: none\"></div>\n",
    "        <div class=\"bar svelte-enpqx1\" style=\"background: #2e75b8;margin-left: 0%;width: 4.1522491349480966%\">\n",
    "            <div class=\"bar-label invisible svelte-enpqx1\">$1.2B</div>\n",
    "            <div style=\"left: 4.1522491349480966%;width: 95.8477508650519%;text-align: left;padding-left: 3px;overflow: hidden;white-space: nowrap;;text-overflow: ellipsis;\" class=\"bar-label svelte-enpqx1\">$1.2B</div>\n",
    "        </div>\n",
    "    </div>\n",
    "</td>\n",
    "```"
   ]
  },
  {
   "cell_type": "markdown",
   "metadata": {},
   "source": [
    "- We could add a condition to our list iteration to check if the element corresponds to the `Cost` column."
   ]
  },
  {
   "cell_type": "code",
   "execution_count": null,
   "metadata": {},
   "outputs": [
    {
     "name": "stdout",
     "output_type": "stream",
     "text": [
      "['Calgary', 'Winter', '$1.2B', '65%']\n"
     ]
    }
   ],
   "source": [
    "data = []\n",
    "\n",
    "for td in rows[1].find_all('td'):\n",
    "    # Add condition to check if td corresponds to `Cost` element. \n",
    "    if td.find('div', class_='sr-only'):        # Checks existence of div tag with class 'sr-only', if yes, then it is the 'Cost' element\n",
    "        # Get the text from a child div tag\n",
    "        data.append(td.find('div', class_='sr-only').get_text())\n",
    "    else: # Other elements, just get the text from the td tag\n",
    "        data.append(td.get_text())\n",
    "\n",
    "print(data)"
   ]
  },
  {
   "cell_type": "markdown",
   "metadata": {},
   "source": [
    "<br>\n",
    "\n",
    "Finally, need to put this together to apply for every row. "
   ]
  },
  {
   "cell_type": "code",
   "execution_count": null,
   "metadata": {},
   "outputs": [
    {
     "name": "stdout",
     "output_type": "stream",
     "text": [
      "[]\n",
      "['Calgary', 'Winter', '$1.2B', '65%']\n",
      "['Albertville', 'Winter', '$2.1B', '137%']\n",
      "['Barcelona', 'Summer', '$11.6B', '266%']\n",
      "['Lillehammer', 'Winter', '$3.4B', '277%']\n",
      "['Atlanta', 'Summer', '$4.7B', '151%']\n",
      "['Nagano', 'Winter', '$2.2B', '56%']\n",
      "['Sydney', 'Summer', '$5.2B', '90%']\n",
      "['Salt Lake City', 'Winter', '$2.7B', '24%']\n",
      "['Athens', 'Summer', '$3.1B', '49%']\n",
      "['Turin', 'Winter', '$4.7B', '80%']\n",
      "['Beijing', 'Summer', '$8.3B', '2%']\n",
      "['Vancouver', 'Winter', '$3.2B', '13%']\n",
      "['London', 'Summer', '$16.8B', '76%']\n",
      "['Sochi', 'Winter', '$28.9B', '289%']\n",
      "['Rio de Janeiro', 'Summer', '$23.6B', '352%']\n",
      "['Pyeongchang', 'Winter', '$3.4B', '2%']\n",
      "['Tokyo', 'Summer', '$13.7B', '128%']\n",
      "['Beijing', 'Winter', '$8.7B', '149%']\n",
      "['Paris', 'Summer', '$8.7B', '115%']\n"
     ]
    }
   ],
   "source": [
    "data = []\n",
    "\n",
    "# Loop through all rows in the table\n",
    "for row in rows:\n",
    "    row_data = []\n",
    "    for td in row.find_all('td'):\n",
    "        # Add condition to check if td corresponds to `Cost` element.\n",
    "        if td.find('div', class_='sr-only'):\n",
    "            # Get the text from a child div tag\n",
    "            row_data.append(td.find('div', class_='sr-only').get_text())\n",
    "        else:\n",
    "            # Other elements, just get the text from the td tag\n",
    "            row_data.append(td.get_text())\n",
    "    data.append(row_data)\n",
    "\n",
    "# Print the collected data\n",
    "for row in data:\n",
    "    print(row)\n"
   ]
  },
  {
   "cell_type": "code",
   "execution_count": null,
   "metadata": {},
   "outputs": [
    {
     "name": "stdout",
     "output_type": "stream",
     "text": [
      "['Year']\n",
      "['1988', 'Calgary', 'Winter', '$1.2B', '65%']\n",
      "['1992', 'Albertville', 'Winter', '$2.1B', '137%']\n",
      "['1992', 'Barcelona', 'Summer', '$11.6B', '266%']\n",
      "['1994', 'Lillehammer', 'Winter', '$3.4B', '277%']\n",
      "['1996', 'Atlanta', 'Summer', '$4.7B', '151%']\n",
      "['1998', 'Nagano', 'Winter', '$2.2B', '56%']\n",
      "['2000', 'Sydney', 'Summer', '$5.2B', '90%']\n",
      "['2002', 'Salt Lake City', 'Winter', '$2.7B', '24%']\n",
      "['2004', 'Athens', 'Summer', '$3.1B', '49%']\n",
      "['2006', 'Turin', 'Winter', '$4.7B', '80%']\n",
      "['2008', 'Beijing', 'Summer', '$8.3B', '2%']\n",
      "['2010', 'Vancouver', 'Winter', '$3.2B', '13%']\n",
      "['2012', 'London', 'Summer', '$16.8B', '76%']\n",
      "['2014', 'Sochi', 'Winter', '$28.9B', '289%']\n",
      "['2016', 'Rio de Janeiro', 'Summer', '$23.6B', '352%']\n",
      "['2018', 'Pyeongchang', 'Winter', '$3.4B', '2%']\n",
      "['2020', 'Tokyo', 'Summer', '$13.7B', '128%']\n",
      "['2022', 'Beijing', 'Winter', '$8.7B', '149%']\n",
      "['2024', 'Paris', 'Summer', '$8.7B', '115%']\n"
     ]
    }
   ],
   "source": [
    "data = []\n",
    "\n",
    "\n",
    "# Loop through all rows in the table\n",
    "for row in rows:\n",
    "    row_data = []\n",
    "    # Extract text from the first `th` element in the first row\n",
    "    if row.find('th'):\n",
    "        row_data.append(row.find('th').get_text(strip=True))\n",
    "    # Extract text from `td` elements in the subsequent rows\n",
    "    for td in row.find_all('td'):\n",
    "        if td.find('div', class_='sr-only'):\n",
    "            # Get the text from a child div tag\n",
    "            row_data.append(td.find('div', class_='sr-only').get_text())\n",
    "        else:\n",
    "            # Other elements, just get the text from the td tag\n",
    "            row_data.append(td.get_text())\n",
    "    data.append(row_data)\n",
    "\n",
    "# Print the collected data\n",
    "for row in data:\n",
    "    print(row)\n",
    "\n"
   ]
  },
  {
   "cell_type": "code",
   "execution_count": null,
   "metadata": {},
   "outputs": [
    {
     "data": {
      "text/html": [
       "<div>\n",
       "<style scoped>\n",
       "    .dataframe tbody tr th:only-of-type {\n",
       "        vertical-align: middle;\n",
       "    }\n",
       "\n",
       "    .dataframe tbody tr th {\n",
       "        vertical-align: top;\n",
       "    }\n",
       "\n",
       "    .dataframe thead th {\n",
       "        text-align: right;\n",
       "    }\n",
       "</style>\n",
       "<table border=\"1\" class=\"dataframe\">\n",
       "  <thead>\n",
       "    <tr style=\"text-align: right;\">\n",
       "      <th></th>\n",
       "      <th>0</th>\n",
       "      <th>1</th>\n",
       "      <th>2</th>\n",
       "      <th>3</th>\n",
       "      <th>4</th>\n",
       "    </tr>\n",
       "  </thead>\n",
       "  <tbody>\n",
       "    <tr>\n",
       "      <th>0</th>\n",
       "      <td>Year</td>\n",
       "      <td>None</td>\n",
       "      <td>None</td>\n",
       "      <td>None</td>\n",
       "      <td>None</td>\n",
       "    </tr>\n",
       "    <tr>\n",
       "      <th>1</th>\n",
       "      <td>1988</td>\n",
       "      <td>Calgary</td>\n",
       "      <td>Winter</td>\n",
       "      <td>$1.2B</td>\n",
       "      <td>65%</td>\n",
       "    </tr>\n",
       "    <tr>\n",
       "      <th>2</th>\n",
       "      <td>1992</td>\n",
       "      <td>Albertville</td>\n",
       "      <td>Winter</td>\n",
       "      <td>$2.1B</td>\n",
       "      <td>137%</td>\n",
       "    </tr>\n",
       "    <tr>\n",
       "      <th>3</th>\n",
       "      <td>1992</td>\n",
       "      <td>Barcelona</td>\n",
       "      <td>Summer</td>\n",
       "      <td>$11.6B</td>\n",
       "      <td>266%</td>\n",
       "    </tr>\n",
       "    <tr>\n",
       "      <th>4</th>\n",
       "      <td>1994</td>\n",
       "      <td>Lillehammer</td>\n",
       "      <td>Winter</td>\n",
       "      <td>$3.4B</td>\n",
       "      <td>277%</td>\n",
       "    </tr>\n",
       "    <tr>\n",
       "      <th>5</th>\n",
       "      <td>1996</td>\n",
       "      <td>Atlanta</td>\n",
       "      <td>Summer</td>\n",
       "      <td>$4.7B</td>\n",
       "      <td>151%</td>\n",
       "    </tr>\n",
       "    <tr>\n",
       "      <th>6</th>\n",
       "      <td>1998</td>\n",
       "      <td>Nagano</td>\n",
       "      <td>Winter</td>\n",
       "      <td>$2.2B</td>\n",
       "      <td>56%</td>\n",
       "    </tr>\n",
       "    <tr>\n",
       "      <th>7</th>\n",
       "      <td>2000</td>\n",
       "      <td>Sydney</td>\n",
       "      <td>Summer</td>\n",
       "      <td>$5.2B</td>\n",
       "      <td>90%</td>\n",
       "    </tr>\n",
       "    <tr>\n",
       "      <th>8</th>\n",
       "      <td>2002</td>\n",
       "      <td>Salt Lake City</td>\n",
       "      <td>Winter</td>\n",
       "      <td>$2.7B</td>\n",
       "      <td>24%</td>\n",
       "    </tr>\n",
       "    <tr>\n",
       "      <th>9</th>\n",
       "      <td>2004</td>\n",
       "      <td>Athens</td>\n",
       "      <td>Summer</td>\n",
       "      <td>$3.1B</td>\n",
       "      <td>49%</td>\n",
       "    </tr>\n",
       "    <tr>\n",
       "      <th>10</th>\n",
       "      <td>2006</td>\n",
       "      <td>Turin</td>\n",
       "      <td>Winter</td>\n",
       "      <td>$4.7B</td>\n",
       "      <td>80%</td>\n",
       "    </tr>\n",
       "    <tr>\n",
       "      <th>11</th>\n",
       "      <td>2008</td>\n",
       "      <td>Beijing</td>\n",
       "      <td>Summer</td>\n",
       "      <td>$8.3B</td>\n",
       "      <td>2%</td>\n",
       "    </tr>\n",
       "    <tr>\n",
       "      <th>12</th>\n",
       "      <td>2010</td>\n",
       "      <td>Vancouver</td>\n",
       "      <td>Winter</td>\n",
       "      <td>$3.2B</td>\n",
       "      <td>13%</td>\n",
       "    </tr>\n",
       "    <tr>\n",
       "      <th>13</th>\n",
       "      <td>2012</td>\n",
       "      <td>London</td>\n",
       "      <td>Summer</td>\n",
       "      <td>$16.8B</td>\n",
       "      <td>76%</td>\n",
       "    </tr>\n",
       "    <tr>\n",
       "      <th>14</th>\n",
       "      <td>2014</td>\n",
       "      <td>Sochi</td>\n",
       "      <td>Winter</td>\n",
       "      <td>$28.9B</td>\n",
       "      <td>289%</td>\n",
       "    </tr>\n",
       "    <tr>\n",
       "      <th>15</th>\n",
       "      <td>2016</td>\n",
       "      <td>Rio de Janeiro</td>\n",
       "      <td>Summer</td>\n",
       "      <td>$23.6B</td>\n",
       "      <td>352%</td>\n",
       "    </tr>\n",
       "    <tr>\n",
       "      <th>16</th>\n",
       "      <td>2018</td>\n",
       "      <td>Pyeongchang</td>\n",
       "      <td>Winter</td>\n",
       "      <td>$3.4B</td>\n",
       "      <td>2%</td>\n",
       "    </tr>\n",
       "    <tr>\n",
       "      <th>17</th>\n",
       "      <td>2020</td>\n",
       "      <td>Tokyo</td>\n",
       "      <td>Summer</td>\n",
       "      <td>$13.7B</td>\n",
       "      <td>128%</td>\n",
       "    </tr>\n",
       "    <tr>\n",
       "      <th>18</th>\n",
       "      <td>2022</td>\n",
       "      <td>Beijing</td>\n",
       "      <td>Winter</td>\n",
       "      <td>$8.7B</td>\n",
       "      <td>149%</td>\n",
       "    </tr>\n",
       "    <tr>\n",
       "      <th>19</th>\n",
       "      <td>2024</td>\n",
       "      <td>Paris</td>\n",
       "      <td>Summer</td>\n",
       "      <td>$8.7B</td>\n",
       "      <td>115%</td>\n",
       "    </tr>\n",
       "  </tbody>\n",
       "</table>\n",
       "</div>"
      ],
      "text/plain": [
       "       0               1       2       3     4\n",
       "0   Year            None    None    None  None\n",
       "1   1988         Calgary  Winter   $1.2B   65%\n",
       "2   1992     Albertville  Winter   $2.1B  137%\n",
       "3   1992       Barcelona  Summer  $11.6B  266%\n",
       "4   1994     Lillehammer  Winter   $3.4B  277%\n",
       "5   1996         Atlanta  Summer   $4.7B  151%\n",
       "6   1998          Nagano  Winter   $2.2B   56%\n",
       "7   2000          Sydney  Summer   $5.2B   90%\n",
       "8   2002  Salt Lake City  Winter   $2.7B   24%\n",
       "9   2004          Athens  Summer   $3.1B   49%\n",
       "10  2006           Turin  Winter   $4.7B   80%\n",
       "11  2008         Beijing  Summer   $8.3B    2%\n",
       "12  2010       Vancouver  Winter   $3.2B   13%\n",
       "13  2012          London  Summer  $16.8B   76%\n",
       "14  2014           Sochi  Winter  $28.9B  289%\n",
       "15  2016  Rio de Janeiro  Summer  $23.6B  352%\n",
       "16  2018     Pyeongchang  Winter   $3.4B    2%\n",
       "17  2020           Tokyo  Summer  $13.7B  128%\n",
       "18  2022         Beijing  Winter   $8.7B  149%\n",
       "19  2024           Paris  Summer   $8.7B  115%"
      ]
     },
     "execution_count": 23,
     "metadata": {},
     "output_type": "execute_result"
    }
   ],
   "source": [
    "import pandas as pd\n",
    "df = pd.DataFrame(data)\n",
    "df"
   ]
  },
  {
   "cell_type": "code",
   "execution_count": null,
   "metadata": {},
   "outputs": [
    {
     "data": {
      "text/html": [
       "<div>\n",
       "<style scoped>\n",
       "    .dataframe tbody tr th:only-of-type {\n",
       "        vertical-align: middle;\n",
       "    }\n",
       "\n",
       "    .dataframe tbody tr th {\n",
       "        vertical-align: top;\n",
       "    }\n",
       "\n",
       "    .dataframe thead th {\n",
       "        text-align: right;\n",
       "    }\n",
       "</style>\n",
       "<table border=\"1\" class=\"dataframe\">\n",
       "  <thead>\n",
       "    <tr style=\"text-align: right;\">\n",
       "      <th></th>\n",
       "      <th>0</th>\n",
       "      <th>1</th>\n",
       "      <th>2</th>\n",
       "      <th>3</th>\n",
       "      <th>4</th>\n",
       "    </tr>\n",
       "  </thead>\n",
       "  <tbody>\n",
       "    <tr>\n",
       "      <th>0</th>\n",
       "      <td>1988</td>\n",
       "      <td>Calgary</td>\n",
       "      <td>Winter</td>\n",
       "      <td>$1.2B</td>\n",
       "      <td>65%</td>\n",
       "    </tr>\n",
       "    <tr>\n",
       "      <th>1</th>\n",
       "      <td>1992</td>\n",
       "      <td>Albertville</td>\n",
       "      <td>Winter</td>\n",
       "      <td>$2.1B</td>\n",
       "      <td>137%</td>\n",
       "    </tr>\n",
       "    <tr>\n",
       "      <th>2</th>\n",
       "      <td>1992</td>\n",
       "      <td>Barcelona</td>\n",
       "      <td>Summer</td>\n",
       "      <td>$11.6B</td>\n",
       "      <td>266%</td>\n",
       "    </tr>\n",
       "    <tr>\n",
       "      <th>3</th>\n",
       "      <td>1994</td>\n",
       "      <td>Lillehammer</td>\n",
       "      <td>Winter</td>\n",
       "      <td>$3.4B</td>\n",
       "      <td>277%</td>\n",
       "    </tr>\n",
       "    <tr>\n",
       "      <th>4</th>\n",
       "      <td>1996</td>\n",
       "      <td>Atlanta</td>\n",
       "      <td>Summer</td>\n",
       "      <td>$4.7B</td>\n",
       "      <td>151%</td>\n",
       "    </tr>\n",
       "    <tr>\n",
       "      <th>5</th>\n",
       "      <td>1998</td>\n",
       "      <td>Nagano</td>\n",
       "      <td>Winter</td>\n",
       "      <td>$2.2B</td>\n",
       "      <td>56%</td>\n",
       "    </tr>\n",
       "    <tr>\n",
       "      <th>6</th>\n",
       "      <td>2000</td>\n",
       "      <td>Sydney</td>\n",
       "      <td>Summer</td>\n",
       "      <td>$5.2B</td>\n",
       "      <td>90%</td>\n",
       "    </tr>\n",
       "    <tr>\n",
       "      <th>7</th>\n",
       "      <td>2002</td>\n",
       "      <td>Salt Lake City</td>\n",
       "      <td>Winter</td>\n",
       "      <td>$2.7B</td>\n",
       "      <td>24%</td>\n",
       "    </tr>\n",
       "    <tr>\n",
       "      <th>8</th>\n",
       "      <td>2004</td>\n",
       "      <td>Athens</td>\n",
       "      <td>Summer</td>\n",
       "      <td>$3.1B</td>\n",
       "      <td>49%</td>\n",
       "    </tr>\n",
       "    <tr>\n",
       "      <th>9</th>\n",
       "      <td>2006</td>\n",
       "      <td>Turin</td>\n",
       "      <td>Winter</td>\n",
       "      <td>$4.7B</td>\n",
       "      <td>80%</td>\n",
       "    </tr>\n",
       "    <tr>\n",
       "      <th>10</th>\n",
       "      <td>2008</td>\n",
       "      <td>Beijing</td>\n",
       "      <td>Summer</td>\n",
       "      <td>$8.3B</td>\n",
       "      <td>2%</td>\n",
       "    </tr>\n",
       "    <tr>\n",
       "      <th>11</th>\n",
       "      <td>2010</td>\n",
       "      <td>Vancouver</td>\n",
       "      <td>Winter</td>\n",
       "      <td>$3.2B</td>\n",
       "      <td>13%</td>\n",
       "    </tr>\n",
       "    <tr>\n",
       "      <th>12</th>\n",
       "      <td>2012</td>\n",
       "      <td>London</td>\n",
       "      <td>Summer</td>\n",
       "      <td>$16.8B</td>\n",
       "      <td>76%</td>\n",
       "    </tr>\n",
       "    <tr>\n",
       "      <th>13</th>\n",
       "      <td>2014</td>\n",
       "      <td>Sochi</td>\n",
       "      <td>Winter</td>\n",
       "      <td>$28.9B</td>\n",
       "      <td>289%</td>\n",
       "    </tr>\n",
       "    <tr>\n",
       "      <th>14</th>\n",
       "      <td>2016</td>\n",
       "      <td>Rio de Janeiro</td>\n",
       "      <td>Summer</td>\n",
       "      <td>$23.6B</td>\n",
       "      <td>352%</td>\n",
       "    </tr>\n",
       "    <tr>\n",
       "      <th>15</th>\n",
       "      <td>2018</td>\n",
       "      <td>Pyeongchang</td>\n",
       "      <td>Winter</td>\n",
       "      <td>$3.4B</td>\n",
       "      <td>2%</td>\n",
       "    </tr>\n",
       "    <tr>\n",
       "      <th>16</th>\n",
       "      <td>2020</td>\n",
       "      <td>Tokyo</td>\n",
       "      <td>Summer</td>\n",
       "      <td>$13.7B</td>\n",
       "      <td>128%</td>\n",
       "    </tr>\n",
       "    <tr>\n",
       "      <th>17</th>\n",
       "      <td>2022</td>\n",
       "      <td>Beijing</td>\n",
       "      <td>Winter</td>\n",
       "      <td>$8.7B</td>\n",
       "      <td>149%</td>\n",
       "    </tr>\n",
       "    <tr>\n",
       "      <th>18</th>\n",
       "      <td>2024</td>\n",
       "      <td>Paris</td>\n",
       "      <td>Summer</td>\n",
       "      <td>$8.7B</td>\n",
       "      <td>115%</td>\n",
       "    </tr>\n",
       "  </tbody>\n",
       "</table>\n",
       "</div>"
      ],
      "text/plain": [
       "       0               1       2       3     4\n",
       "0   1988         Calgary  Winter   $1.2B   65%\n",
       "1   1992     Albertville  Winter   $2.1B  137%\n",
       "2   1992       Barcelona  Summer  $11.6B  266%\n",
       "3   1994     Lillehammer  Winter   $3.4B  277%\n",
       "4   1996         Atlanta  Summer   $4.7B  151%\n",
       "5   1998          Nagano  Winter   $2.2B   56%\n",
       "6   2000          Sydney  Summer   $5.2B   90%\n",
       "7   2002  Salt Lake City  Winter   $2.7B   24%\n",
       "8   2004          Athens  Summer   $3.1B   49%\n",
       "9   2006           Turin  Winter   $4.7B   80%\n",
       "10  2008         Beijing  Summer   $8.3B    2%\n",
       "11  2010       Vancouver  Winter   $3.2B   13%\n",
       "12  2012          London  Summer  $16.8B   76%\n",
       "13  2014           Sochi  Winter  $28.9B  289%\n",
       "14  2016  Rio de Janeiro  Summer  $23.6B  352%\n",
       "15  2018     Pyeongchang  Winter   $3.4B    2%\n",
       "16  2020           Tokyo  Summer  $13.7B  128%\n",
       "17  2022         Beijing  Winter   $8.7B  149%\n",
       "18  2024           Paris  Summer   $8.7B  115%"
      ]
     },
     "execution_count": 24,
     "metadata": {},
     "output_type": "execute_result"
    }
   ],
   "source": [
    "df2 = df.drop(0).reset_index(drop=True)\n",
    "\n",
    "# Display the DataFrame\n",
    "df2"
   ]
  },
  {
   "cell_type": "code",
   "execution_count": null,
   "metadata": {},
   "outputs": [
    {
     "name": "stdout",
     "output_type": "stream",
     "text": [
      "    year            city  season    cost overrun\n",
      "0   1988         Calgary  Winter   $1.2B     65%\n",
      "1   1992     Albertville  Winter   $2.1B    137%\n",
      "2   1992       Barcelona  Summer  $11.6B    266%\n",
      "3   1994     Lillehammer  Winter   $3.4B    277%\n",
      "4   1996         Atlanta  Summer   $4.7B    151%\n",
      "5   1998          Nagano  Winter   $2.2B     56%\n",
      "6   2000          Sydney  Summer   $5.2B     90%\n",
      "7   2002  Salt Lake City  Winter   $2.7B     24%\n",
      "8   2004          Athens  Summer   $3.1B     49%\n",
      "9   2006           Turin  Winter   $4.7B     80%\n",
      "10  2008         Beijing  Summer   $8.3B      2%\n",
      "11  2010       Vancouver  Winter   $3.2B     13%\n",
      "12  2012          London  Summer  $16.8B     76%\n",
      "13  2014           Sochi  Winter  $28.9B    289%\n",
      "14  2016  Rio de Janeiro  Summer  $23.6B    352%\n",
      "15  2018     Pyeongchang  Winter   $3.4B      2%\n",
      "16  2020           Tokyo  Summer  $13.7B    128%\n",
      "17  2022         Beijing  Winter   $8.7B    149%\n",
      "18  2024           Paris  Summer   $8.7B    115%\n"
     ]
    }
   ],
   "source": [
    "df2.columns = ['year', 'city', 'season', 'cost', 'overrun']\n",
    "\n",
    "# Display the DataFrame\n",
    "print(df2)"
   ]
  },
  {
   "cell_type": "code",
   "execution_count": null,
   "metadata": {},
   "outputs": [
    {
     "name": "stdout",
     "output_type": "stream",
     "text": [
      "Data has been written to olympics_costs.csv\n"
     ]
    }
   ],
   "source": [
    "import csv\n",
    "csv_file = 'olympics_costs.csv'\n",
    "\n",
    "# Open the file in write mode\n",
    "with open(csv_file, 'w', newline='', encoding='utf-8') as file:\n",
    "    writer = csv.writer(file)\n",
    "    # Write each row from the list to the CSV file\n",
    "    writer.writerows(data)\n",
    "\n",
    "print(f\"Data has been written to {csv_file}\")"
   ]
  },
  {
   "cell_type": "code",
   "execution_count": 34,
   "metadata": {},
   "outputs": [
    {
     "name": "stdout",
     "output_type": "stream",
     "text": [
      "    year            city  season  cost overrun\n",
      "0   1988         Calgary  Winter   1.2      65\n",
      "1   1992     Albertville  Winter   2.1     137\n",
      "2   1992       Barcelona  Summer  11.6     266\n",
      "3   1994     Lillehammer  Winter   3.4     277\n",
      "4   1996         Atlanta  Summer   4.7     151\n",
      "5   1998          Nagano  Winter   2.2      56\n",
      "6   2000          Sydney  Summer   5.2      90\n",
      "7   2002  Salt Lake City  Winter   2.7      24\n",
      "8   2004          Athens  Summer   3.1      49\n",
      "9   2006           Turin  Winter   4.7      80\n",
      "10  2008         Beijing  Summer   8.3       2\n",
      "11  2010       Vancouver  Winter   3.2      13\n",
      "12  2012          London  Summer  16.8      76\n",
      "13  2014           Sochi  Winter  28.9     289\n",
      "14  2016  Rio de Janeiro  Summer  23.6     352\n",
      "15  2018     Pyeongchang  Winter   3.4       2\n",
      "16  2020           Tokyo  Summer  13.7     128\n",
      "17  2022         Beijing  Winter   8.7     149\n",
      "18  2024           Paris  Summer   8.7     115\n"
     ]
    }
   ],
   "source": [
    "df2['cost'] = df2['cost'].str.replace('%', '', regex=False).str.replace('$', '', regex=False)\n",
    "df2['overrun'] = df2['overrun'].str.replace('%', '', regex=False).str.replace('$', '', regex=False)\n",
    "\n",
    "# Display the DataFrame\n",
    "print(df2)"
   ]
  },
  {
   "cell_type": "code",
   "execution_count": 37,
   "metadata": {},
   "outputs": [
    {
     "data": {
      "text/plain": [
       "1721"
      ]
     },
     "execution_count": 37,
     "metadata": {},
     "output_type": "execute_result"
    }
   ],
   "source": [
    "import json\n",
    "\n",
    "olympic_costs = list(df2.T.to_dict().values())\n",
    "\n",
    "open('olympic_costs.json','w').write(json.dumps(olympic_costs))\n"
   ]
  }
 ],
 "metadata": {
  "kernelspec": {
   "display_name": "eco_charts",
   "language": "python",
   "name": "python3"
  },
  "language_info": {
   "codemirror_mode": {
    "name": "ipython",
    "version": 3
   },
   "file_extension": ".py",
   "mimetype": "text/x-python",
   "name": "python",
   "nbconvert_exporter": "python",
   "pygments_lexer": "ipython3",
   "version": "3.9.12"
  }
 },
 "nbformat": 4,
 "nbformat_minor": 2
}

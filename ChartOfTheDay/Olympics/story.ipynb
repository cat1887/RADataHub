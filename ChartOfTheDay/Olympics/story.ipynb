{
 "cells": [
  {
   "cell_type": "code",
   "execution_count": 18,
   "metadata": {},
   "outputs": [],
   "source": [
    "import math\n",
    "import matplotlib\n",
    "import matplotlib.ticker as mtick\n",
    "from matplotlib import pyplot as plt\n",
    "import matplotlib.ticker as ticker\n",
    "import numpy as np\n",
    "import pandas as pd\n",
    "#import seaborn as sns\n",
    "import plotly.graph_objects as go\n",
    "from plotly.subplots import make_subplots\n",
    "pd.options.display.max_rows = 200"
   ]
  },
  {
   "cell_type": "code",
   "execution_count": 19,
   "metadata": {},
   "outputs": [],
   "source": [
    "# For exporting SVGs with editable text\n",
    "new_rc_params = {'text.usetex': False,\n",
    "\n",
    "\n",
    "    \"svg.fonttype\": 'none'\n",
    "\n",
    "\n",
    "}\n",
    "\n",
    "matplotlib.rcParams.update(new_rc_params)\n",
    "\n",
    "# COLORS\n",
    "light_blue = \"#00a5ff\"\n",
    "medium_blue = \"#0064b4\"\n",
    "dark_blue = \"#002d5a\"   \n",
    "chart_gray = \"#cbd2d8\"\n",
    "highlight_gray = \"#7f8891\"\n",
    "bg_gray = \"#f1f3f5\"\n",
    "orange = '#eb6e14'"
   ]
  },
  {
   "cell_type": "code",
   "execution_count": 20,
   "metadata": {},
   "outputs": [],
   "source": [
    "df = pd.read_csv(\"all-competitors.csv\")"
   ]
  },
  {
   "cell_type": "code",
   "execution_count": 21,
   "metadata": {},
   "outputs": [],
   "source": [
    "# Removes Art events\n",
    "df = df[df.abbrv!='ART'].reset_index()"
   ]
  },
  {
   "cell_type": "code",
   "execution_count": 22,
   "metadata": {},
   "outputs": [],
   "source": [
    "# Adds mising 2020 events\n",
    "missing_2020 = pd.read_csv(\"missing-events-at-080821.csv\")"
   ]
  },
  {
   "cell_type": "code",
   "execution_count": 23,
   "metadata": {},
   "outputs": [],
   "source": [
    "# Joins both\n",
    "df = pd.concat([df, missing_2020])"
   ]
  },
  {
   "cell_type": "code",
   "execution_count": 24,
   "metadata": {},
   "outputs": [],
   "source": [
    "# Makes everything lowercase to avoid confusion\n",
    "df[\"medal\"] = df.medal.str.lower()"
   ]
  },
  {
   "cell_type": "code",
   "execution_count": 25,
   "metadata": {},
   "outputs": [],
   "source": [
    "# Isolates 2020\n",
    "df_2020 = df[df.year==2020]"
   ]
  },
  {
   "cell_type": "markdown",
   "metadata": {},
   "source": [
    "#### Best and worst competitor/medal ratio\n",
    "Ammount of competitors (individual entrants in a single event) / total medal wons by country "
   ]
  },
  {
   "cell_type": "code",
   "execution_count": 26,
   "metadata": {},
   "outputs": [],
   "source": [
    "def victory_ratio(df):\n",
    "\n",
    "    competitor_count = df.groupby(\"noc\").competitor.count().reset_index().rename(columns={\"competitor\":\"competitors\"})\n",
    "    \n",
    "    medal_count = (df[~df.medal.isna()]\n",
    "                     .pivot_table(index='noc',\n",
    "                                  columns='medal',\n",
    "                                  aggfunc='count')\n",
    "                     .event\n",
    "                     .fillna(0)\n",
    "                     .reset_index())\n",
    "    \n",
    "    medal_count[\"medals\"] = medal_count.gold + medal_count.silver + medal_count.bronze\n",
    "\n",
    "    merged = competitor_count.merge(medal_count, how='left').fillna(0)\n",
    "    merged[\"medal_ratio\"] = merged.medals / merged.competitors\n",
    "    merged[\"fail_ratio\"] = 1 - merged.medal_ratio\n",
    "\n",
    "    \n",
    "    \n",
    "    merged['blewed_chances'] = merged['competitors'] - merged['medals']\n",
    "    \n",
    "    return merged.sort_values(by=['medal_ratio', 'competitors'], ascending=False)"
   ]
  },
  {
   "cell_type": "code",
   "execution_count": 27,
   "metadata": {
    "scrolled": true
   },
   "outputs": [],
   "source": [
    "vr = victory_ratio(df)"
   ]
  },
  {
   "cell_type": "markdown",
   "metadata": {},
   "source": [
    "This list changes a lot of common perceptions about Olympic powers: countries like Kenya, Azerbaijan and Ehtiopia would end up in the top 10 all-time medal winners, ahead of countries like Germany, Japan, France..."
   ]
  },
  {
   "cell_type": "code",
   "execution_count": 28,
   "metadata": {},
   "outputs": [
    {
     "data": {
      "text/html": [
       "<div>\n",
       "<style scoped>\n",
       "    .dataframe tbody tr th:only-of-type {\n",
       "        vertical-align: middle;\n",
       "    }\n",
       "\n",
       "    .dataframe tbody tr th {\n",
       "        vertical-align: top;\n",
       "    }\n",
       "\n",
       "    .dataframe thead th {\n",
       "        text-align: right;\n",
       "    }\n",
       "</style>\n",
       "<table border=\"1\" class=\"dataframe\">\n",
       "  <thead>\n",
       "    <tr style=\"text-align: right;\">\n",
       "      <th></th>\n",
       "      <th>noc</th>\n",
       "      <th>competitors</th>\n",
       "      <th>bronze</th>\n",
       "      <th>gold</th>\n",
       "      <th>silver</th>\n",
       "      <th>medals</th>\n",
       "      <th>medal_ratio</th>\n",
       "      <th>fail_ratio</th>\n",
       "      <th>blewed_chances</th>\n",
       "    </tr>\n",
       "  </thead>\n",
       "  <tbody>\n",
       "    <tr>\n",
       "      <th>134</th>\n",
       "      <td>MIX</td>\n",
       "      <td>12</td>\n",
       "      <td>4.0</td>\n",
       "      <td>3.0</td>\n",
       "      <td>2.0</td>\n",
       "      <td>9.0</td>\n",
       "      <td>0.750000</td>\n",
       "      <td>0.250000</td>\n",
       "      <td>3.0</td>\n",
       "    </tr>\n",
       "    <tr>\n",
       "      <th>215</th>\n",
       "      <td>URS</td>\n",
       "      <td>3092</td>\n",
       "      <td>296.0</td>\n",
       "      <td>395.0</td>\n",
       "      <td>319.0</td>\n",
       "      <td>1010.0</td>\n",
       "      <td>0.326649</td>\n",
       "      <td>0.673351</td>\n",
       "      <td>2082.0</td>\n",
       "    </tr>\n",
       "    <tr>\n",
       "      <th>77</th>\n",
       "      <td>GDR</td>\n",
       "      <td>1465</td>\n",
       "      <td>127.0</td>\n",
       "      <td>153.0</td>\n",
       "      <td>129.0</td>\n",
       "      <td>409.0</td>\n",
       "      <td>0.279181</td>\n",
       "      <td>0.720819</td>\n",
       "      <td>1056.0</td>\n",
       "    </tr>\n",
       "    <tr>\n",
       "      <th>67</th>\n",
       "      <td>EUN</td>\n",
       "      <td>422</td>\n",
       "      <td>29.0</td>\n",
       "      <td>45.0</td>\n",
       "      <td>38.0</td>\n",
       "      <td>112.0</td>\n",
       "      <td>0.265403</td>\n",
       "      <td>0.734597</td>\n",
       "      <td>310.0</td>\n",
       "    </tr>\n",
       "    <tr>\n",
       "      <th>217</th>\n",
       "      <td>USA</td>\n",
       "      <td>10908</td>\n",
       "      <td>744.0</td>\n",
       "      <td>1064.0</td>\n",
       "      <td>837.0</td>\n",
       "      <td>2645.0</td>\n",
       "      <td>0.242483</td>\n",
       "      <td>0.757517</td>\n",
       "      <td>8263.0</td>\n",
       "    </tr>\n",
       "    <tr>\n",
       "      <th>42</th>\n",
       "      <td>CHN</td>\n",
       "      <td>3157</td>\n",
       "      <td>173.0</td>\n",
       "      <td>262.0</td>\n",
       "      <td>198.0</td>\n",
       "      <td>633.0</td>\n",
       "      <td>0.200507</td>\n",
       "      <td>0.799493</td>\n",
       "      <td>2524.0</td>\n",
       "    </tr>\n",
       "    <tr>\n",
       "      <th>169</th>\n",
       "      <td>ROC</td>\n",
       "      <td>355</td>\n",
       "      <td>22.0</td>\n",
       "      <td>20.0</td>\n",
       "      <td>27.0</td>\n",
       "      <td>69.0</td>\n",
       "      <td>0.194366</td>\n",
       "      <td>0.805634</td>\n",
       "      <td>286.0</td>\n",
       "    </tr>\n",
       "    <tr>\n",
       "      <th>107</th>\n",
       "      <td>KEN</td>\n",
       "      <td>656</td>\n",
       "      <td>36.0</td>\n",
       "      <td>35.0</td>\n",
       "      <td>42.0</td>\n",
       "      <td>113.0</td>\n",
       "      <td>0.172256</td>\n",
       "      <td>0.827744</td>\n",
       "      <td>543.0</td>\n",
       "    </tr>\n",
       "    <tr>\n",
       "      <th>172</th>\n",
       "      <td>RUS</td>\n",
       "      <td>2552</td>\n",
       "      <td>154.0</td>\n",
       "      <td>150.0</td>\n",
       "      <td>129.0</td>\n",
       "      <td>433.0</td>\n",
       "      <td>0.169671</td>\n",
       "      <td>0.830329</td>\n",
       "      <td>2119.0</td>\n",
       "    </tr>\n",
       "    <tr>\n",
       "      <th>111</th>\n",
       "      <td>KOS</td>\n",
       "      <td>19</td>\n",
       "      <td>0.0</td>\n",
       "      <td>3.0</td>\n",
       "      <td>0.0</td>\n",
       "      <td>3.0</td>\n",
       "      <td>0.157895</td>\n",
       "      <td>0.842105</td>\n",
       "      <td>16.0</td>\n",
       "    </tr>\n",
       "    <tr>\n",
       "      <th>14</th>\n",
       "      <td>AZE</td>\n",
       "      <td>306</td>\n",
       "      <td>28.0</td>\n",
       "      <td>7.0</td>\n",
       "      <td>12.0</td>\n",
       "      <td>47.0</td>\n",
       "      <td>0.153595</td>\n",
       "      <td>0.846405</td>\n",
       "      <td>259.0</td>\n",
       "    </tr>\n",
       "    <tr>\n",
       "      <th>80</th>\n",
       "      <td>GER</td>\n",
       "      <td>5187</td>\n",
       "      <td>281.0</td>\n",
       "      <td>229.0</td>\n",
       "      <td>257.0</td>\n",
       "      <td>767.0</td>\n",
       "      <td>0.147870</td>\n",
       "      <td>0.852130</td>\n",
       "      <td>4420.0</td>\n",
       "    </tr>\n",
       "    <tr>\n",
       "      <th>66</th>\n",
       "      <td>ETH</td>\n",
       "      <td>395</td>\n",
       "      <td>23.0</td>\n",
       "      <td>23.0</td>\n",
       "      <td>12.0</td>\n",
       "      <td>58.0</td>\n",
       "      <td>0.146835</td>\n",
       "      <td>0.853165</td>\n",
       "      <td>337.0</td>\n",
       "    </tr>\n",
       "    <tr>\n",
       "      <th>78</th>\n",
       "      <td>GEO</td>\n",
       "      <td>274</td>\n",
       "      <td>18.0</td>\n",
       "      <td>10.0</td>\n",
       "      <td>12.0</td>\n",
       "      <td>40.0</td>\n",
       "      <td>0.145985</td>\n",
       "      <td>0.854015</td>\n",
       "      <td>234.0</td>\n",
       "    </tr>\n",
       "    <tr>\n",
       "      <th>7</th>\n",
       "      <td>ANZ</td>\n",
       "      <td>87</td>\n",
       "      <td>5.0</td>\n",
       "      <td>3.0</td>\n",
       "      <td>4.0</td>\n",
       "      <td>12.0</td>\n",
       "      <td>0.137931</td>\n",
       "      <td>0.862069</td>\n",
       "      <td>75.0</td>\n",
       "    </tr>\n",
       "    <tr>\n",
       "      <th>52</th>\n",
       "      <td>CUB</td>\n",
       "      <td>1743</td>\n",
       "      <td>82.0</td>\n",
       "      <td>84.0</td>\n",
       "      <td>69.0</td>\n",
       "      <td>235.0</td>\n",
       "      <td>0.134825</td>\n",
       "      <td>0.865175</td>\n",
       "      <td>1508.0</td>\n",
       "    </tr>\n",
       "    <tr>\n",
       "      <th>103</th>\n",
       "      <td>JAM</td>\n",
       "      <td>680</td>\n",
       "      <td>25.0</td>\n",
       "      <td>26.0</td>\n",
       "      <td>36.0</td>\n",
       "      <td>87.0</td>\n",
       "      <td>0.127941</td>\n",
       "      <td>0.872059</td>\n",
       "      <td>593.0</td>\n",
       "    </tr>\n",
       "    <tr>\n",
       "      <th>71</th>\n",
       "      <td>FRG</td>\n",
       "      <td>1669</td>\n",
       "      <td>81.0</td>\n",
       "      <td>56.0</td>\n",
       "      <td>67.0</td>\n",
       "      <td>204.0</td>\n",
       "      <td>0.122229</td>\n",
       "      <td>0.877771</td>\n",
       "      <td>1465.0</td>\n",
       "    </tr>\n",
       "    <tr>\n",
       "      <th>75</th>\n",
       "      <td>GBR</td>\n",
       "      <td>7722</td>\n",
       "      <td>312.0</td>\n",
       "      <td>288.0</td>\n",
       "      <td>320.0</td>\n",
       "      <td>920.0</td>\n",
       "      <td>0.119140</td>\n",
       "      <td>0.880860</td>\n",
       "      <td>6802.0</td>\n",
       "    </tr>\n",
       "    <tr>\n",
       "      <th>224</th>\n",
       "      <td>WIF</td>\n",
       "      <td>17</td>\n",
       "      <td>2.0</td>\n",
       "      <td>0.0</td>\n",
       "      <td>0.0</td>\n",
       "      <td>2.0</td>\n",
       "      <td>0.117647</td>\n",
       "      <td>0.882353</td>\n",
       "      <td>15.0</td>\n",
       "    </tr>\n",
       "  </tbody>\n",
       "</table>\n",
       "</div>"
      ],
      "text/plain": [
       "     noc  competitors  bronze    gold  silver  medals  medal_ratio  \\\n",
       "134  MIX           12     4.0     3.0     2.0     9.0     0.750000   \n",
       "215  URS         3092   296.0   395.0   319.0  1010.0     0.326649   \n",
       "77   GDR         1465   127.0   153.0   129.0   409.0     0.279181   \n",
       "67   EUN          422    29.0    45.0    38.0   112.0     0.265403   \n",
       "217  USA        10908   744.0  1064.0   837.0  2645.0     0.242483   \n",
       "42   CHN         3157   173.0   262.0   198.0   633.0     0.200507   \n",
       "169  ROC          355    22.0    20.0    27.0    69.0     0.194366   \n",
       "107  KEN          656    36.0    35.0    42.0   113.0     0.172256   \n",
       "172  RUS         2552   154.0   150.0   129.0   433.0     0.169671   \n",
       "111  KOS           19     0.0     3.0     0.0     3.0     0.157895   \n",
       "14   AZE          306    28.0     7.0    12.0    47.0     0.153595   \n",
       "80   GER         5187   281.0   229.0   257.0   767.0     0.147870   \n",
       "66   ETH          395    23.0    23.0    12.0    58.0     0.146835   \n",
       "78   GEO          274    18.0    10.0    12.0    40.0     0.145985   \n",
       "7    ANZ           87     5.0     3.0     4.0    12.0     0.137931   \n",
       "52   CUB         1743    82.0    84.0    69.0   235.0     0.134825   \n",
       "103  JAM          680    25.0    26.0    36.0    87.0     0.127941   \n",
       "71   FRG         1669    81.0    56.0    67.0   204.0     0.122229   \n",
       "75   GBR         7722   312.0   288.0   320.0   920.0     0.119140   \n",
       "224  WIF           17     2.0     0.0     0.0     2.0     0.117647   \n",
       "\n",
       "     fail_ratio  blewed_chances  \n",
       "134    0.250000             3.0  \n",
       "215    0.673351          2082.0  \n",
       "77     0.720819          1056.0  \n",
       "67     0.734597           310.0  \n",
       "217    0.757517          8263.0  \n",
       "42     0.799493          2524.0  \n",
       "169    0.805634           286.0  \n",
       "107    0.827744           543.0  \n",
       "172    0.830329          2119.0  \n",
       "111    0.842105            16.0  \n",
       "14     0.846405           259.0  \n",
       "80     0.852130          4420.0  \n",
       "66     0.853165           337.0  \n",
       "78     0.854015           234.0  \n",
       "7      0.862069            75.0  \n",
       "52     0.865175          1508.0  \n",
       "103    0.872059           593.0  \n",
       "71     0.877771          1465.0  \n",
       "75     0.880860          6802.0  \n",
       "224    0.882353            15.0  "
      ]
     },
     "execution_count": 28,
     "metadata": {},
     "output_type": "execute_result"
    }
   ],
   "source": [
    "vr.head(20)"
   ]
  },
  {
   "cell_type": "markdown",
   "metadata": {},
   "source": [
    "On the other hand, there are many countries that had hundreds of chances of winnng and never made it. The neighbors El Salvador, Honduras and Nicaragua are all among them. Angola, Bolivia, Madacasgar, Seychelles, Myanmar, Papua New Guinea and Antigua & Barbuda too."
   ]
  },
  {
   "cell_type": "code",
   "execution_count": 36,
   "metadata": {},
   "outputs": [
    {
     "data": {
      "text/html": [
       "<div>\n",
       "<style scoped>\n",
       "    .dataframe tbody tr th:only-of-type {\n",
       "        vertical-align: middle;\n",
       "    }\n",
       "\n",
       "    .dataframe tbody tr th {\n",
       "        vertical-align: top;\n",
       "    }\n",
       "\n",
       "    .dataframe thead th {\n",
       "        text-align: right;\n",
       "    }\n",
       "</style>\n",
       "<table border=\"1\" class=\"dataframe\">\n",
       "  <thead>\n",
       "    <tr style=\"text-align: right;\">\n",
       "      <th></th>\n",
       "      <th>noc</th>\n",
       "      <th>competitors</th>\n",
       "      <th>bronze</th>\n",
       "      <th>gold</th>\n",
       "      <th>silver</th>\n",
       "      <th>medals</th>\n",
       "      <th>medal_ratio</th>\n",
       "      <th>fail_ratio</th>\n",
       "      <th>blewed_chances</th>\n",
       "    </tr>\n",
       "  </thead>\n",
       "  <tbody>\n",
       "    <tr>\n",
       "      <th>217</th>\n",
       "      <td>USA</td>\n",
       "      <td>10908</td>\n",
       "      <td>744.0</td>\n",
       "      <td>1064.0</td>\n",
       "      <td>837.0</td>\n",
       "      <td>2645.0</td>\n",
       "      <td>0.242483</td>\n",
       "      <td>0.757517</td>\n",
       "      <td>8263.0</td>\n",
       "    </tr>\n",
       "    <tr>\n",
       "      <th>215</th>\n",
       "      <td>URS</td>\n",
       "      <td>3092</td>\n",
       "      <td>296.0</td>\n",
       "      <td>395.0</td>\n",
       "      <td>319.0</td>\n",
       "      <td>1010.0</td>\n",
       "      <td>0.326649</td>\n",
       "      <td>0.673351</td>\n",
       "      <td>2082.0</td>\n",
       "    </tr>\n",
       "    <tr>\n",
       "      <th>75</th>\n",
       "      <td>GBR</td>\n",
       "      <td>7722</td>\n",
       "      <td>312.0</td>\n",
       "      <td>288.0</td>\n",
       "      <td>320.0</td>\n",
       "      <td>920.0</td>\n",
       "      <td>0.119140</td>\n",
       "      <td>0.880860</td>\n",
       "      <td>6802.0</td>\n",
       "    </tr>\n",
       "    <tr>\n",
       "      <th>42</th>\n",
       "      <td>CHN</td>\n",
       "      <td>3157</td>\n",
       "      <td>173.0</td>\n",
       "      <td>262.0</td>\n",
       "      <td>198.0</td>\n",
       "      <td>633.0</td>\n",
       "      <td>0.200507</td>\n",
       "      <td>0.799493</td>\n",
       "      <td>2524.0</td>\n",
       "    </tr>\n",
       "    <tr>\n",
       "      <th>80</th>\n",
       "      <td>GER</td>\n",
       "      <td>5187</td>\n",
       "      <td>281.0</td>\n",
       "      <td>229.0</td>\n",
       "      <td>257.0</td>\n",
       "      <td>767.0</td>\n",
       "      <td>0.147870</td>\n",
       "      <td>0.852130</td>\n",
       "      <td>4420.0</td>\n",
       "    </tr>\n",
       "    <tr>\n",
       "      <th>70</th>\n",
       "      <td>FRA</td>\n",
       "      <td>7821</td>\n",
       "      <td>280.0</td>\n",
       "      <td>227.0</td>\n",
       "      <td>252.0</td>\n",
       "      <td>759.0</td>\n",
       "      <td>0.097046</td>\n",
       "      <td>0.902954</td>\n",
       "      <td>7062.0</td>\n",
       "    </tr>\n",
       "    <tr>\n",
       "      <th>101</th>\n",
       "      <td>ITA</td>\n",
       "      <td>5605</td>\n",
       "      <td>211.0</td>\n",
       "      <td>216.0</td>\n",
       "      <td>186.0</td>\n",
       "      <td>613.0</td>\n",
       "      <td>0.109367</td>\n",
       "      <td>0.890633</td>\n",
       "      <td>4992.0</td>\n",
       "    </tr>\n",
       "    <tr>\n",
       "      <th>91</th>\n",
       "      <td>HUN</td>\n",
       "      <td>4788</td>\n",
       "      <td>173.0</td>\n",
       "      <td>181.0</td>\n",
       "      <td>154.0</td>\n",
       "      <td>508.0</td>\n",
       "      <td>0.106099</td>\n",
       "      <td>0.893901</td>\n",
       "      <td>4280.0</td>\n",
       "    </tr>\n",
       "    <tr>\n",
       "      <th>105</th>\n",
       "      <td>JPN</td>\n",
       "      <td>4685</td>\n",
       "      <td>177.0</td>\n",
       "      <td>169.0</td>\n",
       "      <td>150.0</td>\n",
       "      <td>496.0</td>\n",
       "      <td>0.105870</td>\n",
       "      <td>0.894130</td>\n",
       "      <td>4189.0</td>\n",
       "    </tr>\n",
       "    <tr>\n",
       "      <th>12</th>\n",
       "      <td>AUS</td>\n",
       "      <td>4767</td>\n",
       "      <td>208.0</td>\n",
       "      <td>163.0</td>\n",
       "      <td>170.0</td>\n",
       "      <td>541.0</td>\n",
       "      <td>0.113489</td>\n",
       "      <td>0.886511</td>\n",
       "      <td>4226.0</td>\n",
       "    </tr>\n",
       "  </tbody>\n",
       "</table>\n",
       "</div>"
      ],
      "text/plain": [
       "     noc  competitors  bronze    gold  silver  medals  medal_ratio  \\\n",
       "217  USA        10908   744.0  1064.0   837.0  2645.0     0.242483   \n",
       "215  URS         3092   296.0   395.0   319.0  1010.0     0.326649   \n",
       "75   GBR         7722   312.0   288.0   320.0   920.0     0.119140   \n",
       "42   CHN         3157   173.0   262.0   198.0   633.0     0.200507   \n",
       "80   GER         5187   281.0   229.0   257.0   767.0     0.147870   \n",
       "70   FRA         7821   280.0   227.0   252.0   759.0     0.097046   \n",
       "101  ITA         5605   211.0   216.0   186.0   613.0     0.109367   \n",
       "91   HUN         4788   173.0   181.0   154.0   508.0     0.106099   \n",
       "105  JPN         4685   177.0   169.0   150.0   496.0     0.105870   \n",
       "12   AUS         4767   208.0   163.0   170.0   541.0     0.113489   \n",
       "\n",
       "     fail_ratio  blewed_chances  \n",
       "217    0.757517          8263.0  \n",
       "215    0.673351          2082.0  \n",
       "75     0.880860          6802.0  \n",
       "42     0.799493          2524.0  \n",
       "80     0.852130          4420.0  \n",
       "70     0.902954          7062.0  \n",
       "101    0.890633          4992.0  \n",
       "91     0.893901          4280.0  \n",
       "105    0.894130          4189.0  \n",
       "12     0.886511          4226.0  "
      ]
     },
     "execution_count": 36,
     "metadata": {},
     "output_type": "execute_result"
    }
   ],
   "source": [
    "vr.sort_values(by='gold', ascending=False).head(10)"
   ]
  },
  {
   "cell_type": "code",
   "execution_count": 32,
   "metadata": {},
   "outputs": [
    {
     "data": {
      "text/html": [
       "<div>\n",
       "<style scoped>\n",
       "    .dataframe tbody tr th:only-of-type {\n",
       "        vertical-align: middle;\n",
       "    }\n",
       "\n",
       "    .dataframe tbody tr th {\n",
       "        vertical-align: top;\n",
       "    }\n",
       "\n",
       "    .dataframe thead th {\n",
       "        text-align: right;\n",
       "    }\n",
       "</style>\n",
       "<table border=\"1\" class=\"dataframe\">\n",
       "  <thead>\n",
       "    <tr style=\"text-align: right;\">\n",
       "      <th></th>\n",
       "      <th>noc</th>\n",
       "      <th>competitors</th>\n",
       "      <th>bronze</th>\n",
       "      <th>gold</th>\n",
       "      <th>silver</th>\n",
       "      <th>medals</th>\n",
       "      <th>medal_ratio</th>\n",
       "      <th>fail_ratio</th>\n",
       "      <th>blewed_chances</th>\n",
       "    </tr>\n",
       "  </thead>\n",
       "  <tbody>\n",
       "    <tr>\n",
       "      <th>63</th>\n",
       "      <td>ESA</td>\n",
       "      <td>200</td>\n",
       "      <td>0.0</td>\n",
       "      <td>0.0</td>\n",
       "      <td>0.0</td>\n",
       "      <td>0.0</td>\n",
       "      <td>0.0</td>\n",
       "      <td>1.0</td>\n",
       "      <td>200.0</td>\n",
       "    </tr>\n",
       "    <tr>\n",
       "      <th>119</th>\n",
       "      <td>LCA</td>\n",
       "      <td>31</td>\n",
       "      <td>0.0</td>\n",
       "      <td>0.0</td>\n",
       "      <td>0.0</td>\n",
       "      <td>0.0</td>\n",
       "      <td>0.0</td>\n",
       "      <td>1.0</td>\n",
       "      <td>31.0</td>\n",
       "    </tr>\n",
       "    <tr>\n",
       "      <th>184</th>\n",
       "      <td>SOL</td>\n",
       "      <td>32</td>\n",
       "      <td>0.0</td>\n",
       "      <td>0.0</td>\n",
       "      <td>0.0</td>\n",
       "      <td>0.0</td>\n",
       "      <td>0.0</td>\n",
       "      <td>1.0</td>\n",
       "      <td>32.0</td>\n",
       "    </tr>\n",
       "    <tr>\n",
       "      <th>102</th>\n",
       "      <td>IVB</td>\n",
       "      <td>32</td>\n",
       "      <td>0.0</td>\n",
       "      <td>0.0</td>\n",
       "      <td>0.0</td>\n",
       "      <td>0.0</td>\n",
       "      <td>0.0</td>\n",
       "      <td>1.0</td>\n",
       "      <td>32.0</td>\n",
       "    </tr>\n",
       "    <tr>\n",
       "      <th>125</th>\n",
       "      <td>MAL</td>\n",
       "      <td>34</td>\n",
       "      <td>0.0</td>\n",
       "      <td>0.0</td>\n",
       "      <td>0.0</td>\n",
       "      <td>0.0</td>\n",
       "      <td>0.0</td>\n",
       "      <td>1.0</td>\n",
       "      <td>34.0</td>\n",
       "    </tr>\n",
       "    <tr>\n",
       "      <th>22</th>\n",
       "      <td>BHU</td>\n",
       "      <td>34</td>\n",
       "      <td>0.0</td>\n",
       "      <td>0.0</td>\n",
       "      <td>0.0</td>\n",
       "      <td>0.0</td>\n",
       "      <td>0.0</td>\n",
       "      <td>1.0</td>\n",
       "      <td>34.0</td>\n",
       "    </tr>\n",
       "    <tr>\n",
       "      <th>185</th>\n",
       "      <td>SOM</td>\n",
       "      <td>37</td>\n",
       "      <td>0.0</td>\n",
       "      <td>0.0</td>\n",
       "      <td>0.0</td>\n",
       "      <td>0.0</td>\n",
       "      <td>0.0</td>\n",
       "      <td>1.0</td>\n",
       "      <td>37.0</td>\n",
       "    </tr>\n",
       "    <tr>\n",
       "      <th>226</th>\n",
       "      <td>YEM</td>\n",
       "      <td>40</td>\n",
       "      <td>0.0</td>\n",
       "      <td>0.0</td>\n",
       "      <td>0.0</td>\n",
       "      <td>0.0</td>\n",
       "      <td>0.0</td>\n",
       "      <td>1.0</td>\n",
       "      <td>40.0</td>\n",
       "    </tr>\n",
       "    <tr>\n",
       "      <th>222</th>\n",
       "      <td>VIN</td>\n",
       "      <td>40</td>\n",
       "      <td>0.0</td>\n",
       "      <td>0.0</td>\n",
       "      <td>0.0</td>\n",
       "      <td>0.0</td>\n",
       "      <td>0.0</td>\n",
       "      <td>1.0</td>\n",
       "      <td>40.0</td>\n",
       "    </tr>\n",
       "    <tr>\n",
       "      <th>61</th>\n",
       "      <td>EOR</td>\n",
       "      <td>40</td>\n",
       "      <td>0.0</td>\n",
       "      <td>0.0</td>\n",
       "      <td>0.0</td>\n",
       "      <td>0.0</td>\n",
       "      <td>0.0</td>\n",
       "      <td>1.0</td>\n",
       "      <td>40.0</td>\n",
       "    </tr>\n",
       "    <tr>\n",
       "      <th>11</th>\n",
       "      <td>ASA</td>\n",
       "      <td>40</td>\n",
       "      <td>0.0</td>\n",
       "      <td>0.0</td>\n",
       "      <td>0.0</td>\n",
       "      <td>0.0</td>\n",
       "      <td>0.0</td>\n",
       "      <td>1.0</td>\n",
       "      <td>40.0</td>\n",
       "    </tr>\n",
       "    <tr>\n",
       "      <th>219</th>\n",
       "      <td>VAN</td>\n",
       "      <td>41</td>\n",
       "      <td>0.0</td>\n",
       "      <td>0.0</td>\n",
       "      <td>0.0</td>\n",
       "      <td>0.0</td>\n",
       "      <td>0.0</td>\n",
       "      <td>1.0</td>\n",
       "      <td>41.0</td>\n",
       "    </tr>\n",
       "    <tr>\n",
       "      <th>79</th>\n",
       "      <td>GEQ</td>\n",
       "      <td>42</td>\n",
       "      <td>0.0</td>\n",
       "      <td>0.0</td>\n",
       "      <td>0.0</td>\n",
       "      <td>0.0</td>\n",
       "      <td>0.0</td>\n",
       "      <td>1.0</td>\n",
       "      <td>42.0</td>\n",
       "    </tr>\n",
       "    <tr>\n",
       "      <th>10</th>\n",
       "      <td>ARU</td>\n",
       "      <td>44</td>\n",
       "      <td>0.0</td>\n",
       "      <td>0.0</td>\n",
       "      <td>0.0</td>\n",
       "      <td>0.0</td>\n",
       "      <td>0.0</td>\n",
       "      <td>1.0</td>\n",
       "      <td>44.0</td>\n",
       "    </tr>\n",
       "    <tr>\n",
       "      <th>130</th>\n",
       "      <td>MDV</td>\n",
       "      <td>47</td>\n",
       "      <td>0.0</td>\n",
       "      <td>0.0</td>\n",
       "      <td>0.0</td>\n",
       "      <td>0.0</td>\n",
       "      <td>0.0</td>\n",
       "      <td>1.0</td>\n",
       "      <td>47.0</td>\n",
       "    </tr>\n",
       "    <tr>\n",
       "      <th>39</th>\n",
       "      <td>CHA</td>\n",
       "      <td>47</td>\n",
       "      <td>0.0</td>\n",
       "      <td>0.0</td>\n",
       "      <td>0.0</td>\n",
       "      <td>0.0</td>\n",
       "      <td>0.0</td>\n",
       "      <td>1.0</td>\n",
       "      <td>47.0</td>\n",
       "    </tr>\n",
       "    <tr>\n",
       "      <th>142</th>\n",
       "      <td>MTN</td>\n",
       "      <td>31</td>\n",
       "      <td>0.0</td>\n",
       "      <td>0.0</td>\n",
       "      <td>0.0</td>\n",
       "      <td>0.0</td>\n",
       "      <td>0.0</td>\n",
       "      <td>1.0</td>\n",
       "      <td>31.0</td>\n",
       "    </tr>\n",
       "    <tr>\n",
       "      <th>180</th>\n",
       "      <td>SKN</td>\n",
       "      <td>30</td>\n",
       "      <td>0.0</td>\n",
       "      <td>0.0</td>\n",
       "      <td>0.0</td>\n",
       "      <td>0.0</td>\n",
       "      <td>0.0</td>\n",
       "      <td>1.0</td>\n",
       "      <td>30.0</td>\n",
       "    </tr>\n",
       "    <tr>\n",
       "      <th>72</th>\n",
       "      <td>FSM</td>\n",
       "      <td>29</td>\n",
       "      <td>0.0</td>\n",
       "      <td>0.0</td>\n",
       "      <td>0.0</td>\n",
       "      <td>0.0</td>\n",
       "      <td>0.0</td>\n",
       "      <td>1.0</td>\n",
       "      <td>29.0</td>\n",
       "    </tr>\n",
       "    <tr>\n",
       "      <th>161</th>\n",
       "      <td>PLW</td>\n",
       "      <td>28</td>\n",
       "      <td>0.0</td>\n",
       "      <td>0.0</td>\n",
       "      <td>0.0</td>\n",
       "      <td>0.0</td>\n",
       "      <td>0.0</td>\n",
       "      <td>1.0</td>\n",
       "      <td>28.0</td>\n",
       "    </tr>\n",
       "  </tbody>\n",
       "</table>\n",
       "</div>"
      ],
      "text/plain": [
       "     noc  competitors  bronze  gold  silver  medals  medal_ratio  fail_ratio  \\\n",
       "63   ESA          200     0.0   0.0     0.0     0.0          0.0         1.0   \n",
       "119  LCA           31     0.0   0.0     0.0     0.0          0.0         1.0   \n",
       "184  SOL           32     0.0   0.0     0.0     0.0          0.0         1.0   \n",
       "102  IVB           32     0.0   0.0     0.0     0.0          0.0         1.0   \n",
       "125  MAL           34     0.0   0.0     0.0     0.0          0.0         1.0   \n",
       "22   BHU           34     0.0   0.0     0.0     0.0          0.0         1.0   \n",
       "185  SOM           37     0.0   0.0     0.0     0.0          0.0         1.0   \n",
       "226  YEM           40     0.0   0.0     0.0     0.0          0.0         1.0   \n",
       "222  VIN           40     0.0   0.0     0.0     0.0          0.0         1.0   \n",
       "61   EOR           40     0.0   0.0     0.0     0.0          0.0         1.0   \n",
       "11   ASA           40     0.0   0.0     0.0     0.0          0.0         1.0   \n",
       "219  VAN           41     0.0   0.0     0.0     0.0          0.0         1.0   \n",
       "79   GEQ           42     0.0   0.0     0.0     0.0          0.0         1.0   \n",
       "10   ARU           44     0.0   0.0     0.0     0.0          0.0         1.0   \n",
       "130  MDV           47     0.0   0.0     0.0     0.0          0.0         1.0   \n",
       "39   CHA           47     0.0   0.0     0.0     0.0          0.0         1.0   \n",
       "142  MTN           31     0.0   0.0     0.0     0.0          0.0         1.0   \n",
       "180  SKN           30     0.0   0.0     0.0     0.0          0.0         1.0   \n",
       "72   FSM           29     0.0   0.0     0.0     0.0          0.0         1.0   \n",
       "161  PLW           28     0.0   0.0     0.0     0.0          0.0         1.0   \n",
       "\n",
       "     blewed_chances  \n",
       "63            200.0  \n",
       "119            31.0  \n",
       "184            32.0  \n",
       "102            32.0  \n",
       "125            34.0  \n",
       "22             34.0  \n",
       "185            37.0  \n",
       "226            40.0  \n",
       "222            40.0  \n",
       "61             40.0  \n",
       "11             40.0  \n",
       "219            41.0  \n",
       "79             42.0  \n",
       "10             44.0  \n",
       "130            47.0  \n",
       "39             47.0  \n",
       "142            31.0  \n",
       "180            30.0  \n",
       "72             29.0  \n",
       "161            28.0  "
      ]
     },
     "execution_count": 32,
     "metadata": {},
     "output_type": "execute_result"
    }
   ],
   "source": [
    "vr[vr.medals==0].sort_values(by='medal_ratio', ascending=True).head(20)"
   ]
  },
  {
   "cell_type": "markdown",
   "metadata": {},
   "source": [
    "And what about the 2020 victory ratios?"
   ]
  },
  {
   "cell_type": "code",
   "execution_count": 14,
   "metadata": {},
   "outputs": [],
   "source": [
    "vr_2020 = victory_ratio(df_2020).head(100).reset_index()"
   ]
  },
  {
   "cell_type": "code",
   "execution_count": 40,
   "metadata": {},
   "outputs": [],
   "source": [
    "vr_2020\n",
    "df2020 = vr_2020.sort_values(by='medal_ratio', ascending=False).head(10)\n",
    "df2020\n",
    "df2020.to_csv('victory_ratio2020.csv', index = False )\n"
   ]
  },
  {
   "cell_type": "markdown",
   "metadata": {},
   "source": [
    "Let's print some emojis to illustrate that."
   ]
  },
  {
   "cell_type": "code",
   "execution_count": 15,
   "metadata": {},
   "outputs": [],
   "source": [
    "def emoji_magic(df):\n",
    "        \n",
    "    gold = \"🥇\"\n",
    "    silver = \"🥈\"\n",
    "    bronze = \"🥉\"\n",
    "    blew = \"❌\"\n",
    "    \n",
    "    for index, row in df.head(10).iterrows():\n",
    "        \n",
    "        print(row.noc, end=' - ')\n",
    "        print(gold * int(row.gold), end='')\n",
    "        print(silver * int(row.silver), end='')\n",
    "        print(bronze * int(row.bronze), end='')\n",
    "        print(blew * int(row.blewed_chances), end='')\n",
    "        print()"
   ]
  },
  {
   "cell_type": "code",
   "execution_count": 16,
   "metadata": {
    "scrolled": false
   },
   "outputs": [
    {
     "name": "stdout",
     "output_type": "stream",
     "text": [
      "BER - 🥇❌\n",
      "SMR - 🥈🥉🥉❌❌❌❌\n",
      "CHN - 🥇🥇🥇🥇🥇🥇🥇🥇🥇🥇🥇🥇🥇🥇🥇🥇🥇🥇🥇🥇🥇🥇🥇🥇🥇🥇🥇🥇🥇🥇🥇🥇🥇🥇🥇🥇🥇🥇🥈🥈🥈🥈🥈🥈🥈🥈🥈🥈🥈🥈🥈🥈🥈🥈🥈🥈🥈🥈🥈🥈🥈🥈🥈🥈🥈🥈🥈🥈🥈🥉🥉🥉🥉🥉🥉🥉🥉🥉🥉🥉🥉🥉🥉🥉🥉🥉🥉❌❌❌❌❌❌❌❌❌❌❌❌❌❌❌❌❌❌❌❌❌❌❌❌❌❌❌❌❌❌❌❌❌❌❌❌❌❌❌❌❌❌❌❌❌❌❌❌❌❌❌❌❌❌❌❌❌❌❌❌❌❌❌❌❌❌❌❌❌❌❌❌❌❌❌❌❌❌❌❌❌❌❌❌❌❌❌❌❌❌❌❌❌❌❌❌❌❌❌❌❌❌❌❌❌❌❌❌❌❌❌❌❌❌❌❌❌❌❌❌❌❌❌❌❌❌❌❌❌❌❌❌❌❌❌❌❌❌❌❌❌❌❌❌❌❌❌❌❌❌❌❌❌❌❌❌❌❌❌❌❌❌❌❌❌❌❌❌❌❌❌❌❌❌❌❌❌❌❌❌❌❌❌❌❌❌❌❌❌❌❌❌❌❌❌❌❌❌❌❌❌❌❌❌❌❌❌❌❌❌❌❌❌❌❌❌❌❌❌❌❌❌❌❌❌❌❌❌❌❌❌❌❌❌❌❌❌❌❌❌❌❌❌❌❌❌❌❌❌❌❌❌❌❌❌❌❌❌\n",
      "FIJ - 🥇🥉❌❌❌❌❌❌\n",
      "GEO - 🥇🥇🥈🥈🥈🥈🥈🥉❌❌❌❌❌❌❌❌❌❌❌❌❌❌❌❌❌❌❌❌❌❌❌❌❌\n",
      "USA - 🥇🥇🥇🥇🥇🥇🥇🥇🥇🥇🥇🥇🥇🥇🥇🥇🥇🥇🥇🥇🥇🥇🥇🥇🥇🥇🥇🥇🥇🥇🥇🥇🥇🥇🥇🥇🥇🥇🥈🥈🥈🥈🥈🥈🥈🥈🥈🥈🥈🥈🥈🥈🥈🥈🥈🥈🥈🥈🥈🥈🥈🥈🥈🥈🥈🥈🥈🥈🥈🥈🥈🥈🥈🥈🥈🥈🥈🥈🥈🥉🥉🥉🥉🥉🥉🥉🥉🥉🥉🥉🥉🥉🥉🥉🥉🥉🥉🥉🥉🥉🥉🥉🥉🥉🥉🥉🥉🥉🥉🥉🥉🥉❌❌❌❌❌❌❌❌❌❌❌❌❌❌❌❌❌❌❌❌❌❌❌❌❌❌❌❌❌❌❌❌❌❌❌❌❌❌❌❌❌❌❌❌❌❌❌❌❌❌❌❌❌❌❌❌❌❌❌❌❌❌❌❌❌❌❌❌❌❌❌❌❌❌❌❌❌❌❌❌❌❌❌❌❌❌❌❌❌❌❌❌❌❌❌❌❌❌❌❌❌❌❌❌❌❌❌❌❌❌❌❌❌❌❌❌❌❌❌❌❌❌❌❌❌❌❌❌❌❌❌❌❌❌❌❌❌❌❌❌❌❌❌❌❌❌❌❌❌❌❌❌❌❌❌❌❌❌❌❌❌❌❌❌❌❌❌❌❌❌❌❌❌❌❌❌❌❌❌❌❌❌❌❌❌❌❌❌❌❌❌❌❌❌❌❌❌❌❌❌❌❌❌❌❌❌❌❌❌❌❌❌❌❌❌❌❌❌❌❌❌❌❌❌❌❌❌❌❌❌❌❌❌❌❌❌❌❌❌❌❌❌❌❌❌❌❌❌❌❌❌❌❌❌❌❌❌❌❌❌❌❌❌❌❌❌❌❌❌❌❌❌❌❌❌❌❌❌❌❌❌❌❌❌❌❌❌❌❌❌❌❌❌❌❌❌❌❌❌❌❌❌❌❌❌❌❌❌❌❌❌❌❌❌❌❌❌❌❌❌❌❌❌❌❌❌❌❌❌❌❌❌❌❌❌❌❌❌❌❌❌❌❌❌❌❌❌❌❌❌❌❌❌❌❌❌❌❌❌❌❌❌❌❌❌❌❌❌❌❌❌❌❌❌❌❌❌❌❌❌❌❌❌❌❌❌❌❌❌❌❌\n",
      "ARM - 🥈🥈🥉🥉❌❌❌❌❌❌❌❌❌❌❌❌❌❌❌\n",
      "CUB - 🥇🥇🥇🥇🥇🥇🥇🥈🥈🥈🥉🥉🥉🥉🥉❌❌❌❌❌❌❌❌❌❌❌❌❌❌❌❌❌❌❌❌❌❌❌❌❌❌❌❌❌❌❌❌❌❌❌❌❌❌❌❌❌❌❌❌❌❌❌❌❌❌❌❌❌❌❌❌❌\n",
      "GBR - 🥇🥇🥇🥇🥇🥇🥇🥇🥇🥇🥇🥇🥇🥇🥇🥇🥇🥇🥇🥇🥇🥇🥈🥈🥈🥈🥈🥈🥈🥈🥈🥈🥈🥈🥈🥈🥈🥈🥈🥈🥈🥈🥈🥉🥉🥉🥉🥉🥉🥉🥉🥉🥉🥉🥉🥉🥉🥉🥉🥉🥉🥉🥉🥉🥉❌❌❌❌❌❌❌❌❌❌❌❌❌❌❌❌❌❌❌❌❌❌❌❌❌❌❌❌❌❌❌❌❌❌❌❌❌❌❌❌❌❌❌❌❌❌❌❌❌❌❌❌❌❌❌❌❌❌❌❌❌❌❌❌❌❌❌❌❌❌❌❌❌❌❌❌❌❌❌❌❌❌❌❌❌❌❌❌❌❌❌❌❌❌❌❌❌❌❌❌❌❌❌❌❌❌❌❌❌❌❌❌❌❌❌❌❌❌❌❌❌❌❌❌❌❌❌❌❌❌❌❌❌❌❌❌❌❌❌❌❌❌❌❌❌❌❌❌❌❌❌❌❌❌❌❌❌❌❌❌❌❌❌❌❌❌❌❌❌❌❌❌❌❌❌❌❌❌❌❌❌❌❌❌❌❌❌❌❌❌❌❌❌❌❌❌❌❌❌❌❌❌❌❌❌❌❌❌❌❌❌❌❌❌❌❌❌❌❌❌❌❌❌❌❌❌❌❌❌❌❌❌❌❌❌❌❌❌❌❌❌❌❌❌❌❌❌❌❌❌❌❌❌❌❌\n",
      "KEN - 🥇🥇🥇🥇🥈🥈🥈🥈🥉🥉❌❌❌❌❌❌❌❌❌❌❌❌❌❌❌❌❌❌❌❌❌❌❌❌❌❌❌❌❌❌❌❌❌❌❌❌❌❌❌❌❌\n"
     ]
    }
   ],
   "source": [
    "emoji_magic(vr_2020)"
   ]
  },
  {
   "cell_type": "markdown",
   "metadata": {},
   "source": [
    "Argh, too many emojis to make sense of what is going on. Let's try a different approach."
   ]
  },
  {
   "cell_type": "code",
   "execution_count": 16,
   "metadata": {},
   "outputs": [],
   "source": [
    "def make_pies(df, nocs, cols=3):\n",
    "    \n",
    "    \n",
    "    # Based on the amount of nations, we compute\n",
    "    # how many rows we will need, always using ncols\n",
    "    # columns\n",
    "    rows = math.ceil(len(nocs) / cols)\n",
    "    \n",
    "    # Generates three positions for each row\n",
    "    positions = []\n",
    "    for row in range(rows):\n",
    "        for column in range(1,cols+1):\n",
    "            positions.append((row+1,column))\n",
    "            \n",
    "    \n",
    "    # Defines marker colors         \n",
    "    marker_colors = [light_blue, chart_gray]\n",
    "            \n",
    "    \n",
    "    # Create subplots, using 'domain' type for pie charts\n",
    "    specs = []\n",
    "    for row in range(rows):\n",
    "        spec_line = [{'type': 'domain'} for col in range(cols)]\n",
    "        specs.append(spec_line)\n",
    "    fig = make_subplots(rows=rows, cols=cols, specs=specs, subplot_titles=nocs)\n",
    "    fig.update_layout(height=200*rows, width=1920/2)\n",
    "\n",
    "    \n",
    "    \n",
    "    for noc, position in zip(nocs, positions):\n",
    "\n",
    "        subset = df[df.noc==noc]\n",
    "        \n",
    "        assert subset.shape[0] == 1\n",
    "        \n",
    "        subset = subset.iloc[0]\n",
    "        \n",
    "        row = position[0]\n",
    "        col = position[1]\n",
    "            \n",
    "        fig.add_trace(go.Pie(values=[subset[\"medal_ratio\"], subset[\"fail_ratio\"]], name='noc',\n",
    "                             marker_colors=marker_colors), row=row, col=col)\n",
    "        \n",
    "        \n",
    "\n",
    "    # Tune layout and hover info\n",
    "    fig.update_traces(hoverinfo='label+percent+name', textinfo='none')\n",
    "    fig.update(layout_title_text='',\n",
    "               layout_showlegend=False)\n",
    "\n",
    "    fig = go.Figure(fig)\n",
    "    fig.show()\n"
   ]
  },
  {
   "cell_type": "code",
   "execution_count": 17,
   "metadata": {
    "scrolled": false
   },
   "outputs": [
    {
     "ename": "NameError",
     "evalue": "name 'light_blue' is not defined",
     "output_type": "error",
     "traceback": [
      "\u001b[0;31m---------------------------------------------------------------------------\u001b[0m",
      "\u001b[0;31mNameError\u001b[0m                                 Traceback (most recent call last)",
      "Input \u001b[0;32mIn [17]\u001b[0m, in \u001b[0;36m<cell line: 1>\u001b[0;34m()\u001b[0m\n\u001b[0;32m----> 1\u001b[0m \u001b[43mmake_pies\u001b[49m\u001b[43m(\u001b[49m\u001b[43mvr_2020\u001b[49m\u001b[43m,\u001b[49m\u001b[43m \u001b[49m\u001b[43mvr_2020\u001b[49m\u001b[38;5;241;43m.\u001b[39;49m\u001b[43mnoc\u001b[49m\u001b[38;5;241;43m.\u001b[39;49m\u001b[43mhead\u001b[49m\u001b[43m(\u001b[49m\u001b[38;5;241;43m9\u001b[39;49m\u001b[43m)\u001b[49m\u001b[38;5;241;43m.\u001b[39;49m\u001b[43mtolist\u001b[49m\u001b[43m(\u001b[49m\u001b[43m)\u001b[49m\u001b[43m \u001b[49m\u001b[38;5;241;43m+\u001b[39;49m\u001b[43m \u001b[49m\u001b[43m[\u001b[49m\u001b[38;5;124;43m'\u001b[39;49m\u001b[38;5;124;43mJPN\u001b[39;49m\u001b[38;5;124;43m'\u001b[39;49m\u001b[43m,\u001b[49m\u001b[43m \u001b[49m\u001b[38;5;124;43m'\u001b[39;49m\u001b[38;5;124;43mGER\u001b[39;49m\u001b[38;5;124;43m'\u001b[39;49m\u001b[43m,\u001b[49m\u001b[38;5;124;43m'\u001b[39;49m\u001b[38;5;124;43mROC\u001b[39;49m\u001b[38;5;124;43m'\u001b[39;49m\u001b[43m]\u001b[49m\u001b[43m)\u001b[49m\n",
      "Input \u001b[0;32mIn [16]\u001b[0m, in \u001b[0;36mmake_pies\u001b[0;34m(df, nocs, cols)\u001b[0m\n\u001b[1;32m     13\u001b[0m         positions\u001b[38;5;241m.\u001b[39mappend((row\u001b[38;5;241m+\u001b[39m\u001b[38;5;241m1\u001b[39m,column))\n\u001b[1;32m     16\u001b[0m \u001b[38;5;66;03m# Defines marker colors         \u001b[39;00m\n\u001b[0;32m---> 17\u001b[0m marker_colors \u001b[38;5;241m=\u001b[39m [\u001b[43mlight_blue\u001b[49m, chart_gray]\n\u001b[1;32m     20\u001b[0m \u001b[38;5;66;03m# Create subplots, using 'domain' type for pie charts\u001b[39;00m\n\u001b[1;32m     21\u001b[0m specs \u001b[38;5;241m=\u001b[39m []\n",
      "\u001b[0;31mNameError\u001b[0m: name 'light_blue' is not defined"
     ]
    }
   ],
   "source": [
    "make_pies(vr_2020, vr_2020.noc.head(9).tolist() + ['JPN', 'GER','ROC'])"
   ]
  },
  {
   "cell_type": "markdown",
   "metadata": {},
   "source": [
    "Cool, but I'd rather make stacked bars, maybe."
   ]
  },
  {
   "cell_type": "code",
   "execution_count": 19,
   "metadata": {},
   "outputs": [],
   "source": [
    "def stacked_bars_vr(df, nocs):\n",
    "    \n",
    "        fig = go.Figure()\n",
    "        \n",
    "        fig.update_layout(height=600, width=620)\n",
    "        \n",
    "        subset = df[df.noc.isin(nocs)]\n",
    "        \n",
    "        subset = subset.sort_values(by='medal_ratio')\n",
    "        \n",
    "        fig.add_trace(go.Bar(\n",
    "            y=subset.noc,\n",
    "            x=subset.medal_ratio,\n",
    "            orientation='h',\n",
    "            showlegend=False,\n",
    "            marker=dict(\n",
    "                color=light_blue,\n",
    "            )\n",
    "        ))\n",
    "\n",
    "        fig.add_trace(go.Bar(\n",
    "            y=subset.noc,\n",
    "            x=subset.fail_ratio,\n",
    "            orientation='h',\n",
    "            showlegend=False,\n",
    "            marker=dict(\n",
    "                color=chart_gray,\n",
    "            )\n",
    "        ))\n",
    "        \n",
    "        \n",
    "        fig.update_layout(\n",
    "            title=\"\",\n",
    "            xaxis_title=\"\",\n",
    "            yaxis_title=\"\",\n",
    "            paper_bgcolor=bg_gray,\n",
    "            plot_bgcolor=bg_gray,\n",
    "            margin=dict(pad=30),\n",
    "        )\n",
    "        \n",
    "        fig.update_yaxes(visible=True,\n",
    "             showgrid=False,\n",
    "             tickfont=dict(family='Noto Sans', size=12),\n",
    "             gridcolor=chart_gray,\n",
    "             zeroline=False,\n",
    "        )\n",
    "        \n",
    "\n",
    "        fig.update_layout(barmode='stack')\n",
    "        fig.update_xaxes(\n",
    "                         range=[0, 1],\n",
    "                         tickformat=\"%\",\n",
    "                         showgrid=False,\n",
    "                         tickfont=dict(family='Noto Sans', size=12),\n",
    "                         gridcolor=chart_gray,\n",
    "                         zeroline=False,\n",
    "                         )\n",
    "        fig.show()\n",
    "        \n",
    "        fig.write_image(f\"../output/victory-ratio.svg\")"
   ]
  },
  {
   "cell_type": "code",
   "execution_count": 20,
   "metadata": {},
   "outputs": [
    {
     "data": {
      "application/vnd.plotly.v1+json": {
       "config": {
        "plotlyServerURL": "https://plot.ly"
       },
       "data": [
        {
         "marker": {
          "color": "#00a5ff"
         },
         "orientation": "h",
         "showlegend": false,
         "type": "bar",
         "x": [
          0.14430379746835442,
          0.19607843137254902,
          0.203125,
          0.20833333333333334,
          0.21052631578947367,
          0.22266401590457258,
          0.24242424242424243,
          0.25,
          0.25217391304347825,
          0.42857142857142855,
          0.5
         ],
         "y": [
          "JPN",
          "KEN",
          "GBR",
          "CUB",
          "ARM",
          "USA",
          "GEO",
          "FIJ",
          "CHN",
          "SMR",
          "BER"
         ]
        },
        {
         "marker": {
          "color": "#cbd2d8"
         },
         "orientation": "h",
         "showlegend": false,
         "type": "bar",
         "x": [
          0.8556962025316456,
          0.803921568627451,
          0.796875,
          0.7916666666666666,
          0.7894736842105263,
          0.7773359840954275,
          0.7575757575757576,
          0.75,
          0.7478260869565218,
          0.5714285714285714,
          0.5
         ],
         "y": [
          "JPN",
          "KEN",
          "GBR",
          "CUB",
          "ARM",
          "USA",
          "GEO",
          "FIJ",
          "CHN",
          "SMR",
          "BER"
         ]
        }
       ],
       "layout": {
        "barmode": "stack",
        "height": 600,
        "margin": {
         "pad": 30
        },
        "paper_bgcolor": "#f1f3f5",
        "plot_bgcolor": "#f1f3f5",
        "template": {
         "data": {
          "bar": [
           {
            "error_x": {
             "color": "#2a3f5f"
            },
            "error_y": {
             "color": "#2a3f5f"
            },
            "marker": {
             "line": {
              "color": "#E5ECF6",
              "width": 0.5
             }
            },
            "type": "bar"
           }
          ],
          "barpolar": [
           {
            "marker": {
             "line": {
              "color": "#E5ECF6",
              "width": 0.5
             }
            },
            "type": "barpolar"
           }
          ],
          "carpet": [
           {
            "aaxis": {
             "endlinecolor": "#2a3f5f",
             "gridcolor": "white",
             "linecolor": "white",
             "minorgridcolor": "white",
             "startlinecolor": "#2a3f5f"
            },
            "baxis": {
             "endlinecolor": "#2a3f5f",
             "gridcolor": "white",
             "linecolor": "white",
             "minorgridcolor": "white",
             "startlinecolor": "#2a3f5f"
            },
            "type": "carpet"
           }
          ],
          "choropleth": [
           {
            "colorbar": {
             "outlinewidth": 0,
             "ticks": ""
            },
            "type": "choropleth"
           }
          ],
          "contour": [
           {
            "colorbar": {
             "outlinewidth": 0,
             "ticks": ""
            },
            "colorscale": [
             [
              0,
              "#0d0887"
             ],
             [
              0.1111111111111111,
              "#46039f"
             ],
             [
              0.2222222222222222,
              "#7201a8"
             ],
             [
              0.3333333333333333,
              "#9c179e"
             ],
             [
              0.4444444444444444,
              "#bd3786"
             ],
             [
              0.5555555555555556,
              "#d8576b"
             ],
             [
              0.6666666666666666,
              "#ed7953"
             ],
             [
              0.7777777777777778,
              "#fb9f3a"
             ],
             [
              0.8888888888888888,
              "#fdca26"
             ],
             [
              1,
              "#f0f921"
             ]
            ],
            "type": "contour"
           }
          ],
          "contourcarpet": [
           {
            "colorbar": {
             "outlinewidth": 0,
             "ticks": ""
            },
            "type": "contourcarpet"
           }
          ],
          "heatmap": [
           {
            "colorbar": {
             "outlinewidth": 0,
             "ticks": ""
            },
            "colorscale": [
             [
              0,
              "#0d0887"
             ],
             [
              0.1111111111111111,
              "#46039f"
             ],
             [
              0.2222222222222222,
              "#7201a8"
             ],
             [
              0.3333333333333333,
              "#9c179e"
             ],
             [
              0.4444444444444444,
              "#bd3786"
             ],
             [
              0.5555555555555556,
              "#d8576b"
             ],
             [
              0.6666666666666666,
              "#ed7953"
             ],
             [
              0.7777777777777778,
              "#fb9f3a"
             ],
             [
              0.8888888888888888,
              "#fdca26"
             ],
             [
              1,
              "#f0f921"
             ]
            ],
            "type": "heatmap"
           }
          ],
          "heatmapgl": [
           {
            "colorbar": {
             "outlinewidth": 0,
             "ticks": ""
            },
            "colorscale": [
             [
              0,
              "#0d0887"
             ],
             [
              0.1111111111111111,
              "#46039f"
             ],
             [
              0.2222222222222222,
              "#7201a8"
             ],
             [
              0.3333333333333333,
              "#9c179e"
             ],
             [
              0.4444444444444444,
              "#bd3786"
             ],
             [
              0.5555555555555556,
              "#d8576b"
             ],
             [
              0.6666666666666666,
              "#ed7953"
             ],
             [
              0.7777777777777778,
              "#fb9f3a"
             ],
             [
              0.8888888888888888,
              "#fdca26"
             ],
             [
              1,
              "#f0f921"
             ]
            ],
            "type": "heatmapgl"
           }
          ],
          "histogram": [
           {
            "marker": {
             "colorbar": {
              "outlinewidth": 0,
              "ticks": ""
             }
            },
            "type": "histogram"
           }
          ],
          "histogram2d": [
           {
            "colorbar": {
             "outlinewidth": 0,
             "ticks": ""
            },
            "colorscale": [
             [
              0,
              "#0d0887"
             ],
             [
              0.1111111111111111,
              "#46039f"
             ],
             [
              0.2222222222222222,
              "#7201a8"
             ],
             [
              0.3333333333333333,
              "#9c179e"
             ],
             [
              0.4444444444444444,
              "#bd3786"
             ],
             [
              0.5555555555555556,
              "#d8576b"
             ],
             [
              0.6666666666666666,
              "#ed7953"
             ],
             [
              0.7777777777777778,
              "#fb9f3a"
             ],
             [
              0.8888888888888888,
              "#fdca26"
             ],
             [
              1,
              "#f0f921"
             ]
            ],
            "type": "histogram2d"
           }
          ],
          "histogram2dcontour": [
           {
            "colorbar": {
             "outlinewidth": 0,
             "ticks": ""
            },
            "colorscale": [
             [
              0,
              "#0d0887"
             ],
             [
              0.1111111111111111,
              "#46039f"
             ],
             [
              0.2222222222222222,
              "#7201a8"
             ],
             [
              0.3333333333333333,
              "#9c179e"
             ],
             [
              0.4444444444444444,
              "#bd3786"
             ],
             [
              0.5555555555555556,
              "#d8576b"
             ],
             [
              0.6666666666666666,
              "#ed7953"
             ],
             [
              0.7777777777777778,
              "#fb9f3a"
             ],
             [
              0.8888888888888888,
              "#fdca26"
             ],
             [
              1,
              "#f0f921"
             ]
            ],
            "type": "histogram2dcontour"
           }
          ],
          "mesh3d": [
           {
            "colorbar": {
             "outlinewidth": 0,
             "ticks": ""
            },
            "type": "mesh3d"
           }
          ],
          "parcoords": [
           {
            "line": {
             "colorbar": {
              "outlinewidth": 0,
              "ticks": ""
             }
            },
            "type": "parcoords"
           }
          ],
          "pie": [
           {
            "automargin": true,
            "type": "pie"
           }
          ],
          "scatter": [
           {
            "marker": {
             "colorbar": {
              "outlinewidth": 0,
              "ticks": ""
             }
            },
            "type": "scatter"
           }
          ],
          "scatter3d": [
           {
            "line": {
             "colorbar": {
              "outlinewidth": 0,
              "ticks": ""
             }
            },
            "marker": {
             "colorbar": {
              "outlinewidth": 0,
              "ticks": ""
             }
            },
            "type": "scatter3d"
           }
          ],
          "scattercarpet": [
           {
            "marker": {
             "colorbar": {
              "outlinewidth": 0,
              "ticks": ""
             }
            },
            "type": "scattercarpet"
           }
          ],
          "scattergeo": [
           {
            "marker": {
             "colorbar": {
              "outlinewidth": 0,
              "ticks": ""
             }
            },
            "type": "scattergeo"
           }
          ],
          "scattergl": [
           {
            "marker": {
             "colorbar": {
              "outlinewidth": 0,
              "ticks": ""
             }
            },
            "type": "scattergl"
           }
          ],
          "scattermapbox": [
           {
            "marker": {
             "colorbar": {
              "outlinewidth": 0,
              "ticks": ""
             }
            },
            "type": "scattermapbox"
           }
          ],
          "scatterpolar": [
           {
            "marker": {
             "colorbar": {
              "outlinewidth": 0,
              "ticks": ""
             }
            },
            "type": "scatterpolar"
           }
          ],
          "scatterpolargl": [
           {
            "marker": {
             "colorbar": {
              "outlinewidth": 0,
              "ticks": ""
             }
            },
            "type": "scatterpolargl"
           }
          ],
          "scatterternary": [
           {
            "marker": {
             "colorbar": {
              "outlinewidth": 0,
              "ticks": ""
             }
            },
            "type": "scatterternary"
           }
          ],
          "surface": [
           {
            "colorbar": {
             "outlinewidth": 0,
             "ticks": ""
            },
            "colorscale": [
             [
              0,
              "#0d0887"
             ],
             [
              0.1111111111111111,
              "#46039f"
             ],
             [
              0.2222222222222222,
              "#7201a8"
             ],
             [
              0.3333333333333333,
              "#9c179e"
             ],
             [
              0.4444444444444444,
              "#bd3786"
             ],
             [
              0.5555555555555556,
              "#d8576b"
             ],
             [
              0.6666666666666666,
              "#ed7953"
             ],
             [
              0.7777777777777778,
              "#fb9f3a"
             ],
             [
              0.8888888888888888,
              "#fdca26"
             ],
             [
              1,
              "#f0f921"
             ]
            ],
            "type": "surface"
           }
          ],
          "table": [
           {
            "cells": {
             "fill": {
              "color": "#EBF0F8"
             },
             "line": {
              "color": "white"
             }
            },
            "header": {
             "fill": {
              "color": "#C8D4E3"
             },
             "line": {
              "color": "white"
             }
            },
            "type": "table"
           }
          ]
         },
         "layout": {
          "annotationdefaults": {
           "arrowcolor": "#2a3f5f",
           "arrowhead": 0,
           "arrowwidth": 1
          },
          "autotypenumbers": "strict",
          "coloraxis": {
           "colorbar": {
            "outlinewidth": 0,
            "ticks": ""
           }
          },
          "colorscale": {
           "diverging": [
            [
             0,
             "#8e0152"
            ],
            [
             0.1,
             "#c51b7d"
            ],
            [
             0.2,
             "#de77ae"
            ],
            [
             0.3,
             "#f1b6da"
            ],
            [
             0.4,
             "#fde0ef"
            ],
            [
             0.5,
             "#f7f7f7"
            ],
            [
             0.6,
             "#e6f5d0"
            ],
            [
             0.7,
             "#b8e186"
            ],
            [
             0.8,
             "#7fbc41"
            ],
            [
             0.9,
             "#4d9221"
            ],
            [
             1,
             "#276419"
            ]
           ],
           "sequential": [
            [
             0,
             "#0d0887"
            ],
            [
             0.1111111111111111,
             "#46039f"
            ],
            [
             0.2222222222222222,
             "#7201a8"
            ],
            [
             0.3333333333333333,
             "#9c179e"
            ],
            [
             0.4444444444444444,
             "#bd3786"
            ],
            [
             0.5555555555555556,
             "#d8576b"
            ],
            [
             0.6666666666666666,
             "#ed7953"
            ],
            [
             0.7777777777777778,
             "#fb9f3a"
            ],
            [
             0.8888888888888888,
             "#fdca26"
            ],
            [
             1,
             "#f0f921"
            ]
           ],
           "sequentialminus": [
            [
             0,
             "#0d0887"
            ],
            [
             0.1111111111111111,
             "#46039f"
            ],
            [
             0.2222222222222222,
             "#7201a8"
            ],
            [
             0.3333333333333333,
             "#9c179e"
            ],
            [
             0.4444444444444444,
             "#bd3786"
            ],
            [
             0.5555555555555556,
             "#d8576b"
            ],
            [
             0.6666666666666666,
             "#ed7953"
            ],
            [
             0.7777777777777778,
             "#fb9f3a"
            ],
            [
             0.8888888888888888,
             "#fdca26"
            ],
            [
             1,
             "#f0f921"
            ]
           ]
          },
          "colorway": [
           "#636efa",
           "#EF553B",
           "#00cc96",
           "#ab63fa",
           "#FFA15A",
           "#19d3f3",
           "#FF6692",
           "#B6E880",
           "#FF97FF",
           "#FECB52"
          ],
          "font": {
           "color": "#2a3f5f"
          },
          "geo": {
           "bgcolor": "white",
           "lakecolor": "white",
           "landcolor": "#E5ECF6",
           "showlakes": true,
           "showland": true,
           "subunitcolor": "white"
          },
          "hoverlabel": {
           "align": "left"
          },
          "hovermode": "closest",
          "mapbox": {
           "style": "light"
          },
          "paper_bgcolor": "white",
          "plot_bgcolor": "#E5ECF6",
          "polar": {
           "angularaxis": {
            "gridcolor": "white",
            "linecolor": "white",
            "ticks": ""
           },
           "bgcolor": "#E5ECF6",
           "radialaxis": {
            "gridcolor": "white",
            "linecolor": "white",
            "ticks": ""
           }
          },
          "scene": {
           "xaxis": {
            "backgroundcolor": "#E5ECF6",
            "gridcolor": "white",
            "gridwidth": 2,
            "linecolor": "white",
            "showbackground": true,
            "ticks": "",
            "zerolinecolor": "white"
           },
           "yaxis": {
            "backgroundcolor": "#E5ECF6",
            "gridcolor": "white",
            "gridwidth": 2,
            "linecolor": "white",
            "showbackground": true,
            "ticks": "",
            "zerolinecolor": "white"
           },
           "zaxis": {
            "backgroundcolor": "#E5ECF6",
            "gridcolor": "white",
            "gridwidth": 2,
            "linecolor": "white",
            "showbackground": true,
            "ticks": "",
            "zerolinecolor": "white"
           }
          },
          "shapedefaults": {
           "line": {
            "color": "#2a3f5f"
           }
          },
          "ternary": {
           "aaxis": {
            "gridcolor": "white",
            "linecolor": "white",
            "ticks": ""
           },
           "baxis": {
            "gridcolor": "white",
            "linecolor": "white",
            "ticks": ""
           },
           "bgcolor": "#E5ECF6",
           "caxis": {
            "gridcolor": "white",
            "linecolor": "white",
            "ticks": ""
           }
          },
          "title": {
           "x": 0.05
          },
          "xaxis": {
           "automargin": true,
           "gridcolor": "white",
           "linecolor": "white",
           "ticks": "",
           "title": {
            "standoff": 15
           },
           "zerolinecolor": "white",
           "zerolinewidth": 2
          },
          "yaxis": {
           "automargin": true,
           "gridcolor": "white",
           "linecolor": "white",
           "ticks": "",
           "title": {
            "standoff": 15
           },
           "zerolinecolor": "white",
           "zerolinewidth": 2
          }
         }
        },
        "title": {
         "text": ""
        },
        "width": 620,
        "xaxis": {
         "gridcolor": "#cbd2d8",
         "range": [
          0,
          1
         ],
         "showgrid": false,
         "tickfont": {
          "family": "Noto Sans",
          "size": 12
         },
         "tickformat": "%",
         "title": {
          "text": ""
         },
         "zeroline": false
        },
        "yaxis": {
         "gridcolor": "#cbd2d8",
         "showgrid": false,
         "tickfont": {
          "family": "Noto Sans",
          "size": 12
         },
         "title": {
          "text": ""
         },
         "visible": true,
         "zeroline": false
        }
       }
      },
      "text/html": [
       "<div>                            <div id=\"48b8d442-84bd-4cd1-93c5-6c8c7a095ee7\" class=\"plotly-graph-div\" style=\"height:600px; width:620px;\"></div>            <script type=\"text/javascript\">                require([\"plotly\"], function(Plotly) {                    window.PLOTLYENV=window.PLOTLYENV || {};                                    if (document.getElementById(\"48b8d442-84bd-4cd1-93c5-6c8c7a095ee7\")) {                    Plotly.newPlot(                        \"48b8d442-84bd-4cd1-93c5-6c8c7a095ee7\",                        [{\"marker\": {\"color\": \"#00a5ff\"}, \"orientation\": \"h\", \"showlegend\": false, \"type\": \"bar\", \"x\": [0.14430379746835442, 0.19607843137254902, 0.203125, 0.20833333333333334, 0.21052631578947367, 0.22266401590457258, 0.24242424242424243, 0.25, 0.25217391304347825, 0.42857142857142855, 0.5], \"y\": [\"JPN\", \"KEN\", \"GBR\", \"CUB\", \"ARM\", \"USA\", \"GEO\", \"FIJ\", \"CHN\", \"SMR\", \"BER\"]}, {\"marker\": {\"color\": \"#cbd2d8\"}, \"orientation\": \"h\", \"showlegend\": false, \"type\": \"bar\", \"x\": [0.8556962025316456, 0.803921568627451, 0.796875, 0.7916666666666666, 0.7894736842105263, 0.7773359840954275, 0.7575757575757576, 0.75, 0.7478260869565218, 0.5714285714285714, 0.5], \"y\": [\"JPN\", \"KEN\", \"GBR\", \"CUB\", \"ARM\", \"USA\", \"GEO\", \"FIJ\", \"CHN\", \"SMR\", \"BER\"]}],                        {\"barmode\": \"stack\", \"height\": 600, \"margin\": {\"pad\": 30}, \"paper_bgcolor\": \"#f1f3f5\", \"plot_bgcolor\": \"#f1f3f5\", \"template\": {\"data\": {\"bar\": [{\"error_x\": {\"color\": \"#2a3f5f\"}, \"error_y\": {\"color\": \"#2a3f5f\"}, \"marker\": {\"line\": {\"color\": \"#E5ECF6\", \"width\": 0.5}}, \"type\": \"bar\"}], \"barpolar\": [{\"marker\": {\"line\": {\"color\": \"#E5ECF6\", \"width\": 0.5}}, \"type\": \"barpolar\"}], \"carpet\": [{\"aaxis\": {\"endlinecolor\": \"#2a3f5f\", \"gridcolor\": \"white\", \"linecolor\": \"white\", \"minorgridcolor\": \"white\", \"startlinecolor\": \"#2a3f5f\"}, \"baxis\": {\"endlinecolor\": \"#2a3f5f\", \"gridcolor\": \"white\", \"linecolor\": \"white\", \"minorgridcolor\": \"white\", \"startlinecolor\": \"#2a3f5f\"}, \"type\": \"carpet\"}], \"choropleth\": [{\"colorbar\": {\"outlinewidth\": 0, \"ticks\": \"\"}, \"type\": \"choropleth\"}], \"contour\": [{\"colorbar\": {\"outlinewidth\": 0, \"ticks\": \"\"}, \"colorscale\": [[0.0, \"#0d0887\"], [0.1111111111111111, \"#46039f\"], [0.2222222222222222, \"#7201a8\"], [0.3333333333333333, \"#9c179e\"], [0.4444444444444444, \"#bd3786\"], [0.5555555555555556, \"#d8576b\"], [0.6666666666666666, \"#ed7953\"], [0.7777777777777778, \"#fb9f3a\"], [0.8888888888888888, \"#fdca26\"], [1.0, \"#f0f921\"]], \"type\": \"contour\"}], \"contourcarpet\": [{\"colorbar\": {\"outlinewidth\": 0, \"ticks\": \"\"}, \"type\": \"contourcarpet\"}], \"heatmap\": [{\"colorbar\": {\"outlinewidth\": 0, \"ticks\": \"\"}, \"colorscale\": [[0.0, \"#0d0887\"], [0.1111111111111111, \"#46039f\"], [0.2222222222222222, \"#7201a8\"], [0.3333333333333333, \"#9c179e\"], [0.4444444444444444, \"#bd3786\"], [0.5555555555555556, \"#d8576b\"], [0.6666666666666666, \"#ed7953\"], [0.7777777777777778, \"#fb9f3a\"], [0.8888888888888888, \"#fdca26\"], [1.0, \"#f0f921\"]], \"type\": \"heatmap\"}], \"heatmapgl\": [{\"colorbar\": {\"outlinewidth\": 0, \"ticks\": \"\"}, \"colorscale\": [[0.0, \"#0d0887\"], [0.1111111111111111, \"#46039f\"], [0.2222222222222222, \"#7201a8\"], [0.3333333333333333, \"#9c179e\"], [0.4444444444444444, \"#bd3786\"], [0.5555555555555556, \"#d8576b\"], [0.6666666666666666, \"#ed7953\"], [0.7777777777777778, \"#fb9f3a\"], [0.8888888888888888, \"#fdca26\"], [1.0, \"#f0f921\"]], \"type\": \"heatmapgl\"}], \"histogram\": [{\"marker\": {\"colorbar\": {\"outlinewidth\": 0, \"ticks\": \"\"}}, \"type\": \"histogram\"}], \"histogram2d\": [{\"colorbar\": {\"outlinewidth\": 0, \"ticks\": \"\"}, \"colorscale\": [[0.0, \"#0d0887\"], [0.1111111111111111, \"#46039f\"], [0.2222222222222222, \"#7201a8\"], [0.3333333333333333, \"#9c179e\"], [0.4444444444444444, \"#bd3786\"], [0.5555555555555556, \"#d8576b\"], [0.6666666666666666, \"#ed7953\"], [0.7777777777777778, \"#fb9f3a\"], [0.8888888888888888, \"#fdca26\"], [1.0, \"#f0f921\"]], \"type\": \"histogram2d\"}], \"histogram2dcontour\": [{\"colorbar\": {\"outlinewidth\": 0, \"ticks\": \"\"}, \"colorscale\": [[0.0, \"#0d0887\"], [0.1111111111111111, \"#46039f\"], [0.2222222222222222, \"#7201a8\"], [0.3333333333333333, \"#9c179e\"], [0.4444444444444444, \"#bd3786\"], [0.5555555555555556, \"#d8576b\"], [0.6666666666666666, \"#ed7953\"], [0.7777777777777778, \"#fb9f3a\"], [0.8888888888888888, \"#fdca26\"], [1.0, \"#f0f921\"]], \"type\": \"histogram2dcontour\"}], \"mesh3d\": [{\"colorbar\": {\"outlinewidth\": 0, \"ticks\": \"\"}, \"type\": \"mesh3d\"}], \"parcoords\": [{\"line\": {\"colorbar\": {\"outlinewidth\": 0, \"ticks\": \"\"}}, \"type\": \"parcoords\"}], \"pie\": [{\"automargin\": true, \"type\": \"pie\"}], \"scatter\": [{\"marker\": {\"colorbar\": {\"outlinewidth\": 0, \"ticks\": \"\"}}, \"type\": \"scatter\"}], \"scatter3d\": [{\"line\": {\"colorbar\": {\"outlinewidth\": 0, \"ticks\": \"\"}}, \"marker\": {\"colorbar\": {\"outlinewidth\": 0, \"ticks\": \"\"}}, \"type\": \"scatter3d\"}], \"scattercarpet\": [{\"marker\": {\"colorbar\": {\"outlinewidth\": 0, \"ticks\": \"\"}}, \"type\": \"scattercarpet\"}], \"scattergeo\": [{\"marker\": {\"colorbar\": {\"outlinewidth\": 0, \"ticks\": \"\"}}, \"type\": \"scattergeo\"}], \"scattergl\": [{\"marker\": {\"colorbar\": {\"outlinewidth\": 0, \"ticks\": \"\"}}, \"type\": \"scattergl\"}], \"scattermapbox\": [{\"marker\": {\"colorbar\": {\"outlinewidth\": 0, \"ticks\": \"\"}}, \"type\": \"scattermapbox\"}], \"scatterpolar\": [{\"marker\": {\"colorbar\": {\"outlinewidth\": 0, \"ticks\": \"\"}}, \"type\": \"scatterpolar\"}], \"scatterpolargl\": [{\"marker\": {\"colorbar\": {\"outlinewidth\": 0, \"ticks\": \"\"}}, \"type\": \"scatterpolargl\"}], \"scatterternary\": [{\"marker\": {\"colorbar\": {\"outlinewidth\": 0, \"ticks\": \"\"}}, \"type\": \"scatterternary\"}], \"surface\": [{\"colorbar\": {\"outlinewidth\": 0, \"ticks\": \"\"}, \"colorscale\": [[0.0, \"#0d0887\"], [0.1111111111111111, \"#46039f\"], [0.2222222222222222, \"#7201a8\"], [0.3333333333333333, \"#9c179e\"], [0.4444444444444444, \"#bd3786\"], [0.5555555555555556, \"#d8576b\"], [0.6666666666666666, \"#ed7953\"], [0.7777777777777778, \"#fb9f3a\"], [0.8888888888888888, \"#fdca26\"], [1.0, \"#f0f921\"]], \"type\": \"surface\"}], \"table\": [{\"cells\": {\"fill\": {\"color\": \"#EBF0F8\"}, \"line\": {\"color\": \"white\"}}, \"header\": {\"fill\": {\"color\": \"#C8D4E3\"}, \"line\": {\"color\": \"white\"}}, \"type\": \"table\"}]}, \"layout\": {\"annotationdefaults\": {\"arrowcolor\": \"#2a3f5f\", \"arrowhead\": 0, \"arrowwidth\": 1}, \"autotypenumbers\": \"strict\", \"coloraxis\": {\"colorbar\": {\"outlinewidth\": 0, \"ticks\": \"\"}}, \"colorscale\": {\"diverging\": [[0, \"#8e0152\"], [0.1, \"#c51b7d\"], [0.2, \"#de77ae\"], [0.3, \"#f1b6da\"], [0.4, \"#fde0ef\"], [0.5, \"#f7f7f7\"], [0.6, \"#e6f5d0\"], [0.7, \"#b8e186\"], [0.8, \"#7fbc41\"], [0.9, \"#4d9221\"], [1, \"#276419\"]], \"sequential\": [[0.0, \"#0d0887\"], [0.1111111111111111, \"#46039f\"], [0.2222222222222222, \"#7201a8\"], [0.3333333333333333, \"#9c179e\"], [0.4444444444444444, \"#bd3786\"], [0.5555555555555556, \"#d8576b\"], [0.6666666666666666, \"#ed7953\"], [0.7777777777777778, \"#fb9f3a\"], [0.8888888888888888, \"#fdca26\"], [1.0, \"#f0f921\"]], \"sequentialminus\": [[0.0, \"#0d0887\"], [0.1111111111111111, \"#46039f\"], [0.2222222222222222, \"#7201a8\"], [0.3333333333333333, \"#9c179e\"], [0.4444444444444444, \"#bd3786\"], [0.5555555555555556, \"#d8576b\"], [0.6666666666666666, \"#ed7953\"], [0.7777777777777778, \"#fb9f3a\"], [0.8888888888888888, \"#fdca26\"], [1.0, \"#f0f921\"]]}, \"colorway\": [\"#636efa\", \"#EF553B\", \"#00cc96\", \"#ab63fa\", \"#FFA15A\", \"#19d3f3\", \"#FF6692\", \"#B6E880\", \"#FF97FF\", \"#FECB52\"], \"font\": {\"color\": \"#2a3f5f\"}, \"geo\": {\"bgcolor\": \"white\", \"lakecolor\": \"white\", \"landcolor\": \"#E5ECF6\", \"showlakes\": true, \"showland\": true, \"subunitcolor\": \"white\"}, \"hoverlabel\": {\"align\": \"left\"}, \"hovermode\": \"closest\", \"mapbox\": {\"style\": \"light\"}, \"paper_bgcolor\": \"white\", \"plot_bgcolor\": \"#E5ECF6\", \"polar\": {\"angularaxis\": {\"gridcolor\": \"white\", \"linecolor\": \"white\", \"ticks\": \"\"}, \"bgcolor\": \"#E5ECF6\", \"radialaxis\": {\"gridcolor\": \"white\", \"linecolor\": \"white\", \"ticks\": \"\"}}, \"scene\": {\"xaxis\": {\"backgroundcolor\": \"#E5ECF6\", \"gridcolor\": \"white\", \"gridwidth\": 2, \"linecolor\": \"white\", \"showbackground\": true, \"ticks\": \"\", \"zerolinecolor\": \"white\"}, \"yaxis\": {\"backgroundcolor\": \"#E5ECF6\", \"gridcolor\": \"white\", \"gridwidth\": 2, \"linecolor\": \"white\", \"showbackground\": true, \"ticks\": \"\", \"zerolinecolor\": \"white\"}, \"zaxis\": {\"backgroundcolor\": \"#E5ECF6\", \"gridcolor\": \"white\", \"gridwidth\": 2, \"linecolor\": \"white\", \"showbackground\": true, \"ticks\": \"\", \"zerolinecolor\": \"white\"}}, \"shapedefaults\": {\"line\": {\"color\": \"#2a3f5f\"}}, \"ternary\": {\"aaxis\": {\"gridcolor\": \"white\", \"linecolor\": \"white\", \"ticks\": \"\"}, \"baxis\": {\"gridcolor\": \"white\", \"linecolor\": \"white\", \"ticks\": \"\"}, \"bgcolor\": \"#E5ECF6\", \"caxis\": {\"gridcolor\": \"white\", \"linecolor\": \"white\", \"ticks\": \"\"}}, \"title\": {\"x\": 0.05}, \"xaxis\": {\"automargin\": true, \"gridcolor\": \"white\", \"linecolor\": \"white\", \"ticks\": \"\", \"title\": {\"standoff\": 15}, \"zerolinecolor\": \"white\", \"zerolinewidth\": 2}, \"yaxis\": {\"automargin\": true, \"gridcolor\": \"white\", \"linecolor\": \"white\", \"ticks\": \"\", \"title\": {\"standoff\": 15}, \"zerolinecolor\": \"white\", \"zerolinewidth\": 2}}}, \"title\": {\"text\": \"\"}, \"width\": 620, \"xaxis\": {\"gridcolor\": \"#cbd2d8\", \"range\": [0, 1], \"showgrid\": false, \"tickfont\": {\"family\": \"Noto Sans\", \"size\": 12}, \"tickformat\": \"%\", \"title\": {\"text\": \"\"}, \"zeroline\": false}, \"yaxis\": {\"gridcolor\": \"#cbd2d8\", \"showgrid\": false, \"tickfont\": {\"family\": \"Noto Sans\", \"size\": 12}, \"title\": {\"text\": \"\"}, \"visible\": true, \"zeroline\": false}},                        {\"responsive\": true}                    ).then(function(){\n",
       "                            \n",
       "var gd = document.getElementById('48b8d442-84bd-4cd1-93c5-6c8c7a095ee7');\n",
       "var x = new MutationObserver(function (mutations, observer) {{\n",
       "        var display = window.getComputedStyle(gd).display;\n",
       "        if (!display || display === 'none') {{\n",
       "            console.log([gd, 'removed!']);\n",
       "            Plotly.purge(gd);\n",
       "            observer.disconnect();\n",
       "        }}\n",
       "}});\n",
       "\n",
       "// Listen for the removal of the full notebook cells\n",
       "var notebookContainer = gd.closest('#notebook-container');\n",
       "if (notebookContainer) {{\n",
       "    x.observe(notebookContainer, {childList: true});\n",
       "}}\n",
       "\n",
       "// Listen for the clearing of the current output cell\n",
       "var outputEl = gd.closest('.output');\n",
       "if (outputEl) {{\n",
       "    x.observe(outputEl, {childList: true});\n",
       "}}\n",
       "\n",
       "                        })                };                });            </script>        </div>"
      ]
     },
     "metadata": {},
     "output_type": "display_data"
    }
   ],
   "source": [
    "stacked_bars_vr(vr_2020, vr_2020.noc.head(10).tolist() + ['JPN'])"
   ]
  },
  {
   "cell_type": "markdown",
   "metadata": {},
   "source": [
    "#### The ones who lost the most in Tokyo\n",
    "Which countries blew more chances at getting a medal?"
   ]
  },
  {
   "cell_type": "code",
   "execution_count": 21,
   "metadata": {},
   "outputs": [
    {
     "data": {
      "text/html": [
       "<div>\n",
       "<style scoped>\n",
       "    .dataframe tbody tr th:only-of-type {\n",
       "        vertical-align: middle;\n",
       "    }\n",
       "\n",
       "    .dataframe tbody tr th {\n",
       "        vertical-align: top;\n",
       "    }\n",
       "\n",
       "    .dataframe thead th {\n",
       "        text-align: right;\n",
       "    }\n",
       "</style>\n",
       "<table border=\"1\" class=\"dataframe\">\n",
       "  <thead>\n",
       "    <tr style=\"text-align: right;\">\n",
       "      <th></th>\n",
       "      <th>index</th>\n",
       "      <th>noc</th>\n",
       "      <th>competitors</th>\n",
       "      <th>bronze</th>\n",
       "      <th>gold</th>\n",
       "      <th>silver</th>\n",
       "      <th>medals</th>\n",
       "      <th>medal_ratio</th>\n",
       "      <th>fail_ratio</th>\n",
       "      <th>blewed_chances</th>\n",
       "    </tr>\n",
       "  </thead>\n",
       "  <tbody>\n",
       "    <tr>\n",
       "      <th>5</th>\n",
       "      <td>198</td>\n",
       "      <td>USA</td>\n",
       "      <td>503</td>\n",
       "      <td>33.0</td>\n",
       "      <td>38.0</td>\n",
       "      <td>41.0</td>\n",
       "      <td>112.0</td>\n",
       "      <td>0.222664</td>\n",
       "      <td>0.777336</td>\n",
       "      <td>391.0</td>\n",
       "    </tr>\n",
       "    <tr>\n",
       "      <th>24</th>\n",
       "      <td>97</td>\n",
       "      <td>JPN</td>\n",
       "      <td>395</td>\n",
       "      <td>16.0</td>\n",
       "      <td>27.0</td>\n",
       "      <td>14.0</td>\n",
       "      <td>57.0</td>\n",
       "      <td>0.144304</td>\n",
       "      <td>0.855696</td>\n",
       "      <td>338.0</td>\n",
       "    </tr>\n",
       "    <tr>\n",
       "      <th>46</th>\n",
       "      <td>73</td>\n",
       "      <td>GER</td>\n",
       "      <td>352</td>\n",
       "      <td>16.0</td>\n",
       "      <td>10.0</td>\n",
       "      <td>11.0</td>\n",
       "      <td>37.0</td>\n",
       "      <td>0.105114</td>\n",
       "      <td>0.894886</td>\n",
       "      <td>315.0</td>\n",
       "    </tr>\n",
       "    <tr>\n",
       "      <th>11</th>\n",
       "      <td>156</td>\n",
       "      <td>ROC</td>\n",
       "      <td>355</td>\n",
       "      <td>22.0</td>\n",
       "      <td>20.0</td>\n",
       "      <td>27.0</td>\n",
       "      <td>69.0</td>\n",
       "      <td>0.194366</td>\n",
       "      <td>0.805634</td>\n",
       "      <td>286.0</td>\n",
       "    </tr>\n",
       "    <tr>\n",
       "      <th>43</th>\n",
       "      <td>65</td>\n",
       "      <td>FRA</td>\n",
       "      <td>313</td>\n",
       "      <td>11.0</td>\n",
       "      <td>10.0</td>\n",
       "      <td>12.0</td>\n",
       "      <td>33.0</td>\n",
       "      <td>0.105431</td>\n",
       "      <td>0.894569</td>\n",
       "      <td>280.0</td>\n",
       "    </tr>\n",
       "    <tr>\n",
       "      <th>34</th>\n",
       "      <td>93</td>\n",
       "      <td>ITA</td>\n",
       "      <td>308</td>\n",
       "      <td>19.0</td>\n",
       "      <td>9.0</td>\n",
       "      <td>10.0</td>\n",
       "      <td>38.0</td>\n",
       "      <td>0.123377</td>\n",
       "      <td>0.876623</td>\n",
       "      <td>270.0</td>\n",
       "    </tr>\n",
       "    <tr>\n",
       "      <th>23</th>\n",
       "      <td>10</td>\n",
       "      <td>AUS</td>\n",
       "      <td>316</td>\n",
       "      <td>21.0</td>\n",
       "      <td>18.0</td>\n",
       "      <td>7.0</td>\n",
       "      <td>46.0</td>\n",
       "      <td>0.145570</td>\n",
       "      <td>0.854430</td>\n",
       "      <td>270.0</td>\n",
       "    </tr>\n",
       "    <tr>\n",
       "      <th>2</th>\n",
       "      <td>38</td>\n",
       "      <td>CHN</td>\n",
       "      <td>345</td>\n",
       "      <td>18.0</td>\n",
       "      <td>38.0</td>\n",
       "      <td>31.0</td>\n",
       "      <td>87.0</td>\n",
       "      <td>0.252174</td>\n",
       "      <td>0.747826</td>\n",
       "      <td>258.0</td>\n",
       "    </tr>\n",
       "    <tr>\n",
       "      <th>56</th>\n",
       "      <td>33</td>\n",
       "      <td>CAN</td>\n",
       "      <td>283</td>\n",
       "      <td>12.0</td>\n",
       "      <td>7.0</td>\n",
       "      <td>6.0</td>\n",
       "      <td>25.0</td>\n",
       "      <td>0.088339</td>\n",
       "      <td>0.911661</td>\n",
       "      <td>258.0</td>\n",
       "    </tr>\n",
       "    <tr>\n",
       "      <th>8</th>\n",
       "      <td>69</td>\n",
       "      <td>GBR</td>\n",
       "      <td>320</td>\n",
       "      <td>22.0</td>\n",
       "      <td>22.0</td>\n",
       "      <td>21.0</td>\n",
       "      <td>65.0</td>\n",
       "      <td>0.203125</td>\n",
       "      <td>0.796875</td>\n",
       "      <td>255.0</td>\n",
       "    </tr>\n",
       "    <tr>\n",
       "      <th>67</th>\n",
       "      <td>60</td>\n",
       "      <td>ESP</td>\n",
       "      <td>238</td>\n",
       "      <td>6.0</td>\n",
       "      <td>3.0</td>\n",
       "      <td>7.0</td>\n",
       "      <td>16.0</td>\n",
       "      <td>0.067227</td>\n",
       "      <td>0.932773</td>\n",
       "      <td>222.0</td>\n",
       "    </tr>\n",
       "    <tr>\n",
       "      <th>52</th>\n",
       "      <td>26</td>\n",
       "      <td>BRA</td>\n",
       "      <td>229</td>\n",
       "      <td>8.0</td>\n",
       "      <td>7.0</td>\n",
       "      <td>6.0</td>\n",
       "      <td>21.0</td>\n",
       "      <td>0.091703</td>\n",
       "      <td>0.908297</td>\n",
       "      <td>208.0</td>\n",
       "    </tr>\n",
       "    <tr>\n",
       "      <th>66</th>\n",
       "      <td>152</td>\n",
       "      <td>POL</td>\n",
       "      <td>187</td>\n",
       "      <td>5.0</td>\n",
       "      <td>4.0</td>\n",
       "      <td>4.0</td>\n",
       "      <td>13.0</td>\n",
       "      <td>0.069519</td>\n",
       "      <td>0.930481</td>\n",
       "      <td>174.0</td>\n",
       "    </tr>\n",
       "    <tr>\n",
       "      <th>41</th>\n",
       "      <td>102</td>\n",
       "      <td>KOR</td>\n",
       "      <td>188</td>\n",
       "      <td>10.0</td>\n",
       "      <td>6.0</td>\n",
       "      <td>4.0</td>\n",
       "      <td>20.0</td>\n",
       "      <td>0.106383</td>\n",
       "      <td>0.893617</td>\n",
       "      <td>168.0</td>\n",
       "    </tr>\n",
       "    <tr>\n",
       "      <th>44</th>\n",
       "      <td>195</td>\n",
       "      <td>UKR</td>\n",
       "      <td>171</td>\n",
       "      <td>11.0</td>\n",
       "      <td>1.0</td>\n",
       "      <td>6.0</td>\n",
       "      <td>18.0</td>\n",
       "      <td>0.105263</td>\n",
       "      <td>0.894737</td>\n",
       "      <td>153.0</td>\n",
       "    </tr>\n",
       "    <tr>\n",
       "      <th>10</th>\n",
       "      <td>136</td>\n",
       "      <td>NED</td>\n",
       "      <td>189</td>\n",
       "      <td>14.0</td>\n",
       "      <td>11.0</td>\n",
       "      <td>12.0</td>\n",
       "      <td>37.0</td>\n",
       "      <td>0.195767</td>\n",
       "      <td>0.804233</td>\n",
       "      <td>152.0</td>\n",
       "    </tr>\n",
       "    <tr>\n",
       "      <th>37</th>\n",
       "      <td>84</td>\n",
       "      <td>HUN</td>\n",
       "      <td>150</td>\n",
       "      <td>4.0</td>\n",
       "      <td>6.0</td>\n",
       "      <td>7.0</td>\n",
       "      <td>17.0</td>\n",
       "      <td>0.113333</td>\n",
       "      <td>0.886667</td>\n",
       "      <td>133.0</td>\n",
       "    </tr>\n",
       "    <tr>\n",
       "      <th>51</th>\n",
       "      <td>175</td>\n",
       "      <td>SUI</td>\n",
       "      <td>137</td>\n",
       "      <td>6.0</td>\n",
       "      <td>3.0</td>\n",
       "      <td>4.0</td>\n",
       "      <td>13.0</td>\n",
       "      <td>0.094891</td>\n",
       "      <td>0.905109</td>\n",
       "      <td>124.0</td>\n",
       "    </tr>\n",
       "    <tr>\n",
       "      <th>88</th>\n",
       "      <td>122</td>\n",
       "      <td>MEX</td>\n",
       "      <td>118</td>\n",
       "      <td>4.0</td>\n",
       "      <td>0.0</td>\n",
       "      <td>0.0</td>\n",
       "      <td>4.0</td>\n",
       "      <td>0.033898</td>\n",
       "      <td>0.966102</td>\n",
       "      <td>114.0</td>\n",
       "    </tr>\n",
       "    <tr>\n",
       "      <th>87</th>\n",
       "      <td>56</td>\n",
       "      <td>EGY</td>\n",
       "      <td>114</td>\n",
       "      <td>3.0</td>\n",
       "      <td>0.0</td>\n",
       "      <td>1.0</td>\n",
       "      <td>4.0</td>\n",
       "      <td>0.035088</td>\n",
       "      <td>0.964912</td>\n",
       "      <td>110.0</td>\n",
       "    </tr>\n",
       "    <tr>\n",
       "      <th>50</th>\n",
       "      <td>50</td>\n",
       "      <td>CZE</td>\n",
       "      <td>115</td>\n",
       "      <td>3.0</td>\n",
       "      <td>4.0</td>\n",
       "      <td>4.0</td>\n",
       "      <td>11.0</td>\n",
       "      <td>0.095652</td>\n",
       "      <td>0.904348</td>\n",
       "      <td>104.0</td>\n",
       "    </tr>\n",
       "    <tr>\n",
       "      <th>75</th>\n",
       "      <td>17</td>\n",
       "      <td>BEL</td>\n",
       "      <td>110</td>\n",
       "      <td>2.0</td>\n",
       "      <td>3.0</td>\n",
       "      <td>1.0</td>\n",
       "      <td>6.0</td>\n",
       "      <td>0.054545</td>\n",
       "      <td>0.945455</td>\n",
       "      <td>104.0</td>\n",
       "    </tr>\n",
       "    <tr>\n",
       "      <th>45</th>\n",
       "      <td>191</td>\n",
       "      <td>TUR</td>\n",
       "      <td>114</td>\n",
       "      <td>7.0</td>\n",
       "      <td>2.0</td>\n",
       "      <td>3.0</td>\n",
       "      <td>12.0</td>\n",
       "      <td>0.105263</td>\n",
       "      <td>0.894737</td>\n",
       "      <td>102.0</td>\n",
       "    </tr>\n",
       "    <tr>\n",
       "      <th>89</th>\n",
       "      <td>158</td>\n",
       "      <td>RSA</td>\n",
       "      <td>99</td>\n",
       "      <td>0.0</td>\n",
       "      <td>1.0</td>\n",
       "      <td>2.0</td>\n",
       "      <td>3.0</td>\n",
       "      <td>0.030303</td>\n",
       "      <td>0.969697</td>\n",
       "      <td>96.0</td>\n",
       "    </tr>\n",
       "    <tr>\n",
       "      <th>71</th>\n",
       "      <td>23</td>\n",
       "      <td>BLR</td>\n",
       "      <td>101</td>\n",
       "      <td>2.0</td>\n",
       "      <td>1.0</td>\n",
       "      <td>3.0</td>\n",
       "      <td>6.0</td>\n",
       "      <td>0.059406</td>\n",
       "      <td>0.940594</td>\n",
       "      <td>95.0</td>\n",
       "    </tr>\n",
       "    <tr>\n",
       "      <th>61</th>\n",
       "      <td>178</td>\n",
       "      <td>SWE</td>\n",
       "      <td>100</td>\n",
       "      <td>0.0</td>\n",
       "      <td>2.0</td>\n",
       "      <td>6.0</td>\n",
       "      <td>8.0</td>\n",
       "      <td>0.080000</td>\n",
       "      <td>0.920000</td>\n",
       "      <td>92.0</td>\n",
       "    </tr>\n",
       "    <tr>\n",
       "      <th>12</th>\n",
       "      <td>142</td>\n",
       "      <td>NZL</td>\n",
       "      <td>114</td>\n",
       "      <td>8.0</td>\n",
       "      <td>7.0</td>\n",
       "      <td>7.0</td>\n",
       "      <td>22.0</td>\n",
       "      <td>0.192982</td>\n",
       "      <td>0.807018</td>\n",
       "      <td>92.0</td>\n",
       "    </tr>\n",
       "    <tr>\n",
       "      <th>63</th>\n",
       "      <td>86</td>\n",
       "      <td>IND</td>\n",
       "      <td>93</td>\n",
       "      <td>4.0</td>\n",
       "      <td>1.0</td>\n",
       "      <td>2.0</td>\n",
       "      <td>7.0</td>\n",
       "      <td>0.075269</td>\n",
       "      <td>0.924731</td>\n",
       "      <td>86.0</td>\n",
       "    </tr>\n",
       "    <tr>\n",
       "      <th>80</th>\n",
       "      <td>88</td>\n",
       "      <td>IRL</td>\n",
       "      <td>90</td>\n",
       "      <td>2.0</td>\n",
       "      <td>2.0</td>\n",
       "      <td>0.0</td>\n",
       "      <td>4.0</td>\n",
       "      <td>0.044444</td>\n",
       "      <td>0.955556</td>\n",
       "      <td>86.0</td>\n",
       "    </tr>\n",
       "    <tr>\n",
       "      <th>62</th>\n",
       "      <td>98</td>\n",
       "      <td>KAZ</td>\n",
       "      <td>92</td>\n",
       "      <td>7.0</td>\n",
       "      <td>0.0</td>\n",
       "      <td>0.0</td>\n",
       "      <td>7.0</td>\n",
       "      <td>0.076087</td>\n",
       "      <td>0.923913</td>\n",
       "      <td>85.0</td>\n",
       "    </tr>\n",
       "    <tr>\n",
       "      <th>29</th>\n",
       "      <td>188</td>\n",
       "      <td>TPE</td>\n",
       "      <td>96</td>\n",
       "      <td>6.0</td>\n",
       "      <td>2.0</td>\n",
       "      <td>4.0</td>\n",
       "      <td>12.0</td>\n",
       "      <td>0.125000</td>\n",
       "      <td>0.875000</td>\n",
       "      <td>84.0</td>\n",
       "    </tr>\n",
       "    <tr>\n",
       "      <th>77</th>\n",
       "      <td>153</td>\n",
       "      <td>POR</td>\n",
       "      <td>86</td>\n",
       "      <td>2.0</td>\n",
       "      <td>1.0</td>\n",
       "      <td>1.0</td>\n",
       "      <td>4.0</td>\n",
       "      <td>0.046512</td>\n",
       "      <td>0.953488</td>\n",
       "      <td>82.0</td>\n",
       "    </tr>\n",
       "    <tr>\n",
       "      <th>59</th>\n",
       "      <td>11</td>\n",
       "      <td>AUT</td>\n",
       "      <td>84</td>\n",
       "      <td>5.0</td>\n",
       "      <td>1.0</td>\n",
       "      <td>1.0</td>\n",
       "      <td>7.0</td>\n",
       "      <td>0.083333</td>\n",
       "      <td>0.916667</td>\n",
       "      <td>77.0</td>\n",
       "    </tr>\n",
       "    <tr>\n",
       "      <th>84</th>\n",
       "      <td>6</td>\n",
       "      <td>ARG</td>\n",
       "      <td>77</td>\n",
       "      <td>2.0</td>\n",
       "      <td>0.0</td>\n",
       "      <td>1.0</td>\n",
       "      <td>3.0</td>\n",
       "      <td>0.038961</td>\n",
       "      <td>0.961039</td>\n",
       "      <td>74.0</td>\n",
       "    </tr>\n",
       "    <tr>\n",
       "      <th>83</th>\n",
       "      <td>91</td>\n",
       "      <td>ISR</td>\n",
       "      <td>76</td>\n",
       "      <td>2.0</td>\n",
       "      <td>1.0</td>\n",
       "      <td>0.0</td>\n",
       "      <td>3.0</td>\n",
       "      <td>0.039474</td>\n",
       "      <td>0.960526</td>\n",
       "      <td>73.0</td>\n",
       "    </tr>\n",
       "    <tr>\n",
       "      <th>26</th>\n",
       "      <td>51</td>\n",
       "      <td>DEN</td>\n",
       "      <td>81</td>\n",
       "      <td>4.0</td>\n",
       "      <td>3.0</td>\n",
       "      <td>4.0</td>\n",
       "      <td>11.0</td>\n",
       "      <td>0.135802</td>\n",
       "      <td>0.864198</td>\n",
       "      <td>70.0</td>\n",
       "    </tr>\n",
       "    <tr>\n",
       "      <th>40</th>\n",
       "      <td>140</td>\n",
       "      <td>NOR</td>\n",
       "      <td>75</td>\n",
       "      <td>2.0</td>\n",
       "      <td>4.0</td>\n",
       "      <td>2.0</td>\n",
       "      <td>8.0</td>\n",
       "      <td>0.106667</td>\n",
       "      <td>0.893333</td>\n",
       "      <td>67.0</td>\n",
       "    </tr>\n",
       "    <tr>\n",
       "      <th>65</th>\n",
       "      <td>43</td>\n",
       "      <td>COL</td>\n",
       "      <td>69</td>\n",
       "      <td>1.0</td>\n",
       "      <td>0.0</td>\n",
       "      <td>4.0</td>\n",
       "      <td>5.0</td>\n",
       "      <td>0.072464</td>\n",
       "      <td>0.927536</td>\n",
       "      <td>64.0</td>\n",
       "    </tr>\n",
       "    <tr>\n",
       "      <th>64</th>\n",
       "      <td>199</td>\n",
       "      <td>UZB</td>\n",
       "      <td>68</td>\n",
       "      <td>2.0</td>\n",
       "      <td>3.0</td>\n",
       "      <td>0.0</td>\n",
       "      <td>5.0</td>\n",
       "      <td>0.073529</td>\n",
       "      <td>0.926471</td>\n",
       "      <td>63.0</td>\n",
       "    </tr>\n",
       "    <tr>\n",
       "      <th>79</th>\n",
       "      <td>75</td>\n",
       "      <td>GRE</td>\n",
       "      <td>65</td>\n",
       "      <td>1.0</td>\n",
       "      <td>2.0</td>\n",
       "      <td>0.0</td>\n",
       "      <td>3.0</td>\n",
       "      <td>0.046154</td>\n",
       "      <td>0.953846</td>\n",
       "      <td>62.0</td>\n",
       "    </tr>\n",
       "    <tr>\n",
       "      <th>68</th>\n",
       "      <td>157</td>\n",
       "      <td>ROU</td>\n",
       "      <td>62</td>\n",
       "      <td>0.0</td>\n",
       "      <td>1.0</td>\n",
       "      <td>3.0</td>\n",
       "      <td>4.0</td>\n",
       "      <td>0.064516</td>\n",
       "      <td>0.935484</td>\n",
       "      <td>58.0</td>\n",
       "    </tr>\n",
       "    <tr>\n",
       "      <th>7</th>\n",
       "      <td>48</td>\n",
       "      <td>CUB</td>\n",
       "      <td>72</td>\n",
       "      <td>5.0</td>\n",
       "      <td>7.0</td>\n",
       "      <td>3.0</td>\n",
       "      <td>15.0</td>\n",
       "      <td>0.208333</td>\n",
       "      <td>0.791667</td>\n",
       "      <td>57.0</td>\n",
       "    </tr>\n",
       "    <tr>\n",
       "      <th>35</th>\n",
       "      <td>170</td>\n",
       "      <td>SRB</td>\n",
       "      <td>60</td>\n",
       "      <td>5.0</td>\n",
       "      <td>1.0</td>\n",
       "      <td>1.0</td>\n",
       "      <td>7.0</td>\n",
       "      <td>0.116667</td>\n",
       "      <td>0.883333</td>\n",
       "      <td>53.0</td>\n",
       "    </tr>\n",
       "    <tr>\n",
       "      <th>91</th>\n",
       "      <td>114</td>\n",
       "      <td>LTU</td>\n",
       "      <td>52</td>\n",
       "      <td>0.0</td>\n",
       "      <td>0.0</td>\n",
       "      <td>1.0</td>\n",
       "      <td>1.0</td>\n",
       "      <td>0.019231</td>\n",
       "      <td>0.980769</td>\n",
       "      <td>51.0</td>\n",
       "    </tr>\n",
       "    <tr>\n",
       "      <th>85</th>\n",
       "      <td>190</td>\n",
       "      <td>TUN</td>\n",
       "      <td>53</td>\n",
       "      <td>0.0</td>\n",
       "      <td>1.0</td>\n",
       "      <td>1.0</td>\n",
       "      <td>2.0</td>\n",
       "      <td>0.037736</td>\n",
       "      <td>0.962264</td>\n",
       "      <td>51.0</td>\n",
       "    </tr>\n",
       "    <tr>\n",
       "      <th>20</th>\n",
       "      <td>95</td>\n",
       "      <td>JAM</td>\n",
       "      <td>58</td>\n",
       "      <td>4.0</td>\n",
       "      <td>4.0</td>\n",
       "      <td>1.0</td>\n",
       "      <td>9.0</td>\n",
       "      <td>0.155172</td>\n",
       "      <td>0.844828</td>\n",
       "      <td>49.0</td>\n",
       "    </tr>\n",
       "    <tr>\n",
       "      <th>81</th>\n",
       "      <td>64</td>\n",
       "      <td>FIN</td>\n",
       "      <td>48</td>\n",
       "      <td>2.0</td>\n",
       "      <td>0.0</td>\n",
       "      <td>0.0</td>\n",
       "      <td>2.0</td>\n",
       "      <td>0.041667</td>\n",
       "      <td>0.958333</td>\n",
       "      <td>46.0</td>\n",
       "    </tr>\n",
       "    <tr>\n",
       "      <th>69</th>\n",
       "      <td>55</td>\n",
       "      <td>ECU</td>\n",
       "      <td>48</td>\n",
       "      <td>0.0</td>\n",
       "      <td>2.0</td>\n",
       "      <td>1.0</td>\n",
       "      <td>3.0</td>\n",
       "      <td>0.062500</td>\n",
       "      <td>0.937500</td>\n",
       "      <td>45.0</td>\n",
       "    </tr>\n",
       "    <tr>\n",
       "      <th>21</th>\n",
       "      <td>47</td>\n",
       "      <td>CRO</td>\n",
       "      <td>52</td>\n",
       "      <td>2.0</td>\n",
       "      <td>3.0</td>\n",
       "      <td>3.0</td>\n",
       "      <td>8.0</td>\n",
       "      <td>0.153846</td>\n",
       "      <td>0.846154</td>\n",
       "      <td>44.0</td>\n",
       "    </tr>\n",
       "    <tr>\n",
       "      <th>90</th>\n",
       "      <td>117</td>\n",
       "      <td>MAR</td>\n",
       "      <td>45</td>\n",
       "      <td>0.0</td>\n",
       "      <td>1.0</td>\n",
       "      <td>0.0</td>\n",
       "      <td>1.0</td>\n",
       "      <td>0.022222</td>\n",
       "      <td>0.977778</td>\n",
       "      <td>44.0</td>\n",
       "    </tr>\n",
       "    <tr>\n",
       "      <th>47</th>\n",
       "      <td>166</td>\n",
       "      <td>SLO</td>\n",
       "      <td>48</td>\n",
       "      <td>1.0</td>\n",
       "      <td>3.0</td>\n",
       "      <td>1.0</td>\n",
       "      <td>5.0</td>\n",
       "      <td>0.104167</td>\n",
       "      <td>0.895833</td>\n",
       "      <td>43.0</td>\n",
       "    </tr>\n",
       "    <tr>\n",
       "      <th>58</th>\n",
       "      <td>177</td>\n",
       "      <td>SVK</td>\n",
       "      <td>47</td>\n",
       "      <td>1.0</td>\n",
       "      <td>1.0</td>\n",
       "      <td>2.0</td>\n",
       "      <td>4.0</td>\n",
       "      <td>0.085106</td>\n",
       "      <td>0.914894</td>\n",
       "      <td>43.0</td>\n",
       "    </tr>\n",
       "    <tr>\n",
       "      <th>57</th>\n",
       "      <td>123</td>\n",
       "      <td>MGL</td>\n",
       "      <td>47</td>\n",
       "      <td>3.0</td>\n",
       "      <td>0.0</td>\n",
       "      <td>1.0</td>\n",
       "      <td>4.0</td>\n",
       "      <td>0.085106</td>\n",
       "      <td>0.914894</td>\n",
       "      <td>43.0</td>\n",
       "    </tr>\n",
       "    <tr>\n",
       "      <th>30</th>\n",
       "      <td>82</td>\n",
       "      <td>HKG</td>\n",
       "      <td>48</td>\n",
       "      <td>3.0</td>\n",
       "      <td>1.0</td>\n",
       "      <td>2.0</td>\n",
       "      <td>6.0</td>\n",
       "      <td>0.125000</td>\n",
       "      <td>0.875000</td>\n",
       "      <td>42.0</td>\n",
       "    </tr>\n",
       "    <tr>\n",
       "      <th>42</th>\n",
       "      <td>12</td>\n",
       "      <td>AZE</td>\n",
       "      <td>47</td>\n",
       "      <td>4.0</td>\n",
       "      <td>0.0</td>\n",
       "      <td>1.0</td>\n",
       "      <td>5.0</td>\n",
       "      <td>0.106383</td>\n",
       "      <td>0.893617</td>\n",
       "      <td>42.0</td>\n",
       "    </tr>\n",
       "    <tr>\n",
       "      <th>38</th>\n",
       "      <td>29</td>\n",
       "      <td>BUL</td>\n",
       "      <td>46</td>\n",
       "      <td>2.0</td>\n",
       "      <td>2.0</td>\n",
       "      <td>1.0</td>\n",
       "      <td>5.0</td>\n",
       "      <td>0.108696</td>\n",
       "      <td>0.891304</td>\n",
       "      <td>41.0</td>\n",
       "    </tr>\n",
       "    <tr>\n",
       "      <th>78</th>\n",
       "      <td>183</td>\n",
       "      <td>THA</td>\n",
       "      <td>43</td>\n",
       "      <td>1.0</td>\n",
       "      <td>1.0</td>\n",
       "      <td>0.0</td>\n",
       "      <td>2.0</td>\n",
       "      <td>0.046512</td>\n",
       "      <td>0.953488</td>\n",
       "      <td>41.0</td>\n",
       "    </tr>\n",
       "    <tr>\n",
       "      <th>28</th>\n",
       "      <td>87</td>\n",
       "      <td>IRI</td>\n",
       "      <td>47</td>\n",
       "      <td>2.0</td>\n",
       "      <td>2.0</td>\n",
       "      <td>2.0</td>\n",
       "      <td>6.0</td>\n",
       "      <td>0.127660</td>\n",
       "      <td>0.872340</td>\n",
       "      <td>41.0</td>\n",
       "    </tr>\n",
       "    <tr>\n",
       "      <th>9</th>\n",
       "      <td>99</td>\n",
       "      <td>KEN</td>\n",
       "      <td>51</td>\n",
       "      <td>2.0</td>\n",
       "      <td>4.0</td>\n",
       "      <td>4.0</td>\n",
       "      <td>10.0</td>\n",
       "      <td>0.196078</td>\n",
       "      <td>0.803922</td>\n",
       "      <td>41.0</td>\n",
       "    </tr>\n",
       "    <tr>\n",
       "      <th>92</th>\n",
       "      <td>2</td>\n",
       "      <td>ALG</td>\n",
       "      <td>40</td>\n",
       "      <td>0.0</td>\n",
       "      <td>0.0</td>\n",
       "      <td>0.0</td>\n",
       "      <td>0.0</td>\n",
       "      <td>0.000000</td>\n",
       "      <td>1.000000</td>\n",
       "      <td>40.0</td>\n",
       "    </tr>\n",
       "    <tr>\n",
       "      <th>93</th>\n",
       "      <td>147</td>\n",
       "      <td>PER</td>\n",
       "      <td>39</td>\n",
       "      <td>0.0</td>\n",
       "      <td>0.0</td>\n",
       "      <td>0.0</td>\n",
       "      <td>0.0</td>\n",
       "      <td>0.000000</td>\n",
       "      <td>1.000000</td>\n",
       "      <td>39.0</td>\n",
       "    </tr>\n",
       "    <tr>\n",
       "      <th>76</th>\n",
       "      <td>118</td>\n",
       "      <td>MAS</td>\n",
       "      <td>39</td>\n",
       "      <td>1.0</td>\n",
       "      <td>0.0</td>\n",
       "      <td>1.0</td>\n",
       "      <td>2.0</td>\n",
       "      <td>0.051282</td>\n",
       "      <td>0.948718</td>\n",
       "      <td>37.0</td>\n",
       "    </tr>\n",
       "    <tr>\n",
       "      <th>94</th>\n",
       "      <td>37</td>\n",
       "      <td>CHI</td>\n",
       "      <td>37</td>\n",
       "      <td>0.0</td>\n",
       "      <td>0.0</td>\n",
       "      <td>0.0</td>\n",
       "      <td>0.0</td>\n",
       "      <td>0.000000</td>\n",
       "      <td>1.000000</td>\n",
       "      <td>37.0</td>\n",
       "    </tr>\n",
       "    <tr>\n",
       "      <th>72</th>\n",
       "      <td>61</td>\n",
       "      <td>EST</td>\n",
       "      <td>36</td>\n",
       "      <td>1.0</td>\n",
       "      <td>1.0</td>\n",
       "      <td>0.0</td>\n",
       "      <td>2.0</td>\n",
       "      <td>0.055556</td>\n",
       "      <td>0.944444</td>\n",
       "      <td>34.0</td>\n",
       "    </tr>\n",
       "    <tr>\n",
       "      <th>73</th>\n",
       "      <td>138</td>\n",
       "      <td>NGR</td>\n",
       "      <td>36</td>\n",
       "      <td>1.0</td>\n",
       "      <td>0.0</td>\n",
       "      <td>1.0</td>\n",
       "      <td>2.0</td>\n",
       "      <td>0.055556</td>\n",
       "      <td>0.944444</td>\n",
       "      <td>34.0</td>\n",
       "    </tr>\n",
       "    <tr>\n",
       "      <th>39</th>\n",
       "      <td>62</td>\n",
       "      <td>ETH</td>\n",
       "      <td>37</td>\n",
       "      <td>2.0</td>\n",
       "      <td>1.0</td>\n",
       "      <td>1.0</td>\n",
       "      <td>4.0</td>\n",
       "      <td>0.108108</td>\n",
       "      <td>0.891892</td>\n",
       "      <td>33.0</td>\n",
       "    </tr>\n",
       "    <tr>\n",
       "      <th>36</th>\n",
       "      <td>201</td>\n",
       "      <td>VEN</td>\n",
       "      <td>35</td>\n",
       "      <td>0.0</td>\n",
       "      <td>1.0</td>\n",
       "      <td>3.0</td>\n",
       "      <td>4.0</td>\n",
       "      <td>0.114286</td>\n",
       "      <td>0.885714</td>\n",
       "      <td>31.0</td>\n",
       "    </tr>\n",
       "    <tr>\n",
       "      <th>95</th>\n",
       "      <td>189</td>\n",
       "      <td>TTO</td>\n",
       "      <td>30</td>\n",
       "      <td>0.0</td>\n",
       "      <td>0.0</td>\n",
       "      <td>0.0</td>\n",
       "      <td>0.0</td>\n",
       "      <td>0.000000</td>\n",
       "      <td>1.000000</td>\n",
       "      <td>30.0</td>\n",
       "    </tr>\n",
       "    <tr>\n",
       "      <th>70</th>\n",
       "      <td>107</td>\n",
       "      <td>LAT</td>\n",
       "      <td>32</td>\n",
       "      <td>1.0</td>\n",
       "      <td>1.0</td>\n",
       "      <td>0.0</td>\n",
       "      <td>2.0</td>\n",
       "      <td>0.062500</td>\n",
       "      <td>0.937500</td>\n",
       "      <td>30.0</td>\n",
       "    </tr>\n",
       "    <tr>\n",
       "      <th>96</th>\n",
       "      <td>57</td>\n",
       "      <td>EOR</td>\n",
       "      <td>28</td>\n",
       "      <td>0.0</td>\n",
       "      <td>0.0</td>\n",
       "      <td>0.0</td>\n",
       "      <td>0.0</td>\n",
       "      <td>0.000000</td>\n",
       "      <td>1.000000</td>\n",
       "      <td>28.0</td>\n",
       "    </tr>\n",
       "    <tr>\n",
       "      <th>97</th>\n",
       "      <td>163</td>\n",
       "      <td>SGP</td>\n",
       "      <td>27</td>\n",
       "      <td>0.0</td>\n",
       "      <td>0.0</td>\n",
       "      <td>0.0</td>\n",
       "      <td>0.0</td>\n",
       "      <td>0.000000</td>\n",
       "      <td>1.000000</td>\n",
       "      <td>27.0</td>\n",
       "    </tr>\n",
       "    <tr>\n",
       "      <th>86</th>\n",
       "      <td>154</td>\n",
       "      <td>PUR</td>\n",
       "      <td>27</td>\n",
       "      <td>0.0</td>\n",
       "      <td>1.0</td>\n",
       "      <td>0.0</td>\n",
       "      <td>1.0</td>\n",
       "      <td>0.037037</td>\n",
       "      <td>0.962963</td>\n",
       "      <td>26.0</td>\n",
       "    </tr>\n",
       "    <tr>\n",
       "      <th>4</th>\n",
       "      <td>71</td>\n",
       "      <td>GEO</td>\n",
       "      <td>33</td>\n",
       "      <td>1.0</td>\n",
       "      <td>2.0</td>\n",
       "      <td>5.0</td>\n",
       "      <td>8.0</td>\n",
       "      <td>0.242424</td>\n",
       "      <td>0.757576</td>\n",
       "      <td>25.0</td>\n",
       "    </tr>\n",
       "    <tr>\n",
       "      <th>17</th>\n",
       "      <td>54</td>\n",
       "      <td>DOM</td>\n",
       "      <td>30</td>\n",
       "      <td>2.0</td>\n",
       "      <td>0.0</td>\n",
       "      <td>3.0</td>\n",
       "      <td>5.0</td>\n",
       "      <td>0.166667</td>\n",
       "      <td>0.833333</td>\n",
       "      <td>25.0</td>\n",
       "    </tr>\n",
       "    <tr>\n",
       "      <th>82</th>\n",
       "      <td>120</td>\n",
       "      <td>MDA</td>\n",
       "      <td>25</td>\n",
       "      <td>1.0</td>\n",
       "      <td>0.0</td>\n",
       "      <td>0.0</td>\n",
       "      <td>1.0</td>\n",
       "      <td>0.040000</td>\n",
       "      <td>0.960000</td>\n",
       "      <td>24.0</td>\n",
       "    </tr>\n",
       "    <tr>\n",
       "      <th>25</th>\n",
       "      <td>194</td>\n",
       "      <td>UGA</td>\n",
       "      <td>28</td>\n",
       "      <td>1.0</td>\n",
       "      <td>2.0</td>\n",
       "      <td>1.0</td>\n",
       "      <td>4.0</td>\n",
       "      <td>0.142857</td>\n",
       "      <td>0.857143</td>\n",
       "      <td>24.0</td>\n",
       "    </tr>\n",
       "    <tr>\n",
       "      <th>98</th>\n",
       "      <td>77</td>\n",
       "      <td>GUA</td>\n",
       "      <td>23</td>\n",
       "      <td>0.0</td>\n",
       "      <td>0.0</td>\n",
       "      <td>0.0</td>\n",
       "      <td>0.0</td>\n",
       "      <td>0.000000</td>\n",
       "      <td>1.000000</td>\n",
       "      <td>23.0</td>\n",
       "    </tr>\n",
       "    <tr>\n",
       "      <th>22</th>\n",
       "      <td>148</td>\n",
       "      <td>PHI</td>\n",
       "      <td>27</td>\n",
       "      <td>1.0</td>\n",
       "      <td>1.0</td>\n",
       "      <td>2.0</td>\n",
       "      <td>4.0</td>\n",
       "      <td>0.148148</td>\n",
       "      <td>0.851852</td>\n",
       "      <td>23.0</td>\n",
       "    </tr>\n",
       "    <tr>\n",
       "      <th>99</th>\n",
       "      <td>49</td>\n",
       "      <td>CYP</td>\n",
       "      <td>22</td>\n",
       "      <td>0.0</td>\n",
       "      <td>0.0</td>\n",
       "      <td>0.0</td>\n",
       "      <td>0.0</td>\n",
       "      <td>0.000000</td>\n",
       "      <td>1.000000</td>\n",
       "      <td>22.0</td>\n",
       "    </tr>\n",
       "    <tr>\n",
       "      <th>14</th>\n",
       "      <td>85</td>\n",
       "      <td>INA</td>\n",
       "      <td>27</td>\n",
       "      <td>3.0</td>\n",
       "      <td>1.0</td>\n",
       "      <td>1.0</td>\n",
       "      <td>5.0</td>\n",
       "      <td>0.185185</td>\n",
       "      <td>0.814815</td>\n",
       "      <td>22.0</td>\n",
       "    </tr>\n",
       "    <tr>\n",
       "      <th>74</th>\n",
       "      <td>27</td>\n",
       "      <td>BRN</td>\n",
       "      <td>18</td>\n",
       "      <td>0.0</td>\n",
       "      <td>0.0</td>\n",
       "      <td>1.0</td>\n",
       "      <td>1.0</td>\n",
       "      <td>0.055556</td>\n",
       "      <td>0.944444</td>\n",
       "      <td>17.0</td>\n",
       "    </tr>\n",
       "    <tr>\n",
       "      <th>6</th>\n",
       "      <td>7</td>\n",
       "      <td>ARM</td>\n",
       "      <td>19</td>\n",
       "      <td>2.0</td>\n",
       "      <td>0.0</td>\n",
       "      <td>2.0</td>\n",
       "      <td>4.0</td>\n",
       "      <td>0.210526</td>\n",
       "      <td>0.789474</td>\n",
       "      <td>15.0</td>\n",
       "    </tr>\n",
       "    <tr>\n",
       "      <th>16</th>\n",
       "      <td>100</td>\n",
       "      <td>KGZ</td>\n",
       "      <td>17</td>\n",
       "      <td>1.0</td>\n",
       "      <td>0.0</td>\n",
       "      <td>2.0</td>\n",
       "      <td>3.0</td>\n",
       "      <td>0.176471</td>\n",
       "      <td>0.823529</td>\n",
       "      <td>14.0</td>\n",
       "    </tr>\n",
       "    <tr>\n",
       "      <th>31</th>\n",
       "      <td>13</td>\n",
       "      <td>BAH</td>\n",
       "      <td>16</td>\n",
       "      <td>0.0</td>\n",
       "      <td>2.0</td>\n",
       "      <td>0.0</td>\n",
       "      <td>2.0</td>\n",
       "      <td>0.125000</td>\n",
       "      <td>0.875000</td>\n",
       "      <td>14.0</td>\n",
       "    </tr>\n",
       "    <tr>\n",
       "      <th>27</th>\n",
       "      <td>96</td>\n",
       "      <td>JOR</td>\n",
       "      <td>15</td>\n",
       "      <td>1.0</td>\n",
       "      <td>0.0</td>\n",
       "      <td>1.0</td>\n",
       "      <td>2.0</td>\n",
       "      <td>0.133333</td>\n",
       "      <td>0.866667</td>\n",
       "      <td>13.0</td>\n",
       "    </tr>\n",
       "    <tr>\n",
       "      <th>13</th>\n",
       "      <td>155</td>\n",
       "      <td>QAT</td>\n",
       "      <td>16</td>\n",
       "      <td>1.0</td>\n",
       "      <td>2.0</td>\n",
       "      <td>0.0</td>\n",
       "      <td>3.0</td>\n",
       "      <td>0.187500</td>\n",
       "      <td>0.812500</td>\n",
       "      <td>13.0</td>\n",
       "    </tr>\n",
       "    <tr>\n",
       "      <th>60</th>\n",
       "      <td>39</td>\n",
       "      <td>CIV</td>\n",
       "      <td>12</td>\n",
       "      <td>1.0</td>\n",
       "      <td>0.0</td>\n",
       "      <td>0.0</td>\n",
       "      <td>1.0</td>\n",
       "      <td>0.083333</td>\n",
       "      <td>0.916667</td>\n",
       "      <td>11.0</td>\n",
       "    </tr>\n",
       "    <tr>\n",
       "      <th>53</th>\n",
       "      <td>25</td>\n",
       "      <td>BOT</td>\n",
       "      <td>11</td>\n",
       "      <td>1.0</td>\n",
       "      <td>0.0</td>\n",
       "      <td>0.0</td>\n",
       "      <td>1.0</td>\n",
       "      <td>0.090909</td>\n",
       "      <td>0.909091</td>\n",
       "      <td>10.0</td>\n",
       "    </tr>\n",
       "    <tr>\n",
       "      <th>54</th>\n",
       "      <td>74</td>\n",
       "      <td>GHA</td>\n",
       "      <td>11</td>\n",
       "      <td>1.0</td>\n",
       "      <td>0.0</td>\n",
       "      <td>0.0</td>\n",
       "      <td>1.0</td>\n",
       "      <td>0.090909</td>\n",
       "      <td>0.909091</td>\n",
       "      <td>10.0</td>\n",
       "    </tr>\n",
       "    <tr>\n",
       "      <th>55</th>\n",
       "      <td>134</td>\n",
       "      <td>NAM</td>\n",
       "      <td>11</td>\n",
       "      <td>0.0</td>\n",
       "      <td>0.0</td>\n",
       "      <td>1.0</td>\n",
       "      <td>1.0</td>\n",
       "      <td>0.090909</td>\n",
       "      <td>0.909091</td>\n",
       "      <td>10.0</td>\n",
       "    </tr>\n",
       "    <tr>\n",
       "      <th>49</th>\n",
       "      <td>185</td>\n",
       "      <td>TKM</td>\n",
       "      <td>10</td>\n",
       "      <td>0.0</td>\n",
       "      <td>0.0</td>\n",
       "      <td>1.0</td>\n",
       "      <td>1.0</td>\n",
       "      <td>0.100000</td>\n",
       "      <td>0.900000</td>\n",
       "      <td>9.0</td>\n",
       "    </tr>\n",
       "    <tr>\n",
       "      <th>48</th>\n",
       "      <td>105</td>\n",
       "      <td>KUW</td>\n",
       "      <td>10</td>\n",
       "      <td>1.0</td>\n",
       "      <td>0.0</td>\n",
       "      <td>0.0</td>\n",
       "      <td>1.0</td>\n",
       "      <td>0.100000</td>\n",
       "      <td>0.900000</td>\n",
       "      <td>9.0</td>\n",
       "    </tr>\n",
       "    <tr>\n",
       "      <th>15</th>\n",
       "      <td>103</td>\n",
       "      <td>KOS</td>\n",
       "      <td>11</td>\n",
       "      <td>0.0</td>\n",
       "      <td>2.0</td>\n",
       "      <td>0.0</td>\n",
       "      <td>2.0</td>\n",
       "      <td>0.181818</td>\n",
       "      <td>0.818182</td>\n",
       "      <td>9.0</td>\n",
       "    </tr>\n",
       "    <tr>\n",
       "      <th>33</th>\n",
       "      <td>125</td>\n",
       "      <td>MKD</td>\n",
       "      <td>8</td>\n",
       "      <td>0.0</td>\n",
       "      <td>0.0</td>\n",
       "      <td>1.0</td>\n",
       "      <td>1.0</td>\n",
       "      <td>0.125000</td>\n",
       "      <td>0.875000</td>\n",
       "      <td>7.0</td>\n",
       "    </tr>\n",
       "    <tr>\n",
       "      <th>32</th>\n",
       "      <td>30</td>\n",
       "      <td>BUR</td>\n",
       "      <td>8</td>\n",
       "      <td>1.0</td>\n",
       "      <td>0.0</td>\n",
       "      <td>0.0</td>\n",
       "      <td>1.0</td>\n",
       "      <td>0.125000</td>\n",
       "      <td>0.875000</td>\n",
       "      <td>7.0</td>\n",
       "    </tr>\n",
       "    <tr>\n",
       "      <th>3</th>\n",
       "      <td>63</td>\n",
       "      <td>FIJ</td>\n",
       "      <td>8</td>\n",
       "      <td>1.0</td>\n",
       "      <td>1.0</td>\n",
       "      <td>0.0</td>\n",
       "      <td>2.0</td>\n",
       "      <td>0.250000</td>\n",
       "      <td>0.750000</td>\n",
       "      <td>6.0</td>\n",
       "    </tr>\n",
       "    <tr>\n",
       "      <th>19</th>\n",
       "      <td>180</td>\n",
       "      <td>SYR</td>\n",
       "      <td>6</td>\n",
       "      <td>1.0</td>\n",
       "      <td>0.0</td>\n",
       "      <td>0.0</td>\n",
       "      <td>1.0</td>\n",
       "      <td>0.166667</td>\n",
       "      <td>0.833333</td>\n",
       "      <td>5.0</td>\n",
       "    </tr>\n",
       "    <tr>\n",
       "      <th>18</th>\n",
       "      <td>76</td>\n",
       "      <td>GRN</td>\n",
       "      <td>6</td>\n",
       "      <td>1.0</td>\n",
       "      <td>0.0</td>\n",
       "      <td>0.0</td>\n",
       "      <td>1.0</td>\n",
       "      <td>0.166667</td>\n",
       "      <td>0.833333</td>\n",
       "      <td>5.0</td>\n",
       "    </tr>\n",
       "    <tr>\n",
       "      <th>1</th>\n",
       "      <td>167</td>\n",
       "      <td>SMR</td>\n",
       "      <td>7</td>\n",
       "      <td>2.0</td>\n",
       "      <td>0.0</td>\n",
       "      <td>1.0</td>\n",
       "      <td>3.0</td>\n",
       "      <td>0.428571</td>\n",
       "      <td>0.571429</td>\n",
       "      <td>4.0</td>\n",
       "    </tr>\n",
       "    <tr>\n",
       "      <th>0</th>\n",
       "      <td>19</td>\n",
       "      <td>BER</td>\n",
       "      <td>2</td>\n",
       "      <td>0.0</td>\n",
       "      <td>1.0</td>\n",
       "      <td>0.0</td>\n",
       "      <td>1.0</td>\n",
       "      <td>0.500000</td>\n",
       "      <td>0.500000</td>\n",
       "      <td>1.0</td>\n",
       "    </tr>\n",
       "  </tbody>\n",
       "</table>\n",
       "</div>"
      ],
      "text/plain": [
       "    index  noc  competitors  bronze  gold  silver  medals  medal_ratio  \\\n",
       "5     198  USA          503    33.0  38.0    41.0   112.0     0.222664   \n",
       "24     97  JPN          395    16.0  27.0    14.0    57.0     0.144304   \n",
       "46     73  GER          352    16.0  10.0    11.0    37.0     0.105114   \n",
       "11    156  ROC          355    22.0  20.0    27.0    69.0     0.194366   \n",
       "43     65  FRA          313    11.0  10.0    12.0    33.0     0.105431   \n",
       "34     93  ITA          308    19.0   9.0    10.0    38.0     0.123377   \n",
       "23     10  AUS          316    21.0  18.0     7.0    46.0     0.145570   \n",
       "2      38  CHN          345    18.0  38.0    31.0    87.0     0.252174   \n",
       "56     33  CAN          283    12.0   7.0     6.0    25.0     0.088339   \n",
       "8      69  GBR          320    22.0  22.0    21.0    65.0     0.203125   \n",
       "67     60  ESP          238     6.0   3.0     7.0    16.0     0.067227   \n",
       "52     26  BRA          229     8.0   7.0     6.0    21.0     0.091703   \n",
       "66    152  POL          187     5.0   4.0     4.0    13.0     0.069519   \n",
       "41    102  KOR          188    10.0   6.0     4.0    20.0     0.106383   \n",
       "44    195  UKR          171    11.0   1.0     6.0    18.0     0.105263   \n",
       "10    136  NED          189    14.0  11.0    12.0    37.0     0.195767   \n",
       "37     84  HUN          150     4.0   6.0     7.0    17.0     0.113333   \n",
       "51    175  SUI          137     6.0   3.0     4.0    13.0     0.094891   \n",
       "88    122  MEX          118     4.0   0.0     0.0     4.0     0.033898   \n",
       "87     56  EGY          114     3.0   0.0     1.0     4.0     0.035088   \n",
       "50     50  CZE          115     3.0   4.0     4.0    11.0     0.095652   \n",
       "75     17  BEL          110     2.0   3.0     1.0     6.0     0.054545   \n",
       "45    191  TUR          114     7.0   2.0     3.0    12.0     0.105263   \n",
       "89    158  RSA           99     0.0   1.0     2.0     3.0     0.030303   \n",
       "71     23  BLR          101     2.0   1.0     3.0     6.0     0.059406   \n",
       "61    178  SWE          100     0.0   2.0     6.0     8.0     0.080000   \n",
       "12    142  NZL          114     8.0   7.0     7.0    22.0     0.192982   \n",
       "63     86  IND           93     4.0   1.0     2.0     7.0     0.075269   \n",
       "80     88  IRL           90     2.0   2.0     0.0     4.0     0.044444   \n",
       "62     98  KAZ           92     7.0   0.0     0.0     7.0     0.076087   \n",
       "29    188  TPE           96     6.0   2.0     4.0    12.0     0.125000   \n",
       "77    153  POR           86     2.0   1.0     1.0     4.0     0.046512   \n",
       "59     11  AUT           84     5.0   1.0     1.0     7.0     0.083333   \n",
       "84      6  ARG           77     2.0   0.0     1.0     3.0     0.038961   \n",
       "83     91  ISR           76     2.0   1.0     0.0     3.0     0.039474   \n",
       "26     51  DEN           81     4.0   3.0     4.0    11.0     0.135802   \n",
       "40    140  NOR           75     2.0   4.0     2.0     8.0     0.106667   \n",
       "65     43  COL           69     1.0   0.0     4.0     5.0     0.072464   \n",
       "64    199  UZB           68     2.0   3.0     0.0     5.0     0.073529   \n",
       "79     75  GRE           65     1.0   2.0     0.0     3.0     0.046154   \n",
       "68    157  ROU           62     0.0   1.0     3.0     4.0     0.064516   \n",
       "7      48  CUB           72     5.0   7.0     3.0    15.0     0.208333   \n",
       "35    170  SRB           60     5.0   1.0     1.0     7.0     0.116667   \n",
       "91    114  LTU           52     0.0   0.0     1.0     1.0     0.019231   \n",
       "85    190  TUN           53     0.0   1.0     1.0     2.0     0.037736   \n",
       "20     95  JAM           58     4.0   4.0     1.0     9.0     0.155172   \n",
       "81     64  FIN           48     2.0   0.0     0.0     2.0     0.041667   \n",
       "69     55  ECU           48     0.0   2.0     1.0     3.0     0.062500   \n",
       "21     47  CRO           52     2.0   3.0     3.0     8.0     0.153846   \n",
       "90    117  MAR           45     0.0   1.0     0.0     1.0     0.022222   \n",
       "47    166  SLO           48     1.0   3.0     1.0     5.0     0.104167   \n",
       "58    177  SVK           47     1.0   1.0     2.0     4.0     0.085106   \n",
       "57    123  MGL           47     3.0   0.0     1.0     4.0     0.085106   \n",
       "30     82  HKG           48     3.0   1.0     2.0     6.0     0.125000   \n",
       "42     12  AZE           47     4.0   0.0     1.0     5.0     0.106383   \n",
       "38     29  BUL           46     2.0   2.0     1.0     5.0     0.108696   \n",
       "78    183  THA           43     1.0   1.0     0.0     2.0     0.046512   \n",
       "28     87  IRI           47     2.0   2.0     2.0     6.0     0.127660   \n",
       "9      99  KEN           51     2.0   4.0     4.0    10.0     0.196078   \n",
       "92      2  ALG           40     0.0   0.0     0.0     0.0     0.000000   \n",
       "93    147  PER           39     0.0   0.0     0.0     0.0     0.000000   \n",
       "76    118  MAS           39     1.0   0.0     1.0     2.0     0.051282   \n",
       "94     37  CHI           37     0.0   0.0     0.0     0.0     0.000000   \n",
       "72     61  EST           36     1.0   1.0     0.0     2.0     0.055556   \n",
       "73    138  NGR           36     1.0   0.0     1.0     2.0     0.055556   \n",
       "39     62  ETH           37     2.0   1.0     1.0     4.0     0.108108   \n",
       "36    201  VEN           35     0.0   1.0     3.0     4.0     0.114286   \n",
       "95    189  TTO           30     0.0   0.0     0.0     0.0     0.000000   \n",
       "70    107  LAT           32     1.0   1.0     0.0     2.0     0.062500   \n",
       "96     57  EOR           28     0.0   0.0     0.0     0.0     0.000000   \n",
       "97    163  SGP           27     0.0   0.0     0.0     0.0     0.000000   \n",
       "86    154  PUR           27     0.0   1.0     0.0     1.0     0.037037   \n",
       "4      71  GEO           33     1.0   2.0     5.0     8.0     0.242424   \n",
       "17     54  DOM           30     2.0   0.0     3.0     5.0     0.166667   \n",
       "82    120  MDA           25     1.0   0.0     0.0     1.0     0.040000   \n",
       "25    194  UGA           28     1.0   2.0     1.0     4.0     0.142857   \n",
       "98     77  GUA           23     0.0   0.0     0.0     0.0     0.000000   \n",
       "22    148  PHI           27     1.0   1.0     2.0     4.0     0.148148   \n",
       "99     49  CYP           22     0.0   0.0     0.0     0.0     0.000000   \n",
       "14     85  INA           27     3.0   1.0     1.0     5.0     0.185185   \n",
       "74     27  BRN           18     0.0   0.0     1.0     1.0     0.055556   \n",
       "6       7  ARM           19     2.0   0.0     2.0     4.0     0.210526   \n",
       "16    100  KGZ           17     1.0   0.0     2.0     3.0     0.176471   \n",
       "31     13  BAH           16     0.0   2.0     0.0     2.0     0.125000   \n",
       "27     96  JOR           15     1.0   0.0     1.0     2.0     0.133333   \n",
       "13    155  QAT           16     1.0   2.0     0.0     3.0     0.187500   \n",
       "60     39  CIV           12     1.0   0.0     0.0     1.0     0.083333   \n",
       "53     25  BOT           11     1.0   0.0     0.0     1.0     0.090909   \n",
       "54     74  GHA           11     1.0   0.0     0.0     1.0     0.090909   \n",
       "55    134  NAM           11     0.0   0.0     1.0     1.0     0.090909   \n",
       "49    185  TKM           10     0.0   0.0     1.0     1.0     0.100000   \n",
       "48    105  KUW           10     1.0   0.0     0.0     1.0     0.100000   \n",
       "15    103  KOS           11     0.0   2.0     0.0     2.0     0.181818   \n",
       "33    125  MKD            8     0.0   0.0     1.0     1.0     0.125000   \n",
       "32     30  BUR            8     1.0   0.0     0.0     1.0     0.125000   \n",
       "3      63  FIJ            8     1.0   1.0     0.0     2.0     0.250000   \n",
       "19    180  SYR            6     1.0   0.0     0.0     1.0     0.166667   \n",
       "18     76  GRN            6     1.0   0.0     0.0     1.0     0.166667   \n",
       "1     167  SMR            7     2.0   0.0     1.0     3.0     0.428571   \n",
       "0      19  BER            2     0.0   1.0     0.0     1.0     0.500000   \n",
       "\n",
       "    fail_ratio  blewed_chances  \n",
       "5     0.777336           391.0  \n",
       "24    0.855696           338.0  \n",
       "46    0.894886           315.0  \n",
       "11    0.805634           286.0  \n",
       "43    0.894569           280.0  \n",
       "34    0.876623           270.0  \n",
       "23    0.854430           270.0  \n",
       "2     0.747826           258.0  \n",
       "56    0.911661           258.0  \n",
       "8     0.796875           255.0  \n",
       "67    0.932773           222.0  \n",
       "52    0.908297           208.0  \n",
       "66    0.930481           174.0  \n",
       "41    0.893617           168.0  \n",
       "44    0.894737           153.0  \n",
       "10    0.804233           152.0  \n",
       "37    0.886667           133.0  \n",
       "51    0.905109           124.0  \n",
       "88    0.966102           114.0  \n",
       "87    0.964912           110.0  \n",
       "50    0.904348           104.0  \n",
       "75    0.945455           104.0  \n",
       "45    0.894737           102.0  \n",
       "89    0.969697            96.0  \n",
       "71    0.940594            95.0  \n",
       "61    0.920000            92.0  \n",
       "12    0.807018            92.0  \n",
       "63    0.924731            86.0  \n",
       "80    0.955556            86.0  \n",
       "62    0.923913            85.0  \n",
       "29    0.875000            84.0  \n",
       "77    0.953488            82.0  \n",
       "59    0.916667            77.0  \n",
       "84    0.961039            74.0  \n",
       "83    0.960526            73.0  \n",
       "26    0.864198            70.0  \n",
       "40    0.893333            67.0  \n",
       "65    0.927536            64.0  \n",
       "64    0.926471            63.0  \n",
       "79    0.953846            62.0  \n",
       "68    0.935484            58.0  \n",
       "7     0.791667            57.0  \n",
       "35    0.883333            53.0  \n",
       "91    0.980769            51.0  \n",
       "85    0.962264            51.0  \n",
       "20    0.844828            49.0  \n",
       "81    0.958333            46.0  \n",
       "69    0.937500            45.0  \n",
       "21    0.846154            44.0  \n",
       "90    0.977778            44.0  \n",
       "47    0.895833            43.0  \n",
       "58    0.914894            43.0  \n",
       "57    0.914894            43.0  \n",
       "30    0.875000            42.0  \n",
       "42    0.893617            42.0  \n",
       "38    0.891304            41.0  \n",
       "78    0.953488            41.0  \n",
       "28    0.872340            41.0  \n",
       "9     0.803922            41.0  \n",
       "92    1.000000            40.0  \n",
       "93    1.000000            39.0  \n",
       "76    0.948718            37.0  \n",
       "94    1.000000            37.0  \n",
       "72    0.944444            34.0  \n",
       "73    0.944444            34.0  \n",
       "39    0.891892            33.0  \n",
       "36    0.885714            31.0  \n",
       "95    1.000000            30.0  \n",
       "70    0.937500            30.0  \n",
       "96    1.000000            28.0  \n",
       "97    1.000000            27.0  \n",
       "86    0.962963            26.0  \n",
       "4     0.757576            25.0  \n",
       "17    0.833333            25.0  \n",
       "82    0.960000            24.0  \n",
       "25    0.857143            24.0  \n",
       "98    1.000000            23.0  \n",
       "22    0.851852            23.0  \n",
       "99    1.000000            22.0  \n",
       "14    0.814815            22.0  \n",
       "74    0.944444            17.0  \n",
       "6     0.789474            15.0  \n",
       "16    0.823529            14.0  \n",
       "31    0.875000            14.0  \n",
       "27    0.866667            13.0  \n",
       "13    0.812500            13.0  \n",
       "60    0.916667            11.0  \n",
       "53    0.909091            10.0  \n",
       "54    0.909091            10.0  \n",
       "55    0.909091            10.0  \n",
       "49    0.900000             9.0  \n",
       "48    0.900000             9.0  \n",
       "15    0.818182             9.0  \n",
       "33    0.875000             7.0  \n",
       "32    0.875000             7.0  \n",
       "3     0.750000             6.0  \n",
       "19    0.833333             5.0  \n",
       "18    0.833333             5.0  \n",
       "1     0.571429             4.0  \n",
       "0     0.500000             1.0  "
      ]
     },
     "execution_count": 21,
     "metadata": {},
     "output_type": "execute_result"
    }
   ],
   "source": [
    "vr_2020.sort_values(by='blewed_chances', ascending=False)"
   ]
  },
  {
   "cell_type": "markdown",
   "metadata": {},
   "source": [
    "#### Countries that never won medals that got the closest to winning"
   ]
  },
  {
   "cell_type": "markdown",
   "metadata": {},
   "source": [
    "But what about the countries that never won that got close? Let's take a look at all the 4th and 5th places that could have been the first medals if things have went differently."
   ]
  },
  {
   "cell_type": "code",
   "execution_count": 22,
   "metadata": {
    "scrolled": false
   },
   "outputs": [],
   "source": [
    "almost = df[(df.noc.isin(vr[vr.medals == 0].noc)) &\n",
    "   (df.position.isin([\"4\", \"5\"]))\n",
    "  ]"
   ]
  },
  {
   "cell_type": "code",
   "execution_count": 23,
   "metadata": {},
   "outputs": [
    {
     "data": {
      "text/html": [
       "<div>\n",
       "<style scoped>\n",
       "    .dataframe tbody tr th:only-of-type {\n",
       "        vertical-align: middle;\n",
       "    }\n",
       "\n",
       "    .dataframe tbody tr th {\n",
       "        vertical-align: top;\n",
       "    }\n",
       "\n",
       "    .dataframe thead th {\n",
       "        text-align: right;\n",
       "    }\n",
       "</style>\n",
       "<table border=\"1\" class=\"dataframe\">\n",
       "  <thead>\n",
       "    <tr style=\"text-align: right;\">\n",
       "      <th></th>\n",
       "      <th>index</th>\n",
       "      <th>abbrv</th>\n",
       "      <th>discipline</th>\n",
       "      <th>event</th>\n",
       "      <th>event_id</th>\n",
       "      <th>year</th>\n",
       "      <th>competitor</th>\n",
       "      <th>medal</th>\n",
       "      <th>noc</th>\n",
       "      <th>position</th>\n",
       "    </tr>\n",
       "  </thead>\n",
       "  <tbody>\n",
       "    <tr>\n",
       "      <th>2736</th>\n",
       "      <td>2736.0</td>\n",
       "      <td>WLT</td>\n",
       "      <td>Weightlifting</td>\n",
       "      <td>Middleweight (≤73 kilograms), Men</td>\n",
       "      <td>19002038</td>\n",
       "      <td>2020</td>\n",
       "      <td>Briken Calja</td>\n",
       "      <td>NaN</td>\n",
       "      <td>ALB</td>\n",
       "      <td>4</td>\n",
       "    </tr>\n",
       "    <tr>\n",
       "      <th>2924</th>\n",
       "      <td>2924.0</td>\n",
       "      <td>FTB</td>\n",
       "      <td>Football</td>\n",
       "      <td>Football, Men</td>\n",
       "      <td>359500</td>\n",
       "      <td>2016</td>\n",
       "      <td>Honduras</td>\n",
       "      <td>NaN</td>\n",
       "      <td>HON</td>\n",
       "      <td>4</td>\n",
       "    </tr>\n",
       "    <tr>\n",
       "      <th>22501</th>\n",
       "      <td>23169.0</td>\n",
       "      <td>BOX</td>\n",
       "      <td>Boxing</td>\n",
       "      <td>Light-Middleweight (≤71 kilograms), Men</td>\n",
       "      <td>26792</td>\n",
       "      <td>1996</td>\n",
       "      <td>Rival Cadeau</td>\n",
       "      <td>NaN</td>\n",
       "      <td>SEY</td>\n",
       "      <td>5</td>\n",
       "    </tr>\n",
       "    <tr>\n",
       "      <th>33484</th>\n",
       "      <td>34358.0</td>\n",
       "      <td>FTB</td>\n",
       "      <td>Football</td>\n",
       "      <td>Football, Men</td>\n",
       "      <td>34224</td>\n",
       "      <td>2004</td>\n",
       "      <td>Mali</td>\n",
       "      <td>NaN</td>\n",
       "      <td>MLI</td>\n",
       "      <td>5</td>\n",
       "    </tr>\n",
       "    <tr>\n",
       "      <th>34532</th>\n",
       "      <td>35439.0</td>\n",
       "      <td>WLT</td>\n",
       "      <td>Weightlifting</td>\n",
       "      <td>Lightweight (≤69 kilograms), Men</td>\n",
       "      <td>354308</td>\n",
       "      <td>2016</td>\n",
       "      <td>Briken Calja</td>\n",
       "      <td>NaN</td>\n",
       "      <td>ALB</td>\n",
       "      <td>5</td>\n",
       "    </tr>\n",
       "    <tr>\n",
       "      <th>37425</th>\n",
       "      <td>38355.0</td>\n",
       "      <td>ATH</td>\n",
       "      <td>Athletics</td>\n",
       "      <td>400 metres Hurdles, Men</td>\n",
       "      <td>19000451</td>\n",
       "      <td>2020</td>\n",
       "      <td>Kyron McMaster</td>\n",
       "      <td>NaN</td>\n",
       "      <td>IVB</td>\n",
       "      <td>4</td>\n",
       "    </tr>\n",
       "    <tr>\n",
       "      <th>71935</th>\n",
       "      <td>73157.0</td>\n",
       "      <td>WLT</td>\n",
       "      <td>Weightlifting</td>\n",
       "      <td>Flyweight (≤52 kilograms), Men</td>\n",
       "      <td>29487</td>\n",
       "      <td>1972</td>\n",
       "      <td>Gyi Aung Maung</td>\n",
       "      <td>NaN</td>\n",
       "      <td>MYA</td>\n",
       "      <td>5</td>\n",
       "    </tr>\n",
       "    <tr>\n",
       "      <th>75558</th>\n",
       "      <td>76787.0</td>\n",
       "      <td>WLT</td>\n",
       "      <td>Weightlifting</td>\n",
       "      <td>Flyweight (≤48 kilograms), Women</td>\n",
       "      <td>30233</td>\n",
       "      <td>2000</td>\n",
       "      <td>Win Kay Thi</td>\n",
       "      <td>NaN</td>\n",
       "      <td>MYA</td>\n",
       "      <td>4</td>\n",
       "    </tr>\n",
       "    <tr>\n",
       "      <th>76611</th>\n",
       "      <td>77854.0</td>\n",
       "      <td>WLT</td>\n",
       "      <td>Weightlifting</td>\n",
       "      <td>Featherweight (≤53 kilograms), Women</td>\n",
       "      <td>30242</td>\n",
       "      <td>2000</td>\n",
       "      <td>Win Swe Swe</td>\n",
       "      <td>NaN</td>\n",
       "      <td>MYA</td>\n",
       "      <td>5</td>\n",
       "    </tr>\n",
       "    <tr>\n",
       "      <th>77330</th>\n",
       "      <td>78573.0</td>\n",
       "      <td>WLT</td>\n",
       "      <td>Weightlifting</td>\n",
       "      <td>Middleweight (≤77 kilograms), Men</td>\n",
       "      <td>30188</td>\n",
       "      <td>2000</td>\n",
       "      <td>Ilirian Suli</td>\n",
       "      <td>NaN</td>\n",
       "      <td>ALB</td>\n",
       "      <td>5</td>\n",
       "    </tr>\n",
       "    <tr>\n",
       "      <th>77872</th>\n",
       "      <td>79115.0</td>\n",
       "      <td>CTR</td>\n",
       "      <td>Cycling Track</td>\n",
       "      <td>Points Race, Women</td>\n",
       "      <td>154917</td>\n",
       "      <td>1996</td>\n",
       "      <td>Maureen Kaila</td>\n",
       "      <td>NaN</td>\n",
       "      <td>ESA</td>\n",
       "      <td>5</td>\n",
       "    </tr>\n",
       "    <tr>\n",
       "      <th>78053</th>\n",
       "      <td>79296.0</td>\n",
       "      <td>SAI</td>\n",
       "      <td>Sailing</td>\n",
       "      <td>Two Person Heavyweight Dinghy (Flying Dutchman...</td>\n",
       "      <td>9694</td>\n",
       "      <td>1960</td>\n",
       "      <td>Peri</td>\n",
       "      <td>NaN</td>\n",
       "      <td>RHO</td>\n",
       "      <td>4</td>\n",
       "    </tr>\n",
       "    <tr>\n",
       "      <th>96314</th>\n",
       "      <td>98002.0</td>\n",
       "      <td>ATH</td>\n",
       "      <td>Athletics</td>\n",
       "      <td>Heptathlon, Women</td>\n",
       "      <td>65264</td>\n",
       "      <td>1996</td>\n",
       "      <td>Eunice Barber</td>\n",
       "      <td>NaN</td>\n",
       "      <td>SLE</td>\n",
       "      <td>5</td>\n",
       "    </tr>\n",
       "    <tr>\n",
       "      <th>111874</th>\n",
       "      <td>113829.0</td>\n",
       "      <td>ATH</td>\n",
       "      <td>Athletics</td>\n",
       "      <td>Shot Put, Men</td>\n",
       "      <td>358771</td>\n",
       "      <td>2016</td>\n",
       "      <td>Franck Elemba</td>\n",
       "      <td>NaN</td>\n",
       "      <td>CGO</td>\n",
       "      <td>4</td>\n",
       "    </tr>\n",
       "    <tr>\n",
       "      <th>117887</th>\n",
       "      <td>119922.0</td>\n",
       "      <td>WLT</td>\n",
       "      <td>Weightlifting</td>\n",
       "      <td>Lightweight (≤58 kilograms), Women</td>\n",
       "      <td>263087</td>\n",
       "      <td>2008</td>\n",
       "      <td>Romela Begaj</td>\n",
       "      <td>NaN</td>\n",
       "      <td>ALB</td>\n",
       "      <td>5</td>\n",
       "    </tr>\n",
       "    <tr>\n",
       "      <th>145555</th>\n",
       "      <td>147993.0</td>\n",
       "      <td>BSB</td>\n",
       "      <td>Baseball</td>\n",
       "      <td>Baseball, Men</td>\n",
       "      <td>30737</td>\n",
       "      <td>1996</td>\n",
       "      <td>Nicaragua</td>\n",
       "      <td>NaN</td>\n",
       "      <td>NCA</td>\n",
       "      <td>4</td>\n",
       "    </tr>\n",
       "  </tbody>\n",
       "</table>\n",
       "</div>"
      ],
      "text/plain": [
       "           index abbrv     discipline  \\\n",
       "2736      2736.0   WLT  Weightlifting   \n",
       "2924      2924.0   FTB       Football   \n",
       "22501    23169.0   BOX         Boxing   \n",
       "33484    34358.0   FTB       Football   \n",
       "34532    35439.0   WLT  Weightlifting   \n",
       "37425    38355.0   ATH      Athletics   \n",
       "71935    73157.0   WLT  Weightlifting   \n",
       "75558    76787.0   WLT  Weightlifting   \n",
       "76611    77854.0   WLT  Weightlifting   \n",
       "77330    78573.0   WLT  Weightlifting   \n",
       "77872    79115.0   CTR  Cycling Track   \n",
       "78053    79296.0   SAI        Sailing   \n",
       "96314    98002.0   ATH      Athletics   \n",
       "111874  113829.0   ATH      Athletics   \n",
       "117887  119922.0   WLT  Weightlifting   \n",
       "145555  147993.0   BSB       Baseball   \n",
       "\n",
       "                                                    event  event_id  year  \\\n",
       "2736                    Middleweight (≤73 kilograms), Men  19002038  2020   \n",
       "2924                                        Football, Men    359500  2016   \n",
       "22501             Light-Middleweight (≤71 kilograms), Men     26792  1996   \n",
       "33484                                       Football, Men     34224  2004   \n",
       "34532                    Lightweight (≤69 kilograms), Men    354308  2016   \n",
       "37425                             400 metres Hurdles, Men  19000451  2020   \n",
       "71935                      Flyweight (≤52 kilograms), Men     29487  1972   \n",
       "75558                    Flyweight (≤48 kilograms), Women     30233  2000   \n",
       "76611                Featherweight (≤53 kilograms), Women     30242  2000   \n",
       "77330                   Middleweight (≤77 kilograms), Men     30188  2000   \n",
       "77872                                  Points Race, Women    154917  1996   \n",
       "78053   Two Person Heavyweight Dinghy (Flying Dutchman...      9694  1960   \n",
       "96314                                   Heptathlon, Women     65264  1996   \n",
       "111874                                      Shot Put, Men    358771  2016   \n",
       "117887                 Lightweight (≤58 kilograms), Women    263087  2008   \n",
       "145555                                      Baseball, Men     30737  1996   \n",
       "\n",
       "            competitor medal  noc position  \n",
       "2736      Briken Calja   NaN  ALB        4  \n",
       "2924          Honduras   NaN  HON        4  \n",
       "22501     Rival Cadeau   NaN  SEY        5  \n",
       "33484             Mali   NaN  MLI        5  \n",
       "34532     Briken Calja   NaN  ALB        5  \n",
       "37425   Kyron McMaster   NaN  IVB        4  \n",
       "71935   Gyi Aung Maung   NaN  MYA        5  \n",
       "75558      Win Kay Thi   NaN  MYA        4  \n",
       "76611      Win Swe Swe   NaN  MYA        5  \n",
       "77330     Ilirian Suli   NaN  ALB        5  \n",
       "77872    Maureen Kaila   NaN  ESA        5  \n",
       "78053             Peri   NaN  RHO        4  \n",
       "96314    Eunice Barber   NaN  SLE        5  \n",
       "111874   Franck Elemba   NaN  CGO        4  \n",
       "117887    Romela Begaj   NaN  ALB        5  \n",
       "145555       Nicaragua   NaN  NCA        4  "
      ]
     },
     "execution_count": 23,
     "metadata": {},
     "output_type": "execute_result"
    }
   ],
   "source": [
    "almost"
   ]
  },
  {
   "cell_type": "markdown",
   "metadata": {},
   "source": [
    "We can add to this list the British Virgin Islands athlete that finished 4th in 2020's Men's 400m hurdles: Kyron McMaster."
   ]
  },
  {
   "cell_type": "markdown",
   "metadata": {},
   "source": [
    "And what about the country that won more 4th places ever?"
   ]
  },
  {
   "cell_type": "code",
   "execution_count": 46,
   "metadata": {
    "scrolled": false
   },
   "outputs": [],
   "source": [
    "df4000 = df[df.position==\"4\"].groupby(\"noc\").count().event.sort_values(ascending=False).head(20)\n",
    "df4000\n",
    "\n",
    "df4000.to_csv('4thplace.csv', index = True )"
   ]
  },
  {
   "cell_type": "markdown",
   "metadata": {},
   "source": [
    "Not much to see, to be fair. This ressembles closely the all-time medal table."
   ]
  },
  {
   "cell_type": "markdown",
   "metadata": {},
   "source": [
    "#### Nations that spend the most time competing without winning"
   ]
  },
  {
   "cell_type": "code",
   "execution_count": 47,
   "metadata": {},
   "outputs": [],
   "source": [
    "def elapsed_time(df):\n",
    "\n",
    "    intervals = []\n",
    "        \n",
    "    medal_counts =  df.groupby(['noc', 'year']).count().unstack(fill_value=0).stack().reset_index()\n",
    "    medal_counts = medal_counts[medal_counts.event > 0] # Removes competitions country wasn't part of\n",
    "    medal_counts = medal_counts[[\"noc\", \"year\", \"medal\"]]\n",
    "    medal_counts[\"won_medals\"] = np.where(medal_counts.medal > 0 , True, False)\n",
    "    \n",
    "    \n",
    "    #display(medal_counts[medal_counts.noc=='ANG'])\n",
    "\n",
    "    for noc in medal_counts.noc.unique():\n",
    "        \n",
    "        \n",
    "        beginning = None\n",
    "        end = None\n",
    "        last_row = False\n",
    "        subset = medal_counts[medal_counts.noc==noc].reset_index()\n",
    "        \n",
    "        # If nation won a medal at any point in time, we want to ignore it\n",
    "        if subset.medal.sum() > 0:\n",
    "            continue\n",
    "        \n",
    "        for i, (index, row) in enumerate(subset.iterrows()):\n",
    "            \n",
    "            if i == subset.shape[0] - 1:\n",
    "                last_row = True\n",
    "                     \n",
    "            # Start counting at the first games with no medals\n",
    "            if row.won_medals is False and beginning is None:\n",
    "                beginning = row.year\n",
    "                \n",
    "            # Stop at the first game with medals after those\n",
    "            if row.won_medals is True and beginning is not None:\n",
    "                end = row.year\n",
    "            \n",
    "            # Add after the end of the interval\n",
    "            if beginning is not None and end is not None:\n",
    "                interval = { \"noc\": noc, \"beginning\": beginning, \"end\": end, \"span\": end - beginning}\n",
    "                intervals.append(interval)\n",
    "                beginning = None\n",
    "                end = None\n",
    "                \n",
    "            # If the country never won, add it too\n",
    "            if beginning is not None and end is None and last_row is True:\n",
    "                end = 2024\n",
    "                interval = { \"noc\": noc, \"beginning\": beginning, \"end\": end, \"span\": end - beginning}\n",
    "                intervals.append(interval)\n",
    "                beginning = None\n",
    "                end = None\n",
    "\n",
    "            \n",
    "        \n",
    "    return intervals"
   ]
  },
  {
   "cell_type": "code",
   "execution_count": 48,
   "metadata": {
    "scrolled": false
   },
   "outputs": [],
   "source": [
    "et = pd.DataFrame(elapsed_time(df)).sort_values(by='span', ascending=False)"
   ]
  },
  {
   "cell_type": "code",
   "execution_count": 49,
   "metadata": {},
   "outputs": [],
   "source": [
    "# Removes some countries that now compete onder other names\n",
    "# or that competed as part of other nations (eg USSR)\n",
    "et = et[~et.noc.isin(['CHI ', 'BOH', 'MIX', 'SRB', 'UNK', 'SAA', 'RUS', 'LTU', 'NBO', 'RHO', 'CHN'])]"
   ]
  },
  {
   "cell_type": "code",
   "execution_count": 50,
   "metadata": {},
   "outputs": [],
   "source": [
    "et = et[et.end==2024]"
   ]
  },
  {
   "cell_type": "code",
   "execution_count": 52,
   "metadata": {},
   "outputs": [
    {
     "data": {
      "text/html": [
       "<div>\n",
       "<style scoped>\n",
       "    .dataframe tbody tr th:only-of-type {\n",
       "        vertical-align: middle;\n",
       "    }\n",
       "\n",
       "    .dataframe tbody tr th {\n",
       "        vertical-align: top;\n",
       "    }\n",
       "\n",
       "    .dataframe thead th {\n",
       "        text-align: right;\n",
       "    }\n",
       "</style>\n",
       "<table border=\"1\" class=\"dataframe\">\n",
       "  <thead>\n",
       "    <tr style=\"text-align: right;\">\n",
       "      <th></th>\n",
       "      <th>noc</th>\n",
       "      <th>beginning</th>\n",
       "      <th>end</th>\n",
       "      <th>span</th>\n",
       "    </tr>\n",
       "  </thead>\n",
       "  <tbody>\n",
       "    <tr>\n",
       "      <th>48</th>\n",
       "      <td>MON</td>\n",
       "      <td>1920</td>\n",
       "      <td>2024</td>\n",
       "      <td>104</td>\n",
       "    </tr>\n",
       "    <tr>\n",
       "      <th>47</th>\n",
       "      <td>MLT</td>\n",
       "      <td>1928</td>\n",
       "      <td>2024</td>\n",
       "      <td>96</td>\n",
       "    </tr>\n",
       "    <tr>\n",
       "      <th>40</th>\n",
       "      <td>LIE</td>\n",
       "      <td>1936</td>\n",
       "      <td>2024</td>\n",
       "      <td>88</td>\n",
       "    </tr>\n",
       "    <tr>\n",
       "      <th>11</th>\n",
       "      <td>BOL</td>\n",
       "      <td>1936</td>\n",
       "      <td>2024</td>\n",
       "      <td>88</td>\n",
       "    </tr>\n",
       "    <tr>\n",
       "      <th>50</th>\n",
       "      <td>MYA</td>\n",
       "      <td>1948</td>\n",
       "      <td>2024</td>\n",
       "      <td>76</td>\n",
       "    </tr>\n",
       "    <tr>\n",
       "      <th>74</th>\n",
       "      <td>VNM</td>\n",
       "      <td>1952</td>\n",
       "      <td>2024</td>\n",
       "      <td>72</td>\n",
       "    </tr>\n",
       "    <tr>\n",
       "      <th>37</th>\n",
       "      <td>LBR</td>\n",
       "      <td>1956</td>\n",
       "      <td>2024</td>\n",
       "      <td>68</td>\n",
       "    </tr>\n",
       "    <tr>\n",
       "      <th>42</th>\n",
       "      <td>MAL</td>\n",
       "      <td>1956</td>\n",
       "      <td>2024</td>\n",
       "      <td>68</td>\n",
       "    </tr>\n",
       "    <tr>\n",
       "      <th>66</th>\n",
       "      <td>SOM</td>\n",
       "      <td>1960</td>\n",
       "      <td>2024</td>\n",
       "      <td>64</td>\n",
       "    </tr>\n",
       "    <tr>\n",
       "      <th>53</th>\n",
       "      <td>NEP</td>\n",
       "      <td>1964</td>\n",
       "      <td>2024</td>\n",
       "      <td>60</td>\n",
       "    </tr>\n",
       "    <tr>\n",
       "      <th>36</th>\n",
       "      <td>LBA</td>\n",
       "      <td>1964</td>\n",
       "      <td>2024</td>\n",
       "      <td>60</td>\n",
       "    </tr>\n",
       "    <tr>\n",
       "      <th>14</th>\n",
       "      <td>CAM</td>\n",
       "      <td>1964</td>\n",
       "      <td>2024</td>\n",
       "      <td>60</td>\n",
       "    </tr>\n",
       "    <tr>\n",
       "      <th>16</th>\n",
       "      <td>CGO</td>\n",
       "      <td>1964</td>\n",
       "      <td>2024</td>\n",
       "      <td>60</td>\n",
       "    </tr>\n",
       "    <tr>\n",
       "      <th>17</th>\n",
       "      <td>CHA</td>\n",
       "      <td>1964</td>\n",
       "      <td>2024</td>\n",
       "      <td>60</td>\n",
       "    </tr>\n",
       "    <tr>\n",
       "      <th>46</th>\n",
       "      <td>MLI</td>\n",
       "      <td>1964</td>\n",
       "      <td>2024</td>\n",
       "      <td>60</td>\n",
       "    </tr>\n",
       "  </tbody>\n",
       "</table>\n",
       "</div>"
      ],
      "text/plain": [
       "    noc  beginning   end  span\n",
       "48  MON       1920  2024   104\n",
       "47  MLT       1928  2024    96\n",
       "40  LIE       1936  2024    88\n",
       "11  BOL       1936  2024    88\n",
       "50  MYA       1948  2024    76\n",
       "74  VNM       1952  2024    72\n",
       "37  LBR       1956  2024    68\n",
       "42  MAL       1956  2024    68\n",
       "66  SOM       1960  2024    64\n",
       "53  NEP       1964  2024    60\n",
       "36  LBA       1964  2024    60\n",
       "14  CAM       1964  2024    60\n",
       "16  CGO       1964  2024    60\n",
       "17  CHA       1964  2024    60\n",
       "46  MLI       1964  2024    60"
      ]
     },
     "execution_count": 52,
     "metadata": {},
     "output_type": "execute_result"
    }
   ],
   "source": [
    "et = et.head(15)\n",
    "et"
   ]
  },
  {
   "cell_type": "code",
   "execution_count": 30,
   "metadata": {},
   "outputs": [],
   "source": [
    "# Plots!\n",
    "def plot_timespan(df, xrange=[1896, 2024]):\n",
    "\n",
    "    # Creates the figure\n",
    "    fig = go.Figure()\n",
    "    \n",
    "    df = df.sort_values(by='span')\n",
    "    \n",
    "    height = 600\n",
    "    width = 620\n",
    "    fig.update_layout(height=height, width=800)\n",
    "\n",
    "    \n",
    "    # Add lollipop 'bars'\n",
    "    # point a -> % medals\n",
    "    # point b -> % athletes\n",
    "    x_vals = []\n",
    "    \n",
    "    nocs = df.noc\n",
    "    beginnings = df.beginning\n",
    "    ends = df.end\n",
    "    for noc,  beginning, end in zip(nocs, beginnings, ends):\n",
    "        fig.add_trace(go.Scatter(y=[noc, noc],\n",
    "                x=[beginning, end],\n",
    "                mode='lines',\n",
    "                line=dict(color=light_blue,\n",
    "                         width=3),\n",
    "                showlegend=False))\n",
    "        \n",
    "        \n",
    "\n",
    "            \n",
    "    # Start\n",
    "    fig.add_trace(go.Scatter(y=df.noc,\n",
    "                    x=df.beginning,\n",
    "                    mode='markers+text',\n",
    "                    textposition=\"middle left\",\n",
    "                    text=df.beginning,\n",
    "                    line_shape='linear',\n",
    "                    marker=dict(size=8, \n",
    "                                color=light_blue,\n",
    "                                line=dict(width=2)),\n",
    "                    showlegend=False))\n",
    "    \n",
    "    \n",
    "    # End\n",
    "    fig.add_trace(go.Scatter(y=df[df.end!=2024].noc,\n",
    "                    x=df[df.end!=2024].end,\n",
    "                    mode='markers',\n",
    "                    line_shape='linear',\n",
    "                    marker=dict(size=8, \n",
    "                                color=light_blue,\n",
    "                                line=dict(width=2)\n",
    "                    ),\n",
    "                    showlegend=False))\n",
    "    \n",
    "    \n",
    "    # Adds a 'now' line\n",
    "    y = [df.iloc[0].noc, df.iloc[-1].noc]\n",
    "    fig.add_trace(go.Scatter(y=y, \n",
    "                             x=[2020,2020],\n",
    "                             mode='lines',\n",
    "                             showlegend=False,\n",
    "                             marker_color=highlight_gray,\n",
    "                             line=dict(width=3)))\n",
    "    \n",
    "        \n",
    "    \n",
    "    fig.update_yaxes(visible=True, \n",
    "         showgrid=False,\n",
    "         gridcolor=chart_gray,\n",
    "         zeroline=False,\n",
    "    )\n",
    "\n",
    "\n",
    "\n",
    "\n",
    "    fig.update_xaxes(\n",
    "        range=xrange,\n",
    "        showgrid=True,\n",
    "        tickvals=[1896, 2020],\n",
    "#         tickvals=[1896, 1900, 1904, 1908, 1912, 1916, 1920, 1924, 1928, 1932, \n",
    "#                    1936, 1940, 1944, 1948, 1952, 1956, 1960, 1964, 1968, 1972,\n",
    "#                    1976, 1980, 1984, 1988, 1992, 1996, 2000, 2004, 2008, 2012,\n",
    "#                    2016, 2020],\n",
    "        tickfont=dict(family='Noto Sans', size=12),\n",
    "        gridcolor=chart_gray,\n",
    "        zeroline=False,\n",
    "        zerolinecolor=chart_gray,\n",
    "    )\n",
    "    \n",
    "    \n",
    "    fig.update_layout(\n",
    "        title=\"\",\n",
    "        xaxis_title=\"\",\n",
    "        yaxis_title=\"\",\n",
    "        paper_bgcolor=bg_gray,\n",
    "        plot_bgcolor=bg_gray,\n",
    "        margin=dict(pad=30),\n",
    "    )\n",
    "\n",
    "    fig.update_yaxes(visible=True,\n",
    "         showgrid=False,\n",
    "         tickfont=dict(family='Noto Sans', size=12),\n",
    "         gridcolor=chart_gray,\n",
    "         zeroline=False,\n",
    "    )\n",
    "\n",
    "\n",
    "\n",
    "        \n",
    "\n",
    "    fig.show()\n",
    "    \n",
    "    fig.write_image(f\"../output/time-without-medal.svg\")"
   ]
  },
  {
   "cell_type": "code",
   "execution_count": 31,
   "metadata": {
    "scrolled": false
   },
   "outputs": [
    {
     "data": {
      "application/vnd.plotly.v1+json": {
       "config": {
        "plotlyServerURL": "https://plot.ly"
       },
       "data": [
        {
         "line": {
          "color": "#00a5ff",
          "width": 3
         },
         "mode": "lines",
         "showlegend": false,
         "type": "scatter",
         "x": [
          1964,
          2024
         ],
         "y": [
          "NEP",
          "NEP"
         ]
        },
        {
         "line": {
          "color": "#00a5ff",
          "width": 3
         },
         "mode": "lines",
         "showlegend": false,
         "type": "scatter",
         "x": [
          1964,
          2024
         ],
         "y": [
          "LBA",
          "LBA"
         ]
        },
        {
         "line": {
          "color": "#00a5ff",
          "width": 3
         },
         "mode": "lines",
         "showlegend": false,
         "type": "scatter",
         "x": [
          1964,
          2024
         ],
         "y": [
          "CAM",
          "CAM"
         ]
        },
        {
         "line": {
          "color": "#00a5ff",
          "width": 3
         },
         "mode": "lines",
         "showlegend": false,
         "type": "scatter",
         "x": [
          1964,
          2024
         ],
         "y": [
          "CGO",
          "CGO"
         ]
        },
        {
         "line": {
          "color": "#00a5ff",
          "width": 3
         },
         "mode": "lines",
         "showlegend": false,
         "type": "scatter",
         "x": [
          1964,
          2024
         ],
         "y": [
          "CHA",
          "CHA"
         ]
        },
        {
         "line": {
          "color": "#00a5ff",
          "width": 3
         },
         "mode": "lines",
         "showlegend": false,
         "type": "scatter",
         "x": [
          1964,
          2024
         ],
         "y": [
          "MLI",
          "MLI"
         ]
        },
        {
         "line": {
          "color": "#00a5ff",
          "width": 3
         },
         "mode": "lines",
         "showlegend": false,
         "type": "scatter",
         "x": [
          1960,
          2024
         ],
         "y": [
          "SOM",
          "SOM"
         ]
        },
        {
         "line": {
          "color": "#00a5ff",
          "width": 3
         },
         "mode": "lines",
         "showlegend": false,
         "type": "scatter",
         "x": [
          1956,
          2024
         ],
         "y": [
          "LBR",
          "LBR"
         ]
        },
        {
         "line": {
          "color": "#00a5ff",
          "width": 3
         },
         "mode": "lines",
         "showlegend": false,
         "type": "scatter",
         "x": [
          1956,
          2024
         ],
         "y": [
          "MAL",
          "MAL"
         ]
        },
        {
         "line": {
          "color": "#00a5ff",
          "width": 3
         },
         "mode": "lines",
         "showlegend": false,
         "type": "scatter",
         "x": [
          1952,
          2024
         ],
         "y": [
          "VNM",
          "VNM"
         ]
        },
        {
         "line": {
          "color": "#00a5ff",
          "width": 3
         },
         "mode": "lines",
         "showlegend": false,
         "type": "scatter",
         "x": [
          1948,
          2024
         ],
         "y": [
          "MYA",
          "MYA"
         ]
        },
        {
         "line": {
          "color": "#00a5ff",
          "width": 3
         },
         "mode": "lines",
         "showlegend": false,
         "type": "scatter",
         "x": [
          1936,
          2024
         ],
         "y": [
          "LIE",
          "LIE"
         ]
        },
        {
         "line": {
          "color": "#00a5ff",
          "width": 3
         },
         "mode": "lines",
         "showlegend": false,
         "type": "scatter",
         "x": [
          1936,
          2024
         ],
         "y": [
          "BOL",
          "BOL"
         ]
        },
        {
         "line": {
          "color": "#00a5ff",
          "width": 3
         },
         "mode": "lines",
         "showlegend": false,
         "type": "scatter",
         "x": [
          1928,
          2024
         ],
         "y": [
          "MLT",
          "MLT"
         ]
        },
        {
         "line": {
          "color": "#00a5ff",
          "width": 3
         },
         "mode": "lines",
         "showlegend": false,
         "type": "scatter",
         "x": [
          1920,
          2024
         ],
         "y": [
          "MON",
          "MON"
         ]
        },
        {
         "line": {
          "shape": "linear"
         },
         "marker": {
          "color": "#00a5ff",
          "line": {
           "width": 2
          },
          "size": 8
         },
         "mode": "markers+text",
         "showlegend": false,
         "text": [
          1964,
          1964,
          1964,
          1964,
          1964,
          1964,
          1960,
          1956,
          1956,
          1952,
          1948,
          1936,
          1936,
          1928,
          1920
         ],
         "textposition": "middle left",
         "type": "scatter",
         "x": [
          1964,
          1964,
          1964,
          1964,
          1964,
          1964,
          1960,
          1956,
          1956,
          1952,
          1948,
          1936,
          1936,
          1928,
          1920
         ],
         "y": [
          "NEP",
          "LBA",
          "CAM",
          "CGO",
          "CHA",
          "MLI",
          "SOM",
          "LBR",
          "MAL",
          "VNM",
          "MYA",
          "LIE",
          "BOL",
          "MLT",
          "MON"
         ]
        },
        {
         "line": {
          "shape": "linear"
         },
         "marker": {
          "color": "#00a5ff",
          "line": {
           "width": 2
          },
          "size": 8
         },
         "mode": "markers",
         "showlegend": false,
         "type": "scatter",
         "x": [],
         "y": []
        },
        {
         "line": {
          "width": 3
         },
         "marker": {
          "color": "#7f8891"
         },
         "mode": "lines",
         "showlegend": false,
         "type": "scatter",
         "x": [
          2020,
          2020
         ],
         "y": [
          "NEP",
          "MON"
         ]
        }
       ],
       "layout": {
        "height": 600,
        "margin": {
         "pad": 30
        },
        "paper_bgcolor": "#f1f3f5",
        "plot_bgcolor": "#f1f3f5",
        "template": {
         "data": {
          "bar": [
           {
            "error_x": {
             "color": "#2a3f5f"
            },
            "error_y": {
             "color": "#2a3f5f"
            },
            "marker": {
             "line": {
              "color": "#E5ECF6",
              "width": 0.5
             }
            },
            "type": "bar"
           }
          ],
          "barpolar": [
           {
            "marker": {
             "line": {
              "color": "#E5ECF6",
              "width": 0.5
             }
            },
            "type": "barpolar"
           }
          ],
          "carpet": [
           {
            "aaxis": {
             "endlinecolor": "#2a3f5f",
             "gridcolor": "white",
             "linecolor": "white",
             "minorgridcolor": "white",
             "startlinecolor": "#2a3f5f"
            },
            "baxis": {
             "endlinecolor": "#2a3f5f",
             "gridcolor": "white",
             "linecolor": "white",
             "minorgridcolor": "white",
             "startlinecolor": "#2a3f5f"
            },
            "type": "carpet"
           }
          ],
          "choropleth": [
           {
            "colorbar": {
             "outlinewidth": 0,
             "ticks": ""
            },
            "type": "choropleth"
           }
          ],
          "contour": [
           {
            "colorbar": {
             "outlinewidth": 0,
             "ticks": ""
            },
            "colorscale": [
             [
              0,
              "#0d0887"
             ],
             [
              0.1111111111111111,
              "#46039f"
             ],
             [
              0.2222222222222222,
              "#7201a8"
             ],
             [
              0.3333333333333333,
              "#9c179e"
             ],
             [
              0.4444444444444444,
              "#bd3786"
             ],
             [
              0.5555555555555556,
              "#d8576b"
             ],
             [
              0.6666666666666666,
              "#ed7953"
             ],
             [
              0.7777777777777778,
              "#fb9f3a"
             ],
             [
              0.8888888888888888,
              "#fdca26"
             ],
             [
              1,
              "#f0f921"
             ]
            ],
            "type": "contour"
           }
          ],
          "contourcarpet": [
           {
            "colorbar": {
             "outlinewidth": 0,
             "ticks": ""
            },
            "type": "contourcarpet"
           }
          ],
          "heatmap": [
           {
            "colorbar": {
             "outlinewidth": 0,
             "ticks": ""
            },
            "colorscale": [
             [
              0,
              "#0d0887"
             ],
             [
              0.1111111111111111,
              "#46039f"
             ],
             [
              0.2222222222222222,
              "#7201a8"
             ],
             [
              0.3333333333333333,
              "#9c179e"
             ],
             [
              0.4444444444444444,
              "#bd3786"
             ],
             [
              0.5555555555555556,
              "#d8576b"
             ],
             [
              0.6666666666666666,
              "#ed7953"
             ],
             [
              0.7777777777777778,
              "#fb9f3a"
             ],
             [
              0.8888888888888888,
              "#fdca26"
             ],
             [
              1,
              "#f0f921"
             ]
            ],
            "type": "heatmap"
           }
          ],
          "heatmapgl": [
           {
            "colorbar": {
             "outlinewidth": 0,
             "ticks": ""
            },
            "colorscale": [
             [
              0,
              "#0d0887"
             ],
             [
              0.1111111111111111,
              "#46039f"
             ],
             [
              0.2222222222222222,
              "#7201a8"
             ],
             [
              0.3333333333333333,
              "#9c179e"
             ],
             [
              0.4444444444444444,
              "#bd3786"
             ],
             [
              0.5555555555555556,
              "#d8576b"
             ],
             [
              0.6666666666666666,
              "#ed7953"
             ],
             [
              0.7777777777777778,
              "#fb9f3a"
             ],
             [
              0.8888888888888888,
              "#fdca26"
             ],
             [
              1,
              "#f0f921"
             ]
            ],
            "type": "heatmapgl"
           }
          ],
          "histogram": [
           {
            "marker": {
             "colorbar": {
              "outlinewidth": 0,
              "ticks": ""
             }
            },
            "type": "histogram"
           }
          ],
          "histogram2d": [
           {
            "colorbar": {
             "outlinewidth": 0,
             "ticks": ""
            },
            "colorscale": [
             [
              0,
              "#0d0887"
             ],
             [
              0.1111111111111111,
              "#46039f"
             ],
             [
              0.2222222222222222,
              "#7201a8"
             ],
             [
              0.3333333333333333,
              "#9c179e"
             ],
             [
              0.4444444444444444,
              "#bd3786"
             ],
             [
              0.5555555555555556,
              "#d8576b"
             ],
             [
              0.6666666666666666,
              "#ed7953"
             ],
             [
              0.7777777777777778,
              "#fb9f3a"
             ],
             [
              0.8888888888888888,
              "#fdca26"
             ],
             [
              1,
              "#f0f921"
             ]
            ],
            "type": "histogram2d"
           }
          ],
          "histogram2dcontour": [
           {
            "colorbar": {
             "outlinewidth": 0,
             "ticks": ""
            },
            "colorscale": [
             [
              0,
              "#0d0887"
             ],
             [
              0.1111111111111111,
              "#46039f"
             ],
             [
              0.2222222222222222,
              "#7201a8"
             ],
             [
              0.3333333333333333,
              "#9c179e"
             ],
             [
              0.4444444444444444,
              "#bd3786"
             ],
             [
              0.5555555555555556,
              "#d8576b"
             ],
             [
              0.6666666666666666,
              "#ed7953"
             ],
             [
              0.7777777777777778,
              "#fb9f3a"
             ],
             [
              0.8888888888888888,
              "#fdca26"
             ],
             [
              1,
              "#f0f921"
             ]
            ],
            "type": "histogram2dcontour"
           }
          ],
          "mesh3d": [
           {
            "colorbar": {
             "outlinewidth": 0,
             "ticks": ""
            },
            "type": "mesh3d"
           }
          ],
          "parcoords": [
           {
            "line": {
             "colorbar": {
              "outlinewidth": 0,
              "ticks": ""
             }
            },
            "type": "parcoords"
           }
          ],
          "pie": [
           {
            "automargin": true,
            "type": "pie"
           }
          ],
          "scatter": [
           {
            "marker": {
             "colorbar": {
              "outlinewidth": 0,
              "ticks": ""
             }
            },
            "type": "scatter"
           }
          ],
          "scatter3d": [
           {
            "line": {
             "colorbar": {
              "outlinewidth": 0,
              "ticks": ""
             }
            },
            "marker": {
             "colorbar": {
              "outlinewidth": 0,
              "ticks": ""
             }
            },
            "type": "scatter3d"
           }
          ],
          "scattercarpet": [
           {
            "marker": {
             "colorbar": {
              "outlinewidth": 0,
              "ticks": ""
             }
            },
            "type": "scattercarpet"
           }
          ],
          "scattergeo": [
           {
            "marker": {
             "colorbar": {
              "outlinewidth": 0,
              "ticks": ""
             }
            },
            "type": "scattergeo"
           }
          ],
          "scattergl": [
           {
            "marker": {
             "colorbar": {
              "outlinewidth": 0,
              "ticks": ""
             }
            },
            "type": "scattergl"
           }
          ],
          "scattermapbox": [
           {
            "marker": {
             "colorbar": {
              "outlinewidth": 0,
              "ticks": ""
             }
            },
            "type": "scattermapbox"
           }
          ],
          "scatterpolar": [
           {
            "marker": {
             "colorbar": {
              "outlinewidth": 0,
              "ticks": ""
             }
            },
            "type": "scatterpolar"
           }
          ],
          "scatterpolargl": [
           {
            "marker": {
             "colorbar": {
              "outlinewidth": 0,
              "ticks": ""
             }
            },
            "type": "scatterpolargl"
           }
          ],
          "scatterternary": [
           {
            "marker": {
             "colorbar": {
              "outlinewidth": 0,
              "ticks": ""
             }
            },
            "type": "scatterternary"
           }
          ],
          "surface": [
           {
            "colorbar": {
             "outlinewidth": 0,
             "ticks": ""
            },
            "colorscale": [
             [
              0,
              "#0d0887"
             ],
             [
              0.1111111111111111,
              "#46039f"
             ],
             [
              0.2222222222222222,
              "#7201a8"
             ],
             [
              0.3333333333333333,
              "#9c179e"
             ],
             [
              0.4444444444444444,
              "#bd3786"
             ],
             [
              0.5555555555555556,
              "#d8576b"
             ],
             [
              0.6666666666666666,
              "#ed7953"
             ],
             [
              0.7777777777777778,
              "#fb9f3a"
             ],
             [
              0.8888888888888888,
              "#fdca26"
             ],
             [
              1,
              "#f0f921"
             ]
            ],
            "type": "surface"
           }
          ],
          "table": [
           {
            "cells": {
             "fill": {
              "color": "#EBF0F8"
             },
             "line": {
              "color": "white"
             }
            },
            "header": {
             "fill": {
              "color": "#C8D4E3"
             },
             "line": {
              "color": "white"
             }
            },
            "type": "table"
           }
          ]
         },
         "layout": {
          "annotationdefaults": {
           "arrowcolor": "#2a3f5f",
           "arrowhead": 0,
           "arrowwidth": 1
          },
          "autotypenumbers": "strict",
          "coloraxis": {
           "colorbar": {
            "outlinewidth": 0,
            "ticks": ""
           }
          },
          "colorscale": {
           "diverging": [
            [
             0,
             "#8e0152"
            ],
            [
             0.1,
             "#c51b7d"
            ],
            [
             0.2,
             "#de77ae"
            ],
            [
             0.3,
             "#f1b6da"
            ],
            [
             0.4,
             "#fde0ef"
            ],
            [
             0.5,
             "#f7f7f7"
            ],
            [
             0.6,
             "#e6f5d0"
            ],
            [
             0.7,
             "#b8e186"
            ],
            [
             0.8,
             "#7fbc41"
            ],
            [
             0.9,
             "#4d9221"
            ],
            [
             1,
             "#276419"
            ]
           ],
           "sequential": [
            [
             0,
             "#0d0887"
            ],
            [
             0.1111111111111111,
             "#46039f"
            ],
            [
             0.2222222222222222,
             "#7201a8"
            ],
            [
             0.3333333333333333,
             "#9c179e"
            ],
            [
             0.4444444444444444,
             "#bd3786"
            ],
            [
             0.5555555555555556,
             "#d8576b"
            ],
            [
             0.6666666666666666,
             "#ed7953"
            ],
            [
             0.7777777777777778,
             "#fb9f3a"
            ],
            [
             0.8888888888888888,
             "#fdca26"
            ],
            [
             1,
             "#f0f921"
            ]
           ],
           "sequentialminus": [
            [
             0,
             "#0d0887"
            ],
            [
             0.1111111111111111,
             "#46039f"
            ],
            [
             0.2222222222222222,
             "#7201a8"
            ],
            [
             0.3333333333333333,
             "#9c179e"
            ],
            [
             0.4444444444444444,
             "#bd3786"
            ],
            [
             0.5555555555555556,
             "#d8576b"
            ],
            [
             0.6666666666666666,
             "#ed7953"
            ],
            [
             0.7777777777777778,
             "#fb9f3a"
            ],
            [
             0.8888888888888888,
             "#fdca26"
            ],
            [
             1,
             "#f0f921"
            ]
           ]
          },
          "colorway": [
           "#636efa",
           "#EF553B",
           "#00cc96",
           "#ab63fa",
           "#FFA15A",
           "#19d3f3",
           "#FF6692",
           "#B6E880",
           "#FF97FF",
           "#FECB52"
          ],
          "font": {
           "color": "#2a3f5f"
          },
          "geo": {
           "bgcolor": "white",
           "lakecolor": "white",
           "landcolor": "#E5ECF6",
           "showlakes": true,
           "showland": true,
           "subunitcolor": "white"
          },
          "hoverlabel": {
           "align": "left"
          },
          "hovermode": "closest",
          "mapbox": {
           "style": "light"
          },
          "paper_bgcolor": "white",
          "plot_bgcolor": "#E5ECF6",
          "polar": {
           "angularaxis": {
            "gridcolor": "white",
            "linecolor": "white",
            "ticks": ""
           },
           "bgcolor": "#E5ECF6",
           "radialaxis": {
            "gridcolor": "white",
            "linecolor": "white",
            "ticks": ""
           }
          },
          "scene": {
           "xaxis": {
            "backgroundcolor": "#E5ECF6",
            "gridcolor": "white",
            "gridwidth": 2,
            "linecolor": "white",
            "showbackground": true,
            "ticks": "",
            "zerolinecolor": "white"
           },
           "yaxis": {
            "backgroundcolor": "#E5ECF6",
            "gridcolor": "white",
            "gridwidth": 2,
            "linecolor": "white",
            "showbackground": true,
            "ticks": "",
            "zerolinecolor": "white"
           },
           "zaxis": {
            "backgroundcolor": "#E5ECF6",
            "gridcolor": "white",
            "gridwidth": 2,
            "linecolor": "white",
            "showbackground": true,
            "ticks": "",
            "zerolinecolor": "white"
           }
          },
          "shapedefaults": {
           "line": {
            "color": "#2a3f5f"
           }
          },
          "ternary": {
           "aaxis": {
            "gridcolor": "white",
            "linecolor": "white",
            "ticks": ""
           },
           "baxis": {
            "gridcolor": "white",
            "linecolor": "white",
            "ticks": ""
           },
           "bgcolor": "#E5ECF6",
           "caxis": {
            "gridcolor": "white",
            "linecolor": "white",
            "ticks": ""
           }
          },
          "title": {
           "x": 0.05
          },
          "xaxis": {
           "automargin": true,
           "gridcolor": "white",
           "linecolor": "white",
           "ticks": "",
           "title": {
            "standoff": 15
           },
           "zerolinecolor": "white",
           "zerolinewidth": 2
          },
          "yaxis": {
           "automargin": true,
           "gridcolor": "white",
           "linecolor": "white",
           "ticks": "",
           "title": {
            "standoff": 15
           },
           "zerolinecolor": "white",
           "zerolinewidth": 2
          }
         }
        },
        "title": {
         "text": ""
        },
        "width": 800,
        "xaxis": {
         "gridcolor": "#cbd2d8",
         "range": [
          1896,
          2024
         ],
         "showgrid": true,
         "tickfont": {
          "family": "Noto Sans",
          "size": 12
         },
         "tickvals": [
          1896,
          2020
         ],
         "title": {
          "text": ""
         },
         "zeroline": false,
         "zerolinecolor": "#cbd2d8"
        },
        "yaxis": {
         "gridcolor": "#cbd2d8",
         "showgrid": false,
         "tickfont": {
          "family": "Noto Sans",
          "size": 12
         },
         "title": {
          "text": ""
         },
         "visible": true,
         "zeroline": false
        }
       }
      },
      "text/html": [
       "<div>                            <div id=\"c0e0c2e7-ee79-4915-986a-c1abad5f9749\" class=\"plotly-graph-div\" style=\"height:600px; width:800px;\"></div>            <script type=\"text/javascript\">                require([\"plotly\"], function(Plotly) {                    window.PLOTLYENV=window.PLOTLYENV || {};                                    if (document.getElementById(\"c0e0c2e7-ee79-4915-986a-c1abad5f9749\")) {                    Plotly.newPlot(                        \"c0e0c2e7-ee79-4915-986a-c1abad5f9749\",                        [{\"line\": {\"color\": \"#00a5ff\", \"width\": 3}, \"mode\": \"lines\", \"showlegend\": false, \"type\": \"scatter\", \"x\": [1964, 2024], \"y\": [\"NEP\", \"NEP\"]}, {\"line\": {\"color\": \"#00a5ff\", \"width\": 3}, \"mode\": \"lines\", \"showlegend\": false, \"type\": \"scatter\", \"x\": [1964, 2024], \"y\": [\"LBA\", \"LBA\"]}, {\"line\": {\"color\": \"#00a5ff\", \"width\": 3}, \"mode\": \"lines\", \"showlegend\": false, \"type\": \"scatter\", \"x\": [1964, 2024], \"y\": [\"CAM\", \"CAM\"]}, {\"line\": {\"color\": \"#00a5ff\", \"width\": 3}, \"mode\": \"lines\", \"showlegend\": false, \"type\": \"scatter\", \"x\": [1964, 2024], \"y\": [\"CGO\", \"CGO\"]}, {\"line\": {\"color\": \"#00a5ff\", \"width\": 3}, \"mode\": \"lines\", \"showlegend\": false, \"type\": \"scatter\", \"x\": [1964, 2024], \"y\": [\"CHA\", \"CHA\"]}, {\"line\": {\"color\": \"#00a5ff\", \"width\": 3}, \"mode\": \"lines\", \"showlegend\": false, \"type\": \"scatter\", \"x\": [1964, 2024], \"y\": [\"MLI\", \"MLI\"]}, {\"line\": {\"color\": \"#00a5ff\", \"width\": 3}, \"mode\": \"lines\", \"showlegend\": false, \"type\": \"scatter\", \"x\": [1960, 2024], \"y\": [\"SOM\", \"SOM\"]}, {\"line\": {\"color\": \"#00a5ff\", \"width\": 3}, \"mode\": \"lines\", \"showlegend\": false, \"type\": \"scatter\", \"x\": [1956, 2024], \"y\": [\"LBR\", \"LBR\"]}, {\"line\": {\"color\": \"#00a5ff\", \"width\": 3}, \"mode\": \"lines\", \"showlegend\": false, \"type\": \"scatter\", \"x\": [1956, 2024], \"y\": [\"MAL\", \"MAL\"]}, {\"line\": {\"color\": \"#00a5ff\", \"width\": 3}, \"mode\": \"lines\", \"showlegend\": false, \"type\": \"scatter\", \"x\": [1952, 2024], \"y\": [\"VNM\", \"VNM\"]}, {\"line\": {\"color\": \"#00a5ff\", \"width\": 3}, \"mode\": \"lines\", \"showlegend\": false, \"type\": \"scatter\", \"x\": [1948, 2024], \"y\": [\"MYA\", \"MYA\"]}, {\"line\": {\"color\": \"#00a5ff\", \"width\": 3}, \"mode\": \"lines\", \"showlegend\": false, \"type\": \"scatter\", \"x\": [1936, 2024], \"y\": [\"LIE\", \"LIE\"]}, {\"line\": {\"color\": \"#00a5ff\", \"width\": 3}, \"mode\": \"lines\", \"showlegend\": false, \"type\": \"scatter\", \"x\": [1936, 2024], \"y\": [\"BOL\", \"BOL\"]}, {\"line\": {\"color\": \"#00a5ff\", \"width\": 3}, \"mode\": \"lines\", \"showlegend\": false, \"type\": \"scatter\", \"x\": [1928, 2024], \"y\": [\"MLT\", \"MLT\"]}, {\"line\": {\"color\": \"#00a5ff\", \"width\": 3}, \"mode\": \"lines\", \"showlegend\": false, \"type\": \"scatter\", \"x\": [1920, 2024], \"y\": [\"MON\", \"MON\"]}, {\"line\": {\"shape\": \"linear\"}, \"marker\": {\"color\": \"#00a5ff\", \"line\": {\"width\": 2}, \"size\": 8}, \"mode\": \"markers+text\", \"showlegend\": false, \"text\": [1964.0, 1964.0, 1964.0, 1964.0, 1964.0, 1964.0, 1960.0, 1956.0, 1956.0, 1952.0, 1948.0, 1936.0, 1936.0, 1928.0, 1920.0], \"textposition\": \"middle left\", \"type\": \"scatter\", \"x\": [1964, 1964, 1964, 1964, 1964, 1964, 1960, 1956, 1956, 1952, 1948, 1936, 1936, 1928, 1920], \"y\": [\"NEP\", \"LBA\", \"CAM\", \"CGO\", \"CHA\", \"MLI\", \"SOM\", \"LBR\", \"MAL\", \"VNM\", \"MYA\", \"LIE\", \"BOL\", \"MLT\", \"MON\"]}, {\"line\": {\"shape\": \"linear\"}, \"marker\": {\"color\": \"#00a5ff\", \"line\": {\"width\": 2}, \"size\": 8}, \"mode\": \"markers\", \"showlegend\": false, \"type\": \"scatter\", \"x\": [], \"y\": []}, {\"line\": {\"width\": 3}, \"marker\": {\"color\": \"#7f8891\"}, \"mode\": \"lines\", \"showlegend\": false, \"type\": \"scatter\", \"x\": [2020, 2020], \"y\": [\"NEP\", \"MON\"]}],                        {\"height\": 600, \"margin\": {\"pad\": 30}, \"paper_bgcolor\": \"#f1f3f5\", \"plot_bgcolor\": \"#f1f3f5\", \"template\": {\"data\": {\"bar\": [{\"error_x\": {\"color\": \"#2a3f5f\"}, \"error_y\": {\"color\": \"#2a3f5f\"}, \"marker\": {\"line\": {\"color\": \"#E5ECF6\", \"width\": 0.5}}, \"type\": \"bar\"}], \"barpolar\": [{\"marker\": {\"line\": {\"color\": \"#E5ECF6\", \"width\": 0.5}}, \"type\": \"barpolar\"}], \"carpet\": [{\"aaxis\": {\"endlinecolor\": \"#2a3f5f\", \"gridcolor\": \"white\", \"linecolor\": \"white\", \"minorgridcolor\": \"white\", \"startlinecolor\": \"#2a3f5f\"}, \"baxis\": {\"endlinecolor\": \"#2a3f5f\", \"gridcolor\": \"white\", \"linecolor\": \"white\", \"minorgridcolor\": \"white\", \"startlinecolor\": \"#2a3f5f\"}, \"type\": \"carpet\"}], \"choropleth\": [{\"colorbar\": {\"outlinewidth\": 0, \"ticks\": \"\"}, \"type\": \"choropleth\"}], \"contour\": [{\"colorbar\": {\"outlinewidth\": 0, \"ticks\": \"\"}, \"colorscale\": [[0.0, \"#0d0887\"], [0.1111111111111111, \"#46039f\"], [0.2222222222222222, \"#7201a8\"], [0.3333333333333333, \"#9c179e\"], [0.4444444444444444, \"#bd3786\"], [0.5555555555555556, \"#d8576b\"], [0.6666666666666666, \"#ed7953\"], [0.7777777777777778, \"#fb9f3a\"], [0.8888888888888888, \"#fdca26\"], [1.0, \"#f0f921\"]], \"type\": \"contour\"}], \"contourcarpet\": [{\"colorbar\": {\"outlinewidth\": 0, \"ticks\": \"\"}, \"type\": \"contourcarpet\"}], \"heatmap\": [{\"colorbar\": {\"outlinewidth\": 0, \"ticks\": \"\"}, \"colorscale\": [[0.0, \"#0d0887\"], [0.1111111111111111, \"#46039f\"], [0.2222222222222222, \"#7201a8\"], [0.3333333333333333, \"#9c179e\"], [0.4444444444444444, \"#bd3786\"], [0.5555555555555556, \"#d8576b\"], [0.6666666666666666, \"#ed7953\"], [0.7777777777777778, \"#fb9f3a\"], [0.8888888888888888, \"#fdca26\"], [1.0, \"#f0f921\"]], \"type\": \"heatmap\"}], \"heatmapgl\": [{\"colorbar\": {\"outlinewidth\": 0, \"ticks\": \"\"}, \"colorscale\": [[0.0, \"#0d0887\"], [0.1111111111111111, \"#46039f\"], [0.2222222222222222, \"#7201a8\"], [0.3333333333333333, \"#9c179e\"], [0.4444444444444444, \"#bd3786\"], [0.5555555555555556, \"#d8576b\"], [0.6666666666666666, \"#ed7953\"], [0.7777777777777778, \"#fb9f3a\"], [0.8888888888888888, \"#fdca26\"], [1.0, \"#f0f921\"]], \"type\": \"heatmapgl\"}], \"histogram\": [{\"marker\": {\"colorbar\": {\"outlinewidth\": 0, \"ticks\": \"\"}}, \"type\": \"histogram\"}], \"histogram2d\": [{\"colorbar\": {\"outlinewidth\": 0, \"ticks\": \"\"}, \"colorscale\": [[0.0, \"#0d0887\"], [0.1111111111111111, \"#46039f\"], [0.2222222222222222, \"#7201a8\"], [0.3333333333333333, \"#9c179e\"], [0.4444444444444444, \"#bd3786\"], [0.5555555555555556, \"#d8576b\"], [0.6666666666666666, \"#ed7953\"], [0.7777777777777778, \"#fb9f3a\"], [0.8888888888888888, \"#fdca26\"], [1.0, \"#f0f921\"]], \"type\": \"histogram2d\"}], \"histogram2dcontour\": [{\"colorbar\": {\"outlinewidth\": 0, \"ticks\": \"\"}, \"colorscale\": [[0.0, \"#0d0887\"], [0.1111111111111111, \"#46039f\"], [0.2222222222222222, \"#7201a8\"], [0.3333333333333333, \"#9c179e\"], [0.4444444444444444, \"#bd3786\"], [0.5555555555555556, \"#d8576b\"], [0.6666666666666666, \"#ed7953\"], [0.7777777777777778, \"#fb9f3a\"], [0.8888888888888888, \"#fdca26\"], [1.0, \"#f0f921\"]], \"type\": \"histogram2dcontour\"}], \"mesh3d\": [{\"colorbar\": {\"outlinewidth\": 0, \"ticks\": \"\"}, \"type\": \"mesh3d\"}], \"parcoords\": [{\"line\": {\"colorbar\": {\"outlinewidth\": 0, \"ticks\": \"\"}}, \"type\": \"parcoords\"}], \"pie\": [{\"automargin\": true, \"type\": \"pie\"}], \"scatter\": [{\"marker\": {\"colorbar\": {\"outlinewidth\": 0, \"ticks\": \"\"}}, \"type\": \"scatter\"}], \"scatter3d\": [{\"line\": {\"colorbar\": {\"outlinewidth\": 0, \"ticks\": \"\"}}, \"marker\": {\"colorbar\": {\"outlinewidth\": 0, \"ticks\": \"\"}}, \"type\": \"scatter3d\"}], \"scattercarpet\": [{\"marker\": {\"colorbar\": {\"outlinewidth\": 0, \"ticks\": \"\"}}, \"type\": \"scattercarpet\"}], \"scattergeo\": [{\"marker\": {\"colorbar\": {\"outlinewidth\": 0, \"ticks\": \"\"}}, \"type\": \"scattergeo\"}], \"scattergl\": [{\"marker\": {\"colorbar\": {\"outlinewidth\": 0, \"ticks\": \"\"}}, \"type\": \"scattergl\"}], \"scattermapbox\": [{\"marker\": {\"colorbar\": {\"outlinewidth\": 0, \"ticks\": \"\"}}, \"type\": \"scattermapbox\"}], \"scatterpolar\": [{\"marker\": {\"colorbar\": {\"outlinewidth\": 0, \"ticks\": \"\"}}, \"type\": \"scatterpolar\"}], \"scatterpolargl\": [{\"marker\": {\"colorbar\": {\"outlinewidth\": 0, \"ticks\": \"\"}}, \"type\": \"scatterpolargl\"}], \"scatterternary\": [{\"marker\": {\"colorbar\": {\"outlinewidth\": 0, \"ticks\": \"\"}}, \"type\": \"scatterternary\"}], \"surface\": [{\"colorbar\": {\"outlinewidth\": 0, \"ticks\": \"\"}, \"colorscale\": [[0.0, \"#0d0887\"], [0.1111111111111111, \"#46039f\"], [0.2222222222222222, \"#7201a8\"], [0.3333333333333333, \"#9c179e\"], [0.4444444444444444, \"#bd3786\"], [0.5555555555555556, \"#d8576b\"], [0.6666666666666666, \"#ed7953\"], [0.7777777777777778, \"#fb9f3a\"], [0.8888888888888888, \"#fdca26\"], [1.0, \"#f0f921\"]], \"type\": \"surface\"}], \"table\": [{\"cells\": {\"fill\": {\"color\": \"#EBF0F8\"}, \"line\": {\"color\": \"white\"}}, \"header\": {\"fill\": {\"color\": \"#C8D4E3\"}, \"line\": {\"color\": \"white\"}}, \"type\": \"table\"}]}, \"layout\": {\"annotationdefaults\": {\"arrowcolor\": \"#2a3f5f\", \"arrowhead\": 0, \"arrowwidth\": 1}, \"autotypenumbers\": \"strict\", \"coloraxis\": {\"colorbar\": {\"outlinewidth\": 0, \"ticks\": \"\"}}, \"colorscale\": {\"diverging\": [[0, \"#8e0152\"], [0.1, \"#c51b7d\"], [0.2, \"#de77ae\"], [0.3, \"#f1b6da\"], [0.4, \"#fde0ef\"], [0.5, \"#f7f7f7\"], [0.6, \"#e6f5d0\"], [0.7, \"#b8e186\"], [0.8, \"#7fbc41\"], [0.9, \"#4d9221\"], [1, \"#276419\"]], \"sequential\": [[0.0, \"#0d0887\"], [0.1111111111111111, \"#46039f\"], [0.2222222222222222, \"#7201a8\"], [0.3333333333333333, \"#9c179e\"], [0.4444444444444444, \"#bd3786\"], [0.5555555555555556, \"#d8576b\"], [0.6666666666666666, \"#ed7953\"], [0.7777777777777778, \"#fb9f3a\"], [0.8888888888888888, \"#fdca26\"], [1.0, \"#f0f921\"]], \"sequentialminus\": [[0.0, \"#0d0887\"], [0.1111111111111111, \"#46039f\"], [0.2222222222222222, \"#7201a8\"], [0.3333333333333333, \"#9c179e\"], [0.4444444444444444, \"#bd3786\"], [0.5555555555555556, \"#d8576b\"], [0.6666666666666666, \"#ed7953\"], [0.7777777777777778, \"#fb9f3a\"], [0.8888888888888888, \"#fdca26\"], [1.0, \"#f0f921\"]]}, \"colorway\": [\"#636efa\", \"#EF553B\", \"#00cc96\", \"#ab63fa\", \"#FFA15A\", \"#19d3f3\", \"#FF6692\", \"#B6E880\", \"#FF97FF\", \"#FECB52\"], \"font\": {\"color\": \"#2a3f5f\"}, \"geo\": {\"bgcolor\": \"white\", \"lakecolor\": \"white\", \"landcolor\": \"#E5ECF6\", \"showlakes\": true, \"showland\": true, \"subunitcolor\": \"white\"}, \"hoverlabel\": {\"align\": \"left\"}, \"hovermode\": \"closest\", \"mapbox\": {\"style\": \"light\"}, \"paper_bgcolor\": \"white\", \"plot_bgcolor\": \"#E5ECF6\", \"polar\": {\"angularaxis\": {\"gridcolor\": \"white\", \"linecolor\": \"white\", \"ticks\": \"\"}, \"bgcolor\": \"#E5ECF6\", \"radialaxis\": {\"gridcolor\": \"white\", \"linecolor\": \"white\", \"ticks\": \"\"}}, \"scene\": {\"xaxis\": {\"backgroundcolor\": \"#E5ECF6\", \"gridcolor\": \"white\", \"gridwidth\": 2, \"linecolor\": \"white\", \"showbackground\": true, \"ticks\": \"\", \"zerolinecolor\": \"white\"}, \"yaxis\": {\"backgroundcolor\": \"#E5ECF6\", \"gridcolor\": \"white\", \"gridwidth\": 2, \"linecolor\": \"white\", \"showbackground\": true, \"ticks\": \"\", \"zerolinecolor\": \"white\"}, \"zaxis\": {\"backgroundcolor\": \"#E5ECF6\", \"gridcolor\": \"white\", \"gridwidth\": 2, \"linecolor\": \"white\", \"showbackground\": true, \"ticks\": \"\", \"zerolinecolor\": \"white\"}}, \"shapedefaults\": {\"line\": {\"color\": \"#2a3f5f\"}}, \"ternary\": {\"aaxis\": {\"gridcolor\": \"white\", \"linecolor\": \"white\", \"ticks\": \"\"}, \"baxis\": {\"gridcolor\": \"white\", \"linecolor\": \"white\", \"ticks\": \"\"}, \"bgcolor\": \"#E5ECF6\", \"caxis\": {\"gridcolor\": \"white\", \"linecolor\": \"white\", \"ticks\": \"\"}}, \"title\": {\"x\": 0.05}, \"xaxis\": {\"automargin\": true, \"gridcolor\": \"white\", \"linecolor\": \"white\", \"ticks\": \"\", \"title\": {\"standoff\": 15}, \"zerolinecolor\": \"white\", \"zerolinewidth\": 2}, \"yaxis\": {\"automargin\": true, \"gridcolor\": \"white\", \"linecolor\": \"white\", \"ticks\": \"\", \"title\": {\"standoff\": 15}, \"zerolinecolor\": \"white\", \"zerolinewidth\": 2}}}, \"title\": {\"text\": \"\"}, \"width\": 800, \"xaxis\": {\"gridcolor\": \"#cbd2d8\", \"range\": [1896, 2024], \"showgrid\": true, \"tickfont\": {\"family\": \"Noto Sans\", \"size\": 12}, \"tickvals\": [1896, 2020], \"title\": {\"text\": \"\"}, \"zeroline\": false, \"zerolinecolor\": \"#cbd2d8\"}, \"yaxis\": {\"gridcolor\": \"#cbd2d8\", \"showgrid\": false, \"tickfont\": {\"family\": \"Noto Sans\", \"size\": 12}, \"title\": {\"text\": \"\"}, \"visible\": true, \"zeroline\": false}},                        {\"responsive\": true}                    ).then(function(){\n",
       "                            \n",
       "var gd = document.getElementById('c0e0c2e7-ee79-4915-986a-c1abad5f9749');\n",
       "var x = new MutationObserver(function (mutations, observer) {{\n",
       "        var display = window.getComputedStyle(gd).display;\n",
       "        if (!display || display === 'none') {{\n",
       "            console.log([gd, 'removed!']);\n",
       "            Plotly.purge(gd);\n",
       "            observer.disconnect();\n",
       "        }}\n",
       "}});\n",
       "\n",
       "// Listen for the removal of the full notebook cells\n",
       "var notebookContainer = gd.closest('#notebook-container');\n",
       "if (notebookContainer) {{\n",
       "    x.observe(notebookContainer, {childList: true});\n",
       "}}\n",
       "\n",
       "// Listen for the clearing of the current output cell\n",
       "var outputEl = gd.closest('.output');\n",
       "if (outputEl) {{\n",
       "    x.observe(outputEl, {childList: true});\n",
       "}}\n",
       "\n",
       "                        })                };                });            </script>        </div>"
      ]
     },
     "metadata": {},
     "output_type": "display_data"
    }
   ],
   "source": [
    "plot_timespan(et)"
   ]
  },
  {
   "cell_type": "markdown",
   "metadata": {},
   "source": [
    "#### One hit wonders\n",
    "Countries were a single person (or team) won all the medals."
   ]
  },
  {
   "cell_type": "code",
   "execution_count": 32,
   "metadata": {},
   "outputs": [],
   "source": [
    "def one_hit_wonders(df):\n",
    "\n",
    "    df_ = df[~df.medal.isna()]\n",
    "    for noc in df_.noc.unique():\n",
    "\n",
    "        subset = df_[df_.noc==noc]\n",
    "        \n",
    "        competitors = subset.competitor.unique().tolist()\n",
    "        sports = subset.discipline.unique().tolist()\n",
    "        years = subset.year.unique().tolist()\n",
    "        #print(len(competitors))\n",
    "        \n",
    "        if len(competitors) == 1:\n",
    "            print(noc, competitors, sports, years)"
   ]
  },
  {
   "cell_type": "code",
   "execution_count": 33,
   "metadata": {
    "scrolled": false
   },
   "outputs": [
    {
     "name": "stdout",
     "output_type": "stream",
     "text": [
      "FIJ ['Fiji'] ['Rugby Sevens'] [2016, 2020]\n",
      "GUA ['Erick Barrondo'] ['Athletics'] [2012]\n",
      "MNE ['Montenegro'] ['Handball'] [2012]\n",
      "AFG ['Rohullah Nikpai'] ['Taekwondo'] [2012, 2008]\n",
      "SEN ['Amadou Dia Bâ'] ['Athletics'] [1988]\n",
      "ISV ['Peter Holmberg'] ['Sailing'] [1988]\n",
      "SUR ['Anthony Nesty'] ['Swimming'] [1988, 1992]\n",
      "PAR ['Paraguay'] ['Football'] [2004]\n",
      "TOG ['Benjamin Boukpeti'] ['Canoe Slalom'] [2008]\n",
      "SAM ['Ele Opeloge'] ['Weightlifting'] [2008]\n",
      "MOZ ['Maria Mutola'] ['Athletics'] [1996, 2000]\n",
      "GAB ['Anthony Obame'] ['Taekwondo'] [2012]\n",
      "CYP ['Pavlos Kontides'] ['Sailing'] [2012]\n",
      "GRN ['Kirani James'] ['Athletics', 'athletics'] [2016, 2012, 2020]\n",
      "UNK [nan] ['Wrestling'] [1912]\n",
      "ERI ['Zersenay Tadese'] ['Athletics'] [2004]\n",
      "AHO ['Jan Boersma'] ['Sailing'] [1988]\n",
      "GUY ['Michael Anthony'] ['Boxing'] [1980]\n",
      "DJI ['Ahmed Salah'] ['Athletics'] [1988]\n",
      "SUD ['Ismail Ahmed Ismail'] ['Athletics'] [2008]\n",
      "BAR ['Obadele Thompson'] ['Athletics'] [2000]\n",
      "MRI ['Bruno Julie'] ['Boxing'] [2008]\n",
      "TKM ['Polina Guryeva'] ['Weightlifting'] [2020]\n",
      "IRQ ['Abdul Wahid Aziz'] ['Weightlifting'] [1960]\n",
      "TGA ['Paea Wolfgramm'] ['Boxing'] [1996]\n",
      "BUR ['Hugues Fabrice Zango'] ['athletics'] [2020]\n"
     ]
    }
   ],
   "source": [
    "one_hit_wonders(df)"
   ]
  },
  {
   "cell_type": "markdown",
   "metadata": {},
   "source": [
    "In the list above, we should add the San Marino shooter mentioned above and weightlifter Polina Guryeva, first turkmen to win an Olympic medal. Note that Kuwait had another medal winner in 2016, Abdullah Al-Rashidi, but he competed under the banner of the Independent Olympic Athletes.\n",
    "\n",
    "Some of those might not be one hit wonders anymore. Kosovo, for instance, has another judoka that won medals in 2020."
   ]
  },
  {
   "cell_type": "markdown",
   "metadata": {},
   "source": [
    "#### Distribution between groups\n",
    "Are the top nations getting more or less medals in recent editions of the Olympics?"
   ]
  },
  {
   "cell_type": "code",
   "execution_count": 53,
   "metadata": {},
   "outputs": [],
   "source": [
    "def totals_by_year(df):\n",
    "    \n",
    "    medal_rankings = df.groupby(['year', 'noc']).medal.count()\n",
    "\n",
    "    dataset = []\n",
    "    \n",
    "    for year in sorted(df.year.unique().tolist()):\n",
    "        \n",
    "        subset = medal_rankings[year].reset_index().sort_values(by='medal', ascending=False).reset_index(drop=True)\n",
    "        \n",
    "        total_medals = subset.medal.sum()\n",
    "        top_10 = subset.loc[0:9].medal.sum()\n",
    "        _11_to_20 = subset.loc[10:19].medal.sum()\n",
    "        _21_to_40 = subset.loc[20:39].medal.sum()\n",
    "        all_others = subset.loc[40:].medal.sum()\n",
    "\n",
    "        \n",
    "        row = [ year,\n",
    "                top_10 / total_medals, \n",
    "                _11_to_20 / total_medals,\n",
    "                _21_to_40 / total_medals, \n",
    "                all_others / total_medals ]\n",
    "        \n",
    "        \n",
    "        dataset.append(row)\n",
    "    return pd.DataFrame(dataset, columns=[\"year\", \"top_10\", \"11_to_20\", \"21_to_40\", \"all_others\"])"
   ]
  },
  {
   "cell_type": "code",
   "execution_count": 57,
   "metadata": {},
   "outputs": [],
   "source": [
    "tby = totals_by_year(df)\n",
    "tby\n",
    "tby.to_csv('medal_spread.csv', index = True )"
   ]
  },
  {
   "cell_type": "code",
   "execution_count": 45,
   "metadata": {},
   "outputs": [],
   "source": [
    "def stacked_share_by_year(df):\n",
    "\n",
    "    fig = go.Figure()\n",
    "    \n",
    "        \n",
    "    height = 600\n",
    "    width = 620\n",
    "\n",
    "    fig.add_trace(go.Bar(\n",
    "        y=df.year,\n",
    "        x=df.top_10,\n",
    "        name='Top 10',\n",
    "        orientation='h',\n",
    "        showlegend=False,\n",
    "        marker=dict(\n",
    "            color=dark_blue,\n",
    "        )\n",
    "    ))\n",
    "\n",
    "    fig.add_trace(go.Bar(\n",
    "        y=df.year,\n",
    "        x=df[\"11_to_20\"],\n",
    "        name='11 to 20',\n",
    "        orientation='h',\n",
    "        showlegend=False,\n",
    "        marker=dict(\n",
    "            color=medium_blue,\n",
    "        )\n",
    "    ))\n",
    "\n",
    "    fig.add_trace(go.Bar(\n",
    "        y=df.year,\n",
    "        x=df[\"21_to_40\"],\n",
    "        name='21 to 40',\n",
    "        orientation='h',\n",
    "        showlegend=False,\n",
    "        marker=dict(\n",
    "            color=light_blue,\n",
    "        )\n",
    "    ))\n",
    "\n",
    "    fig.add_trace(go.Bar(\n",
    "        y=df.year,\n",
    "        x=df[\"all_others\"],\n",
    "        name='40 and under',\n",
    "        orientation='h',\n",
    "        showlegend=False,\n",
    "        marker=dict(\n",
    "            color=orange,\n",
    "        )\n",
    "    ))\n",
    "\n",
    "\n",
    "    fig.update_yaxes(visible=True, \n",
    "         showgrid=False,\n",
    "         gridcolor=chart_gray,\n",
    "         zeroline=False,\n",
    "    )\n",
    "\n",
    "\n",
    "    fig.update_xaxes(\n",
    "        tickformat=\"%\",\n",
    "        showgrid=True,\n",
    "        tickfont=dict(family='Noto Sans', size=12),\n",
    "        gridcolor=chart_gray,\n",
    "        zeroline=False,\n",
    "        zerolinecolor=chart_gray,\n",
    "    )\n",
    "\n",
    "\n",
    "    fig.update_layout(\n",
    "        title=\"\",\n",
    "        xaxis_title=\"\",\n",
    "        yaxis_title=\"\",\n",
    "        paper_bgcolor=bg_gray,\n",
    "        plot_bgcolor=bg_gray,\n",
    "        margin=dict(pad=30),\n",
    "    )\n",
    "\n",
    "    fig.update_yaxes(visible=True,\n",
    "         showgrid=False,\n",
    "         tickfont=dict(family='Noto Sans', size=12),\n",
    "         gridcolor=chart_gray,\n",
    "         zeroline=False,\n",
    "    )\n",
    "\n",
    "\n",
    "\n",
    "\n",
    "    fig.update_layout(barmode='stack')\n",
    "    fig.show()\n",
    "    fig.write_image(f\"../output/stacked_share_medals_by_group.svg\")"
   ]
  },
  {
   "cell_type": "code",
   "execution_count": 37,
   "metadata": {},
   "outputs": [
    {
     "data": {
      "application/vnd.plotly.v1+json": {
       "config": {
        "plotlyServerURL": "https://plot.ly"
       },
       "data": [
        {
         "marker": {
          "color": "#002d5a"
         },
         "name": "Top 10",
         "orientation": "h",
         "showlegend": false,
         "type": "bar",
         "x": [
          0.9836065573770492,
          0.9084507042253521,
          1,
          0.9135802469135802,
          0.8717948717948718,
          0.8904109589041096,
          0.8227513227513228,
          0.7522935779816514,
          0.8386167146974063,
          0.7512820512820513,
          0.754257907542579,
          0.7320261437908496,
          0.7671840354767184,
          0.789587852494577,
          0.7698412698412699,
          0.7058823529411765,
          0.735,
          0.7879282218597063,
          0.8256735340729001,
          0.748546511627907,
          0.7239512855209743,
          0.6429447852760736,
          0.5546318289786223,
          0.5512405609492989,
          0.5561555075593952,
          0.5657620041753654,
          0.5611285266457681,
          0.5323741007194245,
          0.5507109004739337
         ],
         "y": [
          1896,
          1900,
          1904,
          1908,
          1912,
          1920,
          1924,
          1928,
          1932,
          1936,
          1948,
          1952,
          1956,
          1960,
          1964,
          1968,
          1972,
          1976,
          1980,
          1984,
          1988,
          1992,
          1996,
          2000,
          2004,
          2008,
          2012,
          2016,
          2020
         ]
        },
        {
         "marker": {
          "color": "#0064b4"
         },
         "name": "11 to 20",
         "orientation": "h",
         "showlegend": false,
         "type": "bar",
         "x": [
          0.01639344262295082,
          0.09154929577464789,
          0,
          0.08641975308641975,
          0.1282051282051282,
          0.1050228310502283,
          0.15608465608465608,
          0.18042813455657492,
          0.138328530259366,
          0.20512820512820512,
          0.18248175182481752,
          0.16122004357298475,
          0.16186252771618626,
          0.1301518438177874,
          0.16071428571428573,
          0.18216318785578747,
          0.175,
          0.13866231647634583,
          0.12044374009508717,
          0.1744186046511628,
          0.17456021650879566,
          0.20736196319018405,
          0.20902612826603326,
          0.1941747572815534,
          0.19438444924406048,
          0.17849686847599164,
          0.17136886102403343,
          0.1778006166495375,
          0.17061611374407584
         ],
         "y": [
          1896,
          1900,
          1904,
          1908,
          1912,
          1920,
          1924,
          1928,
          1932,
          1936,
          1948,
          1952,
          1956,
          1960,
          1964,
          1968,
          1972,
          1976,
          1980,
          1984,
          1988,
          1992,
          1996,
          2000,
          2004,
          2008,
          2012,
          2016,
          2020
         ]
        },
        {
         "marker": {
          "color": "#00a5ff"
         },
         "name": "21 to 40",
         "orientation": "h",
         "showlegend": false,
         "type": "bar",
         "x": [
          0,
          0,
          0,
          0,
          0,
          0.0045662100456621,
          0.021164021164021163,
          0.0672782874617737,
          0.023054755043227664,
          0.04358974358974359,
          0.06326034063260341,
          0.10021786492374728,
          0.07095343680709534,
          0.07158351409978309,
          0.06746031746031746,
          0.10436432637571158,
          0.07666666666666666,
          0.07177814029363784,
          0.05388272583201268,
          0.06686046511627906,
          0.08525033829499323,
          0.10920245398773006,
          0.16152019002375298,
          0.15857605177993528,
          0.15226781857451405,
          0.1430062630480167,
          0.16614420062695925,
          0.18499486125385406,
          0.15071090047393365
         ],
         "y": [
          1896,
          1900,
          1904,
          1908,
          1912,
          1920,
          1924,
          1928,
          1932,
          1936,
          1948,
          1952,
          1956,
          1960,
          1964,
          1968,
          1972,
          1976,
          1980,
          1984,
          1988,
          1992,
          1996,
          2000,
          2004,
          2008,
          2012,
          2016,
          2020
         ]
        },
        {
         "marker": {
          "color": "#eb6e14"
         },
         "name": "40 and under",
         "orientation": "h",
         "showlegend": false,
         "type": "bar",
         "x": [
          0,
          0,
          0,
          0,
          0,
          0,
          0,
          0,
          0,
          0,
          0,
          0.006535947712418301,
          0,
          0.008676789587852495,
          0.001984126984126984,
          0.007590132827324478,
          0.013333333333333334,
          0.0016313213703099511,
          0,
          0.010174418604651164,
          0.016238159675236806,
          0.04049079754601227,
          0.07482185273159145,
          0.09600862998921252,
          0.09719222462203024,
          0.1127348643006263,
          0.1013584117032393,
          0.10483042137718397,
          0.12796208530805686
         ],
         "y": [
          1896,
          1900,
          1904,
          1908,
          1912,
          1920,
          1924,
          1928,
          1932,
          1936,
          1948,
          1952,
          1956,
          1960,
          1964,
          1968,
          1972,
          1976,
          1980,
          1984,
          1988,
          1992,
          1996,
          2000,
          2004,
          2008,
          2012,
          2016,
          2020
         ]
        }
       ],
       "layout": {
        "barmode": "stack",
        "margin": {
         "pad": 30
        },
        "paper_bgcolor": "#f1f3f5",
        "plot_bgcolor": "#f1f3f5",
        "template": {
         "data": {
          "bar": [
           {
            "error_x": {
             "color": "#2a3f5f"
            },
            "error_y": {
             "color": "#2a3f5f"
            },
            "marker": {
             "line": {
              "color": "#E5ECF6",
              "width": 0.5
             }
            },
            "type": "bar"
           }
          ],
          "barpolar": [
           {
            "marker": {
             "line": {
              "color": "#E5ECF6",
              "width": 0.5
             }
            },
            "type": "barpolar"
           }
          ],
          "carpet": [
           {
            "aaxis": {
             "endlinecolor": "#2a3f5f",
             "gridcolor": "white",
             "linecolor": "white",
             "minorgridcolor": "white",
             "startlinecolor": "#2a3f5f"
            },
            "baxis": {
             "endlinecolor": "#2a3f5f",
             "gridcolor": "white",
             "linecolor": "white",
             "minorgridcolor": "white",
             "startlinecolor": "#2a3f5f"
            },
            "type": "carpet"
           }
          ],
          "choropleth": [
           {
            "colorbar": {
             "outlinewidth": 0,
             "ticks": ""
            },
            "type": "choropleth"
           }
          ],
          "contour": [
           {
            "colorbar": {
             "outlinewidth": 0,
             "ticks": ""
            },
            "colorscale": [
             [
              0,
              "#0d0887"
             ],
             [
              0.1111111111111111,
              "#46039f"
             ],
             [
              0.2222222222222222,
              "#7201a8"
             ],
             [
              0.3333333333333333,
              "#9c179e"
             ],
             [
              0.4444444444444444,
              "#bd3786"
             ],
             [
              0.5555555555555556,
              "#d8576b"
             ],
             [
              0.6666666666666666,
              "#ed7953"
             ],
             [
              0.7777777777777778,
              "#fb9f3a"
             ],
             [
              0.8888888888888888,
              "#fdca26"
             ],
             [
              1,
              "#f0f921"
             ]
            ],
            "type": "contour"
           }
          ],
          "contourcarpet": [
           {
            "colorbar": {
             "outlinewidth": 0,
             "ticks": ""
            },
            "type": "contourcarpet"
           }
          ],
          "heatmap": [
           {
            "colorbar": {
             "outlinewidth": 0,
             "ticks": ""
            },
            "colorscale": [
             [
              0,
              "#0d0887"
             ],
             [
              0.1111111111111111,
              "#46039f"
             ],
             [
              0.2222222222222222,
              "#7201a8"
             ],
             [
              0.3333333333333333,
              "#9c179e"
             ],
             [
              0.4444444444444444,
              "#bd3786"
             ],
             [
              0.5555555555555556,
              "#d8576b"
             ],
             [
              0.6666666666666666,
              "#ed7953"
             ],
             [
              0.7777777777777778,
              "#fb9f3a"
             ],
             [
              0.8888888888888888,
              "#fdca26"
             ],
             [
              1,
              "#f0f921"
             ]
            ],
            "type": "heatmap"
           }
          ],
          "heatmapgl": [
           {
            "colorbar": {
             "outlinewidth": 0,
             "ticks": ""
            },
            "colorscale": [
             [
              0,
              "#0d0887"
             ],
             [
              0.1111111111111111,
              "#46039f"
             ],
             [
              0.2222222222222222,
              "#7201a8"
             ],
             [
              0.3333333333333333,
              "#9c179e"
             ],
             [
              0.4444444444444444,
              "#bd3786"
             ],
             [
              0.5555555555555556,
              "#d8576b"
             ],
             [
              0.6666666666666666,
              "#ed7953"
             ],
             [
              0.7777777777777778,
              "#fb9f3a"
             ],
             [
              0.8888888888888888,
              "#fdca26"
             ],
             [
              1,
              "#f0f921"
             ]
            ],
            "type": "heatmapgl"
           }
          ],
          "histogram": [
           {
            "marker": {
             "colorbar": {
              "outlinewidth": 0,
              "ticks": ""
             }
            },
            "type": "histogram"
           }
          ],
          "histogram2d": [
           {
            "colorbar": {
             "outlinewidth": 0,
             "ticks": ""
            },
            "colorscale": [
             [
              0,
              "#0d0887"
             ],
             [
              0.1111111111111111,
              "#46039f"
             ],
             [
              0.2222222222222222,
              "#7201a8"
             ],
             [
              0.3333333333333333,
              "#9c179e"
             ],
             [
              0.4444444444444444,
              "#bd3786"
             ],
             [
              0.5555555555555556,
              "#d8576b"
             ],
             [
              0.6666666666666666,
              "#ed7953"
             ],
             [
              0.7777777777777778,
              "#fb9f3a"
             ],
             [
              0.8888888888888888,
              "#fdca26"
             ],
             [
              1,
              "#f0f921"
             ]
            ],
            "type": "histogram2d"
           }
          ],
          "histogram2dcontour": [
           {
            "colorbar": {
             "outlinewidth": 0,
             "ticks": ""
            },
            "colorscale": [
             [
              0,
              "#0d0887"
             ],
             [
              0.1111111111111111,
              "#46039f"
             ],
             [
              0.2222222222222222,
              "#7201a8"
             ],
             [
              0.3333333333333333,
              "#9c179e"
             ],
             [
              0.4444444444444444,
              "#bd3786"
             ],
             [
              0.5555555555555556,
              "#d8576b"
             ],
             [
              0.6666666666666666,
              "#ed7953"
             ],
             [
              0.7777777777777778,
              "#fb9f3a"
             ],
             [
              0.8888888888888888,
              "#fdca26"
             ],
             [
              1,
              "#f0f921"
             ]
            ],
            "type": "histogram2dcontour"
           }
          ],
          "mesh3d": [
           {
            "colorbar": {
             "outlinewidth": 0,
             "ticks": ""
            },
            "type": "mesh3d"
           }
          ],
          "parcoords": [
           {
            "line": {
             "colorbar": {
              "outlinewidth": 0,
              "ticks": ""
             }
            },
            "type": "parcoords"
           }
          ],
          "pie": [
           {
            "automargin": true,
            "type": "pie"
           }
          ],
          "scatter": [
           {
            "marker": {
             "colorbar": {
              "outlinewidth": 0,
              "ticks": ""
             }
            },
            "type": "scatter"
           }
          ],
          "scatter3d": [
           {
            "line": {
             "colorbar": {
              "outlinewidth": 0,
              "ticks": ""
             }
            },
            "marker": {
             "colorbar": {
              "outlinewidth": 0,
              "ticks": ""
             }
            },
            "type": "scatter3d"
           }
          ],
          "scattercarpet": [
           {
            "marker": {
             "colorbar": {
              "outlinewidth": 0,
              "ticks": ""
             }
            },
            "type": "scattercarpet"
           }
          ],
          "scattergeo": [
           {
            "marker": {
             "colorbar": {
              "outlinewidth": 0,
              "ticks": ""
             }
            },
            "type": "scattergeo"
           }
          ],
          "scattergl": [
           {
            "marker": {
             "colorbar": {
              "outlinewidth": 0,
              "ticks": ""
             }
            },
            "type": "scattergl"
           }
          ],
          "scattermapbox": [
           {
            "marker": {
             "colorbar": {
              "outlinewidth": 0,
              "ticks": ""
             }
            },
            "type": "scattermapbox"
           }
          ],
          "scatterpolar": [
           {
            "marker": {
             "colorbar": {
              "outlinewidth": 0,
              "ticks": ""
             }
            },
            "type": "scatterpolar"
           }
          ],
          "scatterpolargl": [
           {
            "marker": {
             "colorbar": {
              "outlinewidth": 0,
              "ticks": ""
             }
            },
            "type": "scatterpolargl"
           }
          ],
          "scatterternary": [
           {
            "marker": {
             "colorbar": {
              "outlinewidth": 0,
              "ticks": ""
             }
            },
            "type": "scatterternary"
           }
          ],
          "surface": [
           {
            "colorbar": {
             "outlinewidth": 0,
             "ticks": ""
            },
            "colorscale": [
             [
              0,
              "#0d0887"
             ],
             [
              0.1111111111111111,
              "#46039f"
             ],
             [
              0.2222222222222222,
              "#7201a8"
             ],
             [
              0.3333333333333333,
              "#9c179e"
             ],
             [
              0.4444444444444444,
              "#bd3786"
             ],
             [
              0.5555555555555556,
              "#d8576b"
             ],
             [
              0.6666666666666666,
              "#ed7953"
             ],
             [
              0.7777777777777778,
              "#fb9f3a"
             ],
             [
              0.8888888888888888,
              "#fdca26"
             ],
             [
              1,
              "#f0f921"
             ]
            ],
            "type": "surface"
           }
          ],
          "table": [
           {
            "cells": {
             "fill": {
              "color": "#EBF0F8"
             },
             "line": {
              "color": "white"
             }
            },
            "header": {
             "fill": {
              "color": "#C8D4E3"
             },
             "line": {
              "color": "white"
             }
            },
            "type": "table"
           }
          ]
         },
         "layout": {
          "annotationdefaults": {
           "arrowcolor": "#2a3f5f",
           "arrowhead": 0,
           "arrowwidth": 1
          },
          "autotypenumbers": "strict",
          "coloraxis": {
           "colorbar": {
            "outlinewidth": 0,
            "ticks": ""
           }
          },
          "colorscale": {
           "diverging": [
            [
             0,
             "#8e0152"
            ],
            [
             0.1,
             "#c51b7d"
            ],
            [
             0.2,
             "#de77ae"
            ],
            [
             0.3,
             "#f1b6da"
            ],
            [
             0.4,
             "#fde0ef"
            ],
            [
             0.5,
             "#f7f7f7"
            ],
            [
             0.6,
             "#e6f5d0"
            ],
            [
             0.7,
             "#b8e186"
            ],
            [
             0.8,
             "#7fbc41"
            ],
            [
             0.9,
             "#4d9221"
            ],
            [
             1,
             "#276419"
            ]
           ],
           "sequential": [
            [
             0,
             "#0d0887"
            ],
            [
             0.1111111111111111,
             "#46039f"
            ],
            [
             0.2222222222222222,
             "#7201a8"
            ],
            [
             0.3333333333333333,
             "#9c179e"
            ],
            [
             0.4444444444444444,
             "#bd3786"
            ],
            [
             0.5555555555555556,
             "#d8576b"
            ],
            [
             0.6666666666666666,
             "#ed7953"
            ],
            [
             0.7777777777777778,
             "#fb9f3a"
            ],
            [
             0.8888888888888888,
             "#fdca26"
            ],
            [
             1,
             "#f0f921"
            ]
           ],
           "sequentialminus": [
            [
             0,
             "#0d0887"
            ],
            [
             0.1111111111111111,
             "#46039f"
            ],
            [
             0.2222222222222222,
             "#7201a8"
            ],
            [
             0.3333333333333333,
             "#9c179e"
            ],
            [
             0.4444444444444444,
             "#bd3786"
            ],
            [
             0.5555555555555556,
             "#d8576b"
            ],
            [
             0.6666666666666666,
             "#ed7953"
            ],
            [
             0.7777777777777778,
             "#fb9f3a"
            ],
            [
             0.8888888888888888,
             "#fdca26"
            ],
            [
             1,
             "#f0f921"
            ]
           ]
          },
          "colorway": [
           "#636efa",
           "#EF553B",
           "#00cc96",
           "#ab63fa",
           "#FFA15A",
           "#19d3f3",
           "#FF6692",
           "#B6E880",
           "#FF97FF",
           "#FECB52"
          ],
          "font": {
           "color": "#2a3f5f"
          },
          "geo": {
           "bgcolor": "white",
           "lakecolor": "white",
           "landcolor": "#E5ECF6",
           "showlakes": true,
           "showland": true,
           "subunitcolor": "white"
          },
          "hoverlabel": {
           "align": "left"
          },
          "hovermode": "closest",
          "mapbox": {
           "style": "light"
          },
          "paper_bgcolor": "white",
          "plot_bgcolor": "#E5ECF6",
          "polar": {
           "angularaxis": {
            "gridcolor": "white",
            "linecolor": "white",
            "ticks": ""
           },
           "bgcolor": "#E5ECF6",
           "radialaxis": {
            "gridcolor": "white",
            "linecolor": "white",
            "ticks": ""
           }
          },
          "scene": {
           "xaxis": {
            "backgroundcolor": "#E5ECF6",
            "gridcolor": "white",
            "gridwidth": 2,
            "linecolor": "white",
            "showbackground": true,
            "ticks": "",
            "zerolinecolor": "white"
           },
           "yaxis": {
            "backgroundcolor": "#E5ECF6",
            "gridcolor": "white",
            "gridwidth": 2,
            "linecolor": "white",
            "showbackground": true,
            "ticks": "",
            "zerolinecolor": "white"
           },
           "zaxis": {
            "backgroundcolor": "#E5ECF6",
            "gridcolor": "white",
            "gridwidth": 2,
            "linecolor": "white",
            "showbackground": true,
            "ticks": "",
            "zerolinecolor": "white"
           }
          },
          "shapedefaults": {
           "line": {
            "color": "#2a3f5f"
           }
          },
          "ternary": {
           "aaxis": {
            "gridcolor": "white",
            "linecolor": "white",
            "ticks": ""
           },
           "baxis": {
            "gridcolor": "white",
            "linecolor": "white",
            "ticks": ""
           },
           "bgcolor": "#E5ECF6",
           "caxis": {
            "gridcolor": "white",
            "linecolor": "white",
            "ticks": ""
           }
          },
          "title": {
           "x": 0.05
          },
          "xaxis": {
           "automargin": true,
           "gridcolor": "white",
           "linecolor": "white",
           "ticks": "",
           "title": {
            "standoff": 15
           },
           "zerolinecolor": "white",
           "zerolinewidth": 2
          },
          "yaxis": {
           "automargin": true,
           "gridcolor": "white",
           "linecolor": "white",
           "ticks": "",
           "title": {
            "standoff": 15
           },
           "zerolinecolor": "white",
           "zerolinewidth": 2
          }
         }
        },
        "title": {
         "text": ""
        },
        "xaxis": {
         "gridcolor": "#cbd2d8",
         "showgrid": true,
         "tickfont": {
          "family": "Noto Sans",
          "size": 12
         },
         "tickformat": "%",
         "title": {
          "text": ""
         },
         "zeroline": false,
         "zerolinecolor": "#cbd2d8"
        },
        "yaxis": {
         "gridcolor": "#cbd2d8",
         "showgrid": false,
         "tickfont": {
          "family": "Noto Sans",
          "size": 12
         },
         "title": {
          "text": ""
         },
         "visible": true,
         "zeroline": false
        }
       }
      },
      "text/html": [
       "<div>                            <div id=\"e0134b10-4bf2-4d1b-bad5-7541aa3f2cd5\" class=\"plotly-graph-div\" style=\"height:525px; width:100%;\"></div>            <script type=\"text/javascript\">                require([\"plotly\"], function(Plotly) {                    window.PLOTLYENV=window.PLOTLYENV || {};                                    if (document.getElementById(\"e0134b10-4bf2-4d1b-bad5-7541aa3f2cd5\")) {                    Plotly.newPlot(                        \"e0134b10-4bf2-4d1b-bad5-7541aa3f2cd5\",                        [{\"marker\": {\"color\": \"#002d5a\"}, \"name\": \"Top 10\", \"orientation\": \"h\", \"showlegend\": false, \"type\": \"bar\", \"x\": [0.9836065573770492, 0.9084507042253521, 1.0, 0.9135802469135802, 0.8717948717948718, 0.8904109589041096, 0.8227513227513228, 0.7522935779816514, 0.8386167146974063, 0.7512820512820513, 0.754257907542579, 0.7320261437908496, 0.7671840354767184, 0.789587852494577, 0.7698412698412699, 0.7058823529411765, 0.735, 0.7879282218597063, 0.8256735340729001, 0.748546511627907, 0.7239512855209743, 0.6429447852760736, 0.5546318289786223, 0.5512405609492989, 0.5561555075593952, 0.5657620041753654, 0.5611285266457681, 0.5323741007194245, 0.5507109004739337], \"y\": [1896, 1900, 1904, 1908, 1912, 1920, 1924, 1928, 1932, 1936, 1948, 1952, 1956, 1960, 1964, 1968, 1972, 1976, 1980, 1984, 1988, 1992, 1996, 2000, 2004, 2008, 2012, 2016, 2020]}, {\"marker\": {\"color\": \"#0064b4\"}, \"name\": \"11 to 20\", \"orientation\": \"h\", \"showlegend\": false, \"type\": \"bar\", \"x\": [0.01639344262295082, 0.09154929577464789, 0.0, 0.08641975308641975, 0.1282051282051282, 0.1050228310502283, 0.15608465608465608, 0.18042813455657492, 0.138328530259366, 0.20512820512820512, 0.18248175182481752, 0.16122004357298475, 0.16186252771618626, 0.1301518438177874, 0.16071428571428573, 0.18216318785578747, 0.175, 0.13866231647634583, 0.12044374009508717, 0.1744186046511628, 0.17456021650879566, 0.20736196319018405, 0.20902612826603326, 0.1941747572815534, 0.19438444924406048, 0.17849686847599164, 0.17136886102403343, 0.1778006166495375, 0.17061611374407584], \"y\": [1896, 1900, 1904, 1908, 1912, 1920, 1924, 1928, 1932, 1936, 1948, 1952, 1956, 1960, 1964, 1968, 1972, 1976, 1980, 1984, 1988, 1992, 1996, 2000, 2004, 2008, 2012, 2016, 2020]}, {\"marker\": {\"color\": \"#00a5ff\"}, \"name\": \"21 to 40\", \"orientation\": \"h\", \"showlegend\": false, \"type\": \"bar\", \"x\": [0.0, 0.0, 0.0, 0.0, 0.0, 0.0045662100456621, 0.021164021164021163, 0.0672782874617737, 0.023054755043227664, 0.04358974358974359, 0.06326034063260341, 0.10021786492374728, 0.07095343680709534, 0.07158351409978309, 0.06746031746031746, 0.10436432637571158, 0.07666666666666666, 0.07177814029363784, 0.05388272583201268, 0.06686046511627906, 0.08525033829499323, 0.10920245398773006, 0.16152019002375298, 0.15857605177993528, 0.15226781857451405, 0.1430062630480167, 0.16614420062695925, 0.18499486125385406, 0.15071090047393365], \"y\": [1896, 1900, 1904, 1908, 1912, 1920, 1924, 1928, 1932, 1936, 1948, 1952, 1956, 1960, 1964, 1968, 1972, 1976, 1980, 1984, 1988, 1992, 1996, 2000, 2004, 2008, 2012, 2016, 2020]}, {\"marker\": {\"color\": \"#eb6e14\"}, \"name\": \"40 and under\", \"orientation\": \"h\", \"showlegend\": false, \"type\": \"bar\", \"x\": [0.0, 0.0, 0.0, 0.0, 0.0, 0.0, 0.0, 0.0, 0.0, 0.0, 0.0, 0.006535947712418301, 0.0, 0.008676789587852495, 0.001984126984126984, 0.007590132827324478, 0.013333333333333334, 0.0016313213703099511, 0.0, 0.010174418604651164, 0.016238159675236806, 0.04049079754601227, 0.07482185273159145, 0.09600862998921252, 0.09719222462203024, 0.1127348643006263, 0.1013584117032393, 0.10483042137718397, 0.12796208530805686], \"y\": [1896, 1900, 1904, 1908, 1912, 1920, 1924, 1928, 1932, 1936, 1948, 1952, 1956, 1960, 1964, 1968, 1972, 1976, 1980, 1984, 1988, 1992, 1996, 2000, 2004, 2008, 2012, 2016, 2020]}],                        {\"barmode\": \"stack\", \"margin\": {\"pad\": 30}, \"paper_bgcolor\": \"#f1f3f5\", \"plot_bgcolor\": \"#f1f3f5\", \"template\": {\"data\": {\"bar\": [{\"error_x\": {\"color\": \"#2a3f5f\"}, \"error_y\": {\"color\": \"#2a3f5f\"}, \"marker\": {\"line\": {\"color\": \"#E5ECF6\", \"width\": 0.5}}, \"type\": \"bar\"}], \"barpolar\": [{\"marker\": {\"line\": {\"color\": \"#E5ECF6\", \"width\": 0.5}}, \"type\": \"barpolar\"}], \"carpet\": [{\"aaxis\": {\"endlinecolor\": \"#2a3f5f\", \"gridcolor\": \"white\", \"linecolor\": \"white\", \"minorgridcolor\": \"white\", \"startlinecolor\": \"#2a3f5f\"}, \"baxis\": {\"endlinecolor\": \"#2a3f5f\", \"gridcolor\": \"white\", \"linecolor\": \"white\", \"minorgridcolor\": \"white\", \"startlinecolor\": \"#2a3f5f\"}, \"type\": \"carpet\"}], \"choropleth\": [{\"colorbar\": {\"outlinewidth\": 0, \"ticks\": \"\"}, \"type\": \"choropleth\"}], \"contour\": [{\"colorbar\": {\"outlinewidth\": 0, \"ticks\": \"\"}, \"colorscale\": [[0.0, \"#0d0887\"], [0.1111111111111111, \"#46039f\"], [0.2222222222222222, \"#7201a8\"], [0.3333333333333333, \"#9c179e\"], [0.4444444444444444, \"#bd3786\"], [0.5555555555555556, \"#d8576b\"], [0.6666666666666666, \"#ed7953\"], [0.7777777777777778, \"#fb9f3a\"], [0.8888888888888888, \"#fdca26\"], [1.0, \"#f0f921\"]], \"type\": \"contour\"}], \"contourcarpet\": [{\"colorbar\": {\"outlinewidth\": 0, \"ticks\": \"\"}, \"type\": \"contourcarpet\"}], \"heatmap\": [{\"colorbar\": {\"outlinewidth\": 0, \"ticks\": \"\"}, \"colorscale\": [[0.0, \"#0d0887\"], [0.1111111111111111, \"#46039f\"], [0.2222222222222222, \"#7201a8\"], [0.3333333333333333, \"#9c179e\"], [0.4444444444444444, \"#bd3786\"], [0.5555555555555556, \"#d8576b\"], [0.6666666666666666, \"#ed7953\"], [0.7777777777777778, \"#fb9f3a\"], [0.8888888888888888, \"#fdca26\"], [1.0, \"#f0f921\"]], \"type\": \"heatmap\"}], \"heatmapgl\": [{\"colorbar\": {\"outlinewidth\": 0, \"ticks\": \"\"}, \"colorscale\": [[0.0, \"#0d0887\"], [0.1111111111111111, \"#46039f\"], [0.2222222222222222, \"#7201a8\"], [0.3333333333333333, \"#9c179e\"], [0.4444444444444444, \"#bd3786\"], [0.5555555555555556, \"#d8576b\"], [0.6666666666666666, \"#ed7953\"], [0.7777777777777778, \"#fb9f3a\"], [0.8888888888888888, \"#fdca26\"], [1.0, \"#f0f921\"]], \"type\": \"heatmapgl\"}], \"histogram\": [{\"marker\": {\"colorbar\": {\"outlinewidth\": 0, \"ticks\": \"\"}}, \"type\": \"histogram\"}], \"histogram2d\": [{\"colorbar\": {\"outlinewidth\": 0, \"ticks\": \"\"}, \"colorscale\": [[0.0, \"#0d0887\"], [0.1111111111111111, \"#46039f\"], [0.2222222222222222, \"#7201a8\"], [0.3333333333333333, \"#9c179e\"], [0.4444444444444444, \"#bd3786\"], [0.5555555555555556, \"#d8576b\"], [0.6666666666666666, \"#ed7953\"], [0.7777777777777778, \"#fb9f3a\"], [0.8888888888888888, \"#fdca26\"], [1.0, \"#f0f921\"]], \"type\": \"histogram2d\"}], \"histogram2dcontour\": [{\"colorbar\": {\"outlinewidth\": 0, \"ticks\": \"\"}, \"colorscale\": [[0.0, \"#0d0887\"], [0.1111111111111111, \"#46039f\"], [0.2222222222222222, \"#7201a8\"], [0.3333333333333333, \"#9c179e\"], [0.4444444444444444, \"#bd3786\"], [0.5555555555555556, \"#d8576b\"], [0.6666666666666666, \"#ed7953\"], [0.7777777777777778, \"#fb9f3a\"], [0.8888888888888888, \"#fdca26\"], [1.0, \"#f0f921\"]], \"type\": \"histogram2dcontour\"}], \"mesh3d\": [{\"colorbar\": {\"outlinewidth\": 0, \"ticks\": \"\"}, \"type\": \"mesh3d\"}], \"parcoords\": [{\"line\": {\"colorbar\": {\"outlinewidth\": 0, \"ticks\": \"\"}}, \"type\": \"parcoords\"}], \"pie\": [{\"automargin\": true, \"type\": \"pie\"}], \"scatter\": [{\"marker\": {\"colorbar\": {\"outlinewidth\": 0, \"ticks\": \"\"}}, \"type\": \"scatter\"}], \"scatter3d\": [{\"line\": {\"colorbar\": {\"outlinewidth\": 0, \"ticks\": \"\"}}, \"marker\": {\"colorbar\": {\"outlinewidth\": 0, \"ticks\": \"\"}}, \"type\": \"scatter3d\"}], \"scattercarpet\": [{\"marker\": {\"colorbar\": {\"outlinewidth\": 0, \"ticks\": \"\"}}, \"type\": \"scattercarpet\"}], \"scattergeo\": [{\"marker\": {\"colorbar\": {\"outlinewidth\": 0, \"ticks\": \"\"}}, \"type\": \"scattergeo\"}], \"scattergl\": [{\"marker\": {\"colorbar\": {\"outlinewidth\": 0, \"ticks\": \"\"}}, \"type\": \"scattergl\"}], \"scattermapbox\": [{\"marker\": {\"colorbar\": {\"outlinewidth\": 0, \"ticks\": \"\"}}, \"type\": \"scattermapbox\"}], \"scatterpolar\": [{\"marker\": {\"colorbar\": {\"outlinewidth\": 0, \"ticks\": \"\"}}, \"type\": \"scatterpolar\"}], \"scatterpolargl\": [{\"marker\": {\"colorbar\": {\"outlinewidth\": 0, \"ticks\": \"\"}}, \"type\": \"scatterpolargl\"}], \"scatterternary\": [{\"marker\": {\"colorbar\": {\"outlinewidth\": 0, \"ticks\": \"\"}}, \"type\": \"scatterternary\"}], \"surface\": [{\"colorbar\": {\"outlinewidth\": 0, \"ticks\": \"\"}, \"colorscale\": [[0.0, \"#0d0887\"], [0.1111111111111111, \"#46039f\"], [0.2222222222222222, \"#7201a8\"], [0.3333333333333333, \"#9c179e\"], [0.4444444444444444, \"#bd3786\"], [0.5555555555555556, \"#d8576b\"], [0.6666666666666666, \"#ed7953\"], [0.7777777777777778, \"#fb9f3a\"], [0.8888888888888888, \"#fdca26\"], [1.0, \"#f0f921\"]], \"type\": \"surface\"}], \"table\": [{\"cells\": {\"fill\": {\"color\": \"#EBF0F8\"}, \"line\": {\"color\": \"white\"}}, \"header\": {\"fill\": {\"color\": \"#C8D4E3\"}, \"line\": {\"color\": \"white\"}}, \"type\": \"table\"}]}, \"layout\": {\"annotationdefaults\": {\"arrowcolor\": \"#2a3f5f\", \"arrowhead\": 0, \"arrowwidth\": 1}, \"autotypenumbers\": \"strict\", \"coloraxis\": {\"colorbar\": {\"outlinewidth\": 0, \"ticks\": \"\"}}, \"colorscale\": {\"diverging\": [[0, \"#8e0152\"], [0.1, \"#c51b7d\"], [0.2, \"#de77ae\"], [0.3, \"#f1b6da\"], [0.4, \"#fde0ef\"], [0.5, \"#f7f7f7\"], [0.6, \"#e6f5d0\"], [0.7, \"#b8e186\"], [0.8, \"#7fbc41\"], [0.9, \"#4d9221\"], [1, \"#276419\"]], \"sequential\": [[0.0, \"#0d0887\"], [0.1111111111111111, \"#46039f\"], [0.2222222222222222, \"#7201a8\"], [0.3333333333333333, \"#9c179e\"], [0.4444444444444444, \"#bd3786\"], [0.5555555555555556, \"#d8576b\"], [0.6666666666666666, \"#ed7953\"], [0.7777777777777778, \"#fb9f3a\"], [0.8888888888888888, \"#fdca26\"], [1.0, \"#f0f921\"]], \"sequentialminus\": [[0.0, \"#0d0887\"], [0.1111111111111111, \"#46039f\"], [0.2222222222222222, \"#7201a8\"], [0.3333333333333333, \"#9c179e\"], [0.4444444444444444, \"#bd3786\"], [0.5555555555555556, \"#d8576b\"], [0.6666666666666666, \"#ed7953\"], [0.7777777777777778, \"#fb9f3a\"], [0.8888888888888888, \"#fdca26\"], [1.0, \"#f0f921\"]]}, \"colorway\": [\"#636efa\", \"#EF553B\", \"#00cc96\", \"#ab63fa\", \"#FFA15A\", \"#19d3f3\", \"#FF6692\", \"#B6E880\", \"#FF97FF\", \"#FECB52\"], \"font\": {\"color\": \"#2a3f5f\"}, \"geo\": {\"bgcolor\": \"white\", \"lakecolor\": \"white\", \"landcolor\": \"#E5ECF6\", \"showlakes\": true, \"showland\": true, \"subunitcolor\": \"white\"}, \"hoverlabel\": {\"align\": \"left\"}, \"hovermode\": \"closest\", \"mapbox\": {\"style\": \"light\"}, \"paper_bgcolor\": \"white\", \"plot_bgcolor\": \"#E5ECF6\", \"polar\": {\"angularaxis\": {\"gridcolor\": \"white\", \"linecolor\": \"white\", \"ticks\": \"\"}, \"bgcolor\": \"#E5ECF6\", \"radialaxis\": {\"gridcolor\": \"white\", \"linecolor\": \"white\", \"ticks\": \"\"}}, \"scene\": {\"xaxis\": {\"backgroundcolor\": \"#E5ECF6\", \"gridcolor\": \"white\", \"gridwidth\": 2, \"linecolor\": \"white\", \"showbackground\": true, \"ticks\": \"\", \"zerolinecolor\": \"white\"}, \"yaxis\": {\"backgroundcolor\": \"#E5ECF6\", \"gridcolor\": \"white\", \"gridwidth\": 2, \"linecolor\": \"white\", \"showbackground\": true, \"ticks\": \"\", \"zerolinecolor\": \"white\"}, \"zaxis\": {\"backgroundcolor\": \"#E5ECF6\", \"gridcolor\": \"white\", \"gridwidth\": 2, \"linecolor\": \"white\", \"showbackground\": true, \"ticks\": \"\", \"zerolinecolor\": \"white\"}}, \"shapedefaults\": {\"line\": {\"color\": \"#2a3f5f\"}}, \"ternary\": {\"aaxis\": {\"gridcolor\": \"white\", \"linecolor\": \"white\", \"ticks\": \"\"}, \"baxis\": {\"gridcolor\": \"white\", \"linecolor\": \"white\", \"ticks\": \"\"}, \"bgcolor\": \"#E5ECF6\", \"caxis\": {\"gridcolor\": \"white\", \"linecolor\": \"white\", \"ticks\": \"\"}}, \"title\": {\"x\": 0.05}, \"xaxis\": {\"automargin\": true, \"gridcolor\": \"white\", \"linecolor\": \"white\", \"ticks\": \"\", \"title\": {\"standoff\": 15}, \"zerolinecolor\": \"white\", \"zerolinewidth\": 2}, \"yaxis\": {\"automargin\": true, \"gridcolor\": \"white\", \"linecolor\": \"white\", \"ticks\": \"\", \"title\": {\"standoff\": 15}, \"zerolinecolor\": \"white\", \"zerolinewidth\": 2}}}, \"title\": {\"text\": \"\"}, \"xaxis\": {\"gridcolor\": \"#cbd2d8\", \"showgrid\": true, \"tickfont\": {\"family\": \"Noto Sans\", \"size\": 12}, \"tickformat\": \"%\", \"title\": {\"text\": \"\"}, \"zeroline\": false, \"zerolinecolor\": \"#cbd2d8\"}, \"yaxis\": {\"gridcolor\": \"#cbd2d8\", \"showgrid\": false, \"tickfont\": {\"family\": \"Noto Sans\", \"size\": 12}, \"title\": {\"text\": \"\"}, \"visible\": true, \"zeroline\": false}},                        {\"responsive\": true}                    ).then(function(){\n",
       "                            \n",
       "var gd = document.getElementById('e0134b10-4bf2-4d1b-bad5-7541aa3f2cd5');\n",
       "var x = new MutationObserver(function (mutations, observer) {{\n",
       "        var display = window.getComputedStyle(gd).display;\n",
       "        if (!display || display === 'none') {{\n",
       "            console.log([gd, 'removed!']);\n",
       "            Plotly.purge(gd);\n",
       "            observer.disconnect();\n",
       "        }}\n",
       "}});\n",
       "\n",
       "// Listen for the removal of the full notebook cells\n",
       "var notebookContainer = gd.closest('#notebook-container');\n",
       "if (notebookContainer) {{\n",
       "    x.observe(notebookContainer, {childList: true});\n",
       "}}\n",
       "\n",
       "// Listen for the clearing of the current output cell\n",
       "var outputEl = gd.closest('.output');\n",
       "if (outputEl) {{\n",
       "    x.observe(outputEl, {childList: true});\n",
       "}}\n",
       "\n",
       "                        })                };                });            </script>        </div>"
      ]
     },
     "metadata": {},
     "output_type": "display_data"
    }
   ],
   "source": [
    "stacked_share_by_year(tby)"
   ]
  },
  {
   "cell_type": "markdown",
   "metadata": {},
   "source": [
    "Yay! Apparently the losers are winning more. See how the green and blue nations, lower in the medal rankings, are winning an increasing share of medals."
   ]
  },
  {
   "cell_type": "markdown",
   "metadata": {},
   "source": [
    "#### Save charts "
   ]
  },
  {
   "cell_type": "code",
   "execution_count": 38,
   "metadata": {},
   "outputs": [],
   "source": [
    "vr.to_csv(\"../output/csvs/victory_ratio.csv\", index=False)"
   ]
  },
  {
   "cell_type": "code",
   "execution_count": 39,
   "metadata": {},
   "outputs": [],
   "source": [
    "tby.to_csv(\"../output/csvs/totals_by_year.csv\", index=False)"
   ]
  }
 ],
 "metadata": {
  "kernelspec": {
   "display_name": "Python 3",
   "language": "python",
   "name": "python3"
  },
  "language_info": {
   "codemirror_mode": {
    "name": "ipython",
    "version": 3
   },
   "file_extension": ".py",
   "mimetype": "text/x-python",
   "name": "python",
   "nbconvert_exporter": "python",
   "pygments_lexer": "ipython3",
   "version": "3.9.12"
  }
 },
 "nbformat": 4,
 "nbformat_minor": 2
}

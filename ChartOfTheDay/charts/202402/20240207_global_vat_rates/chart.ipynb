{
 "cells": [
  {
   "cell_type": "code",
   "execution_count": 13,
   "metadata": {},
   "outputs": [],
   "source": [
    "import pandas as pd, country_converter as coco"
   ]
  },
  {
   "cell_type": "code",
   "execution_count": 27,
   "metadata": {},
   "outputs": [
    {
     "name": "stderr",
     "output_type": "stream",
     "text": [
      "Channel Islands not found in regex\n",
      "Channel Islands not found in regex\n"
     ]
    }
   ],
   "source": [
    "# Open .xlsx file\n",
    "df = pd.read_excel('vat_substandard_rates.xlsx', skiprows=3)\n",
    "\n",
    "# Remove bottom 11 rows\n",
    "df = df[:-11].copy()\n",
    "\n",
    "# Rename 'Unnamed: 0' to 'Country'\n",
    "df.rename(columns={'Unnamed: 0': 'Country'}, inplace=True)\n",
    "\n",
    "# Add 'ISO3' column\n",
    "df['ISO3'] = coco.convert(names=df['Country'], to='ISO3')\n",
    "\n",
    "# Add continent column\n",
    "df['Continent'] = coco.convert(names=df['Country'], to='continent')\n",
    "\n",
    "# Drop if not found\n",
    "df = df[df['ISO3'] != 'not found'].copy()\n",
    "\n",
    "# Filter to Continent\n",
    "df = df[df['Continent'] == 'Europe'].reset_index(drop=True).copy()"
   ]
  },
  {
   "cell_type": "code",
   "execution_count": 40,
   "metadata": {},
   "outputs": [],
   "source": [
    "# Clean `VAT/GST (standard)` column. Rules:\n",
    "# If value is percentage (e.g. 20%), convert to decimal (e.g. 0.20)\n",
    "# If value us 'no', convert to 0\n",
    "# If value starts with percentage, then has other text, take the first percentage and convert to decimal\n",
    "# If value is NaN, convert to 0\n",
    "\n",
    "def clean_vat(row):\n",
    "    if row['VAT/GST (standard)'] == 'no':\n",
    "        return 0\n",
    "    elif pd.isna(row['VAT/GST (standard)']):\n",
    "        return 0\n",
    "    else:\n",
    "        # Convert value to string and split\n",
    "        if '%' in str(row['VAT/GST (standard)']):\n",
    "            value_string = str(row['VAT/GST (standard)']).split('%')[0]\n",
    "            return float(value_string) / 100\n",
    "        else:\n",
    "            return row['VAT/GST (standard)']\n",
    "\n",
    "df['vat_cleaned'] = df.apply(clean_vat, axis=1)"
   ]
  },
  {
   "cell_type": "code",
   "execution_count": 42,
   "metadata": {},
   "outputs": [],
   "source": [
    "df.to_csv('imf_vat_europe.csv', index=False)"
   ]
  },
  {
   "cell_type": "markdown",
   "metadata": {},
   "source": [
    "Let's combine with TradingEconomics dataset on standard sales tax / vat rates."
   ]
  },
  {
   "cell_type": "code",
   "execution_count": 21,
   "metadata": {},
   "outputs": [],
   "source": [
    "# Open .xlsx file\n",
    "df_te = pd.read_excel('vat_substandard_rates.xlsx', sheet_name='TE')"
   ]
  },
  {
   "cell_type": "code",
   "execution_count": 22,
   "metadata": {},
   "outputs": [
    {
     "data": {
      "text/html": [
       "<div>\n",
       "<style scoped>\n",
       "    .dataframe tbody tr th:only-of-type {\n",
       "        vertical-align: middle;\n",
       "    }\n",
       "\n",
       "    .dataframe tbody tr th {\n",
       "        vertical-align: top;\n",
       "    }\n",
       "\n",
       "    .dataframe thead th {\n",
       "        text-align: right;\n",
       "    }\n",
       "</style>\n",
       "<table border=\"1\" class=\"dataframe\">\n",
       "  <thead>\n",
       "    <tr style=\"text-align: right;\">\n",
       "      <th></th>\n",
       "      <th>Country</th>\n",
       "      <th>Last</th>\n",
       "      <th>Reference</th>\n",
       "    </tr>\n",
       "  </thead>\n",
       "  <tbody>\n",
       "    <tr>\n",
       "      <th>0</th>\n",
       "      <td>Afghanistan</td>\n",
       "      <td>10.0</td>\n",
       "      <td>2022-12-01</td>\n",
       "    </tr>\n",
       "    <tr>\n",
       "      <th>1</th>\n",
       "      <td>Albania</td>\n",
       "      <td>20.0</td>\n",
       "      <td>2023-12-01</td>\n",
       "    </tr>\n",
       "    <tr>\n",
       "      <th>2</th>\n",
       "      <td>Algeria</td>\n",
       "      <td>19.0</td>\n",
       "      <td>2023-12-01</td>\n",
       "    </tr>\n",
       "    <tr>\n",
       "      <th>3</th>\n",
       "      <td>Andorra</td>\n",
       "      <td>4.5</td>\n",
       "      <td>2022-12-01</td>\n",
       "    </tr>\n",
       "    <tr>\n",
       "      <th>4</th>\n",
       "      <td>Angola</td>\n",
       "      <td>14.0</td>\n",
       "      <td>2023-12-01</td>\n",
       "    </tr>\n",
       "    <tr>\n",
       "      <th>...</th>\n",
       "      <td>...</td>\n",
       "      <td>...</td>\n",
       "      <td>...</td>\n",
       "    </tr>\n",
       "    <tr>\n",
       "      <th>174</th>\n",
       "      <td>Vanuatu</td>\n",
       "      <td>15.0</td>\n",
       "      <td>2023-12-01</td>\n",
       "    </tr>\n",
       "    <tr>\n",
       "      <th>175</th>\n",
       "      <td>Venezuela</td>\n",
       "      <td>16.0</td>\n",
       "      <td>2023-12-01</td>\n",
       "    </tr>\n",
       "    <tr>\n",
       "      <th>176</th>\n",
       "      <td>Vietnam</td>\n",
       "      <td>10.0</td>\n",
       "      <td>2023-12-01</td>\n",
       "    </tr>\n",
       "    <tr>\n",
       "      <th>177</th>\n",
       "      <td>Zambia</td>\n",
       "      <td>16.0</td>\n",
       "      <td>2023-12-01</td>\n",
       "    </tr>\n",
       "    <tr>\n",
       "      <th>178</th>\n",
       "      <td>Zimbabwe</td>\n",
       "      <td>14.5</td>\n",
       "      <td>2023-12-01</td>\n",
       "    </tr>\n",
       "  </tbody>\n",
       "</table>\n",
       "<p>179 rows × 3 columns</p>\n",
       "</div>"
      ],
      "text/plain": [
       "         Country  Last  Reference\n",
       "0    Afghanistan  10.0 2022-12-01\n",
       "1        Albania  20.0 2023-12-01\n",
       "2        Algeria  19.0 2023-12-01\n",
       "3        Andorra   4.5 2022-12-01\n",
       "4         Angola  14.0 2023-12-01\n",
       "..           ...   ...        ...\n",
       "174      Vanuatu  15.0 2023-12-01\n",
       "175    Venezuela  16.0 2023-12-01\n",
       "176      Vietnam  10.0 2023-12-01\n",
       "177       Zambia  16.0 2023-12-01\n",
       "178     Zimbabwe  14.5 2023-12-01\n",
       "\n",
       "[179 rows x 3 columns]"
      ]
     },
     "execution_count": 22,
     "metadata": {},
     "output_type": "execute_result"
    }
   ],
   "source": [
    "df_te"
   ]
  },
  {
   "cell_type": "code",
   "execution_count": null,
   "metadata": {},
   "outputs": [],
   "source": []
  }
 ],
 "metadata": {
  "kernelspec": {
   "display_name": "datasci",
   "language": "python",
   "name": "python3"
  },
  "language_info": {
   "codemirror_mode": {
    "name": "ipython",
    "version": 3
   },
   "file_extension": ".py",
   "mimetype": "text/x-python",
   "name": "python",
   "nbconvert_exporter": "python",
   "pygments_lexer": "ipython3",
   "version": "3.11.6"
  }
 },
 "nbformat": 4,
 "nbformat_minor": 2
}

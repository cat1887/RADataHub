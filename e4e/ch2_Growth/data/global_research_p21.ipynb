{
 "cells": [
  {
   "cell_type": "code",
   "execution_count": 67,
   "metadata": {},
   "outputs": [],
   "source": [
    "import pandas as pd\n",
    "import numpy as np  "
   ]
  },
  {
   "cell_type": "code",
   "execution_count": 68,
   "metadata": {},
   "outputs": [],
   "source": [
    "df = pd.read_csv(\"raw.githubusercontent.com_jhellingsdata_jhellingsdata.github.io_main_Data_growth-global_research_gdp.csv\")\n",
    "#Adding the 21 most populous countries ex Bangladesh as it does not have R&D data and replacing with France\n",
    "lis_cont = [\"China\", \"India\", \"United States\", \"Indonesia\", \"Pakistan\", \"Brazil\", \"Nigeria\", \"Bangladesh\", \"Russia\", \"Mexico\", \"Japan\", \"Ethiopia\", \"Philippines\", \"Egypt\", \"Vietnam\", \"DR Congo\", \"Turkiye\", \"Iran\", \"Germany\", \"Thailand\", \"United Kingdom\", \"France\" ]\n",
    "df = df[df[\"Country\"].isin(lis_cont)].reset_index(drop=True)\n",
    "#Manually adding Turkey data\n",
    "df.loc[-1]  = [np.nan, \"Turkey\", \"2014\", \"1.01\", \"30452.1\", np.nan, np.nan]\n",
    "df.index = df.index +1\n",
    "df =df.sort_index()\n",
    "lis_cont2 = df.Country"
   ]
  },
  {
   "cell_type": "code",
   "execution_count": 74,
   "metadata": {},
   "outputs": [],
   "source": [
    "df.to_csv(\"global_research_output_p21.csv\")"
   ]
  }
 ],
 "metadata": {
  "kernelspec": {
   "display_name": "base",
   "language": "python",
   "name": "python3"
  },
  "language_info": {
   "codemirror_mode": {
    "name": "ipython",
    "version": 3
   },
   "file_extension": ".py",
   "mimetype": "text/x-python",
   "name": "python",
   "nbconvert_exporter": "python",
   "pygments_lexer": "ipython3",
   "version": "3.9.13"
  },
  "orig_nbformat": 4
 },
 "nbformat": 4,
 "nbformat_minor": 2
}

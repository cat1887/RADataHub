{
 "cells": [
  {
   "cell_type": "code",
   "execution_count": 24,
   "metadata": {},
   "outputs": [],
   "source": [
    "import pandas as pd\n",
    "import numpy as npx\n",
    "from bs4 import BeautifulSoup\n",
    "import requests\n",
    "import time\n",
    "import os"
   ]
  },
  {
   "cell_type": "code",
   "execution_count": 2,
   "metadata": {},
   "outputs": [],
   "source": [
    "df = pd.read_csv(\"India Census_2011.csv\")"
   ]
  },
  {
   "cell_type": "code",
   "execution_count": 16,
   "metadata": {},
   "outputs": [],
   "source": [
    "with open(\"lit_table.html\", \"r\") as f:\n",
    "    soup = BeautifulSoup(f, \"html.parser\")"
   ]
  },
  {
   "cell_type": "code",
   "execution_count": 23,
   "metadata": {},
   "outputs": [
    {
     "name": "stderr",
     "output_type": "stream",
     "text": [
      "/Users/finn/anaconda3/lib/python3.11/site-packages/urllib3/connectionpool.py:1056: InsecureRequestWarning: Unverified HTTPS request is being made to host 'censusindia.gov.in'. Adding certificate verification is strongly advised. See: https://urllib3.readthedocs.io/en/1.26.x/advanced-usage.html#ssl-warnings\n",
      "  warnings.warn(\n"
     ]
    },
    {
     "name": "stdout",
     "output_type": "stream",
     "text": [
      "Downloaded DDW-3500C-08.xlsx\n"
     ]
    },
    {
     "name": "stderr",
     "output_type": "stream",
     "text": [
      "/Users/finn/anaconda3/lib/python3.11/site-packages/urllib3/connectionpool.py:1056: InsecureRequestWarning: Unverified HTTPS request is being made to host 'censusindia.gov.in'. Adding certificate verification is strongly advised. See: https://urllib3.readthedocs.io/en/1.26.x/advanced-usage.html#ssl-warnings\n",
      "  warnings.warn(\n"
     ]
    },
    {
     "name": "stdout",
     "output_type": "stream",
     "text": [
      "Downloaded DDW-2800C-08.xlsx\n"
     ]
    },
    {
     "name": "stderr",
     "output_type": "stream",
     "text": [
      "/Users/finn/anaconda3/lib/python3.11/site-packages/urllib3/connectionpool.py:1056: InsecureRequestWarning: Unverified HTTPS request is being made to host 'censusindia.gov.in'. Adding certificate verification is strongly advised. See: https://urllib3.readthedocs.io/en/1.26.x/advanced-usage.html#ssl-warnings\n",
      "  warnings.warn(\n"
     ]
    },
    {
     "name": "stdout",
     "output_type": "stream",
     "text": [
      "Downloaded DDW-1200C-08.xlsx\n"
     ]
    },
    {
     "name": "stderr",
     "output_type": "stream",
     "text": [
      "/Users/finn/anaconda3/lib/python3.11/site-packages/urllib3/connectionpool.py:1056: InsecureRequestWarning: Unverified HTTPS request is being made to host 'censusindia.gov.in'. Adding certificate verification is strongly advised. See: https://urllib3.readthedocs.io/en/1.26.x/advanced-usage.html#ssl-warnings\n",
      "  warnings.warn(\n"
     ]
    },
    {
     "name": "stdout",
     "output_type": "stream",
     "text": [
      "Downloaded DDW-1800C-08.xlsx\n"
     ]
    },
    {
     "name": "stderr",
     "output_type": "stream",
     "text": [
      "/Users/finn/anaconda3/lib/python3.11/site-packages/urllib3/connectionpool.py:1056: InsecureRequestWarning: Unverified HTTPS request is being made to host 'censusindia.gov.in'. Adding certificate verification is strongly advised. See: https://urllib3.readthedocs.io/en/1.26.x/advanced-usage.html#ssl-warnings\n",
      "  warnings.warn(\n"
     ]
    },
    {
     "name": "stdout",
     "output_type": "stream",
     "text": [
      "Downloaded DDW-1000C-08.xlsx\n"
     ]
    },
    {
     "name": "stderr",
     "output_type": "stream",
     "text": [
      "/Users/finn/anaconda3/lib/python3.11/site-packages/urllib3/connectionpool.py:1056: InsecureRequestWarning: Unverified HTTPS request is being made to host 'censusindia.gov.in'. Adding certificate verification is strongly advised. See: https://urllib3.readthedocs.io/en/1.26.x/advanced-usage.html#ssl-warnings\n",
      "  warnings.warn(\n"
     ]
    },
    {
     "name": "stdout",
     "output_type": "stream",
     "text": [
      "Downloaded DDW-0400C-08.xlsx\n"
     ]
    },
    {
     "name": "stderr",
     "output_type": "stream",
     "text": [
      "/Users/finn/anaconda3/lib/python3.11/site-packages/urllib3/connectionpool.py:1056: InsecureRequestWarning: Unverified HTTPS request is being made to host 'censusindia.gov.in'. Adding certificate verification is strongly advised. See: https://urllib3.readthedocs.io/en/1.26.x/advanced-usage.html#ssl-warnings\n",
      "  warnings.warn(\n"
     ]
    },
    {
     "name": "stdout",
     "output_type": "stream",
     "text": [
      "Downloaded DDW-2200C-08.xlsx\n"
     ]
    },
    {
     "name": "stderr",
     "output_type": "stream",
     "text": [
      "/Users/finn/anaconda3/lib/python3.11/site-packages/urllib3/connectionpool.py:1056: InsecureRequestWarning: Unverified HTTPS request is being made to host 'censusindia.gov.in'. Adding certificate verification is strongly advised. See: https://urllib3.readthedocs.io/en/1.26.x/advanced-usage.html#ssl-warnings\n",
      "  warnings.warn(\n"
     ]
    },
    {
     "name": "stdout",
     "output_type": "stream",
     "text": [
      "Downloaded DDW-2600C-08.xlsx\n"
     ]
    },
    {
     "name": "stderr",
     "output_type": "stream",
     "text": [
      "/Users/finn/anaconda3/lib/python3.11/site-packages/urllib3/connectionpool.py:1056: InsecureRequestWarning: Unverified HTTPS request is being made to host 'censusindia.gov.in'. Adding certificate verification is strongly advised. See: https://urllib3.readthedocs.io/en/1.26.x/advanced-usage.html#ssl-warnings\n",
      "  warnings.warn(\n"
     ]
    },
    {
     "name": "stdout",
     "output_type": "stream",
     "text": [
      "Downloaded DDW-2500C-08.xlsx\n"
     ]
    },
    {
     "name": "stderr",
     "output_type": "stream",
     "text": [
      "/Users/finn/anaconda3/lib/python3.11/site-packages/urllib3/connectionpool.py:1056: InsecureRequestWarning: Unverified HTTPS request is being made to host 'censusindia.gov.in'. Adding certificate verification is strongly advised. See: https://urllib3.readthedocs.io/en/1.26.x/advanced-usage.html#ssl-warnings\n",
      "  warnings.warn(\n"
     ]
    },
    {
     "name": "stdout",
     "output_type": "stream",
     "text": [
      "Downloaded DDW-3000C-08.xlsx\n"
     ]
    },
    {
     "name": "stderr",
     "output_type": "stream",
     "text": [
      "/Users/finn/anaconda3/lib/python3.11/site-packages/urllib3/connectionpool.py:1056: InsecureRequestWarning: Unverified HTTPS request is being made to host 'censusindia.gov.in'. Adding certificate verification is strongly advised. See: https://urllib3.readthedocs.io/en/1.26.x/advanced-usage.html#ssl-warnings\n",
      "  warnings.warn(\n"
     ]
    },
    {
     "name": "stdout",
     "output_type": "stream",
     "text": [
      "Downloaded DDW-2400C-08.xlsx\n"
     ]
    },
    {
     "name": "stderr",
     "output_type": "stream",
     "text": [
      "/Users/finn/anaconda3/lib/python3.11/site-packages/urllib3/connectionpool.py:1056: InsecureRequestWarning: Unverified HTTPS request is being made to host 'censusindia.gov.in'. Adding certificate verification is strongly advised. See: https://urllib3.readthedocs.io/en/1.26.x/advanced-usage.html#ssl-warnings\n",
      "  warnings.warn(\n"
     ]
    },
    {
     "name": "stdout",
     "output_type": "stream",
     "text": [
      "Downloaded DDW-0600C-08.xlsx\n"
     ]
    },
    {
     "name": "stderr",
     "output_type": "stream",
     "text": [
      "/Users/finn/anaconda3/lib/python3.11/site-packages/urllib3/connectionpool.py:1056: InsecureRequestWarning: Unverified HTTPS request is being made to host 'censusindia.gov.in'. Adding certificate verification is strongly advised. See: https://urllib3.readthedocs.io/en/1.26.x/advanced-usage.html#ssl-warnings\n",
      "  warnings.warn(\n"
     ]
    },
    {
     "name": "stdout",
     "output_type": "stream",
     "text": [
      "Downloaded DDW-0200C-08.xlsx\n"
     ]
    },
    {
     "name": "stderr",
     "output_type": "stream",
     "text": [
      "/Users/finn/anaconda3/lib/python3.11/site-packages/urllib3/connectionpool.py:1056: InsecureRequestWarning: Unverified HTTPS request is being made to host 'censusindia.gov.in'. Adding certificate verification is strongly advised. See: https://urllib3.readthedocs.io/en/1.26.x/advanced-usage.html#ssl-warnings\n",
      "  warnings.warn(\n"
     ]
    },
    {
     "name": "stdout",
     "output_type": "stream",
     "text": [
      "Downloaded DDW-0000C-08.xlsx\n"
     ]
    },
    {
     "name": "stderr",
     "output_type": "stream",
     "text": [
      "/Users/finn/anaconda3/lib/python3.11/site-packages/urllib3/connectionpool.py:1056: InsecureRequestWarning: Unverified HTTPS request is being made to host 'censusindia.gov.in'. Adding certificate verification is strongly advised. See: https://urllib3.readthedocs.io/en/1.26.x/advanced-usage.html#ssl-warnings\n",
      "  warnings.warn(\n"
     ]
    },
    {
     "name": "stdout",
     "output_type": "stream",
     "text": [
      "Downloaded DDW-0100C-08.xlsx\n"
     ]
    },
    {
     "name": "stderr",
     "output_type": "stream",
     "text": [
      "/Users/finn/anaconda3/lib/python3.11/site-packages/urllib3/connectionpool.py:1056: InsecureRequestWarning: Unverified HTTPS request is being made to host 'censusindia.gov.in'. Adding certificate verification is strongly advised. See: https://urllib3.readthedocs.io/en/1.26.x/advanced-usage.html#ssl-warnings\n",
      "  warnings.warn(\n"
     ]
    },
    {
     "name": "stdout",
     "output_type": "stream",
     "text": [
      "Downloaded DDW-2000C-08.xlsx\n"
     ]
    },
    {
     "name": "stderr",
     "output_type": "stream",
     "text": [
      "/Users/finn/anaconda3/lib/python3.11/site-packages/urllib3/connectionpool.py:1056: InsecureRequestWarning: Unverified HTTPS request is being made to host 'censusindia.gov.in'. Adding certificate verification is strongly advised. See: https://urllib3.readthedocs.io/en/1.26.x/advanced-usage.html#ssl-warnings\n",
      "  warnings.warn(\n"
     ]
    },
    {
     "name": "stdout",
     "output_type": "stream",
     "text": [
      "Downloaded DDW-2900C-08.xlsx\n"
     ]
    },
    {
     "name": "stderr",
     "output_type": "stream",
     "text": [
      "/Users/finn/anaconda3/lib/python3.11/site-packages/urllib3/connectionpool.py:1056: InsecureRequestWarning: Unverified HTTPS request is being made to host 'censusindia.gov.in'. Adding certificate verification is strongly advised. See: https://urllib3.readthedocs.io/en/1.26.x/advanced-usage.html#ssl-warnings\n",
      "  warnings.warn(\n"
     ]
    },
    {
     "name": "stdout",
     "output_type": "stream",
     "text": [
      "Downloaded DDW-3200C-08.xlsx\n"
     ]
    },
    {
     "name": "stderr",
     "output_type": "stream",
     "text": [
      "/Users/finn/anaconda3/lib/python3.11/site-packages/urllib3/connectionpool.py:1056: InsecureRequestWarning: Unverified HTTPS request is being made to host 'censusindia.gov.in'. Adding certificate verification is strongly advised. See: https://urllib3.readthedocs.io/en/1.26.x/advanced-usage.html#ssl-warnings\n",
      "  warnings.warn(\n"
     ]
    },
    {
     "name": "stdout",
     "output_type": "stream",
     "text": [
      "Downloaded DDW-3100C-08.xlsx\n"
     ]
    },
    {
     "name": "stderr",
     "output_type": "stream",
     "text": [
      "/Users/finn/anaconda3/lib/python3.11/site-packages/urllib3/connectionpool.py:1056: InsecureRequestWarning: Unverified HTTPS request is being made to host 'censusindia.gov.in'. Adding certificate verification is strongly advised. See: https://urllib3.readthedocs.io/en/1.26.x/advanced-usage.html#ssl-warnings\n",
      "  warnings.warn(\n"
     ]
    },
    {
     "name": "stdout",
     "output_type": "stream",
     "text": [
      "Downloaded DDW-2300C-08.xlsx\n"
     ]
    },
    {
     "name": "stderr",
     "output_type": "stream",
     "text": [
      "/Users/finn/anaconda3/lib/python3.11/site-packages/urllib3/connectionpool.py:1056: InsecureRequestWarning: Unverified HTTPS request is being made to host 'censusindia.gov.in'. Adding certificate verification is strongly advised. See: https://urllib3.readthedocs.io/en/1.26.x/advanced-usage.html#ssl-warnings\n",
      "  warnings.warn(\n"
     ]
    },
    {
     "name": "stdout",
     "output_type": "stream",
     "text": [
      "Downloaded DDW-2700C-08.xlsx\n"
     ]
    },
    {
     "name": "stderr",
     "output_type": "stream",
     "text": [
      "/Users/finn/anaconda3/lib/python3.11/site-packages/urllib3/connectionpool.py:1056: InsecureRequestWarning: Unverified HTTPS request is being made to host 'censusindia.gov.in'. Adding certificate verification is strongly advised. See: https://urllib3.readthedocs.io/en/1.26.x/advanced-usage.html#ssl-warnings\n",
      "  warnings.warn(\n"
     ]
    },
    {
     "name": "stdout",
     "output_type": "stream",
     "text": [
      "Downloaded DDW-1400C-08.xlsx\n"
     ]
    },
    {
     "name": "stderr",
     "output_type": "stream",
     "text": [
      "/Users/finn/anaconda3/lib/python3.11/site-packages/urllib3/connectionpool.py:1056: InsecureRequestWarning: Unverified HTTPS request is being made to host 'censusindia.gov.in'. Adding certificate verification is strongly advised. See: https://urllib3.readthedocs.io/en/1.26.x/advanced-usage.html#ssl-warnings\n",
      "  warnings.warn(\n"
     ]
    },
    {
     "name": "stdout",
     "output_type": "stream",
     "text": [
      "Downloaded DDW-1700C-08.xlsx\n"
     ]
    },
    {
     "name": "stderr",
     "output_type": "stream",
     "text": [
      "/Users/finn/anaconda3/lib/python3.11/site-packages/urllib3/connectionpool.py:1056: InsecureRequestWarning: Unverified HTTPS request is being made to host 'censusindia.gov.in'. Adding certificate verification is strongly advised. See: https://urllib3.readthedocs.io/en/1.26.x/advanced-usage.html#ssl-warnings\n",
      "  warnings.warn(\n"
     ]
    },
    {
     "name": "stdout",
     "output_type": "stream",
     "text": [
      "Downloaded DDW-1500C-08.xlsx\n"
     ]
    },
    {
     "name": "stderr",
     "output_type": "stream",
     "text": [
      "/Users/finn/anaconda3/lib/python3.11/site-packages/urllib3/connectionpool.py:1056: InsecureRequestWarning: Unverified HTTPS request is being made to host 'censusindia.gov.in'. Adding certificate verification is strongly advised. See: https://urllib3.readthedocs.io/en/1.26.x/advanced-usage.html#ssl-warnings\n",
      "  warnings.warn(\n"
     ]
    },
    {
     "name": "stdout",
     "output_type": "stream",
     "text": [
      "Downloaded DDW-1300C-08.xlsx\n"
     ]
    },
    {
     "name": "stderr",
     "output_type": "stream",
     "text": [
      "/Users/finn/anaconda3/lib/python3.11/site-packages/urllib3/connectionpool.py:1056: InsecureRequestWarning: Unverified HTTPS request is being made to host 'censusindia.gov.in'. Adding certificate verification is strongly advised. See: https://urllib3.readthedocs.io/en/1.26.x/advanced-usage.html#ssl-warnings\n",
      "  warnings.warn(\n"
     ]
    },
    {
     "name": "stdout",
     "output_type": "stream",
     "text": [
      "Downloaded DDW-0700C-08.xlsx\n"
     ]
    },
    {
     "name": "stderr",
     "output_type": "stream",
     "text": [
      "/Users/finn/anaconda3/lib/python3.11/site-packages/urllib3/connectionpool.py:1056: InsecureRequestWarning: Unverified HTTPS request is being made to host 'censusindia.gov.in'. Adding certificate verification is strongly advised. See: https://urllib3.readthedocs.io/en/1.26.x/advanced-usage.html#ssl-warnings\n",
      "  warnings.warn(\n"
     ]
    },
    {
     "name": "stdout",
     "output_type": "stream",
     "text": [
      "Downloaded DDW-2100C-08.xlsx\n"
     ]
    },
    {
     "name": "stderr",
     "output_type": "stream",
     "text": [
      "/Users/finn/anaconda3/lib/python3.11/site-packages/urllib3/connectionpool.py:1056: InsecureRequestWarning: Unverified HTTPS request is being made to host 'censusindia.gov.in'. Adding certificate verification is strongly advised. See: https://urllib3.readthedocs.io/en/1.26.x/advanced-usage.html#ssl-warnings\n",
      "  warnings.warn(\n"
     ]
    },
    {
     "name": "stdout",
     "output_type": "stream",
     "text": [
      "Downloaded DDW-3400C-08.xlsx\n"
     ]
    },
    {
     "name": "stderr",
     "output_type": "stream",
     "text": [
      "/Users/finn/anaconda3/lib/python3.11/site-packages/urllib3/connectionpool.py:1056: InsecureRequestWarning: Unverified HTTPS request is being made to host 'censusindia.gov.in'. Adding certificate verification is strongly advised. See: https://urllib3.readthedocs.io/en/1.26.x/advanced-usage.html#ssl-warnings\n",
      "  warnings.warn(\n"
     ]
    },
    {
     "name": "stdout",
     "output_type": "stream",
     "text": [
      "Downloaded DDW-0300C-08.xlsx\n"
     ]
    },
    {
     "name": "stderr",
     "output_type": "stream",
     "text": [
      "/Users/finn/anaconda3/lib/python3.11/site-packages/urllib3/connectionpool.py:1056: InsecureRequestWarning: Unverified HTTPS request is being made to host 'censusindia.gov.in'. Adding certificate verification is strongly advised. See: https://urllib3.readthedocs.io/en/1.26.x/advanced-usage.html#ssl-warnings\n",
      "  warnings.warn(\n"
     ]
    },
    {
     "name": "stdout",
     "output_type": "stream",
     "text": [
      "Downloaded DDW-0800C-08.xlsx\n"
     ]
    },
    {
     "name": "stderr",
     "output_type": "stream",
     "text": [
      "/Users/finn/anaconda3/lib/python3.11/site-packages/urllib3/connectionpool.py:1056: InsecureRequestWarning: Unverified HTTPS request is being made to host 'censusindia.gov.in'. Adding certificate verification is strongly advised. See: https://urllib3.readthedocs.io/en/1.26.x/advanced-usage.html#ssl-warnings\n",
      "  warnings.warn(\n"
     ]
    },
    {
     "name": "stdout",
     "output_type": "stream",
     "text": [
      "Downloaded DDW-1100C-08.xlsx\n"
     ]
    },
    {
     "name": "stderr",
     "output_type": "stream",
     "text": [
      "/Users/finn/anaconda3/lib/python3.11/site-packages/urllib3/connectionpool.py:1056: InsecureRequestWarning: Unverified HTTPS request is being made to host 'censusindia.gov.in'. Adding certificate verification is strongly advised. See: https://urllib3.readthedocs.io/en/1.26.x/advanced-usage.html#ssl-warnings\n",
      "  warnings.warn(\n"
     ]
    },
    {
     "name": "stdout",
     "output_type": "stream",
     "text": [
      "Downloaded DDW-3300C-08.xlsx\n"
     ]
    },
    {
     "name": "stderr",
     "output_type": "stream",
     "text": [
      "/Users/finn/anaconda3/lib/python3.11/site-packages/urllib3/connectionpool.py:1056: InsecureRequestWarning: Unverified HTTPS request is being made to host 'censusindia.gov.in'. Adding certificate verification is strongly advised. See: https://urllib3.readthedocs.io/en/1.26.x/advanced-usage.html#ssl-warnings\n",
      "  warnings.warn(\n"
     ]
    },
    {
     "name": "stdout",
     "output_type": "stream",
     "text": [
      "Downloaded DDW-1600C-08.xlsx\n"
     ]
    },
    {
     "name": "stderr",
     "output_type": "stream",
     "text": [
      "/Users/finn/anaconda3/lib/python3.11/site-packages/urllib3/connectionpool.py:1056: InsecureRequestWarning: Unverified HTTPS request is being made to host 'censusindia.gov.in'. Adding certificate verification is strongly advised. See: https://urllib3.readthedocs.io/en/1.26.x/advanced-usage.html#ssl-warnings\n",
      "  warnings.warn(\n"
     ]
    },
    {
     "name": "stdout",
     "output_type": "stream",
     "text": [
      "Downloaded DDW-0900C-08.xlsx\n"
     ]
    },
    {
     "name": "stderr",
     "output_type": "stream",
     "text": [
      "/Users/finn/anaconda3/lib/python3.11/site-packages/urllib3/connectionpool.py:1056: InsecureRequestWarning: Unverified HTTPS request is being made to host 'censusindia.gov.in'. Adding certificate verification is strongly advised. See: https://urllib3.readthedocs.io/en/1.26.x/advanced-usage.html#ssl-warnings\n",
      "  warnings.warn(\n"
     ]
    },
    {
     "name": "stdout",
     "output_type": "stream",
     "text": [
      "Downloaded DDW-0500C-08.xlsx\n"
     ]
    },
    {
     "name": "stderr",
     "output_type": "stream",
     "text": [
      "/Users/finn/anaconda3/lib/python3.11/site-packages/urllib3/connectionpool.py:1056: InsecureRequestWarning: Unverified HTTPS request is being made to host 'censusindia.gov.in'. Adding certificate verification is strongly advised. See: https://urllib3.readthedocs.io/en/1.26.x/advanced-usage.html#ssl-warnings\n",
      "  warnings.warn(\n"
     ]
    },
    {
     "name": "stdout",
     "output_type": "stream",
     "text": [
      "Downloaded DDW-1900C-08.xlsx\n"
     ]
    }
   ],
   "source": [
    "# find every a tag\n",
    "for a in soup.find_all('a'):\n",
    "    file_name = a.get('href').split(\"/\")[-1]\n",
    "    with open(f\"literacy_tables/{file_name}\", \"wb\") as f:\n",
    "        f.write(requests.get(a.get('href'), verify=False).content)\n",
    "        time.sleep(1)\n",
    "        print(f\"Downloaded {file_name}\")"
   ]
  },
  {
   "cell_type": "markdown",
   "metadata": {},
   "source": [
    "# Merging and Cleaning The Tables"
   ]
  },
  {
   "cell_type": "code",
   "execution_count": 72,
   "metadata": {},
   "outputs": [
    {
     "name": "stdout",
     "output_type": "stream",
     "text": [
      "Reading DDW-1300C-08.xlsx\n",
      "Reading DDW-2400C-08.xlsx\n",
      "Reading DDW-2900C-08.xlsx\n",
      "Reading DDW-3500C-08.xlsx\n",
      "Reading DDW-0200C-08.xlsx\n",
      "Reading DDW-0700C-08.xlsx\n",
      "Reading DDW-3000C-08.xlsx\n",
      "Reading DDW-2100C-08.xlsx\n",
      "Reading DDW-1600C-08.xlsx\n",
      "Reading DDW-2600C-08.xlsx\n",
      "Reading DDW-1100C-08.xlsx\n",
      "Reading DDW-0000C-08.xlsx\n",
      "Reading DDW-3200C-08.xlsx\n",
      "Reading DDW-0500C-08.xlsx\n",
      "Reading DDW-1900C-08.xlsx\n",
      "Reading DDW-0800C-08.xlsx\n",
      "Reading DDW-1400C-08.xlsx\n",
      "Reading DDW-2300C-08.xlsx\n",
      "Reading DDW-0600C-08.xlsx\n",
      "Reading DDW-3100C-08.xlsx\n",
      "Reading DDW-2000C-08.xlsx\n",
      "Reading DDW-1700C-08.xlsx\n",
      "Reading DDW-1200C-08.xlsx\n",
      "Reading DDW-2500C-08.xlsx\n",
      "Reading DDW-2800C-08.xlsx\n",
      "Reading DDW-3400C-08.xlsx\n",
      "Reading DDW-0300C-08.xlsx\n",
      "Reading DDW-3300C-08.xlsx\n",
      "Reading DDW-0400C-08.xlsx\n",
      "Reading DDW-1800C-08.xlsx\n",
      "Reading DDW-0900C-08.xlsx\n",
      "Reading DDW-1500C-08.xlsx\n",
      "Reading DDW-2200C-08.xlsx\n",
      "Reading DDW-2700C-08.xlsx\n",
      "Reading DDW-1000C-08.xlsx\n",
      "Reading DDW-0100C-08.xlsx\n"
     ]
    }
   ],
   "source": [
    "dfs = []\n",
    "for path in os.listdir(\"literacy_tables\"):\n",
    "    if path.endswith(\".xlsx\") and not path.startswith(\"~\"):\n",
    "        print(f\"Reading {path}\")\n",
    "        df = pd.read_excel(f\"literacy_tables/{path}\", skiprows=5)\n",
    "        dfs.append(df)\n",
    "df = pd.concat(dfs)\n",
    "full_df = df.copy()"
   ]
  },
  {
   "cell_type": "code",
   "execution_count": 118,
   "metadata": {},
   "outputs": [
    {
     "name": "stdout",
     "output_type": "stream",
     "text": [
      "[nan 'All ages' '0-6' 7 8 9 10 11 12 13 14 15 16 17 18 19 '20-24' '25-29'\n",
      " '30-34' '35-39' '40-44' '45-49' '50-54' '55-59' '60-64' '65-69' '70-74'\n",
      " '75-79' '80+' 'Age not stated']\n"
     ]
    }
   ],
   "source": [
    "# the column names are a mess in the original files - defined across multiple rows\n",
    "# let's just use the numbered columns to rename them and keep only the data we need\n",
    "# looking at the excel files, we can see that the first cols are Table\tState\tDistt.\tArea Name\tTotal/\tAge-group\n",
    "\n",
    "# here, we're renaming the first 7 columns to the above names and keeping the rest\n",
    "df = full_df.copy()\n",
    "df.columns = [\"Table\", \"State\", \"Distt\", \"Area Name\", \"Total\", \"Age-group\"] + df.columns[6:].tolist()\n",
    "\n",
    "# Next, we'll rename the columns we want (Male, Female, Total and Male, Female, Total Literate) to something more descriptive\n",
    "# looking at the excel files, we can see that these columns are currently named \n",
    "    # 2,3,4 Total: (Total, Male, female) \n",
    "    # 8,9,10 Literate: (Total, Male, Female)\n",
    "\n",
    "df = df.rename(columns={\n",
    "    \"Total\": \"urban_rural\",\n",
    "    2: \"total_population\",\n",
    "    3: \"male_population\",\n",
    "    4: \"female_population\",\n",
    "    8: \"total_literate\",\n",
    "    9: \"male_literate\",\n",
    "    10: \"female_literate\",\n",
    "})\n",
    "\n",
    "\n",
    "# now we'll just keep the columns we want\n",
    "df = df[[\"State\", \"Distt\", \"Area Name\", \"urban_rural\", \"Age-group\", \"total_population\", \"male_population\", \"female_population\", \"total_literate\", \"male_literate\", \"female_literate\"]]\n",
    "\n",
    "# now let's just keep district level data\n",
    "df = df[df[\"Distt\"] != 0]\n",
    "# and keep only ages >15\n",
    "print(df['Age-group'].unique())\n",
    "relevant_ages = [15, 16, 17,\n",
    "       18, 19, '20-24', '25-29', '30-34', '35-39', '40-44', '45-49',\n",
    "       '50-54', '55-59', '60-64', '65-69', '70-74', '75-79', '80+',\n",
    "       'Age not stated']\n",
    "df = df[df['Age-group'].isin(relevant_ages)]\n",
    "\n",
    "\n",
    "\n",
    "df = df.groupby([\"State\", \"Distt\", \"Area Name\", \"urban_rural\"]).agg({\n",
    "    \"total_population\": \"sum\",\n",
    "    \"female_population\": \"sum\",\n",
    "    \"male_population\": \"sum\",\n",
    "    \"total_literate\": \"sum\",\n",
    "    \"male_literate\": \"sum\",\n",
    "    \"female_literate\": \"sum\"}\n",
    ")\n",
    "\n",
    "df = df.reset_index()\n",
    "\n",
    "df = df.query(\"urban_rural == 'Total'\")\n",
    "\n",
    "df['male_rate'] = df['male_literate']/df['male_population']\n",
    "df['total_rate'] = df['total_literate']/df['total_population']\n",
    "df['female_rate'] = df['female_literate']/df['female_population']\n",
    "\n",
    "df['difference_rate'] = df.male_rate - df.female_rate\n",
    "\n",
    "df\n",
    "\n",
    "df = df[['State', 'Distt', 'Area Name'] + [col for col in df.columns if \"_rate\" in col]]\n",
    "\n",
    "df = df.rename(columns={\"State\": \"state_id\", \"Distt\": \"district_id\", \"Area Name\": \"district_name\"})\n",
    "\n",
    "df['state_id'] = df['state_id'].astype(int).astype(str)\n",
    "df['district_id'] = df['district_id'].astype(int).astype(str)\n",
    "\n",
    "\n",
    "df.to_csv(\"literacy_rates_wide.csv\", index=False)"
   ]
  },
  {
   "cell_type": "code",
   "execution_count": null,
   "metadata": {},
   "outputs": [],
   "source": [
    "\n",
    "\n",
    "df = df.melt(id_vars=[\"State\", \"Distt\", \"Area Name\"], var_name=\"gender\", value_name=\"value\")\n",
    "\n",
    "df['gender'] = df['gender'].str.split(\"_\").str[0]\n",
    "\n",
    "\n",
    "df = df[['state_id', 'district_id', 'gender', 'value']]\n",
    "\n",
    "\n",
    "df.query(\"gender == 'total'\").to_csv(\"indian_census_literacy_rates_total.csv\", index=False)\n",
    "df.query(\"gender == 'female'\").to_csv(\"indian_census_literacy_rates_female.csv\", index=False)\n",
    "df.query(\"gender == 'difference'\").to_csv(\"indian_census_literacy_rates_difference.csv\", index=False)\n",
    "\n",
    "df.to_csv(\"indian_census_literacy_rates_fixed.csv\", index=False)"
   ]
  },
  {
   "cell_type": "code",
   "execution_count": null,
   "metadata": {},
   "outputs": [],
   "source": []
  },
  {
   "cell_type": "code",
   "execution_count": 103,
   "metadata": {},
   "outputs": [
    {
     "data": {
      "text/html": [
       "<div>\n",
       "<style scoped>\n",
       "    .dataframe tbody tr th:only-of-type {\n",
       "        vertical-align: middle;\n",
       "    }\n",
       "\n",
       "    .dataframe tbody tr th {\n",
       "        vertical-align: top;\n",
       "    }\n",
       "\n",
       "    .dataframe thead th {\n",
       "        text-align: right;\n",
       "    }\n",
       "</style>\n",
       "<table border=\"1\" class=\"dataframe\">\n",
       "  <thead>\n",
       "    <tr style=\"text-align: right;\">\n",
       "      <th></th>\n",
       "      <th>state_id</th>\n",
       "      <th>district_id</th>\n",
       "      <th>gender</th>\n",
       "      <th>value</th>\n",
       "    </tr>\n",
       "  </thead>\n",
       "  <tbody>\n",
       "    <tr>\n",
       "      <th>0</th>\n",
       "      <td>1</td>\n",
       "      <td>1</td>\n",
       "      <td>male</td>\n",
       "      <td>0.734124</td>\n",
       "    </tr>\n",
       "    <tr>\n",
       "      <th>1</th>\n",
       "      <td>1</td>\n",
       "      <td>2</td>\n",
       "      <td>male</td>\n",
       "      <td>0.626103</td>\n",
       "    </tr>\n",
       "    <tr>\n",
       "      <th>2</th>\n",
       "      <td>1</td>\n",
       "      <td>3</td>\n",
       "      <td>male</td>\n",
       "      <td>0.857134</td>\n",
       "    </tr>\n",
       "    <tr>\n",
       "      <th>3</th>\n",
       "      <td>1</td>\n",
       "      <td>4</td>\n",
       "      <td>male</td>\n",
       "      <td>0.817084</td>\n",
       "    </tr>\n",
       "    <tr>\n",
       "      <th>4</th>\n",
       "      <td>1</td>\n",
       "      <td>5</td>\n",
       "      <td>male</td>\n",
       "      <td>0.758392</td>\n",
       "    </tr>\n",
       "    <tr>\n",
       "      <th>...</th>\n",
       "      <td>...</td>\n",
       "      <td>...</td>\n",
       "      <td>...</td>\n",
       "      <td>...</td>\n",
       "    </tr>\n",
       "    <tr>\n",
       "      <th>1915</th>\n",
       "      <td>34</td>\n",
       "      <td>636</td>\n",
       "      <td>female</td>\n",
       "      <td>0.971962</td>\n",
       "    </tr>\n",
       "    <tr>\n",
       "      <th>1916</th>\n",
       "      <td>34</td>\n",
       "      <td>637</td>\n",
       "      <td>female</td>\n",
       "      <td>0.801028</td>\n",
       "    </tr>\n",
       "    <tr>\n",
       "      <th>1917</th>\n",
       "      <td>35</td>\n",
       "      <td>638</td>\n",
       "      <td>female</td>\n",
       "      <td>0.675874</td>\n",
       "    </tr>\n",
       "    <tr>\n",
       "      <th>1918</th>\n",
       "      <td>35</td>\n",
       "      <td>639</td>\n",
       "      <td>female</td>\n",
       "      <td>0.757343</td>\n",
       "    </tr>\n",
       "    <tr>\n",
       "      <th>1919</th>\n",
       "      <td>35</td>\n",
       "      <td>640</td>\n",
       "      <td>female</td>\n",
       "      <td>0.835470</td>\n",
       "    </tr>\n",
       "  </tbody>\n",
       "</table>\n",
       "<p>1920 rows × 4 columns</p>\n",
       "</div>"
      ],
      "text/plain": [
       "     state_id district_id  gender     value\n",
       "0           1           1    male  0.734124\n",
       "1           1           2    male  0.626103\n",
       "2           1           3    male  0.857134\n",
       "3           1           4    male  0.817084\n",
       "4           1           5    male  0.758392\n",
       "...       ...         ...     ...       ...\n",
       "1915       34         636  female  0.971962\n",
       "1916       34         637  female  0.801028\n",
       "1917       35         638  female  0.675874\n",
       "1918       35         639  female  0.757343\n",
       "1919       35         640  female  0.835470\n",
       "\n",
       "[1920 rows x 4 columns]"
      ]
     },
     "execution_count": 103,
     "metadata": {},
     "output_type": "execute_result"
    }
   ],
   "source": [
    "df"
   ]
  },
  {
   "cell_type": "code",
   "execution_count": 101,
   "metadata": {},
   "outputs": [
    {
     "data": {
      "text/plain": [
       "gender\n",
       "male      640\n",
       "total     640\n",
       "female    640\n",
       "Name: count, dtype: int64"
      ]
     },
     "execution_count": 101,
     "metadata": {},
     "output_type": "execute_result"
    }
   ],
   "source": [
    "df.gender.value_counts()"
   ]
  },
  {
   "cell_type": "code",
   "execution_count": 99,
   "metadata": {},
   "outputs": [
    {
     "data": {
      "text/html": [
       "<div>\n",
       "<style scoped>\n",
       "    .dataframe tbody tr th:only-of-type {\n",
       "        vertical-align: middle;\n",
       "    }\n",
       "\n",
       "    .dataframe tbody tr th {\n",
       "        vertical-align: top;\n",
       "    }\n",
       "\n",
       "    .dataframe thead th {\n",
       "        text-align: right;\n",
       "    }\n",
       "</style>\n",
       "<table border=\"1\" class=\"dataframe\">\n",
       "  <thead>\n",
       "    <tr style=\"text-align: right;\">\n",
       "      <th></th>\n",
       "      <th>state_id</th>\n",
       "      <th>district_id</th>\n",
       "      <th>gender</th>\n",
       "      <th>value</th>\n",
       "    </tr>\n",
       "  </thead>\n",
       "  <tbody>\n",
       "    <tr>\n",
       "      <th>466</th>\n",
       "      <td>23.0</td>\n",
       "      <td>467.0</td>\n",
       "      <td>male</td>\n",
       "      <td>0.699504</td>\n",
       "    </tr>\n",
       "    <tr>\n",
       "      <th>1106</th>\n",
       "      <td>23.0</td>\n",
       "      <td>467.0</td>\n",
       "      <td>total</td>\n",
       "      <td>0.605051</td>\n",
       "    </tr>\n",
       "    <tr>\n",
       "      <th>1746</th>\n",
       "      <td>23.0</td>\n",
       "      <td>467.0</td>\n",
       "      <td>female</td>\n",
       "      <td>0.506678</td>\n",
       "    </tr>\n",
       "  </tbody>\n",
       "</table>\n",
       "</div>"
      ],
      "text/plain": [
       "      state_id  district_id  gender     value\n",
       "466       23.0        467.0    male  0.699504\n",
       "1106      23.0        467.0   total  0.605051\n",
       "1746      23.0        467.0  female  0.506678"
      ]
     },
     "execution_count": 99,
     "metadata": {},
     "output_type": "execute_result"
    }
   ],
   "source": [
    "df.query(\"district_id == 467\")"
   ]
  },
  {
   "cell_type": "code",
   "execution_count": 93,
   "metadata": {},
   "outputs": [
    {
     "data": {
      "text/html": [
       "<div>\n",
       "<style scoped>\n",
       "    .dataframe tbody tr th:only-of-type {\n",
       "        vertical-align: middle;\n",
       "    }\n",
       "\n",
       "    .dataframe tbody tr th {\n",
       "        vertical-align: top;\n",
       "    }\n",
       "\n",
       "    .dataframe thead th {\n",
       "        text-align: right;\n",
       "    }\n",
       "</style>\n",
       "<table border=\"1\" class=\"dataframe\">\n",
       "  <thead>\n",
       "    <tr style=\"text-align: right;\">\n",
       "      <th></th>\n",
       "      <th>State</th>\n",
       "      <th>Distt</th>\n",
       "      <th>Area Name</th>\n",
       "      <th>gender</th>\n",
       "      <th>value</th>\n",
       "    </tr>\n",
       "  </thead>\n",
       "  <tbody>\n",
       "    <tr>\n",
       "      <th>466</th>\n",
       "      <td>23.0</td>\n",
       "      <td>467.0</td>\n",
       "      <td>District - Burhanpur</td>\n",
       "      <td>male</td>\n",
       "      <td>0.699504</td>\n",
       "    </tr>\n",
       "    <tr>\n",
       "      <th>1106</th>\n",
       "      <td>23.0</td>\n",
       "      <td>467.0</td>\n",
       "      <td>District - Burhanpur</td>\n",
       "      <td>total</td>\n",
       "      <td>0.605051</td>\n",
       "    </tr>\n",
       "    <tr>\n",
       "      <th>1746</th>\n",
       "      <td>23.0</td>\n",
       "      <td>467.0</td>\n",
       "      <td>District - Burhanpur</td>\n",
       "      <td>female</td>\n",
       "      <td>0.506678</td>\n",
       "    </tr>\n",
       "  </tbody>\n",
       "</table>\n",
       "</div>"
      ],
      "text/plain": [
       "      State  Distt             Area Name  gender     value\n",
       "466    23.0  467.0  District - Burhanpur    male  0.699504\n",
       "1106   23.0  467.0  District - Burhanpur   total  0.605051\n",
       "1746   23.0  467.0  District - Burhanpur  female  0.506678"
      ]
     },
     "execution_count": 93,
     "metadata": {},
     "output_type": "execute_result"
    }
   ],
   "source": [
    "df.query(\"State == 23 and Distt == 467\")"
   ]
  },
  {
   "cell_type": "code",
   "execution_count": 96,
   "metadata": {},
   "outputs": [
    {
     "data": {
      "text/plain": [
       "634"
      ]
     },
     "execution_count": 96,
     "metadata": {},
     "output_type": "execute_result"
    }
   ],
   "source": [
    "len(df['Area Name'].unique())"
   ]
  },
  {
   "cell_type": "code",
   "execution_count": 95,
   "metadata": {},
   "outputs": [
    {
     "data": {
      "text/plain": [
       "640"
      ]
     },
     "execution_count": 95,
     "metadata": {},
     "output_type": "execute_result"
    }
   ],
   "source": [
    "len(df.Distt.unique())"
   ]
  },
  {
   "cell_type": "code",
   "execution_count": 82,
   "metadata": {},
   "outputs": [
    {
     "data": {
      "text/plain": [
       "Index(['State', 'Distt', 'Area Name', 'urban_rural', 'total_population',\n",
       "       'female_population', 'male_population', 'total_literate',\n",
       "       'male_literate', 'female_literate', 'male_rate', 'total_rate',\n",
       "       'female_rate'],\n",
       "      dtype='object')"
      ]
     },
     "execution_count": 82,
     "metadata": {},
     "output_type": "execute_result"
    }
   ],
   "source": [
    "df.columns"
   ]
  },
  {
   "cell_type": "code",
   "execution_count": 57,
   "metadata": {},
   "outputs": [
    {
     "data": {
      "text/plain": [
       "array([nan, 'All ages', '0-6', 7, 8, 9, 10, 11, 12, 13, 14, 15, 16, 17,\n",
       "       18, 19, '20-24', '25-29', '30-34', '35-39', '40-44', '45-49',\n",
       "       '50-54', '55-59', '60-64', '65-69', '70-74', '75-79', '80+',\n",
       "       'Age not stated'], dtype=object)"
      ]
     },
     "execution_count": 57,
     "metadata": {},
     "output_type": "execute_result"
    }
   ],
   "source": [
    "df['Age-group'].unique()"
   ]
  },
  {
   "cell_type": "code",
   "execution_count": 33,
   "metadata": {},
   "outputs": [],
   "source": [
    "df = pd.read_excel(\"/Users/finn/Documents/GitHub/RADataHub/misc/Masterclass/Indian Census/literacy_tables/DDW-0000C-08.xlsx\", skiprows=5)"
   ]
  },
  {
   "cell_type": "code",
   "execution_count": 55,
   "metadata": {},
   "outputs": [
    {
     "data": {
      "text/plain": [
       "array([nan, 'All ages', '0-6', 7, 8, 9, 10, 11, 12, 13, 14, 15, 16, 17,\n",
       "       18, 19, '20-24', '25-29', '30-34', '35-39', '40-44', '45-49',\n",
       "       '50-54', '55-59', '60-64', '65-69', '70-74', '75-79', '80+',\n",
       "       'Age not stated'], dtype=object)"
      ]
     },
     "execution_count": 55,
     "metadata": {},
     "output_type": "execute_result"
    }
   ],
   "source": []
  },
  {
   "cell_type": "code",
   "execution_count": 44,
   "metadata": {},
   "outputs": [
    {
     "data": {
      "text/plain": [
       "Index([    'Table',     'State',     'Distt', 'Area Name',     'Total',\n",
       "       'Age-group',     'Total',           3,           4,           5,\n",
       "                 6,           7,           8,           9,          10,\n",
       "                11,          12,          13,          14,          15,\n",
       "                16,          17,          18,          19,          20,\n",
       "                21,          22,          23,          24,          25,\n",
       "                26,          27,          28,          29,          30,\n",
       "                31,          32,          33,          34,          35,\n",
       "                36,          37,          38,          39,          40],\n",
       "      dtype='object')"
      ]
     },
     "execution_count": 44,
     "metadata": {},
     "output_type": "execute_result"
    }
   ],
   "source": [
    "df.columns"
   ]
  },
  {
   "cell_type": "code",
   "execution_count": 14,
   "metadata": {},
   "outputs": [
    {
     "data": {
      "text/html": [
       "<div>\n",
       "<style scoped>\n",
       "    .dataframe tbody tr th:only-of-type {\n",
       "        vertical-align: middle;\n",
       "    }\n",
       "\n",
       "    .dataframe tbody tr th {\n",
       "        vertical-align: top;\n",
       "    }\n",
       "\n",
       "    .dataframe thead th {\n",
       "        text-align: right;\n",
       "    }\n",
       "</style>\n",
       "<table border=\"1\" class=\"dataframe\">\n",
       "  <thead>\n",
       "    <tr style=\"text-align: right;\">\n",
       "      <th></th>\n",
       "      <th>State Code</th>\n",
       "      <th>State Name</th>\n",
       "      <th>District Code</th>\n",
       "      <th>Name of Urban Agglomeration/City</th>\n",
       "      <th>Unnamed: 4</th>\n",
       "      <th>Population_Persons</th>\n",
       "      <th>Population_Males</th>\n",
       "      <th>Population_Females</th>\n",
       "      <th>0-6Population_Persons</th>\n",
       "      <th>0-6Population_Males</th>\n",
       "      <th>0-6Population_Females</th>\n",
       "      <th>Literates_Persons</th>\n",
       "      <th>Literates_Males</th>\n",
       "      <th>Literates_Females</th>\n",
       "      <th>Sex Ratio</th>\n",
       "      <th>Child Sex Ratio (0-6 Years</th>\n",
       "      <th>Effective_Literacy_Rate (7+ Pop)_Persons</th>\n",
       "      <th>Effective_Literacy_Rate (7+ Pop)_Males</th>\n",
       "      <th>Effective_Literacy_Rate (7+ Pop)_Females</th>\n",
       "    </tr>\n",
       "  </thead>\n",
       "  <tbody>\n",
       "    <tr>\n",
       "      <th>338</th>\n",
       "      <td>27.0</td>\n",
       "      <td>MAHARASHTRA</td>\n",
       "      <td>1.0</td>\n",
       "      <td>Nandurbar (M Cl)</td>\n",
       "      <td>City</td>\n",
       "      <td>1,11,067</td>\n",
       "      <td>57,543</td>\n",
       "      <td>53,524</td>\n",
       "      <td>12,621</td>\n",
       "      <td>6,868</td>\n",
       "      <td>5,753</td>\n",
       "      <td>85,635</td>\n",
       "      <td>46,673</td>\n",
       "      <td>38,962</td>\n",
       "      <td>930.0</td>\n",
       "      <td>838.0</td>\n",
       "      <td>86.99</td>\n",
       "      <td>92.10</td>\n",
       "      <td>81.56</td>\n",
       "    </tr>\n",
       "    <tr>\n",
       "      <th>322</th>\n",
       "      <td>27.0</td>\n",
       "      <td>MAHARASHTRA</td>\n",
       "      <td>2.0</td>\n",
       "      <td>Dhule (M Corp.)</td>\n",
       "      <td>City</td>\n",
       "      <td>3,76,093</td>\n",
       "      <td>1,93,854</td>\n",
       "      <td>1,82,239</td>\n",
       "      <td>43,677</td>\n",
       "      <td>23,246</td>\n",
       "      <td>20,431</td>\n",
       "      <td>2,98,693</td>\n",
       "      <td>1,60,511</td>\n",
       "      <td>1,38,182</td>\n",
       "      <td>940.0</td>\n",
       "      <td>879.0</td>\n",
       "      <td>89.86</td>\n",
       "      <td>94.08</td>\n",
       "      <td>85.40</td>\n",
       "    </tr>\n",
       "    <tr>\n",
       "      <th>327</th>\n",
       "      <td>27.0</td>\n",
       "      <td>MAHARASHTRA</td>\n",
       "      <td>3.0</td>\n",
       "      <td>Bhusawal UA</td>\n",
       "      <td>UA</td>\n",
       "      <td>2,04,016</td>\n",
       "      <td>1,05,164</td>\n",
       "      <td>98,852</td>\n",
       "      <td>21,272</td>\n",
       "      <td>11,499</td>\n",
       "      <td>9,773</td>\n",
       "      <td>1,65,435</td>\n",
       "      <td>88,928</td>\n",
       "      <td>76,507</td>\n",
       "      <td>940.0</td>\n",
       "      <td>850.0</td>\n",
       "      <td>90.53</td>\n",
       "      <td>94.94</td>\n",
       "      <td>85.89</td>\n",
       "    </tr>\n",
       "    <tr>\n",
       "      <th>318</th>\n",
       "      <td>27.0</td>\n",
       "      <td>MAHARASHTRA</td>\n",
       "      <td>3.0</td>\n",
       "      <td>Jalgaon (M Corp.)</td>\n",
       "      <td>City</td>\n",
       "      <td>4,60,468</td>\n",
       "      <td>2,41,228</td>\n",
       "      <td>2,19,240</td>\n",
       "      <td>51,544</td>\n",
       "      <td>28,548</td>\n",
       "      <td>22,996</td>\n",
       "      <td>3,63,778</td>\n",
       "      <td>1,98,426</td>\n",
       "      <td>1,65,352</td>\n",
       "      <td>909.0</td>\n",
       "      <td>806.0</td>\n",
       "      <td>88.96</td>\n",
       "      <td>93.30</td>\n",
       "      <td>84.26</td>\n",
       "    </tr>\n",
       "    <tr>\n",
       "      <th>319</th>\n",
       "      <td>27.0</td>\n",
       "      <td>MAHARASHTRA</td>\n",
       "      <td>5.0</td>\n",
       "      <td>Akola (M Corp.)</td>\n",
       "      <td>City</td>\n",
       "      <td>4,27,146</td>\n",
       "      <td>2,18,184</td>\n",
       "      <td>2,08,962</td>\n",
       "      <td>46,500</td>\n",
       "      <td>24,488</td>\n",
       "      <td>22,012</td>\n",
       "      <td>3,47,687</td>\n",
       "      <td>1,83,594</td>\n",
       "      <td>1,64,093</td>\n",
       "      <td>958.0</td>\n",
       "      <td>899.0</td>\n",
       "      <td>91.34</td>\n",
       "      <td>94.78</td>\n",
       "      <td>87.77</td>\n",
       "    </tr>\n",
       "    <tr>\n",
       "      <th>336</th>\n",
       "      <td>27.0</td>\n",
       "      <td>MAHARASHTRA</td>\n",
       "      <td>7.0</td>\n",
       "      <td>Achalpur (M Cl)</td>\n",
       "      <td>City</td>\n",
       "      <td>1,12,293</td>\n",
       "      <td>58,256</td>\n",
       "      <td>54,037</td>\n",
       "      <td>11,810</td>\n",
       "      <td>6,186</td>\n",
       "      <td>5,624</td>\n",
       "      <td>92,433</td>\n",
       "      <td>49,347</td>\n",
       "      <td>43,086</td>\n",
       "      <td>928.0</td>\n",
       "      <td>909.0</td>\n",
       "      <td>91.99</td>\n",
       "      <td>94.77</td>\n",
       "      <td>89.00</td>\n",
       "    </tr>\n",
       "    <tr>\n",
       "      <th>313</th>\n",
       "      <td>27.0</td>\n",
       "      <td>MAHARASHTRA</td>\n",
       "      <td>7.0</td>\n",
       "      <td>Amravati (M Corp.)</td>\n",
       "      <td>City</td>\n",
       "      <td>6,46,801</td>\n",
       "      <td>3,30,544</td>\n",
       "      <td>3,16,257</td>\n",
       "      <td>62,497</td>\n",
       "      <td>32,713</td>\n",
       "      <td>29,784</td>\n",
       "      <td>5,43,568</td>\n",
       "      <td>2,84,490</td>\n",
       "      <td>2,59,078</td>\n",
       "      <td>957.0</td>\n",
       "      <td>910.0</td>\n",
       "      <td>93.03</td>\n",
       "      <td>95.52</td>\n",
       "      <td>90.44</td>\n",
       "    </tr>\n",
       "    <tr>\n",
       "      <th>339</th>\n",
       "      <td>27.0</td>\n",
       "      <td>MAHARASHTRA</td>\n",
       "      <td>8.0</td>\n",
       "      <td>Wardha (M Cl)</td>\n",
       "      <td>City</td>\n",
       "      <td>1,05,543</td>\n",
       "      <td>53,241</td>\n",
       "      <td>52,302</td>\n",
       "      <td>9,754</td>\n",
       "      <td>5,139</td>\n",
       "      <td>4,615</td>\n",
       "      <td>90,091</td>\n",
       "      <td>46,752</td>\n",
       "      <td>43,339</td>\n",
       "      <td>982.0</td>\n",
       "      <td>898.0</td>\n",
       "      <td>94.05</td>\n",
       "      <td>97.19</td>\n",
       "      <td>90.88</td>\n",
       "    </tr>\n",
       "    <tr>\n",
       "      <th>341</th>\n",
       "      <td>27.0</td>\n",
       "      <td>MAHARASHTRA</td>\n",
       "      <td>8.0</td>\n",
       "      <td>Hinganghat (M Cl)</td>\n",
       "      <td>City</td>\n",
       "      <td>1,00,416</td>\n",
       "      <td>51,881</td>\n",
       "      <td>48,535</td>\n",
       "      <td>9,681</td>\n",
       "      <td>5,175</td>\n",
       "      <td>4,506</td>\n",
       "      <td>85,599</td>\n",
       "      <td>45,728</td>\n",
       "      <td>39,871</td>\n",
       "      <td>936.0</td>\n",
       "      <td>871.0</td>\n",
       "      <td>94.34</td>\n",
       "      <td>97.91</td>\n",
       "      <td>90.56</td>\n",
       "    </tr>\n",
       "    <tr>\n",
       "      <th>333</th>\n",
       "      <td>27.0</td>\n",
       "      <td>MAHARASHTRA</td>\n",
       "      <td>9.0</td>\n",
       "      <td>Kamptee UA</td>\n",
       "      <td>UA</td>\n",
       "      <td>1,36,124</td>\n",
       "      <td>70,375</td>\n",
       "      <td>65,749</td>\n",
       "      <td>14,846</td>\n",
       "      <td>7,625</td>\n",
       "      <td>7,221</td>\n",
       "      <td>1,09,241</td>\n",
       "      <td>59,505</td>\n",
       "      <td>49,736</td>\n",
       "      <td>934.0</td>\n",
       "      <td>947.0</td>\n",
       "      <td>90.07</td>\n",
       "      <td>94.83</td>\n",
       "      <td>84.98</td>\n",
       "    </tr>\n",
       "    <tr>\n",
       "      <th>307</th>\n",
       "      <td>27.0</td>\n",
       "      <td>MAHARASHTRA</td>\n",
       "      <td>9.0</td>\n",
       "      <td>Nagpur UA</td>\n",
       "      <td>UA</td>\n",
       "      <td>24,97,777</td>\n",
       "      <td>12,75,750</td>\n",
       "      <td>12,22,027</td>\n",
       "      <td>2,48,678</td>\n",
       "      <td>1,29,522</td>\n",
       "      <td>1,19,156</td>\n",
       "      <td>20,95,419</td>\n",
       "      <td>11,02,638</td>\n",
       "      <td>9,92,781</td>\n",
       "      <td>958.0</td>\n",
       "      <td>920.0</td>\n",
       "      <td>93.17</td>\n",
       "      <td>96.20</td>\n",
       "      <td>90.02</td>\n",
       "    </tr>\n",
       "    <tr>\n",
       "      <th>334</th>\n",
       "      <td>27.0</td>\n",
       "      <td>MAHARASHTRA</td>\n",
       "      <td>11.0</td>\n",
       "      <td>Gondiya (M Cl)</td>\n",
       "      <td>City</td>\n",
       "      <td>1,32,889</td>\n",
       "      <td>66,756</td>\n",
       "      <td>66,133</td>\n",
       "      <td>12,835</td>\n",
       "      <td>6,652</td>\n",
       "      <td>6,183</td>\n",
       "      <td>1,12,490</td>\n",
       "      <td>58,721</td>\n",
       "      <td>53,769</td>\n",
       "      <td>991.0</td>\n",
       "      <td>929.0</td>\n",
       "      <td>93.70</td>\n",
       "      <td>97.70</td>\n",
       "      <td>89.69</td>\n",
       "    </tr>\n",
       "    <tr>\n",
       "      <th>324</th>\n",
       "      <td>27.0</td>\n",
       "      <td>MAHARASHTRA</td>\n",
       "      <td>13.0</td>\n",
       "      <td>Chandrapur (M Cl)</td>\n",
       "      <td>City</td>\n",
       "      <td>3,21,036</td>\n",
       "      <td>1,65,125</td>\n",
       "      <td>1,55,911</td>\n",
       "      <td>30,353</td>\n",
       "      <td>15,921</td>\n",
       "      <td>14,432</td>\n",
       "      <td>2,63,962</td>\n",
       "      <td>1,42,528</td>\n",
       "      <td>1,21,434</td>\n",
       "      <td>944.0</td>\n",
       "      <td>906.0</td>\n",
       "      <td>90.81</td>\n",
       "      <td>95.53</td>\n",
       "      <td>85.83</td>\n",
       "    </tr>\n",
       "    <tr>\n",
       "      <th>332</th>\n",
       "      <td>27.0</td>\n",
       "      <td>MAHARASHTRA</td>\n",
       "      <td>14.0</td>\n",
       "      <td>Yavatmal UA</td>\n",
       "      <td>UA</td>\n",
       "      <td>1,38,464</td>\n",
       "      <td>69,858</td>\n",
       "      <td>68,606</td>\n",
       "      <td>12,968</td>\n",
       "      <td>6,902</td>\n",
       "      <td>6,066</td>\n",
       "      <td>1,15,855</td>\n",
       "      <td>60,334</td>\n",
       "      <td>55,521</td>\n",
       "      <td>982.0</td>\n",
       "      <td>879.0</td>\n",
       "      <td>92.32</td>\n",
       "      <td>95.84</td>\n",
       "      <td>88.78</td>\n",
       "    </tr>\n",
       "    <tr>\n",
       "      <th>316</th>\n",
       "      <td>27.0</td>\n",
       "      <td>MAHARASHTRA</td>\n",
       "      <td>15.0</td>\n",
       "      <td>Nanded Waghala (M Corp.)</td>\n",
       "      <td>City</td>\n",
       "      <td>5,50,564</td>\n",
       "      <td>2,86,152</td>\n",
       "      <td>2,64,412</td>\n",
       "      <td>68,181</td>\n",
       "      <td>36,417</td>\n",
       "      <td>31,764</td>\n",
       "      <td>4,21,606</td>\n",
       "      <td>2,31,449</td>\n",
       "      <td>1,90,157</td>\n",
       "      <td>924.0</td>\n",
       "      <td>872.0</td>\n",
       "      <td>87.40</td>\n",
       "      <td>92.68</td>\n",
       "      <td>81.74</td>\n",
       "    </tr>\n",
       "    <tr>\n",
       "      <th>325</th>\n",
       "      <td>27.0</td>\n",
       "      <td>MAHARASHTRA</td>\n",
       "      <td>17.0</td>\n",
       "      <td>Parbhani (M Cl)</td>\n",
       "      <td>City</td>\n",
       "      <td>3,07,191</td>\n",
       "      <td>1,57,628</td>\n",
       "      <td>1,49,563</td>\n",
       "      <td>40,075</td>\n",
       "      <td>21,187</td>\n",
       "      <td>18,888</td>\n",
       "      <td>2,25,298</td>\n",
       "      <td>1,23,760</td>\n",
       "      <td>1,01,538</td>\n",
       "      <td>949.0</td>\n",
       "      <td>891.0</td>\n",
       "      <td>84.34</td>\n",
       "      <td>90.71</td>\n",
       "      <td>77.70</td>\n",
       "    </tr>\n",
       "    <tr>\n",
       "      <th>326</th>\n",
       "      <td>27.0</td>\n",
       "      <td>MAHARASHTRA</td>\n",
       "      <td>18.0</td>\n",
       "      <td>Jalna (M Cl)</td>\n",
       "      <td>City</td>\n",
       "      <td>2,85,349</td>\n",
       "      <td>1,47,714</td>\n",
       "      <td>1,37,635</td>\n",
       "      <td>37,695</td>\n",
       "      <td>19,982</td>\n",
       "      <td>17,713</td>\n",
       "      <td>2,09,531</td>\n",
       "      <td>1,16,300</td>\n",
       "      <td>93,231</td>\n",
       "      <td>932.0</td>\n",
       "      <td>886.0</td>\n",
       "      <td>84.61</td>\n",
       "      <td>91.05</td>\n",
       "      <td>77.74</td>\n",
       "    </tr>\n",
       "    <tr>\n",
       "      <th>310</th>\n",
       "      <td>27.0</td>\n",
       "      <td>MAHARASHTRA</td>\n",
       "      <td>19.0</td>\n",
       "      <td>Aurangabad UA</td>\n",
       "      <td>UA</td>\n",
       "      <td>11,89,376</td>\n",
       "      <td>6,20,097</td>\n",
       "      <td>5,69,279</td>\n",
       "      <td>1,54,067</td>\n",
       "      <td>82,867</td>\n",
       "      <td>71,200</td>\n",
       "      <td>9,23,128</td>\n",
       "      <td>5,05,531</td>\n",
       "      <td>4,17,597</td>\n",
       "      <td>918.0</td>\n",
       "      <td>859.0</td>\n",
       "      <td>89.16</td>\n",
       "      <td>94.10</td>\n",
       "      <td>83.84</td>\n",
       "    </tr>\n",
       "    <tr>\n",
       "      <th>314</th>\n",
       "      <td>27.0</td>\n",
       "      <td>MAHARASHTRA</td>\n",
       "      <td>20.0</td>\n",
       "      <td>Malegaon UA</td>\n",
       "      <td>UA</td>\n",
       "      <td>5,76,425</td>\n",
       "      <td>2,93,976</td>\n",
       "      <td>2,82,449</td>\n",
       "      <td>90,654</td>\n",
       "      <td>46,822</td>\n",
       "      <td>43,832</td>\n",
       "      <td>4,17,635</td>\n",
       "      <td>2,21,530</td>\n",
       "      <td>1,96,105</td>\n",
       "      <td>961.0</td>\n",
       "      <td>936.0</td>\n",
       "      <td>85.97</td>\n",
       "      <td>89.63</td>\n",
       "      <td>82.18</td>\n",
       "    </tr>\n",
       "    <tr>\n",
       "      <th>308</th>\n",
       "      <td>27.0</td>\n",
       "      <td>MAHARASHTRA</td>\n",
       "      <td>20.0</td>\n",
       "      <td>Nashik UA</td>\n",
       "      <td>UA</td>\n",
       "      <td>15,62,769</td>\n",
       "      <td>8,24,641</td>\n",
       "      <td>7,38,128</td>\n",
       "      <td>1,77,966</td>\n",
       "      <td>95,924</td>\n",
       "      <td>82,042</td>\n",
       "      <td>12,59,723</td>\n",
       "      <td>6,92,426</td>\n",
       "      <td>5,67,297</td>\n",
       "      <td>895.0</td>\n",
       "      <td>855.0</td>\n",
       "      <td>90.97</td>\n",
       "      <td>95.02</td>\n",
       "      <td>86.47</td>\n",
       "    </tr>\n",
       "    <tr>\n",
       "      <th>309</th>\n",
       "      <td>27.0</td>\n",
       "      <td>MAHARASHTRA</td>\n",
       "      <td>21.0</td>\n",
       "      <td>Vasai Virar City (M Corp.)</td>\n",
       "      <td>City</td>\n",
       "      <td>12,21,233</td>\n",
       "      <td>6,49,535</td>\n",
       "      <td>5,71,698</td>\n",
       "      <td>1,37,343</td>\n",
       "      <td>71,716</td>\n",
       "      <td>65,627</td>\n",
       "      <td>9,87,916</td>\n",
       "      <td>5,48,138</td>\n",
       "      <td>4,39,778</td>\n",
       "      <td>880.0</td>\n",
       "      <td>915.0</td>\n",
       "      <td>91.15</td>\n",
       "      <td>94.86</td>\n",
       "      <td>86.90</td>\n",
       "    </tr>\n",
       "    <tr>\n",
       "      <th>312</th>\n",
       "      <td>27.0</td>\n",
       "      <td>MAHARASHTRA</td>\n",
       "      <td>21.0</td>\n",
       "      <td>Bhiwandi UA</td>\n",
       "      <td>UA</td>\n",
       "      <td>7,37,411</td>\n",
       "      <td>4,34,975</td>\n",
       "      <td>3,02,436</td>\n",
       "      <td>91,796</td>\n",
       "      <td>47,483</td>\n",
       "      <td>44,313</td>\n",
       "      <td>5,25,930</td>\n",
       "      <td>3,26,853</td>\n",
       "      <td>1,99,077</td>\n",
       "      <td>695.0</td>\n",
       "      <td>933.0</td>\n",
       "      <td>81.46</td>\n",
       "      <td>84.35</td>\n",
       "      <td>77.12</td>\n",
       "    </tr>\n",
       "    <tr>\n",
       "      <th>328</th>\n",
       "      <td>27.0</td>\n",
       "      <td>MAHARASHTRA</td>\n",
       "      <td>24.0</td>\n",
       "      <td>Navi Mumbai Panvel Raigad (CT)</td>\n",
       "      <td>CT</td>\n",
       "      <td>1,94,999</td>\n",
       "      <td>1,07,771</td>\n",
       "      <td>87,228</td>\n",
       "      <td>25,679</td>\n",
       "      <td>13,633</td>\n",
       "      <td>12,046</td>\n",
       "      <td>1,53,608</td>\n",
       "      <td>88,833</td>\n",
       "      <td>64,775</td>\n",
       "      <td>809.0</td>\n",
       "      <td>884.0</td>\n",
       "      <td>90.72</td>\n",
       "      <td>94.36</td>\n",
       "      <td>86.16</td>\n",
       "    </tr>\n",
       "    <tr>\n",
       "      <th>329</th>\n",
       "      <td>27.0</td>\n",
       "      <td>MAHARASHTRA</td>\n",
       "      <td>24.0</td>\n",
       "      <td>Panvel (M Cl)</td>\n",
       "      <td>City</td>\n",
       "      <td>1,80,464</td>\n",
       "      <td>93,135</td>\n",
       "      <td>87,329</td>\n",
       "      <td>17,512</td>\n",
       "      <td>9,213</td>\n",
       "      <td>8,299</td>\n",
       "      <td>1,53,138</td>\n",
       "      <td>80,790</td>\n",
       "      <td>72,348</td>\n",
       "      <td>938.0</td>\n",
       "      <td>901.0</td>\n",
       "      <td>93.98</td>\n",
       "      <td>96.27</td>\n",
       "      <td>91.54</td>\n",
       "    </tr>\n",
       "    <tr>\n",
       "      <th>306</th>\n",
       "      <td>27.0</td>\n",
       "      <td>MAHARASHTRA</td>\n",
       "      <td>25.0</td>\n",
       "      <td>Pune UA</td>\n",
       "      <td>UA</td>\n",
       "      <td>50,49,968</td>\n",
       "      <td>26,59,484</td>\n",
       "      <td>23,90,484</td>\n",
       "      <td>5,61,004</td>\n",
       "      <td>2,97,943</td>\n",
       "      <td>2,63,061</td>\n",
       "      <td>41,03,766</td>\n",
       "      <td>22,43,534</td>\n",
       "      <td>18,60,232</td>\n",
       "      <td>899.0</td>\n",
       "      <td>883.0</td>\n",
       "      <td>91.42</td>\n",
       "      <td>95.00</td>\n",
       "      <td>87.44</td>\n",
       "    </tr>\n",
       "    <tr>\n",
       "      <th>321</th>\n",
       "      <td>27.0</td>\n",
       "      <td>MAHARASHTRA</td>\n",
       "      <td>26.0</td>\n",
       "      <td>Ahmadnagar UA</td>\n",
       "      <td>UA</td>\n",
       "      <td>3,79,867</td>\n",
       "      <td>1,96,344</td>\n",
       "      <td>1,83,523</td>\n",
       "      <td>39,836</td>\n",
       "      <td>21,434</td>\n",
       "      <td>18,402</td>\n",
       "      <td>3,11,603</td>\n",
       "      <td>1,67,369</td>\n",
       "      <td>1,44,234</td>\n",
       "      <td>935.0</td>\n",
       "      <td>859.0</td>\n",
       "      <td>91.64</td>\n",
       "      <td>95.69</td>\n",
       "      <td>87.35</td>\n",
       "    </tr>\n",
       "    <tr>\n",
       "      <th>331</th>\n",
       "      <td>27.0</td>\n",
       "      <td>MAHARASHTRA</td>\n",
       "      <td>27.0</td>\n",
       "      <td>Bid (M Cl)</td>\n",
       "      <td>City</td>\n",
       "      <td>1,46,237</td>\n",
       "      <td>75,655</td>\n",
       "      <td>70,582</td>\n",
       "      <td>19,580</td>\n",
       "      <td>10,626</td>\n",
       "      <td>8,954</td>\n",
       "      <td>1,12,171</td>\n",
       "      <td>61,135</td>\n",
       "      <td>51,036</td>\n",
       "      <td>933.0</td>\n",
       "      <td>843.0</td>\n",
       "      <td>88.56</td>\n",
       "      <td>94.01</td>\n",
       "      <td>82.81</td>\n",
       "    </tr>\n",
       "    <tr>\n",
       "      <th>340</th>\n",
       "      <td>27.0</td>\n",
       "      <td>MAHARASHTRA</td>\n",
       "      <td>28.0</td>\n",
       "      <td>Udgir (M Cl)</td>\n",
       "      <td>City</td>\n",
       "      <td>1,04,063</td>\n",
       "      <td>54,445</td>\n",
       "      <td>49,618</td>\n",
       "      <td>13,075</td>\n",
       "      <td>6,933</td>\n",
       "      <td>6,142</td>\n",
       "      <td>78,051</td>\n",
       "      <td>43,518</td>\n",
       "      <td>34,533</td>\n",
       "      <td>911.0</td>\n",
       "      <td>886.0</td>\n",
       "      <td>85.78</td>\n",
       "      <td>91.59</td>\n",
       "      <td>79.43</td>\n",
       "    </tr>\n",
       "    <tr>\n",
       "      <th>320</th>\n",
       "      <td>27.0</td>\n",
       "      <td>MAHARASHTRA</td>\n",
       "      <td>28.0</td>\n",
       "      <td>Latur (M Cl)</td>\n",
       "      <td>City</td>\n",
       "      <td>3,82,754</td>\n",
       "      <td>1,98,151</td>\n",
       "      <td>1,84,603</td>\n",
       "      <td>45,822</td>\n",
       "      <td>24,773</td>\n",
       "      <td>21,049</td>\n",
       "      <td>2,91,226</td>\n",
       "      <td>1,60,070</td>\n",
       "      <td>1,31,156</td>\n",
       "      <td>932.0</td>\n",
       "      <td>850.0</td>\n",
       "      <td>86.43</td>\n",
       "      <td>92.32</td>\n",
       "      <td>80.19</td>\n",
       "    </tr>\n",
       "    <tr>\n",
       "      <th>337</th>\n",
       "      <td>27.0</td>\n",
       "      <td>MAHARASHTRA</td>\n",
       "      <td>29.0</td>\n",
       "      <td>Osmanabad (M Cl)</td>\n",
       "      <td>City</td>\n",
       "      <td>1,12,085</td>\n",
       "      <td>58,098</td>\n",
       "      <td>53,987</td>\n",
       "      <td>13,346</td>\n",
       "      <td>7,184</td>\n",
       "      <td>6,162</td>\n",
       "      <td>87,041</td>\n",
       "      <td>47,577</td>\n",
       "      <td>39,464</td>\n",
       "      <td>929.0</td>\n",
       "      <td>858.0</td>\n",
       "      <td>88.15</td>\n",
       "      <td>93.45</td>\n",
       "      <td>82.52</td>\n",
       "    </tr>\n",
       "    <tr>\n",
       "      <th>311</th>\n",
       "      <td>27.0</td>\n",
       "      <td>MAHARASHTRA</td>\n",
       "      <td>30.0</td>\n",
       "      <td>Solapur (M Corp.)</td>\n",
       "      <td>City</td>\n",
       "      <td>9,51,118</td>\n",
       "      <td>4,82,194</td>\n",
       "      <td>4,68,924</td>\n",
       "      <td>1,04,466</td>\n",
       "      <td>54,728</td>\n",
       "      <td>49,738</td>\n",
       "      <td>7,10,180</td>\n",
       "      <td>3,90,335</td>\n",
       "      <td>3,19,845</td>\n",
       "      <td>972.0</td>\n",
       "      <td>909.0</td>\n",
       "      <td>83.88</td>\n",
       "      <td>91.31</td>\n",
       "      <td>76.30</td>\n",
       "    </tr>\n",
       "    <tr>\n",
       "      <th>335</th>\n",
       "      <td>27.0</td>\n",
       "      <td>MAHARASHTRA</td>\n",
       "      <td>30.0</td>\n",
       "      <td>Barshi (M Cl)</td>\n",
       "      <td>City</td>\n",
       "      <td>1,18,573</td>\n",
       "      <td>60,857</td>\n",
       "      <td>57,716</td>\n",
       "      <td>13,029</td>\n",
       "      <td>7,060</td>\n",
       "      <td>5,969</td>\n",
       "      <td>91,260</td>\n",
       "      <td>49,965</td>\n",
       "      <td>41,295</td>\n",
       "      <td>948.0</td>\n",
       "      <td>845.0</td>\n",
       "      <td>86.47</td>\n",
       "      <td>92.88</td>\n",
       "      <td>79.80</td>\n",
       "    </tr>\n",
       "    <tr>\n",
       "      <th>330</th>\n",
       "      <td>27.0</td>\n",
       "      <td>MAHARASHTRA</td>\n",
       "      <td>31.0</td>\n",
       "      <td>Satara UA</td>\n",
       "      <td>UA</td>\n",
       "      <td>1,49,170</td>\n",
       "      <td>75,960</td>\n",
       "      <td>73,210</td>\n",
       "      <td>14,390</td>\n",
       "      <td>7,610</td>\n",
       "      <td>6,780</td>\n",
       "      <td>1,25,327</td>\n",
       "      <td>65,922</td>\n",
       "      <td>59,405</td>\n",
       "      <td>964.0</td>\n",
       "      <td>891.0</td>\n",
       "      <td>92.99</td>\n",
       "      <td>96.45</td>\n",
       "      <td>89.42</td>\n",
       "    </tr>\n",
       "    <tr>\n",
       "      <th>323</th>\n",
       "      <td>27.0</td>\n",
       "      <td>MAHARASHTRA</td>\n",
       "      <td>34.0</td>\n",
       "      <td>Ichalkaranji UA</td>\n",
       "      <td>UA</td>\n",
       "      <td>3,25,709</td>\n",
       "      <td>1,69,870</td>\n",
       "      <td>1,55,839</td>\n",
       "      <td>37,105</td>\n",
       "      <td>19,642</td>\n",
       "      <td>17,463</td>\n",
       "      <td>2,53,731</td>\n",
       "      <td>1,40,773</td>\n",
       "      <td>1,12,958</td>\n",
       "      <td>917.0</td>\n",
       "      <td>889.0</td>\n",
       "      <td>87.92</td>\n",
       "      <td>93.71</td>\n",
       "      <td>81.63</td>\n",
       "    </tr>\n",
       "    <tr>\n",
       "      <th>315</th>\n",
       "      <td>27.0</td>\n",
       "      <td>MAHARASHTRA</td>\n",
       "      <td>34.0</td>\n",
       "      <td>Kolhapur UA</td>\n",
       "      <td>UA</td>\n",
       "      <td>5,61,841</td>\n",
       "      <td>2,87,376</td>\n",
       "      <td>2,74,465</td>\n",
       "      <td>51,157</td>\n",
       "      <td>27,912</td>\n",
       "      <td>23,245</td>\n",
       "      <td>4,70,675</td>\n",
       "      <td>2,50,000</td>\n",
       "      <td>2,20,675</td>\n",
       "      <td>955.0</td>\n",
       "      <td>833.0</td>\n",
       "      <td>92.17</td>\n",
       "      <td>96.35</td>\n",
       "      <td>87.84</td>\n",
       "    </tr>\n",
       "    <tr>\n",
       "      <th>317</th>\n",
       "      <td>27.0</td>\n",
       "      <td>MAHARASHTRA</td>\n",
       "      <td>35.0</td>\n",
       "      <td>Sangali UA</td>\n",
       "      <td>UA</td>\n",
       "      <td>5,13,862</td>\n",
       "      <td>2,60,956</td>\n",
       "      <td>2,52,906</td>\n",
       "      <td>52,775</td>\n",
       "      <td>28,179</td>\n",
       "      <td>24,596</td>\n",
       "      <td>4,06,145</td>\n",
       "      <td>2,17,461</td>\n",
       "      <td>1,88,684</td>\n",
       "      <td>969.0</td>\n",
       "      <td>873.0</td>\n",
       "      <td>88.08</td>\n",
       "      <td>93.42</td>\n",
       "      <td>82.64</td>\n",
       "    </tr>\n",
       "    <tr>\n",
       "      <th>305</th>\n",
       "      <td>27.0</td>\n",
       "      <td>MAHARASHTRA</td>\n",
       "      <td>99.0</td>\n",
       "      <td>Greater Mumbai UA</td>\n",
       "      <td>UA</td>\n",
       "      <td>1,84,14,288</td>\n",
       "      <td>98,94,088</td>\n",
       "      <td>85,20,200</td>\n",
       "      <td>17,43,997</td>\n",
       "      <td>9,17,855</td>\n",
       "      <td>8,26,142</td>\n",
       "      <td>1,51,32,568</td>\n",
       "      <td>84,23,992</td>\n",
       "      <td>67,08,576</td>\n",
       "      <td>861.0</td>\n",
       "      <td>900.0</td>\n",
       "      <td>90.78</td>\n",
       "      <td>93.85</td>\n",
       "      <td>87.19</td>\n",
       "    </tr>\n",
       "  </tbody>\n",
       "</table>\n",
       "</div>"
      ],
      "text/plain": [
       "     State Code   State Name  District Code Name of Urban Agglomeration/City  \\\n",
       "338        27.0  MAHARASHTRA            1.0                 Nandurbar (M Cl)   \n",
       "322        27.0  MAHARASHTRA            2.0                  Dhule (M Corp.)   \n",
       "327        27.0  MAHARASHTRA            3.0                      Bhusawal UA   \n",
       "318        27.0  MAHARASHTRA            3.0                Jalgaon (M Corp.)   \n",
       "319        27.0  MAHARASHTRA            5.0                  Akola (M Corp.)   \n",
       "336        27.0  MAHARASHTRA            7.0                  Achalpur (M Cl)   \n",
       "313        27.0  MAHARASHTRA            7.0               Amravati (M Corp.)   \n",
       "339        27.0  MAHARASHTRA            8.0                    Wardha (M Cl)   \n",
       "341        27.0  MAHARASHTRA            8.0                Hinganghat (M Cl)   \n",
       "333        27.0  MAHARASHTRA            9.0                       Kamptee UA   \n",
       "307        27.0  MAHARASHTRA            9.0                        Nagpur UA   \n",
       "334        27.0  MAHARASHTRA           11.0                   Gondiya (M Cl)   \n",
       "324        27.0  MAHARASHTRA           13.0                Chandrapur (M Cl)   \n",
       "332        27.0  MAHARASHTRA           14.0                      Yavatmal UA   \n",
       "316        27.0  MAHARASHTRA           15.0         Nanded Waghala (M Corp.)   \n",
       "325        27.0  MAHARASHTRA           17.0                  Parbhani (M Cl)   \n",
       "326        27.0  MAHARASHTRA           18.0                     Jalna (M Cl)   \n",
       "310        27.0  MAHARASHTRA           19.0                    Aurangabad UA   \n",
       "314        27.0  MAHARASHTRA           20.0                      Malegaon UA   \n",
       "308        27.0  MAHARASHTRA           20.0                        Nashik UA   \n",
       "309        27.0  MAHARASHTRA           21.0       Vasai Virar City (M Corp.)   \n",
       "312        27.0  MAHARASHTRA           21.0                      Bhiwandi UA   \n",
       "328        27.0  MAHARASHTRA           24.0   Navi Mumbai Panvel Raigad (CT)   \n",
       "329        27.0  MAHARASHTRA           24.0                    Panvel (M Cl)   \n",
       "306        27.0  MAHARASHTRA           25.0                          Pune UA   \n",
       "321        27.0  MAHARASHTRA           26.0                    Ahmadnagar UA   \n",
       "331        27.0  MAHARASHTRA           27.0                       Bid (M Cl)   \n",
       "340        27.0  MAHARASHTRA           28.0                     Udgir (M Cl)   \n",
       "320        27.0  MAHARASHTRA           28.0                     Latur (M Cl)   \n",
       "337        27.0  MAHARASHTRA           29.0                 Osmanabad (M Cl)   \n",
       "311        27.0  MAHARASHTRA           30.0                Solapur (M Corp.)   \n",
       "335        27.0  MAHARASHTRA           30.0                    Barshi (M Cl)   \n",
       "330        27.0  MAHARASHTRA           31.0                        Satara UA   \n",
       "323        27.0  MAHARASHTRA           34.0                  Ichalkaranji UA   \n",
       "315        27.0  MAHARASHTRA           34.0                      Kolhapur UA   \n",
       "317        27.0  MAHARASHTRA           35.0                       Sangali UA   \n",
       "305        27.0  MAHARASHTRA           99.0                Greater Mumbai UA   \n",
       "\n",
       "    Unnamed: 4 Population_Persons Population_Males Population_Females  \\\n",
       "338       City           1,11,067           57,543             53,524   \n",
       "322       City           3,76,093         1,93,854           1,82,239   \n",
       "327         UA           2,04,016         1,05,164             98,852   \n",
       "318       City           4,60,468         2,41,228           2,19,240   \n",
       "319       City           4,27,146         2,18,184           2,08,962   \n",
       "336       City           1,12,293           58,256             54,037   \n",
       "313       City           6,46,801         3,30,544           3,16,257   \n",
       "339       City           1,05,543           53,241             52,302   \n",
       "341       City           1,00,416           51,881             48,535   \n",
       "333         UA           1,36,124           70,375             65,749   \n",
       "307         UA          24,97,777        12,75,750          12,22,027   \n",
       "334       City           1,32,889           66,756             66,133   \n",
       "324       City           3,21,036         1,65,125           1,55,911   \n",
       "332         UA           1,38,464           69,858             68,606   \n",
       "316       City           5,50,564         2,86,152           2,64,412   \n",
       "325       City           3,07,191         1,57,628           1,49,563   \n",
       "326       City           2,85,349         1,47,714           1,37,635   \n",
       "310         UA          11,89,376         6,20,097           5,69,279   \n",
       "314         UA           5,76,425         2,93,976           2,82,449   \n",
       "308         UA          15,62,769         8,24,641           7,38,128   \n",
       "309       City          12,21,233         6,49,535           5,71,698   \n",
       "312         UA           7,37,411         4,34,975           3,02,436   \n",
       "328         CT           1,94,999         1,07,771             87,228   \n",
       "329       City           1,80,464           93,135             87,329   \n",
       "306         UA          50,49,968        26,59,484          23,90,484   \n",
       "321         UA           3,79,867         1,96,344           1,83,523   \n",
       "331       City           1,46,237           75,655             70,582   \n",
       "340       City           1,04,063           54,445             49,618   \n",
       "320       City           3,82,754         1,98,151           1,84,603   \n",
       "337       City           1,12,085           58,098             53,987   \n",
       "311       City           9,51,118         4,82,194           4,68,924   \n",
       "335       City           1,18,573           60,857             57,716   \n",
       "330         UA           1,49,170           75,960             73,210   \n",
       "323         UA           3,25,709         1,69,870           1,55,839   \n",
       "315         UA           5,61,841         2,87,376           2,74,465   \n",
       "317         UA           5,13,862         2,60,956           2,52,906   \n",
       "305         UA        1,84,14,288        98,94,088          85,20,200   \n",
       "\n",
       "    0-6Population_Persons 0-6Population_Males 0-6Population_Females  \\\n",
       "338                12,621               6,868                 5,753   \n",
       "322                43,677              23,246                20,431   \n",
       "327                21,272              11,499                 9,773   \n",
       "318                51,544              28,548                22,996   \n",
       "319                46,500              24,488                22,012   \n",
       "336                11,810               6,186                 5,624   \n",
       "313                62,497              32,713                29,784   \n",
       "339                 9,754               5,139                 4,615   \n",
       "341                 9,681               5,175                 4,506   \n",
       "333                14,846               7,625                 7,221   \n",
       "307              2,48,678            1,29,522              1,19,156   \n",
       "334                12,835               6,652                 6,183   \n",
       "324                30,353              15,921                14,432   \n",
       "332                12,968               6,902                 6,066   \n",
       "316                68,181              36,417                31,764   \n",
       "325                40,075              21,187                18,888   \n",
       "326                37,695              19,982                17,713   \n",
       "310              1,54,067              82,867                71,200   \n",
       "314                90,654              46,822                43,832   \n",
       "308              1,77,966              95,924                82,042   \n",
       "309              1,37,343              71,716                65,627   \n",
       "312                91,796              47,483                44,313   \n",
       "328                25,679              13,633                12,046   \n",
       "329                17,512               9,213                 8,299   \n",
       "306              5,61,004            2,97,943              2,63,061   \n",
       "321                39,836              21,434                18,402   \n",
       "331                19,580              10,626                 8,954   \n",
       "340                13,075               6,933                 6,142   \n",
       "320                45,822              24,773                21,049   \n",
       "337                13,346               7,184                 6,162   \n",
       "311              1,04,466              54,728                49,738   \n",
       "335                13,029               7,060                 5,969   \n",
       "330                14,390               7,610                 6,780   \n",
       "323                37,105              19,642                17,463   \n",
       "315                51,157              27,912                23,245   \n",
       "317                52,775              28,179                24,596   \n",
       "305             17,43,997            9,17,855              8,26,142   \n",
       "\n",
       "    Literates_Persons Literates_Males Literates_Females  Sex Ratio  \\\n",
       "338            85,635          46,673            38,962      930.0   \n",
       "322          2,98,693        1,60,511          1,38,182      940.0   \n",
       "327          1,65,435          88,928            76,507      940.0   \n",
       "318          3,63,778        1,98,426          1,65,352      909.0   \n",
       "319          3,47,687        1,83,594          1,64,093      958.0   \n",
       "336            92,433          49,347            43,086      928.0   \n",
       "313          5,43,568        2,84,490          2,59,078      957.0   \n",
       "339            90,091          46,752            43,339      982.0   \n",
       "341            85,599          45,728            39,871      936.0   \n",
       "333          1,09,241          59,505            49,736      934.0   \n",
       "307         20,95,419       11,02,638          9,92,781      958.0   \n",
       "334          1,12,490          58,721            53,769      991.0   \n",
       "324          2,63,962        1,42,528          1,21,434      944.0   \n",
       "332          1,15,855          60,334            55,521      982.0   \n",
       "316          4,21,606        2,31,449          1,90,157      924.0   \n",
       "325          2,25,298        1,23,760          1,01,538      949.0   \n",
       "326          2,09,531        1,16,300            93,231      932.0   \n",
       "310          9,23,128        5,05,531          4,17,597      918.0   \n",
       "314          4,17,635        2,21,530          1,96,105      961.0   \n",
       "308         12,59,723        6,92,426          5,67,297      895.0   \n",
       "309          9,87,916        5,48,138          4,39,778      880.0   \n",
       "312          5,25,930        3,26,853          1,99,077      695.0   \n",
       "328          1,53,608          88,833            64,775      809.0   \n",
       "329          1,53,138          80,790            72,348      938.0   \n",
       "306         41,03,766       22,43,534         18,60,232      899.0   \n",
       "321          3,11,603        1,67,369          1,44,234      935.0   \n",
       "331          1,12,171          61,135            51,036      933.0   \n",
       "340            78,051          43,518            34,533      911.0   \n",
       "320          2,91,226        1,60,070          1,31,156      932.0   \n",
       "337            87,041          47,577            39,464      929.0   \n",
       "311          7,10,180        3,90,335          3,19,845      972.0   \n",
       "335            91,260          49,965            41,295      948.0   \n",
       "330          1,25,327          65,922            59,405      964.0   \n",
       "323          2,53,731        1,40,773          1,12,958      917.0   \n",
       "315          4,70,675        2,50,000          2,20,675      955.0   \n",
       "317          4,06,145        2,17,461          1,88,684      969.0   \n",
       "305       1,51,32,568       84,23,992         67,08,576      861.0   \n",
       "\n",
       "     Child Sex Ratio (0-6 Years  Effective_Literacy_Rate (7+ Pop)_Persons  \\\n",
       "338                       838.0                                     86.99   \n",
       "322                       879.0                                     89.86   \n",
       "327                       850.0                                     90.53   \n",
       "318                       806.0                                     88.96   \n",
       "319                       899.0                                     91.34   \n",
       "336                       909.0                                     91.99   \n",
       "313                       910.0                                     93.03   \n",
       "339                       898.0                                     94.05   \n",
       "341                       871.0                                     94.34   \n",
       "333                       947.0                                     90.07   \n",
       "307                       920.0                                     93.17   \n",
       "334                       929.0                                     93.70   \n",
       "324                       906.0                                     90.81   \n",
       "332                       879.0                                     92.32   \n",
       "316                       872.0                                     87.40   \n",
       "325                       891.0                                     84.34   \n",
       "326                       886.0                                     84.61   \n",
       "310                       859.0                                     89.16   \n",
       "314                       936.0                                     85.97   \n",
       "308                       855.0                                     90.97   \n",
       "309                       915.0                                     91.15   \n",
       "312                       933.0                                     81.46   \n",
       "328                       884.0                                     90.72   \n",
       "329                       901.0                                     93.98   \n",
       "306                       883.0                                     91.42   \n",
       "321                       859.0                                     91.64   \n",
       "331                       843.0                                     88.56   \n",
       "340                       886.0                                     85.78   \n",
       "320                       850.0                                     86.43   \n",
       "337                       858.0                                     88.15   \n",
       "311                       909.0                                     83.88   \n",
       "335                       845.0                                     86.47   \n",
       "330                       891.0                                     92.99   \n",
       "323                       889.0                                     87.92   \n",
       "315                       833.0                                     92.17   \n",
       "317                       873.0                                     88.08   \n",
       "305                       900.0                                     90.78   \n",
       "\n",
       "     Effective_Literacy_Rate (7+ Pop)_Males  \\\n",
       "338                                   92.10   \n",
       "322                                   94.08   \n",
       "327                                   94.94   \n",
       "318                                   93.30   \n",
       "319                                   94.78   \n",
       "336                                   94.77   \n",
       "313                                   95.52   \n",
       "339                                   97.19   \n",
       "341                                   97.91   \n",
       "333                                   94.83   \n",
       "307                                   96.20   \n",
       "334                                   97.70   \n",
       "324                                   95.53   \n",
       "332                                   95.84   \n",
       "316                                   92.68   \n",
       "325                                   90.71   \n",
       "326                                   91.05   \n",
       "310                                   94.10   \n",
       "314                                   89.63   \n",
       "308                                   95.02   \n",
       "309                                   94.86   \n",
       "312                                   84.35   \n",
       "328                                   94.36   \n",
       "329                                   96.27   \n",
       "306                                   95.00   \n",
       "321                                   95.69   \n",
       "331                                   94.01   \n",
       "340                                   91.59   \n",
       "320                                   92.32   \n",
       "337                                   93.45   \n",
       "311                                   91.31   \n",
       "335                                   92.88   \n",
       "330                                   96.45   \n",
       "323                                   93.71   \n",
       "315                                   96.35   \n",
       "317                                   93.42   \n",
       "305                                   93.85   \n",
       "\n",
       "     Effective_Literacy_Rate (7+ Pop)_Females  \n",
       "338                                     81.56  \n",
       "322                                     85.40  \n",
       "327                                     85.89  \n",
       "318                                     84.26  \n",
       "319                                     87.77  \n",
       "336                                     89.00  \n",
       "313                                     90.44  \n",
       "339                                     90.88  \n",
       "341                                     90.56  \n",
       "333                                     84.98  \n",
       "307                                     90.02  \n",
       "334                                     89.69  \n",
       "324                                     85.83  \n",
       "332                                     88.78  \n",
       "316                                     81.74  \n",
       "325                                     77.70  \n",
       "326                                     77.74  \n",
       "310                                     83.84  \n",
       "314                                     82.18  \n",
       "308                                     86.47  \n",
       "309                                     86.90  \n",
       "312                                     77.12  \n",
       "328                                     86.16  \n",
       "329                                     91.54  \n",
       "306                                     87.44  \n",
       "321                                     87.35  \n",
       "331                                     82.81  \n",
       "340                                     79.43  \n",
       "320                                     80.19  \n",
       "337                                     82.52  \n",
       "311                                     76.30  \n",
       "335                                     79.80  \n",
       "330                                     89.42  \n",
       "323                                     81.63  \n",
       "315                                     87.84  \n",
       "317                                     82.64  \n",
       "305                                     87.19  "
      ]
     },
     "execution_count": 14,
     "metadata": {},
     "output_type": "execute_result"
    }
   ],
   "source": [
    "df[(df['State Code'] == 27)].sort_values(by='District Code', ascending=True)"
   ]
  },
  {
   "cell_type": "code",
   "execution_count": 5,
   "metadata": {},
   "outputs": [
    {
     "data": {
      "text/plain": [
       "63"
      ]
     },
     "execution_count": 5,
     "metadata": {},
     "output_type": "execute_result"
    }
   ],
   "source": [
    "len(df['District Code'].unique())"
   ]
  }
 ],
 "metadata": {
  "kernelspec": {
   "display_name": "base",
   "language": "python",
   "name": "python3"
  },
  "language_info": {
   "codemirror_mode": {
    "name": "ipython",
    "version": 3
   },
   "file_extension": ".py",
   "mimetype": "text/x-python",
   "name": "python",
   "nbconvert_exporter": "python",
   "pygments_lexer": "ipython3",
   "version": "3.11.4"
  }
 },
 "nbformat": 4,
 "nbformat_minor": 2
}

{
 "cells": [
  {
   "cell_type": "code",
   "execution_count": 23,
   "metadata": {},
   "outputs": [
    {
     "data": {
      "text/plain": [
       "ThemeRegistry.enable('light')"
      ]
     },
     "execution_count": 23,
     "metadata": {},
     "output_type": "execute_result"
    }
   ],
   "source": [
    "import pandas as pd\n",
    "import altair as alt\n",
    "import eco_style\n",
    "\n",
    "alt.themes.enable('light')"
   ]
  },
  {
   "cell_type": "markdown",
   "metadata": {},
   "source": [
    "# ChartOfTheDay: UKR Wheat Imports"
   ]
  },
  {
   "cell_type": "code",
   "execution_count": 22,
   "metadata": {},
   "outputs": [
    {
     "name": "stderr",
     "output_type": "stream",
     "text": [
      "/Users/finn/anaconda3/lib/python3.11/site-packages/altair/utils/core.py:395: FutureWarning: the convert_dtype parameter is deprecated and will be removed in a future version.  Do ``ser.astype(object).apply()`` instead if you want ``convert_dtype=False``.\n",
      "  col = df[col_name].apply(to_list_if_array, convert_dtype=False)\n",
      "/Users/finn/anaconda3/lib/python3.11/site-packages/altair/utils/core.py:395: FutureWarning: the convert_dtype parameter is deprecated and will be removed in a future version.  Do ``ser.astype(object).apply()`` instead if you want ``convert_dtype=False``.\n",
      "  col = df[col_name].apply(to_list_if_array, convert_dtype=False)\n",
      "/Users/finn/anaconda3/lib/python3.11/site-packages/altair/utils/core.py:395: FutureWarning: the convert_dtype parameter is deprecated and will be removed in a future version.  Do ``ser.astype(object).apply()`` instead if you want ``convert_dtype=False``.\n",
      "  col = df[col_name].apply(to_list_if_array, convert_dtype=False)\n"
     ]
    },
    {
     "data": {
      "text/html": [
       "\n",
       "<style>\n",
       "  #altair-viz-88f2dc47743d473f9e63f82bf6fe39d0.vega-embed {\n",
       "    width: 100%;\n",
       "    display: flex;\n",
       "  }\n",
       "\n",
       "  #altair-viz-88f2dc47743d473f9e63f82bf6fe39d0.vega-embed details,\n",
       "  #altair-viz-88f2dc47743d473f9e63f82bf6fe39d0.vega-embed details summary {\n",
       "    position: relative;\n",
       "  }\n",
       "</style>\n",
       "<div id=\"altair-viz-88f2dc47743d473f9e63f82bf6fe39d0\"></div>\n",
       "<script type=\"text/javascript\">\n",
       "  var VEGA_DEBUG = (typeof VEGA_DEBUG == \"undefined\") ? {} : VEGA_DEBUG;\n",
       "  (function(spec, embedOpt){\n",
       "    let outputDiv = document.currentScript.previousElementSibling;\n",
       "    if (outputDiv.id !== \"altair-viz-88f2dc47743d473f9e63f82bf6fe39d0\") {\n",
       "      outputDiv = document.getElementById(\"altair-viz-88f2dc47743d473f9e63f82bf6fe39d0\");\n",
       "    }\n",
       "    const paths = {\n",
       "      \"vega\": \"https://cdn.jsdelivr.net/npm/vega@5?noext\",\n",
       "      \"vega-lib\": \"https://cdn.jsdelivr.net/npm/vega-lib?noext\",\n",
       "      \"vega-lite\": \"https://cdn.jsdelivr.net/npm/vega-lite@5.8.0?noext\",\n",
       "      \"vega-embed\": \"https://cdn.jsdelivr.net/npm/vega-embed@6?noext\",\n",
       "    };\n",
       "\n",
       "    function maybeLoadScript(lib, version) {\n",
       "      var key = `${lib.replace(\"-\", \"\")}_version`;\n",
       "      return (VEGA_DEBUG[key] == version) ?\n",
       "        Promise.resolve(paths[lib]) :\n",
       "        new Promise(function(resolve, reject) {\n",
       "          var s = document.createElement('script');\n",
       "          document.getElementsByTagName(\"head\")[0].appendChild(s);\n",
       "          s.async = true;\n",
       "          s.onload = () => {\n",
       "            VEGA_DEBUG[key] = version;\n",
       "            return resolve(paths[lib]);\n",
       "          };\n",
       "          s.onerror = () => reject(`Error loading script: ${paths[lib]}`);\n",
       "          s.src = paths[lib];\n",
       "        });\n",
       "    }\n",
       "\n",
       "    function showError(err) {\n",
       "      outputDiv.innerHTML = `<div class=\"error\" style=\"color:red;\">${err}</div>`;\n",
       "      throw err;\n",
       "    }\n",
       "\n",
       "    function displayChart(vegaEmbed) {\n",
       "      vegaEmbed(outputDiv, spec, embedOpt)\n",
       "        .catch(err => showError(`Javascript Error: ${err.message}<br>This usually means there's a typo in your chart specification. See the javascript console for the full traceback.`));\n",
       "    }\n",
       "\n",
       "    if(typeof define === \"function\" && define.amd) {\n",
       "      requirejs.config({paths});\n",
       "      require([\"vega-embed\"], displayChart, err => showError(`Error loading script: ${err.message}`));\n",
       "    } else {\n",
       "      maybeLoadScript(\"vega\", \"5\")\n",
       "        .then(() => maybeLoadScript(\"vega-lite\", \"5.8.0\"))\n",
       "        .then(() => maybeLoadScript(\"vega-embed\", \"6\"))\n",
       "        .catch(showError)\n",
       "        .then(() => displayChart(vegaEmbed));\n",
       "    }\n",
       "  })({\"config\": {\"font\": \"Circular Std\", \"mark\": {\"line\": {\"interpolate\": \"monotone\"}}, \"view\": {\"stroke\": \"transparent\", \"width\": 400, \"height\": 300}, \"range\": {\"category\": [\"#36B7B4\", \"#E6224B\", \"#F4C245\", \"#0063AF\", \"#00A767\", \"#179FDB\", \"#EB5C2E\"], \"diverging\": [\"#E6224B\", \"#E54753\", \"#C9C9C9\", \"#179FDB\", \"#122B39\"], \"heatmap\": [\"#C9C9C9\", \"#179FDB\", \"#0063AF\", \"#122B39\"], \"ordinal\": [\"#00A767\", \"#36B7B4\", \"#179FDB\", \"#0063AF\", \"#243B5A\"]}, \"axisX\": {\"domainColor\": \"#676A86\", \"domainOpacity\": 0.5, \"grid\": false, \"labelAngle\": 0, \"labelColor\": \"#676A86\", \"labelOpacity\": 0.7, \"orient\": \"bottom\", \"tickColor\": \"#676A86\", \"tickCount\": 10, \"tickOpacity\": 0.5, \"title\": false, \"titleAlign\": \"center\", \"titleAnchor\": \"middle\", \"titleColor\": \"#676A86\", \"titleFontSize\": 12, \"titleOpacity\": 0.8, \"titleY\": -15}, \"axisY\": {\"domainColor\": \"#676A86\", \"domainOpacity\": 0.5, \"gridColor\": \"#676A86\", \"gridDash\": [1, 5], \"gridOpacity\": 0.5, \"labelColor\": \"#676A86\", \"labelOpacity\": 0.7, \"labelPadding\": 5, \"tickColor\": \"#676A86\", \"tickCount\": 8, \"tickOpacity\": 0.5, \"ticks\": false, \"titleAlign\": \"left\", \"titleAngle\": 0, \"titleBaseline\": \"bottom\", \"titleColor\": \"#676A86\", \"titleFontSize\": 12, \"titleOpacity\": 0.8, \"titleX\": 0, \"titleY\": -7}}, \"data\": {\"name\": \"data-eb9dfcc9ccc7b6db08c9c1bb9fa5ee16\"}, \"mark\": {\"type\": \"bar\"}, \"encoding\": {\"color\": {\"field\": \"source\", \"legend\": {\"direction\": \"horizontal\", \"legendX\": 0, \"legendY\": -16, \"orient\": \"none\", \"title\": null}, \"type\": \"nominal\"}, \"column\": {\"field\": \"country\", \"header\": {\"orient\": \"bottom\", \"title\": \"\"}, \"sort\": {\"field\": \"Country\", \"order\": \"descending\"}, \"type\": \"nominal\"}, \"x\": {\"axis\": {\"domain\": false, \"labels\": false, \"tickOpacity\": 0}, \"field\": \"source\", \"type\": \"nominal\"}, \"y\": {\"axis\": {\"labelExpr\": \"datum.value + 'M'\", \"title\": \"Tonnes\", \"titleY\": -20}, \"field\": \"value\", \"type\": \"quantitative\"}}, \"height\": 300, \"title\": {\"text\": \"The War in Ukraine: Wheat Exports\", \"color\": \"#676A86\", \"dx\": 30, \"fontSize\": 14, \"offset\": 0, \"subtitle\": [\"Change by Source, Tonnes\", \"\"], \"subtitleFontSize\": 12}, \"width\": 50, \"$schema\": \"https://vega.github.io/schema/vega-lite/v5.8.0.json\", \"datasets\": {\"data-eb9dfcc9ccc7b6db08c9c1bb9fa5ee16\": [{\"country\": \"Eastern Africa\", \"source\": \"Ukraine\", \"value\": -31.9}, {\"country\": \"Eastern Africa\", \"source\": \"Russia\", \"value\": 25.8}, {\"country\": \"Eastern Asia\", \"source\": \"Ukraine\", \"value\": -65.7}, {\"country\": \"Eastern Asia\", \"source\": \"Russia\", \"value\": 48.9}, {\"country\": \"EU\", \"source\": \"Ukraine\", \"value\": 125.4}, {\"country\": \"EU\", \"source\": \"Russia\", \"value\": -23.7}, {\"country\": \"North Africa\", \"source\": \"Ukraine\", \"value\": -66.9}, {\"country\": \"North Africa\", \"source\": \"Russia\", \"value\": 32.7}, {\"country\": \"Other Europe\", \"source\": \"Ukraine\", \"value\": -5.3}, {\"country\": \"Other Europe\", \"source\": \"Russia\", \"value\": -75.2}, {\"country\": \"South East Asia\", \"source\": \"Ukraine\", \"value\": -74.9}, {\"country\": \"South East Asia\", \"source\": \"Russia\", \"value\": -44.1}, {\"country\": \"Southern Africa\", \"source\": \"Ukraine\", \"value\": -63.2}, {\"country\": \"Southern Africa\", \"source\": \"Russia\", \"value\": -15.6}, {\"country\": \"Southern Asia\", \"source\": \"Ukraine\", \"value\": -45.1}, {\"country\": \"Southern Asia\", \"source\": \"Russia\", \"value\": 2.59}, {\"country\": \"Western Asia\", \"source\": \"Ukraine\", \"value\": 0.27}, {\"country\": \"Western Asia\", \"source\": \"Russia\", \"value\": 57.7}]}}, {\"mode\": \"vega-lite\"});\n",
       "</script>"
      ],
      "text/plain": [
       "alt.Chart(...)"
      ]
     },
     "metadata": {},
     "output_type": "display_data"
    }
   ],
   "source": [
    "df = pd.read_csv(\"fig1_wheat_imports_change.csv\")\n",
    "\n",
    "\n",
    "chart = alt.Chart(df).mark_bar().encode(\n",
    "    x=alt.X('source:N', axis=alt.Axis(domain=False, tickOpacity=0, labels=False)),\n",
    "    y=alt.Y('value:Q', axis=alt.Axis(title=\"Tonnes\", titleY=-20, labelExpr=\"datum.value + 'M'\")),\n",
    "    color=alt.Color('source:N', legend=alt.Legend(orient=\"none\", title=None, legendY=-16, legendX=0, direction=\"horizontal\")),\n",
    "    column=alt.Column('country:N', header=alt.Header(orient='bottom', title=\"\"), sort=alt.EncodingSortField(field=\"Country\", order=\"descending\")),\n",
    ").properties(\n",
    "    width=50,\n",
    "    height=300,\n",
    "    title=alt.TitleParams(\"The War in Ukraine: Wheat Exports\", subtitle=[\"Change by Source, Tonnes\", \"\"], offset=0, color=\"#676A86\", fontSize=14, subtitleFontSize=12, dx=30)\n",
    ")\n",
    "\n",
    "chart.save(\"fig1_COTD.json\")\n",
    "chart.save(\"fig1_COTD.png\", scale_factor=2.0)\n",
    "\n",
    "chart.display()\n"
   ]
  },
  {
   "cell_type": "code",
   "execution_count": null,
   "metadata": {},
   "outputs": [],
   "source": []
  }
 ],
 "metadata": {
  "kernelspec": {
   "display_name": "base",
   "language": "python",
   "name": "python3"
  },
  "language_info": {
   "codemirror_mode": {
    "name": "ipython",
    "version": 3
   },
   "file_extension": ".py",
   "mimetype": "text/x-python",
   "name": "python",
   "nbconvert_exporter": "python",
   "pygments_lexer": "ipython3",
   "version": "3.11.4"
  }
 },
 "nbformat": 4,
 "nbformat_minor": 2
}

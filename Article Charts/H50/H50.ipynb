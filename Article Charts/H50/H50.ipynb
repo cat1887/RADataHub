{
 "cells": [
  {
   "cell_type": "code",
   "execution_count": 2,
   "metadata": {},
   "outputs": [
    {
     "data": {
      "text/plain": [
       "ThemeRegistry.enable('light')"
      ]
     },
     "execution_count": 2,
     "metadata": {},
     "output_type": "execute_result"
    }
   ],
   "source": [
    "import pandas as pd \n",
    "import numpy as np\n",
    "import altair as alt\n",
    "import eco_style\n",
    "alt.themes.enable('light')\n"
   ]
  },
  {
   "cell_type": "markdown",
   "metadata": {},
   "source": [
    "# Fig1"
   ]
  },
  {
   "cell_type": "code",
   "execution_count": 3,
   "metadata": {},
   "outputs": [],
   "source": [
    "hc_df = pd.read_csv(\"https://raw.githubusercontent.com/hcantekin/hcantekin.github.io/main/H50_fig1_data.csv\")"
   ]
  },
  {
   "cell_type": "code",
   "execution_count": 13,
   "metadata": {},
   "outputs": [
    {
     "data": {
      "text/plain": [
       "measure\n",
       "UK risk premium                  881\n",
       "UK interest rate expectations    881\n",
       "UK 10-year yield                 881\n",
       "Name: count, dtype: int64"
      ]
     },
     "execution_count": 13,
     "metadata": {},
     "output_type": "execute_result"
    }
   ],
   "source": [
    "hc_df.measure.value_counts()"
   ]
  },
  {
   "cell_type": "code",
   "execution_count": 21,
   "metadata": {},
   "outputs": [
    {
     "data": {
      "text/html": [
       "<div>\n",
       "<style scoped>\n",
       "    .dataframe tbody tr th:only-of-type {\n",
       "        vertical-align: middle;\n",
       "    }\n",
       "\n",
       "    .dataframe tbody tr th {\n",
       "        vertical-align: top;\n",
       "    }\n",
       "\n",
       "    .dataframe thead th {\n",
       "        text-align: right;\n",
       "    }\n",
       "</style>\n",
       "<table border=\"1\" class=\"dataframe\">\n",
       "  <thead>\n",
       "    <tr style=\"text-align: right;\">\n",
       "      <th></th>\n",
       "      <th>date</th>\n",
       "      <th>measure</th>\n",
       "      <th>value</th>\n",
       "    </tr>\n",
       "  </thead>\n",
       "  <tbody>\n",
       "    <tr>\n",
       "      <th>0</th>\n",
       "      <td>2020-01-03</td>\n",
       "      <td>UK 10-year yield</td>\n",
       "      <td>0.740000</td>\n",
       "    </tr>\n",
       "    <tr>\n",
       "      <th>1</th>\n",
       "      <td>2020-01-06</td>\n",
       "      <td>UK 10-year yield</td>\n",
       "      <td>0.770000</td>\n",
       "    </tr>\n",
       "    <tr>\n",
       "      <th>2</th>\n",
       "      <td>2020-01-07</td>\n",
       "      <td>UK 10-year yield</td>\n",
       "      <td>0.790000</td>\n",
       "    </tr>\n",
       "    <tr>\n",
       "      <th>3</th>\n",
       "      <td>2020-01-08</td>\n",
       "      <td>UK 10-year yield</td>\n",
       "      <td>0.800000</td>\n",
       "    </tr>\n",
       "    <tr>\n",
       "      <th>4</th>\n",
       "      <td>2020-01-09</td>\n",
       "      <td>UK 10-year yield</td>\n",
       "      <td>0.830000</td>\n",
       "    </tr>\n",
       "    <tr>\n",
       "      <th>...</th>\n",
       "      <td>...</td>\n",
       "      <td>...</td>\n",
       "      <td>...</td>\n",
       "    </tr>\n",
       "    <tr>\n",
       "      <th>3415</th>\n",
       "      <td>2024-07-16</td>\n",
       "      <td>UK risk premium</td>\n",
       "      <td>-0.354808</td>\n",
       "    </tr>\n",
       "    <tr>\n",
       "      <th>3416</th>\n",
       "      <td>2024-07-17</td>\n",
       "      <td>UK risk premium</td>\n",
       "      <td>-0.391435</td>\n",
       "    </tr>\n",
       "    <tr>\n",
       "      <th>3417</th>\n",
       "      <td>2024-07-18</td>\n",
       "      <td>UK risk premium</td>\n",
       "      <td>-0.378913</td>\n",
       "    </tr>\n",
       "    <tr>\n",
       "      <th>3418</th>\n",
       "      <td>2024-07-19</td>\n",
       "      <td>UK risk premium</td>\n",
       "      <td>-0.325573</td>\n",
       "    </tr>\n",
       "    <tr>\n",
       "      <th>3419</th>\n",
       "      <td>2024-07-22</td>\n",
       "      <td>UK risk premium</td>\n",
       "      <td>-0.362236</td>\n",
       "    </tr>\n",
       "  </tbody>\n",
       "</table>\n",
       "<p>3420 rows × 3 columns</p>\n",
       "</div>"
      ],
      "text/plain": [
       "           date           measure     value\n",
       "0    2020-01-03  UK 10-year yield  0.740000\n",
       "1    2020-01-06  UK 10-year yield  0.770000\n",
       "2    2020-01-07  UK 10-year yield  0.790000\n",
       "3    2020-01-08  UK 10-year yield  0.800000\n",
       "4    2020-01-09  UK 10-year yield  0.830000\n",
       "...         ...               ...       ...\n",
       "3415 2024-07-16   UK risk premium -0.354808\n",
       "3416 2024-07-17   UK risk premium -0.391435\n",
       "3417 2024-07-18   UK risk premium -0.378913\n",
       "3418 2024-07-19   UK risk premium -0.325573\n",
       "3419 2024-07-22   UK risk premium -0.362236\n",
       "\n",
       "[3420 rows x 3 columns]"
      ]
     },
     "execution_count": 21,
     "metadata": {},
     "output_type": "execute_result"
    }
   ],
   "source": [
    "df = pd.read_excel(\"Masterfile BPT_230724.xlsx\", sheet_name=\"UK SPOT\", skiprows=3)\n",
    "df = df.iloc[:, 5:7]\n",
    "df.columns = [\"date\", \"UK 10-year yield\"]\n",
    "df = df.dropna()\n",
    "df['date'] = pd.to_datetime(df['date'], format='mixed', dayfirst=True)\n",
    "yield_df = df.copy()\n",
    "\n",
    "df = pd.read_excel(\"Masterfile BPT_230724.xlsx\", sheet_name=\"Interest Rate Expectations\", skiprows=0)\n",
    "df = df[[\"Code\", \"UK - 10 yr\"]]\n",
    "df.columns = [\"date\", \"UK interest rate expectations\"]\n",
    "df = df.dropna()\n",
    "df['date'] = pd.to_datetime(df['date'], format='mixed', dayfirst=True)\n",
    "expectations_df = df.copy()\n",
    "\n",
    "df = pd.read_excel(\"Masterfile BPT_230724.xlsx\", sheet_name=\"Term Premia\", skiprows=0)\n",
    "df = df[['Code', 'UK']]\n",
    "df.columns = [\"date\", \"UK risk premium\"]\n",
    "df = df.dropna()\n",
    "df['date'] = pd.to_datetime(df['date'], format='mixed', dayfirst=True)\n",
    "risk_premium_df = df.copy()\n",
    "\n",
    "df = pd.merge(yield_df, expectations_df, on=\"date\")\n",
    "df = pd.merge(df, risk_premium_df, on=\"date\")\n",
    "df = df.melt(id_vars=\"date\", var_name=\"measure\", value_name=\"value\")\n",
    "df.to_csv(\"H50_fig1_data.csv\", index=False)\n",
    "df"
   ]
  },
  {
   "cell_type": "code",
   "execution_count": 19,
   "metadata": {},
   "outputs": [
    {
     "data": {
      "text/html": [
       "<div>\n",
       "<style scoped>\n",
       "    .dataframe tbody tr th:only-of-type {\n",
       "        vertical-align: middle;\n",
       "    }\n",
       "\n",
       "    .dataframe tbody tr th {\n",
       "        vertical-align: top;\n",
       "    }\n",
       "\n",
       "    .dataframe thead th {\n",
       "        text-align: right;\n",
       "    }\n",
       "</style>\n",
       "<table border=\"1\" class=\"dataframe\">\n",
       "  <thead>\n",
       "    <tr style=\"text-align: right;\">\n",
       "      <th></th>\n",
       "      <th>date</th>\n",
       "      <th>value</th>\n",
       "      <th>measure</th>\n",
       "    </tr>\n",
       "  </thead>\n",
       "  <tbody>\n",
       "    <tr>\n",
       "      <th>0</th>\n",
       "      <td>2021-01-04</td>\n",
       "      <td>-0.069332</td>\n",
       "      <td>UK risk premium</td>\n",
       "    </tr>\n",
       "    <tr>\n",
       "      <th>1</th>\n",
       "      <td>2021-01-05</td>\n",
       "      <td>-0.053777</td>\n",
       "      <td>UK risk premium</td>\n",
       "    </tr>\n",
       "    <tr>\n",
       "      <th>2</th>\n",
       "      <td>2021-01-06</td>\n",
       "      <td>-0.027133</td>\n",
       "      <td>UK risk premium</td>\n",
       "    </tr>\n",
       "    <tr>\n",
       "      <th>3</th>\n",
       "      <td>2021-01-07</td>\n",
       "      <td>0.020635</td>\n",
       "      <td>UK risk premium</td>\n",
       "    </tr>\n",
       "    <tr>\n",
       "      <th>4</th>\n",
       "      <td>2021-01-08</td>\n",
       "      <td>0.022879</td>\n",
       "      <td>UK risk premium</td>\n",
       "    </tr>\n",
       "    <tr>\n",
       "      <th>...</th>\n",
       "      <td>...</td>\n",
       "      <td>...</td>\n",
       "      <td>...</td>\n",
       "    </tr>\n",
       "    <tr>\n",
       "      <th>2638</th>\n",
       "      <td>2024-07-02</td>\n",
       "      <td>4.220000</td>\n",
       "      <td>UK 10-year yield</td>\n",
       "    </tr>\n",
       "    <tr>\n",
       "      <th>2639</th>\n",
       "      <td>2024-07-03</td>\n",
       "      <td>4.140000</td>\n",
       "      <td>UK 10-year yield</td>\n",
       "    </tr>\n",
       "    <tr>\n",
       "      <th>2640</th>\n",
       "      <td>2024-07-04</td>\n",
       "      <td>4.180000</td>\n",
       "      <td>UK 10-year yield</td>\n",
       "    </tr>\n",
       "    <tr>\n",
       "      <th>2641</th>\n",
       "      <td>2024-07-05</td>\n",
       "      <td>4.100000</td>\n",
       "      <td>UK 10-year yield</td>\n",
       "    </tr>\n",
       "    <tr>\n",
       "      <th>2642</th>\n",
       "      <td>2024-07-08</td>\n",
       "      <td>4.090000</td>\n",
       "      <td>UK 10-year yield</td>\n",
       "    </tr>\n",
       "  </tbody>\n",
       "</table>\n",
       "<p>2643 rows × 3 columns</p>\n",
       "</div>"
      ],
      "text/plain": [
       "            date     value           measure\n",
       "0     2021-01-04 -0.069332   UK risk premium\n",
       "1     2021-01-05 -0.053777   UK risk premium\n",
       "2     2021-01-06 -0.027133   UK risk premium\n",
       "3     2021-01-07  0.020635   UK risk premium\n",
       "4     2021-01-08  0.022879   UK risk premium\n",
       "...          ...       ...               ...\n",
       "2638  2024-07-02  4.220000  UK 10-year yield\n",
       "2639  2024-07-03  4.140000  UK 10-year yield\n",
       "2640  2024-07-04  4.180000  UK 10-year yield\n",
       "2641  2024-07-05  4.100000  UK 10-year yield\n",
       "2642  2024-07-08  4.090000  UK 10-year yield\n",
       "\n",
       "[2643 rows x 3 columns]"
      ]
     },
     "execution_count": 19,
     "metadata": {},
     "output_type": "execute_result"
    }
   ],
   "source": [
    "hc_df"
   ]
  },
  {
   "cell_type": "code",
   "execution_count": null,
   "metadata": {},
   "outputs": [],
   "source": [
    "df.to_csv(\"uk_yield_expectations_risk_premium.csv\", index=False)"
   ]
  }
 ],
 "metadata": {
  "kernelspec": {
   "display_name": "base",
   "language": "python",
   "name": "python3"
  },
  "language_info": {
   "codemirror_mode": {
    "name": "ipython",
    "version": 3
   },
   "file_extension": ".py",
   "mimetype": "text/x-python",
   "name": "python",
   "nbconvert_exporter": "python",
   "pygments_lexer": "ipython3",
   "version": "3.11.4"
  }
 },
 "nbformat": 4,
 "nbformat_minor": 2
}

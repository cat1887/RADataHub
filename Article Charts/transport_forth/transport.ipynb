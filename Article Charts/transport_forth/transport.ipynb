{
 "cells": [
  {
   "cell_type": "code",
   "execution_count": 1,
   "metadata": {},
   "outputs": [
    {
     "data": {
      "text/plain": [
       "ThemeRegistry.enable('light')"
      ]
     },
     "execution_count": 1,
     "metadata": {},
     "output_type": "execute_result"
    }
   ],
   "source": [
    "import pandas as pd\n",
    "import numpy as np\n",
    "import altair as alt\n",
    "import eco_style\n",
    "alt.themes.enable('light')"
   ]
  },
  {
   "cell_type": "code",
   "execution_count": 64,
   "metadata": {},
   "outputs": [
    {
     "name": "stderr",
     "output_type": "stream",
     "text": [
      "/Users/finn/anaconda3/lib/python3.11/site-packages/altair/utils/core.py:395: FutureWarning: the convert_dtype parameter is deprecated and will be removed in a future version.  Do ``ser.astype(object).apply()`` instead if you want ``convert_dtype=False``.\n",
      "  col = df[col_name].apply(to_list_if_array, convert_dtype=False)\n",
      "/Users/finn/anaconda3/lib/python3.11/site-packages/altair/utils/core.py:395: FutureWarning: the convert_dtype parameter is deprecated and will be removed in a future version.  Do ``ser.astype(object).apply()`` instead if you want ``convert_dtype=False``.\n",
      "  col = df[col_name].apply(to_list_if_array, convert_dtype=False)\n",
      "/Users/finn/anaconda3/lib/python3.11/site-packages/altair/utils/core.py:395: FutureWarning: the convert_dtype parameter is deprecated and will be removed in a future version.  Do ``ser.astype(object).apply()`` instead if you want ``convert_dtype=False``.\n",
      "  col = df[col_name].apply(to_list_if_array, convert_dtype=False)\n",
      "/Users/finn/anaconda3/lib/python3.11/site-packages/altair/utils/core.py:395: FutureWarning: the convert_dtype parameter is deprecated and will be removed in a future version.  Do ``ser.astype(object).apply()`` instead if you want ``convert_dtype=False``.\n",
      "  col = df[col_name].apply(to_list_if_array, convert_dtype=False)\n",
      "/Users/finn/anaconda3/lib/python3.11/site-packages/altair/utils/core.py:395: FutureWarning: the convert_dtype parameter is deprecated and will be removed in a future version.  Do ``ser.astype(object).apply()`` instead if you want ``convert_dtype=False``.\n",
      "  col = df[col_name].apply(to_list_if_array, convert_dtype=False)\n",
      "/Users/finn/anaconda3/lib/python3.11/site-packages/altair/utils/core.py:395: FutureWarning: the convert_dtype parameter is deprecated and will be removed in a future version.  Do ``ser.astype(object).apply()`` instead if you want ``convert_dtype=False``.\n",
      "  col = df[col_name].apply(to_list_if_array, convert_dtype=False)\n",
      "/Users/finn/anaconda3/lib/python3.11/site-packages/altair/utils/core.py:395: FutureWarning: the convert_dtype parameter is deprecated and will be removed in a future version.  Do ``ser.astype(object).apply()`` instead if you want ``convert_dtype=False``.\n",
      "  col = df[col_name].apply(to_list_if_array, convert_dtype=False)\n",
      "/Users/finn/anaconda3/lib/python3.11/site-packages/altair/utils/core.py:395: FutureWarning: the convert_dtype parameter is deprecated and will be removed in a future version.  Do ``ser.astype(object).apply()`` instead if you want ``convert_dtype=False``.\n",
      "  col = df[col_name].apply(to_list_if_array, convert_dtype=False)\n",
      "/Users/finn/anaconda3/lib/python3.11/site-packages/altair/utils/core.py:395: FutureWarning: the convert_dtype parameter is deprecated and will be removed in a future version.  Do ``ser.astype(object).apply()`` instead if you want ``convert_dtype=False``.\n",
      "  col = df[col_name].apply(to_list_if_array, convert_dtype=False)\n",
      "/Users/finn/anaconda3/lib/python3.11/site-packages/altair/utils/core.py:395: FutureWarning: the convert_dtype parameter is deprecated and will be removed in a future version.  Do ``ser.astype(object).apply()`` instead if you want ``convert_dtype=False``.\n",
      "  col = df[col_name].apply(to_list_if_array, convert_dtype=False)\n",
      "/Users/finn/anaconda3/lib/python3.11/site-packages/altair/utils/core.py:395: FutureWarning: the convert_dtype parameter is deprecated and will be removed in a future version.  Do ``ser.astype(object).apply()`` instead if you want ``convert_dtype=False``.\n",
      "  col = df[col_name].apply(to_list_if_array, convert_dtype=False)\n",
      "/Users/finn/anaconda3/lib/python3.11/site-packages/altair/utils/core.py:395: FutureWarning: the convert_dtype parameter is deprecated and will be removed in a future version.  Do ``ser.astype(object).apply()`` instead if you want ``convert_dtype=False``.\n",
      "  col = df[col_name].apply(to_list_if_array, convert_dtype=False)\n",
      "/Users/finn/anaconda3/lib/python3.11/site-packages/altair/utils/core.py:395: FutureWarning: the convert_dtype parameter is deprecated and will be removed in a future version.  Do ``ser.astype(object).apply()`` instead if you want ``convert_dtype=False``.\n",
      "  col = df[col_name].apply(to_list_if_array, convert_dtype=False)\n",
      "/Users/finn/anaconda3/lib/python3.11/site-packages/altair/utils/core.py:395: FutureWarning: the convert_dtype parameter is deprecated and will be removed in a future version.  Do ``ser.astype(object).apply()`` instead if you want ``convert_dtype=False``.\n",
      "  col = df[col_name].apply(to_list_if_array, convert_dtype=False)\n",
      "/Users/finn/anaconda3/lib/python3.11/site-packages/altair/utils/core.py:395: FutureWarning: the convert_dtype parameter is deprecated and will be removed in a future version.  Do ``ser.astype(object).apply()`` instead if you want ``convert_dtype=False``.\n",
      "  col = df[col_name].apply(to_list_if_array, convert_dtype=False)\n"
     ]
    },
    {
     "data": {
      "text/html": [
       "\n",
       "<style>\n",
       "  #altair-viz-906b2b18a45e443296dec61b584cf609.vega-embed {\n",
       "    width: 100%;\n",
       "    display: flex;\n",
       "  }\n",
       "\n",
       "  #altair-viz-906b2b18a45e443296dec61b584cf609.vega-embed details,\n",
       "  #altair-viz-906b2b18a45e443296dec61b584cf609.vega-embed details summary {\n",
       "    position: relative;\n",
       "  }\n",
       "</style>\n",
       "<div id=\"altair-viz-906b2b18a45e443296dec61b584cf609\"></div>\n",
       "<script type=\"text/javascript\">\n",
       "  var VEGA_DEBUG = (typeof VEGA_DEBUG == \"undefined\") ? {} : VEGA_DEBUG;\n",
       "  (function(spec, embedOpt){\n",
       "    let outputDiv = document.currentScript.previousElementSibling;\n",
       "    if (outputDiv.id !== \"altair-viz-906b2b18a45e443296dec61b584cf609\") {\n",
       "      outputDiv = document.getElementById(\"altair-viz-906b2b18a45e443296dec61b584cf609\");\n",
       "    }\n",
       "    const paths = {\n",
       "      \"vega\": \"https://cdn.jsdelivr.net/npm/vega@5?noext\",\n",
       "      \"vega-lib\": \"https://cdn.jsdelivr.net/npm/vega-lib?noext\",\n",
       "      \"vega-lite\": \"https://cdn.jsdelivr.net/npm/vega-lite@5.8.0?noext\",\n",
       "      \"vega-embed\": \"https://cdn.jsdelivr.net/npm/vega-embed@6?noext\",\n",
       "    };\n",
       "\n",
       "    function maybeLoadScript(lib, version) {\n",
       "      var key = `${lib.replace(\"-\", \"\")}_version`;\n",
       "      return (VEGA_DEBUG[key] == version) ?\n",
       "        Promise.resolve(paths[lib]) :\n",
       "        new Promise(function(resolve, reject) {\n",
       "          var s = document.createElement('script');\n",
       "          document.getElementsByTagName(\"head\")[0].appendChild(s);\n",
       "          s.async = true;\n",
       "          s.onload = () => {\n",
       "            VEGA_DEBUG[key] = version;\n",
       "            return resolve(paths[lib]);\n",
       "          };\n",
       "          s.onerror = () => reject(`Error loading script: ${paths[lib]}`);\n",
       "          s.src = paths[lib];\n",
       "        });\n",
       "    }\n",
       "\n",
       "    function showError(err) {\n",
       "      outputDiv.innerHTML = `<div class=\"error\" style=\"color:red;\">${err}</div>`;\n",
       "      throw err;\n",
       "    }\n",
       "\n",
       "    function displayChart(vegaEmbed) {\n",
       "      vegaEmbed(outputDiv, spec, embedOpt)\n",
       "        .catch(err => showError(`Javascript Error: ${err.message}<br>This usually means there's a typo in your chart specification. See the javascript console for the full traceback.`));\n",
       "    }\n",
       "\n",
       "    if(typeof define === \"function\" && define.amd) {\n",
       "      requirejs.config({paths});\n",
       "      require([\"vega-embed\"], displayChart, err => showError(`Error loading script: ${err.message}`));\n",
       "    } else {\n",
       "      maybeLoadScript(\"vega\", \"5\")\n",
       "        .then(() => maybeLoadScript(\"vega-lite\", \"5.8.0\"))\n",
       "        .then(() => maybeLoadScript(\"vega-embed\", \"6\"))\n",
       "        .catch(showError)\n",
       "        .then(() => displayChart(vegaEmbed));\n",
       "    }\n",
       "  })({\"config\": {\"font\": \"Circular Std\", \"mark\": {\"line\": {\"interpolate\": \"monotone\"}}, \"view\": {\"stroke\": \"transparent\", \"width\": 400, \"height\": 300}, \"range\": {\"category\": [\"#36B7B4\", \"#E6224B\", \"#F4C245\", \"#0063AF\", \"#00A767\", \"#179FDB\", \"#EB5C2E\"], \"diverging\": [\"#E6224B\", \"#E54753\", \"#C9C9C9\", \"#179FDB\", \"#122B39\"], \"heatmap\": [\"#C9C9C9\", \"#179FDB\", \"#0063AF\", \"#122B39\"], \"ordinal\": [\"#00A767\", \"#36B7B4\", \"#179FDB\", \"#0063AF\", \"#243B5A\"]}, \"axisX\": {\"domainColor\": \"#676A86\", \"domainOpacity\": 0.5, \"grid\": false, \"labelAngle\": 0, \"labelColor\": \"#676A86\", \"labelOpacity\": 0.7, \"orient\": \"bottom\", \"tickColor\": \"#676A86\", \"tickCount\": 10, \"tickOpacity\": 0.5, \"title\": false, \"titleAlign\": \"center\", \"titleAnchor\": \"middle\", \"titleColor\": \"#676A86\", \"titleFontSize\": 12, \"titleOpacity\": 0.8, \"titleY\": -15}, \"axisY\": {\"domainColor\": \"#676A86\", \"domainOpacity\": 0.5, \"gridColor\": \"#676A86\", \"gridDash\": [1, 5], \"gridOpacity\": 0.5, \"labelColor\": \"#676A86\", \"labelOpacity\": 0.7, \"labelPadding\": 5, \"tickColor\": \"#676A86\", \"tickCount\": 8, \"tickOpacity\": 0.5, \"ticks\": false, \"titleAlign\": \"left\", \"titleAngle\": 0, \"titleBaseline\": \"bottom\", \"titleColor\": \"#676A86\", \"titleFontSize\": 12, \"titleOpacity\": 0.8, \"titleX\": 0, \"titleY\": -7}}, \"layer\": [{\"mark\": {\"type\": \"line\"}, \"encoding\": {\"color\": {\"field\": \"series\", \"legend\": null, \"scale\": {\"domain\": [\"other\", \"london\"]}, \"title\": null, \"type\": \"nominal\"}, \"tooltip\": [{\"field\": \"date\", \"type\": \"temporal\"}, {\"field\": \"value\", \"type\": \"quantitative\"}], \"x\": {\"field\": \"date\", \"title\": null, \"type\": \"temporal\"}, \"y\": {\"axis\": {\"labelExpr\": \"format(datum.value, ',.0f') + ' M'\", \"title\": \"Passenger journeys\"}, \"field\": \"value\", \"title\": null, \"type\": \"quantitative\"}}}, {\"mark\": {\"type\": \"text\", \"align\": \"left\", \"dx\": 5, \"dy\": {\"expr\": \"datum.series == 'london' ? 0 : -2\"}}, \"encoding\": {\"color\": {\"field\": \"series\", \"legend\": null, \"scale\": {\"domain\": [\"other\", \"london\"]}, \"title\": null, \"type\": \"nominal\"}, \"text\": {\"field\": \"label1\", \"type\": \"nominal\"}, \"tooltip\": [{\"field\": \"date\", \"type\": \"temporal\"}, {\"field\": \"value\", \"type\": \"quantitative\"}], \"x\": {\"field\": \"date\", \"title\": null, \"type\": \"temporal\"}, \"y\": {\"axis\": {\"labelExpr\": \"format(datum.value, ',.0f') + ' M'\", \"title\": \"Passenger journeys\"}, \"field\": \"value\", \"title\": null, \"type\": \"quantitative\"}}}, {\"mark\": {\"type\": \"text\", \"align\": \"left\", \"dx\": 5, \"dy\": {\"expr\": \"datum.series == 'london' ? 0 : 8\"}}, \"encoding\": {\"color\": {\"field\": \"series\", \"legend\": null, \"scale\": {\"domain\": [\"other\", \"london\"]}, \"title\": null, \"type\": \"nominal\"}, \"text\": {\"field\": \"label2\", \"type\": \"nominal\"}, \"tooltip\": [{\"field\": \"date\", \"type\": \"temporal\"}, {\"field\": \"value\", \"type\": \"quantitative\"}], \"x\": {\"field\": \"date\", \"title\": null, \"type\": \"temporal\"}, \"y\": {\"axis\": {\"labelExpr\": \"format(datum.value, ',.0f') + ' M'\", \"title\": \"Passenger journeys\"}, \"field\": \"value\", \"title\": null, \"type\": \"quantitative\"}}}, {\"data\": {\"name\": \"data-077fe6e6b7e2832182688495359e3094\"}, \"mark\": {\"type\": \"rule\", \"color\": \"#676A86\", \"strokeDash\": [3, 4]}, \"encoding\": {\"x\": {\"field\": \"date\", \"type\": \"temporal\"}}}, {\"data\": {\"name\": \"data-077fe6e6b7e2832182688495359e3094\"}, \"mark\": {\"type\": \"text\", \"align\": \"left\", \"dx\": 5, \"dy\": 5}, \"encoding\": {\"opacity\": {\"value\": 0.8}, \"text\": {\"field\": \"text1\", \"type\": \"nominal\"}, \"x\": {\"field\": \"date\", \"type\": \"temporal\"}, \"y\": {\"value\": 0}}}, {\"data\": {\"name\": \"data-077fe6e6b7e2832182688495359e3094\"}, \"mark\": {\"type\": \"text\", \"align\": \"left\", \"dx\": 5, \"dy\": 18}, \"encoding\": {\"opacity\": {\"value\": 0.8}, \"text\": {\"field\": \"text2\", \"type\": \"nominal\"}, \"x\": {\"field\": \"date\", \"type\": \"temporal\"}, \"y\": {\"value\": 0}}}], \"data\": {\"name\": \"data-ff2522963305355a4652ac88046d8869\"}, \"height\": 300, \"width\": 500, \"$schema\": \"https://vega.github.io/schema/vega-lite/v5.8.0.json\", \"datasets\": {\"data-ff2522963305355a4652ac88046d8869\": [{\"date\": \"1976-01-01T00:00:00\", \"series\": \"other\", \"value\": 2599, \"label1\": \"\", \"label2\": \"\"}, {\"date\": \"1977-01-01T00:00:00\", \"series\": \"other\", \"value\": 2459, \"label1\": \"\", \"label2\": \"\"}, {\"date\": \"1978-01-01T00:00:00\", \"series\": \"other\", \"value\": 2356, \"label1\": \"\", \"label2\": \"\"}, {\"date\": \"1979-01-01T00:00:00\", \"series\": \"other\", \"value\": 2269, \"label1\": \"\", \"label2\": \"\"}, {\"date\": \"1980-01-01T00:00:00\", \"series\": \"other\", \"value\": 2245, \"label1\": \"\", \"label2\": \"\"}, {\"date\": \"1981-01-01T00:00:00\", \"series\": \"other\", \"value\": 2207, \"label1\": \"\", \"label2\": \"\"}, {\"date\": \"1982-01-01T00:00:00\", \"series\": \"other\", \"value\": 2033, \"label1\": \"\", \"label2\": \"\"}, {\"date\": \"1983-01-01T00:00:00\", \"series\": \"other\", \"value\": 1981, \"label1\": \"\", \"label2\": \"\"}, {\"date\": \"1984-01-01T00:00:00\", \"series\": \"other\", \"value\": 2011, \"label1\": \"\", \"label2\": \"\"}, {\"date\": \"1985-01-01T00:00:00\", \"series\": \"other\", \"value\": 2047, \"label1\": \"\", \"label2\": \"\"}, {\"date\": \"1986-01-01T00:00:00\", \"series\": \"other\", \"value\": 2068, \"label1\": \"\", \"label2\": \"\"}, {\"date\": \"1987-01-01T00:00:00\", \"series\": \"other\", \"value\": 1810, \"label1\": \"\", \"label2\": \"\"}, {\"date\": \"1988-01-01T00:00:00\", \"series\": \"other\", \"value\": 1732, \"label1\": \"\", \"label2\": \"\"}, {\"date\": \"1989-01-01T00:00:00\", \"series\": \"other\", \"value\": 1695, \"label1\": \"\", \"label2\": \"\"}, {\"date\": \"1990-01-01T00:00:00\", \"series\": \"other\", \"value\": 1648, \"label1\": \"\", \"label2\": \"\"}, {\"date\": \"1991-01-01T00:00:00\", \"series\": \"other\", \"value\": 1547, \"label1\": \"\", \"label2\": \"\"}, {\"date\": \"1992-01-01T00:00:00\", \"series\": \"other\", \"value\": 1478, \"label1\": \"\", \"label2\": \"\"}, {\"date\": \"1993-01-01T00:00:00\", \"series\": \"other\", \"value\": 1383, \"label1\": \"\", \"label2\": \"\"}, {\"date\": \"1994-01-01T00:00:00\", \"series\": \"other\", \"value\": 1337, \"label1\": \"\", \"label2\": \"\"}, {\"date\": \"1995-01-01T00:00:00\", \"series\": \"other\", \"value\": 1330, \"label1\": \"\", \"label2\": \"\"}, {\"date\": \"1996-01-01T00:00:00\", \"series\": \"other\", \"value\": 1358, \"label1\": \"\", \"label2\": \"\"}, {\"date\": \"1997-01-01T00:00:00\", \"series\": \"other\", \"value\": 1310, \"label1\": \"\", \"label2\": \"\"}, {\"date\": \"1998-01-01T00:00:00\", \"series\": \"other\", \"value\": 1292, \"label1\": \"\", \"label2\": \"\"}, {\"date\": \"1999-01-01T00:00:00\", \"series\": \"other\", \"value\": 1256, \"label1\": \"\", \"label2\": \"\"}, {\"date\": \"2000-01-01T00:00:00\", \"series\": \"other\", \"value\": 1213, \"label1\": \"\", \"label2\": \"\"}, {\"date\": \"2001-01-01T00:00:00\", \"series\": \"other\", \"value\": 1203, \"label1\": \"\", \"label2\": \"\"}, {\"date\": \"2002-01-01T00:00:00\", \"series\": \"other\", \"value\": 1196, \"label1\": \"\", \"label2\": \"\"}, {\"date\": \"2003-01-01T00:00:00\", \"series\": \"other\", \"value\": 1182, \"label1\": \"\", \"label2\": \"\"}, {\"date\": \"2004-01-01T00:00:00\", \"series\": \"other\", \"value\": 1162, \"label1\": \"\", \"label2\": \"\"}, {\"date\": \"2005-01-01T00:00:00\", \"series\": \"other\", \"value\": 1047, \"label1\": \"\", \"label2\": \"\"}, {\"date\": \"2006-01-01T00:00:00\", \"series\": \"other\", \"value\": 1049, \"label1\": \"\", \"label2\": \"\"}, {\"date\": \"2007-01-01T00:00:00\", \"series\": \"other\", \"value\": 1052, \"label1\": \"\", \"label2\": \"\"}, {\"date\": \"2008-01-01T00:00:00\", \"series\": \"other\", \"value\": 1067, \"label1\": \"\", \"label2\": \"\"}, {\"date\": \"2009-01-01T00:00:00\", \"series\": \"other\", \"value\": 1074, \"label1\": \"\", \"label2\": \"\"}, {\"date\": \"2010-01-01T00:00:00\", \"series\": \"other\", \"value\": 1062, \"label1\": \"\", \"label2\": \"\"}, {\"date\": \"2011-01-01T00:00:00\", \"series\": \"other\", \"value\": 1032, \"label1\": \"\", \"label2\": \"\"}, {\"date\": \"2012-01-01T00:00:00\", \"series\": \"other\", \"value\": 1004, \"label1\": \"\", \"label2\": \"\"}, {\"date\": \"2013-01-01T00:00:00\", \"series\": \"other\", \"value\": 977, \"label1\": \"\", \"label2\": \"\"}, {\"date\": \"2014-01-01T00:00:00\", \"series\": \"other\", \"value\": 990, \"label1\": \"\", \"label2\": \"\"}, {\"date\": \"2015-01-01T00:00:00\", \"series\": \"other\", \"value\": 975, \"label1\": \"\", \"label2\": \"\"}, {\"date\": \"2016-01-01T00:00:00\", \"series\": \"other\", \"value\": 948, \"label1\": \"\", \"label2\": \"\"}, {\"date\": \"2017-01-01T00:00:00\", \"series\": \"other\", \"value\": 936, \"label1\": \"\", \"label2\": \"\"}, {\"date\": \"2018-01-01T00:00:00\", \"series\": \"other\", \"value\": 908, \"label1\": \"\", \"label2\": \"\"}, {\"date\": \"2019-01-01T00:00:00\", \"series\": \"other\", \"value\": 904, \"label1\": \"Other major\", \"label2\": \"English cities\"}, {\"date\": \"1976-01-01T00:00:00\", \"series\": \"london\", \"value\": 1453, \"label1\": \"\", \"label2\": \"\"}, {\"date\": \"1977-01-01T00:00:00\", \"series\": \"london\", \"value\": 1421, \"label1\": \"\", \"label2\": \"\"}, {\"date\": \"1978-01-01T00:00:00\", \"series\": \"london\", \"value\": 1372, \"label1\": \"\", \"label2\": \"\"}, {\"date\": \"1979-01-01T00:00:00\", \"series\": \"london\", \"value\": 1300, \"label1\": \"\", \"label2\": \"\"}, {\"date\": \"1980-01-01T00:00:00\", \"series\": \"london\", \"value\": 1232, \"label1\": \"\", \"label2\": \"\"}, {\"date\": \"1981-01-01T00:00:00\", \"series\": \"london\", \"value\": 1181, \"label1\": \"\", \"label2\": \"\"}, {\"date\": \"1982-01-01T00:00:00\", \"series\": \"london\", \"value\": 1079, \"label1\": \"\", \"label2\": \"\"}, {\"date\": \"1983-01-01T00:00:00\", \"series\": \"london\", \"value\": 1041, \"label1\": \"\", \"label2\": \"\"}, {\"date\": \"1984-01-01T00:00:00\", \"series\": \"london\", \"value\": 1087, \"label1\": \"\", \"label2\": \"\"}, {\"date\": \"1985-01-01T00:00:00\", \"series\": \"london\", \"value\": 1162, \"label1\": \"\", \"label2\": \"\"}, {\"date\": \"1986-01-01T00:00:00\", \"series\": \"london\", \"value\": 1152, \"label1\": \"\", \"label2\": \"\"}, {\"date\": \"1987-01-01T00:00:00\", \"series\": \"london\", \"value\": 1164, \"label1\": \"\", \"label2\": \"\"}, {\"date\": \"1988-01-01T00:00:00\", \"series\": \"london\", \"value\": 1207, \"label1\": \"\", \"label2\": \"\"}, {\"date\": \"1989-01-01T00:00:00\", \"series\": \"london\", \"value\": 1211, \"label1\": \"\", \"label2\": \"\"}, {\"date\": \"1990-01-01T00:00:00\", \"series\": \"london\", \"value\": 1188, \"label1\": \"\", \"label2\": \"\"}, {\"date\": \"1991-01-01T00:00:00\", \"series\": \"london\", \"value\": 1178, \"label1\": \"\", \"label2\": \"\"}, {\"date\": \"1992-01-01T00:00:00\", \"series\": \"london\", \"value\": 1149, \"label1\": \"\", \"label2\": \"\"}, {\"date\": \"1993-01-01T00:00:00\", \"series\": \"london\", \"value\": 1129, \"label1\": \"\", \"label2\": \"\"}, {\"date\": \"1994-01-01T00:00:00\", \"series\": \"london\", \"value\": 1117, \"label1\": \"\", \"label2\": \"\"}, {\"date\": \"1995-01-01T00:00:00\", \"series\": \"london\", \"value\": 1155, \"label1\": \"\", \"label2\": \"\"}, {\"date\": \"1996-01-01T00:00:00\", \"series\": \"london\", \"value\": 1193, \"label1\": \"\", \"label2\": \"\"}, {\"date\": \"1997-01-01T00:00:00\", \"series\": \"london\", \"value\": 1230, \"label1\": \"\", \"label2\": \"\"}, {\"date\": \"1998-01-01T00:00:00\", \"series\": \"london\", \"value\": 1281, \"label1\": \"\", \"label2\": \"\"}, {\"date\": \"1999-01-01T00:00:00\", \"series\": \"london\", \"value\": 1266, \"label1\": \"\", \"label2\": \"\"}, {\"date\": \"2000-01-01T00:00:00\", \"series\": \"london\", \"value\": 1294, \"label1\": \"\", \"label2\": \"\"}, {\"date\": \"2001-01-01T00:00:00\", \"series\": \"london\", \"value\": 1347, \"label1\": \"\", \"label2\": \"\"}, {\"date\": \"2002-01-01T00:00:00\", \"series\": \"london\", \"value\": 1422, \"label1\": \"\", \"label2\": \"\"}, {\"date\": \"2003-01-01T00:00:00\", \"series\": \"london\", \"value\": 1527, \"label1\": \"\", \"label2\": \"\"}, {\"date\": \"2004-01-01T00:00:00\", \"series\": \"london\", \"value\": 1692, \"label1\": \"\", \"label2\": \"\"}, {\"date\": \"2005-01-01T00:00:00\", \"series\": \"london\", \"value\": 1802, \"label1\": \"\", \"label2\": \"\"}, {\"date\": \"2006-01-01T00:00:00\", \"series\": \"london\", \"value\": 1881, \"label1\": \"\", \"label2\": \"\"}, {\"date\": \"2007-01-01T00:00:00\", \"series\": \"london\", \"value\": 1993, \"label1\": \"\", \"label2\": \"\"}, {\"date\": \"2008-01-01T00:00:00\", \"series\": \"london\", \"value\": 2160, \"label1\": \"\", \"label2\": \"\"}, {\"date\": \"2009-01-01T00:00:00\", \"series\": \"london\", \"value\": 2228, \"label1\": \"\", \"label2\": \"\"}, {\"date\": \"2010-01-01T00:00:00\", \"series\": \"london\", \"value\": 2238, \"label1\": \"\", \"label2\": \"\"}, {\"date\": \"2011-01-01T00:00:00\", \"series\": \"london\", \"value\": 2269, \"label1\": \"\", \"label2\": \"\"}, {\"date\": \"2012-01-01T00:00:00\", \"series\": \"london\", \"value\": 2324, \"label1\": \"\", \"label2\": \"\"}, {\"date\": \"2013-01-01T00:00:00\", \"series\": \"london\", \"value\": 2315, \"label1\": \"\", \"label2\": \"\"}, {\"date\": \"2014-01-01T00:00:00\", \"series\": \"london\", \"value\": 2384, \"label1\": \"\", \"label2\": \"\"}, {\"date\": \"2015-01-01T00:00:00\", \"series\": \"london\", \"value\": 2364, \"label1\": \"\", \"label2\": \"\"}, {\"date\": \"2016-01-01T00:00:00\", \"series\": \"london\", \"value\": 2293, \"label1\": \"\", \"label2\": \"\"}, {\"date\": \"2017-01-01T00:00:00\", \"series\": \"london\", \"value\": 2240, \"label1\": \"\", \"label2\": \"\"}, {\"date\": \"2018-01-01T00:00:00\", \"series\": \"london\", \"value\": 2225, \"label1\": \"\", \"label2\": \"\"}, {\"date\": \"2019-01-01T00:00:00\", \"series\": \"london\", \"value\": 2198, \"label1\": \"London\", \"label2\": \"\"}], \"data-077fe6e6b7e2832182688495359e3094\": [{\"date\": \"1986-10-26\", \"text1\": \"Buses deregulated\", \"text2\": \"outside of London\"}, {\"date\": \"2000-05-04\", \"text1\": \"First Mayor of\", \"text2\": \"London elected\"}]}}, {\"mode\": \"vega-lite\"});\n",
       "</script>"
      ],
      "text/plain": [
       "alt.LayerChart(...)"
      ]
     },
     "execution_count": 64,
     "metadata": {},
     "output_type": "execute_result"
    }
   ],
   "source": [
    "df = pd.read_excel(\"Historic bus use.xlsx\")\n",
    "df = df.iloc[:-1, :3]\n",
    "df.columns = [\"date\", \"other\", \"london\"]\n",
    "df = df.melt(id_vars=\"date\", var_name=\"series\", value_name=\"value\")\n",
    "\n",
    "df['label1'] = df.apply(lambda x: 'London' if x['series'] == 'london' and x['date'] == 2019 else 'Other major' if x['series'] == 'other' and x['date'] == 2019 else '', axis=1)\n",
    "df['label2'] = df.apply(lambda x: 'English cities' if x['series'] == 'other' and x['date'] == 2019 else '', axis=1)\n",
    "\n",
    "df['date'] = pd.to_datetime(df['date'], format=\"%Y\")\n",
    "\n",
    "\n",
    "\n",
    "base = alt.Chart(df).encode(\n",
    "    x=alt.X(\"date:T\", title=None),\n",
    "    y=alt.Y(\"value:Q\", title=None, axis=alt.Axis(\n",
    "        labelExpr=\"format(datum.value, ',.0f') + ' M'\",\n",
    "        title=\"Passenger journeys\")),\n",
    "    color=alt.Color(\"series:N\", title=None, scale=alt.Scale(domain=[\"other\", \"london\"]), legend=None,\n",
    "                    ), #range=[\"#0072B2\", \"#D55E00\"]\n",
    "    tooltip=[\"date\", \"value\"]\n",
    ")\n",
    "\n",
    "lines = base.mark_line()\n",
    "\n",
    "labels_1 = base.mark_text(align='left', dx=5, dy=alt.expr(\"datum.series == 'london' ? 0 : -2\")).encode(\n",
    "    text='label1:N'\n",
    ")\n",
    "\n",
    "labels_2 = base.mark_text(align='left', dx=5, dy=alt.expr(\"datum.series == 'london' ? 0 : 8\")).encode(\n",
    "    text='label2:N'\n",
    ")\n",
    "\n",
    "rule_data = [\n",
    "    {\n",
    "        \"date\": \"1986-10-26\",\n",
    "        \"text1\": \"Buses deregulated\",\n",
    "        \"text2\": \"outside of London\"\n",
    "    },\n",
    "    {\n",
    "        \"date\": \"2000-05-04\",\n",
    "        \"text1\": \"First Mayor of\",\n",
    "        \"text2\": \"London elected\"\n",
    "    }\n",
    "]\n",
    "\n",
    "rules = alt.Chart(pd.DataFrame(rule_data)).mark_rule(color=\"#676A86\", strokeDash=[3,4]).encode(\n",
    "    x='date:T'\n",
    ")\n",
    "\n",
    "event_text_1 = alt.Chart(pd.DataFrame(rule_data)).mark_text(align='left', dx=5, dy=5).encode(\n",
    "    x='date:T',\n",
    "    y=alt.value(0),\n",
    "    opacity=alt.value(0.8),\n",
    "    text='text1:N'\n",
    ")\n",
    "\n",
    "event_text_2 = alt.Chart(pd.DataFrame(rule_data)).mark_text(align='left', dx=5, dy=18).encode(\n",
    "    x='date:T',\n",
    "    y=alt.value(0),\n",
    "    opacity=alt.value(0.8),\n",
    "    text='text2:N'\n",
    ")\n",
    "\n",
    "chart = lines + labels_1 + labels_2 + rules + event_text_1 + event_text_2\n",
    "\n",
    "chart = chart.properties(\n",
    "    width=500,\n",
    "    height=300\n",
    ")\n",
    "\n",
    "chart.save(\"historic_bus_use.json\")\n",
    "chart.save(\"historic_bus_use.png\", scale_factor=2.0)\n",
    "\n",
    "chart"
   ]
  },
  {
   "cell_type": "code",
   "execution_count": 23,
   "metadata": {},
   "outputs": [
    {
     "name": "stderr",
     "output_type": "stream",
     "text": [
      "/Users/finn/anaconda3/lib/python3.11/site-packages/altair/utils/core.py:395: FutureWarning: the convert_dtype parameter is deprecated and will be removed in a future version.  Do ``ser.astype(object).apply()`` instead if you want ``convert_dtype=False``.\n",
      "  col = df[col_name].apply(to_list_if_array, convert_dtype=False)\n",
      "/Users/finn/anaconda3/lib/python3.11/site-packages/altair/utils/core.py:395: FutureWarning: the convert_dtype parameter is deprecated and will be removed in a future version.  Do ``ser.astype(object).apply()`` instead if you want ``convert_dtype=False``.\n",
      "  col = df[col_name].apply(to_list_if_array, convert_dtype=False)\n"
     ]
    },
    {
     "data": {
      "text/html": [
       "\n",
       "<style>\n",
       "  #altair-viz-c5b110d12b8c4f278c2d8c87aa436a30.vega-embed {\n",
       "    width: 100%;\n",
       "    display: flex;\n",
       "  }\n",
       "\n",
       "  #altair-viz-c5b110d12b8c4f278c2d8c87aa436a30.vega-embed details,\n",
       "  #altair-viz-c5b110d12b8c4f278c2d8c87aa436a30.vega-embed details summary {\n",
       "    position: relative;\n",
       "  }\n",
       "</style>\n",
       "<div id=\"altair-viz-c5b110d12b8c4f278c2d8c87aa436a30\"></div>\n",
       "<script type=\"text/javascript\">\n",
       "  var VEGA_DEBUG = (typeof VEGA_DEBUG == \"undefined\") ? {} : VEGA_DEBUG;\n",
       "  (function(spec, embedOpt){\n",
       "    let outputDiv = document.currentScript.previousElementSibling;\n",
       "    if (outputDiv.id !== \"altair-viz-c5b110d12b8c4f278c2d8c87aa436a30\") {\n",
       "      outputDiv = document.getElementById(\"altair-viz-c5b110d12b8c4f278c2d8c87aa436a30\");\n",
       "    }\n",
       "    const paths = {\n",
       "      \"vega\": \"https://cdn.jsdelivr.net/npm/vega@5?noext\",\n",
       "      \"vega-lib\": \"https://cdn.jsdelivr.net/npm/vega-lib?noext\",\n",
       "      \"vega-lite\": \"https://cdn.jsdelivr.net/npm/vega-lite@5.8.0?noext\",\n",
       "      \"vega-embed\": \"https://cdn.jsdelivr.net/npm/vega-embed@6?noext\",\n",
       "    };\n",
       "\n",
       "    function maybeLoadScript(lib, version) {\n",
       "      var key = `${lib.replace(\"-\", \"\")}_version`;\n",
       "      return (VEGA_DEBUG[key] == version) ?\n",
       "        Promise.resolve(paths[lib]) :\n",
       "        new Promise(function(resolve, reject) {\n",
       "          var s = document.createElement('script');\n",
       "          document.getElementsByTagName(\"head\")[0].appendChild(s);\n",
       "          s.async = true;\n",
       "          s.onload = () => {\n",
       "            VEGA_DEBUG[key] = version;\n",
       "            return resolve(paths[lib]);\n",
       "          };\n",
       "          s.onerror = () => reject(`Error loading script: ${paths[lib]}`);\n",
       "          s.src = paths[lib];\n",
       "        });\n",
       "    }\n",
       "\n",
       "    function showError(err) {\n",
       "      outputDiv.innerHTML = `<div class=\"error\" style=\"color:red;\">${err}</div>`;\n",
       "      throw err;\n",
       "    }\n",
       "\n",
       "    function displayChart(vegaEmbed) {\n",
       "      vegaEmbed(outputDiv, spec, embedOpt)\n",
       "        .catch(err => showError(`Javascript Error: ${err.message}<br>This usually means there's a typo in your chart specification. See the javascript console for the full traceback.`));\n",
       "    }\n",
       "\n",
       "    if(typeof define === \"function\" && define.amd) {\n",
       "      requirejs.config({paths});\n",
       "      require([\"vega-embed\"], displayChart, err => showError(`Error loading script: ${err.message}`));\n",
       "    } else {\n",
       "      maybeLoadScript(\"vega\", \"5\")\n",
       "        .then(() => maybeLoadScript(\"vega-lite\", \"5.8.0\"))\n",
       "        .then(() => maybeLoadScript(\"vega-embed\", \"6\"))\n",
       "        .catch(showError)\n",
       "        .then(() => displayChart(vegaEmbed));\n",
       "    }\n",
       "  })({\"config\": {\"font\": \"Circular Std\", \"mark\": {\"line\": {\"interpolate\": \"monotone\"}}, \"view\": {\"stroke\": \"transparent\", \"width\": 400, \"height\": 300}, \"range\": {\"category\": [\"#36B7B4\", \"#E6224B\", \"#F4C245\", \"#0063AF\", \"#00A767\", \"#179FDB\", \"#EB5C2E\"], \"diverging\": [\"#E6224B\", \"#E54753\", \"#C9C9C9\", \"#179FDB\", \"#122B39\"], \"heatmap\": [\"#C9C9C9\", \"#179FDB\", \"#0063AF\", \"#122B39\"], \"ordinal\": [\"#00A767\", \"#36B7B4\", \"#179FDB\", \"#0063AF\", \"#243B5A\"]}, \"axisX\": {\"domainColor\": \"#676A86\", \"domainOpacity\": 0.5, \"grid\": false, \"labelAngle\": 0, \"labelColor\": \"#676A86\", \"labelOpacity\": 0.7, \"orient\": \"bottom\", \"tickColor\": \"#676A86\", \"tickCount\": 10, \"tickOpacity\": 0.5, \"title\": false, \"titleAlign\": \"center\", \"titleAnchor\": \"middle\", \"titleColor\": \"#676A86\", \"titleFontSize\": 12, \"titleOpacity\": 0.8, \"titleY\": -15}, \"axisY\": {\"domainColor\": \"#676A86\", \"domainOpacity\": 0.5, \"gridColor\": \"#676A86\", \"gridDash\": [1, 5], \"gridOpacity\": 0.5, \"labelColor\": \"#676A86\", \"labelOpacity\": 0.7, \"labelPadding\": 5, \"tickColor\": \"#676A86\", \"tickCount\": 8, \"tickOpacity\": 0.5, \"ticks\": false, \"titleAlign\": \"left\", \"titleAngle\": 0, \"titleBaseline\": \"bottom\", \"titleColor\": \"#676A86\", \"titleFontSize\": 12, \"titleOpacity\": 0.8, \"titleX\": 0, \"titleY\": -7}}, \"data\": {\"name\": \"data-b84b3945c9fb63284bd552354c2b6b21\"}, \"mark\": {\"type\": \"text\", \"align\": \"left\", \"dx\": 5, \"dy\": {\"expr\": \"datum.series == 'london' ? 0 : -5\"}}, \"encoding\": {\"color\": {\"field\": \"series\", \"legend\": null, \"scale\": {\"range\": [\"#0072B2\", \"#D55E00\"], \"reverse\": true}, \"title\": null, \"type\": \"nominal\"}, \"text\": {\"field\": \"label1\", \"type\": \"nominal\"}, \"tooltip\": [{\"field\": \"date\", \"type\": \"temporal\"}, {\"field\": \"value\", \"type\": \"quantitative\"}], \"x\": {\"field\": \"date\", \"title\": null, \"type\": \"temporal\"}, \"y\": {\"field\": \"value\", \"title\": null, \"type\": \"quantitative\"}}, \"$schema\": \"https://vega.github.io/schema/vega-lite/v5.8.0.json\", \"datasets\": {\"data-b84b3945c9fb63284bd552354c2b6b21\": [{\"date\": \"1976-01-01T00:00:00\", \"series\": \"other\", \"value\": 2599, \"label1\": \"\", \"label2\": \"\"}, {\"date\": \"1977-01-01T00:00:00\", \"series\": \"other\", \"value\": 2459, \"label1\": \"\", \"label2\": \"\"}, {\"date\": \"1978-01-01T00:00:00\", \"series\": \"other\", \"value\": 2356, \"label1\": \"\", \"label2\": \"\"}, {\"date\": \"1979-01-01T00:00:00\", \"series\": \"other\", \"value\": 2269, \"label1\": \"\", \"label2\": \"\"}, {\"date\": \"1980-01-01T00:00:00\", \"series\": \"other\", \"value\": 2245, \"label1\": \"\", \"label2\": \"\"}, {\"date\": \"1981-01-01T00:00:00\", \"series\": \"other\", \"value\": 2207, \"label1\": \"\", \"label2\": \"\"}, {\"date\": \"1982-01-01T00:00:00\", \"series\": \"other\", \"value\": 2033, \"label1\": \"\", \"label2\": \"\"}, {\"date\": \"1983-01-01T00:00:00\", \"series\": \"other\", \"value\": 1981, \"label1\": \"\", \"label2\": \"\"}, {\"date\": \"1984-01-01T00:00:00\", \"series\": \"other\", \"value\": 2011, \"label1\": \"\", \"label2\": \"\"}, {\"date\": \"1985-01-01T00:00:00\", \"series\": \"other\", \"value\": 2047, \"label1\": \"\", \"label2\": \"\"}, {\"date\": \"1986-01-01T00:00:00\", \"series\": \"other\", \"value\": 2068, \"label1\": \"\", \"label2\": \"\"}, {\"date\": \"1987-01-01T00:00:00\", \"series\": \"other\", \"value\": 1810, \"label1\": \"\", \"label2\": \"\"}, {\"date\": \"1988-01-01T00:00:00\", \"series\": \"other\", \"value\": 1732, \"label1\": \"\", \"label2\": \"\"}, {\"date\": \"1989-01-01T00:00:00\", \"series\": \"other\", \"value\": 1695, \"label1\": \"\", \"label2\": \"\"}, {\"date\": \"1990-01-01T00:00:00\", \"series\": \"other\", \"value\": 1648, \"label1\": \"\", \"label2\": \"\"}, {\"date\": \"1991-01-01T00:00:00\", \"series\": \"other\", \"value\": 1547, \"label1\": \"\", \"label2\": \"\"}, {\"date\": \"1992-01-01T00:00:00\", \"series\": \"other\", \"value\": 1478, \"label1\": \"\", \"label2\": \"\"}, {\"date\": \"1993-01-01T00:00:00\", \"series\": \"other\", \"value\": 1383, \"label1\": \"\", \"label2\": \"\"}, {\"date\": \"1994-01-01T00:00:00\", \"series\": \"other\", \"value\": 1337, \"label1\": \"\", \"label2\": \"\"}, {\"date\": \"1995-01-01T00:00:00\", \"series\": \"other\", \"value\": 1330, \"label1\": \"\", \"label2\": \"\"}, {\"date\": \"1996-01-01T00:00:00\", \"series\": \"other\", \"value\": 1358, \"label1\": \"\", \"label2\": \"\"}, {\"date\": \"1997-01-01T00:00:00\", \"series\": \"other\", \"value\": 1310, \"label1\": \"\", \"label2\": \"\"}, {\"date\": \"1998-01-01T00:00:00\", \"series\": \"other\", \"value\": 1292, \"label1\": \"\", \"label2\": \"\"}, {\"date\": \"1999-01-01T00:00:00\", \"series\": \"other\", \"value\": 1256, \"label1\": \"\", \"label2\": \"\"}, {\"date\": \"2000-01-01T00:00:00\", \"series\": \"other\", \"value\": 1213, \"label1\": \"\", \"label2\": \"\"}, {\"date\": \"2001-01-01T00:00:00\", \"series\": \"other\", \"value\": 1203, \"label1\": \"\", \"label2\": \"\"}, {\"date\": \"2002-01-01T00:00:00\", \"series\": \"other\", \"value\": 1196, \"label1\": \"\", \"label2\": \"\"}, {\"date\": \"2003-01-01T00:00:00\", \"series\": \"other\", \"value\": 1182, \"label1\": \"\", \"label2\": \"\"}, {\"date\": \"2004-01-01T00:00:00\", \"series\": \"other\", \"value\": 1162, \"label1\": \"\", \"label2\": \"\"}, {\"date\": \"2005-01-01T00:00:00\", \"series\": \"other\", \"value\": 1047, \"label1\": \"\", \"label2\": \"\"}, {\"date\": \"2006-01-01T00:00:00\", \"series\": \"other\", \"value\": 1049, \"label1\": \"\", \"label2\": \"\"}, {\"date\": \"2007-01-01T00:00:00\", \"series\": \"other\", \"value\": 1052, \"label1\": \"\", \"label2\": \"\"}, {\"date\": \"2008-01-01T00:00:00\", \"series\": \"other\", \"value\": 1067, \"label1\": \"\", \"label2\": \"\"}, {\"date\": \"2009-01-01T00:00:00\", \"series\": \"other\", \"value\": 1074, \"label1\": \"\", \"label2\": \"\"}, {\"date\": \"2010-01-01T00:00:00\", \"series\": \"other\", \"value\": 1062, \"label1\": \"\", \"label2\": \"\"}, {\"date\": \"2011-01-01T00:00:00\", \"series\": \"other\", \"value\": 1032, \"label1\": \"\", \"label2\": \"\"}, {\"date\": \"2012-01-01T00:00:00\", \"series\": \"other\", \"value\": 1004, \"label1\": \"\", \"label2\": \"\"}, {\"date\": \"2013-01-01T00:00:00\", \"series\": \"other\", \"value\": 977, \"label1\": \"\", \"label2\": \"\"}, {\"date\": \"2014-01-01T00:00:00\", \"series\": \"other\", \"value\": 990, \"label1\": \"\", \"label2\": \"\"}, {\"date\": \"2015-01-01T00:00:00\", \"series\": \"other\", \"value\": 975, \"label1\": \"\", \"label2\": \"\"}, {\"date\": \"2016-01-01T00:00:00\", \"series\": \"other\", \"value\": 948, \"label1\": \"\", \"label2\": \"\"}, {\"date\": \"2017-01-01T00:00:00\", \"series\": \"other\", \"value\": 936, \"label1\": \"\", \"label2\": \"\"}, {\"date\": \"2018-01-01T00:00:00\", \"series\": \"other\", \"value\": 908, \"label1\": \"\", \"label2\": \"\"}, {\"date\": \"2019-01-01T00:00:00\", \"series\": \"other\", \"value\": 904, \"label1\": \"\", \"label2\": \"\"}, {\"date\": \"1976-01-01T00:00:00\", \"series\": \"london\", \"value\": 1453, \"label1\": \"\", \"label2\": \"\"}, {\"date\": \"1977-01-01T00:00:00\", \"series\": \"london\", \"value\": 1421, \"label1\": \"\", \"label2\": \"\"}, {\"date\": \"1978-01-01T00:00:00\", \"series\": \"london\", \"value\": 1372, \"label1\": \"\", \"label2\": \"\"}, {\"date\": \"1979-01-01T00:00:00\", \"series\": \"london\", \"value\": 1300, \"label1\": \"\", \"label2\": \"\"}, {\"date\": \"1980-01-01T00:00:00\", \"series\": \"london\", \"value\": 1232, \"label1\": \"\", \"label2\": \"\"}, {\"date\": \"1981-01-01T00:00:00\", \"series\": \"london\", \"value\": 1181, \"label1\": \"\", \"label2\": \"\"}, {\"date\": \"1982-01-01T00:00:00\", \"series\": \"london\", \"value\": 1079, \"label1\": \"\", \"label2\": \"\"}, {\"date\": \"1983-01-01T00:00:00\", \"series\": \"london\", \"value\": 1041, \"label1\": \"\", \"label2\": \"\"}, {\"date\": \"1984-01-01T00:00:00\", \"series\": \"london\", \"value\": 1087, \"label1\": \"\", \"label2\": \"\"}, {\"date\": \"1985-01-01T00:00:00\", \"series\": \"london\", \"value\": 1162, \"label1\": \"\", \"label2\": \"\"}, {\"date\": \"1986-01-01T00:00:00\", \"series\": \"london\", \"value\": 1152, \"label1\": \"\", \"label2\": \"\"}, {\"date\": \"1987-01-01T00:00:00\", \"series\": \"london\", \"value\": 1164, \"label1\": \"\", \"label2\": \"\"}, {\"date\": \"1988-01-01T00:00:00\", \"series\": \"london\", \"value\": 1207, \"label1\": \"\", \"label2\": \"\"}, {\"date\": \"1989-01-01T00:00:00\", \"series\": \"london\", \"value\": 1211, \"label1\": \"\", \"label2\": \"\"}, {\"date\": \"1990-01-01T00:00:00\", \"series\": \"london\", \"value\": 1188, \"label1\": \"\", \"label2\": \"\"}, {\"date\": \"1991-01-01T00:00:00\", \"series\": \"london\", \"value\": 1178, \"label1\": \"\", \"label2\": \"\"}, {\"date\": \"1992-01-01T00:00:00\", \"series\": \"london\", \"value\": 1149, \"label1\": \"\", \"label2\": \"\"}, {\"date\": \"1993-01-01T00:00:00\", \"series\": \"london\", \"value\": 1129, \"label1\": \"\", \"label2\": \"\"}, {\"date\": \"1994-01-01T00:00:00\", \"series\": \"london\", \"value\": 1117, \"label1\": \"\", \"label2\": \"\"}, {\"date\": \"1995-01-01T00:00:00\", \"series\": \"london\", \"value\": 1155, \"label1\": \"\", \"label2\": \"\"}, {\"date\": \"1996-01-01T00:00:00\", \"series\": \"london\", \"value\": 1193, \"label1\": \"\", \"label2\": \"\"}, {\"date\": \"1997-01-01T00:00:00\", \"series\": \"london\", \"value\": 1230, \"label1\": \"\", \"label2\": \"\"}, {\"date\": \"1998-01-01T00:00:00\", \"series\": \"london\", \"value\": 1281, \"label1\": \"\", \"label2\": \"\"}, {\"date\": \"1999-01-01T00:00:00\", \"series\": \"london\", \"value\": 1266, \"label1\": \"\", \"label2\": \"\"}, {\"date\": \"2000-01-01T00:00:00\", \"series\": \"london\", \"value\": 1294, \"label1\": \"\", \"label2\": \"\"}, {\"date\": \"2001-01-01T00:00:00\", \"series\": \"london\", \"value\": 1347, \"label1\": \"\", \"label2\": \"\"}, {\"date\": \"2002-01-01T00:00:00\", \"series\": \"london\", \"value\": 1422, \"label1\": \"\", \"label2\": \"\"}, {\"date\": \"2003-01-01T00:00:00\", \"series\": \"london\", \"value\": 1527, \"label1\": \"\", \"label2\": \"\"}, {\"date\": \"2004-01-01T00:00:00\", \"series\": \"london\", \"value\": 1692, \"label1\": \"\", \"label2\": \"\"}, {\"date\": \"2005-01-01T00:00:00\", \"series\": \"london\", \"value\": 1802, \"label1\": \"\", \"label2\": \"\"}, {\"date\": \"2006-01-01T00:00:00\", \"series\": \"london\", \"value\": 1881, \"label1\": \"\", \"label2\": \"\"}, {\"date\": \"2007-01-01T00:00:00\", \"series\": \"london\", \"value\": 1993, \"label1\": \"\", \"label2\": \"\"}, {\"date\": \"2008-01-01T00:00:00\", \"series\": \"london\", \"value\": 2160, \"label1\": \"\", \"label2\": \"\"}, {\"date\": \"2009-01-01T00:00:00\", \"series\": \"london\", \"value\": 2228, \"label1\": \"\", \"label2\": \"\"}, {\"date\": \"2010-01-01T00:00:00\", \"series\": \"london\", \"value\": 2238, \"label1\": \"\", \"label2\": \"\"}, {\"date\": \"2011-01-01T00:00:00\", \"series\": \"london\", \"value\": 2269, \"label1\": \"\", \"label2\": \"\"}, {\"date\": \"2012-01-01T00:00:00\", \"series\": \"london\", \"value\": 2324, \"label1\": \"\", \"label2\": \"\"}, {\"date\": \"2013-01-01T00:00:00\", \"series\": \"london\", \"value\": 2315, \"label1\": \"\", \"label2\": \"\"}, {\"date\": \"2014-01-01T00:00:00\", \"series\": \"london\", \"value\": 2384, \"label1\": \"\", \"label2\": \"\"}, {\"date\": \"2015-01-01T00:00:00\", \"series\": \"london\", \"value\": 2364, \"label1\": \"\", \"label2\": \"\"}, {\"date\": \"2016-01-01T00:00:00\", \"series\": \"london\", \"value\": 2293, \"label1\": \"\", \"label2\": \"\"}, {\"date\": \"2017-01-01T00:00:00\", \"series\": \"london\", \"value\": 2240, \"label1\": \"\", \"label2\": \"\"}, {\"date\": \"2018-01-01T00:00:00\", \"series\": \"london\", \"value\": 2225, \"label1\": \"\", \"label2\": \"\"}, {\"date\": \"2019-01-01T00:00:00\", \"series\": \"london\", \"value\": 2198, \"label1\": \"\", \"label2\": \"\"}]}}, {\"mode\": \"vega-lite\"});\n",
       "</script>"
      ],
      "text/plain": [
       "alt.Chart(...)"
      ]
     },
     "execution_count": 23,
     "metadata": {},
     "output_type": "execute_result"
    }
   ],
   "source": [
    "labels_1"
   ]
  },
  {
   "cell_type": "code",
   "execution_count": 27,
   "metadata": {},
   "outputs": [
    {
     "data": {
      "text/plain": [
       "label1\n",
       "    88\n",
       "Name: count, dtype: int64"
      ]
     },
     "execution_count": 27,
     "metadata": {},
     "output_type": "execute_result"
    }
   ],
   "source": [
    "df.label1.value_counts()"
   ]
  }
 ],
 "metadata": {
  "kernelspec": {
   "display_name": "base",
   "language": "python",
   "name": "python3"
  },
  "language_info": {
   "codemirror_mode": {
    "name": "ipython",
    "version": 3
   },
   "file_extension": ".py",
   "mimetype": "text/x-python",
   "name": "python",
   "nbconvert_exporter": "python",
   "pygments_lexer": "ipython3",
   "version": "3.1.undefined"
  }
 },
 "nbformat": 4,
 "nbformat_minor": 2
}

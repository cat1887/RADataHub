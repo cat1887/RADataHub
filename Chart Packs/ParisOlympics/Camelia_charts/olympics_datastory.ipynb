{
 "cells": [
  {
   "cell_type": "code",
   "execution_count": 2,
   "metadata": {},
   "outputs": [],
   "source": [
    "#pip install pycountry\n",
    "#%pip install altair_saver\n",
    "#pip install -U altair_viewer\n",
    "#%pip install vl-convert-python\n",
    "#%pip install vl-convert-python\n",
    "#%pip install --force-reinstall vl-convert-python\n",
    "#%pip install -U kaleido"
   ]
  },
  {
   "cell_type": "code",
   "execution_count": 3,
   "metadata": {},
   "outputs": [],
   "source": [
    "import pandas as pd\n",
    "import numpy as np\n",
    "import altair as alt \n",
    "import pycountry\n",
    "import altair_saver\n",
    "import altair_viewer\n",
    "#import vl_convert as vlc\n",
    "import plotly.graph_objects as go\n",
    "import kaleido \n",
    "\n"
   ]
  },
  {
   "cell_type": "code",
   "execution_count": 4,
   "metadata": {},
   "outputs": [
    {
     "data": {
      "text/plain": [
       "<function __main__.dark()>"
      ]
     },
     "execution_count": 4,
     "metadata": {},
     "output_type": "execute_result"
    }
   ],
   "source": [
    "pallete = {\n",
    "    \"shadow\": \"rgba(24, 42, 56, 0.1)\",\n",
    "    \"nominal_1\": \"#179fdb\",\n",
    "    \"nominal_2\": \"#e6224b\",\n",
    "    \"nominal_3\": \"#f4c245\",\n",
    "    \"nominal_4\": \"#122b39\",\n",
    "    \"nominal_5\": \"#eb5c2e\",\n",
    "    \"nominal_6\": \"#36b7b4\",\n",
    "    \"Other_3\":\"#d6d4d4\",\n",
    "    #\"Deemphasize_Discrete\": \"rgb(173, 195, 215)\", \n",
    "    \"Deemphasize_Discrete\": \"rgba(24, 42, 56)\",\n",
    "    \"Deemphasize_Other\": \"rgba(93, 115, 102, 1)\",\n",
    "    \"Deemphasize_Continuous\": \"rgba(24, 42, 56, 0.2)\",\n",
    "    \"accent\": \"#179fdb\",\n",
    "    \"domain\": \"#122b39\",\n",
    "    \"bar\": {\n",
    "        \"accent_1\": \"#122b39\",\n",
    "        \"other\" : \"rgb(168, 192, 222)\",\n",
    "        \"accent_2\" : \"#eb5c2e\"\n",
    "    }\n",
    "}\n",
    "\n",
    "pallete[\"GBR\"] = pallete[\"nominal_1\"]\n",
    "pallete[\"USA\"] = pallete[\"nominal_2\"]\n",
    "pallete[\"DEU\"] = pallete[\"nominal_3\"]\n",
    "pallete[\"FRA\"] = pallete[\"nominal_4\"]\n",
    "pallete[\"Other_1\"] = pallete[\"nominal_5\"]\n",
    "pallete[\"Other_2\"] = pallete[\"nominal_6\"]\n",
    "\n",
    "pallete[\"UK\"] = pallete[\"GBR\"]\n",
    "pallete[\"United Kingdom\"] = pallete[\"GBR\"]\n",
    "pallete[\"United States\"] = pallete[\"USA\"]\n",
    "pallete[\"Germany\"] = pallete[\"DEU\"]\n",
    "pallete[\"France\"] = pallete[\"FRA\"]\n",
    "\n",
    "def report():\n",
    "  return {\"config\": {\n",
    "    \"font\": \"Circular Std\",\n",
    "    \"mark\" : {\n",
    "      \"line\": {\n",
    "        \"interpolate\": \"linear\",\n",
    "      }\n",
    "    },\n",
    "    \"view\" : {\n",
    "      \"stroke\": \"transparent\",\n",
    "      \"width\": 400,\n",
    "      \"height\": 300\n",
    "    },\n",
    "    \"range\": {\n",
    "      \"category\" : [\n",
    "        pallete[\"nominal_1\"],\n",
    "        pallete[\"nominal_2\"],\n",
    "        pallete[\"nominal_3\"],\n",
    "        pallete[\"nominal_4\"],\n",
    "        pallete[\"nominal_5\"],\n",
    "        pallete[\"nominal_6\"],\n",
    "      ],\n",
    "      \"diverging\" : [\"#E6224B\",\"#E54753\",\"#C9C9C9\",\"#179FDB\",\"#122B39\"],\n",
    "      \"heatmap\" : [\"#C9C9C9\",\"#179FDB\",\"#0063AF\",\"#122B39\"],\n",
    "      \"ordinal\" : [\"#00A767\",\"#36B7B4\",\"#179FDB\",\"#0063AF\",\"#243B5A\"]\n",
    "    },\n",
    "    \"axisX\": {\n",
    "      \"labelColor\": pallete[\"domain\"],\n",
    "      \"tickColor\": pallete[\"domain\"],\n",
    "      \"domainColor\": pallete[\"domain\"],\n",
    "      \"domainOpacity\": 0.5,\n",
    "      \"gridOpacity\": 0,\n",
    "      \"labelFont\": \"Circular Std\",\n",
    "      \"labelAngle\": 0,\n",
    "      \"labelAlign\": \"center\",\n",
    "      \"labelFontSize\": 11,\n",
    "      \"labelPadding\": 5,\n",
    "      \"tickCount\": 10,\n",
    "      \"tickSize\": 0,\n",
    "      \"title\": \"\"\n",
    "    },\n",
    "    \"axisY\": {\n",
    "      \"labelColor\": pallete[\"domain\"],\n",
    "      \"labelFont\": \"Circular Std\",\n",
    "      \"tickColor\": pallete[\"domain\"],\n",
    "      \"domainColor\": pallete[\"domain\"],\n",
    "      \"gridColor\": pallete[\"domain\"],\n",
    "      \"gridDash\": [\n",
    "        1,\n",
    "        5\n",
    "      ],\n",
    "      \"gridOpacity\": 0.5,\n",
    "      \"labelPadding\": 5,\n",
    "      \"labelFontSize\": 11,\n",
    "      \"domainOpacity\": 0.5,\n",
    "      \"tickSize\": 0,\n",
    "      \"title\": None,\n",
    "      \"titleAlign\": \"left\",\n",
    "      \"titleAngle\": 0,\n",
    "      \"titleBaseline\": \"bottom\",\n",
    "      \"titleColor\": pallete[\"domain\"],\n",
    "      \"titleOpacity\": 0.9,\n",
    "      \"titleX\": 0,\n",
    "      \"titleY\": -7\n",
    "    }\n",
    "  }}\n",
    "\n",
    "alt.themes.register('report', report)        \n",
    "\n",
    "def light():\n",
    "  return {\"config\": {\n",
    "    \"font\": \"Circular Std\",\n",
    "    \"mark\" : {\n",
    "      \"line\": {\n",
    "        \"interpolate\": \"monotone\",\n",
    "      }\n",
    "    },\n",
    "    \"view\" : {\n",
    "      \"stroke\": \"transparent\",\n",
    "      \"width\": 400,\n",
    "      \"height\": 300\n",
    "    },\n",
    "    \"range\": {\n",
    "      \"category\" : [\"#36B7B4\",\"#E6224B\",\"#F4C245\",\"#0063AF\",\"#00A767\",\"#179FDB\",\"#EB5C2E\"],\n",
    "      \"diverging\" : [\"#E6224B\",\"#E54753\",\"#C9C9C9\",\"#179FDB\",\"#122B39\"],\n",
    "      \"heatmap\" : [\"#C9C9C9\",\"#179FDB\",\"#0063AF\",\"#122B39\"],\n",
    "      \"ordinal\" : [\"#00A767\",\"#36B7B4\",\"#179FDB\",\"#0063AF\",\"#243B5A\"]\n",
    "    },\n",
    "    \"axisX\": {\n",
    "      \"domainColor\": \"#676A86\",\n",
    "      \"domainOpacity\": 0.5,\n",
    "      \"grid\": False,\n",
    "      \"labelAngle\": 0,\n",
    "      \"labelColor\": \"#676A86\",\n",
    "      \"labelOpacity\": 0.7,\n",
    "      \"orient\": \"bottom\",\n",
    "      \"tickColor\": \"#676A86\",\n",
    "      \"tickCount\": 10,\n",
    "      \"tickOpacity\": 0.5,\n",
    "      \"title\" : False,\n",
    "      \"titleAlign\": \"center\",\n",
    "      \"titleAnchor\": \"middle\",\n",
    "      \"titleColor\": \"#676A86\",\n",
    "      \"titleFontSize\": 12,\n",
    "      \"titleOpacity\": 0.8,\n",
    "      \"titleY\": -15\n",
    "    },\n",
    "    \"axisY\": {\n",
    "      \"domainColor\": \"#676A86\",\n",
    "      \"domainOpacity\": 0.5,\n",
    "      \"gridColor\": \"#676A86\",\n",
    "      \"gridDash\": [1, 5],\n",
    "      \"gridOpacity\": 0.5,\n",
    "      \"labelColor\": \"#676A86\",\n",
    "      \"labelOpacity\": 0.7,\n",
    "      \"labelPadding\": 5,\n",
    "      \"tickColor\": \"#676A86\",\n",
    "      \"tickCount\": 8,\n",
    "      \"tickOpacity\": 0.5,\n",
    "      \"ticks\": False,\n",
    "      \"titleAlign\": \"left\",\n",
    "      \"titleAngle\": 0,\n",
    "      \"titleBaseline\": \"bottom\",\n",
    "      \"titleColor\": \"#676A86\",\n",
    "      \"titleFontSize\": 12,\n",
    "      \"titleOpacity\": 0.8,\n",
    "      \"titleX\": 0,\n",
    "      \"titleY\": -7\n",
    "    }\n",
    "  }}\n",
    "\n",
    "alt.themes.register('light', light)\n",
    "\n",
    "def dark():\n",
    "    return {\"config\": {\n",
    "        \"background\": \"#122B39\",\n",
    "        \"font\": \"Circular Std\",\n",
    "        \"title\": {\n",
    "            \"color\": \"#b4c8d8\",\n",
    "            \"fontSize\": 14,\n",
    "            \"fontWeight\": 400,\n",
    "        },\n",
    "        \"mark\": {\n",
    "            \"line\": {\n",
    "                \"interpolate\": \"monotone\",\n",
    "            }\n",
    "        },\n",
    "        \"view\": {\n",
    "            \"stroke\": \"transparent\",\n",
    "            \"width\": 400,\n",
    "            \"height\": 300\n",
    "        },\n",
    "        \"range\": {\n",
    "            \"category\": [\"#36B7B4\", \"#E6224B\", \"#F4C245\", \"#0063AF\", \"#00A767\", \"#179FDB\", \"#EB5C2E\"],\n",
    "            \"diverging\": [\"#E6224B\", \"#E54753\", \"#C9C9C9\", \"#179FDB\", \"#122B39\"],\n",
    "            \"heatmap\": [\"#C9C9C9\", \"#179FDB\", \"#0063AF\", \"#122B39\"],\n",
    "            \"ordinal\": [\"#00A767\", \"#36B7B4\", \"#179FDB\", \"#0063AF\", \"#243B5A\"]\n",
    "        },\n",
    "        \"axisX\": {\n",
    "            \"domainColor\": \"#b4c8d8\",\n",
    "            \"domainOpacity\": 0.5,\n",
    "            \"grid\": False,\n",
    "            \"labelAngle\": 0,\n",
    "            \"labelColor\": \"#b4c8d8\",\n",
    "                \"labelOpacity\": 0.7,\n",
    "                \"orient\": \"bottom\",\n",
    "                \"tickColor\": \"#b4c8d8\",\n",
    "                \"tickCount\": 10,\n",
    "                \"tickOpacity\": 0.5,\n",
    "                \"title\": \"\",\n",
    "                \"titleAlign\": \"center\",\n",
    "                \"titleAnchor\": \"middle\",\n",
    "                \"titleColor\": \"#b4c8d8\",\n",
    "                \"titleFontSize\": 12,\n",
    "                \"titleOpacity\": 0.8,\n",
    "                \"titleX\": 207,\n",
    "                \"titleY\": -15\n",
    "        },\n",
    "        \"axisY\": {\n",
    "            \"domainColor\": \"#b4c8d8\",\n",
    "            \"domainOpacity\": 0.5,\n",
    "            \"format\": \".0f\",\n",
    "            \"gridColor\": \"#b4c8d8\",\n",
    "            \"gridDash\": [\n",
    "                1,\n",
    "                5\n",
    "            ],\n",
    "            \"gridOpacity\": 0.5,\n",
    "            \"labelColor\": \"#b4c8d8\",\n",
    "            \"labelOpacity\": 0.7,\n",
    "            \"labelPadding\": 5,\n",
    "            \"tickColor\": \"#b4c8d8\",\n",
    "            \"tickCount\": 8,\n",
    "            \"tickOpacity\": 0.5,\n",
    "            \"ticks\": False,\n",
    "            \"title\": \"FAO price index\",\n",
    "            \"titleAlign\": \"left\",\n",
    "            \"titleAngle\": 0,\n",
    "            \"titleBaseline\": \"bottom\",\n",
    "            \"titleColor\": \"#b4c8d8\",\n",
    "            \"titleFontSize\": 12,\n",
    "            \"titleOpacity\": 0.8,\n",
    "            \"titleX\": 0,\n",
    "            \"titleY\": -7\n",
    "\n",
    "        }\n",
    "    }}\n",
    "\n",
    "alt.themes.register('dark', dark)"
   ]
  },
  {
   "cell_type": "code",
   "execution_count": 5,
   "metadata": {},
   "outputs": [
    {
     "data": {
      "text/plain": [
       "ThemeRegistry.enable('light')"
      ]
     },
     "execution_count": 5,
     "metadata": {},
     "output_type": "execute_result"
    }
   ],
   "source": [
    "alt.themes.enable('light')"
   ]
  },
  {
   "cell_type": "markdown",
   "metadata": {},
   "source": [
    "## France cumulative medal tally, 2008 - 2022"
   ]
  },
  {
   "cell_type": "code",
   "execution_count": 6,
   "metadata": {},
   "outputs": [],
   "source": [
    "medals_cumulative = pd.read_excel('medals_france.xlsx', sheet_name='daily')"
   ]
  },
  {
   "cell_type": "code",
   "execution_count": 7,
   "metadata": {},
   "outputs": [],
   "source": [
    "medals_cumulative = medals_cumulative.melt(id_vars='Day', var_name='Olympics', value_name='Medals')"
   ]
  },
  {
   "cell_type": "code",
   "execution_count": 8,
   "metadata": {},
   "outputs": [
    {
     "data": {
      "text/html": [
       "<div>\n",
       "<style scoped>\n",
       "    .dataframe tbody tr th:only-of-type {\n",
       "        vertical-align: middle;\n",
       "    }\n",
       "\n",
       "    .dataframe tbody tr th {\n",
       "        vertical-align: top;\n",
       "    }\n",
       "\n",
       "    .dataframe thead th {\n",
       "        text-align: right;\n",
       "    }\n",
       "</style>\n",
       "<table border=\"1\" class=\"dataframe\">\n",
       "  <thead>\n",
       "    <tr style=\"text-align: right;\">\n",
       "      <th></th>\n",
       "      <th>Olympics</th>\n",
       "      <th>Day</th>\n",
       "      <th>Medals</th>\n",
       "    </tr>\n",
       "  </thead>\n",
       "  <tbody>\n",
       "    <tr>\n",
       "      <th>0</th>\n",
       "      <td>Beijing 2008</td>\n",
       "      <td>16</td>\n",
       "      <td>44</td>\n",
       "    </tr>\n",
       "    <tr>\n",
       "      <th>1</th>\n",
       "      <td>Paris 2024</td>\n",
       "      <td>16</td>\n",
       "      <td>64</td>\n",
       "    </tr>\n",
       "    <tr>\n",
       "      <th>2</th>\n",
       "      <td>Rio 2016</td>\n",
       "      <td>16</td>\n",
       "      <td>42</td>\n",
       "    </tr>\n",
       "    <tr>\n",
       "      <th>3</th>\n",
       "      <td>Tokyo 2020</td>\n",
       "      <td>16</td>\n",
       "      <td>33</td>\n",
       "    </tr>\n",
       "  </tbody>\n",
       "</table>\n",
       "</div>"
      ],
      "text/plain": [
       "       Olympics  Day  Medals\n",
       "0  Beijing 2008   16      44\n",
       "1    Paris 2024   16      64\n",
       "2      Rio 2016   16      42\n",
       "3    Tokyo 2020   16      33"
      ]
     },
     "execution_count": 8,
     "metadata": {},
     "output_type": "execute_result"
    }
   ],
   "source": [
    "last_values = medals_cumulative.sort_values('Day').groupby('Olympics').last().reset_index()\n",
    "last_values.loc[last_values['Olympics'] == 'Beijing 2008', 'Medals'] = 44\n",
    "last_values.loc[last_values['Olympics'] == 'Rio 2016', 'Medals'] = 42\n",
    "last_values"
   ]
  },
  {
   "cell_type": "code",
   "execution_count": 9,
   "metadata": {},
   "outputs": [
    {
     "name": "stderr",
     "output_type": "stream",
     "text": [
      "/Library/Frameworks/Python.framework/Versions/3.11/lib/python3.11/site-packages/altair/utils/core.py:395: FutureWarning: the convert_dtype parameter is deprecated and will be removed in a future version.  Do ``ser.astype(object).apply()`` instead if you want ``convert_dtype=False``.\n",
      "  col = df[col_name].apply(to_list_if_array, convert_dtype=False)\n",
      "/Library/Frameworks/Python.framework/Versions/3.11/lib/python3.11/site-packages/altair/utils/core.py:395: FutureWarning: the convert_dtype parameter is deprecated and will be removed in a future version.  Do ``ser.astype(object).apply()`` instead if you want ``convert_dtype=False``.\n",
      "  col = df[col_name].apply(to_list_if_array, convert_dtype=False)\n"
     ]
    },
    {
     "data": {
      "text/html": [
       "\n",
       "<style>\n",
       "  #altair-viz-5d20e72e49fe40b4a49f6dd9e4ba3078.vega-embed {\n",
       "    width: 100%;\n",
       "    display: flex;\n",
       "  }\n",
       "\n",
       "  #altair-viz-5d20e72e49fe40b4a49f6dd9e4ba3078.vega-embed details,\n",
       "  #altair-viz-5d20e72e49fe40b4a49f6dd9e4ba3078.vega-embed details summary {\n",
       "    position: relative;\n",
       "  }\n",
       "</style>\n",
       "<div id=\"altair-viz-5d20e72e49fe40b4a49f6dd9e4ba3078\"></div>\n",
       "<script type=\"text/javascript\">\n",
       "  var VEGA_DEBUG = (typeof VEGA_DEBUG == \"undefined\") ? {} : VEGA_DEBUG;\n",
       "  (function(spec, embedOpt){\n",
       "    let outputDiv = document.currentScript.previousElementSibling;\n",
       "    if (outputDiv.id !== \"altair-viz-5d20e72e49fe40b4a49f6dd9e4ba3078\") {\n",
       "      outputDiv = document.getElementById(\"altair-viz-5d20e72e49fe40b4a49f6dd9e4ba3078\");\n",
       "    }\n",
       "    const paths = {\n",
       "      \"vega\": \"https://cdn.jsdelivr.net/npm/vega@5?noext\",\n",
       "      \"vega-lib\": \"https://cdn.jsdelivr.net/npm/vega-lib?noext\",\n",
       "      \"vega-lite\": \"https://cdn.jsdelivr.net/npm/vega-lite@5.8.0?noext\",\n",
       "      \"vega-embed\": \"https://cdn.jsdelivr.net/npm/vega-embed@6?noext\",\n",
       "    };\n",
       "\n",
       "    function maybeLoadScript(lib, version) {\n",
       "      var key = `${lib.replace(\"-\", \"\")}_version`;\n",
       "      return (VEGA_DEBUG[key] == version) ?\n",
       "        Promise.resolve(paths[lib]) :\n",
       "        new Promise(function(resolve, reject) {\n",
       "          var s = document.createElement('script');\n",
       "          document.getElementsByTagName(\"head\")[0].appendChild(s);\n",
       "          s.async = true;\n",
       "          s.onload = () => {\n",
       "            VEGA_DEBUG[key] = version;\n",
       "            return resolve(paths[lib]);\n",
       "          };\n",
       "          s.onerror = () => reject(`Error loading script: ${paths[lib]}`);\n",
       "          s.src = paths[lib];\n",
       "        });\n",
       "    }\n",
       "\n",
       "    function showError(err) {\n",
       "      outputDiv.innerHTML = `<div class=\"error\" style=\"color:red;\">${err}</div>`;\n",
       "      throw err;\n",
       "    }\n",
       "\n",
       "    function displayChart(vegaEmbed) {\n",
       "      vegaEmbed(outputDiv, spec, embedOpt)\n",
       "        .catch(err => showError(`Javascript Error: ${err.message}<br>This usually means there's a typo in your chart specification. See the javascript console for the full traceback.`));\n",
       "    }\n",
       "\n",
       "    if(typeof define === \"function\" && define.amd) {\n",
       "      requirejs.config({paths});\n",
       "      require([\"vega-embed\"], displayChart, err => showError(`Error loading script: ${err.message}`));\n",
       "    } else {\n",
       "      maybeLoadScript(\"vega\", \"5\")\n",
       "        .then(() => maybeLoadScript(\"vega-lite\", \"5.8.0\"))\n",
       "        .then(() => maybeLoadScript(\"vega-embed\", \"6\"))\n",
       "        .catch(showError)\n",
       "        .then(() => displayChart(vegaEmbed));\n",
       "    }\n",
       "  })({\"config\": {\"font\": \"Circular Std\", \"mark\": {\"line\": {\"interpolate\": \"monotone\"}}, \"view\": {\"stroke\": \"transparent\", \"width\": 400, \"height\": 300}, \"range\": {\"category\": [\"#36B7B4\", \"#E6224B\", \"#F4C245\", \"#0063AF\", \"#00A767\", \"#179FDB\", \"#EB5C2E\"], \"diverging\": [\"#E6224B\", \"#E54753\", \"#C9C9C9\", \"#179FDB\", \"#122B39\"], \"heatmap\": [\"#C9C9C9\", \"#179FDB\", \"#0063AF\", \"#122B39\"], \"ordinal\": [\"#00A767\", \"#36B7B4\", \"#179FDB\", \"#0063AF\", \"#243B5A\"]}, \"axisX\": {\"domainColor\": \"#676A86\", \"domainOpacity\": 0.5, \"grid\": false, \"labelAngle\": 0, \"labelColor\": \"#676A86\", \"labelOpacity\": 0.7, \"orient\": \"bottom\", \"tickColor\": \"#676A86\", \"tickCount\": 10, \"tickOpacity\": 0.5, \"title\": false, \"titleAlign\": \"center\", \"titleAnchor\": \"middle\", \"titleColor\": \"#676A86\", \"titleFontSize\": 12, \"titleOpacity\": 0.8, \"titleY\": 20, \"titlePadding\": 10}, \"axisY\": {\"domainColor\": \"#676A86\", \"domainOpacity\": 0.5, \"gridColor\": \"#676A86\", \"gridDash\": [1, 5], \"gridOpacity\": 0.5, \"labelColor\": \"#676A86\", \"labelOpacity\": 0.7, \"labelPadding\": 5, \"tickColor\": \"#676A86\", \"tickCount\": 8, \"tickOpacity\": 0.5, \"ticks\": false, \"titleAlign\": \"left\", \"titleAngle\": 0, \"titleBaseline\": \"bottom\", \"titleColor\": \"#676A86\", \"titleFontSize\": 12, \"titleOpacity\": 0.8, \"titleX\": 0, \"titleY\": -7}}, \"layer\": [{\"data\": {\"name\": \"data-9d3efa9ed1e7a02bf05b00514809bb9a\"}, \"mark\": {\"type\": \"line\", \"point\": true}, \"encoding\": {\"color\": {\"field\": \"Olympics\", \"legend\": null, \"type\": \"nominal\"}, \"tooltip\": [{\"field\": \"Day\", \"type\": \"quantitative\"}, {\"field\": \"Medals\", \"type\": \"quantitative\"}], \"x\": {\"axis\": {\"title\": \"Day\"}, \"field\": \"Day\", \"type\": \"nominal\"}, \"y\": {\"axis\": {\"title\": \"Total medals (cumulative)\"}, \"field\": \"Medals\", \"type\": \"quantitative\"}}}, {\"data\": {\"name\": \"data-9708130c701633e232cef1a44846869c\"}, \"mark\": {\"type\": \"text\", \"align\": \"left\", \"dx\": 5, \"dy\": -5}, \"encoding\": {\"color\": {\"field\": \"Olympics\", \"type\": \"ordinal\"}, \"text\": {\"field\": \"Olympics\", \"type\": \"ordinal\"}, \"x\": {\"field\": \"Day\", \"type\": \"nominal\"}, \"y\": {\"field\": \"Medals\", \"type\": \"quantitative\"}}}], \"$schema\": \"https://vega.github.io/schema/vega-lite/v5.8.0.json\", \"datasets\": {\"data-9d3efa9ed1e7a02bf05b00514809bb9a\": [{\"Day\": 0, \"Olympics\": \"Paris 2024\", \"Medals\": 0}, {\"Day\": 1, \"Olympics\": \"Paris 2024\", \"Medals\": 4}, {\"Day\": 2, \"Olympics\": \"Paris 2024\", \"Medals\": 8}, {\"Day\": 3, \"Olympics\": \"Paris 2024\", \"Medals\": 16}, {\"Day\": 4, \"Olympics\": \"Paris 2024\", \"Medals\": 18}, {\"Day\": 5, \"Olympics\": \"Paris 2024\", \"Medals\": 26}, {\"Day\": 6, \"Olympics\": \"Paris 2024\", \"Medals\": 27}, {\"Day\": 7, \"Olympics\": \"Paris 2024\", \"Medals\": 36}, {\"Day\": 8, \"Olympics\": \"Paris 2024\", \"Medals\": 41}, {\"Day\": 9, \"Olympics\": \"Paris 2024\", \"Medals\": 44}, {\"Day\": 10, \"Olympics\": \"Paris 2024\", \"Medals\": 46}, {\"Day\": 11, \"Olympics\": \"Paris 2024\", \"Medals\": 48}, {\"Day\": 12, \"Olympics\": \"Paris 2024\", \"Medals\": 51}, {\"Day\": 13, \"Olympics\": \"Paris 2024\", \"Medals\": 54}, {\"Day\": 14, \"Olympics\": \"Paris 2024\", \"Medals\": 56}, {\"Day\": 15, \"Olympics\": \"Paris 2024\", \"Medals\": 62}, {\"Day\": 16, \"Olympics\": \"Paris 2024\", \"Medals\": 64}, {\"Day\": 0, \"Olympics\": \"Tokyo 2020\", \"Medals\": 0}, {\"Day\": 1, \"Olympics\": \"Tokyo 2020\", \"Medals\": 1}, {\"Day\": 2, \"Olympics\": \"Tokyo 2020\", \"Medals\": 3}, {\"Day\": 3, \"Olympics\": \"Tokyo 2020\", \"Medals\": 5}, {\"Day\": 4, \"Olympics\": \"Tokyo 2020\", \"Medals\": 6}, {\"Day\": 5, \"Olympics\": \"Tokyo 2020\", \"Medals\": 8}, {\"Day\": 6, \"Olympics\": \"Tokyo 2020\", \"Medals\": 11}, {\"Day\": 7, \"Olympics\": \"Tokyo 2020\", \"Medals\": 13}, {\"Day\": 8, \"Olympics\": \"Tokyo 2020\", \"Medals\": 19}, {\"Day\": 9, \"Olympics\": \"Tokyo 2020\", \"Medals\": 21}, {\"Day\": 10, \"Olympics\": \"Tokyo 2020\", \"Medals\": 23}, {\"Day\": 11, \"Olympics\": \"Tokyo 2020\", \"Medals\": 24}, {\"Day\": 12, \"Olympics\": \"Tokyo 2020\", \"Medals\": 25}, {\"Day\": 13, \"Olympics\": \"Tokyo 2020\", \"Medals\": 27}, {\"Day\": 14, \"Olympics\": \"Tokyo 2020\", \"Medals\": 27}, {\"Day\": 15, \"Olympics\": \"Tokyo 2020\", \"Medals\": 32}, {\"Day\": 16, \"Olympics\": \"Tokyo 2020\", \"Medals\": 33}, {\"Day\": 0, \"Olympics\": \"Rio 2016\", \"Medals\": 0}, {\"Day\": 1, \"Olympics\": \"Rio 2016\", \"Medals\": 0}, {\"Day\": 2, \"Olympics\": \"Rio 2016\", \"Medals\": 1}, {\"Day\": 3, \"Olympics\": \"Rio 2016\", \"Medals\": 1}, {\"Day\": 4, \"Olympics\": \"Rio 2016\", \"Medals\": 6}, {\"Day\": 5, \"Olympics\": \"Rio 2016\", \"Medals\": 6}, {\"Day\": 6, \"Olympics\": \"Rio 2016\", \"Medals\": 11}, {\"Day\": 7, \"Olympics\": \"Rio 2016\", \"Medals\": 17}, {\"Day\": 8, \"Olympics\": \"Rio 2016\", \"Medals\": 18}, {\"Day\": 9, \"Olympics\": \"Rio 2016\", \"Medals\": 22}, {\"Day\": 10, \"Olympics\": \"Rio 2016\", \"Medals\": 24}, {\"Day\": 11, \"Olympics\": \"Rio 2016\", \"Medals\": 29}, {\"Day\": 12, \"Olympics\": \"Rio 2016\", \"Medals\": 31}, {\"Day\": 13, \"Olympics\": \"Rio 2016\", \"Medals\": 34}, {\"Day\": 14, \"Olympics\": \"Rio 2016\", \"Medals\": 37}, {\"Day\": 15, \"Olympics\": \"Rio 2016\", \"Medals\": 40}, {\"Day\": 16, \"Olympics\": \"Rio 2016\", \"Medals\": 43}, {\"Day\": 0, \"Olympics\": \"Beijing 2008\", \"Medals\": 0}, {\"Day\": 1, \"Olympics\": \"Beijing 2008\", \"Medals\": 0}, {\"Day\": 2, \"Olympics\": \"Beijing 2008\", \"Medals\": 3}, {\"Day\": 3, \"Olympics\": \"Beijing 2008\", \"Medals\": 5}, {\"Day\": 4, \"Olympics\": \"Beijing 2008\", \"Medals\": 9}, {\"Day\": 5, \"Olympics\": \"Beijing 2008\", \"Medals\": 11}, {\"Day\": 6, \"Olympics\": \"Beijing 2008\", \"Medals\": 16}, {\"Day\": 7, \"Olympics\": \"Beijing 2008\", \"Medals\": 19}, {\"Day\": 8, \"Olympics\": \"Beijing 2008\", \"Medals\": 23}, {\"Day\": 9, \"Olympics\": \"Beijing 2008\", \"Medals\": 26}, {\"Day\": 10, \"Olympics\": \"Beijing 2008\", \"Medals\": 29}, {\"Day\": 11, \"Olympics\": \"Beijing 2008\", \"Medals\": 31}, {\"Day\": 12, \"Olympics\": \"Beijing 2008\", \"Medals\": 33}, {\"Day\": 13, \"Olympics\": \"Beijing 2008\", \"Medals\": 33}, {\"Day\": 14, \"Olympics\": \"Beijing 2008\", \"Medals\": 35}, {\"Day\": 15, \"Olympics\": \"Beijing 2008\", \"Medals\": 41}, {\"Day\": 16, \"Olympics\": \"Beijing 2008\", \"Medals\": 43}], \"data-9708130c701633e232cef1a44846869c\": [{\"Olympics\": \"Beijing 2008\", \"Day\": 16, \"Medals\": 44}, {\"Olympics\": \"Paris 2024\", \"Day\": 16, \"Medals\": 64}, {\"Olympics\": \"Rio 2016\", \"Day\": 16, \"Medals\": 42}, {\"Olympics\": \"Tokyo 2020\", \"Day\": 16, \"Medals\": 33}]}}, {\"mode\": \"vega-lite\"});\n",
       "</script>"
      ],
      "text/plain": [
       "alt.LayerChart(...)"
      ]
     },
     "execution_count": 9,
     "metadata": {},
     "output_type": "execute_result"
    }
   ],
   "source": [
    "line_chart = alt.Chart(medals_cumulative).mark_line(point=True).encode(\n",
    "    x=alt.X('Day:N', axis=alt.Axis(title='Day')),\n",
    "    y=alt.Y('Medals:Q', axis=alt.Axis(title='Total medals (cumulative)')),\n",
    "    color=alt.Color('Olympics:O', legend=None, type='nominal'),\n",
    "    tooltip=['Day', 'Medals']\n",
    ")\n",
    "\n",
    "\n",
    "text = alt.Chart(last_values).mark_text(align='left', dx=5, dy=-5).encode(\n",
    "    x='Day:N',\n",
    "    y='Medals:Q',\n",
    "    text='Olympics:O',\n",
    "    color='Olympics:O'\n",
    ")\n",
    "\n",
    "final_chart = line_chart + text\n",
    "\n",
    "#final_chart = final_chart.properties(\n",
    "  #      title={\n",
    "   #     \"subtitle\": [\"France daily cumulative medal count per olympic games\", \"Source: IOC, Olympedia\", \"\"],\n",
    "   #     \"subtitleColor\": \"#676A86\",\n",
    "    #    \"anchor\": \"start\"\n",
    "   # }\n",
    "#)\n",
    "\n",
    "final_chart.configure_axisX(\n",
    "    labelAngle=0,\n",
    "    titlePadding=10,\n",
    "    titleY=20,\n",
    ")"
   ]
  },
  {
   "cell_type": "code",
   "execution_count": 28,
   "metadata": {},
   "outputs": [
    {
     "name": "stderr",
     "output_type": "stream",
     "text": [
      "/Library/Frameworks/Python.framework/Versions/3.11/lib/python3.11/site-packages/altair/utils/core.py:395: FutureWarning:\n",
      "\n",
      "the convert_dtype parameter is deprecated and will be removed in a future version.  Do ``ser.astype(object).apply()`` instead if you want ``convert_dtype=False``.\n",
      "\n",
      "/Library/Frameworks/Python.framework/Versions/3.11/lib/python3.11/site-packages/altair/utils/core.py:395: FutureWarning:\n",
      "\n",
      "the convert_dtype parameter is deprecated and will be removed in a future version.  Do ``ser.astype(object).apply()`` instead if you want ``convert_dtype=False``.\n",
      "\n"
     ]
    }
   ],
   "source": [
    "#final_chart.save('medals_france.png')\n",
    "final_chart.save('medals_france.json')"
   ]
  },
  {
   "cell_type": "markdown",
   "metadata": {},
   "source": [
    "### Changes in France medal count"
   ]
  },
  {
   "cell_type": "code",
   "execution_count": 11,
   "metadata": {},
   "outputs": [],
   "source": [
    "#France\n",
    "france_medals_2020 = pd.read_excel('medals_france.xlsx', sheet_name='France_medals_2020')\n",
    "france_medals_2024 = pd.read_excel('medals_france.xlsx', sheet_name='France_medals_2024')"
   ]
  },
  {
   "cell_type": "code",
   "execution_count": 12,
   "metadata": {},
   "outputs": [],
   "source": [
    "france_medals_2020.rename(columns={'Total': 'Total_2020'}, inplace=True)\n",
    "france_medals_2024.rename(columns={'Total': 'Total_2024'}, inplace=True)\n"
   ]
  },
  {
   "cell_type": "code",
   "execution_count": 13,
   "metadata": {},
   "outputs": [],
   "source": [
    "merged_df = france_medals_2024.merge(france_medals_2020, on='Sport', how='outer')\n",
    "merged_df = merged_df[['Sport', 'Total_2020', 'Total_2024']]\n",
    "merged_df['Difference'] = merged_df['Total_2024'] - merged_df['Total_2020']\n",
    "#merged_df\n"
   ]
  },
  {
   "cell_type": "markdown",
   "metadata": {},
   "source": [
    "### Redistribution of 2020 ROC medals in 2024 Olympics"
   ]
  },
  {
   "cell_type": "code",
   "execution_count": 14,
   "metadata": {},
   "outputs": [],
   "source": [
    "#ROC\n",
    "ROC_medals_2020 = pd.read_excel('ROC_medals_2020.xlsx', sheet_name='ROC_medals_event')\n",
    "\n",
    "#all medals in 2024\n",
    "total_medals_2024 = pd.read_excel('medals_2024_edited.xlsx')\n"
   ]
  },
  {
   "cell_type": "code",
   "execution_count": 15,
   "metadata": {},
   "outputs": [],
   "source": [
    "ROC_medals_2020_unique = ROC_medals_2020['Event'].unique()\n",
    "ROC_medals_2020_unique = np.sort(ROC_medals_2020_unique)\n",
    "\n",
    "ROC_medals_2020.rename(columns={'Medal': 'medal_type'}, inplace=True)\n",
    "ROC_medals_2020.rename(columns={'Sport': 'discipline'}, inplace=True)"
   ]
  },
  {
   "cell_type": "code",
   "execution_count": 16,
   "metadata": {},
   "outputs": [
    {
     "data": {
      "text/plain": [
       "Index(['discipline', 'medal_type', 'Event', 'Date', 'country_code'], dtype='object')"
      ]
     },
     "execution_count": 16,
     "metadata": {},
     "output_type": "execute_result"
    }
   ],
   "source": [
    "ROC_medals_2020 = ROC_medals_2020.reindex(columns=['discipline', 'medal_type', 'Event', 'Date'])\n",
    "ROC_medals_2020['country_code'] = 'ROC'\n",
    "ROC_medals_2020.columns"
   ]
  },
  {
   "cell_type": "code",
   "execution_count": 17,
   "metadata": {},
   "outputs": [],
   "source": [
    "total_medals_2024['medal_type'] = total_medals_2024['medal_type'].replace('Gold Medal', 'Gold')\n",
    "total_medals_2024['medal_type'] = total_medals_2024['medal_type'].replace('Silver Medal', 'Silver')\n",
    "total_medals_2024['medal_type'] = total_medals_2024['medal_type'].replace('Bronze Medal', 'Bronze')"
   ]
  },
  {
   "cell_type": "code",
   "execution_count": 18,
   "metadata": {},
   "outputs": [],
   "source": [
    "total_medals_2024 = total_medals_2024.loc[:, ['discipline','medal_type', 'event', 'event_type', 'country_code']]"
   ]
  },
  {
   "cell_type": "code",
   "execution_count": 19,
   "metadata": {},
   "outputs": [],
   "source": [
    "ROC_medals_2020['Event'] = ROC_medals_2020['Event'].str.lower()\n",
    "total_medals_2024['event'] = total_medals_2024['event'].str.lower()"
   ]
  },
  {
   "cell_type": "code",
   "execution_count": 20,
   "metadata": {},
   "outputs": [],
   "source": [
    "event_medal_count_2024 = total_medals_2024[total_medals_2024.set_index(['discipline', 'event', 'medal_type']).index.isin(ROC_medals_2020.set_index(['discipline', 'Event', 'medal_type']).index)].reset_index()\n",
    "#event_medal_count_2024"
   ]
  },
  {
   "cell_type": "code",
   "execution_count": 21,
   "metadata": {},
   "outputs": [],
   "source": [
    "flag_mapping = {\n",
    "    'CHN': '🇨🇳 CHN',\n",
    "    'IRI': '🇮🇷 IRI',\n",
    "    'ISR': '🇮🇱 ISR',\n",
    "    'JPN': '🇯🇵 JPN',\n",
    "    'KOR': '🇰🇷 KOR',\n",
    "    'UZB': '🇺🇿 UZB',\n",
    "    'ITA': '🇮🇹 ITA',\n",
    "    'ESP': '🇪🇸 ESP',\n",
    "    'FRA': '🇫🇷 FRA',\n",
    "    'GER': '🇩🇪 GER',\n",
    "    'ROU': '🇷🇴 ROU',\n",
    "    'UKR': '🇺🇦 UKR',\n",
    "    'TUN': '🇹🇳 TUN',\n",
    "    'ROC': 'ROC',  # No flag for ROC\n",
    "    'USA': '🇺🇸 USA',\n",
    "    'other countries': '🌍 Other countries'\n",
    "}\n",
    "\n",
    "event_medal_count_2024['country_code'] = event_medal_count_2024['country_code'].replace(flag_mapping)\n",
    "#event_medal_count_2024"
   ]
  },
  {
   "cell_type": "code",
   "execution_count": 22,
   "metadata": {},
   "outputs": [],
   "source": [
    "medal_count = event_medal_count_2024.groupby(['country_code', 'medal_type']).size().unstack(fill_value=0)\n",
    "#medal_count.to_excel('event_medal_count_2024.xlsx', index=False)"
   ]
  },
  {
   "cell_type": "code",
   "execution_count": 23,
   "metadata": {},
   "outputs": [],
   "source": [
    "# Sum up all medals per country\n",
    "medal_count['Total Medals'] = medal_count['Bronze'] + medal_count['Silver'] + medal_count['Gold']\n",
    "\n",
    "# Separate ROC from other countries for Diagram\n",
    "roc_medals = medal_count.loc['ROC', 'Total Medals'] if 'ROC' in medal_count.index else 0\n",
    "other_countries_df = medal_count.drop(index='ROC', errors='ignore')\n",
    "\n",
    "\n",
    "#Add new row grouping together other countries\n",
    "other_countries_df.loc['Other countries'] = [0, 0, 0, 20]\n",
    "other_countries_df = other_countries_df[other_countries_df['Total Medals'] != 1]\n",
    "#other_countries_df\n",
    "other_countries_labels = other_countries_df.reset_index()"
   ]
  },
  {
   "cell_type": "code",
   "execution_count": 24,
   "metadata": {},
   "outputs": [],
   "source": [
    "#Define items for Sankey diagram\n",
    "sources = [0] * len(other_countries_df)  \n",
    "targets = list(range(1, len(other_countries_df) + 1))  \n",
    "values = other_countries_df['Total Medals'].tolist()\n",
    "labels = [ROC_medals_2020['country_code'].iloc[0]] + other_countries_labels['country_code'].tolist()"
   ]
  },
  {
   "cell_type": "code",
   "execution_count": 25,
   "metadata": {},
   "outputs": [
    {
     "data": {
      "application/vnd.plotly.v1+json": {
       "config": {
        "plotlyServerURL": "https://plot.ly"
       },
       "data": [
        {
         "link": {
          "source": [
           0,
           0,
           0,
           0,
           0,
           0,
           0,
           0,
           0,
           0,
           0,
           0,
           0,
           0,
           0
          ],
          "target": [
           1,
           2,
           3,
           4,
           5,
           6,
           7,
           8,
           9,
           10,
           11,
           12,
           13,
           14,
           15
          ],
          "value": [
           10,
           3,
           2,
           5,
           2,
           4,
           2,
           3,
           3,
           2,
           2,
           3,
           9,
           4,
           20
          ]
         },
         "node": {
          "color": "#e6224b",
          "hovertemplate": "%{value}",
          "label": [
           "ROC",
           "🇨🇳 CHN",
           "🇩🇪 GER",
           "🇪🇸 ESP",
           "🇫🇷 FRA",
           "🇮🇱 ISR",
           "🇮🇷 IRI",
           "🇮🇹 ITA",
           "🇯🇵 JPN",
           "🇰🇷 KOR",
           "🇷🇴 ROU",
           "🇹🇳 TUN",
           "🇺🇦 UKR",
           "🇺🇸 USA",
           "🇺🇿 UZB",
           "Other countries"
          ],
          "pad": 15,
          "thickness": 20
         },
         "type": "sankey"
        }
       ],
       "layout": {
        "height": 400,
        "template": {
         "data": {
          "bar": [
           {
            "error_x": {
             "color": "#2a3f5f"
            },
            "error_y": {
             "color": "#2a3f5f"
            },
            "marker": {
             "line": {
              "color": "#E5ECF6",
              "width": 0.5
             },
             "pattern": {
              "fillmode": "overlay",
              "size": 10,
              "solidity": 0.2
             }
            },
            "type": "bar"
           }
          ],
          "barpolar": [
           {
            "marker": {
             "line": {
              "color": "#E5ECF6",
              "width": 0.5
             },
             "pattern": {
              "fillmode": "overlay",
              "size": 10,
              "solidity": 0.2
             }
            },
            "type": "barpolar"
           }
          ],
          "carpet": [
           {
            "aaxis": {
             "endlinecolor": "#2a3f5f",
             "gridcolor": "white",
             "linecolor": "white",
             "minorgridcolor": "white",
             "startlinecolor": "#2a3f5f"
            },
            "baxis": {
             "endlinecolor": "#2a3f5f",
             "gridcolor": "white",
             "linecolor": "white",
             "minorgridcolor": "white",
             "startlinecolor": "#2a3f5f"
            },
            "type": "carpet"
           }
          ],
          "choropleth": [
           {
            "colorbar": {
             "outlinewidth": 0,
             "ticks": ""
            },
            "type": "choropleth"
           }
          ],
          "contour": [
           {
            "colorbar": {
             "outlinewidth": 0,
             "ticks": ""
            },
            "colorscale": [
             [
              0,
              "#0d0887"
             ],
             [
              0.1111111111111111,
              "#46039f"
             ],
             [
              0.2222222222222222,
              "#7201a8"
             ],
             [
              0.3333333333333333,
              "#9c179e"
             ],
             [
              0.4444444444444444,
              "#bd3786"
             ],
             [
              0.5555555555555556,
              "#d8576b"
             ],
             [
              0.6666666666666666,
              "#ed7953"
             ],
             [
              0.7777777777777778,
              "#fb9f3a"
             ],
             [
              0.8888888888888888,
              "#fdca26"
             ],
             [
              1,
              "#f0f921"
             ]
            ],
            "type": "contour"
           }
          ],
          "contourcarpet": [
           {
            "colorbar": {
             "outlinewidth": 0,
             "ticks": ""
            },
            "type": "contourcarpet"
           }
          ],
          "heatmap": [
           {
            "colorbar": {
             "outlinewidth": 0,
             "ticks": ""
            },
            "colorscale": [
             [
              0,
              "#0d0887"
             ],
             [
              0.1111111111111111,
              "#46039f"
             ],
             [
              0.2222222222222222,
              "#7201a8"
             ],
             [
              0.3333333333333333,
              "#9c179e"
             ],
             [
              0.4444444444444444,
              "#bd3786"
             ],
             [
              0.5555555555555556,
              "#d8576b"
             ],
             [
              0.6666666666666666,
              "#ed7953"
             ],
             [
              0.7777777777777778,
              "#fb9f3a"
             ],
             [
              0.8888888888888888,
              "#fdca26"
             ],
             [
              1,
              "#f0f921"
             ]
            ],
            "type": "heatmap"
           }
          ],
          "heatmapgl": [
           {
            "colorbar": {
             "outlinewidth": 0,
             "ticks": ""
            },
            "colorscale": [
             [
              0,
              "#0d0887"
             ],
             [
              0.1111111111111111,
              "#46039f"
             ],
             [
              0.2222222222222222,
              "#7201a8"
             ],
             [
              0.3333333333333333,
              "#9c179e"
             ],
             [
              0.4444444444444444,
              "#bd3786"
             ],
             [
              0.5555555555555556,
              "#d8576b"
             ],
             [
              0.6666666666666666,
              "#ed7953"
             ],
             [
              0.7777777777777778,
              "#fb9f3a"
             ],
             [
              0.8888888888888888,
              "#fdca26"
             ],
             [
              1,
              "#f0f921"
             ]
            ],
            "type": "heatmapgl"
           }
          ],
          "histogram": [
           {
            "marker": {
             "pattern": {
              "fillmode": "overlay",
              "size": 10,
              "solidity": 0.2
             }
            },
            "type": "histogram"
           }
          ],
          "histogram2d": [
           {
            "colorbar": {
             "outlinewidth": 0,
             "ticks": ""
            },
            "colorscale": [
             [
              0,
              "#0d0887"
             ],
             [
              0.1111111111111111,
              "#46039f"
             ],
             [
              0.2222222222222222,
              "#7201a8"
             ],
             [
              0.3333333333333333,
              "#9c179e"
             ],
             [
              0.4444444444444444,
              "#bd3786"
             ],
             [
              0.5555555555555556,
              "#d8576b"
             ],
             [
              0.6666666666666666,
              "#ed7953"
             ],
             [
              0.7777777777777778,
              "#fb9f3a"
             ],
             [
              0.8888888888888888,
              "#fdca26"
             ],
             [
              1,
              "#f0f921"
             ]
            ],
            "type": "histogram2d"
           }
          ],
          "histogram2dcontour": [
           {
            "colorbar": {
             "outlinewidth": 0,
             "ticks": ""
            },
            "colorscale": [
             [
              0,
              "#0d0887"
             ],
             [
              0.1111111111111111,
              "#46039f"
             ],
             [
              0.2222222222222222,
              "#7201a8"
             ],
             [
              0.3333333333333333,
              "#9c179e"
             ],
             [
              0.4444444444444444,
              "#bd3786"
             ],
             [
              0.5555555555555556,
              "#d8576b"
             ],
             [
              0.6666666666666666,
              "#ed7953"
             ],
             [
              0.7777777777777778,
              "#fb9f3a"
             ],
             [
              0.8888888888888888,
              "#fdca26"
             ],
             [
              1,
              "#f0f921"
             ]
            ],
            "type": "histogram2dcontour"
           }
          ],
          "mesh3d": [
           {
            "colorbar": {
             "outlinewidth": 0,
             "ticks": ""
            },
            "type": "mesh3d"
           }
          ],
          "parcoords": [
           {
            "line": {
             "colorbar": {
              "outlinewidth": 0,
              "ticks": ""
             }
            },
            "type": "parcoords"
           }
          ],
          "pie": [
           {
            "automargin": true,
            "type": "pie"
           }
          ],
          "scatter": [
           {
            "fillpattern": {
             "fillmode": "overlay",
             "size": 10,
             "solidity": 0.2
            },
            "type": "scatter"
           }
          ],
          "scatter3d": [
           {
            "line": {
             "colorbar": {
              "outlinewidth": 0,
              "ticks": ""
             }
            },
            "marker": {
             "colorbar": {
              "outlinewidth": 0,
              "ticks": ""
             }
            },
            "type": "scatter3d"
           }
          ],
          "scattercarpet": [
           {
            "marker": {
             "colorbar": {
              "outlinewidth": 0,
              "ticks": ""
             }
            },
            "type": "scattercarpet"
           }
          ],
          "scattergeo": [
           {
            "marker": {
             "colorbar": {
              "outlinewidth": 0,
              "ticks": ""
             }
            },
            "type": "scattergeo"
           }
          ],
          "scattergl": [
           {
            "marker": {
             "colorbar": {
              "outlinewidth": 0,
              "ticks": ""
             }
            },
            "type": "scattergl"
           }
          ],
          "scattermapbox": [
           {
            "marker": {
             "colorbar": {
              "outlinewidth": 0,
              "ticks": ""
             }
            },
            "type": "scattermapbox"
           }
          ],
          "scatterpolar": [
           {
            "marker": {
             "colorbar": {
              "outlinewidth": 0,
              "ticks": ""
             }
            },
            "type": "scatterpolar"
           }
          ],
          "scatterpolargl": [
           {
            "marker": {
             "colorbar": {
              "outlinewidth": 0,
              "ticks": ""
             }
            },
            "type": "scatterpolargl"
           }
          ],
          "scatterternary": [
           {
            "marker": {
             "colorbar": {
              "outlinewidth": 0,
              "ticks": ""
             }
            },
            "type": "scatterternary"
           }
          ],
          "surface": [
           {
            "colorbar": {
             "outlinewidth": 0,
             "ticks": ""
            },
            "colorscale": [
             [
              0,
              "#0d0887"
             ],
             [
              0.1111111111111111,
              "#46039f"
             ],
             [
              0.2222222222222222,
              "#7201a8"
             ],
             [
              0.3333333333333333,
              "#9c179e"
             ],
             [
              0.4444444444444444,
              "#bd3786"
             ],
             [
              0.5555555555555556,
              "#d8576b"
             ],
             [
              0.6666666666666666,
              "#ed7953"
             ],
             [
              0.7777777777777778,
              "#fb9f3a"
             ],
             [
              0.8888888888888888,
              "#fdca26"
             ],
             [
              1,
              "#f0f921"
             ]
            ],
            "type": "surface"
           }
          ],
          "table": [
           {
            "cells": {
             "fill": {
              "color": "#EBF0F8"
             },
             "line": {
              "color": "white"
             }
            },
            "header": {
             "fill": {
              "color": "#C8D4E3"
             },
             "line": {
              "color": "white"
             }
            },
            "type": "table"
           }
          ]
         },
         "layout": {
          "annotationdefaults": {
           "arrowcolor": "#2a3f5f",
           "arrowhead": 0,
           "arrowwidth": 1
          },
          "autotypenumbers": "strict",
          "coloraxis": {
           "colorbar": {
            "outlinewidth": 0,
            "ticks": ""
           }
          },
          "colorscale": {
           "diverging": [
            [
             0,
             "#8e0152"
            ],
            [
             0.1,
             "#c51b7d"
            ],
            [
             0.2,
             "#de77ae"
            ],
            [
             0.3,
             "#f1b6da"
            ],
            [
             0.4,
             "#fde0ef"
            ],
            [
             0.5,
             "#f7f7f7"
            ],
            [
             0.6,
             "#e6f5d0"
            ],
            [
             0.7,
             "#b8e186"
            ],
            [
             0.8,
             "#7fbc41"
            ],
            [
             0.9,
             "#4d9221"
            ],
            [
             1,
             "#276419"
            ]
           ],
           "sequential": [
            [
             0,
             "#0d0887"
            ],
            [
             0.1111111111111111,
             "#46039f"
            ],
            [
             0.2222222222222222,
             "#7201a8"
            ],
            [
             0.3333333333333333,
             "#9c179e"
            ],
            [
             0.4444444444444444,
             "#bd3786"
            ],
            [
             0.5555555555555556,
             "#d8576b"
            ],
            [
             0.6666666666666666,
             "#ed7953"
            ],
            [
             0.7777777777777778,
             "#fb9f3a"
            ],
            [
             0.8888888888888888,
             "#fdca26"
            ],
            [
             1,
             "#f0f921"
            ]
           ],
           "sequentialminus": [
            [
             0,
             "#0d0887"
            ],
            [
             0.1111111111111111,
             "#46039f"
            ],
            [
             0.2222222222222222,
             "#7201a8"
            ],
            [
             0.3333333333333333,
             "#9c179e"
            ],
            [
             0.4444444444444444,
             "#bd3786"
            ],
            [
             0.5555555555555556,
             "#d8576b"
            ],
            [
             0.6666666666666666,
             "#ed7953"
            ],
            [
             0.7777777777777778,
             "#fb9f3a"
            ],
            [
             0.8888888888888888,
             "#fdca26"
            ],
            [
             1,
             "#f0f921"
            ]
           ]
          },
          "colorway": [
           "#636efa",
           "#EF553B",
           "#00cc96",
           "#ab63fa",
           "#FFA15A",
           "#19d3f3",
           "#FF6692",
           "#B6E880",
           "#FF97FF",
           "#FECB52"
          ],
          "font": {
           "color": "#2a3f5f"
          },
          "geo": {
           "bgcolor": "white",
           "lakecolor": "white",
           "landcolor": "#E5ECF6",
           "showlakes": true,
           "showland": true,
           "subunitcolor": "white"
          },
          "hoverlabel": {
           "align": "left"
          },
          "hovermode": "closest",
          "mapbox": {
           "style": "light"
          },
          "paper_bgcolor": "white",
          "plot_bgcolor": "#E5ECF6",
          "polar": {
           "angularaxis": {
            "gridcolor": "white",
            "linecolor": "white",
            "ticks": ""
           },
           "bgcolor": "#E5ECF6",
           "radialaxis": {
            "gridcolor": "white",
            "linecolor": "white",
            "ticks": ""
           }
          },
          "scene": {
           "xaxis": {
            "backgroundcolor": "#E5ECF6",
            "gridcolor": "white",
            "gridwidth": 2,
            "linecolor": "white",
            "showbackground": true,
            "ticks": "",
            "zerolinecolor": "white"
           },
           "yaxis": {
            "backgroundcolor": "#E5ECF6",
            "gridcolor": "white",
            "gridwidth": 2,
            "linecolor": "white",
            "showbackground": true,
            "ticks": "",
            "zerolinecolor": "white"
           },
           "zaxis": {
            "backgroundcolor": "#E5ECF6",
            "gridcolor": "white",
            "gridwidth": 2,
            "linecolor": "white",
            "showbackground": true,
            "ticks": "",
            "zerolinecolor": "white"
           }
          },
          "shapedefaults": {
           "line": {
            "color": "#2a3f5f"
           }
          },
          "ternary": {
           "aaxis": {
            "gridcolor": "white",
            "linecolor": "white",
            "ticks": ""
           },
           "baxis": {
            "gridcolor": "white",
            "linecolor": "white",
            "ticks": ""
           },
           "bgcolor": "#E5ECF6",
           "caxis": {
            "gridcolor": "white",
            "linecolor": "white",
            "ticks": ""
           }
          },
          "title": {
           "x": 0.05
          },
          "xaxis": {
           "automargin": true,
           "gridcolor": "white",
           "linecolor": "white",
           "ticks": "",
           "title": {
            "standoff": 15
           },
           "zerolinecolor": "white",
           "zerolinewidth": 2
          },
          "yaxis": {
           "automargin": true,
           "gridcolor": "white",
           "linecolor": "white",
           "ticks": "",
           "title": {
            "standoff": 15
           },
           "zerolinecolor": "white",
           "zerolinewidth": 2
          }
         }
        },
        "width": 600
       }
      }
     },
     "metadata": {},
     "output_type": "display_data"
    }
   ],
   "source": [
    "# Sankey diagram \n",
    "fig = go.Figure(data=[go.Sankey(\n",
    "    node=dict(\n",
    "        pad=15,\n",
    "        thickness=20,\n",
    "        line=None,\n",
    "        label=labels,\n",
    "        color='#e6224b', \n",
    "        hovertemplate='%{value}',\n",
    "    ),\n",
    "    link=dict(\n",
    "        source=sources,\n",
    "        target=targets,\n",
    "        value=values\n",
    "    ))])\n",
    "\n",
    "fig.update_layout(\n",
    "    height=400,\n",
    "    width=600\n",
    ")\n",
    "fig.show()\n"
   ]
  },
  {
   "cell_type": "code",
   "execution_count": 30,
   "metadata": {},
   "outputs": [],
   "source": [
    "#Saving sankey diagram\n",
    "\n",
    "fig.write_image(\"sankey_ROC.png\", scale=2)\n",
    "fig.write_json(\"sankey_ROC.json\")"
   ]
  }
 ],
 "metadata": {
  "kernelspec": {
   "display_name": "Python 3",
   "language": "python",
   "name": "python3"
  },
  "language_info": {
   "codemirror_mode": {
    "name": "ipython",
    "version": 3
   },
   "file_extension": ".py",
   "mimetype": "text/x-python",
   "name": "python",
   "nbconvert_exporter": "python",
   "pygments_lexer": "ipython3",
   "version": "3.11.4"
  }
 },
 "nbformat": 4,
 "nbformat_minor": 2
}

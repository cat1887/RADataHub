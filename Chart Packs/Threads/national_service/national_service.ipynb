{
 "cells": [
  {
   "cell_type": "code",
   "execution_count": 1,
   "metadata": {},
   "outputs": [
    {
     "data": {
      "text/plain": [
       "ThemeRegistry.enable('light')"
      ]
     },
     "execution_count": 1,
     "metadata": {},
     "output_type": "execute_result"
    }
   ],
   "source": [
    "import pandas as pd\n",
    "import numpy as np\n",
    "import eco_style\n",
    "import altair as alt\n",
    "import pycountry\n",
    "\n",
    "alt.themes.enable('light')"
   ]
  },
  {
   "cell_type": "markdown",
   "metadata": {},
   "source": [
    "# Where has national service"
   ]
  },
  {
   "cell_type": "code",
   "execution_count": 2,
   "metadata": {},
   "outputs": [],
   "source": [
    "# let's fetch from wikipedia, filter for Europe and manually verify\n",
    "dfs = pd.read_html(\"https://en.wikipedia.org/wiki/Conscription\")"
   ]
  },
  {
   "cell_type": "code",
   "execution_count": 14,
   "metadata": {},
   "outputs": [
    {
     "data": {
      "text/html": [
       "<div>\n",
       "<style scoped>\n",
       "    .dataframe tbody tr th:only-of-type {\n",
       "        vertical-align: middle;\n",
       "    }\n",
       "\n",
       "    .dataframe tbody tr th {\n",
       "        vertical-align: top;\n",
       "    }\n",
       "\n",
       "    .dataframe thead th {\n",
       "        text-align: right;\n",
       "    }\n",
       "</style>\n",
       "<table border=\"1\" class=\"dataframe\">\n",
       "  <thead>\n",
       "    <tr style=\"text-align: right;\">\n",
       "      <th></th>\n",
       "      <th>Country</th>\n",
       "      <th>Conscription[112]</th>\n",
       "      <th>Conscription sex</th>\n",
       "    </tr>\n",
       "  </thead>\n",
       "  <tbody>\n",
       "    <tr>\n",
       "      <th>0</th>\n",
       "      <td>Afghanistan</td>\n",
       "      <td>No (abolished in 1992)</td>\n",
       "      <td>NaN</td>\n",
       "    </tr>\n",
       "    <tr>\n",
       "      <th>1</th>\n",
       "      <td>Albania</td>\n",
       "      <td>No (abolished in 2010)[113]</td>\n",
       "      <td>NaN</td>\n",
       "    </tr>\n",
       "    <tr>\n",
       "      <th>2</th>\n",
       "      <td>Algeria</td>\n",
       "      <td>Yes</td>\n",
       "      <td>Male</td>\n",
       "    </tr>\n",
       "    <tr>\n",
       "      <th>3</th>\n",
       "      <td>Angola</td>\n",
       "      <td>Yes</td>\n",
       "      <td>Male</td>\n",
       "    </tr>\n",
       "    <tr>\n",
       "      <th>4</th>\n",
       "      <td>Argentina</td>\n",
       "      <td>No. Voluntary; conscription may be required fo...</td>\n",
       "      <td>NaN</td>\n",
       "    </tr>\n",
       "    <tr>\n",
       "      <th>...</th>\n",
       "      <td>...</td>\n",
       "      <td>...</td>\n",
       "      <td>...</td>\n",
       "    </tr>\n",
       "    <tr>\n",
       "      <th>99</th>\n",
       "      <td>United Kingdom</td>\n",
       "      <td>No. Required from 1916 until 1920 and from 193...</td>\n",
       "      <td>NaN</td>\n",
       "    </tr>\n",
       "    <tr>\n",
       "      <th>100</th>\n",
       "      <td>United States</td>\n",
       "      <td>No. Abandoned in 1973, but registration is sti...</td>\n",
       "      <td>NaN</td>\n",
       "    </tr>\n",
       "    <tr>\n",
       "      <th>101</th>\n",
       "      <td>Vanuatu</td>\n",
       "      <td>No</td>\n",
       "      <td>NaN</td>\n",
       "    </tr>\n",
       "    <tr>\n",
       "      <th>102</th>\n",
       "      <td>Venezuela</td>\n",
       "      <td>Yes[183][184]</td>\n",
       "      <td>Male and female</td>\n",
       "    </tr>\n",
       "    <tr>\n",
       "      <th>103</th>\n",
       "      <td>Vietnam</td>\n",
       "      <td>Yes</td>\n",
       "      <td>Male</td>\n",
       "    </tr>\n",
       "  </tbody>\n",
       "</table>\n",
       "<p>104 rows × 3 columns</p>\n",
       "</div>"
      ],
      "text/plain": [
       "             Country                                  Conscription[112]  \\\n",
       "0        Afghanistan                             No (abolished in 1992)   \n",
       "1            Albania                        No (abolished in 2010)[113]   \n",
       "2            Algeria                                                Yes   \n",
       "3             Angola                                                Yes   \n",
       "4          Argentina  No. Voluntary; conscription may be required fo...   \n",
       "..               ...                                                ...   \n",
       "99   United Kingdom   No. Required from 1916 until 1920 and from 193...   \n",
       "100   United States   No. Abandoned in 1973, but registration is sti...   \n",
       "101          Vanuatu                                                 No   \n",
       "102        Venezuela                                      Yes[183][184]   \n",
       "103          Vietnam                                                Yes   \n",
       "\n",
       "    Conscription sex  \n",
       "0                NaN  \n",
       "1                NaN  \n",
       "2               Male  \n",
       "3               Male  \n",
       "4                NaN  \n",
       "..               ...  \n",
       "99               NaN  \n",
       "100              NaN  \n",
       "101              NaN  \n",
       "102  Male and female  \n",
       "103             Male  \n",
       "\n",
       "[104 rows x 3 columns]"
      ]
     },
     "execution_count": 14,
     "metadata": {},
     "output_type": "execute_result"
    }
   ],
   "source": [
    "df = dfs[2].copy()\n",
    "# remove all (bracketed) bits in the Country column\n",
    "df['Country'] = df['Country'].str.replace(r'\\[.*?\\]|\\(.*?\\)', '', regex=True)\n",
    "def get_iso3(country):\n",
    "    return "
   ]
  }
 ],
 "metadata": {
  "kernelspec": {
   "display_name": "base",
   "language": "python",
   "name": "python3"
  },
  "language_info": {
   "codemirror_mode": {
    "name": "ipython",
    "version": 3
   },
   "file_extension": ".py",
   "mimetype": "text/x-python",
   "name": "python",
   "nbconvert_exporter": "python",
   "pygments_lexer": "ipython3",
   "version": "3.11.4"
  }
 },
 "nbformat": 4,
 "nbformat_minor": 2
}

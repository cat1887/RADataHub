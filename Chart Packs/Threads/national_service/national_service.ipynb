{
 "cells": [
  {
   "cell_type": "code",
   "execution_count": 1,
   "metadata": {},
   "outputs": [
    {
     "data": {
      "text/plain": [
       "ThemeRegistry.enable('light')"
      ]
     },
     "execution_count": 1,
     "metadata": {},
     "output_type": "execute_result"
    }
   ],
   "source": [
    "import pandas as pd\n",
    "import numpy as np\n",
    "import eco_style\n",
    "import altair as alt\n",
    "import pycountry\n",
    "\n",
    "alt.themes.enable('light')"
   ]
  },
  {
   "cell_type": "markdown",
   "metadata": {},
   "source": [
    "# Where has national service"
   ]
  },
  {
   "cell_type": "code",
   "execution_count": null,
   "metadata": {},
   "outputs": [],
   "source": []
  },
  {
   "cell_type": "code",
   "execution_count": 2,
   "metadata": {},
   "outputs": [],
   "source": [
    "# let's fetch from wikipedia, filter for Europe and manually verify\n",
    "dfs = pd.read_html(\"https://en.wikipedia.org/wiki/Conscription\")"
   ]
  },
  {
   "cell_type": "code",
   "execution_count": 3,
   "metadata": {},
   "outputs": [],
   "source": [
    "df = dfs[2].copy()\n",
    "# remove all (bracketed) bits in the Country column\n",
    "df['Country'] = df['Country'].str.replace(r'\\[.*?\\]|\\(.*?\\)', '', regex=True)\n",
    "def get_iso3(country):\n",
    "    return "
   ]
  },
  {
   "cell_type": "markdown",
   "metadata": {},
   "source": [
    "# Timeline Chart"
   ]
  },
  {
   "cell_type": "code",
   "execution_count": 5,
   "metadata": {},
   "outputs": [
    {
     "name": "stderr",
     "output_type": "stream",
     "text": [
      "/Users/finn/anaconda3/lib/python3.11/site-packages/altair/utils/core.py:395: FutureWarning: the convert_dtype parameter is deprecated and will be removed in a future version.  Do ``ser.astype(object).apply()`` instead if you want ``convert_dtype=False``.\n",
      "  col = df[col_name].apply(to_list_if_array, convert_dtype=False)\n",
      "/Users/finn/anaconda3/lib/python3.11/site-packages/altair/utils/core.py:395: FutureWarning: the convert_dtype parameter is deprecated and will be removed in a future version.  Do ``ser.astype(object).apply()`` instead if you want ``convert_dtype=False``.\n",
      "  col = df[col_name].apply(to_list_if_array, convert_dtype=False)\n",
      "/Users/finn/anaconda3/lib/python3.11/site-packages/altair/utils/core.py:395: FutureWarning: the convert_dtype parameter is deprecated and will be removed in a future version.  Do ``ser.astype(object).apply()`` instead if you want ``convert_dtype=False``.\n",
      "  col = df[col_name].apply(to_list_if_array, convert_dtype=False)\n"
     ]
    }
   ],
   "source": [
    "df = pd.read_csv(\"eur_conscription.csv\")\n",
    "df = df[['iso3', 'started_year', 'ended_year']]\n",
    "df.columns = ['iso3', 'start', 'end']\n",
    "df = df.query('end > start')\n",
    "\n",
    "exclude = [\n",
    "    \"FRA\" # France suspended conscription in 1997 but only officially ended it in 2001 but let's exclude it because it's a bit of a mess and lots of countries have suspended it\n",
    "\n",
    "]\n",
    "\n",
    "def get_name(x):\n",
    "    try:\n",
    "        res = pycountry.countries.get(alpha_3=x)\n",
    "        # if it has a common_name, use that\n",
    "        try:\n",
    "            return res.common_name\n",
    "        except AttributeError:\n",
    "            return res.name\n",
    "    except LookupError:\n",
    "        return None\n",
    "\n",
    "\n",
    "df['name'] = df['iso3'].apply(lambda x: get_name(x))\n",
    "\n",
    "df['start'] = pd.to_datetime(df['start'], format='%Y')\n",
    "df['end'] = pd.to_datetime(df['end'], format='%Y')\n",
    "\n",
    "df = df.sort_values('end')\n",
    "df['rank'] = np.arange(len(df))\n",
    "\n",
    "df['start_label'] = 'Start'\n",
    "df['end_label'] = 'End'\n",
    "\n",
    "base = alt.Chart(df).encode(\n",
    "    y=alt.X('name:N', sort=\"-x\", \n",
    "            axis=alt.Axis(domain=False,\n",
    "                          labelFontSize=13,\n",
    "                           labelColor=\"#1d1d1d\"),\n",
    "            title=None),\n",
    "    x=alt.X('start:T',\n",
    "            axis=alt.Axis(\n",
    "                labelFontSize=13,\n",
    "            ),\n",
    "            scale=alt.Scale(zero=False,\n",
    "                            domain=(pd.Timestamp('2000'),\n",
    "                                    pd.Timestamp('2024-12-31')),\n",
    "                                    clamp=True),\n",
    "                            ),\n",
    "\n",
    "    x2='end:T'\n",
    "\n",
    ")\n",
    "\n",
    "rules = base.mark_rule()\n",
    "\n",
    "# add filled start and end points\n",
    "start_points = base.transform_filter(\n",
    "    'year(datum.start) >1999').mark_circle(\n",
    "        size=75,\n",
    "        opacity=1,\n",
    "        color=\"#36b7b4\")\n",
    "end_points = base.transform_filter('year(datum.end) <2025').transform_calculate(\n",
    "    start='datum.end' # this is a hack - if we use the end in the encoding, it'll break the ordering\n",
    ").mark_circle(color=\"#e6224b\", size=75, opacity=1)\n",
    "\n",
    "# text on Sweden to annotate the start and end points\n",
    "swe_start_text = base.transform_filter('datum.iso3 == \"SWE\" && year(datum.start) > 2005').mark_text(\n",
    "    align='right',\n",
    "    baseline='middle',\n",
    "    dx=-8,\n",
    "    dy=0,\n",
    "    fontSize=13,\n",
    "    color=\"#36b7b4\",\n",
    "    text='Start'\n",
    ").encode(\n",
    "    text=alt.Text('start_label')\n",
    ")\n",
    "\n",
    "swe_end_text = base.transform_filter('datum.iso3 == \"SWE\" && year(datum.end) < 2020').transform_calculate(\n",
    "    start='datum.end' # same hack as above\n",
    ").mark_text(\n",
    "        align='left',\n",
    "    baseline='middle',\n",
    "    dx=8,\n",
    "    dy=0,\n",
    "    fontSize=13,\n",
    "    color=\"#e6224b\",\n",
    "    text='End'\n",
    ").encode(\n",
    "    text=alt.Text('end_label')\n",
    ")\n",
    "chart = rules + start_points+end_points + swe_start_text + swe_end_text\n",
    "\n",
    "chart = chart.properties(\n",
    "    height=600,\n",
    "    width=400,\n",
    "    title = alt.TitleParams(\n",
    "        text=\"National Service in the 21st Century\",\n",
    "        subtitle=[\"European countries with national service since 2000\", \"Various Sources\", \"\"],\n",
    "        fontSize=16,\n",
    "        subtitleFontSize=12,\n",
    "        anchor=\"start\",\n",
    "        dx=140\n",
    "    )\n",
    ")\n",
    "\n",
    "chart.save(\"timeline.json\")\n"
   ]
  },
  {
   "cell_type": "markdown",
   "metadata": {},
   "source": [
    "# Neet"
   ]
  },
  {
   "cell_type": "code",
   "execution_count": 8,
   "metadata": {},
   "outputs": [
    {
     "name": "stdout",
     "output_type": "stream",
     "text": [
      "Could not find OECD - Average\n",
      "Could not find Türkiye\n"
     ]
    },
    {
     "name": "stderr",
     "output_type": "stream",
     "text": [
      "/Users/finn/anaconda3/lib/python3.11/site-packages/altair/utils/core.py:395: FutureWarning: the convert_dtype parameter is deprecated and will be removed in a future version.  Do ``ser.astype(object).apply()`` instead if you want ``convert_dtype=False``.\n",
      "  col = df[col_name].apply(to_list_if_array, convert_dtype=False)\n",
      "/Users/finn/anaconda3/lib/python3.11/site-packages/altair/utils/core.py:395: FutureWarning: the convert_dtype parameter is deprecated and will be removed in a future version.  Do ``ser.astype(object).apply()`` instead if you want ``convert_dtype=False``.\n",
      "  col = df[col_name].apply(to_list_if_array, convert_dtype=False)\n",
      "/Users/finn/anaconda3/lib/python3.11/site-packages/altair/utils/core.py:395: FutureWarning: the convert_dtype parameter is deprecated and will be removed in a future version.  Do ``ser.astype(object).apply()`` instead if you want ``convert_dtype=False``.\n",
      "  col = df[col_name].apply(to_list_if_array, convert_dtype=False)\n"
     ]
    }
   ],
   "source": [
    "dfs = pd.read_html(\"oecd_neet.html\")\n",
    "df = dfs[0]\n",
    "\n",
    "df.columns = [c.replace(\"▾\", \"\").strip() for c in df.columns]\n",
    "df = df.melt(id_vars=['Location'], var_name='date', value_name='value')\n",
    "df = df.rename(columns={'Location': 'country'})\n",
    "\n",
    "iso3s = {}\n",
    "for country in df['country'].unique():\n",
    "    try:\n",
    "        result = pycountry.countries.search_fuzzy(country)\n",
    "        iso3 = result[0].alpha_3\n",
    "        iso3s[country] = iso3\n",
    "    except LookupError:\n",
    "        print(f\"Could not find {country}\")\n",
    "        iso3s[country] = None\n",
    "\n",
    "df['iso3'] = df['country'].apply(lambda x: iso3s[x])\n",
    "\n",
    "df = df.dropna(subset=['value'])\n",
    "OECD_iso3 = [  \"AUS\",  \"AUT\",  \"BEL\",  \"CAN\",  \"CHL\",  \"COL\",  \"CRI\",  \"CZE\",  \"DNK\",  \"EST\",  \"FIN\",  \"FRA\",  \"DEU\",  \"GRC\",  \"HUN\",  \"ISL\",  \"IRL\",  \"ISR\",  \"ITA\",  \"JPN\",  \"KOR\",  \"LVA\",  \"LTU\",  \"LUX\",  \"MEX\",  \"NLD\",  \"NZL\",  \"NOR\",  \"POL\",  \"PRT\",  \"SVK\",  \"SVN\",  \"ESP\",  \"SWE\",  \"CHE\",  \"TUR\",  \"GBR\",  \"USA\"]\n",
    "\n",
    "df['value'] = df['value']/100\n",
    "\n",
    "df = df.query('iso3 in @OECD_iso3')\n",
    "# get the low and high 10pctiles\n",
    "# corp_df['low'] = corp_df.groupby(by=[\"Time\"])['Value'].transform(lambda x: x.quantile(0.1))\n",
    "df['low'] = df.groupby(by=[\"date\"])['value'].transform(lambda x: x.quantile(0.1))\n",
    "df['high'] = df.groupby(by=[\"date\"])['value'].transform(lambda x: x.quantile(0.9))\n",
    "df['median'] = df.groupby(by=[\"date\"])['value'].transform('median')\n",
    "df['rank'] = df.groupby(by=[\"date\"])['value'].rank(ascending=False)\n",
    "\n",
    "df\n",
    "\n",
    "#      \"category\" : [\"#36B7B4\",\"#E6224B\",\"#F4C245\",\"#0063AF\",\"#00A767\",\"#179FDB\",\"#EB5C2E\"],\n",
    "highlight_countries = {\n",
    "    \"USA\": \"#36B7B4\",\n",
    "    \"GBR\": \"#E6224B\",\n",
    "    \"FRA\": \"#F4C245\",\n",
    "    \"DEU\": \"#0063AF\",\n",
    "    \"other\": \"rgba(0,0,0,0.1)\"\n",
    "}\n",
    "\n",
    "df['color'] = df['iso3'].apply(lambda x: highlight_countries.get(x, highlight_countries['other']))\n",
    "# add a label to the latest value for each country\n",
    "df['label'] = df.apply(lambda x: x['country'] if x['date'] == '2022' and x['iso3'] in highlight_countries else '', axis=1)\n",
    "df['highlighted'] = df['iso3'].apply(lambda x: x in highlight_countries)\n",
    "\n",
    "df = df.sort_values('date')\n",
    "df['date'] = pd.to_numeric(df['date'])\n",
    "\n",
    "df = df.query('iso3 in @highlight_countries.keys() and date > 1999') \n",
    "\n",
    "df['date'] = pd.to_datetime(df['date'], format='%Y')\n",
    "\n",
    "base = alt.Chart(df).encode(\n",
    "    x=alt.X('date:T', axis=alt.Axis(), scale=alt.Scale()),\n",
    "    y=alt.Y('value:Q', axis=alt.Axis(title=None, format=\"%\")),\n",
    "    color=alt.Color('color:N', scale=None),\n",
    "    detail='country:N',\n",
    ")\n",
    "\n",
    "lines = base.mark_line().encode(\n",
    "    size=alt.condition(alt.datum.iso3 == 'GBR', alt.value(2), alt.value(1))\n",
    ")\n",
    "\n",
    "end_labels = base.transform_filter('datum.highlighted').mark_text(\n",
    "    align='left',\n",
    "    baseline='middle',\n",
    "    dx=5,\n",
    "    dy=0,\n",
    "    fontSize=alt.expr(\"datum.iso3 == 'GBR' ? 13 : 11\"),\n",
    ").encode(\n",
    "    text=alt.Text('label'),\n",
    ")\n",
    "\n",
    "# shade the end area\n",
    "shade = base.mark_area(opacity=1, color=\"rgba(24, 42, 56, 1)\").encode(\n",
    "    x=alt.X('date:T'),\n",
    "    y=alt.Y('low:Q'),\n",
    "    y2=alt.Y2('high:Q'),\n",
    "    color=alt.value(\"rgb(232, 232, 232)\")\n",
    ")\n",
    "\n",
    "chart = shade + lines + end_labels\n",
    "\n",
    "chart = chart.properties(\n",
    "    width=400,\n",
    "    height=300,\n",
    "    title=alt.TitleParams(\n",
    "        text=\"NEET Rates in OECD Countries\",\n",
    "        subtitle=[\"15-19 year-olds not in education, employment or training\", \"OECD coutries, 10th-90th percentiles shaded\", \"\"],\n",
    "        anchor=\"start\",\n",
    "        fontSize=16,\n",
    "        color=\"#808080\",\n",
    "        subtitleColor=\"#676A86\",\n",
    "        subtitleFontSize=12\n",
    "    )\n",
    ")\n",
    "\n",
    "chart.save(\"neet.json\")\n"
   ]
  },
  {
   "cell_type": "code",
   "execution_count": null,
   "metadata": {},
   "outputs": [],
   "source": []
  },
  {
   "cell_type": "code",
   "execution_count": null,
   "metadata": {},
   "outputs": [],
   "source": []
  },
  {
   "cell_type": "code",
   "execution_count": null,
   "metadata": {},
   "outputs": [],
   "source": []
  }
 ],
 "metadata": {
  "kernelspec": {
   "display_name": "base",
   "language": "python",
   "name": "python3"
  },
  "language_info": {
   "codemirror_mode": {
    "name": "ipython",
    "version": 3
   },
   "file_extension": ".py",
   "mimetype": "text/x-python",
   "name": "python",
   "nbconvert_exporter": "python",
   "pygments_lexer": "ipython3",
   "version": "3.11.4"
  }
 },
 "nbformat": 4,
 "nbformat_minor": 2
}

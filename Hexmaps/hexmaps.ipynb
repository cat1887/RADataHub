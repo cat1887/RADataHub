{
 "cells": [
  {
   "cell_type": "code",
   "execution_count": 34,
   "metadata": {},
   "outputs": [],
   "source": [
    "import pandas as pd\n",
    "import altair as alt"
   ]
  },
  {
   "cell_type": "markdown",
   "metadata": {},
   "source": [
    "## Notional Results"
   ]
  },
  {
   "cell_type": "code",
   "execution_count": 7,
   "metadata": {},
   "outputs": [],
   "source": [
    "df = pd.read_excel(\"estimates-2019-general-election-result-new-constituencies-data.xlsx\", sheet_name=\"2. results\")\n",
    "df = df.rename(columns={\"ONS code\": \"GSScode\", \"Win19\": \"winner_2019\"})\n",
    "df = df[['GSScode', 'winner_2019']]\n",
    "elec_df = df.copy()\n",
    "df.to_csv(\"2019_results.csv\", index=False)"
   ]
  },
  {
   "cell_type": "markdown",
   "metadata": {},
   "source": [
    "## Indicators"
   ]
  },
  {
   "cell_type": "code",
   "execution_count": 9,
   "metadata": {},
   "outputs": [],
   "source": [
    "df = pd.read_csv(\"https://www.nomisweb.co.uk/api/v01/dataset/NM_17_5.data.csv?geography=721420327,721420332,721420333,721420399,721420409,721420416,721420437,721420470,721420498,721420511,721420521,721420533,721420593,721420594,721420603...721420605,721420608,721420615,721420623,721420666,721420718,721420744,721420745,721420757,721420783,721420793,721420291,721420296,721420302,721420317,721420328...721420331,721420336...721420339,721420368,721420370,721420371,721420378,721420384,721420389,721420390,721420396,721420404,721420411,721420448,721420468,721420477,721420503,721420512,721420525,721420543,721420544,721420555,721420563...721420567,721420573,721420576,721420578...721420580,721420587,721420598,721420641,721420642,721420648,721420650,721420659,721420669,721420672,721420676,721420681,721420685,721420689,721420717,721420730,721420735,721420736,721420741,721420743,721420754,721420765,721420787,721420790,721420791,721420803,721420806,721420809...721420811,721420815,721420824,721420828,721420300,721420301,721420313,721420344...721420346,721420353,721420354,721420373,721420403,721420422,721420424...721420426,721420476,721420481,721420488,721420495,721420523,721420534,721420539...721420541,721420545...721420551,721420609,721420644,721420649,721420654,721420662,721420670,721420677,721420678,721420687,721420688,721420690,721420692...721420696,721420698,721420701,721420732,721420770,721420786,721420808,721420830,721420831,721420292,721420294,721420305,721420335,721420340,721420366,721420391,721420405,721420418...721420421,721420454,721420469,721420471,721420479,721420492,721420513,721420514,721420537,721420552...721420554,721420562,721420568,721420569,721420581,721420583,721420588,721420590,721420601,721420617,721420630,721420632,721420633,721420636...721420638,721420683,721420684,721420697,721420702,721420709,721420713,721420714,721420716,721420797,721420290,721420318...721420326,721420364,721420369,721420376,721420406...721420408,721420429,721420430,721420487,721420507,721420535,721420542,721420561,721420584,721420606,721420621,721420624,721420626,721420639,721420667,721420679,721420699,721420704,721420705,721420719,721420739,721420740,721420746...721420750,721420752,721420761,721420764,721420767,721420769,721420773,721420788,721420792,721420800,721420805,721420820...721420823,721420827,721420303,721420310,721420347,721420351,721420362,721420365,721420372,721420375,721420380,721420382,721420385,721420400,721420402,721420432,721420450,721420452,721420482,721420493,721420494,721420499,721420504,721420509,721420510,721420515,721420524,721420528,721420570...721420572,721420577,721420585,721420591,721420610,721420616,721420619,721420622,721420627,721420628,721420631,721420634,721420635,721420651,721420663,721420706,721420707,721420715,721420720,721420722,721420723,721420727,721420728,721420733,721420738,721420742,721420756,721420772,721420794,721420795,721420799,721420804,721420816,721420299,721420307,721420309,721420311,721420312,721420315,721420348...721420350,721420363,721420379,721420386,721420393,721420395,721420398,721420401,721420412...721420415,721420431,721420433...721420435,721420439,721420447,721420449,721420451,721420455,721420462,721420464,721420483,721420485,721420486,721420490,721420491,721420496,721420497,721420502,721420505,721420516,721420518,721420519,721420526,721420527,721420531,721420532,721420536,721420538,721420557...721420560,721420597,721420640,721420643,721420647,721420656,721420660,721420661,721420671,721420674,721420680,721420729,721420751,721420753,721420760,721420776,721420779,721420782,721420784,721420785,721420789,721420802,721420812,721420289,721420293,721420295,721420297,721420298,721420304,721420308,721420314,721420316,721420334,721420343,721420355,721420356,721420367,721420377,721420383,721420388,721420392,721420410,721420417,721420423,721420427,721420428,721420436,721420438,721420440...721420442,721420444...721420446,721420453,721420456,721420459...721420461,721420465,721420472,721420475,721420478,721420480,721420484,721420489,721420500,721420501,721420506,721420508,721420520,721420522,721420529,721420530,721420556,721420574,721420575,721420586,721420592,721420595,721420596,721420599,721420600,721420602,721420618,721420629,721420645,721420646,721420657,721420658,721420664,721420665,721420668,721420673,721420675,721420682,721420691,721420700,721420703,721420725,721420726,721420731,721420758,721420759,721420775,721420781,721420796,721420813,721420814,721420817...721420819,721420825,721420826,721420306,721420341,721420342,721420352,721420357...721420361,721420374,721420381,721420387,721420394,721420397,721420443,721420457,721420458,721420463,721420466,721420467,721420473,721420474,721420517,721420582,721420589,721420607,721420611...721420614,721420620,721420625,721420652,721420653,721420655,721420686,721420708,721420710...721420712,721420721,721420724,721420734,721420737,721420755,721420762,721420763,721420766,721420768,721420771,721420774,721420777,721420778,721420780,721420798,721420801,721420807,721420829,721420832...721420920&date=latest&variable=18,45,1902&measures=20599,21001,21002,21003\")\n",
    "nomis_df= df.copy()"
   ]
  },
  {
   "cell_type": "code",
   "execution_count": 31,
   "metadata": {},
   "outputs": [
    {
     "data": {
      "text/html": [
       "<div>\n",
       "<style scoped>\n",
       "    .dataframe tbody tr th:only-of-type {\n",
       "        vertical-align: middle;\n",
       "    }\n",
       "\n",
       "    .dataframe tbody tr th {\n",
       "        vertical-align: top;\n",
       "    }\n",
       "\n",
       "    .dataframe thead th {\n",
       "        text-align: right;\n",
       "    }\n",
       "</style>\n",
       "<table border=\"1\" class=\"dataframe\">\n",
       "  <thead>\n",
       "    <tr style=\"text-align: right;\">\n",
       "      <th>series</th>\n",
       "      <th>GSScode</th>\n",
       "      <th>rqf4_rate</th>\n",
       "      <th>activity_rate</th>\n",
       "      <th>employment_rate</th>\n",
       "      <th>activity_rate_quintile</th>\n",
       "      <th>employment_rate_quintile</th>\n",
       "      <th>rqf4_rate_quintile</th>\n",
       "    </tr>\n",
       "  </thead>\n",
       "  <tbody>\n",
       "    <tr>\n",
       "      <th>0</th>\n",
       "      <td>E14001063</td>\n",
       "      <td>43.3</td>\n",
       "      <td>86.6</td>\n",
       "      <td>86.6</td>\n",
       "      <td>Highest Quintile</td>\n",
       "      <td>Highest Quintile</td>\n",
       "      <td>Third Quintile</td>\n",
       "    </tr>\n",
       "    <tr>\n",
       "      <th>1</th>\n",
       "      <td>E14001064</td>\n",
       "      <td>36.5</td>\n",
       "      <td>85.8</td>\n",
       "      <td>80.5</td>\n",
       "      <td>Highest Quintile</td>\n",
       "      <td>Fourth Quintile</td>\n",
       "      <td>Second Quintile</td>\n",
       "    </tr>\n",
       "    <tr>\n",
       "      <th>2</th>\n",
       "      <td>E14001065</td>\n",
       "      <td>62.1</td>\n",
       "      <td>76.8</td>\n",
       "      <td>73.3</td>\n",
       "      <td>Second Quintile</td>\n",
       "      <td>Second Quintile</td>\n",
       "      <td>Highest Quintile</td>\n",
       "    </tr>\n",
       "    <tr>\n",
       "      <th>3</th>\n",
       "      <td>E14001066</td>\n",
       "      <td>32.2</td>\n",
       "      <td>76.8</td>\n",
       "      <td>74.9</td>\n",
       "      <td>Second Quintile</td>\n",
       "      <td>Third Quintile</td>\n",
       "      <td>Lowest Quintile</td>\n",
       "    </tr>\n",
       "    <tr>\n",
       "      <th>4</th>\n",
       "      <td>E14001067</td>\n",
       "      <td>63.2</td>\n",
       "      <td>78.5</td>\n",
       "      <td>72.6</td>\n",
       "      <td>Third Quintile</td>\n",
       "      <td>Second Quintile</td>\n",
       "      <td>Highest Quintile</td>\n",
       "    </tr>\n",
       "    <tr>\n",
       "      <th>...</th>\n",
       "      <td>...</td>\n",
       "      <td>...</td>\n",
       "      <td>...</td>\n",
       "      <td>...</td>\n",
       "      <td>...</td>\n",
       "      <td>...</td>\n",
       "      <td>...</td>\n",
       "    </tr>\n",
       "    <tr>\n",
       "      <th>627</th>\n",
       "      <td>W07000108</td>\n",
       "      <td>46.3</td>\n",
       "      <td>71.9</td>\n",
       "      <td>67.1</td>\n",
       "      <td>Lowest Quintile</td>\n",
       "      <td>Lowest Quintile</td>\n",
       "      <td>Third Quintile</td>\n",
       "    </tr>\n",
       "    <tr>\n",
       "      <th>628</th>\n",
       "      <td>W07000109</td>\n",
       "      <td>34.3</td>\n",
       "      <td>78.8</td>\n",
       "      <td>76.4</td>\n",
       "      <td>Third Quintile</td>\n",
       "      <td>Third Quintile</td>\n",
       "      <td>Lowest Quintile</td>\n",
       "    </tr>\n",
       "    <tr>\n",
       "      <th>629</th>\n",
       "      <td>W07000110</td>\n",
       "      <td>43.8</td>\n",
       "      <td>75.5</td>\n",
       "      <td>74.9</td>\n",
       "      <td>Second Quintile</td>\n",
       "      <td>Third Quintile</td>\n",
       "      <td>Third Quintile</td>\n",
       "    </tr>\n",
       "    <tr>\n",
       "      <th>630</th>\n",
       "      <td>W07000111</td>\n",
       "      <td>48.3</td>\n",
       "      <td>81.0</td>\n",
       "      <td>79.5</td>\n",
       "      <td>Fourth Quintile</td>\n",
       "      <td>Fourth Quintile</td>\n",
       "      <td>Third Quintile</td>\n",
       "    </tr>\n",
       "    <tr>\n",
       "      <th>631</th>\n",
       "      <td>W07000112</td>\n",
       "      <td>39.8</td>\n",
       "      <td>81.6</td>\n",
       "      <td>77.3</td>\n",
       "      <td>Fourth Quintile</td>\n",
       "      <td>Third Quintile</td>\n",
       "      <td>Second Quintile</td>\n",
       "    </tr>\n",
       "  </tbody>\n",
       "</table>\n",
       "<p>632 rows × 7 columns</p>\n",
       "</div>"
      ],
      "text/plain": [
       "series    GSScode  rqf4_rate  activity_rate  employment_rate  \\\n",
       "0       E14001063       43.3           86.6             86.6   \n",
       "1       E14001064       36.5           85.8             80.5   \n",
       "2       E14001065       62.1           76.8             73.3   \n",
       "3       E14001066       32.2           76.8             74.9   \n",
       "4       E14001067       63.2           78.5             72.6   \n",
       "..            ...        ...            ...              ...   \n",
       "627     W07000108       46.3           71.9             67.1   \n",
       "628     W07000109       34.3           78.8             76.4   \n",
       "629     W07000110       43.8           75.5             74.9   \n",
       "630     W07000111       48.3           81.0             79.5   \n",
       "631     W07000112       39.8           81.6             77.3   \n",
       "\n",
       "series activity_rate_quintile employment_rate_quintile rqf4_rate_quintile  \n",
       "0            Highest Quintile         Highest Quintile     Third Quintile  \n",
       "1            Highest Quintile          Fourth Quintile    Second Quintile  \n",
       "2             Second Quintile          Second Quintile   Highest Quintile  \n",
       "3             Second Quintile           Third Quintile    Lowest Quintile  \n",
       "4              Third Quintile          Second Quintile   Highest Quintile  \n",
       "..                        ...                      ...                ...  \n",
       "627           Lowest Quintile          Lowest Quintile     Third Quintile  \n",
       "628            Third Quintile           Third Quintile    Lowest Quintile  \n",
       "629           Second Quintile           Third Quintile     Third Quintile  \n",
       "630           Fourth Quintile          Fourth Quintile     Third Quintile  \n",
       "631           Fourth Quintile           Third Quintile    Second Quintile  \n",
       "\n",
       "[632 rows x 7 columns]"
      ]
     },
     "execution_count": 31,
     "metadata": {},
     "output_type": "execute_result"
    }
   ],
   "source": [
    "df = nomis_df.copy()\n",
    "df = df[[\"GEOGRAPHY_CODE\", \"MEASURES_NAME\", \"VARIABLE_NAME\", \"OBS_VALUE\"]]\n",
    "df = df.rename(columns={\"GEOGRAPHY_CODE\": \"GSScode\", \"OBS_VALUE\": \"value\", \"MEASURES_NAME\": \"measure\", \"VARIABLE_NAME\": \"series\"})\n",
    "df = df.query(\"measure == 'Variable'\")\n",
    "df = df[['GSScode', 'series', 'value']]\n",
    "df = df.pivot(index='GSScode', columns='series', values='value').reset_index(drop=False)\n",
    "\n",
    "# Economic activity rate - aged 16-64    2528\n",
    "# Employment rate - aged 16-64           2528\n",
    "# % with RQF4+ - aged 16-64              2528\n",
    "\n",
    "series_rebinds = {\n",
    "    'Economic activity rate - aged 16-64': 'activity_rate',\n",
    "    'Employment rate - aged 16-64': 'employment_rate',\n",
    "    '% with RQF4+ - aged 16-64': 'rqf4_rate'\n",
    "}\n",
    "df = df.rename(columns=series_rebinds)\n",
    "\n",
    "# add in the quintiles\n",
    "for col in ['activity_rate', 'employment_rate', 'rqf4_rate']:\n",
    "    df[f'{col}_quintile'] = pd.qcut(df[col], 5, labels=[\"Lowest Quintile\", \"Second Quintile\", \"Third Quintile\", \"Fourth Quintile\", \"Highest Quintile\"])\n",
    "\n",
    "\n",
    "lfs_df = df.copy()\n",
    "lfs_df"
   ]
  },
  {
   "cell_type": "code",
   "execution_count": 32,
   "metadata": {},
   "outputs": [],
   "source": [
    "df = pd.merge(elec_df, lfs_df, on=\"GSScode\", how=\"left\")\n",
    "df.to_csv(\"indicators.csv\", index=False)"
   ]
  },
  {
   "cell_type": "code",
   "execution_count": 33,
   "metadata": {},
   "outputs": [
    {
     "ename": "AttributeError",
     "evalue": "'DataFrame' object has no attribute 'VARIABLE_NAME'",
     "output_type": "error",
     "traceback": [
      "\u001b[0;31m---------------------------------------------------------------------------\u001b[0m",
      "\u001b[0;31mAttributeError\u001b[0m                            Traceback (most recent call last)",
      "Cell \u001b[0;32mIn[33], line 1\u001b[0m\n\u001b[0;32m----> 1\u001b[0m df\u001b[38;5;241m.\u001b[39mVARIABLE_NAME\u001b[38;5;241m.\u001b[39mvalue_counts()\n",
      "File \u001b[0;32m~/anaconda3/lib/python3.11/site-packages/pandas/core/generic.py:6204\u001b[0m, in \u001b[0;36mNDFrame.__getattr__\u001b[0;34m(self, name)\u001b[0m\n\u001b[1;32m   6197\u001b[0m \u001b[38;5;28;01mif\u001b[39;00m (\n\u001b[1;32m   6198\u001b[0m     name \u001b[38;5;129;01mnot\u001b[39;00m \u001b[38;5;129;01min\u001b[39;00m \u001b[38;5;28mself\u001b[39m\u001b[38;5;241m.\u001b[39m_internal_names_set\n\u001b[1;32m   6199\u001b[0m     \u001b[38;5;129;01mand\u001b[39;00m name \u001b[38;5;129;01mnot\u001b[39;00m \u001b[38;5;129;01min\u001b[39;00m \u001b[38;5;28mself\u001b[39m\u001b[38;5;241m.\u001b[39m_metadata\n\u001b[1;32m   6200\u001b[0m     \u001b[38;5;129;01mand\u001b[39;00m name \u001b[38;5;129;01mnot\u001b[39;00m \u001b[38;5;129;01min\u001b[39;00m \u001b[38;5;28mself\u001b[39m\u001b[38;5;241m.\u001b[39m_accessors\n\u001b[1;32m   6201\u001b[0m     \u001b[38;5;129;01mand\u001b[39;00m \u001b[38;5;28mself\u001b[39m\u001b[38;5;241m.\u001b[39m_info_axis\u001b[38;5;241m.\u001b[39m_can_hold_identifiers_and_holds_name(name)\n\u001b[1;32m   6202\u001b[0m ):\n\u001b[1;32m   6203\u001b[0m     \u001b[38;5;28;01mreturn\u001b[39;00m \u001b[38;5;28mself\u001b[39m[name]\n\u001b[0;32m-> 6204\u001b[0m \u001b[38;5;28;01mreturn\u001b[39;00m \u001b[38;5;28mobject\u001b[39m\u001b[38;5;241m.\u001b[39m\u001b[38;5;21m__getattribute__\u001b[39m(\u001b[38;5;28mself\u001b[39m, name)\n",
      "\u001b[0;31mAttributeError\u001b[0m: 'DataFrame' object has no attribute 'VARIABLE_NAME'"
     ]
    }
   ],
   "source": [
    "df.VARIABLE_NAME.value_counts()"
   ]
  },
  {
   "cell_type": "markdown",
   "metadata": {},
   "source": [
    "# Hex Step"
   ]
  },
  {
   "cell_type": "code",
   "execution_count": null,
   "metadata": {},
   "outputs": [],
   "source": []
  }
 ],
 "metadata": {
  "kernelspec": {
   "display_name": "base",
   "language": "python",
   "name": "python3"
  },
  "language_info": {
   "codemirror_mode": {
    "name": "ipython",
    "version": 3
   },
   "file_extension": ".py",
   "mimetype": "text/x-python",
   "name": "python",
   "nbconvert_exporter": "python",
   "pygments_lexer": "ipython3",
   "version": "3.11.4"
  }
 },
 "nbformat": 4,
 "nbformat_minor": 2
}

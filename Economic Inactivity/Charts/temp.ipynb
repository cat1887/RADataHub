{
 "cells": [
  {
   "cell_type": "code",
   "execution_count": 5,
   "metadata": {},
   "outputs": [],
   "source": [
    "import os\n",
    "import json\n",
    "# list all files in directory\n",
    "jsons = []\n",
    "for file in os.listdir(os.getcwd()):\n",
    "    if file.endswith(\".json\"):\n",
    "        jsons.append(file)"
   ]
  },
  {
   "cell_type": "code",
   "execution_count": 6,
   "metadata": {},
   "outputs": [
    {
     "data": {
      "text/plain": [
       "'[\"male_reasons_count.json\", \"Belfast_home.json\", \"NI_home.json\", \"NI_sick_graph.json\", \"glasgow_constituencies.json\", \"NI_sick_map.json\", \"sct_headline.json\", \"NI_Inactive.json\", \"Belfast_Inactive.json\", \"sct_sick_graph.json\", \"UK_gender_count.json\", \"inver_glasgow.json\", \"constituency_level.json\", \"sct_50_64.json\", \"ni_50_64_inac.json\", \"NI_headline.json\", \"UK_reasons_count.json\", \"UK_age_count.json\", \"belfast_sick.json\", \"UK_gender_rate.json\", \"female_reasons_count.json\"]'"
      ]
     },
     "execution_count": 6,
     "metadata": {},
     "output_type": "execute_result"
    }
   ],
   "source": [
    "json.dumps(jsons)"
   ]
  },
  {
   "cell_type": "code",
   "execution_count": null,
   "metadata": {},
   "outputs": [],
   "source": []
  }
 ],
 "metadata": {
  "kernelspec": {
   "display_name": "Python 3",
   "language": "python",
   "name": "python3"
  },
  "language_info": {
   "codemirror_mode": {
    "name": "ipython",
    "version": 3
   },
   "file_extension": ".py",
   "mimetype": "text/x-python",
   "name": "python",
   "nbconvert_exporter": "python",
   "pygments_lexer": "ipython3",
   "version": "3.9.6"
  },
  "orig_nbformat": 4
 },
 "nbformat": 4,
 "nbformat_minor": 2
}

{
 "cells": [
  {
   "cell_type": "markdown",
   "metadata": {},
   "source": [
    "#### United States\n",
    "\n",
    "Let's explore the data series currently available for the United States."
   ]
  },
  {
   "cell_type": "code",
   "execution_count": 2,
   "metadata": {},
   "outputs": [],
   "source": [
    "import pandas as pd"
   ]
  },
  {
   "cell_type": "code",
   "execution_count": 3,
   "metadata": {},
   "outputs": [],
   "source": [
    "df = pd.read_csv('/Users/joshhellings/Documents/ECO/api/metadata-staging.csv')"
   ]
  },
  {
   "cell_type": "code",
   "execution_count": 4,
   "metadata": {},
   "outputs": [],
   "source": [
    "# filter for usa\n",
    "df_usa = df[df['country'] == 'usa']"
   ]
  },
  {
   "cell_type": "code",
   "execution_count": 5,
   "metadata": {},
   "outputs": [
    {
     "data": {
      "text/html": [
       "<div>\n",
       "<style scoped>\n",
       "    .dataframe tbody tr th:only-of-type {\n",
       "        vertical-align: middle;\n",
       "    }\n",
       "\n",
       "    .dataframe tbody tr th {\n",
       "        vertical-align: top;\n",
       "    }\n",
       "\n",
       "    .dataframe thead th {\n",
       "        text-align: right;\n",
       "    }\n",
       "</style>\n",
       "<table border=\"1\" class=\"dataframe\">\n",
       "  <thead>\n",
       "    <tr style=\"text-align: right;\">\n",
       "      <th></th>\n",
       "      <th>country_full</th>\n",
       "      <th>country</th>\n",
       "      <th>ecoSeries</th>\n",
       "      <th>ecoAPI</th>\n",
       "      <th>localAPI</th>\n",
       "      <th>localSeries</th>\n",
       "      <th>localDataset</th>\n",
       "      <th>Title</th>\n",
       "      <th>SubTitle</th>\n",
       "      <th>API_base</th>\n",
       "      <th>...</th>\n",
       "      <th>description</th>\n",
       "      <th>units</th>\n",
       "      <th>date</th>\n",
       "      <th>field</th>\n",
       "      <th>multiplier</th>\n",
       "      <th>date_keys</th>\n",
       "      <th>value_keys</th>\n",
       "      <th>filter</th>\n",
       "      <th>orient</th>\n",
       "      <th>use_cache</th>\n",
       "    </tr>\n",
       "  </thead>\n",
       "  <tbody>\n",
       "    <tr>\n",
       "      <th>192</th>\n",
       "      <td>USA</td>\n",
       "      <td>usa</td>\n",
       "      <td>debt</td>\n",
       "      <td>https://api.economicsobservatory.com/usa/debt</td>\n",
       "      <td>https://api.stlouisfed.org/fred/series/observa...</td>\n",
       "      <td>GFDEGDQ188S</td>\n",
       "      <td>NaN</td>\n",
       "      <td>Debt</td>\n",
       "      <td>Public Sector Net Debt, % GDP | Source: FRED t...</td>\n",
       "      <td>https://api.stlouisfed.org/fred/series/observa...</td>\n",
       "      <td>...</td>\n",
       "      <td>NaN</td>\n",
       "      <td>% of GDP, Seasonally Adjusted</td>\n",
       "      <td>observations.date</td>\n",
       "      <td>observations.value</td>\n",
       "      <td>1</td>\n",
       "      <td>NaN</td>\n",
       "      <td>NaN</td>\n",
       "      <td>NaN</td>\n",
       "      <td>NaN</td>\n",
       "      <td>0</td>\n",
       "    </tr>\n",
       "    <tr>\n",
       "      <th>193</th>\n",
       "      <td>USA</td>\n",
       "      <td>usa</td>\n",
       "      <td>expo</td>\n",
       "      <td>https://api.economicsobservatory.com/usa/expo</td>\n",
       "      <td>https://api.stlouisfed.org/fred/series/observa...</td>\n",
       "      <td>EXPGS</td>\n",
       "      <td>NaN</td>\n",
       "      <td>Exports</td>\n",
       "      <td>Goods and Services, billion USD | Source: FRED...</td>\n",
       "      <td>https://api.stlouisfed.org/fred/series/observa...</td>\n",
       "      <td>...</td>\n",
       "      <td>NaN</td>\n",
       "      <td>$ billion USD, Seasonally Adjusted Annual Rate</td>\n",
       "      <td>observations.date</td>\n",
       "      <td>observations.value</td>\n",
       "      <td>1</td>\n",
       "      <td>NaN</td>\n",
       "      <td>NaN</td>\n",
       "      <td>NaN</td>\n",
       "      <td>NaN</td>\n",
       "      <td>0</td>\n",
       "    </tr>\n",
       "    <tr>\n",
       "      <th>194</th>\n",
       "      <td>USA</td>\n",
       "      <td>usa</td>\n",
       "      <td>grow</td>\n",
       "      <td>https://api.economicsobservatory.com/usa/grow</td>\n",
       "      <td>https://api.stlouisfed.org/fred/series/observa...</td>\n",
       "      <td>A191RL1Q225SBEA</td>\n",
       "      <td>NaN</td>\n",
       "      <td>GDP Growth</td>\n",
       "      <td>Annually, %| Source: FRED through ECO API</td>\n",
       "      <td>https://api.stlouisfed.org/fred/series/observa...</td>\n",
       "      <td>...</td>\n",
       "      <td>NaN</td>\n",
       "      <td>%</td>\n",
       "      <td>observations.date</td>\n",
       "      <td>observations.value</td>\n",
       "      <td>1</td>\n",
       "      <td>NaN</td>\n",
       "      <td>NaN</td>\n",
       "      <td>NaN</td>\n",
       "      <td>NaN</td>\n",
       "      <td>0</td>\n",
       "    </tr>\n",
       "    <tr>\n",
       "      <th>195</th>\n",
       "      <td>USA</td>\n",
       "      <td>usa</td>\n",
       "      <td>impo</td>\n",
       "      <td>https://api.economicsobservatory.com/usa/impo</td>\n",
       "      <td>https://api.stlouisfed.org/fred/series/observa...</td>\n",
       "      <td>IMPGS</td>\n",
       "      <td>NaN</td>\n",
       "      <td>Imports</td>\n",
       "      <td>Goods and Services, $ billion USD | Source: FR...</td>\n",
       "      <td>https://api.stlouisfed.org/fred/series/observa...</td>\n",
       "      <td>...</td>\n",
       "      <td>NaN</td>\n",
       "      <td>$ billion USD, Seasonally Adjusted Annual Rate</td>\n",
       "      <td>observations.date</td>\n",
       "      <td>observations.value</td>\n",
       "      <td>1</td>\n",
       "      <td>NaN</td>\n",
       "      <td>NaN</td>\n",
       "      <td>NaN</td>\n",
       "      <td>NaN</td>\n",
       "      <td>0</td>\n",
       "    </tr>\n",
       "    <tr>\n",
       "      <th>196</th>\n",
       "      <td>USA</td>\n",
       "      <td>usa</td>\n",
       "      <td>inac</td>\n",
       "      <td>https://api.economicsobservatory.com/usa/inac</td>\n",
       "      <td>https://api.stlouisfed.org/fred/series/observa...</td>\n",
       "      <td>LRIN64TTUSQ156S</td>\n",
       "      <td>NaN</td>\n",
       "      <td>Inactivity</td>\n",
       "      <td>Age 15-64, % workforce | Source: FRED through ...</td>\n",
       "      <td>https://api.stlouisfed.org/fred/series/observa...</td>\n",
       "      <td>...</td>\n",
       "      <td>NaN</td>\n",
       "      <td>%</td>\n",
       "      <td>observations.date</td>\n",
       "      <td>observations.value</td>\n",
       "      <td>1</td>\n",
       "      <td>NaN</td>\n",
       "      <td>NaN</td>\n",
       "      <td>NaN</td>\n",
       "      <td>NaN</td>\n",
       "      <td>0</td>\n",
       "    </tr>\n",
       "  </tbody>\n",
       "</table>\n",
       "<p>5 rows × 23 columns</p>\n",
       "</div>"
      ],
      "text/plain": [
       "    country_full country ecoSeries  \\\n",
       "192          USA     usa      debt   \n",
       "193          USA     usa      expo   \n",
       "194          USA     usa      grow   \n",
       "195          USA     usa      impo   \n",
       "196          USA     usa      inac   \n",
       "\n",
       "                                            ecoAPI  \\\n",
       "192  https://api.economicsobservatory.com/usa/debt   \n",
       "193  https://api.economicsobservatory.com/usa/expo   \n",
       "194  https://api.economicsobservatory.com/usa/grow   \n",
       "195  https://api.economicsobservatory.com/usa/impo   \n",
       "196  https://api.economicsobservatory.com/usa/inac   \n",
       "\n",
       "                                              localAPI      localSeries  \\\n",
       "192  https://api.stlouisfed.org/fred/series/observa...      GFDEGDQ188S   \n",
       "193  https://api.stlouisfed.org/fred/series/observa...            EXPGS   \n",
       "194  https://api.stlouisfed.org/fred/series/observa...  A191RL1Q225SBEA   \n",
       "195  https://api.stlouisfed.org/fred/series/observa...            IMPGS   \n",
       "196  https://api.stlouisfed.org/fred/series/observa...  LRIN64TTUSQ156S   \n",
       "\n",
       "    localDataset       Title  \\\n",
       "192          NaN        Debt   \n",
       "193          NaN     Exports   \n",
       "194          NaN  GDP Growth   \n",
       "195          NaN     Imports   \n",
       "196          NaN  Inactivity   \n",
       "\n",
       "                                              SubTitle  \\\n",
       "192  Public Sector Net Debt, % GDP | Source: FRED t...   \n",
       "193  Goods and Services, billion USD | Source: FRED...   \n",
       "194          Annually, %| Source: FRED through ECO API   \n",
       "195  Goods and Services, $ billion USD | Source: FR...   \n",
       "196  Age 15-64, % workforce | Source: FRED through ...   \n",
       "\n",
       "                                              API_base  ... description  \\\n",
       "192  https://api.stlouisfed.org/fred/series/observa...  ...         NaN   \n",
       "193  https://api.stlouisfed.org/fred/series/observa...  ...         NaN   \n",
       "194  https://api.stlouisfed.org/fred/series/observa...  ...         NaN   \n",
       "195  https://api.stlouisfed.org/fred/series/observa...  ...         NaN   \n",
       "196  https://api.stlouisfed.org/fred/series/observa...  ...         NaN   \n",
       "\n",
       "                                              units               date  \\\n",
       "192                   % of GDP, Seasonally Adjusted  observations.date   \n",
       "193  $ billion USD, Seasonally Adjusted Annual Rate  observations.date   \n",
       "194                                               %  observations.date   \n",
       "195  $ billion USD, Seasonally Adjusted Annual Rate  observations.date   \n",
       "196                                               %  observations.date   \n",
       "\n",
       "                  field multiplier date_keys value_keys  filter  orient  \\\n",
       "192  observations.value          1       NaN        NaN     NaN     NaN   \n",
       "193  observations.value          1       NaN        NaN     NaN     NaN   \n",
       "194  observations.value          1       NaN        NaN     NaN     NaN   \n",
       "195  observations.value          1       NaN        NaN     NaN     NaN   \n",
       "196  observations.value          1       NaN        NaN     NaN     NaN   \n",
       "\n",
       "     use_cache  \n",
       "192          0  \n",
       "193          0  \n",
       "194          0  \n",
       "195          0  \n",
       "196          0  \n",
       "\n",
       "[5 rows x 23 columns]"
      ]
     },
     "execution_count": 5,
     "metadata": {},
     "output_type": "execute_result"
    }
   ],
   "source": [
    "df_usa.head()"
   ]
  },
  {
   "cell_type": "code",
   "execution_count": 15,
   "metadata": {},
   "outputs": [
    {
     "data": {
      "text/plain": [
       "'https://api.stlouisfed.org/fred/series/observations?api_key=22ee7a76e736e32f54f5df0a7171538d&file_type=json&series_id=GFDEGDQ188S'"
      ]
     },
     "execution_count": 15,
     "metadata": {},
     "output_type": "execute_result"
    }
   ],
   "source": [
    "# extract first value in `localAPI` column\n",
    "df_usa['localAPI'].to_list()[0]"
   ]
  },
  {
   "cell_type": "code",
   "execution_count": 19,
   "metadata": {},
   "outputs": [
    {
     "data": {
      "text/plain": [
       "'https://api.stlouisfed.org/fred/series/observations?api_key=22ee7a76e736e32f54f5df0a7171538d&file_type=json&series_id='"
      ]
     },
     "execution_count": 19,
     "metadata": {},
     "output_type": "execute_result"
    }
   ],
   "source": [
    "df_usa['API_base'].to_list()[0]"
   ]
  },
  {
   "cell_type": "code",
   "execution_count": 18,
   "metadata": {},
   "outputs": [
    {
     "data": {
      "text/plain": [
       "'https://api.stlouisfed.org/fred/series/observations?api_key=22ee7a76e736e32f54f5df0a7171538d&file_type=json&series_id=GFDEGDQ188S'"
      ]
     },
     "execution_count": 18,
     "metadata": {},
     "output_type": "execute_result"
    }
   ],
   "source": [
    "df_usa['API_full'].to_list()[0]"
   ]
  },
  {
   "cell_type": "code",
   "execution_count": 20,
   "metadata": {},
   "outputs": [
    {
     "data": {
      "text/plain": [
       "'FRED'"
      ]
     },
     "execution_count": 20,
     "metadata": {},
     "output_type": "execute_result"
    }
   ],
   "source": [
    "df_usa['source'].to_list()[0]"
   ]
  },
  {
   "cell_type": "code",
   "execution_count": 21,
   "metadata": {},
   "outputs": [
    {
     "data": {
      "text/plain": [
       "'US Federal Reserve Economic Data'"
      ]
     },
     "execution_count": 21,
     "metadata": {},
     "output_type": "execute_result"
    }
   ],
   "source": [
    "df_usa['source_long'].to_list()[0]"
   ]
  },
  {
   "cell_type": "code",
   "execution_count": 30,
   "metadata": {},
   "outputs": [
    {
     "data": {
      "text/plain": [
       "nan"
      ]
     },
     "execution_count": 30,
     "metadata": {},
     "output_type": "execute_result"
    }
   ],
   "source": [
    "df_usa['description'].to_list()[4]"
   ]
  },
  {
   "cell_type": "code",
   "execution_count": 23,
   "metadata": {},
   "outputs": [
    {
     "data": {
      "text/plain": [
       "'$ billion USD, Seasonally Adjusted Annual Rate'"
      ]
     },
     "execution_count": 23,
     "metadata": {},
     "output_type": "execute_result"
    }
   ],
   "source": [
    "df_usa['units'].to_list()[1]"
   ]
  },
  {
   "cell_type": "code",
   "execution_count": 32,
   "metadata": {},
   "outputs": [
    {
     "data": {
      "text/plain": [
       "'observations.date'"
      ]
     },
     "execution_count": 32,
     "metadata": {},
     "output_type": "execute_result"
    }
   ],
   "source": [
    "df_usa['date'].to_list()[1]"
   ]
  },
  {
   "cell_type": "code",
   "execution_count": 34,
   "metadata": {},
   "outputs": [
    {
     "data": {
      "text/plain": [
       "nan"
      ]
     },
     "execution_count": 34,
     "metadata": {},
     "output_type": "execute_result"
    }
   ],
   "source": [
    "df_usa['date_keys'].to_list()[1]"
   ]
  },
  {
   "cell_type": "code",
   "execution_count": 10,
   "metadata": {},
   "outputs": [
    {
     "data": {
      "text/html": [
       "<div>\n",
       "<style scoped>\n",
       "    .dataframe tbody tr th:only-of-type {\n",
       "        vertical-align: middle;\n",
       "    }\n",
       "\n",
       "    .dataframe tbody tr th {\n",
       "        vertical-align: top;\n",
       "    }\n",
       "\n",
       "    .dataframe thead th {\n",
       "        text-align: right;\n",
       "    }\n",
       "</style>\n",
       "<table border=\"1\" class=\"dataframe\">\n",
       "  <thead>\n",
       "    <tr style=\"text-align: right;\">\n",
       "      <th></th>\n",
       "      <th>ecoSeries</th>\n",
       "      <th>Title</th>\n",
       "      <th>localSeries</th>\n",
       "    </tr>\n",
       "  </thead>\n",
       "  <tbody>\n",
       "    <tr>\n",
       "      <th>192</th>\n",
       "      <td>debt</td>\n",
       "      <td>Debt</td>\n",
       "      <td>GFDEGDQ188S</td>\n",
       "    </tr>\n",
       "    <tr>\n",
       "      <th>193</th>\n",
       "      <td>expo</td>\n",
       "      <td>Exports</td>\n",
       "      <td>EXPGS</td>\n",
       "    </tr>\n",
       "    <tr>\n",
       "      <th>194</th>\n",
       "      <td>grow</td>\n",
       "      <td>GDP Growth</td>\n",
       "      <td>A191RL1Q225SBEA</td>\n",
       "    </tr>\n",
       "    <tr>\n",
       "      <th>195</th>\n",
       "      <td>impo</td>\n",
       "      <td>Imports</td>\n",
       "      <td>IMPGS</td>\n",
       "    </tr>\n",
       "    <tr>\n",
       "      <th>196</th>\n",
       "      <td>inac</td>\n",
       "      <td>Inactivity</td>\n",
       "      <td>LRIN64TTUSQ156S</td>\n",
       "    </tr>\n",
       "    <tr>\n",
       "      <th>197</th>\n",
       "      <td>ineq</td>\n",
       "      <td>Inequality</td>\n",
       "      <td>SIPOVGINIUSA</td>\n",
       "    </tr>\n",
       "    <tr>\n",
       "      <th>198</th>\n",
       "      <td>infl</td>\n",
       "      <td>Inflation</td>\n",
       "      <td>FPCPITOTLZGUSA</td>\n",
       "    </tr>\n",
       "    <tr>\n",
       "      <th>199</th>\n",
       "      <td>prod</td>\n",
       "      <td>Productivity</td>\n",
       "      <td>OPHNFB</td>\n",
       "    </tr>\n",
       "    <tr>\n",
       "      <th>200</th>\n",
       "      <td>unem</td>\n",
       "      <td>Unemployment</td>\n",
       "      <td>UNRATE</td>\n",
       "    </tr>\n",
       "    <tr>\n",
       "      <th>201</th>\n",
       "      <td>wage</td>\n",
       "      <td>Weekly wage</td>\n",
       "      <td>LES1252881600Q</td>\n",
       "    </tr>\n",
       "  </tbody>\n",
       "</table>\n",
       "</div>"
      ],
      "text/plain": [
       "    ecoSeries         Title      localSeries\n",
       "192      debt          Debt      GFDEGDQ188S\n",
       "193      expo       Exports            EXPGS\n",
       "194      grow    GDP Growth  A191RL1Q225SBEA\n",
       "195      impo       Imports            IMPGS\n",
       "196      inac    Inactivity  LRIN64TTUSQ156S\n",
       "197      ineq    Inequality     SIPOVGINIUSA\n",
       "198      infl     Inflation   FPCPITOTLZGUSA\n",
       "199      prod  Productivity           OPHNFB\n",
       "200      unem  Unemployment           UNRATE\n",
       "201      wage   Weekly wage   LES1252881600Q"
      ]
     },
     "execution_count": 10,
     "metadata": {},
     "output_type": "execute_result"
    }
   ],
   "source": [
    "# extract columns `ecoSeries`, `Title`\n",
    "df_usa[['ecoSeries', 'Title', 'localSeries']]"
   ]
  },
  {
   "cell_type": "markdown",
   "metadata": {},
   "source": [
    "Series to add:\n",
    "\n",
    "- Employment Rate\n",
    "- Population\n",
    "- GDP\n",
    "- GDP per capita\n",
    "- Employed persons\n",
    "- Participation Rate"
   ]
  },
  {
   "cell_type": "code",
   "execution_count": null,
   "metadata": {},
   "outputs": [],
   "source": []
  }
 ],
 "metadata": {
  "kernelspec": {
   "display_name": "datasci",
   "language": "python",
   "name": "python3"
  },
  "language_info": {
   "codemirror_mode": {
    "name": "ipython",
    "version": 3
   },
   "file_extension": ".py",
   "mimetype": "text/x-python",
   "name": "python",
   "nbconvert_exporter": "python",
   "pygments_lexer": "ipython3",
   "version": "3.9.15"
  }
 },
 "nbformat": 4,
 "nbformat_minor": 2
}

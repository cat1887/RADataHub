{
 "cells": [
  {
   "cell_type": "code",
   "execution_count": null,
   "metadata": {},
   "outputs": [],
   "source": []
  },
  {
   "cell_type": "code",
   "execution_count": 1,
   "metadata": {},
   "outputs": [],
   "source": [
    "import pandas as pd"
   ]
  },
  {
   "cell_type": "markdown",
   "metadata": {},
   "source": [
    "---"
   ]
  },
  {
   "cell_type": "markdown",
   "metadata": {},
   "source": [
    "#### Productivity"
   ]
  },
  {
   "cell_type": "code",
   "execution_count": 7,
   "metadata": {},
   "outputs": [
    {
     "data": {
      "text/html": [
       "<div>\n",
       "<style scoped>\n",
       "    .dataframe tbody tr th:only-of-type {\n",
       "        vertical-align: middle;\n",
       "    }\n",
       "\n",
       "    .dataframe tbody tr th {\n",
       "        vertical-align: top;\n",
       "    }\n",
       "\n",
       "    .dataframe thead th {\n",
       "        text-align: right;\n",
       "    }\n",
       "</style>\n",
       "<table border=\"1\" class=\"dataframe\">\n",
       "  <thead>\n",
       "    <tr style=\"text-align: right;\">\n",
       "      <th></th>\n",
       "      <th>0</th>\n",
       "      <th>1</th>\n",
       "      <th>2</th>\n",
       "      <th>3</th>\n",
       "      <th>4</th>\n",
       "      <th>5</th>\n",
       "      <th>6</th>\n",
       "      <th>7</th>\n",
       "      <th>8</th>\n",
       "      <th>9</th>\n",
       "      <th>10</th>\n",
       "      <th>11</th>\n",
       "      <th>12</th>\n",
       "      <th>13</th>\n",
       "      <th>14</th>\n",
       "      <th>15</th>\n",
       "      <th>16</th>\n",
       "    </tr>\n",
       "  </thead>\n",
       "  <tbody>\n",
       "    <tr>\n",
       "      <th>0</th>\n",
       "      <td>NaN</td>\n",
       "      <td>Updated 01.04.2020</td>\n",
       "      <td>NaN</td>\n",
       "      <td>NaN</td>\n",
       "      <td>NaN</td>\n",
       "      <td>NaN</td>\n",
       "      <td>NaN</td>\n",
       "      <td>NaN</td>\n",
       "      <td>NaN</td>\n",
       "      <td>NaN</td>\n",
       "      <td>NaN</td>\n",
       "      <td>NaN</td>\n",
       "      <td>NaN</td>\n",
       "      <td>NaN</td>\n",
       "      <td>NaN</td>\n",
       "      <td>NaN</td>\n",
       "      <td>NaN</td>\n",
       "    </tr>\n",
       "    <tr>\n",
       "      <th>1</th>\n",
       "      <td>Labor productivity index for the economy as a ...</td>\n",
       "      <td>NaN</td>\n",
       "      <td>NaN</td>\n",
       "      <td>NaN</td>\n",
       "      <td>NaN</td>\n",
       "      <td>NaN</td>\n",
       "      <td>NaN</td>\n",
       "      <td>NaN</td>\n",
       "      <td>NaN</td>\n",
       "      <td>NaN</td>\n",
       "      <td>NaN</td>\n",
       "      <td>NaN</td>\n",
       "      <td>NaN</td>\n",
       "      <td>NaN</td>\n",
       "      <td>NaN</td>\n",
       "      <td>NaN</td>\n",
       "      <td>NaN</td>\n",
       "    </tr>\n",
       "    <tr>\n",
       "      <th>2</th>\n",
       "      <td>( in percent to the previous year)</td>\n",
       "      <td>NaN</td>\n",
       "      <td>NaN</td>\n",
       "      <td>NaN</td>\n",
       "      <td>NaN</td>\n",
       "      <td>NaN</td>\n",
       "      <td>NaN</td>\n",
       "      <td>NaN</td>\n",
       "      <td>NaN</td>\n",
       "      <td>NaN</td>\n",
       "      <td>NaN</td>\n",
       "      <td>NaN</td>\n",
       "      <td>NaN</td>\n",
       "      <td>NaN</td>\n",
       "      <td>NaN</td>\n",
       "      <td>NaN</td>\n",
       "      <td>NaN</td>\n",
       "    </tr>\n",
       "    <tr>\n",
       "      <th>3</th>\n",
       "      <td>Codes</td>\n",
       "      <td>NaN</td>\n",
       "      <td>2003.0</td>\n",
       "      <td>2004.0</td>\n",
       "      <td>2005.0</td>\n",
       "      <td>2006.0</td>\n",
       "      <td>2007.0</td>\n",
       "      <td>2008.0</td>\n",
       "      <td>2009.0</td>\n",
       "      <td>2010.000000</td>\n",
       "      <td>2010.0</td>\n",
       "      <td>2011.0</td>\n",
       "      <td>NaN</td>\n",
       "      <td>Methodological notes</td>\n",
       "      <td>Periodicity</td>\n",
       "      <td>Timelines (according to the Federal Statistica...</td>\n",
       "      <td>Executant</td>\n",
       "    </tr>\n",
       "    <tr>\n",
       "      <th>4</th>\n",
       "      <td>NaN</td>\n",
       "      <td>Total in the economy</td>\n",
       "      <td>NaN</td>\n",
       "      <td>106.5</td>\n",
       "      <td>105.5</td>\n",
       "      <td>107.5</td>\n",
       "      <td>107.5</td>\n",
       "      <td>104.8</td>\n",
       "      <td>95.9</td>\n",
       "      <td>103.173659</td>\n",
       "      <td>103.2</td>\n",
       "      <td>103.8</td>\n",
       "      <td>NaN</td>\n",
       "      <td>The dynamics of labor productivity is calculat...</td>\n",
       "      <td>Annual</td>\n",
       "      <td>September</td>\n",
       "      <td>Ms. Tatyana Badyaeva +7 (495) 607-44-22</td>\n",
       "    </tr>\n",
       "  </tbody>\n",
       "</table>\n",
       "</div>"
      ],
      "text/plain": [
       "                                                  0                     1   \\\n",
       "0                                                NaN    Updated 01.04.2020   \n",
       "1  Labor productivity index for the economy as a ...                   NaN   \n",
       "2                 ( in percent to the previous year)                   NaN   \n",
       "3                                              Codes                   NaN   \n",
       "4                                                NaN  Total in the economy   \n",
       "\n",
       "       2       3       4       5       6       7       8            9   \\\n",
       "0     NaN     NaN     NaN     NaN     NaN     NaN     NaN          NaN   \n",
       "1     NaN     NaN     NaN     NaN     NaN     NaN     NaN          NaN   \n",
       "2     NaN     NaN     NaN     NaN     NaN     NaN     NaN          NaN   \n",
       "3  2003.0  2004.0  2005.0  2006.0  2007.0  2008.0  2009.0  2010.000000   \n",
       "4     NaN   106.5   105.5   107.5   107.5   104.8    95.9   103.173659   \n",
       "\n",
       "       10      11  12                                                 13  \\\n",
       "0     NaN     NaN NaN                                                NaN   \n",
       "1     NaN     NaN NaN                                                NaN   \n",
       "2     NaN     NaN NaN                                                NaN   \n",
       "3  2010.0  2011.0 NaN                               Methodological notes   \n",
       "4   103.2   103.8 NaN  The dynamics of labor productivity is calculat...   \n",
       "\n",
       "            14                                                 15  \\\n",
       "0          NaN                                                NaN   \n",
       "1          NaN                                                NaN   \n",
       "2          NaN                                                NaN   \n",
       "3  Periodicity  Timelines (according to the Federal Statistica...   \n",
       "4       Annual                                          September   \n",
       "\n",
       "                                        16  \n",
       "0                                      NaN  \n",
       "1                                      NaN  \n",
       "2                                      NaN  \n",
       "3                                Executant  \n",
       "4  Ms. Tatyana Badyaeva +7 (495) 607-44-22  "
      ]
     },
     "execution_count": 7,
     "metadata": {},
     "output_type": "execute_result"
    }
   ],
   "source": [
    "dataset = 'Labor productivity index.xlsx'\n",
    "raw_data = pd.read_excel('raw_data/' + dataset, header=None)\n",
    "\n",
    "raw_data.head()"
   ]
  },
  {
   "cell_type": "code",
   "execution_count": 33,
   "metadata": {},
   "outputs": [],
   "source": [
    "# header index contains 'Codes' string in first column\n",
    "header_idx = raw_data[raw_data[0].str.contains('Codes', na=False)].index[0]\n",
    "\n",
    "# footer index is row where 2nd column has value containing string 'Total'\n",
    "footer_idx = raw_data[raw_data[1].str.contains('Total', na=False)].index[0]"
   ]
  },
  {
   "cell_type": "code",
   "execution_count": null,
   "metadata": {},
   "outputs": [],
   "source": [
    "# specify number of rows to read after header row\n",
    "num_rows = footer_idx - header_idx"
   ]
  },
  {
   "cell_type": "code",
   "execution_count": 71,
   "metadata": {},
   "outputs": [],
   "source": [
    "header_row = raw_data[raw_data[0].str.contains('Codes', na=False)]"
   ]
  },
  {
   "cell_type": "code",
   "execution_count": 72,
   "metadata": {},
   "outputs": [],
   "source": [
    "# Try to convert each column in `header_row` to int, if not possible, set as NaN\n",
    "value_idxs = header_row.apply(pd.to_numeric, errors='coerce')"
   ]
  },
  {
   "cell_type": "code",
   "execution_count": 73,
   "metadata": {},
   "outputs": [
    {
     "data": {
      "text/html": [
       "<div>\n",
       "<style scoped>\n",
       "    .dataframe tbody tr th:only-of-type {\n",
       "        vertical-align: middle;\n",
       "    }\n",
       "\n",
       "    .dataframe tbody tr th {\n",
       "        vertical-align: top;\n",
       "    }\n",
       "\n",
       "    .dataframe thead th {\n",
       "        text-align: right;\n",
       "    }\n",
       "</style>\n",
       "<table border=\"1\" class=\"dataframe\">\n",
       "  <thead>\n",
       "    <tr style=\"text-align: right;\">\n",
       "      <th></th>\n",
       "      <th>0</th>\n",
       "      <th>1</th>\n",
       "      <th>2</th>\n",
       "      <th>3</th>\n",
       "      <th>4</th>\n",
       "      <th>5</th>\n",
       "      <th>6</th>\n",
       "      <th>7</th>\n",
       "      <th>8</th>\n",
       "      <th>9</th>\n",
       "      <th>10</th>\n",
       "      <th>11</th>\n",
       "      <th>12</th>\n",
       "      <th>13</th>\n",
       "      <th>14</th>\n",
       "      <th>15</th>\n",
       "      <th>16</th>\n",
       "    </tr>\n",
       "  </thead>\n",
       "  <tbody>\n",
       "    <tr>\n",
       "      <th>3</th>\n",
       "      <td>Codes</td>\n",
       "      <td>NaN</td>\n",
       "      <td>2003.0</td>\n",
       "      <td>2004.0</td>\n",
       "      <td>2005.0</td>\n",
       "      <td>2006.0</td>\n",
       "      <td>2007.0</td>\n",
       "      <td>2008.0</td>\n",
       "      <td>2009.0</td>\n",
       "      <td>2010.0</td>\n",
       "      <td>2010.0</td>\n",
       "      <td>2011.0</td>\n",
       "      <td>NaN</td>\n",
       "      <td>Methodological notes</td>\n",
       "      <td>Periodicity</td>\n",
       "      <td>Timelines (according to the Federal Statistica...</td>\n",
       "      <td>Executant</td>\n",
       "    </tr>\n",
       "  </tbody>\n",
       "</table>\n",
       "</div>"
      ],
      "text/plain": [
       "      0    1       2       3       4       5       6       7       8       9   \\\n",
       "3  Codes  NaN  2003.0  2004.0  2005.0  2006.0  2007.0  2008.0  2009.0  2010.0   \n",
       "\n",
       "       10      11  12                    13           14  \\\n",
       "3  2010.0  2011.0 NaN  Methodological notes  Periodicity   \n",
       "\n",
       "                                                  15         16  \n",
       "3  Timelines (according to the Federal Statistica...  Executant  "
      ]
     },
     "execution_count": 73,
     "metadata": {},
     "output_type": "execute_result"
    }
   ],
   "source": []
  },
  {
   "cell_type": "code",
   "execution_count": 77,
   "metadata": {},
   "outputs": [
    {
     "data": {
      "text/plain": [
       "[0, 2, 3, 4, 5, 6, 7, 8, 9, 10, 11, 13, 14, 15, 16]"
      ]
     },
     "execution_count": 77,
     "metadata": {},
     "output_type": "execute_result"
    }
   ],
   "source": [
    "# get indexes of non-NaN values\n",
    "header_row = header_row.dropna(axis=1).columns.tolist()\n",
    "header_row"
   ]
  },
  {
   "cell_type": "code",
   "execution_count": 76,
   "metadata": {},
   "outputs": [
    {
     "data": {
      "text/plain": [
       "[0, 2, 3, 4, 5, 6, 7, 8, 9, 10, 11, 13, 14, 15, 16]"
      ]
     },
     "execution_count": 76,
     "metadata": {},
     "output_type": "execute_result"
    }
   ],
   "source": [
    "value_idxs"
   ]
  },
  {
   "cell_type": "code",
   "execution_count": 75,
   "metadata": {},
   "outputs": [
    {
     "data": {
      "text/plain": [
       "['A', 'C', 'D', 'E', 'F', 'G', 'H', 'I', 'J', 'K', 'L', 'N', 'O', 'P', 'Q']"
      ]
     },
     "execution_count": 75,
     "metadata": {},
     "output_type": "execute_result"
    }
   ],
   "source": [
    "[chr(65 + i) for i in value_idxs]"
   ]
  },
  {
   "cell_type": "code",
   "execution_count": 66,
   "metadata": {},
   "outputs": [
    {
     "data": {
      "text/plain": [
       "[2, 3, 4, 5, 6, 7, 8, 9, 10, 11]"
      ]
     },
     "execution_count": 66,
     "metadata": {},
     "output_type": "execute_result"
    }
   ],
   "source": [
    "header_row"
   ]
  },
  {
   "cell_type": "code",
   "execution_count": 56,
   "metadata": {},
   "outputs": [
    {
     "ename": "TypeError",
     "evalue": "ord() expected a character, but string of length 2 found",
     "output_type": "error",
     "traceback": [
      "\u001b[0;31m---------------------------------------------------------------------------\u001b[0m",
      "\u001b[0;31mTypeError\u001b[0m                                 Traceback (most recent call last)",
      "Cell \u001b[0;32mIn[56], line 15\u001b[0m\n\u001b[1;32m     10\u001b[0m         drop_cols\u001b[39m.\u001b[39mappend(col)\n\u001b[1;32m     12\u001b[0m \u001b[39m# find range of columns to read from `drop_cols` and convert to letters for excel splic\u001b[39;00m\n\u001b[1;32m     13\u001b[0m \u001b[39m# this range will be where values in `drop_cols` are not consecutive\u001b[39;00m\n\u001b[1;32m     14\u001b[0m \u001b[39m# i.e. [0, 1, 2, 6, 7] -> [3, 5] -> [D, F] \u001b[39;00m\n\u001b[0;32m---> 15\u001b[0m drop_cols \u001b[39m=\u001b[39m [\u001b[39mord\u001b[39m(\u001b[39mstr\u001b[39m(col)) \u001b[39m-\u001b[39m \u001b[39mord\u001b[39m(\u001b[39m'\u001b[39m\u001b[39mA\u001b[39m\u001b[39m'\u001b[39m) \u001b[39mfor\u001b[39;00m col \u001b[39min\u001b[39;00m drop_cols]\n\u001b[1;32m     17\u001b[0m \u001b[39m# drop_cols = [ord(col) - ord('A') for col in drop_cols]\u001b[39;00m\n\u001b[1;32m     18\u001b[0m \u001b[39m# drop_cols = [chr(ord('A') + i) for i in range(drop_cols[0], drop_cols[-1] + 1)]\u001b[39;00m\n",
      "Cell \u001b[0;32mIn[56], line 15\u001b[0m, in \u001b[0;36m<listcomp>\u001b[0;34m(.0)\u001b[0m\n\u001b[1;32m     10\u001b[0m         drop_cols\u001b[39m.\u001b[39mappend(col)\n\u001b[1;32m     12\u001b[0m \u001b[39m# find range of columns to read from `drop_cols` and convert to letters for excel splic\u001b[39;00m\n\u001b[1;32m     13\u001b[0m \u001b[39m# this range will be where values in `drop_cols` are not consecutive\u001b[39;00m\n\u001b[1;32m     14\u001b[0m \u001b[39m# i.e. [0, 1, 2, 6, 7] -> [3, 5] -> [D, F] \u001b[39;00m\n\u001b[0;32m---> 15\u001b[0m drop_cols \u001b[39m=\u001b[39m [\u001b[39mord\u001b[39;49m(\u001b[39mstr\u001b[39;49m(col)) \u001b[39m-\u001b[39m \u001b[39mord\u001b[39m(\u001b[39m'\u001b[39m\u001b[39mA\u001b[39m\u001b[39m'\u001b[39m) \u001b[39mfor\u001b[39;00m col \u001b[39min\u001b[39;00m drop_cols]\n\u001b[1;32m     17\u001b[0m \u001b[39m# drop_cols = [ord(col) - ord('A') for col in drop_cols]\u001b[39;00m\n\u001b[1;32m     18\u001b[0m \u001b[39m# drop_cols = [chr(ord('A') + i) for i in range(drop_cols[0], drop_cols[-1] + 1)]\u001b[39;00m\n",
      "\u001b[0;31mTypeError\u001b[0m: ord() expected a character, but string of length 2 found"
     ]
    }
   ],
   "source": [
    "\n",
    "\n",
    "# an unknown range of columns in `header_row` have a year value that is in float format.\n",
    "# try to convert to int, if it fails, then it is not a year value, so remember indexes to drop\n",
    "drop_cols = []\n",
    "for col in header_row.columns:\n",
    "    try:\n",
    "        int(header_row[col].values[0])\n",
    "    except:\n",
    "        drop_cols.append(col)\n",
    "\n",
    "# find range of columns to read from `drop_cols` and convert to letters for excel splic\n",
    "# this range will be where values in `drop_cols` are not consecutive\n",
    "# i.e. [0, 1, 2, 6, 7] -> [3, 5] -> [D, F] \n",
    "drop_cols = [ord(str(col)) - ord('A') for col in drop_cols]\n",
    "\n",
    "# drop_cols = [ord(col) - ord('A') for col in drop_cols]\n",
    "# drop_cols = [chr(ord('A') + i) for i in range(drop_cols[0], drop_cols[-1] + 1)]"
   ]
  },
  {
   "cell_type": "code",
   "execution_count": 57,
   "metadata": {},
   "outputs": [
    {
     "ename": "TypeError",
     "evalue": "ord() expected string of length 1, but int found",
     "output_type": "error",
     "traceback": [
      "\u001b[0;31m---------------------------------------------------------------------------\u001b[0m",
      "\u001b[0;31mTypeError\u001b[0m                                 Traceback (most recent call last)",
      "Cell \u001b[0;32mIn[57], line 1\u001b[0m\n\u001b[0;32m----> 1\u001b[0m \u001b[39mord\u001b[39;49m(\u001b[39m15\u001b[39;49m)\n",
      "\u001b[0;31mTypeError\u001b[0m: ord() expected string of length 1, but int found"
     ]
    }
   ],
   "source": [
    "ord(15)"
   ]
  },
  {
   "cell_type": "code",
   "execution_count": 54,
   "metadata": {},
   "outputs": [],
   "source": [
    "#"
   ]
  },
  {
   "cell_type": "code",
   "execution_count": 58,
   "metadata": {},
   "outputs": [
    {
     "data": {
      "text/plain": [
       "[0, 1, 12, 13, 14, 15, 16]"
      ]
     },
     "execution_count": 58,
     "metadata": {},
     "output_type": "execute_result"
    }
   ],
   "source": [
    "drop_cols"
   ]
  },
  {
   "cell_type": "code",
   "execution_count": 35,
   "metadata": {},
   "outputs": [
    {
     "ename": "NameError",
     "evalue": "name 'header_row' is not defined",
     "output_type": "error",
     "traceback": [
      "\u001b[0;31m---------------------------------------------------------------------------\u001b[0m",
      "\u001b[0;31mNameError\u001b[0m                                 Traceback (most recent call last)",
      "Cell \u001b[0;32mIn[35], line 1\u001b[0m\n\u001b[0;32m----> 1\u001b[0m header_row\u001b[39m.\u001b[39mastype(\u001b[39mstr\u001b[39m)\n",
      "\u001b[0;31mNameError\u001b[0m: name 'header_row' is not defined"
     ]
    }
   ],
   "source": [
    "header_row.astype(str)"
   ]
  },
  {
   "cell_type": "code",
   "execution_count": null,
   "metadata": {},
   "outputs": [],
   "source": [
    "df_infl_wide = pd.read_excel(\n",
    "    io='raw_data/' + dataset, \n",
    "    header=header_idx,\n",
    "    nrows=num_rows,\n",
    "    usecols=\"A:M\", \n",
    "    index_col=0\n",
    ")"
   ]
  },
  {
   "cell_type": "code",
   "execution_count": 26,
   "metadata": {},
   "outputs": [
    {
     "ename": "NameError",
     "evalue": "name 'y' is not defined",
     "output_type": "error",
     "traceback": [
      "\u001b[0;31m---------------------------------------------------------------------------\u001b[0m",
      "\u001b[0;31mNameError\u001b[0m                                 Traceback (most recent call last)",
      "Cell \u001b[0;32mIn[26], line 7\u001b[0m\n\u001b[1;32m      4\u001b[0m \u001b[39m# check if values are in a range of years, check for multiple columns\u001b[39;00m\n\u001b[1;32m      5\u001b[0m raw_data[\u001b[39m1\u001b[39m]\u001b[39m.\u001b[39misin(years) \u001b[39m|\u001b[39m raw_data[\u001b[39m3\u001b[39m]\u001b[39m.\u001b[39misin(years)\n\u001b[0;32m----> 7\u001b[0m y\n",
      "\u001b[0;31mNameError\u001b[0m: name 'y' is not defined"
     ]
    }
   ],
   "source": [
    "# header index is row where some columns contain valid year values, e.g. 2000, 2001 etc. Find this row\n",
    "# check is values are in a range of years, create string list first\n",
    "years = [str(year) for year in range(2000, 2020)]\n",
    "# check if values are in a range of years, check for multiple columns\n",
    "raw_data[1].isin(years) | raw_data[3].isin(years)\n",
    "\n",
    "y"
   ]
  },
  {
   "cell_type": "code",
   "execution_count": 14,
   "metadata": {},
   "outputs": [],
   "source": []
  },
  {
   "cell_type": "markdown",
   "metadata": {},
   "source": [
    "---"
   ]
  },
  {
   "cell_type": "markdown",
   "metadata": {},
   "source": [
    "Employed"
   ]
  },
  {
   "cell_type": "code",
   "execution_count": 89,
   "metadata": {},
   "outputs": [],
   "source": [
    "dataset = 'ind_05-2023.xlsx'\n",
    "raw_data_contents = pd.read_excel('raw_data/' + dataset, header=None, sheet_name='The Contens', keep_default_na=False, na_values=' ')"
   ]
  },
  {
   "cell_type": "code",
   "execution_count": 90,
   "metadata": {},
   "outputs": [
    {
     "data": {
      "text/html": [
       "<div>\n",
       "<style scoped>\n",
       "    .dataframe tbody tr th:only-of-type {\n",
       "        vertical-align: middle;\n",
       "    }\n",
       "\n",
       "    .dataframe tbody tr th {\n",
       "        vertical-align: top;\n",
       "    }\n",
       "\n",
       "    .dataframe thead th {\n",
       "        text-align: right;\n",
       "    }\n",
       "</style>\n",
       "<table border=\"1\" class=\"dataframe\">\n",
       "  <thead>\n",
       "    <tr style=\"text-align: right;\">\n",
       "      <th></th>\n",
       "      <th>0</th>\n",
       "      <th>1</th>\n",
       "      <th>2</th>\n",
       "      <th>3</th>\n",
       "      <th>4</th>\n",
       "      <th>5</th>\n",
       "      <th>6</th>\n",
       "      <th>7</th>\n",
       "    </tr>\n",
       "  </thead>\n",
       "  <tbody>\n",
       "    <tr>\n",
       "      <th>0</th>\n",
       "      <td></td>\n",
       "      <td></td>\n",
       "      <td>THE CONTENTS</td>\n",
       "      <td></td>\n",
       "      <td></td>\n",
       "      <td></td>\n",
       "      <td></td>\n",
       "      <td></td>\n",
       "    </tr>\n",
       "    <tr>\n",
       "      <th>1</th>\n",
       "      <td></td>\n",
       "      <td></td>\n",
       "      <td>p.</td>\n",
       "      <td></td>\n",
       "      <td></td>\n",
       "      <td></td>\n",
       "      <td>p.</td>\n",
       "      <td></td>\n",
       "    </tr>\n",
       "    <tr>\n",
       "      <th>2</th>\n",
       "      <td>1</td>\n",
       "      <td>Aggregated indicators</td>\n",
       "      <td>4</td>\n",
       "      <td></td>\n",
       "      <td>3</td>\n",
       "      <td>Prices</td>\n",
       "      <td>163</td>\n",
       "      <td></td>\n",
       "    </tr>\n",
       "    <tr>\n",
       "      <th>3</th>\n",
       "      <td>1.1.</td>\n",
       "      <td>Gross domestic product</td>\n",
       "      <td>4</td>\n",
       "      <td></td>\n",
       "      <td>3.1.</td>\n",
       "      <td>Producer price index of industrial goods</td>\n",
       "      <td>163</td>\n",
       "      <td></td>\n",
       "    </tr>\n",
       "    <tr>\n",
       "      <th>4</th>\n",
       "      <td>1.2.</td>\n",
       "      <td>Industrial production index</td>\n",
       "      <td>6</td>\n",
       "      <td></td>\n",
       "      <td>3.1.1.</td>\n",
       "      <td>Average producer prices for energy resources ...</td>\n",
       "      <td>166</td>\n",
       "      <td></td>\n",
       "    </tr>\n",
       "    <tr>\n",
       "      <th>5</th>\n",
       "      <td>1.3.</td>\n",
       "      <td>Agricultural production index at  enterprises...</td>\n",
       "      <td>11</td>\n",
       "      <td></td>\n",
       "      <td>3.2.</td>\n",
       "      <td>Producer price indices of animal husbandry pr...</td>\n",
       "      <td>178</td>\n",
       "      <td></td>\n",
       "    </tr>\n",
       "    <tr>\n",
       "      <th>6</th>\n",
       "      <td>1.4.</td>\n",
       "      <td>Production of animal husbandry products at ent...</td>\n",
       "      <td>12</td>\n",
       "      <td></td>\n",
       "      <td>3.3.</td>\n",
       "      <td>Aggregated price index for investment  produc...</td>\n",
       "      <td>187</td>\n",
       "      <td></td>\n",
       "    </tr>\n",
       "    <tr>\n",
       "      <th>7</th>\n",
       "      <td>1.5.</td>\n",
       "      <td>Freight turnover of transport, including comm...</td>\n",
       "      <td>18</td>\n",
       "      <td></td>\n",
       "      <td>3.4.</td>\n",
       "      <td>Freight producer price  index</td>\n",
       "      <td>189</td>\n",
       "      <td></td>\n",
       "    </tr>\n",
       "    <tr>\n",
       "      <th>8</th>\n",
       "      <td>1.6.</td>\n",
       "      <td>Investments in fixed capital</td>\n",
       "      <td>27</td>\n",
       "      <td></td>\n",
       "      <td>3.5.</td>\n",
       "      <td>Consumer price index</td>\n",
       "      <td>190</td>\n",
       "      <td></td>\n",
       "    </tr>\n",
       "    <tr>\n",
       "      <th>9</th>\n",
       "      <td>1.6.1.</td>\n",
       "      <td>Investments in fixed capital of organizations...</td>\n",
       "      <td>31</td>\n",
       "      <td></td>\n",
       "      <td>4</td>\n",
       "      <td>Social field</td>\n",
       "      <td>195</td>\n",
       "      <td></td>\n",
       "    </tr>\n",
       "    <tr>\n",
       "      <th>10</th>\n",
       "      <td>1.7.</td>\n",
       "      <td>Volume of works in construction activity</td>\n",
       "      <td>36</td>\n",
       "      <td></td>\n",
       "      <td>4.1.</td>\n",
       "      <td>Employment</td>\n",
       "      <td>195</td>\n",
       "      <td></td>\n",
       "    </tr>\n",
       "    <tr>\n",
       "      <th>11</th>\n",
       "      <td>1.8.</td>\n",
       "      <td>Residential buildings commissioned by organiza...</td>\n",
       "      <td>39</td>\n",
       "      <td></td>\n",
       "      <td>4.2.</td>\n",
       "      <td>Wages</td>\n",
       "      <td>206</td>\n",
       "      <td></td>\n",
       "    </tr>\n",
       "    <tr>\n",
       "      <th>12</th>\n",
       "      <td>1.9.</td>\n",
       "      <td>Foreign trade turnover</td>\n",
       "      <td>42</td>\n",
       "      <td></td>\n",
       "      <td>4.3.</td>\n",
       "      <td>Pensions</td>\n",
       "      <td>211</td>\n",
       "      <td></td>\n",
       "    </tr>\n",
       "    <tr>\n",
       "      <th>13</th>\n",
       "      <td>1.10.</td>\n",
       "      <td>Official exchange rate of foreign currencies</td>\n",
       "      <td>69</td>\n",
       "      <td></td>\n",
       "      <td>4.4.</td>\n",
       "      <td>Money income of the population</td>\n",
       "      <td>217</td>\n",
       "      <td></td>\n",
       "    </tr>\n",
       "    <tr>\n",
       "      <th>14</th>\n",
       "      <td>1.11.</td>\n",
       "      <td>Deficit (-), surplus of consolidated budget</td>\n",
       "      <td>71</td>\n",
       "      <td></td>\n",
       "      <td>4.5.</td>\n",
       "      <td>Deposits and other raised funds of private per...</td>\n",
       "      <td>229</td>\n",
       "      <td></td>\n",
       "    </tr>\n",
       "    <tr>\n",
       "      <th>15</th>\n",
       "      <td>1.12.</td>\n",
       "      <td>Retail trade turnover</td>\n",
       "      <td>73</td>\n",
       "      <td></td>\n",
       "      <td>4.6.</td>\n",
       "      <td>Population in Russia by per capita money income</td>\n",
       "      <td>234</td>\n",
       "      <td></td>\n",
       "    </tr>\n",
       "    <tr>\n",
       "      <th>16</th>\n",
       "      <td>1.13.</td>\n",
       "      <td>Volume of market services</td>\n",
       "      <td>88</td>\n",
       "      <td></td>\n",
       "      <td>4.7.</td>\n",
       "      <td>Average per capita monthly subsistence minimum</td>\n",
       "      <td>235</td>\n",
       "      <td></td>\n",
       "    </tr>\n",
       "    <tr>\n",
       "      <th>17</th>\n",
       "      <td>1.14.</td>\n",
       "      <td>Consumer price index</td>\n",
       "      <td>92</td>\n",
       "      <td></td>\n",
       "      <td>4.8.</td>\n",
       "      <td>Population with money income below the subsis...</td>\n",
       "      <td>241</td>\n",
       "      <td></td>\n",
       "    </tr>\n",
       "    <tr>\n",
       "      <th>18</th>\n",
       "      <td>2</td>\n",
       "      <td>Finances</td>\n",
       "      <td>100</td>\n",
       "      <td></td>\n",
       "      <td></td>\n",
       "      <td></td>\n",
       "      <td></td>\n",
       "      <td>NaN</td>\n",
       "    </tr>\n",
       "    <tr>\n",
       "      <th>19</th>\n",
       "      <td>2.1.</td>\n",
       "      <td>Revenues and expenditures</td>\n",
       "      <td>100</td>\n",
       "      <td></td>\n",
       "      <td></td>\n",
       "      <td></td>\n",
       "      <td></td>\n",
       "      <td></td>\n",
       "    </tr>\n",
       "    <tr>\n",
       "      <th>20</th>\n",
       "      <td>2.2.</td>\n",
       "      <td>Net financial result by economic activity</td>\n",
       "      <td>136</td>\n",
       "      <td></td>\n",
       "      <td></td>\n",
       "      <td></td>\n",
       "      <td></td>\n",
       "      <td></td>\n",
       "    </tr>\n",
       "    <tr>\n",
       "      <th>21</th>\n",
       "      <td>2.3.</td>\n",
       "      <td>Credits, deposits and other allocated funds, ...</td>\n",
       "      <td>143</td>\n",
       "      <td></td>\n",
       "      <td></td>\n",
       "      <td></td>\n",
       "      <td></td>\n",
       "      <td></td>\n",
       "    </tr>\n",
       "    <tr>\n",
       "      <th>22</th>\n",
       "      <td>2.4.</td>\n",
       "      <td>Indebtedness of organizations</td>\n",
       "      <td>148</td>\n",
       "      <td></td>\n",
       "      <td></td>\n",
       "      <td></td>\n",
       "      <td></td>\n",
       "      <td></td>\n",
       "    </tr>\n",
       "    <tr>\n",
       "      <th>23</th>\n",
       "      <td>2.5.</td>\n",
       "      <td>Overdue arrears of wages</td>\n",
       "      <td>160</td>\n",
       "      <td></td>\n",
       "      <td></td>\n",
       "      <td></td>\n",
       "      <td></td>\n",
       "      <td></td>\n",
       "    </tr>\n",
       "  </tbody>\n",
       "</table>\n",
       "</div>"
      ],
      "text/plain": [
       "         0                                                  1             2 3  \\\n",
       "0                                                              THE CONTENTS     \n",
       "1                                                                        p.     \n",
       "2        1                              Aggregated indicators             4     \n",
       "3     1.1.                             Gross domestic product             4     \n",
       "4     1.2.                        Industrial production index             6     \n",
       "5     1.3.   Agricultural production index at  enterprises...            11     \n",
       "6     1.4.  Production of animal husbandry products at ent...            12     \n",
       "7     1.5.   Freight turnover of transport, including comm...            18     \n",
       "8     1.6.                       Investments in fixed capital            27     \n",
       "9   1.6.1.   Investments in fixed capital of organizations...            31     \n",
       "10    1.7.           Volume of works in construction activity            36     \n",
       "11    1.8.  Residential buildings commissioned by organiza...            39     \n",
       "12    1.9.                             Foreign trade turnover            42     \n",
       "13   1.10.       Official exchange rate of foreign currencies            69     \n",
       "14   1.11.        Deficit (-), surplus of consolidated budget            71     \n",
       "15   1.12.                              Retail trade turnover            73     \n",
       "16   1.13.                          Volume of market services            88     \n",
       "17   1.14.                               Consumer price index            92     \n",
       "18       2                                           Finances           100     \n",
       "19    2.1.                          Revenues and expenditures           100     \n",
       "20    2.2.          Net financial result by economic activity           136     \n",
       "21    2.3.   Credits, deposits and other allocated funds, ...           143     \n",
       "22    2.4.                      Indebtedness of organizations           148     \n",
       "23    2.5.                          Overdue arrears of wages            160     \n",
       "\n",
       "         4                                                  5    6    7  \n",
       "0                                                                        \n",
       "1                                                               p.       \n",
       "2        3                                             Prices  163       \n",
       "3     3.1.           Producer price index of industrial goods  163       \n",
       "4   3.1.1.   Average producer prices for energy resources ...  166       \n",
       "5     3.2.   Producer price indices of animal husbandry pr...  178       \n",
       "6     3.3.   Aggregated price index for investment  produc...  187       \n",
       "7     3.4.                      Freight producer price  index  189       \n",
       "8     3.5.                               Consumer price index  190       \n",
       "9        4                                       Social field  195       \n",
       "10    4.1.                                         Employment  195       \n",
       "11    4.2.                                              Wages  206       \n",
       "12    4.3.                                           Pensions  211       \n",
       "13    4.4.                     Money income of the population  217       \n",
       "14    4.5.  Deposits and other raised funds of private per...  229       \n",
       "15    4.6.    Population in Russia by per capita money income  234       \n",
       "16    4.7.     Average per capita monthly subsistence minimum  235       \n",
       "17    4.8.   Population with money income below the subsis...  241       \n",
       "18                                                                  NaN  \n",
       "19                                                                       \n",
       "20                                                                       \n",
       "21                                                                       \n",
       "22                                                                       \n",
       "23                                                                       "
      ]
     },
     "execution_count": 90,
     "metadata": {},
     "output_type": "execute_result"
    }
   ],
   "source": [
    "raw_data_contents"
   ]
  },
  {
   "cell_type": "code",
   "execution_count": null,
   "metadata": {},
   "outputs": [],
   "source": []
  },
  {
   "cell_type": "markdown",
   "metadata": {},
   "source": [
    "### Employment\n",
    "\n",
    "Excel sheet 4.1"
   ]
  },
  {
   "cell_type": "code",
   "execution_count": 91,
   "metadata": {},
   "outputs": [],
   "source": [
    "raw_data = pd.read_excel('raw_data/' + dataset, header=None, sheet_name='4.1')"
   ]
  },
  {
   "cell_type": "code",
   "execution_count": 92,
   "metadata": {},
   "outputs": [
    {
     "data": {
      "text/html": [
       "<div>\n",
       "<style scoped>\n",
       "    .dataframe tbody tr th:only-of-type {\n",
       "        vertical-align: middle;\n",
       "    }\n",
       "\n",
       "    .dataframe tbody tr th {\n",
       "        vertical-align: top;\n",
       "    }\n",
       "\n",
       "    .dataframe thead th {\n",
       "        text-align: right;\n",
       "    }\n",
       "</style>\n",
       "<table border=\"1\" class=\"dataframe\">\n",
       "  <thead>\n",
       "    <tr style=\"text-align: right;\">\n",
       "      <th></th>\n",
       "      <th>0</th>\n",
       "      <th>1</th>\n",
       "      <th>2</th>\n",
       "      <th>3</th>\n",
       "      <th>4</th>\n",
       "      <th>5</th>\n",
       "      <th>6</th>\n",
       "      <th>7</th>\n",
       "      <th>8</th>\n",
       "      <th>9</th>\n",
       "      <th>10</th>\n",
       "      <th>11</th>\n",
       "      <th>12</th>\n",
       "      <th>13</th>\n",
       "      <th>14</th>\n",
       "      <th>15</th>\n",
       "      <th>16</th>\n",
       "      <th>17</th>\n",
       "    </tr>\n",
       "  </thead>\n",
       "  <tbody>\n",
       "    <tr>\n",
       "      <th>0</th>\n",
       "      <td>NaN</td>\n",
       "      <td>Год1)</td>\n",
       "      <td>Кварталы1) / Quarters1)</td>\n",
       "      <td>NaN</td>\n",
       "      <td>NaN</td>\n",
       "      <td>NaN</td>\n",
       "      <td>Янв.</td>\n",
       "      <td>Фев.</td>\n",
       "      <td>Март</td>\n",
       "      <td>Апр.</td>\n",
       "      <td>Май</td>\n",
       "      <td>Июнь</td>\n",
       "      <td>Июль</td>\n",
       "      <td>Август</td>\n",
       "      <td>Сент.</td>\n",
       "      <td>Окт.</td>\n",
       "      <td>Нояб.</td>\n",
       "      <td>Дек.</td>\n",
       "    </tr>\n",
       "    <tr>\n",
       "      <th>1</th>\n",
       "      <td>NaN</td>\n",
       "      <td>Year1)</td>\n",
       "      <td>I</td>\n",
       "      <td>II</td>\n",
       "      <td>III</td>\n",
       "      <td>IV</td>\n",
       "      <td>Jan.</td>\n",
       "      <td>Feb.</td>\n",
       "      <td>Mar.</td>\n",
       "      <td>Apr.</td>\n",
       "      <td>May</td>\n",
       "      <td>June</td>\n",
       "      <td>July</td>\n",
       "      <td>Aug.</td>\n",
       "      <td>Sept.</td>\n",
       "      <td>Oct.</td>\n",
       "      <td>Nov.</td>\n",
       "      <td>Dec.</td>\n",
       "    </tr>\n",
       "    <tr>\n",
       "      <th>2</th>\n",
       "      <td>4. Социальная сфера</td>\n",
       "      <td>NaN</td>\n",
       "      <td>NaN</td>\n",
       "      <td>NaN</td>\n",
       "      <td>NaN</td>\n",
       "      <td>NaN</td>\n",
       "      <td>NaN</td>\n",
       "      <td>NaN</td>\n",
       "      <td>NaN</td>\n",
       "      <td>NaN</td>\n",
       "      <td>NaN</td>\n",
       "      <td>NaN</td>\n",
       "      <td>NaN</td>\n",
       "      <td>NaN</td>\n",
       "      <td>NaN</td>\n",
       "      <td>NaN</td>\n",
       "      <td>NaN</td>\n",
       "      <td>NaN</td>\n",
       "    </tr>\n",
       "    <tr>\n",
       "      <th>3</th>\n",
       "      <td>/ Social field</td>\n",
       "      <td>NaN</td>\n",
       "      <td>NaN</td>\n",
       "      <td>NaN</td>\n",
       "      <td>NaN</td>\n",
       "      <td>NaN</td>\n",
       "      <td>NaN</td>\n",
       "      <td>NaN</td>\n",
       "      <td>NaN</td>\n",
       "      <td>NaN</td>\n",
       "      <td>NaN</td>\n",
       "      <td>NaN</td>\n",
       "      <td>NaN</td>\n",
       "      <td>NaN</td>\n",
       "      <td>NaN</td>\n",
       "      <td>NaN</td>\n",
       "      <td>NaN</td>\n",
       "      <td>NaN</td>\n",
       "    </tr>\n",
       "    <tr>\n",
       "      <th>4</th>\n",
       "      <td>4.1. Занятость населения</td>\n",
       "      <td>NaN</td>\n",
       "      <td>NaN</td>\n",
       "      <td>NaN</td>\n",
       "      <td>NaN</td>\n",
       "      <td>NaN</td>\n",
       "      <td>NaN</td>\n",
       "      <td>NaN</td>\n",
       "      <td>NaN</td>\n",
       "      <td>NaN</td>\n",
       "      <td>NaN</td>\n",
       "      <td>NaN</td>\n",
       "      <td>NaN</td>\n",
       "      <td>NaN</td>\n",
       "      <td>NaN</td>\n",
       "      <td>NaN</td>\n",
       "      <td>NaN</td>\n",
       "      <td>NaN</td>\n",
       "    </tr>\n",
       "    <tr>\n",
       "      <th>...</th>\n",
       "      <td>...</td>\n",
       "      <td>...</td>\n",
       "      <td>...</td>\n",
       "      <td>...</td>\n",
       "      <td>...</td>\n",
       "      <td>...</td>\n",
       "      <td>...</td>\n",
       "      <td>...</td>\n",
       "      <td>...</td>\n",
       "      <td>...</td>\n",
       "      <td>...</td>\n",
       "      <td>...</td>\n",
       "      <td>...</td>\n",
       "      <td>...</td>\n",
       "      <td>...</td>\n",
       "      <td>...</td>\n",
       "      <td>...</td>\n",
       "      <td>...</td>\n",
       "    </tr>\n",
       "    <tr>\n",
       "      <th>300</th>\n",
       "      <td>/ In order to insure the statistical comparab...</td>\n",
       "      <td>NaN</td>\n",
       "      <td>NaN</td>\n",
       "      <td>NaN</td>\n",
       "      <td>NaN</td>\n",
       "      <td>NaN</td>\n",
       "      <td>NaN</td>\n",
       "      <td>NaN</td>\n",
       "      <td>NaN</td>\n",
       "      <td>NaN</td>\n",
       "      <td>NaN</td>\n",
       "      <td>NaN</td>\n",
       "      <td>NaN</td>\n",
       "      <td>NaN</td>\n",
       "      <td>NaN</td>\n",
       "      <td>NaN</td>\n",
       "      <td>NaN</td>\n",
       "      <td>NaN</td>\n",
       "    </tr>\n",
       "    <tr>\n",
       "      <th>301</th>\n",
       "      <td>6) С января 2017 г. обследуется население в во...</td>\n",
       "      <td>NaN</td>\n",
       "      <td>NaN</td>\n",
       "      <td>NaN</td>\n",
       "      <td>NaN</td>\n",
       "      <td>NaN</td>\n",
       "      <td>NaN</td>\n",
       "      <td>NaN</td>\n",
       "      <td>NaN</td>\n",
       "      <td>NaN</td>\n",
       "      <td>NaN</td>\n",
       "      <td>NaN</td>\n",
       "      <td>NaN</td>\n",
       "      <td>NaN</td>\n",
       "      <td>NaN</td>\n",
       "      <td>NaN</td>\n",
       "      <td>NaN</td>\n",
       "      <td>NaN</td>\n",
       "    </tr>\n",
       "    <tr>\n",
       "      <th>302</th>\n",
       "      <td>/ Since January 2017 the population aged 15 ye...</td>\n",
       "      <td>NaN</td>\n",
       "      <td>NaN</td>\n",
       "      <td>NaN</td>\n",
       "      <td>NaN</td>\n",
       "      <td>NaN</td>\n",
       "      <td>NaN</td>\n",
       "      <td>NaN</td>\n",
       "      <td>NaN</td>\n",
       "      <td>NaN</td>\n",
       "      <td>NaN</td>\n",
       "      <td>NaN</td>\n",
       "      <td>NaN</td>\n",
       "      <td>NaN</td>\n",
       "      <td>NaN</td>\n",
       "      <td>NaN</td>\n",
       "      <td>NaN</td>\n",
       "      <td>NaN</td>\n",
       "    </tr>\n",
       "    <tr>\n",
       "      <th>303</th>\n",
       "      <td>7) С  января 2002 г. – с учетом численности оф...</td>\n",
       "      <td>NaN</td>\n",
       "      <td>NaN</td>\n",
       "      <td>NaN</td>\n",
       "      <td>NaN</td>\n",
       "      <td>NaN</td>\n",
       "      <td>NaN</td>\n",
       "      <td>NaN</td>\n",
       "      <td>NaN</td>\n",
       "      <td>NaN</td>\n",
       "      <td>NaN</td>\n",
       "      <td>NaN</td>\n",
       "      <td>NaN</td>\n",
       "      <td>NaN</td>\n",
       "      <td>NaN</td>\n",
       "      <td>NaN</td>\n",
       "      <td>NaN</td>\n",
       "      <td>NaN</td>\n",
       "    </tr>\n",
       "    <tr>\n",
       "      <th>304</th>\n",
       "      <td>/ Since January 2002 data include number of un...</td>\n",
       "      <td>NaN</td>\n",
       "      <td>NaN</td>\n",
       "      <td>NaN</td>\n",
       "      <td>NaN</td>\n",
       "      <td>NaN</td>\n",
       "      <td>NaN</td>\n",
       "      <td>NaN</td>\n",
       "      <td>NaN</td>\n",
       "      <td>NaN</td>\n",
       "      <td>NaN</td>\n",
       "      <td>NaN</td>\n",
       "      <td>NaN</td>\n",
       "      <td>NaN</td>\n",
       "      <td>NaN</td>\n",
       "      <td>NaN</td>\n",
       "      <td>NaN</td>\n",
       "      <td>NaN</td>\n",
       "    </tr>\n",
       "  </tbody>\n",
       "</table>\n",
       "<p>305 rows × 18 columns</p>\n",
       "</div>"
      ],
      "text/plain": [
       "                                                    0       1   \\\n",
       "0                                                  NaN   Год1)   \n",
       "1                                                  NaN  Year1)   \n",
       "2                                 4. Социальная сфера      NaN   \n",
       "3                                       / Social field     NaN   \n",
       "4                             4.1. Занятость населения     NaN   \n",
       "..                                                 ...     ...   \n",
       "300   / In order to insure the statistical comparab...     NaN   \n",
       "301  6) С января 2017 г. обследуется население в во...     NaN   \n",
       "302  / Since January 2017 the population aged 15 ye...     NaN   \n",
       "303  7) С  января 2002 г. – с учетом численности оф...     NaN   \n",
       "304  / Since January 2002 data include number of un...     NaN   \n",
       "\n",
       "                          2    3    4    5     6     7     8     9    10  \\\n",
       "0    Кварталы1) / Quarters1)  NaN  NaN  NaN  Янв.  Фев.  Март  Апр.  Май   \n",
       "1                          I   II  III   IV  Jan.  Feb.  Mar.  Apr.  May   \n",
       "2                        NaN  NaN  NaN  NaN   NaN   NaN   NaN   NaN  NaN   \n",
       "3                        NaN  NaN  NaN  NaN   NaN   NaN   NaN   NaN  NaN   \n",
       "4                        NaN  NaN  NaN  NaN   NaN   NaN   NaN   NaN  NaN   \n",
       "..                       ...  ...  ...  ...   ...   ...   ...   ...  ...   \n",
       "300                      NaN  NaN  NaN  NaN   NaN   NaN   NaN   NaN  NaN   \n",
       "301                      NaN  NaN  NaN  NaN   NaN   NaN   NaN   NaN  NaN   \n",
       "302                      NaN  NaN  NaN  NaN   NaN   NaN   NaN   NaN  NaN   \n",
       "303                      NaN  NaN  NaN  NaN   NaN   NaN   NaN   NaN  NaN   \n",
       "304                      NaN  NaN  NaN  NaN   NaN   NaN   NaN   NaN  NaN   \n",
       "\n",
       "       11    12      13     14    15     16    17  \n",
       "0    Июнь  Июль  Август  Сент.  Окт.  Нояб.  Дек.  \n",
       "1    June  July    Aug.  Sept.  Oct.   Nov.  Dec.  \n",
       "2     NaN   NaN     NaN    NaN   NaN    NaN   NaN  \n",
       "3     NaN   NaN     NaN    NaN   NaN    NaN   NaN  \n",
       "4     NaN   NaN     NaN    NaN   NaN    NaN   NaN  \n",
       "..    ...   ...     ...    ...   ...    ...   ...  \n",
       "300   NaN   NaN     NaN    NaN   NaN    NaN   NaN  \n",
       "301   NaN   NaN     NaN    NaN   NaN    NaN   NaN  \n",
       "302   NaN   NaN     NaN    NaN   NaN    NaN   NaN  \n",
       "303   NaN   NaN     NaN    NaN   NaN    NaN   NaN  \n",
       "304   NaN   NaN     NaN    NaN   NaN    NaN   NaN  \n",
       "\n",
       "[305 rows x 18 columns]"
      ]
     },
     "execution_count": 92,
     "metadata": {},
     "output_type": "execute_result"
    }
   ],
   "source": [
    "raw_data"
   ]
  },
  {
   "cell_type": "markdown",
   "metadata": {},
   "source": [
    "---"
   ]
  },
  {
   "cell_type": "markdown",
   "metadata": {},
   "source": [
    "Manually cleaned series"
   ]
  },
  {
   "cell_type": "code",
   "execution_count": 168,
   "metadata": {},
   "outputs": [
    {
     "data": {
      "text/html": [
       "<div>\n",
       "<style scoped>\n",
       "    .dataframe tbody tr th:only-of-type {\n",
       "        vertical-align: middle;\n",
       "    }\n",
       "\n",
       "    .dataframe tbody tr th {\n",
       "        vertical-align: top;\n",
       "    }\n",
       "\n",
       "    .dataframe thead th {\n",
       "        text-align: right;\n",
       "    }\n",
       "</style>\n",
       "<table border=\"1\" class=\"dataframe\">\n",
       "  <thead>\n",
       "    <tr style=\"text-align: right;\">\n",
       "      <th></th>\n",
       "      <th>date</th>\n",
       "      <th>level_1</th>\n",
       "      <th>0</th>\n",
       "    </tr>\n",
       "  </thead>\n",
       "  <tbody>\n",
       "    <tr>\n",
       "      <th>0</th>\n",
       "      <td>1999</td>\n",
       "      <td>January</td>\n",
       "      <td>14.3</td>\n",
       "    </tr>\n",
       "    <tr>\n",
       "      <th>1</th>\n",
       "      <td>1999</td>\n",
       "      <td>February</td>\n",
       "      <td>14.6</td>\n",
       "    </tr>\n",
       "    <tr>\n",
       "      <th>2</th>\n",
       "      <td>1999</td>\n",
       "      <td>March</td>\n",
       "      <td>14.0</td>\n",
       "    </tr>\n",
       "  </tbody>\n",
       "</table>\n",
       "</div>"
      ],
      "text/plain": [
       "   date   level_1     0\n",
       "0  1999   January  14.3\n",
       "1  1999  February  14.6\n",
       "2  1999     March  14.0"
      ]
     },
     "execution_count": 168,
     "metadata": {},
     "output_type": "execute_result"
    }
   ],
   "source": [
    "## From manual clean\n",
    "raw_data = pd.read_csv('raw_data/unem.csv', index_col=0)\n",
    "df = raw_data.stack().reset_index()\n",
    "df.head(3)"
   ]
  },
  {
   "cell_type": "code",
   "execution_count": 169,
   "metadata": {},
   "outputs": [],
   "source": [
    "df['date'] = df['level_1'].astype(str) + ' ' + df['date'].astype(str)\n",
    "df = df.drop('level_1', axis=1)\n",
    "df.columns = ['date', 'value']\n",
    "df['date'] = pd.to_datetime(df['date'], format='%B %Y')\n",
    "\n",
    "# convert datetime to string so it exports to json in correct yyyy-mm-dd format\n",
    "df['date'] = df['date'].astype(str)"
   ]
  },
  {
   "cell_type": "code",
   "execution_count": 170,
   "metadata": {},
   "outputs": [],
   "source": [
    "# export to csv & json\n",
    "df.to_csv('data/unem.csv', index=False)\n",
    "df.to_json('data/unem.json', orient='records')"
   ]
  },
  {
   "cell_type": "markdown",
   "metadata": {},
   "source": [
    "notes: from 1999 until 2016, UE rate is 15-72 year olds. Post-2017, UE rate is 15+ years."
   ]
  },
  {
   "cell_type": "markdown",
   "metadata": {},
   "source": [
    "---"
   ]
  },
  {
   "cell_type": "markdown",
   "metadata": {},
   "source": [
    "##### Employed"
   ]
  },
  {
   "cell_type": "code",
   "execution_count": 171,
   "metadata": {},
   "outputs": [
    {
     "data": {
      "text/html": [
       "<div>\n",
       "<style scoped>\n",
       "    .dataframe tbody tr th:only-of-type {\n",
       "        vertical-align: middle;\n",
       "    }\n",
       "\n",
       "    .dataframe tbody tr th {\n",
       "        vertical-align: top;\n",
       "    }\n",
       "\n",
       "    .dataframe thead th {\n",
       "        text-align: right;\n",
       "    }\n",
       "</style>\n",
       "<table border=\"1\" class=\"dataframe\">\n",
       "  <thead>\n",
       "    <tr style=\"text-align: right;\">\n",
       "      <th></th>\n",
       "      <th>date</th>\n",
       "      <th>level_1</th>\n",
       "      <th>0</th>\n",
       "    </tr>\n",
       "  </thead>\n",
       "  <tbody>\n",
       "    <tr>\n",
       "      <th>0</th>\n",
       "      <td>1999</td>\n",
       "      <td>January</td>\n",
       "      <td>60.4</td>\n",
       "    </tr>\n",
       "    <tr>\n",
       "      <th>1</th>\n",
       "      <td>1999</td>\n",
       "      <td>February</td>\n",
       "      <td>61.1</td>\n",
       "    </tr>\n",
       "    <tr>\n",
       "      <th>2</th>\n",
       "      <td>1999</td>\n",
       "      <td>March</td>\n",
       "      <td>61.7</td>\n",
       "    </tr>\n",
       "  </tbody>\n",
       "</table>\n",
       "</div>"
      ],
      "text/plain": [
       "   date   level_1     0\n",
       "0  1999   January  60.4\n",
       "1  1999  February  61.1\n",
       "2  1999     March  61.7"
      ]
     },
     "execution_count": 171,
     "metadata": {},
     "output_type": "execute_result"
    }
   ],
   "source": [
    "## From manual clean\n",
    "raw_data = pd.read_csv('raw_data/empd.csv', index_col=0)\n",
    "df = raw_data.stack().reset_index()\n",
    "df.head(3)"
   ]
  },
  {
   "cell_type": "code",
   "execution_count": 172,
   "metadata": {},
   "outputs": [],
   "source": [
    "df['date'] = df['level_1'].astype(str) + ' ' + df['date'].astype(str)\n",
    "df = df.drop('level_1', axis=1)\n",
    "df.columns = ['date', 'value']\n",
    "df['date'] = pd.to_datetime(df['date'], format='%B %Y')\n",
    "# convert datetime to string so it exports to json in correct yyyy-mm-dd format\n",
    "df['date'] = df['date'].astype(str)\n",
    "\n",
    "# convert to millions\n",
    "df['value'] *= 1e6\n",
    "df['value'] = df['value'].astype(int)"
   ]
  },
  {
   "cell_type": "code",
   "execution_count": 173,
   "metadata": {},
   "outputs": [],
   "source": [
    "# export to csv & json\n",
    "df.to_csv('data/empd.csv', index=False)\n",
    "df.to_json('data/empd.json', orient='records')"
   ]
  },
  {
   "cell_type": "markdown",
   "metadata": {},
   "source": [
    "##### Unemployed"
   ]
  },
  {
   "cell_type": "code",
   "execution_count": 174,
   "metadata": {},
   "outputs": [
    {
     "data": {
      "text/html": [
       "<div>\n",
       "<style scoped>\n",
       "    .dataframe tbody tr th:only-of-type {\n",
       "        vertical-align: middle;\n",
       "    }\n",
       "\n",
       "    .dataframe tbody tr th {\n",
       "        vertical-align: top;\n",
       "    }\n",
       "\n",
       "    .dataframe thead th {\n",
       "        text-align: right;\n",
       "    }\n",
       "</style>\n",
       "<table border=\"1\" class=\"dataframe\">\n",
       "  <thead>\n",
       "    <tr style=\"text-align: right;\">\n",
       "      <th></th>\n",
       "      <th>date</th>\n",
       "      <th>level_1</th>\n",
       "      <th>0</th>\n",
       "    </tr>\n",
       "  </thead>\n",
       "  <tbody>\n",
       "    <tr>\n",
       "      <th>0</th>\n",
       "      <td>1999</td>\n",
       "      <td>January</td>\n",
       "      <td>2175.0</td>\n",
       "    </tr>\n",
       "    <tr>\n",
       "      <th>1</th>\n",
       "      <td>1999</td>\n",
       "      <td>February</td>\n",
       "      <td>2184.0</td>\n",
       "    </tr>\n",
       "    <tr>\n",
       "      <th>2</th>\n",
       "      <td>1999</td>\n",
       "      <td>March</td>\n",
       "      <td>2143.0</td>\n",
       "    </tr>\n",
       "  </tbody>\n",
       "</table>\n",
       "</div>"
      ],
      "text/plain": [
       "   date   level_1       0\n",
       "0  1999   January  2175.0\n",
       "1  1999  February  2184.0\n",
       "2  1999     March  2143.0"
      ]
     },
     "execution_count": 174,
     "metadata": {},
     "output_type": "execute_result"
    }
   ],
   "source": [
    "raw_data = pd.read_csv('raw_data/umpd.csv', index_col=0)\n",
    "df = raw_data.stack().reset_index()\n",
    "df.head(3)"
   ]
  },
  {
   "cell_type": "code",
   "execution_count": 175,
   "metadata": {},
   "outputs": [],
   "source": [
    "df['date'] = df['level_1'].astype(str) + ' ' + df['date'].astype(str)\n",
    "df = df.drop('level_1', axis=1)\n",
    "df.columns = ['date', 'value']\n",
    "df['date'] = pd.to_datetime(df['date'], format='%B %Y')\n",
    "# convert datetime to string so it exports to json in correct yyyy-mm-dd format\n",
    "df['date'] = df['date'].astype(str)\n",
    "\n",
    "# convert to millions\n",
    "df['value'] *= 1e6\n",
    "df['value'] = df['value'].astype(int)"
   ]
  },
  {
   "cell_type": "code",
   "execution_count": 176,
   "metadata": {},
   "outputs": [],
   "source": [
    "# export to csv & json\n",
    "df.to_csv('data/umpd.csv', index=False)\n",
    "df.to_json('data/umpd.json', orient='records')"
   ]
  },
  {
   "cell_type": "markdown",
   "metadata": {},
   "source": [
    "##### Inactive Population"
   ]
  },
  {
   "cell_type": "markdown",
   "metadata": {},
   "source": [
    "Number of citizens not engaged in labor activities, registered   with bodies of  state employment services   (data of the Federal Service for Labour and Employment), thousands person \t\t\t\t\t\t\t\t\t\t\t\t\t\t\t\t\t"
   ]
  },
  {
   "cell_type": "markdown",
   "metadata": {},
   "source": [
    "Unsure if this is just registered unemployed or all inactive population"
   ]
  },
  {
   "cell_type": "markdown",
   "metadata": {},
   "source": [
    "---"
   ]
  },
  {
   "cell_type": "markdown",
   "metadata": {},
   "source": [
    "#### Consumer Price Index"
   ]
  },
  {
   "cell_type": "code",
   "execution_count": 131,
   "metadata": {},
   "outputs": [],
   "source": [
    "raw_data = pd.read_excel('raw_data/ind_05-2023.xlsx', header=None, sheet_name='1.14')"
   ]
  },
  {
   "cell_type": "code",
   "execution_count": 177,
   "metadata": {},
   "outputs": [
    {
     "data": {
      "text/html": [
       "<div>\n",
       "<style scoped>\n",
       "    .dataframe tbody tr th:only-of-type {\n",
       "        vertical-align: middle;\n",
       "    }\n",
       "\n",
       "    .dataframe tbody tr th {\n",
       "        vertical-align: top;\n",
       "    }\n",
       "\n",
       "    .dataframe thead th {\n",
       "        text-align: right;\n",
       "    }\n",
       "</style>\n",
       "<table border=\"1\" class=\"dataframe\">\n",
       "  <thead>\n",
       "    <tr style=\"text-align: right;\">\n",
       "      <th></th>\n",
       "      <th>date</th>\n",
       "      <th>level_1</th>\n",
       "      <th>0</th>\n",
       "    </tr>\n",
       "  </thead>\n",
       "  <tbody>\n",
       "    <tr>\n",
       "      <th>0</th>\n",
       "      <td>1999</td>\n",
       "      <td>January</td>\n",
       "      <td>196.9</td>\n",
       "    </tr>\n",
       "    <tr>\n",
       "      <th>1</th>\n",
       "      <td>1999</td>\n",
       "      <td>February</td>\n",
       "      <td>203.3</td>\n",
       "    </tr>\n",
       "    <tr>\n",
       "      <th>2</th>\n",
       "      <td>1999</td>\n",
       "      <td>March</td>\n",
       "      <td>207.6</td>\n",
       "    </tr>\n",
       "  </tbody>\n",
       "</table>\n",
       "</div>"
      ],
      "text/plain": [
       "   date   level_1      0\n",
       "0  1999   January  196.9\n",
       "1  1999  February  203.3\n",
       "2  1999     March  207.6"
      ]
     },
     "execution_count": 177,
     "metadata": {},
     "output_type": "execute_result"
    }
   ],
   "source": [
    "# extracted manually\n",
    "raw_data = pd.read_csv('raw_data/infl.csv', index_col=0)\n",
    "df = raw_data.stack().reset_index()\n",
    "df.head(3)"
   ]
  },
  {
   "cell_type": "code",
   "execution_count": 178,
   "metadata": {},
   "outputs": [],
   "source": [
    "df['date'] = df['level_1'].astype(str) + ' ' + df['date'].astype(str)\n",
    "df = df.drop('level_1', axis=1)\n",
    "df.columns = ['date', 'value']\n",
    "df['date'] = pd.to_datetime(df['date'], format='%B %Y')\n",
    "# convert datetime to string so it exports to json in correct yyyy-mm-dd format\n",
    "df['date'] = df['date'].astype(str)\n",
    "# current an annualised monthly index, so -100 to get to annual inflation rate (%) for each month\n",
    "df['value'] -= 100"
   ]
  },
  {
   "cell_type": "code",
   "execution_count": 179,
   "metadata": {},
   "outputs": [
    {
     "data": {
      "text/html": [
       "<div>\n",
       "<style scoped>\n",
       "    .dataframe tbody tr th:only-of-type {\n",
       "        vertical-align: middle;\n",
       "    }\n",
       "\n",
       "    .dataframe tbody tr th {\n",
       "        vertical-align: top;\n",
       "    }\n",
       "\n",
       "    .dataframe thead th {\n",
       "        text-align: right;\n",
       "    }\n",
       "</style>\n",
       "<table border=\"1\" class=\"dataframe\">\n",
       "  <thead>\n",
       "    <tr style=\"text-align: right;\">\n",
       "      <th></th>\n",
       "      <th>date</th>\n",
       "      <th>value</th>\n",
       "    </tr>\n",
       "  </thead>\n",
       "  <tbody>\n",
       "    <tr>\n",
       "      <th>0</th>\n",
       "      <td>1999-01-01</td>\n",
       "      <td>96.9</td>\n",
       "    </tr>\n",
       "    <tr>\n",
       "      <th>1</th>\n",
       "      <td>1999-02-01</td>\n",
       "      <td>103.3</td>\n",
       "    </tr>\n",
       "    <tr>\n",
       "      <th>2</th>\n",
       "      <td>1999-03-01</td>\n",
       "      <td>107.6</td>\n",
       "    </tr>\n",
       "    <tr>\n",
       "      <th>3</th>\n",
       "      <td>1999-04-01</td>\n",
       "      <td>113.1</td>\n",
       "    </tr>\n",
       "    <tr>\n",
       "      <th>4</th>\n",
       "      <td>1999-05-01</td>\n",
       "      <td>116.7</td>\n",
       "    </tr>\n",
       "    <tr>\n",
       "      <th>...</th>\n",
       "      <td>...</td>\n",
       "      <td>...</td>\n",
       "    </tr>\n",
       "    <tr>\n",
       "      <th>288</th>\n",
       "      <td>2023-01-01</td>\n",
       "      <td>11.8</td>\n",
       "    </tr>\n",
       "    <tr>\n",
       "      <th>289</th>\n",
       "      <td>2023-02-01</td>\n",
       "      <td>11.0</td>\n",
       "    </tr>\n",
       "    <tr>\n",
       "      <th>290</th>\n",
       "      <td>2023-03-01</td>\n",
       "      <td>3.5</td>\n",
       "    </tr>\n",
       "    <tr>\n",
       "      <th>291</th>\n",
       "      <td>2023-04-01</td>\n",
       "      <td>2.3</td>\n",
       "    </tr>\n",
       "    <tr>\n",
       "      <th>292</th>\n",
       "      <td>2023-05-01</td>\n",
       "      <td>2.5</td>\n",
       "    </tr>\n",
       "  </tbody>\n",
       "</table>\n",
       "<p>293 rows × 2 columns</p>\n",
       "</div>"
      ],
      "text/plain": [
       "           date  value\n",
       "0    1999-01-01   96.9\n",
       "1    1999-02-01  103.3\n",
       "2    1999-03-01  107.6\n",
       "3    1999-04-01  113.1\n",
       "4    1999-05-01  116.7\n",
       "..          ...    ...\n",
       "288  2023-01-01   11.8\n",
       "289  2023-02-01   11.0\n",
       "290  2023-03-01    3.5\n",
       "291  2023-04-01    2.3\n",
       "292  2023-05-01    2.5\n",
       "\n",
       "[293 rows x 2 columns]"
      ]
     },
     "execution_count": 179,
     "metadata": {},
     "output_type": "execute_result"
    }
   ],
   "source": [
    "df"
   ]
  },
  {
   "cell_type": "code",
   "execution_count": 180,
   "metadata": {},
   "outputs": [],
   "source": [
    "# export to csv & json\n",
    "df.to_csv('data/infl.csv', index=False)\n",
    "df.to_json('data/infl.json', orient='records')"
   ]
  },
  {
   "cell_type": "markdown",
   "metadata": {},
   "source": [
    "---"
   ]
  },
  {
   "cell_type": "markdown",
   "metadata": {},
   "source": [
    "#### Imports"
   ]
  },
  {
   "cell_type": "markdown",
   "metadata": {},
   "source": [
    "Series, excel sheet 1.9, export of goods – total,bln US dollars"
   ]
  },
  {
   "cell_type": "code",
   "execution_count": 183,
   "metadata": {},
   "outputs": [
    {
     "data": {
      "text/html": [
       "<div>\n",
       "<style scoped>\n",
       "    .dataframe tbody tr th:only-of-type {\n",
       "        vertical-align: middle;\n",
       "    }\n",
       "\n",
       "    .dataframe tbody tr th {\n",
       "        vertical-align: top;\n",
       "    }\n",
       "\n",
       "    .dataframe thead th {\n",
       "        text-align: right;\n",
       "    }\n",
       "</style>\n",
       "<table border=\"1\" class=\"dataframe\">\n",
       "  <thead>\n",
       "    <tr style=\"text-align: right;\">\n",
       "      <th></th>\n",
       "      <th>date</th>\n",
       "      <th>level_1</th>\n",
       "      <th>0</th>\n",
       "    </tr>\n",
       "  </thead>\n",
       "  <tbody>\n",
       "    <tr>\n",
       "      <th>0</th>\n",
       "      <td>1999</td>\n",
       "      <td>January</td>\n",
       "      <td>2.7</td>\n",
       "    </tr>\n",
       "    <tr>\n",
       "      <th>1</th>\n",
       "      <td>1999</td>\n",
       "      <td>February</td>\n",
       "      <td>3.0</td>\n",
       "    </tr>\n",
       "    <tr>\n",
       "      <th>2</th>\n",
       "      <td>1999</td>\n",
       "      <td>March</td>\n",
       "      <td>3.5</td>\n",
       "    </tr>\n",
       "  </tbody>\n",
       "</table>\n",
       "</div>"
      ],
      "text/plain": [
       "   date   level_1    0\n",
       "0  1999   January  2.7\n",
       "1  1999  February  3.0\n",
       "2  1999     March  3.5"
      ]
     },
     "execution_count": 183,
     "metadata": {},
     "output_type": "execute_result"
    }
   ],
   "source": [
    "# extracted manually\n",
    "raw_data = pd.read_csv('raw_data/impo.csv', index_col=0)\n",
    "df = raw_data.stack().reset_index()\n",
    "df.head(3)"
   ]
  },
  {
   "cell_type": "code",
   "execution_count": 184,
   "metadata": {},
   "outputs": [],
   "source": [
    "df['date'] = df['level_1'].astype(str) + ' ' + df['date'].astype(str)\n",
    "df = df.drop('level_1', axis=1)\n",
    "df.columns = ['date', 'value']\n",
    "df['date'] = pd.to_datetime(df['date'], format='%B %Y')\n",
    "# convert datetime to string so it exports to json in correct yyyy-mm-dd format\n",
    "df['date'] = df['date'].astype(str)\n",
    "# currently in billions, convert to millions\n",
    "df['value'] *= 1e3"
   ]
  },
  {
   "cell_type": "code",
   "execution_count": 185,
   "metadata": {},
   "outputs": [],
   "source": [
    "# export to csv & json\n",
    "df.to_csv('data/impo.csv', index=False)\n",
    "df.to_json('data/impo.json', orient='records')"
   ]
  },
  {
   "cell_type": "markdown",
   "metadata": {},
   "source": [
    "##### Exports"
   ]
  },
  {
   "cell_type": "code",
   "execution_count": 186,
   "metadata": {},
   "outputs": [
    {
     "data": {
      "text/html": [
       "<div>\n",
       "<style scoped>\n",
       "    .dataframe tbody tr th:only-of-type {\n",
       "        vertical-align: middle;\n",
       "    }\n",
       "\n",
       "    .dataframe tbody tr th {\n",
       "        vertical-align: top;\n",
       "    }\n",
       "\n",
       "    .dataframe thead th {\n",
       "        text-align: right;\n",
       "    }\n",
       "</style>\n",
       "<table border=\"1\" class=\"dataframe\">\n",
       "  <thead>\n",
       "    <tr style=\"text-align: right;\">\n",
       "      <th></th>\n",
       "      <th>date</th>\n",
       "      <th>level_1</th>\n",
       "      <th>0</th>\n",
       "    </tr>\n",
       "  </thead>\n",
       "  <tbody>\n",
       "    <tr>\n",
       "      <th>0</th>\n",
       "      <td>1999</td>\n",
       "      <td>January</td>\n",
       "      <td>4.5</td>\n",
       "    </tr>\n",
       "    <tr>\n",
       "      <th>1</th>\n",
       "      <td>1999</td>\n",
       "      <td>February</td>\n",
       "      <td>4.9</td>\n",
       "    </tr>\n",
       "    <tr>\n",
       "      <th>2</th>\n",
       "      <td>1999</td>\n",
       "      <td>March</td>\n",
       "      <td>5.8</td>\n",
       "    </tr>\n",
       "  </tbody>\n",
       "</table>\n",
       "</div>"
      ],
      "text/plain": [
       "   date   level_1    0\n",
       "0  1999   January  4.5\n",
       "1  1999  February  4.9\n",
       "2  1999     March  5.8"
      ]
     },
     "execution_count": 186,
     "metadata": {},
     "output_type": "execute_result"
    }
   ],
   "source": [
    "# extracted manually\n",
    "raw_data = pd.read_csv('raw_data/expo.csv', index_col=0)\n",
    "df = raw_data.stack().reset_index()\n",
    "df.head(3)"
   ]
  },
  {
   "cell_type": "code",
   "execution_count": 187,
   "metadata": {},
   "outputs": [],
   "source": [
    "df['date'] = df['level_1'].astype(str) + ' ' + df['date'].astype(str)\n",
    "df = df.drop('level_1', axis=1)\n",
    "df.columns = ['date', 'value']\n",
    "df['date'] = pd.to_datetime(df['date'], format='%B %Y')\n",
    "# convert datetime to string so it exports to json in correct yyyy-mm-dd format\n",
    "df['date'] = df['date'].astype(str)\n",
    "# currently in billions, convert to millions\n",
    "df['value'] *= 1e3"
   ]
  },
  {
   "cell_type": "code",
   "execution_count": 188,
   "metadata": {},
   "outputs": [],
   "source": [
    "# export to csv & json\n",
    "df.to_csv('data/expo.csv', index=False)\n",
    "df.to_json('data/expo.json', orient='records')"
   ]
  },
  {
   "cell_type": "markdown",
   "metadata": {},
   "source": [
    "---"
   ]
  },
  {
   "cell_type": "markdown",
   "metadata": {},
   "source": [
    "#### Growth\n",
    "\n",
    "Excel sheet 1.1: / Volume index of produced GDP, percent of corresponding period of previous year"
   ]
  },
  {
   "cell_type": "code",
   "execution_count": 163,
   "metadata": {},
   "outputs": [
    {
     "data": {
      "text/html": [
       "<div>\n",
       "<style scoped>\n",
       "    .dataframe tbody tr th:only-of-type {\n",
       "        vertical-align: middle;\n",
       "    }\n",
       "\n",
       "    .dataframe tbody tr th {\n",
       "        vertical-align: top;\n",
       "    }\n",
       "\n",
       "    .dataframe thead th {\n",
       "        text-align: right;\n",
       "    }\n",
       "</style>\n",
       "<table border=\"1\" class=\"dataframe\">\n",
       "  <thead>\n",
       "    <tr style=\"text-align: right;\">\n",
       "      <th></th>\n",
       "      <th>date</th>\n",
       "      <th>level_1</th>\n",
       "      <th>0</th>\n",
       "    </tr>\n",
       "  </thead>\n",
       "  <tbody>\n",
       "    <tr>\n",
       "      <th>0</th>\n",
       "      <td>1999</td>\n",
       "      <td>Q1</td>\n",
       "      <td>98.2</td>\n",
       "    </tr>\n",
       "    <tr>\n",
       "      <th>1</th>\n",
       "      <td>1999</td>\n",
       "      <td>Q2</td>\n",
       "      <td>103.2</td>\n",
       "    </tr>\n",
       "    <tr>\n",
       "      <th>2</th>\n",
       "      <td>1999</td>\n",
       "      <td>Q3</td>\n",
       "      <td>111.5</td>\n",
       "    </tr>\n",
       "  </tbody>\n",
       "</table>\n",
       "</div>"
      ],
      "text/plain": [
       "   date level_1      0\n",
       "0  1999      Q1   98.2\n",
       "1  1999      Q2  103.2\n",
       "2  1999      Q3  111.5"
      ]
     },
     "execution_count": 163,
     "metadata": {},
     "output_type": "execute_result"
    }
   ],
   "source": [
    "# extracted manually\n",
    "raw_data = pd.read_csv('raw_data/grow.csv', index_col=0)\n",
    "df = raw_data.stack().reset_index()\n",
    "df.head(3)"
   ]
  },
  {
   "cell_type": "code",
   "execution_count": 164,
   "metadata": {},
   "outputs": [],
   "source": [
    "# combine text in columns 0 and 1\n",
    "df['date'] = df['date'].astype(str) + '-' + df['level_1'].astype(str)\n",
    "df = df.drop('level_1', axis=1)\n",
    "df.columns = ['date', 'value']\n",
    "\n",
    "df['value'] -= 100\n",
    "df['value'] = round(df['value'],2)"
   ]
  },
  {
   "cell_type": "code",
   "execution_count": 165,
   "metadata": {},
   "outputs": [
    {
     "name": "stderr",
     "output_type": "stream",
     "text": [
      "/var/folders/6p/njxvnljx3b36_1d566nq5mjh0000gn/T/ipykernel_55656/1091625229.py:1: UserWarning: Could not infer format, so each element will be parsed individually, falling back to `dateutil`. To ensure parsing is consistent and as-expected, please specify a format.\n",
      "  df['date'] = pd.to_datetime(df['date'].str.replace(r'(Q\\d) (\\d+)', r'\\2-\\1'), errors='coerce')\n"
     ]
    }
   ],
   "source": [
    "df['date'] = pd.to_datetime(df['date'].str.replace(r'(Q\\d) (\\d+)', r'\\2-\\1'), errors='coerce')\n",
    "\n",
    "# convert datetime to string so it exports to json in correct yyyy-mm-dd format\n",
    "df['date'] = df['date'].astype(str)"
   ]
  },
  {
   "cell_type": "code",
   "execution_count": 167,
   "metadata": {},
   "outputs": [],
   "source": [
    "# export to csv & json\n",
    "df.to_csv('data/grow.csv', index=False)\n",
    "df.to_json('data/grow.json', orient='records')"
   ]
  }
 ],
 "metadata": {
  "kernelspec": {
   "display_name": "web_scrape",
   "language": "python",
   "name": "python3"
  },
  "language_info": {
   "codemirror_mode": {
    "name": "ipython",
    "version": 3
   },
   "file_extension": ".py",
   "mimetype": "text/x-python",
   "name": "python",
   "nbconvert_exporter": "python",
   "pygments_lexer": "ipython3",
   "version": "3.10.8"
  },
  "orig_nbformat": 4
 },
 "nbformat": 4,
 "nbformat_minor": 2
}
